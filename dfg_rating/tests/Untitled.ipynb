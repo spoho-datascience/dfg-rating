{
 "cells": [
  {
   "cell_type": "code",
   "execution_count": 3,
   "id": "06881a66",
   "metadata": {},
   "outputs": [],
   "source": [
    "from dfg_rating.model.evaluators.accuracy import ForecastError\n",
    "\n",
    "f = ForecastError(outcomes=[\"home\", \"draw\", \"away\"])"
   ]
  },
  {
   "cell_type": "code",
   "execution_count": 4,
   "id": "9a0ac840",
   "metadata": {},
   "outputs": [
    {
     "data": {
      "text/plain": [
       "0.024999999999999988"
      ]
     },
     "execution_count": 4,
     "metadata": {},
     "output_type": "execute_result"
    }
   ],
   "source": [
    "f._compute(observed=[0.5,0.3,0.2], model=[0.7,0.2,0.1])"
   ]
  },
  {
   "cell_type": "code",
   "execution_count": 18,
   "id": "5e05d600",
   "metadata": {},
   "outputs": [
    {
     "data": {
      "text/plain": [
       "0.145"
      ]
     },
     "execution_count": 18,
     "metadata": {},
     "output_type": "execute_result"
    }
   ],
   "source": [
    "f._compute(observed=[0.0,1.0,0.0], model=[0.5,0.3,0.2])"
   ]
  },
  {
   "cell_type": "code",
   "execution_count": 8,
   "id": "3226880b",
   "metadata": {},
   "outputs": [
    {
     "name": "stdout",
     "output_type": "stream",
     "text": [
      "0.22999999999999998\n"
     ]
    }
   ],
   "source": [
    "probabilities = [0.7,0.2,0.1]\n",
    "true_probabilities = [0.5,0.3,0.2]\n",
    "evaluation_score = 0.0\n",
    "for i in range(3):\n",
    "    observed_model = [0.0] * 3\n",
    "    observed_model[i] = 1.0\n",
    "    evaluation_score += true_probabilities[i] * f._compute(observed=observed_model, model=probabilities)\n",
    "print(evaluation_score)"
   ]
  },
  {
   "cell_type": "code",
   "execution_count": 21,
   "id": "39d787a6",
   "metadata": {},
   "outputs": [
    {
     "data": {
      "text/plain": [
       "0.20500000000000002"
      ]
     },
     "execution_count": 21,
     "metadata": {},
     "output_type": "execute_result"
    }
   ],
   "source": [
    "(.5 * .145) + (.3 * .145) + (.2 * .445)"
   ]
  },
  {
   "cell_type": "code",
   "execution_count": 32,
   "id": "d5798faf",
   "metadata": {},
   "outputs": [
    {
     "data": {
      "text/plain": [
       "36029700"
      ]
     },
     "execution_count": 32,
     "metadata": {},
     "output_type": "execute_result"
    }
   ],
   "source": [
    "(2451 * 2450 * 2 * 3)"
   ]
  },
  {
   "cell_type": "code",
   "execution_count": 28,
   "id": "d4afff21",
   "metadata": {},
   "outputs": [
    {
     "data": {
      "text/plain": [
       "452.6344221105528"
      ]
     },
     "execution_count": 28,
     "metadata": {},
     "output_type": "execute_result"
    }
   ],
   "source": [
    "150.8781407035176 * 3"
   ]
  },
  {
   "cell_type": "code",
   "execution_count": 34,
   "id": "15638838",
   "metadata": {},
   "outputs": [
    {
     "data": {
      "text/plain": [
       "452.2613065326633"
      ]
     },
     "execution_count": 34,
     "metadata": {},
     "output_type": "execute_result"
    }
   ],
   "source": [
    "n = 200\n",
    "days_between = 36000000 / (n * (n -1) * 2)\n",
    "days_between"
   ]
  },
  {
   "cell_type": "code",
   "execution_count": 31,
   "id": "c01f7eb7",
   "metadata": {},
   "outputs": [
    {
     "data": {
      "text/plain": [
       "2.9975270401918417"
      ]
     },
     "execution_count": 31,
     "metadata": {},
     "output_type": "execute_result"
    }
   ],
   "source": [
    "days_between"
   ]
  },
  {
   "cell_type": "code",
   "execution_count": null,
   "id": "4754b503",
   "metadata": {},
   "outputs": [],
   "source": []
  }
 ],
 "metadata": {
  "kernelspec": {
   "display_name": "Python 3",
   "language": "python",
   "name": "python3"
  },
  "language_info": {
   "codemirror_mode": {
    "name": "ipython",
    "version": 3
   },
   "file_extension": ".py",
   "mimetype": "text/x-python",
   "name": "python",
   "nbconvert_exporter": "python",
   "pygments_lexer": "ipython3",
   "version": "3.6.10"
  }
 },
 "nbformat": 4,
 "nbformat_minor": 5
}
