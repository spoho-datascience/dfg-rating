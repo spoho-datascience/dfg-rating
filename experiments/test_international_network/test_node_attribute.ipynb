{
 "cells": [
  {
   "cell_type": "code",
   "execution_count": 4,
   "metadata": {},
   "outputs": [],
   "source": [
    "import networkx as nx\n",
    "import random\n",
    "national_graph = nx.MultiDiGraph()\n",
    "teams_list = list(range(0,9))\n",
    "teams_list = ['c1_' + str(team) for team in teams_list]\n",
    "national_graph.add_nodes_from([t for t in teams_list])\n",
    "season=0\n",
    "for team_id in teams_list:\n",
    "    rating_values = random.randint(0, 10)\n",
    "    national_graph.nodes[team_id].setdefault('ratings',{}).setdefault('true_rating', {})[season] = rating_values\n",
    "    national_graph.nodes[team_id].setdefault('ratings', {}).setdefault('hyper_parameters', {}).setdefault('true_rating', {})[season] = 'hyer_param'\n",
    "\n",
    "international_network1 = nx.MultiDiGraph()\n",
    "for t in teams_list:\n",
    "    international_network1.add_node(t, **national_graph.nodes[t])\n",
    "international_network2 = nx.MultiDiGraph()\n",
    "for t in teams_list:\n",
    "    international_network2.add_node(t) # already have nodes, use update() function\n",
    "    international_network2.nodes[t].update(national_graph.nodes[t])"
   ]
  },
  {
   "cell_type": "code",
   "execution_count": 5,
   "metadata": {},
   "outputs": [
    {
     "name": "stdout",
     "output_type": "stream",
     "text": [
      "{'ratings': {'true_rating': {0: 0}, 'hyper_parameters': {'true_rating': {0: 'hyer_param'}}}}\n",
      "{'ratings': {'true_rating': {0: 0}, 'hyper_parameters': {'true_rating': {0: 'hyer_param'}}}}\n"
     ]
    }
   ],
   "source": [
    "print(international_network1.nodes['c1_0'])\n",
    "print(international_network2.nodes['c1_0'])"
   ]
  },
  {
   "cell_type": "code",
   "execution_count": 7,
   "metadata": {},
   "outputs": [
    {
     "name": "stdout",
     "output_type": "stream",
     "text": [
      "{'ratings': {'true_rating': {0: 0}, 'hyper_parameters': {'true_rating': {0: 'hyer_param'}, 'new_rating': {0: 'new_hyer_param'}}, 'new_rating': {0: 15}}}\n",
      "{'ratings': {'true_rating': {0: 0}, 'hyper_parameters': {'true_rating': {0: 'hyer_param'}, 'new_rating': {0: 'new_hyer_param'}}, 'new_rating': {0: 15}}}\n"
     ]
    }
   ],
   "source": [
    "for team_id in teams_list:\n",
    "    rating_values = random.randint(10, 20)\n",
    "    national_graph.nodes[team_id].setdefault('ratings',{}).setdefault('new_rating', {})[season] = rating_values\n",
    "    national_graph.nodes[team_id].setdefault('ratings', {}).setdefault('hyper_parameters', {}).setdefault('new_rating', {})[season] = 'new_hyer_param'\n",
    "\n",
    "print(international_network1.nodes['c1_0'])\n",
    "print(international_network2.nodes['c1_0'])"
   ]
  },
  {
   "cell_type": "markdown",
   "metadata": {},
   "source": [
    "Then you can export the network."
   ]
  },
  {
   "cell_type": "code",
   "execution_count": null,
   "metadata": {},
   "outputs": [],
   "source": [
    "test_network.export(ratings=['true_rating','ranking'],filename='test_InternationalLeague_network.csv')"
   ]
  }
 ],
 "metadata": {
  "kernelspec": {
   "display_name": "dfg-rating",
   "language": "python",
   "name": "python3"
  },
  "language_info": {
   "codemirror_mode": {
    "name": "ipython",
    "version": 3
   },
   "file_extension": ".py",
   "mimetype": "text/x-python",
   "name": "python",
   "nbconvert_exporter": "python",
   "pygments_lexer": "ipython3",
   "version": "3.8.19"
  }
 },
 "nbformat": 4,
 "nbformat_minor": 2
}
