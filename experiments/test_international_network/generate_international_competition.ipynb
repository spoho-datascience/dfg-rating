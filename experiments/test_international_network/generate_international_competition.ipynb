{
 "cells": [
  {
   "cell_type": "markdown",
   "metadata": {},
   "source": [
    "This is a guidance to generate a international competititon network, with n nations inside.\n",
    "The international competition is a two leg with prob.. The method will create all national network first and map it to a bigger graph.\n",
    "\n",
    "The international match will pick teams from each nation's first divition. So the pick team happens when the previous national league already finished. For instance, season 1 will have international competition, in which the teams was pick based on end of season 0's team points.\n",
    "First step, import the needed module"
   ]
  },
  {
   "cell_type": "code",
   "execution_count": 1,
   "metadata": {},
   "outputs": [],
   "source": [
    "from dfg_rating.model.network.international_network import CountryLeague, InternationalCompetition_Combine\n",
    "from dfg_rating.model.rating.controlled_trend_rating import ControlledRandomFunction, ControlledTrendRating\n",
    "from dfg_rating.model.forecast.true_forecast import LogFunctionForecast"
   ]
  },
  {
   "cell_type": "markdown",
   "metadata": {},
   "source": [
    "Then, you can give each nation's each division a rating trend. Each team in this division will follow this trend.\n",
    "Here just give an example to give one nation's rating trend."
   ]
  },
  {
   "cell_type": "code",
   "execution_count": 2,
   "metadata": {},
   "outputs": [],
   "source": [
    "rating_level1 = ControlledTrendRating(\n",
    "    starting_point=ControlledRandomFunction(distribution='normal', loc=800, scale=100),\n",
    "    delta=ControlledRandomFunction(distribution='normal', loc=0, scale=.5),\n",
    "    trend=ControlledRandomFunction(distribution='normal', loc=0, scale=.2),\n",
    "    season_delta=ControlledRandomFunction(distribution='normal', loc=0, scale=30),\n",
    "    rating_name='true_rating'\n",
    ")\n",
    "\n",
    "rating_level2 = ControlledTrendRating(\n",
    "    starting_point=ControlledRandomFunction(distribution='normal', loc=500, scale=50),\n",
    "    delta=ControlledRandomFunction(distribution='normal', loc=0, scale=.5),\n",
    "    trend=ControlledRandomFunction(distribution='normal', loc=0, scale=.2),\n",
    "    season_delta=ControlledRandomFunction(distribution='normal', loc=0, scale=30),\n",
    "    rating_name='true_rating'\n",
    ")\n",
    "\n",
    "rating_level3 = ControlledTrendRating(\n",
    "    starting_point=ControlledRandomFunction(distribution='normal', loc=200, scale=10),\n",
    "    delta=ControlledRandomFunction(distribution='normal', loc=0, scale=.5),\n",
    "    trend=ControlledRandomFunction(distribution='normal', loc=0, scale=.2),\n",
    "    season_delta=ControlledRandomFunction(distribution='normal', loc=0, scale=30),\n",
    "    rating_name='true_rating'\n",
    ")"
   ]
  },
  {
   "cell_type": "markdown",
   "metadata": {},
   "source": [
    "Then create a dictionary contains all countries' config.\n",
    "Here the example creates a international network with 3 nations.\n",
    "Here you don't need seasons, all nation's season will follow international network settings.\n",
    "All config here is for the national network."
   ]
  },
  {
   "cell_type": "code",
   "execution_count": null,
   "metadata": {},
   "outputs": [],
   "source": [
    "countries_config = {\n",
    "    0:{\n",
    "        'teams':8,\n",
    "        'level1_teams': 2,\n",
    "        'level2_teams': 2,\n",
    "        'level3_teams': 2,\n",
    "        'promotion_number': 1,\n",
    "        'prob_level1_level2': 0.05,\n",
    "        'prob_level1_level3': 0.05,\n",
    "        'prob_level2_level3': 0.05,\n",
    "        'rating_mode': 'keep',\n",
    "        'days_between_rounds': 7,\n",
    "        'true_rating_level1':rating_level1,\n",
    "        'true_rating_level2':rating_level2,\n",
    "        'true_rating_level3':rating_level3,\n",
    "    },\n",
    "    1:{\n",
    "        'teams':10,\n",
    "        'level1_teams': 2,\n",
    "        'level2_teams': 2,\n",
    "        'level3_teams': 2,\n",
    "        'promotion_number': 1,\n",
    "        'prob_level1_level2': 1.00,\n",
    "        'prob_level1_level3': 0.00,\n",
    "        'prob_level2_level3': 0.00,\n",
    "        'rating_mode': 'mix',\n",
    "        'days_between_rounds': 6\n",
    "    },\n",
    "    2:{\n",
    "        'teams':8,\n",
    "        'level1_teams': 2,\n",
    "        'level2_teams': 2,\n",
    "        'level3_teams': 2,\n",
    "        'promotion_number': 1,\n",
    "        'prob_level1_level2': 0.00,\n",
    "        'prob_level1_level3': 1.00,\n",
    "        'prob_level2_level3': 0.00,\n",
    "        'rating_mode': 'interchange',\n",
    "        'days_between_rounds': 8\n",
    "    }\n",
    "}\n"
   ]
  },
  {
   "cell_type": "markdown",
   "metadata": {},
   "source": [
    "Then, config how do you want the international match be:\n",
    "* teams_per_country: means how many teams you want choose to join the international competition from a nation\n",
    "* match_prob: prob to have the international competition between two choosen teams\n",
    "* seasons: controls total seasons in the whole system, including the national one\n",
    "* days_between_rounds: controls how many days between two international matches\n",
    "* choose_mode: either choose top 'teams_per_country' teams. Or use 'random' mode.\n",
    "* create_country_network: True means you want the international class create the national network inside. For now just support True mode.\n"
   ]
  },
  {
   "cell_type": "code",
   "execution_count": null,
   "metadata": {},
   "outputs": [],
   "source": [
    "test_network = InternationalCompetition_Combine(\n",
    "    countries_configs=countries_config,\n",
    "    teams_per_country=2,\n",
    "    match_prob=0.5,\n",
    "    seasons=3,\n",
    "    days_between_rounds=7,\n",
    "    choose_mode='top',\n",
    "    create_country_network=True,\n",
    ")"
   ]
  },
  {
   "cell_type": "markdown",
   "metadata": {},
   "source": [
    "Then you can export the network."
   ]
  },
  {
   "cell_type": "code",
   "execution_count": null,
   "metadata": {},
   "outputs": [],
   "source": [
    "test_network.export(ratings=['true_rating','ranking'],filename='test_InternationalLeague_network.csv')"
   ]
  }
 ],
 "metadata": {
  "kernelspec": {
   "display_name": "dfg-rating",
   "language": "python",
   "name": "python3"
  },
  "language_info": {
   "codemirror_mode": {
    "name": "ipython",
    "version": 3
   },
   "file_extension": ".py",
   "mimetype": "text/x-python",
   "name": "python",
   "nbconvert_exporter": "python",
   "pygments_lexer": "ipython3",
   "version": "3.8.19"
  }
 },
 "nbformat": 4,
 "nbformat_minor": 2
}
