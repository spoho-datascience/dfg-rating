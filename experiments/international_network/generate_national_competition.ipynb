{
 "cells": [
  {
   "cell_type": "markdown",
   "metadata": {},
   "source": [
    "This is a guidance to generate a national competititon network, with 3 division leagues and a national cup inside.\n",
    "The national league contains three double-round-robin leagues (with a small list of team not playing called 4-th league in the code) and national cup is default oneleg.\n",
    "Each division's matches will evenly distributed during a season (365 days)\n",
    "\n",
    "First step, import the needed module"
   ]
  },
  {
   "cell_type": "code",
   "execution_count": null,
   "metadata": {},
   "outputs": [],
   "source": [
    "from dfg_rating.model.network.international_network import CountryLeague\n",
    "from dfg_rating.model.rating.multi_mode_rating import ControlledRandomFunction, ControlledTrendRating\n",
    "from dfg_rating.model.forecast.true_forecast import LogFunctionForecast"
   ]
  },
  {
   "cell_type": "markdown",
   "metadata": {},
   "source": [
    "Then, give each division a rating trend. Each team in this division will follow this trend.\n",
    "\n",
    "Team's rating in season 0 day Y = starting_point + trend\\*delta\\*(Y-1)\n",
    "\n",
    "When the season ends, the rating will + season_delta\n",
    "\n",
    "In default, each division follows trends like this:\n",
    "\n",
    "* true_rating_level1, starting_point follows normal distribution with loc=1000, scale=50\n",
    "* true_rating_level2,starting_point follows normal distribution with loc=600, scale=50\n",
    "* true_rating_level3,starting_point follows normal distribution with loc=300, scale=50\n",
    "* delta follows normal distribution with loc=0, scale=.5\n",
    "* trend follows normal distribution with loc=0, scale=.2\n",
    "* season_delta follows normal distribution with loc=0, scale=30\n",
    "\n",
    "For those teams who does not belong to top-3 divisions, their rating is defaultly the same with the 3-rd one."
   ]
  },
  {
   "cell_type": "code",
   "execution_count": null,
   "metadata": {},
   "outputs": [],
   "source": [
    "rating_level1 = ControlledTrendRating(\n",
    "    starting_point=ControlledRandomFunction(distribution='normal', loc=800, scale=100),\n",
    "    delta=ControlledRandomFunction(distribution='normal', loc=0, scale=.5),\n",
    "    trend=ControlledRandomFunction(distribution='normal', loc=0, scale=.2),\n",
    "    season_delta=ControlledRandomFunction(distribution='normal', loc=0, scale=30),\n",
    "    rating_name='true_rating'\n",
    ")\n",
    "\n",
    "rating_level2 = ControlledTrendRating(\n",
    "    starting_point=ControlledRandomFunction(distribution='normal', loc=500, scale=50),\n",
    "    delta=ControlledRandomFunction(distribution='normal', loc=0, scale=.5),\n",
    "    trend=ControlledRandomFunction(distribution='normal', loc=0, scale=.2),\n",
    "    season_delta=ControlledRandomFunction(distribution='normal', loc=0, scale=30),\n",
    "    rating_name='true_rating'\n",
    ")\n",
    "\n",
    "rating_level3 = ControlledTrendRating(\n",
    "    starting_point=ControlledRandomFunction(distribution='normal', loc=200, scale=10),\n",
    "    delta=ControlledRandomFunction(distribution='normal', loc=0, scale=.5),\n",
    "    trend=ControlledRandomFunction(distribution='normal', loc=0, scale=.2),\n",
    "    season_delta=ControlledRandomFunction(distribution='normal', loc=0, scale=30),\n",
    "    rating_name='true_rating'\n",
    ")"
   ]
  },
  {
   "cell_type": "markdown",
   "metadata": {},
   "source": [
    "Then create the forecast method for the national network.\n",
    "\n",
    "This is a pre-trined logisticRegression for outcome predict. For each match, it will give the match result based on the ratings of two team."
   ]
  },
  {
   "cell_type": "code",
   "execution_count": null,
   "metadata": {},
   "outputs": [],
   "source": [
    "forecast_test = LogFunctionForecast(\n",
    "    outcomes=['home', 'draw', 'away'],\n",
    "    coefficients=[-0.9, 0.3],\n",
    "    beta_parameter=0.006\n",
    ")"
   ]
  },
  {
   "cell_type": "markdown",
   "metadata": {},
   "source": [
    "Then, config how do you want this network looks like:\n",
    "\n",
    "* teams: total team number of this network, contains those who doesn't in top-3 leagues, these extra teams should more than the promotion_number. This number should be even.\n",
    "* level\\*_teams: number of teams in division \\*, for division 2 and 3, the number should be more than twice of promotion_number to make sure that the team can be at least half promoted and half relegated. This number should be even.\n",
    "* promotion_number: number of temas gets promoted/relegated of each division.\n",
    "* seasons: controls how many seasons you want simulate\n",
    "* country_id: a unique id for each country, then the team id will be 'countryID_teamID'\n",
    "* rating_mode: choose from 'keep','mix' and 'interchange'. This controls how do you want the promoted/relegated team get their start rating at the beginning of season. \n",
    "\n",
    "  For example, team A, B, C are from division 1 with end-of-season rating 9, 10, 11. team X, Y, Z from division 2 with end-of-season rating 2, 4, 6. team A B relegated, team X Z promoted.\n",
    "  * For 'keep' mode: A, B, X, Z still keep their end-of-season rank and their original trends.\n",
    "  * For 'mix' mode: A, B will have rating + mean rating difference of two divisions. In this example, mean of division 1 is 10, mean rating of division 2 is 4. So A will get a 9-(10-4)=3, X will get a 2+(10-4)=8. And they will continue with new division's rating trends.\n",
    "  * For 'interchange' mode, the mean rating of promoted teams is mean(2+6)=3. Then A and B will get a new rating that keeps new_A:new_B = A:B, also the mean(new_A, new_B)=3, which is new_A = 3/(9+10)*9. And they will continue with new division's rating trends.\n",
    "Note: the new season's start rating will always + season_delta\n",
    "* min_match_per_team: controls the minimum match that every team have\n",
    "* avg_match_per_team: controls the average match number of a division.\n",
    "\n",
    "  For example: 20 teams in a division, min_match_per_team=2, avg_match_per_team=3, then the network will schedule the matches within this division has total=20\\*3 matches, and each team involved in at least 2 matches.\n",
    "\n"
   ]
  },
  {
   "cell_type": "code",
   "execution_count": null,
   "metadata": {},
   "outputs": [],
   "source": [
    "test_network = CountryLeague(\n",
    "    teams=16,\n",
    "    level1_teams=6,\n",
    "    level2_teams=4,\n",
    "    level3_teams=4,\n",
    "    promotion_number=1,\n",
    "    # prob_level1_level2=0.10,\n",
    "    # prob_level1_level3=0.05,\n",
    "    # prob_level2_level3=0.00,\n",
    "    true_rating_level1=rating_level1,\n",
    "    true_rating_level2=rating_level2,\n",
    "    true_rating_level3=rating_level3,\n",
    "    true_forecast=forecast_test,\n",
    "    seasons=3,\n",
    "    # days_between_rounds=7,\n",
    "    country_id='c1',\n",
    "    rating_mode='interchange',\n",
    "    min_match_per_team_level1_level2=1,\n",
    "    avg_match_per_team_level1_level2=4,\n",
    "    min_match_per_team_level2_level3=1,\n",
    "    avg_match_per_team_level2_level3=2,\n",
    "    min_match_per_team_level3_level1=1,\n",
    "    avg_match_per_team_level3_level1=3,\n",
    ")"
   ]
  },
  {
   "cell_type": "markdown",
   "metadata": {},
   "source": [
    "Then you can export the network."
   ]
  },
  {
   "cell_type": "code",
   "execution_count": null,
   "metadata": {},
   "outputs": [],
   "source": [
    "test_network.export(printing_ratings=['true_rating','ranking'],file_name='test_nationalLeague_network.csv')"
   ]
  }
 ],
 "metadata": {
  "language_info": {
   "name": "python"
  }
 },
 "nbformat": 4,
 "nbformat_minor": 2
}
