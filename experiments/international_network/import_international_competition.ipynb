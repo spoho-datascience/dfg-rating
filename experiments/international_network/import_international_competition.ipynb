{
 "cells": [
  {
   "cell_type": "markdown",
   "metadata": {},
   "source": [
    "This is a guidance to import the generated international csv into the WhiteNetwork"
   ]
  },
  {
   "cell_type": "code",
   "execution_count": null,
   "metadata": {},
   "outputs": [],
   "source": [
    "import os\n",
    "import pandas as pd\n",
    "from dfg_rating.model.network.base_network import WhiteNetwork\n",
    "from dfg_rating.model.forecast.true_forecast import LogFunctionForecast"
   ]
  },
  {
   "cell_type": "markdown",
   "metadata": {},
   "source": [
    "Read the csv"
   ]
  },
  {
   "cell_type": "code",
   "execution_count": null,
   "metadata": {},
   "outputs": [],
   "source": [
    "data = pd.read_csv('./test_InternationalLeague_network.csv')"
   ]
  },
  {
   "cell_type": "markdown",
   "metadata": {},
   "source": [
    "Define the mapping and read it to WhiteNetwork\n"
   ]
  },
  {
   "cell_type": "code",
   "execution_count": null,
   "metadata": {},
   "outputs": [],
   "source": [
    "international_network = WhiteNetwork(\n",
    "    data=data,\n",
    "    mapping={\n",
    "        \"node1\": {\n",
    "            \"id\": \"Away\",\n",
    "            \"name\": \"Away\",\n",
    "            \"ratings\": {\"true_rating\": \"true_rating#Away\",\n",
    "                        \"ranking\": \"ranking#Away\",\n",
    "                        \"elo_rating\": \"elo_rating#Away\"},\n",
    "        },\n",
    "        \"node2\": {\n",
    "            \"id\": \"Home\",\n",
    "            \"name\": \"Home\",\n",
    "            \"ratings\": {\"true_rating\": \"true_rating#Home\",\n",
    "                        \"ranking\": \"ranking#Home\",\n",
    "                        \"elo_rating\": \"elo_rating#Home\"},\n",
    "        },\n",
    "        \"day\": \"Day\",\n",
    "        \"dayIsTimestamp\": False,\n",
    "        \"season\": \"Season\",\n",
    "        \"result\": \"ResultFT\",\n",
    "        \"round\": \"Round\",\n",
    "        \"winner\": {\"result\":\"Result\",\n",
    "                   \"translation\": {\"home\": \"Home\", \"draw\": \"Draw\", \"away\": \"Away\"}},\n",
    "        \"odds\": {},\n",
    "        \"forecasts\": {},\n",
    "        \"odds\": {},\n",
    "        \"bets\": {}\n",
    "    }\n",
    ")\n",
    "\n",
    "international_network.print_data(schedule=True)"
   ]
  },
  {
   "cell_type": "markdown",
   "metadata": {},
   "source": [
    "Example of add elo rating:\n",
    "elo rating will sort all matches happened in the international network by match day, every new team initials 1000 points.\n",
    "This multi_mode_rating is special for the international network, since the round is not continuesly."
   ]
  },
  {
   "cell_type": "code",
   "execution_count": null,
   "metadata": {},
   "outputs": [],
   "source": [
    "from dfg_rating.model.rating.multi_mode_rating import ELORating\n",
    "elo_adding = ELORating(\n",
    "    rating_name='elo_rating_adding',\n",
    "    trained=True,\n",
    "    rating_mode='keep',\n",
    "    rating_mean=1000,\n",
    ")\n",
    "\n",
    "for s in international_network.get_seasons():\n",
    "    ratings, player_dict = elo_adding.get_all_ratings(international_network, season=s)\n",
    "    for t, t_i in player_dict.items():\n",
    "        international_network._add_rating_to_team(t, ratings[t_i], {}, 'elo_rating_adding', season=s)"
   ]
  },
  {
   "cell_type": "markdown",
   "metadata": {},
   "source": [
    "Then you can export the network.\n",
    "this export is really tricky since I don't wanna change the export function in the whitenetwork, so I just add another one to just add the new rating to the csv file."
   ]
  },
  {
   "cell_type": "code",
   "execution_count": null,
   "metadata": {},
   "outputs": [],
   "source": [
    "international_network.export_international(data, printing_ratings=['elo_rating_adding'],export_file_name='test_InternationalLeague_network_import.csv')"
   ]
  }
 ],
 "metadata": {
  "kernelspec": {
   "display_name": "dfg-rating",
   "language": "python",
   "name": "python3"
  },
  "language_info": {
   "codemirror_mode": {
    "name": "ipython",
    "version": 3
   },
   "file_extension": ".py",
   "mimetype": "text/x-python",
   "name": "python",
   "nbconvert_exporter": "python",
   "pygments_lexer": "ipython3",
   "version": "3.8.19"
  }
 },
 "nbformat": 4,
 "nbformat_minor": 2
}
