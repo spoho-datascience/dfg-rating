{
 "cells": [
  {
   "cell_type": "markdown",
   "metadata": {},
   "source": [
    "This is a guidance to generate a international competititon network from N national network.\n",
    "* the N national network were created by CountryLeague Class, see dfg_rating/experiments/test_international_network/generate_national_competition.ipynb\n",
    "* Then the international competition were scheduled between the teams choosen from all nations' 1st division teams by their pre-season's ranking (end-of-season points).\n",
    "* The schedule of the international matches was also controled by the logic of min_match_per_team and avg_match_per_team\n",
    "\n",
    "First step, import the needed module"
   ]
  },
  {
   "cell_type": "code",
   "execution_count": null,
   "metadata": {},
   "outputs": [],
   "source": [
    "from dfg_rating.model.network.international_network import CountryLeague, InternationalCompetition_Combine\n",
    "from dfg_rating.model.rating.multi_mode_rating import ControlledRandomFunction, ControlledTrendRating\n",
    "from dfg_rating.model.forecast.true_forecast import LogFunctionForecast"
   ]
  },
  {
   "cell_type": "markdown",
   "metadata": {},
   "source": [
    "Then, creating national networks as guideline: dfg_rating/experiments/test_international_network/generate_national_competition.ipynb\n",
    "- Note the country id should not be same. Keep seasons same.\n",
    "\n",
    "Here just create two national networks as example:"
   ]
  },
  {
   "cell_type": "code",
   "execution_count": null,
   "metadata": {},
   "outputs": [],
   "source": [
    "rating_level1 = ControlledTrendRating(\n",
    "    starting_point=ControlledRandomFunction(distribution='normal', loc=800, scale=100),\n",
    "    delta=ControlledRandomFunction(distribution='normal', loc=0, scale=.5),\n",
    "    trend=ControlledRandomFunction(distribution='normal', loc=0, scale=.2),\n",
    "    season_delta=ControlledRandomFunction(distribution='normal', loc=0, scale=30),\n",
    "    rating_name='true_rating'\n",
    ")\n",
    "\n",
    "rating_level2 = ControlledTrendRating(\n",
    "    starting_point=ControlledRandomFunction(distribution='normal', loc=500, scale=50),\n",
    "    delta=ControlledRandomFunction(distribution='normal', loc=0, scale=.5),\n",
    "    trend=ControlledRandomFunction(distribution='normal', loc=0, scale=.2),\n",
    "    season_delta=ControlledRandomFunction(distribution='normal', loc=0, scale=30),\n",
    "    rating_name='true_rating'\n",
    ")\n",
    "\n",
    "rating_level3 = ControlledTrendRating(\n",
    "    starting_point=ControlledRandomFunction(distribution='normal', loc=200, scale=10),\n",
    "    delta=ControlledRandomFunction(distribution='normal', loc=0, scale=.5),\n",
    "    trend=ControlledRandomFunction(distribution='normal', loc=0, scale=.2),\n",
    "    season_delta=ControlledRandomFunction(distribution='normal', loc=0, scale=30),\n",
    "    rating_name='true_rating'\n",
    ")\n",
    "\n",
    "forecast_test = LogFunctionForecast(\n",
    "    outcomes=['home', 'draw', 'away'],\n",
    "    coefficients=[-0.9, 0.3],\n",
    "    beta_parameter=0.006\n",
    ")\n",
    "\n",
    "test_network1 = CountryLeague(\n",
    "    teams=16,\n",
    "    level1_teams=6,\n",
    "    level2_teams=4,\n",
    "    level3_teams=4,\n",
    "    promotion_number=1,\n",
    "    true_rating_level1=rating_level1,\n",
    "    true_rating_level2=rating_level2,\n",
    "    true_rating_level3=rating_level3,\n",
    "    true_forecast=forecast_test,\n",
    "    seasons=3,\n",
    "    country_id='c1',\n",
    "    rating_mode='interchange',\n",
    "    min_match_per_team_level1_level2=1,\n",
    "    avg_match_per_team_level1_level2=4,\n",
    "    min_match_per_team_level2_level3=1,\n",
    "    avg_match_per_team_level2_level3=2,\n",
    "    min_match_per_team_level3_level1=1,\n",
    "    avg_match_per_team_level3_level1=3,\n",
    "    avg_match_per_team_level1_level1=0.4,\n",
    "    min_match_per_team_level2_level2=1,\n",
    "    avg_match_per_team_level2_level2=0.2,\n",
    "    min_match_per_team_level3_level3=1,\n",
    "    avg_match_per_team_level3_level3=0.3,\n",
    ")\n",
    "\n",
    "\n",
    "test_network2 = CountryLeague(\n",
    "    teams=14,\n",
    "    level1_teams=4,\n",
    "    level2_teams=4,\n",
    "    level3_teams=4,\n",
    "    promotion_number=1,\n",
    "    true_rating_level1=rating_level1,\n",
    "    true_rating_level2=rating_level2,\n",
    "    true_rating_level3=rating_level3,\n",
    "    true_forecast=forecast_test,\n",
    "    seasons=3,\n",
    "    country_id='c2',\n",
    "    rating_mode='interchange',\n",
    "    min_match_per_team_level1_level2=1,\n",
    "    avg_match_per_team_level1_level2=4,\n",
    "    min_match_per_team_level2_level3=1,\n",
    "    avg_match_per_team_level2_level3=2,\n",
    "    min_match_per_team_level3_level1=1,\n",
    "    avg_match_per_team_level3_level1=3,\n",
    ")"
   ]
  },
  {
   "cell_type": "markdown",
   "metadata": {},
   "source": [
    "Then call the InternationalCompetition_Combine class to shedule international competition from the national network we just created.\n",
    "* teams_per_country: means how many teams you want choose to join the international competition from a nation's 1st division\n",
    "* seasons, choose_mode, avg_match_per_team, min_match_per_team are same in the national network config\n",
    "* create_country_network: True means you want the international class create the national network inside. Default False.\n"
   ]
  },
  {
   "cell_type": "code",
   "execution_count": null,
   "metadata": {},
   "outputs": [],
   "source": [
    "test_network = InternationalCompetition_Combine(\n",
    "    countries_configs={'c1':test_network1, 'c2':test_network2},\n",
    "    teams_per_country=2,\n",
    "    seasons=3,\n",
    "    choose_mode='top',\n",
    "    create_country_network=False,\n",
    "    avg_match_per_team=3,\n",
    "    min_match_per_team=1,\n",
    ")"
   ]
  },
  {
   "cell_type": "markdown",
   "metadata": {},
   "source": [
    "Example of add elo rating:\n",
    "elo rating will sort all matches happened in the international network by match day, every new team initials 1000 points."
   ]
  },
  {
   "cell_type": "code",
   "execution_count": null,
   "metadata": {},
   "outputs": [],
   "source": [
    "from dfg_rating.model.rating.multi_mode_rating import ELORating\n",
    "elo_rating1 = ELORating(\n",
    "    rating_name='elo_rating',\n",
    "    trained=True,\n",
    "    rating_mode='keep',\n",
    "    rating_mean=1000,\n",
    ")\n",
    "test_network.add_rating(elo_rating1, 'elo_rating')"
   ]
  },
  {
   "cell_type": "markdown",
   "metadata": {},
   "source": [
    "Then you can export the network.\n",
    "The international network will export all League, national, and international matches."
   ]
  },
  {
   "cell_type": "code",
   "execution_count": null,
   "metadata": {},
   "outputs": [],
   "source": [
    "test_network.export(printing_ratings=['true_rating','ranking','elo_rating'],file_name='test_InternationalLeague_network.csv')\n",
    "test_network1.export(printing_ratings=['true_rating','ranking','elo_rating'],file_name='test_NationalLeague_network.csv')"
   ]
  }
 ],
 "metadata": {
  "kernelspec": {
   "display_name": "dfg-rating",
   "language": "python",
   "name": "python3"
  },
  "language_info": {
   "codemirror_mode": {
    "name": "ipython",
    "version": 3
   },
   "file_extension": ".py",
   "mimetype": "text/x-python",
   "name": "python",
   "nbconvert_exporter": "python",
   "pygments_lexer": "ipython3",
   "version": "3.8.19"
  }
 },
 "nbformat": 4,
 "nbformat_minor": 2
}
