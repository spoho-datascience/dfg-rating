{
 "cells": [
  {
   "cell_type": "code",
   "execution_count": 3,
   "id": "53e96785",
   "metadata": {},
   "outputs": [],
   "source": [
    "import os\n",
    "import pandas as pd\n",
    "\n",
    "from dfg_rating.model.network.base_network import WhiteNetwork\n",
    "from dfg_rating.model.network.multiple_network import LeagueNetwork\n",
    "from dfg_rating.model.network.simple_network import RoundRobinNetwork\n",
    "from dfg_rating.logic.controller import Controller\n",
    "\n",
    "from dfg_rating.model.rating.controlled_trend_rating import ControlledTrendRating, ControlledRandomFunction\n",
    "\n",
    "import dfg_rating.viz.jupyter_widgets as DFGWidgets"
   ]
  },
  {
   "cell_type": "code",
   "execution_count": null,
   "id": "33edccda",
   "metadata": {},
   "outputs": [],
   "source": [
    "tennis_real_network = WhiteNetwork(\n",
    "    data=pd.read_csv('/home/marc/Development/dshs/dfg-rating/data/real/ATP_Network_2010_2019.csv'),\n",
    "    mapping={\n",
    "        \"node1\": {\n",
    "            \"id\": \"WinnerID\",\n",
    "            \"name\": \"Winner\",\n",
    "            \"ratings\": {\n",
    "                \"rank\": \"WRank\",\n",
    "                \"Pts\": \"WPts\"\n",
    "            }\n",
    "        },\n",
    "        \"node2\": {\n",
    "            \"id\": \"LoserID\",\n",
    "            \"name\": \"Loser\",\n",
    "            \"ratings\": {\n",
    "                \"rank\": \"LRank\",\n",
    "                \"Pts\": \"LPts\"\n",
    "            }\n",
    "        },\n",
    "        \"day\": \"Date\",\n",
    "        \"dayIsTimestamp\": True,\n",
    "        \"round\": \"Round\",\n",
    "        \"season\": \"Year\",\n",
    "        \"forecasts\": {},\n",
    "        \"odds\": {\n",
    "            \"b365\": {\n",
    "                \"node1\": \"B365W\",\n",
    "                \"node2\": \"B365L\"\n",
    "            }\n",
    "        },\n",
    "        \"bets\": {}\n",
    "    }\n",
    ")"
   ]
  },
  {
   "cell_type": "code",
   "execution_count": 5,
   "id": "e25bf161",
   "metadata": {},
   "outputs": [
    {
     "name": "stdout",
     "output_type": "stream",
     "text": [
      "('PostgreSQL 12.8 (Ubuntu 12.8-0ubuntu0.20.04.1) on x86_64-pc-linux-gnu, compiled by gcc (Ubuntu 9.3.0-17ubuntu1~20.04) 9.3.0, 64-bit',)\n",
      "dfg_rating database exists. Loading database\n",
      "Total of 3060 matches.\n",
      "Total of 3060 forecasts.\n",
      "Total of 1278 ratings.\n",
      "Total of 0 odds.\n",
      "Total of 0 bets.\n",
      "Total of 0 metrics.\n"
     ]
    },
    {
     "name": "stderr",
     "output_type": "stream",
     "text": [
      "                                                    "
     ]
    },
    {
     "name": "stdout",
     "output_type": "stream",
     "text": [
      "['0', '9', '1', '10', '2', '11', '3', '12', '4', '13', '5', '14', '6', '15', '7', '16', '8', '17']\n"
     ]
    },
    {
     "name": "stderr",
     "output_type": "stream",
     "text": [
      "\r"
     ]
    },
    {
     "data": {
      "text/plain": [
       "(1, 'Network loaded correctly')"
      ]
     },
     "execution_count": 5,
     "metadata": {},
     "output_type": "execute_result"
    }
   ],
   "source": [
    "mc = Controller()\n",
    "mc.load_network_from_sql(\"economic_figure\")"
   ]
  },
  {
   "cell_type": "code",
   "execution_count": null,
   "id": "9b355b9e",
   "metadata": {},
   "outputs": [],
   "source": [
    "multiple_network = LeagueNetwork(\n",
    "    teams=18,\n",
    "    seasons=10,\n",
    "    league_teams=18,\n",
    "    league_promotion=0,\n",
    "    days_between_rounds=3,\n",
    "    create=True,\n",
    "    true_rating=ControlledTrendRating(\n",
    "        starting_point=ControlledRandomFunction(distribution='normal', loc=1000, scale=100),\n",
    "        delta=ControlledRandomFunction(distribution='normal', loc=0, scale=3),\n",
    "        trend=ControlledRandomFunction(distribution='normal', loc=0, scale=20/365),\n",
    "        season_delta=ControlledRandomFunction(distribution='normal', loc=0, scale=10)\n",
    "    )\n",
    ")"
   ]
  },
  {
   "cell_type": "code",
   "execution_count": 6,
   "id": "47bde08e",
   "metadata": {},
   "outputs": [],
   "source": [
    "multiple_network = mc.networks[\"economic_figure\"]"
   ]
  },
  {
   "cell_type": "code",
   "execution_count": null,
   "id": "159f3364",
   "metadata": {},
   "outputs": [],
   "source": [
    "rr_network = RoundRobinNetwork(\n",
    "    teams=6,\n",
    "    days_between_rounds=3\n",
    ")\n",
    "rr_network.create_data()"
   ]
  },
  {
   "cell_type": "code",
   "execution_count": 7,
   "id": "fd634959",
   "metadata": {},
   "outputs": [],
   "source": [
    "ratings_app = DFGWidgets.RatingsExplorer(network=multiple_network)"
   ]
  },
  {
   "cell_type": "code",
   "execution_count": null,
   "id": "66fbab3d",
   "metadata": {},
   "outputs": [],
   "source": [
    "network_explorer = DFGWidgets.NetworkExplorer(network=tennis_real_network, edge_props=['Tournament'])"
   ]
  },
  {
   "cell_type": "code",
   "execution_count": 8,
   "id": "8f87f9a3",
   "metadata": {},
   "outputs": [
    {
     "name": "stdout",
     "output_type": "stream",
     "text": [
      "Dash app running on http://127.0.0.1:8051/\n"
     ]
    }
   ],
   "source": [
    "# inline or external\n",
    "ratings_app.run('external', port=8051)"
   ]
  },
  {
   "cell_type": "code",
   "execution_count": null,
   "id": "3ffade1b",
   "metadata": {},
   "outputs": [],
   "source": [
    "from dfg_rating.logic.controller import Controller"
   ]
  },
  {
   "cell_type": "code",
   "execution_count": null,
   "id": "ff8dcbbb",
   "metadata": {},
   "outputs": [],
   "source": [
    "mc = Controller()\n",
    "mc.networks['economic_figure'] = multiple_network"
   ]
  },
  {
   "cell_type": "code",
   "execution_count": null,
   "id": "9db7f3fe",
   "metadata": {},
   "outputs": [],
   "source": [
    "mc.save_network(\"economic_figure\")"
   ]
  },
  {
   "cell_type": "code",
   "execution_count": null,
   "id": "a5dd372e",
   "metadata": {},
   "outputs": [],
   "source": []
  }
 ],
 "metadata": {
  "kernelspec": {
   "display_name": "Python 3",
   "language": "python",
   "name": "python3"
  },
  "language_info": {
   "codemirror_mode": {
    "name": "ipython",
    "version": 3
   },
   "file_extension": ".py",
   "mimetype": "text/x-python",
   "name": "python",
   "nbconvert_exporter": "python",
   "pygments_lexer": "ipython3",
   "version": "3.6.10"
  }
 },
 "nbformat": 4,
 "nbformat_minor": 5
}
