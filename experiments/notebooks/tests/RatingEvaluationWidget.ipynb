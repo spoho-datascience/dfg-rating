{
 "cells": [
  {
   "cell_type": "code",
   "execution_count": null,
   "id": "4b27dfe8",
   "metadata": {},
   "outputs": [],
   "source": [
    "from dfg_rating.model.network.multiple_network import LeagueNetwork\n",
    "\n",
    "import dfg_rating.viz.jupyter_widgets as DFGWidgets"
   ]
  },
  {
   "cell_type": "code",
   "execution_count": null,
   "id": "52177225",
   "metadata": {},
   "outputs": [],
   "source": [
    "multiple_network = LeagueNetwork(\n",
    "    teams=18,\n",
    "    seasons=7,\n",
    "    league_teams=18,\n",
    "    league_promotion=0,\n",
    "    days_between_rounds=3,\n",
    "    create=True\n",
    ")"
   ]
  },
  {
   "cell_type": "code",
   "execution_count": null,
   "id": "a300fd07",
   "metadata": {},
   "outputs": [],
   "source": [
    "ratings_app = DFGWidgets.RatingsEvaluation(network=multiple_network)"
   ]
  },
  {
   "cell_type": "code",
   "execution_count": null,
   "id": "c34aae62",
   "metadata": {},
   "outputs": [],
   "source": [
    "ratings_app.run('external')"
   ]
  },
  {
   "cell_type": "code",
   "execution_count": null,
   "id": "c22cb871",
   "metadata": {},
   "outputs": [],
   "source": []
  }
 ],
 "metadata": {
  "kernelspec": {
   "display_name": "Python 3",
   "language": "python",
   "name": "python3"
  },
  "language_info": {
   "codemirror_mode": {
    "name": "ipython",
    "version": 3
   },
   "file_extension": ".py",
   "mimetype": "text/x-python",
   "name": "python",
   "nbconvert_exporter": "python",
   "pygments_lexer": "ipython3",
   "version": "3.6.10"
  }
 },
 "nbformat": 4,
 "nbformat_minor": 5
}
