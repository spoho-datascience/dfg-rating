{
 "cells": [
  {
   "cell_type": "markdown",
   "id": "422b5728",
   "metadata": {},
   "source": [
    "# Import"
   ]
  },
  {
   "cell_type": "code",
   "execution_count": 1,
   "id": "51b09dbc",
   "metadata": {},
   "outputs": [],
   "source": [
    "import pandas as pd\n",
    "import numpy as np\n",
    "\n",
    "import dfg_rating.viz.jupyter_widgets as DFGWidgets\n",
    "from dfg_rating.model.network.base_network import BaseNetwork\n",
    "from dfg_rating.model.network.multiple_network import LeagueNetwork\n",
    "from dfg_rating.model.rating.controlled_trend_rating import ControlledTrendRating, ControlledRandomFunction\n",
    "from dfg_rating.model.rating.elo_rating import ELORating\n",
    "from dfg_rating.model.forecast.true_forecast import LogFunctionForecast\n",
    "from dfg_rating.model.evaluators.accuracy import RankProbabilityScore\n",
    "from dfg_rating.viz.tables import get_evaluation, get_evaluation_list"
   ]
  },
  {
   "cell_type": "markdown",
   "id": "85fcb731",
   "metadata": {},
   "source": [
    "# Data generation"
   ]
  },
  {
   "cell_type": "code",
   "execution_count": 2,
   "id": "8dc76d70",
   "metadata": {},
   "outputs": [
    {
     "name": "stdout",
     "output_type": "stream",
     "text": [
      "Season 0\n",
      "0\n",
      "<dfg_rating.model.network.multiple_network.LeagueNetwork object at 0x7f74894e4cf8>\n",
      "0 current_season\n",
      "first season\n",
      "first season\n",
      "first season\n",
      "first season\n",
      "first season\n",
      "first season\n",
      "first season\n",
      "first season\n",
      "first season\n",
      "first season\n",
      "first season\n",
      "first season\n",
      "first season\n",
      "first season\n",
      "first season\n",
      "first season\n",
      "first season\n",
      "first season\n",
      "0\n",
      "<dfg_rating.model.network.multiple_network.LeagueNetwork object at 0x7f74894e4cf8>\n",
      "Season 1\n",
      "1\n",
      "<dfg_rating.model.network.multiple_network.LeagueNetwork object at 0x7f74894e4cf8>\n",
      "1 current_season\n",
      "1\n",
      "<dfg_rating.model.network.multiple_network.LeagueNetwork object at 0x7f74894e4cf8>\n",
      "Season 2\n",
      "2\n",
      "<dfg_rating.model.network.multiple_network.LeagueNetwork object at 0x7f74894e4cf8>\n",
      "2 current_season\n",
      "2\n",
      "<dfg_rating.model.network.multiple_network.LeagueNetwork object at 0x7f74894e4cf8>\n",
      "Season 3\n",
      "3\n",
      "<dfg_rating.model.network.multiple_network.LeagueNetwork object at 0x7f74894e4cf8>\n",
      "3 current_season\n",
      "3\n",
      "<dfg_rating.model.network.multiple_network.LeagueNetwork object at 0x7f74894e4cf8>\n",
      "Season 4\n",
      "4\n",
      "<dfg_rating.model.network.multiple_network.LeagueNetwork object at 0x7f74894e4cf8>\n",
      "4 current_season\n",
      "4\n",
      "<dfg_rating.model.network.multiple_network.LeagueNetwork object at 0x7f74894e4cf8>\n",
      "Season 5\n",
      "5\n",
      "<dfg_rating.model.network.multiple_network.LeagueNetwork object at 0x7f74894e4cf8>\n",
      "5 current_season\n",
      "5\n",
      "<dfg_rating.model.network.multiple_network.LeagueNetwork object at 0x7f74894e4cf8>\n",
      "Season 6\n",
      "6\n",
      "<dfg_rating.model.network.multiple_network.LeagueNetwork object at 0x7f74894e4cf8>\n",
      "6 current_season\n",
      "6\n",
      "<dfg_rating.model.network.multiple_network.LeagueNetwork object at 0x7f74894e4cf8>\n",
      "Season 7\n",
      "7\n",
      "<dfg_rating.model.network.multiple_network.LeagueNetwork object at 0x7f74894e4cf8>\n",
      "7 current_season\n",
      "7\n",
      "<dfg_rating.model.network.multiple_network.LeagueNetwork object at 0x7f74894e4cf8>\n",
      "Season 8\n",
      "8\n",
      "<dfg_rating.model.network.multiple_network.LeagueNetwork object at 0x7f74894e4cf8>\n",
      "8 current_season\n",
      "8\n",
      "<dfg_rating.model.network.multiple_network.LeagueNetwork object at 0x7f74894e4cf8>\n",
      "Season 9\n",
      "9\n",
      "<dfg_rating.model.network.multiple_network.LeagueNetwork object at 0x7f74894e4cf8>\n",
      "9 current_season\n",
      "9\n",
      "<dfg_rating.model.network.multiple_network.LeagueNetwork object at 0x7f74894e4cf8>\n"
     ]
    }
   ],
   "source": [
    "n: BaseNetwork = LeagueNetwork(\n",
    "    teams=18,\n",
    "    days_between_rounds=3,\n",
    "    seasons=10,\n",
    "    league_teams=18,\n",
    "    league_promotion=0,\n",
    "    create=True,\n",
    "    true_forecast=LogFunctionForecast(\n",
    "                outcomes=['home', 'draw', 'away'],\n",
    "                coefficients = [-0.9,0.3],\n",
    "                beta_parameter=0.006\n",
    "            ),\n",
    "    true_rating=ControlledTrendRating(\n",
    "        starting_point=ControlledRandomFunction(distribution='normal', loc=1000, scale=0),\n",
    "        delta=ControlledRandomFunction(distribution='normal', loc=0, scale=2),\n",
    "        trend=ControlledRandomFunction(distribution='normal', loc=0, scale=.2),\n",
    "        season_delta=ControlledRandomFunction(distribution='normal', loc=0, scale=20)\n",
    "    )\n",
    ")"
   ]
  },
  {
   "cell_type": "code",
   "execution_count": 3,
   "id": "7871ba48",
   "metadata": {},
   "outputs": [
    {
     "name": "stdout",
     "output_type": "stream",
     "text": [
      "None\n",
      "<dfg_rating.model.network.multiple_network.LeagueNetwork object at 0x7f74894e4cf8>\n",
      "<dfg_rating.model.network.multiple_network.LeagueNetwork object at 0x7f74894e4cf8>\n",
      "<dfg_rating.model.network.multiple_network.LeagueNetwork object at 0x7f74894e4cf8>\n",
      "<dfg_rating.model.network.multiple_network.LeagueNetwork object at 0x7f74894e4cf8>\n",
      "<dfg_rating.model.network.multiple_network.LeagueNetwork object at 0x7f74894e4cf8>\n",
      "<dfg_rating.model.network.multiple_network.LeagueNetwork object at 0x7f74894e4cf8>\n",
      "<dfg_rating.model.network.multiple_network.LeagueNetwork object at 0x7f74894e4cf8>\n",
      "<dfg_rating.model.network.multiple_network.LeagueNetwork object at 0x7f74894e4cf8>\n",
      "<dfg_rating.model.network.multiple_network.LeagueNetwork object at 0x7f74894e4cf8>\n",
      "<dfg_rating.model.network.multiple_network.LeagueNetwork object at 0x7f74894e4cf8>\n"
     ]
    }
   ],
   "source": [
    "n.add_rating(\n",
    "    ELORating(trained=True, rating_name=\"elo_rating_14\"),\n",
    "    rating_name=\"elo_rating_14\"\n",
    ")"
   ]
  },
  {
   "cell_type": "code",
   "execution_count": 4,
   "id": "b908d967",
   "metadata": {},
   "outputs": [],
   "source": [
    "n.add_forecast(\n",
    "    forecast=LogFunctionForecast(outcomes=[\"home\",\"draw\",\"away\"], coefficients=[-.9,.3], beta_parameter=0.006),\n",
    "    forecast_name=\"elo_forecast_14\",\n",
    "    base_ranking=\"elo_rating_14\"\n",
    ")"
   ]
  },
  {
   "cell_type": "code",
   "execution_count": 5,
   "id": "1d7d1a56",
   "metadata": {},
   "outputs": [],
   "source": [
    "n.add_evaluation(get_evaluation_list(\"elo_rating_14\", \"elo_forecast_14\"))"
   ]
  },
  {
   "cell_type": "markdown",
   "id": "dae98e44",
   "metadata": {},
   "source": [
    "# Exploring"
   ]
  },
  {
   "cell_type": "code",
   "execution_count": 30,
   "id": "483b1aeb",
   "metadata": {},
   "outputs": [],
   "source": [
    "app = DFGWidgets.NetworkExplorer(network=n)"
   ]
  },
  {
   "cell_type": "code",
   "execution_count": 31,
   "id": "888d4c64",
   "metadata": {},
   "outputs": [
    {
     "data": {
      "text/html": [
       "\n",
       "        <iframe\n",
       "            width=\"100%\"\n",
       "            height=\"650\"\n",
       "            src=\"http://127.0.0.1:8050/\"\n",
       "            frameborder=\"0\"\n",
       "            allowfullscreen\n",
       "        ></iframe>\n",
       "        "
      ],
      "text/plain": [
       "<IPython.lib.display.IFrame at 0x7f747bef6b00>"
      ]
     },
     "metadata": {},
     "output_type": "display_data"
    }
   ],
   "source": [
    "app.run('inline')"
   ]
  },
  {
   "cell_type": "markdown",
   "id": "9da05446",
   "metadata": {},
   "source": [
    "# Accuracy plots"
   ]
  },
  {
   "cell_type": "code",
   "execution_count": 6,
   "id": "cdce0bef",
   "metadata": {},
   "outputs": [],
   "source": [
    "import pandas as pd\n",
    "import numpy as np\n",
    "import datetime\n",
    "import os\n",
    "import plotly.express as px\n",
    "import plotly.graph_objects as go\n",
    "import plotly.io as pio\n",
    "from scipy.stats import pearsonr\n",
    "import statsmodels.api as sm\n",
    "from tqdm import tqdm\n",
    "\n",
    "pio.templates.default = \"plotly_white\"\n",
    "\n",
    "pd.options.display.float_format = '{:.4f}'.format\n",
    "\n",
    "pd.set_option(\"display.max_columns\", None)\n",
    "pd.set_option(\"display.max_rows\", None)"
   ]
  },
  {
   "cell_type": "code",
   "execution_count": 17,
   "id": "1a826d52",
   "metadata": {},
   "outputs": [],
   "source": [
    "results_data = get_evaluation(n, k=14, abs=True, evaluators=['RPS', 'TrueRPS', 'Likelihood', 'ForecastError', 'ExpectedRPS', 'Forecastability'])"
   ]
  },
  {
   "cell_type": "code",
   "execution_count": 18,
   "id": "ba8dbd13",
   "metadata": {},
   "outputs": [
    {
     "data": {
      "text/html": [
       "<div>\n",
       "<style scoped>\n",
       "    .dataframe tbody tr th:only-of-type {\n",
       "        vertical-align: middle;\n",
       "    }\n",
       "\n",
       "    .dataframe tbody tr th {\n",
       "        vertical-align: top;\n",
       "    }\n",
       "\n",
       "    .dataframe thead th {\n",
       "        text-align: right;\n",
       "    }\n",
       "</style>\n",
       "<table border=\"1\" class=\"dataframe\">\n",
       "  <thead>\n",
       "    <tr style=\"text-align: right;\">\n",
       "      <th></th>\n",
       "      <th>HomeTeam</th>\n",
       "      <th>AwayTeam</th>\n",
       "      <th>Season</th>\n",
       "      <th>Round</th>\n",
       "      <th>Day</th>\n",
       "      <th>Result</th>\n",
       "      <th>TrueForecast</th>\n",
       "      <th>CalculatedForecast</th>\n",
       "      <th>ELO_Rating_K</th>\n",
       "      <th>RPS</th>\n",
       "      <th>TrueRPS</th>\n",
       "      <th>Likelihood</th>\n",
       "      <th>ForecastError</th>\n",
       "      <th>ExpectedRPS</th>\n",
       "      <th>Forecastability</th>\n",
       "      <th>HomeRating</th>\n",
       "      <th>AwayRating</th>\n",
       "      <th>Home_elo_rating</th>\n",
       "      <th>Away_elo_rating</th>\n",
       "    </tr>\n",
       "  </thead>\n",
       "  <tbody>\n",
       "    <tr>\n",
       "      <th>0</th>\n",
       "      <td>9</td>\n",
       "      <td>0</td>\n",
       "      <td>0</td>\n",
       "      <td>0</td>\n",
       "      <td>1</td>\n",
       "      <td>draw</td>\n",
       "      <td>0.43-0.29-0.29</td>\n",
       "      <td>0.43-0.29-0.29</td>\n",
       "      <td>14</td>\n",
       "      <td>0.1323</td>\n",
       "      <td>0.1323</td>\n",
       "      <td>-1.2539</td>\n",
       "      <td>0.0000</td>\n",
       "      <td>0.2250</td>\n",
       "      <td>0.2250</td>\n",
       "      <td>1000.0000</td>\n",
       "      <td>1000.0000</td>\n",
       "      <td>1000.0000</td>\n",
       "      <td>1000.0000</td>\n",
       "    </tr>\n",
       "    <tr>\n",
       "      <th>1</th>\n",
       "      <td>9</td>\n",
       "      <td>0</td>\n",
       "      <td>1</td>\n",
       "      <td>0</td>\n",
       "      <td>1</td>\n",
       "      <td>away</td>\n",
       "      <td>0.49-0.27-0.24</td>\n",
       "      <td>0.48-0.27-0.25</td>\n",
       "      <td>14</td>\n",
       "      <td>0.3993</td>\n",
       "      <td>0.4108</td>\n",
       "      <td>-1.4019</td>\n",
       "      <td>0.0001</td>\n",
       "      <td>0.2157</td>\n",
       "      <td>0.2156</td>\n",
       "      <td>1000.0000</td>\n",
       "      <td>1000.0000</td>\n",
       "      <td>1000.0000</td>\n",
       "      <td>1000.0000</td>\n",
       "    </tr>\n",
       "    <tr>\n",
       "      <th>2</th>\n",
       "      <td>9</td>\n",
       "      <td>0</td>\n",
       "      <td>2</td>\n",
       "      <td>0</td>\n",
       "      <td>1</td>\n",
       "      <td>away</td>\n",
       "      <td>0.55-0.25-0.20</td>\n",
       "      <td>0.50-0.27-0.23</td>\n",
       "      <td>14</td>\n",
       "      <td>0.4235</td>\n",
       "      <td>0.4756</td>\n",
       "      <td>-1.4726</td>\n",
       "      <td>0.0018</td>\n",
       "      <td>0.2042</td>\n",
       "      <td>0.2025</td>\n",
       "      <td>1000.0000</td>\n",
       "      <td>1000.0000</td>\n",
       "      <td>1000.0000</td>\n",
       "      <td>1000.0000</td>\n",
       "    </tr>\n",
       "    <tr>\n",
       "      <th>3</th>\n",
       "      <td>9</td>\n",
       "      <td>0</td>\n",
       "      <td>3</td>\n",
       "      <td>0</td>\n",
       "      <td>1</td>\n",
       "      <td>home</td>\n",
       "      <td>0.40-0.29-0.32</td>\n",
       "      <td>0.43-0.28-0.28</td>\n",
       "      <td>14</td>\n",
       "      <td>0.2015</td>\n",
       "      <td>0.2324</td>\n",
       "      <td>-0.8392</td>\n",
       "      <td>0.0012</td>\n",
       "      <td>0.2286</td>\n",
       "      <td>0.2275</td>\n",
       "      <td>1000.0000</td>\n",
       "      <td>1000.0000</td>\n",
       "      <td>1000.0000</td>\n",
       "      <td>1000.0000</td>\n",
       "    </tr>\n",
       "    <tr>\n",
       "      <th>4</th>\n",
       "      <td>9</td>\n",
       "      <td>0</td>\n",
       "      <td>4</td>\n",
       "      <td>0</td>\n",
       "      <td>1</td>\n",
       "      <td>home</td>\n",
       "      <td>0.52-0.26-0.22</td>\n",
       "      <td>0.45-0.28-0.27</td>\n",
       "      <td>14</td>\n",
       "      <td>0.1861</td>\n",
       "      <td>0.1402</td>\n",
       "      <td>-0.7946</td>\n",
       "      <td>0.0034</td>\n",
       "      <td>0.2137</td>\n",
       "      <td>0.2104</td>\n",
       "      <td>1000.0000</td>\n",
       "      <td>1000.0000</td>\n",
       "      <td>1000.0000</td>\n",
       "      <td>1000.0000</td>\n",
       "    </tr>\n",
       "  </tbody>\n",
       "</table>\n",
       "</div>"
      ],
      "text/plain": [
       "   HomeTeam  AwayTeam  Season  Round  Day Result    TrueForecast  \\\n",
       "0         9         0       0      0    1   draw  0.43-0.29-0.29   \n",
       "1         9         0       1      0    1   away  0.49-0.27-0.24   \n",
       "2         9         0       2      0    1   away  0.55-0.25-0.20   \n",
       "3         9         0       3      0    1   home  0.40-0.29-0.32   \n",
       "4         9         0       4      0    1   home  0.52-0.26-0.22   \n",
       "\n",
       "  CalculatedForecast  ELO_Rating_K    RPS  TrueRPS  Likelihood  ForecastError  \\\n",
       "0     0.43-0.29-0.29            14 0.1323   0.1323     -1.2539         0.0000   \n",
       "1     0.48-0.27-0.25            14 0.3993   0.4108     -1.4019         0.0001   \n",
       "2     0.50-0.27-0.23            14 0.4235   0.4756     -1.4726         0.0018   \n",
       "3     0.43-0.28-0.28            14 0.2015   0.2324     -0.8392         0.0012   \n",
       "4     0.45-0.28-0.27            14 0.1861   0.1402     -0.7946         0.0034   \n",
       "\n",
       "   ExpectedRPS  Forecastability  HomeRating  AwayRating  Home_elo_rating  \\\n",
       "0       0.2250           0.2250   1000.0000   1000.0000        1000.0000   \n",
       "1       0.2157           0.2156   1000.0000   1000.0000        1000.0000   \n",
       "2       0.2042           0.2025   1000.0000   1000.0000        1000.0000   \n",
       "3       0.2286           0.2275   1000.0000   1000.0000        1000.0000   \n",
       "4       0.2137           0.2104   1000.0000   1000.0000        1000.0000   \n",
       "\n",
       "   Away_elo_rating  \n",
       "0        1000.0000  \n",
       "1        1000.0000  \n",
       "2        1000.0000  \n",
       "3        1000.0000  \n",
       "4        1000.0000  "
      ]
     },
     "execution_count": 18,
     "metadata": {},
     "output_type": "execute_result"
    }
   ],
   "source": [
    "df = pd.DataFrame(results_data)\n",
    "df.head()"
   ]
  },
  {
   "cell_type": "code",
   "execution_count": 19,
   "id": "72ad9b67",
   "metadata": {},
   "outputs": [
    {
     "data": {
      "text/html": [
       "<div>\n",
       "<style scoped>\n",
       "    .dataframe tbody tr th:only-of-type {\n",
       "        vertical-align: middle;\n",
       "    }\n",
       "\n",
       "    .dataframe tbody tr th {\n",
       "        vertical-align: top;\n",
       "    }\n",
       "\n",
       "    .dataframe thead th {\n",
       "        text-align: right;\n",
       "    }\n",
       "</style>\n",
       "<table border=\"1\" class=\"dataframe\">\n",
       "  <thead>\n",
       "    <tr style=\"text-align: right;\">\n",
       "      <th></th>\n",
       "      <th>RPS</th>\n",
       "      <th>ForecastError</th>\n",
       "      <th>ExpectedRPS</th>\n",
       "      <th>Forecastability</th>\n",
       "    </tr>\n",
       "  </thead>\n",
       "  <tbody>\n",
       "    <tr>\n",
       "      <th>count</th>\n",
       "      <td>3060.0000</td>\n",
       "      <td>3060.0000</td>\n",
       "      <td>3060.0000</td>\n",
       "      <td>3060.0000</td>\n",
       "    </tr>\n",
       "    <tr>\n",
       "      <th>mean</th>\n",
       "      <td>0.2181</td>\n",
       "      <td>0.0066</td>\n",
       "      <td>0.2200</td>\n",
       "      <td>0.2134</td>\n",
       "    </tr>\n",
       "    <tr>\n",
       "      <th>std</th>\n",
       "      <td>0.1078</td>\n",
       "      <td>0.0092</td>\n",
       "      <td>0.0228</td>\n",
       "      <td>0.0218</td>\n",
       "    </tr>\n",
       "    <tr>\n",
       "      <th>min</th>\n",
       "      <td>0.0150</td>\n",
       "      <td>0.0000</td>\n",
       "      <td>0.0690</td>\n",
       "      <td>0.0665</td>\n",
       "    </tr>\n",
       "    <tr>\n",
       "      <th>25%</th>\n",
       "      <td>0.1338</td>\n",
       "      <td>0.0007</td>\n",
       "      <td>0.2148</td>\n",
       "      <td>0.2088</td>\n",
       "    </tr>\n",
       "    <tr>\n",
       "      <th>50%</th>\n",
       "      <td>0.1851</td>\n",
       "      <td>0.0030</td>\n",
       "      <td>0.2256</td>\n",
       "      <td>0.2220</td>\n",
       "    </tr>\n",
       "    <tr>\n",
       "      <th>75%</th>\n",
       "      <td>0.2860</td>\n",
       "      <td>0.0086</td>\n",
       "      <td>0.2307</td>\n",
       "      <td>0.2270</td>\n",
       "    </tr>\n",
       "    <tr>\n",
       "      <th>max</th>\n",
       "      <td>0.6436</td>\n",
       "      <td>0.0738</td>\n",
       "      <td>0.2878</td>\n",
       "      <td>0.2288</td>\n",
       "    </tr>\n",
       "  </tbody>\n",
       "</table>\n",
       "</div>"
      ],
      "text/plain": [
       "            RPS  ForecastError  ExpectedRPS  Forecastability\n",
       "count 3060.0000      3060.0000    3060.0000        3060.0000\n",
       "mean     0.2181         0.0066       0.2200           0.2134\n",
       "std      0.1078         0.0092       0.0228           0.0218\n",
       "min      0.0150         0.0000       0.0690           0.0665\n",
       "25%      0.1338         0.0007       0.2148           0.2088\n",
       "50%      0.1851         0.0030       0.2256           0.2220\n",
       "75%      0.2860         0.0086       0.2307           0.2270\n",
       "max      0.6436         0.0738       0.2878           0.2288"
      ]
     },
     "execution_count": 19,
     "metadata": {},
     "output_type": "execute_result"
    }
   ],
   "source": [
    "df[[\"RPS\", \"ForecastError\", \"ExpectedRPS\", \"Forecastability\"]].describe()"
   ]
  },
  {
   "cell_type": "code",
   "execution_count": 20,
   "id": "e15b1caa",
   "metadata": {},
   "outputs": [],
   "source": [
    "metrics_df = df.groupby(by=[\"Season\", \"Round\"], as_index=False).agg({\"RPS\": [\"mean\", \"std\"], \"TrueRPS\": [\"mean\", \"std\"], \"ForecastError\": [\"mean\", \"std\"], \"ExpectedRPS\": [\"mean\", \"std\"], \"Forecastability\": [\"mean\", \"std\"]})\n",
    "season_df = df.groupby(by=[\"Season\"], as_index=False).agg({\"RPS\": [\"mean\", \"std\"], \"TrueRPS\": [\"mean\", \"std\"], \"ForecastError\": [\"mean\", \"std\"], \"ExpectedRPS\": [\"mean\", \"std\"], \"Forecastability\": [\"mean\", \"std\"]})"
   ]
  },
  {
   "cell_type": "code",
   "execution_count": 21,
   "id": "2236e534",
   "metadata": {},
   "outputs": [],
   "source": [
    "metrics_df[\"color\"] = \"black\"\n",
    "metrics_df[\"x_axis\"] = (metrics_df[\"Season\"] * 34) + metrics_df[\"Round\"]"
   ]
  },
  {
   "cell_type": "code",
   "execution_count": 22,
   "id": "fc425ecb",
   "metadata": {},
   "outputs": [
    {
     "data": {
      "text/html": [
       "<div>\n",
       "<style scoped>\n",
       "    .dataframe tbody tr th:only-of-type {\n",
       "        vertical-align: middle;\n",
       "    }\n",
       "\n",
       "    .dataframe tbody tr th {\n",
       "        vertical-align: top;\n",
       "    }\n",
       "\n",
       "    .dataframe thead tr th {\n",
       "        text-align: left;\n",
       "    }\n",
       "</style>\n",
       "<table border=\"1\" class=\"dataframe\">\n",
       "  <thead>\n",
       "    <tr>\n",
       "      <th></th>\n",
       "      <th>Season</th>\n",
       "      <th>Round</th>\n",
       "      <th colspan=\"2\" halign=\"left\">RPS</th>\n",
       "      <th colspan=\"2\" halign=\"left\">TrueRPS</th>\n",
       "      <th colspan=\"2\" halign=\"left\">ForecastError</th>\n",
       "      <th colspan=\"2\" halign=\"left\">ExpectedRPS</th>\n",
       "      <th colspan=\"2\" halign=\"left\">Forecastability</th>\n",
       "      <th>color</th>\n",
       "      <th>x_axis</th>\n",
       "    </tr>\n",
       "    <tr>\n",
       "      <th></th>\n",
       "      <th></th>\n",
       "      <th></th>\n",
       "      <th>mean</th>\n",
       "      <th>std</th>\n",
       "      <th>mean</th>\n",
       "      <th>std</th>\n",
       "      <th>mean</th>\n",
       "      <th>std</th>\n",
       "      <th>mean</th>\n",
       "      <th>std</th>\n",
       "      <th>mean</th>\n",
       "      <th>std</th>\n",
       "      <th></th>\n",
       "      <th></th>\n",
       "    </tr>\n",
       "  </thead>\n",
       "  <tbody>\n",
       "    <tr>\n",
       "      <th>0</th>\n",
       "      <td>0</td>\n",
       "      <td>0</td>\n",
       "      <td>0.2040</td>\n",
       "      <td>0.0861</td>\n",
       "      <td>0.2040</td>\n",
       "      <td>0.0861</td>\n",
       "      <td>0.0000</td>\n",
       "      <td>0.0000</td>\n",
       "      <td>0.2250</td>\n",
       "      <td>0.0000</td>\n",
       "      <td>0.2250</td>\n",
       "      <td>0.0000</td>\n",
       "      <td>black</td>\n",
       "      <td>0</td>\n",
       "    </tr>\n",
       "    <tr>\n",
       "      <th>1</th>\n",
       "      <td>0</td>\n",
       "      <td>1</td>\n",
       "      <td>0.2409</td>\n",
       "      <td>0.0911</td>\n",
       "      <td>0.2348</td>\n",
       "      <td>0.0846</td>\n",
       "      <td>0.0001</td>\n",
       "      <td>0.0002</td>\n",
       "      <td>0.2253</td>\n",
       "      <td>0.0007</td>\n",
       "      <td>0.2252</td>\n",
       "      <td>0.0005</td>\n",
       "      <td>black</td>\n",
       "      <td>1</td>\n",
       "    </tr>\n",
       "    <tr>\n",
       "      <th>2</th>\n",
       "      <td>0</td>\n",
       "      <td>2</td>\n",
       "      <td>0.2429</td>\n",
       "      <td>0.0788</td>\n",
       "      <td>0.2442</td>\n",
       "      <td>0.0831</td>\n",
       "      <td>0.0002</td>\n",
       "      <td>0.0002</td>\n",
       "      <td>0.2248</td>\n",
       "      <td>0.0008</td>\n",
       "      <td>0.2246</td>\n",
       "      <td>0.0008</td>\n",
       "      <td>black</td>\n",
       "      <td>2</td>\n",
       "    </tr>\n",
       "    <tr>\n",
       "      <th>3</th>\n",
       "      <td>0</td>\n",
       "      <td>3</td>\n",
       "      <td>0.2106</td>\n",
       "      <td>0.0813</td>\n",
       "      <td>0.2125</td>\n",
       "      <td>0.0795</td>\n",
       "      <td>0.0003</td>\n",
       "      <td>0.0004</td>\n",
       "      <td>0.2257</td>\n",
       "      <td>0.0010</td>\n",
       "      <td>0.2253</td>\n",
       "      <td>0.0008</td>\n",
       "      <td>black</td>\n",
       "      <td>3</td>\n",
       "    </tr>\n",
       "    <tr>\n",
       "      <th>4</th>\n",
       "      <td>0</td>\n",
       "      <td>4</td>\n",
       "      <td>0.2595</td>\n",
       "      <td>0.1030</td>\n",
       "      <td>0.2653</td>\n",
       "      <td>0.1104</td>\n",
       "      <td>0.0005</td>\n",
       "      <td>0.0007</td>\n",
       "      <td>0.2248</td>\n",
       "      <td>0.0020</td>\n",
       "      <td>0.2243</td>\n",
       "      <td>0.0016</td>\n",
       "      <td>black</td>\n",
       "      <td>4</td>\n",
       "    </tr>\n",
       "    <tr>\n",
       "      <th>5</th>\n",
       "      <td>0</td>\n",
       "      <td>5</td>\n",
       "      <td>0.2587</td>\n",
       "      <td>0.0916</td>\n",
       "      <td>0.2558</td>\n",
       "      <td>0.0816</td>\n",
       "      <td>0.0006</td>\n",
       "      <td>0.0006</td>\n",
       "      <td>0.2258</td>\n",
       "      <td>0.0019</td>\n",
       "      <td>0.2252</td>\n",
       "      <td>0.0017</td>\n",
       "      <td>black</td>\n",
       "      <td>5</td>\n",
       "    </tr>\n",
       "    <tr>\n",
       "      <th>6</th>\n",
       "      <td>0</td>\n",
       "      <td>6</td>\n",
       "      <td>0.2428</td>\n",
       "      <td>0.0933</td>\n",
       "      <td>0.2396</td>\n",
       "      <td>0.0927</td>\n",
       "      <td>0.0002</td>\n",
       "      <td>0.0002</td>\n",
       "      <td>0.2247</td>\n",
       "      <td>0.0011</td>\n",
       "      <td>0.2244</td>\n",
       "      <td>0.0011</td>\n",
       "      <td>black</td>\n",
       "      <td>6</td>\n",
       "    </tr>\n",
       "    <tr>\n",
       "      <th>7</th>\n",
       "      <td>0</td>\n",
       "      <td>7</td>\n",
       "      <td>0.2321</td>\n",
       "      <td>0.0768</td>\n",
       "      <td>0.2425</td>\n",
       "      <td>0.0926</td>\n",
       "      <td>0.0012</td>\n",
       "      <td>0.0011</td>\n",
       "      <td>0.2263</td>\n",
       "      <td>0.0024</td>\n",
       "      <td>0.2251</td>\n",
       "      <td>0.0025</td>\n",
       "      <td>black</td>\n",
       "      <td>7</td>\n",
       "    </tr>\n",
       "    <tr>\n",
       "      <th>8</th>\n",
       "      <td>0</td>\n",
       "      <td>8</td>\n",
       "      <td>0.2231</td>\n",
       "      <td>0.0946</td>\n",
       "      <td>0.2123</td>\n",
       "      <td>0.0811</td>\n",
       "      <td>0.0024</td>\n",
       "      <td>0.0020</td>\n",
       "      <td>0.2261</td>\n",
       "      <td>0.0037</td>\n",
       "      <td>0.2237</td>\n",
       "      <td>0.0025</td>\n",
       "      <td>black</td>\n",
       "      <td>8</td>\n",
       "    </tr>\n",
       "    <tr>\n",
       "      <th>9</th>\n",
       "      <td>0</td>\n",
       "      <td>9</td>\n",
       "      <td>0.2548</td>\n",
       "      <td>0.1045</td>\n",
       "      <td>0.2673</td>\n",
       "      <td>0.0914</td>\n",
       "      <td>0.0019</td>\n",
       "      <td>0.0022</td>\n",
       "      <td>0.2273</td>\n",
       "      <td>0.0033</td>\n",
       "      <td>0.2254</td>\n",
       "      <td>0.0021</td>\n",
       "      <td>black</td>\n",
       "      <td>9</td>\n",
       "    </tr>\n",
       "    <tr>\n",
       "      <th>10</th>\n",
       "      <td>0</td>\n",
       "      <td>10</td>\n",
       "      <td>0.1894</td>\n",
       "      <td>0.0562</td>\n",
       "      <td>0.1979</td>\n",
       "      <td>0.0760</td>\n",
       "      <td>0.0022</td>\n",
       "      <td>0.0013</td>\n",
       "      <td>0.2262</td>\n",
       "      <td>0.0040</td>\n",
       "      <td>0.2240</td>\n",
       "      <td>0.0038</td>\n",
       "      <td>black</td>\n",
       "      <td>10</td>\n",
       "    </tr>\n",
       "    <tr>\n",
       "      <th>11</th>\n",
       "      <td>0</td>\n",
       "      <td>11</td>\n",
       "      <td>0.2122</td>\n",
       "      <td>0.0760</td>\n",
       "      <td>0.2235</td>\n",
       "      <td>0.0887</td>\n",
       "      <td>0.0028</td>\n",
       "      <td>0.0027</td>\n",
       "      <td>0.2269</td>\n",
       "      <td>0.0047</td>\n",
       "      <td>0.2240</td>\n",
       "      <td>0.0039</td>\n",
       "      <td>black</td>\n",
       "      <td>11</td>\n",
       "    </tr>\n",
       "    <tr>\n",
       "      <th>12</th>\n",
       "      <td>0</td>\n",
       "      <td>12</td>\n",
       "      <td>0.2395</td>\n",
       "      <td>0.1065</td>\n",
       "      <td>0.2427</td>\n",
       "      <td>0.0915</td>\n",
       "      <td>0.0036</td>\n",
       "      <td>0.0028</td>\n",
       "      <td>0.2288</td>\n",
       "      <td>0.0035</td>\n",
       "      <td>0.2252</td>\n",
       "      <td>0.0024</td>\n",
       "      <td>black</td>\n",
       "      <td>12</td>\n",
       "    </tr>\n",
       "    <tr>\n",
       "      <th>13</th>\n",
       "      <td>0</td>\n",
       "      <td>13</td>\n",
       "      <td>0.1936</td>\n",
       "      <td>0.0662</td>\n",
       "      <td>0.2197</td>\n",
       "      <td>0.0850</td>\n",
       "      <td>0.0050</td>\n",
       "      <td>0.0068</td>\n",
       "      <td>0.2293</td>\n",
       "      <td>0.0043</td>\n",
       "      <td>0.2243</td>\n",
       "      <td>0.0043</td>\n",
       "      <td>black</td>\n",
       "      <td>13</td>\n",
       "    </tr>\n",
       "    <tr>\n",
       "      <th>14</th>\n",
       "      <td>0</td>\n",
       "      <td>14</td>\n",
       "      <td>0.2287</td>\n",
       "      <td>0.0805</td>\n",
       "      <td>0.2337</td>\n",
       "      <td>0.0888</td>\n",
       "      <td>0.0021</td>\n",
       "      <td>0.0030</td>\n",
       "      <td>0.2261</td>\n",
       "      <td>0.0049</td>\n",
       "      <td>0.2241</td>\n",
       "      <td>0.0039</td>\n",
       "      <td>black</td>\n",
       "      <td>14</td>\n",
       "    </tr>\n",
       "    <tr>\n",
       "      <th>15</th>\n",
       "      <td>0</td>\n",
       "      <td>15</td>\n",
       "      <td>0.2567</td>\n",
       "      <td>0.0958</td>\n",
       "      <td>0.2616</td>\n",
       "      <td>0.0885</td>\n",
       "      <td>0.0019</td>\n",
       "      <td>0.0026</td>\n",
       "      <td>0.2266</td>\n",
       "      <td>0.0026</td>\n",
       "      <td>0.2247</td>\n",
       "      <td>0.0032</td>\n",
       "      <td>black</td>\n",
       "      <td>15</td>\n",
       "    </tr>\n",
       "    <tr>\n",
       "      <th>16</th>\n",
       "      <td>0</td>\n",
       "      <td>16</td>\n",
       "      <td>0.2474</td>\n",
       "      <td>0.1160</td>\n",
       "      <td>0.2172</td>\n",
       "      <td>0.0997</td>\n",
       "      <td>0.0066</td>\n",
       "      <td>0.0057</td>\n",
       "      <td>0.2293</td>\n",
       "      <td>0.0085</td>\n",
       "      <td>0.2227</td>\n",
       "      <td>0.0054</td>\n",
       "      <td>black</td>\n",
       "      <td>16</td>\n",
       "    </tr>\n",
       "    <tr>\n",
       "      <th>17</th>\n",
       "      <td>0</td>\n",
       "      <td>17</td>\n",
       "      <td>0.2409</td>\n",
       "      <td>0.0841</td>\n",
       "      <td>0.2327</td>\n",
       "      <td>0.0812</td>\n",
       "      <td>0.0059</td>\n",
       "      <td>0.0048</td>\n",
       "      <td>0.2303</td>\n",
       "      <td>0.0068</td>\n",
       "      <td>0.2244</td>\n",
       "      <td>0.0045</td>\n",
       "      <td>black</td>\n",
       "      <td>17</td>\n",
       "    </tr>\n",
       "    <tr>\n",
       "      <th>18</th>\n",
       "      <td>0</td>\n",
       "      <td>18</td>\n",
       "      <td>0.2077</td>\n",
       "      <td>0.0460</td>\n",
       "      <td>0.2108</td>\n",
       "      <td>0.0607</td>\n",
       "      <td>0.0017</td>\n",
       "      <td>0.0027</td>\n",
       "      <td>0.2251</td>\n",
       "      <td>0.0041</td>\n",
       "      <td>0.2234</td>\n",
       "      <td>0.0041</td>\n",
       "      <td>black</td>\n",
       "      <td>18</td>\n",
       "    </tr>\n",
       "    <tr>\n",
       "      <th>19</th>\n",
       "      <td>0</td>\n",
       "      <td>19</td>\n",
       "      <td>0.2576</td>\n",
       "      <td>0.1230</td>\n",
       "      <td>0.2528</td>\n",
       "      <td>0.0950</td>\n",
       "      <td>0.0033</td>\n",
       "      <td>0.0037</td>\n",
       "      <td>0.2289</td>\n",
       "      <td>0.0064</td>\n",
       "      <td>0.2256</td>\n",
       "      <td>0.0039</td>\n",
       "      <td>black</td>\n",
       "      <td>19</td>\n",
       "    </tr>\n",
       "    <tr>\n",
       "      <th>20</th>\n",
       "      <td>0</td>\n",
       "      <td>20</td>\n",
       "      <td>0.1959</td>\n",
       "      <td>0.0774</td>\n",
       "      <td>0.1987</td>\n",
       "      <td>0.0933</td>\n",
       "      <td>0.0061</td>\n",
       "      <td>0.0078</td>\n",
       "      <td>0.2278</td>\n",
       "      <td>0.0065</td>\n",
       "      <td>0.2217</td>\n",
       "      <td>0.0055</td>\n",
       "      <td>black</td>\n",
       "      <td>20</td>\n",
       "    </tr>\n",
       "    <tr>\n",
       "      <th>21</th>\n",
       "      <td>0</td>\n",
       "      <td>21</td>\n",
       "      <td>0.2309</td>\n",
       "      <td>0.0887</td>\n",
       "      <td>0.2733</td>\n",
       "      <td>0.0899</td>\n",
       "      <td>0.0059</td>\n",
       "      <td>0.0062</td>\n",
       "      <td>0.2294</td>\n",
       "      <td>0.0104</td>\n",
       "      <td>0.2235</td>\n",
       "      <td>0.0059</td>\n",
       "      <td>black</td>\n",
       "      <td>21</td>\n",
       "    </tr>\n",
       "    <tr>\n",
       "      <th>22</th>\n",
       "      <td>0</td>\n",
       "      <td>22</td>\n",
       "      <td>0.2367</td>\n",
       "      <td>0.1155</td>\n",
       "      <td>0.2308</td>\n",
       "      <td>0.1029</td>\n",
       "      <td>0.0032</td>\n",
       "      <td>0.0046</td>\n",
       "      <td>0.2252</td>\n",
       "      <td>0.0081</td>\n",
       "      <td>0.2220</td>\n",
       "      <td>0.0056</td>\n",
       "      <td>black</td>\n",
       "      <td>22</td>\n",
       "    </tr>\n",
       "    <tr>\n",
       "      <th>23</th>\n",
       "      <td>0</td>\n",
       "      <td>23</td>\n",
       "      <td>0.1858</td>\n",
       "      <td>0.0688</td>\n",
       "      <td>0.1800</td>\n",
       "      <td>0.0705</td>\n",
       "      <td>0.0043</td>\n",
       "      <td>0.0081</td>\n",
       "      <td>0.2296</td>\n",
       "      <td>0.0097</td>\n",
       "      <td>0.2253</td>\n",
       "      <td>0.0030</td>\n",
       "      <td>black</td>\n",
       "      <td>23</td>\n",
       "    </tr>\n",
       "    <tr>\n",
       "      <th>24</th>\n",
       "      <td>0</td>\n",
       "      <td>24</td>\n",
       "      <td>0.2158</td>\n",
       "      <td>0.0769</td>\n",
       "      <td>0.2126</td>\n",
       "      <td>0.0687</td>\n",
       "      <td>0.0068</td>\n",
       "      <td>0.0073</td>\n",
       "      <td>0.2277</td>\n",
       "      <td>0.0121</td>\n",
       "      <td>0.2210</td>\n",
       "      <td>0.0068</td>\n",
       "      <td>black</td>\n",
       "      <td>24</td>\n",
       "    </tr>\n",
       "    <tr>\n",
       "      <th>25</th>\n",
       "      <td>0</td>\n",
       "      <td>25</td>\n",
       "      <td>0.1975</td>\n",
       "      <td>0.0615</td>\n",
       "      <td>0.2207</td>\n",
       "      <td>0.0950</td>\n",
       "      <td>0.0069</td>\n",
       "      <td>0.0066</td>\n",
       "      <td>0.2311</td>\n",
       "      <td>0.0079</td>\n",
       "      <td>0.2241</td>\n",
       "      <td>0.0057</td>\n",
       "      <td>black</td>\n",
       "      <td>25</td>\n",
       "    </tr>\n",
       "    <tr>\n",
       "      <th>26</th>\n",
       "      <td>0</td>\n",
       "      <td>26</td>\n",
       "      <td>0.2500</td>\n",
       "      <td>0.1076</td>\n",
       "      <td>0.2136</td>\n",
       "      <td>0.0956</td>\n",
       "      <td>0.0061</td>\n",
       "      <td>0.0068</td>\n",
       "      <td>0.2295</td>\n",
       "      <td>0.0082</td>\n",
       "      <td>0.2234</td>\n",
       "      <td>0.0047</td>\n",
       "      <td>black</td>\n",
       "      <td>26</td>\n",
       "    </tr>\n",
       "    <tr>\n",
       "      <th>27</th>\n",
       "      <td>0</td>\n",
       "      <td>27</td>\n",
       "      <td>0.2125</td>\n",
       "      <td>0.1011</td>\n",
       "      <td>0.1780</td>\n",
       "      <td>0.0628</td>\n",
       "      <td>0.0094</td>\n",
       "      <td>0.0109</td>\n",
       "      <td>0.2302</td>\n",
       "      <td>0.0083</td>\n",
       "      <td>0.2208</td>\n",
       "      <td>0.0084</td>\n",
       "      <td>black</td>\n",
       "      <td>27</td>\n",
       "    </tr>\n",
       "    <tr>\n",
       "      <th>28</th>\n",
       "      <td>0</td>\n",
       "      <td>28</td>\n",
       "      <td>0.2920</td>\n",
       "      <td>0.0950</td>\n",
       "      <td>0.2935</td>\n",
       "      <td>0.1195</td>\n",
       "      <td>0.0069</td>\n",
       "      <td>0.0093</td>\n",
       "      <td>0.2279</td>\n",
       "      <td>0.0103</td>\n",
       "      <td>0.2210</td>\n",
       "      <td>0.0093</td>\n",
       "      <td>black</td>\n",
       "      <td>28</td>\n",
       "    </tr>\n",
       "    <tr>\n",
       "      <th>29</th>\n",
       "      <td>0</td>\n",
       "      <td>29</td>\n",
       "      <td>0.2346</td>\n",
       "      <td>0.1022</td>\n",
       "      <td>0.2285</td>\n",
       "      <td>0.0887</td>\n",
       "      <td>0.0038</td>\n",
       "      <td>0.0074</td>\n",
       "      <td>0.2273</td>\n",
       "      <td>0.0107</td>\n",
       "      <td>0.2235</td>\n",
       "      <td>0.0057</td>\n",
       "      <td>black</td>\n",
       "      <td>29</td>\n",
       "    </tr>\n",
       "    <tr>\n",
       "      <th>30</th>\n",
       "      <td>0</td>\n",
       "      <td>30</td>\n",
       "      <td>0.1908</td>\n",
       "      <td>0.0711</td>\n",
       "      <td>0.1967</td>\n",
       "      <td>0.1038</td>\n",
       "      <td>0.0092</td>\n",
       "      <td>0.0089</td>\n",
       "      <td>0.2290</td>\n",
       "      <td>0.0146</td>\n",
       "      <td>0.2198</td>\n",
       "      <td>0.0112</td>\n",
       "      <td>black</td>\n",
       "      <td>30</td>\n",
       "    </tr>\n",
       "    <tr>\n",
       "      <th>31</th>\n",
       "      <td>0</td>\n",
       "      <td>31</td>\n",
       "      <td>0.2089</td>\n",
       "      <td>0.0731</td>\n",
       "      <td>0.2260</td>\n",
       "      <td>0.1111</td>\n",
       "      <td>0.0081</td>\n",
       "      <td>0.0078</td>\n",
       "      <td>0.2295</td>\n",
       "      <td>0.0107</td>\n",
       "      <td>0.2214</td>\n",
       "      <td>0.0068</td>\n",
       "      <td>black</td>\n",
       "      <td>31</td>\n",
       "    </tr>\n",
       "    <tr>\n",
       "      <th>32</th>\n",
       "      <td>0</td>\n",
       "      <td>32</td>\n",
       "      <td>0.1793</td>\n",
       "      <td>0.0548</td>\n",
       "      <td>0.1846</td>\n",
       "      <td>0.0706</td>\n",
       "      <td>0.0022</td>\n",
       "      <td>0.0034</td>\n",
       "      <td>0.2233</td>\n",
       "      <td>0.0100</td>\n",
       "      <td>0.2211</td>\n",
       "      <td>0.0078</td>\n",
       "      <td>black</td>\n",
       "      <td>32</td>\n",
       "    </tr>\n",
       "    <tr>\n",
       "      <th>33</th>\n",
       "      <td>0</td>\n",
       "      <td>33</td>\n",
       "      <td>0.2550</td>\n",
       "      <td>0.0945</td>\n",
       "      <td>0.2408</td>\n",
       "      <td>0.1071</td>\n",
       "      <td>0.0090</td>\n",
       "      <td>0.0104</td>\n",
       "      <td>0.2318</td>\n",
       "      <td>0.0118</td>\n",
       "      <td>0.2229</td>\n",
       "      <td>0.0046</td>\n",
       "      <td>black</td>\n",
       "      <td>33</td>\n",
       "    </tr>\n",
       "    <tr>\n",
       "      <th>34</th>\n",
       "      <td>1</td>\n",
       "      <td>0</td>\n",
       "      <td>0.2689</td>\n",
       "      <td>0.1143</td>\n",
       "      <td>0.3003</td>\n",
       "      <td>0.1072</td>\n",
       "      <td>0.0080</td>\n",
       "      <td>0.0090</td>\n",
       "      <td>0.2276</td>\n",
       "      <td>0.0132</td>\n",
       "      <td>0.2195</td>\n",
       "      <td>0.0083</td>\n",
       "      <td>black</td>\n",
       "      <td>34</td>\n",
       "    </tr>\n",
       "    <tr>\n",
       "      <th>35</th>\n",
       "      <td>1</td>\n",
       "      <td>1</td>\n",
       "      <td>0.2306</td>\n",
       "      <td>0.0933</td>\n",
       "      <td>0.1999</td>\n",
       "      <td>0.0524</td>\n",
       "      <td>0.0057</td>\n",
       "      <td>0.0108</td>\n",
       "      <td>0.2308</td>\n",
       "      <td>0.0129</td>\n",
       "      <td>0.2251</td>\n",
       "      <td>0.0040</td>\n",
       "      <td>black</td>\n",
       "      <td>35</td>\n",
       "    </tr>\n",
       "    <tr>\n",
       "      <th>36</th>\n",
       "      <td>1</td>\n",
       "      <td>2</td>\n",
       "      <td>0.2684</td>\n",
       "      <td>0.1224</td>\n",
       "      <td>0.2369</td>\n",
       "      <td>0.1397</td>\n",
       "      <td>0.0093</td>\n",
       "      <td>0.0087</td>\n",
       "      <td>0.2256</td>\n",
       "      <td>0.0109</td>\n",
       "      <td>0.2163</td>\n",
       "      <td>0.0117</td>\n",
       "      <td>black</td>\n",
       "      <td>36</td>\n",
       "    </tr>\n",
       "    <tr>\n",
       "      <th>37</th>\n",
       "      <td>1</td>\n",
       "      <td>3</td>\n",
       "      <td>0.3092</td>\n",
       "      <td>0.1074</td>\n",
       "      <td>0.2399</td>\n",
       "      <td>0.0821</td>\n",
       "      <td>0.0138</td>\n",
       "      <td>0.0199</td>\n",
       "      <td>0.2382</td>\n",
       "      <td>0.0199</td>\n",
       "      <td>0.2244</td>\n",
       "      <td>0.0061</td>\n",
       "      <td>black</td>\n",
       "      <td>37</td>\n",
       "    </tr>\n",
       "    <tr>\n",
       "      <th>38</th>\n",
       "      <td>1</td>\n",
       "      <td>4</td>\n",
       "      <td>0.2095</td>\n",
       "      <td>0.0981</td>\n",
       "      <td>0.2281</td>\n",
       "      <td>0.1129</td>\n",
       "      <td>0.0075</td>\n",
       "      <td>0.0077</td>\n",
       "      <td>0.2253</td>\n",
       "      <td>0.0118</td>\n",
       "      <td>0.2178</td>\n",
       "      <td>0.0108</td>\n",
       "      <td>black</td>\n",
       "      <td>38</td>\n",
       "    </tr>\n",
       "    <tr>\n",
       "      <th>39</th>\n",
       "      <td>1</td>\n",
       "      <td>5</td>\n",
       "      <td>0.1794</td>\n",
       "      <td>0.0552</td>\n",
       "      <td>0.1757</td>\n",
       "      <td>0.0496</td>\n",
       "      <td>0.0020</td>\n",
       "      <td>0.0013</td>\n",
       "      <td>0.2279</td>\n",
       "      <td>0.0039</td>\n",
       "      <td>0.2259</td>\n",
       "      <td>0.0038</td>\n",
       "      <td>black</td>\n",
       "      <td>39</td>\n",
       "    </tr>\n",
       "  </tbody>\n",
       "</table>\n",
       "</div>"
      ],
      "text/plain": [
       "   Season Round    RPS        TrueRPS        ForecastError        ExpectedRPS  \\\n",
       "                  mean    std    mean    std          mean    std        mean   \n",
       "0       0     0 0.2040 0.0861  0.2040 0.0861        0.0000 0.0000      0.2250   \n",
       "1       0     1 0.2409 0.0911  0.2348 0.0846        0.0001 0.0002      0.2253   \n",
       "2       0     2 0.2429 0.0788  0.2442 0.0831        0.0002 0.0002      0.2248   \n",
       "3       0     3 0.2106 0.0813  0.2125 0.0795        0.0003 0.0004      0.2257   \n",
       "4       0     4 0.2595 0.1030  0.2653 0.1104        0.0005 0.0007      0.2248   \n",
       "5       0     5 0.2587 0.0916  0.2558 0.0816        0.0006 0.0006      0.2258   \n",
       "6       0     6 0.2428 0.0933  0.2396 0.0927        0.0002 0.0002      0.2247   \n",
       "7       0     7 0.2321 0.0768  0.2425 0.0926        0.0012 0.0011      0.2263   \n",
       "8       0     8 0.2231 0.0946  0.2123 0.0811        0.0024 0.0020      0.2261   \n",
       "9       0     9 0.2548 0.1045  0.2673 0.0914        0.0019 0.0022      0.2273   \n",
       "10      0    10 0.1894 0.0562  0.1979 0.0760        0.0022 0.0013      0.2262   \n",
       "11      0    11 0.2122 0.0760  0.2235 0.0887        0.0028 0.0027      0.2269   \n",
       "12      0    12 0.2395 0.1065  0.2427 0.0915        0.0036 0.0028      0.2288   \n",
       "13      0    13 0.1936 0.0662  0.2197 0.0850        0.0050 0.0068      0.2293   \n",
       "14      0    14 0.2287 0.0805  0.2337 0.0888        0.0021 0.0030      0.2261   \n",
       "15      0    15 0.2567 0.0958  0.2616 0.0885        0.0019 0.0026      0.2266   \n",
       "16      0    16 0.2474 0.1160  0.2172 0.0997        0.0066 0.0057      0.2293   \n",
       "17      0    17 0.2409 0.0841  0.2327 0.0812        0.0059 0.0048      0.2303   \n",
       "18      0    18 0.2077 0.0460  0.2108 0.0607        0.0017 0.0027      0.2251   \n",
       "19      0    19 0.2576 0.1230  0.2528 0.0950        0.0033 0.0037      0.2289   \n",
       "20      0    20 0.1959 0.0774  0.1987 0.0933        0.0061 0.0078      0.2278   \n",
       "21      0    21 0.2309 0.0887  0.2733 0.0899        0.0059 0.0062      0.2294   \n",
       "22      0    22 0.2367 0.1155  0.2308 0.1029        0.0032 0.0046      0.2252   \n",
       "23      0    23 0.1858 0.0688  0.1800 0.0705        0.0043 0.0081      0.2296   \n",
       "24      0    24 0.2158 0.0769  0.2126 0.0687        0.0068 0.0073      0.2277   \n",
       "25      0    25 0.1975 0.0615  0.2207 0.0950        0.0069 0.0066      0.2311   \n",
       "26      0    26 0.2500 0.1076  0.2136 0.0956        0.0061 0.0068      0.2295   \n",
       "27      0    27 0.2125 0.1011  0.1780 0.0628        0.0094 0.0109      0.2302   \n",
       "28      0    28 0.2920 0.0950  0.2935 0.1195        0.0069 0.0093      0.2279   \n",
       "29      0    29 0.2346 0.1022  0.2285 0.0887        0.0038 0.0074      0.2273   \n",
       "30      0    30 0.1908 0.0711  0.1967 0.1038        0.0092 0.0089      0.2290   \n",
       "31      0    31 0.2089 0.0731  0.2260 0.1111        0.0081 0.0078      0.2295   \n",
       "32      0    32 0.1793 0.0548  0.1846 0.0706        0.0022 0.0034      0.2233   \n",
       "33      0    33 0.2550 0.0945  0.2408 0.1071        0.0090 0.0104      0.2318   \n",
       "34      1     0 0.2689 0.1143  0.3003 0.1072        0.0080 0.0090      0.2276   \n",
       "35      1     1 0.2306 0.0933  0.1999 0.0524        0.0057 0.0108      0.2308   \n",
       "36      1     2 0.2684 0.1224  0.2369 0.1397        0.0093 0.0087      0.2256   \n",
       "37      1     3 0.3092 0.1074  0.2399 0.0821        0.0138 0.0199      0.2382   \n",
       "38      1     4 0.2095 0.0981  0.2281 0.1129        0.0075 0.0077      0.2253   \n",
       "39      1     5 0.1794 0.0552  0.1757 0.0496        0.0020 0.0013      0.2279   \n",
       "\n",
       "          Forecastability         color x_axis  \n",
       "      std            mean    std                \n",
       "0  0.0000          0.2250 0.0000  black      0  \n",
       "1  0.0007          0.2252 0.0005  black      1  \n",
       "2  0.0008          0.2246 0.0008  black      2  \n",
       "3  0.0010          0.2253 0.0008  black      3  \n",
       "4  0.0020          0.2243 0.0016  black      4  \n",
       "5  0.0019          0.2252 0.0017  black      5  \n",
       "6  0.0011          0.2244 0.0011  black      6  \n",
       "7  0.0024          0.2251 0.0025  black      7  \n",
       "8  0.0037          0.2237 0.0025  black      8  \n",
       "9  0.0033          0.2254 0.0021  black      9  \n",
       "10 0.0040          0.2240 0.0038  black     10  \n",
       "11 0.0047          0.2240 0.0039  black     11  \n",
       "12 0.0035          0.2252 0.0024  black     12  \n",
       "13 0.0043          0.2243 0.0043  black     13  \n",
       "14 0.0049          0.2241 0.0039  black     14  \n",
       "15 0.0026          0.2247 0.0032  black     15  \n",
       "16 0.0085          0.2227 0.0054  black     16  \n",
       "17 0.0068          0.2244 0.0045  black     17  \n",
       "18 0.0041          0.2234 0.0041  black     18  \n",
       "19 0.0064          0.2256 0.0039  black     19  \n",
       "20 0.0065          0.2217 0.0055  black     20  \n",
       "21 0.0104          0.2235 0.0059  black     21  \n",
       "22 0.0081          0.2220 0.0056  black     22  \n",
       "23 0.0097          0.2253 0.0030  black     23  \n",
       "24 0.0121          0.2210 0.0068  black     24  \n",
       "25 0.0079          0.2241 0.0057  black     25  \n",
       "26 0.0082          0.2234 0.0047  black     26  \n",
       "27 0.0083          0.2208 0.0084  black     27  \n",
       "28 0.0103          0.2210 0.0093  black     28  \n",
       "29 0.0107          0.2235 0.0057  black     29  \n",
       "30 0.0146          0.2198 0.0112  black     30  \n",
       "31 0.0107          0.2214 0.0068  black     31  \n",
       "32 0.0100          0.2211 0.0078  black     32  \n",
       "33 0.0118          0.2229 0.0046  black     33  \n",
       "34 0.0132          0.2195 0.0083  black     34  \n",
       "35 0.0129          0.2251 0.0040  black     35  \n",
       "36 0.0109          0.2163 0.0117  black     36  \n",
       "37 0.0199          0.2244 0.0061  black     37  \n",
       "38 0.0118          0.2178 0.0108  black     38  \n",
       "39 0.0039          0.2259 0.0038  black     39  "
      ]
     },
     "execution_count": 22,
     "metadata": {},
     "output_type": "execute_result"
    }
   ],
   "source": [
    "metrics_df.head(40)"
   ]
  },
  {
   "cell_type": "code",
   "execution_count": 71,
   "id": "5464cf94",
   "metadata": {},
   "outputs": [],
   "source": [
    "config = {\n",
    "    'toImageButtonOptions': {\n",
    "        'format': 'svg', # one of png, svg, jpeg, webp\n",
    "        'filename': 'figure',\n",
    "        \"height\": 400,\n",
    "        \"width\": 1000,\n",
    "        'scale': 1 # Multiply title/legend/axis/canvas sizes by this factor\n",
    "    }\n",
    "}\n",
    "def return_fig_settings(fig_instance, x_title, y_title):\n",
    "    fig_instance.update_layout(\n",
    "        xaxis_title=x_title,\n",
    "        yaxis_title=y_title,\n",
    "        xaxis_showgrid=False,\n",
    "        yaxis_showgrid=False,\n",
    "        xaxis_dtick=1,\n",
    "        xaxis_rangemode=\"tozero\",\n",
    "        legend=dict(\n",
    "            font=dict(\n",
    "                family='Helvetica',\n",
    "                size=12,\n",
    "                color=\"Black\"\n",
    "            ),\n",
    "            orientation='h',\n",
    "            bordercolor=\"Black\",\n",
    "            borderwidth=2,\n",
    "            yanchor=\"bottom\",\n",
    "            xanchor='right',\n",
    "            x=1,\n",
    "            y=1\n",
    "        )\n",
    "    )\n",
    "    fig_instance.update_yaxes(\n",
    "        showgrid=False,\n",
    "        showline=True,\n",
    "        linecolor='black',  # line color\n",
    "        linewidth=2.4,  # line size\n",
    "        tickmode='auto',\n",
    "        ticklen=10,\n",
    "        tickfont=dict(\n",
    "            size=12\n",
    "        )\n",
    "    )\n",
    "    fig_instance.update_xaxes(\n",
    "        showgrid=False,\n",
    "        showline=True,\n",
    "        linecolor='black',\n",
    "        linewidth=2.4,\n",
    "        tickfont=dict(\n",
    "            size=12\n",
    "        )\n",
    "    )\n",
    "    font_dict = dict(\n",
    "        family='Helvetica',\n",
    "        size=22,\n",
    "        color='black'\n",
    "    )\n",
    "    fig.update_layout(\n",
    "        font=font_dict,  # font formatting\n",
    "        plot_bgcolor='white',  # background color\n",
    "    )\n",
    "    fig_instance.update_layout(\n",
    "        plot_bgcolor='white',  # background color\n",
    "    )"
   ]
  },
  {
   "cell_type": "code",
   "execution_count": 70,
   "id": "686ed3fd",
   "metadata": {},
   "outputs": [
    {
     "data": {
      "application/vnd.plotly.v1+json": {
       "config": {
        "plotlyServerURL": "https://plot.ly",
        "toImageButtonOptions": {
         "filename": "figure",
         "format": "svg",
         "height": 400,
         "scale": 1,
         "width": 1000
        }
       },
       "data": [
        {
         "line": {
          "color": "lightgray",
          "width": 2
         },
         "mode": "lines+markers",
         "name": "RPS",
         "type": "scatter",
         "x": [
          0,
          1,
          2,
          3,
          4,
          5,
          6,
          7,
          8,
          9,
          10,
          11,
          12,
          13,
          14,
          15,
          16,
          17,
          18,
          19,
          20,
          21,
          22,
          23,
          24,
          25,
          26,
          27,
          28,
          29,
          30,
          31,
          32,
          33,
          34,
          35,
          36,
          37,
          38,
          39,
          40,
          41,
          42,
          43,
          44,
          45,
          46,
          47,
          48,
          49,
          50,
          51,
          52,
          53,
          54,
          55,
          56,
          57,
          58,
          59,
          60,
          61,
          62,
          63,
          64,
          65,
          66,
          67,
          68,
          69,
          70,
          71,
          72,
          73,
          74,
          75,
          76,
          77,
          78,
          79,
          80,
          81,
          82,
          83,
          84,
          85,
          86,
          87,
          88,
          89,
          90,
          91,
          92,
          93,
          94,
          95,
          96,
          97,
          98,
          99,
          100,
          101,
          102,
          103,
          104,
          105,
          106,
          107,
          108,
          109,
          110,
          111,
          112,
          113,
          114,
          115,
          116,
          117,
          118,
          119,
          120,
          121,
          122,
          123,
          124,
          125,
          126,
          127,
          128,
          129,
          130,
          131,
          132,
          133,
          134,
          135,
          136,
          137,
          138,
          139,
          140,
          141,
          142,
          143,
          144,
          145,
          146,
          147,
          148,
          149,
          150,
          151,
          152,
          153,
          154,
          155,
          156,
          157,
          158,
          159,
          160,
          161,
          162,
          163,
          164,
          165,
          166,
          167,
          168,
          169,
          170,
          171,
          172,
          173,
          174,
          175,
          176,
          177,
          178,
          179,
          180,
          181,
          182,
          183,
          184,
          185,
          186,
          187,
          188,
          189,
          190,
          191,
          192,
          193,
          194,
          195,
          196,
          197,
          198,
          199,
          200,
          201,
          202,
          203,
          204,
          205,
          206,
          207,
          208,
          209,
          210,
          211,
          212,
          213,
          214,
          215,
          216,
          217,
          218,
          219,
          220,
          221,
          222,
          223,
          224,
          225,
          226,
          227,
          228,
          229,
          230,
          231,
          232,
          233,
          234,
          235,
          236,
          237,
          238,
          239,
          240,
          241,
          242,
          243,
          244,
          245,
          246,
          247,
          248,
          249,
          250,
          251,
          252,
          253,
          254,
          255,
          256,
          257,
          258,
          259,
          260,
          261,
          262,
          263,
          264,
          265,
          266,
          267,
          268,
          269,
          270,
          271,
          272,
          273,
          274,
          275,
          276,
          277,
          278,
          279,
          280,
          281,
          282,
          283,
          284,
          285,
          286,
          287,
          288,
          289,
          290,
          291,
          292,
          293,
          294,
          295,
          296,
          297,
          298,
          299,
          300,
          301,
          302,
          303,
          304,
          305,
          306,
          307,
          308,
          309,
          310,
          311,
          312,
          313,
          314,
          315,
          316,
          317,
          318,
          319,
          320,
          321,
          322,
          323,
          324,
          325,
          326,
          327,
          328,
          329,
          330,
          331,
          332,
          333,
          334,
          335,
          336,
          337,
          338,
          339
         ],
         "y": [
          0.20401652028571773,
          0.2409184773489858,
          0.24293743943824925,
          0.2105701857022576,
          0.25946886731507823,
          0.25868011859911444,
          0.24279793892723533,
          0.23205248010610488,
          0.22312396815634644,
          0.2547772806226095,
          0.189428936378764,
          0.2122179075446902,
          0.23946852552599626,
          0.19359125950006995,
          0.22872703598614783,
          0.25666788017244857,
          0.24744162969219927,
          0.24087065362704585,
          0.20774553690383854,
          0.2575708870064776,
          0.1958721180900177,
          0.2308533701018535,
          0.23670405998204347,
          0.18583870917897116,
          0.2157532529638088,
          0.19749638684049792,
          0.24999568348015566,
          0.21249914011315907,
          0.29200139833715655,
          0.23461692166926967,
          0.1907853724430171,
          0.20892037150900789,
          0.17928528275450897,
          0.2550198130509527,
          0.2688599189806584,
          0.2306172546935304,
          0.26838452267745505,
          0.30918799974067956,
          0.2094861220104543,
          0.17940270476909648,
          0.19011267963439593,
          0.21971686880293326,
          0.20222179901513176,
          0.1947735708729186,
          0.21144584266420166,
          0.18860235916230098,
          0.242110322569047,
          0.3164566202750203,
          0.22653187722320872,
          0.2339114232558645,
          0.2873784190229443,
          0.24075791616060785,
          0.22199976195538476,
          0.2309639353763031,
          0.20174598998017848,
          0.2874495084725329,
          0.16857695379387735,
          0.26496227271009687,
          0.18186627791628504,
          0.22686739027508582,
          0.21758717747707546,
          0.2191535470852229,
          0.2358531506894313,
          0.2434352386862232,
          0.18822454725058405,
          0.2617168536578217,
          0.2064460779201273,
          0.25923694965003763,
          0.2971149278372032,
          0.2204910517110864,
          0.24012401598958732,
          0.19517587173580753,
          0.18685322728123252,
          0.2027500661227911,
          0.27142007030143955,
          0.23904863591718678,
          0.17220902599590582,
          0.23731727214982878,
          0.2699791591245956,
          0.2034457554618284,
          0.2538477882047158,
          0.22645348737074608,
          0.20902635231588176,
          0.2818675705087329,
          0.24090572870913082,
          0.28399176398492293,
          0.27065147777990317,
          0.21260172761073107,
          0.2590128786984262,
          0.17873936444776573,
          0.19854319006509202,
          0.21598951867556304,
          0.20123512610684208,
          0.20559096967765716,
          0.20674363944274166,
          0.17061634453401306,
          0.21709275085478685,
          0.29102217434201405,
          0.22705482272874494,
          0.19599925752787495,
          0.1986688061104397,
          0.23424054394434363,
          0.21394347136665903,
          0.2747551330195829,
          0.25574788569933965,
          0.2656388432893937,
          0.19318982660485373,
          0.16089675283727664,
          0.19145741422478812,
          0.2565319694540716,
          0.16643346936333644,
          0.21716062176191062,
          0.2644690203226419,
          0.19073483285695897,
          0.24800047660870042,
          0.25938689376711116,
          0.22380333821076817,
          0.2666550600202154,
          0.23715209172436807,
          0.23609290809334194,
          0.21651581948555923,
          0.2571851071518623,
          0.17498421778702677,
          0.21120590585258014,
          0.17999922560097573,
          0.29561607462190204,
          0.18558733767756594,
          0.18022157264114375,
          0.2244465775794221,
          0.28983730850251216,
          0.16111979977400184,
          0.1669246659294954,
          0.2004456151593794,
          0.2596601698987818,
          0.19347536650243308,
          0.17363698390805546,
          0.209351951854324,
          0.23938168700486212,
          0.21068901734017823,
          0.23886923472010801,
          0.20947087723593155,
          0.18331743245538284,
          0.246814670172467,
          0.22374520779886364,
          0.21489425996267292,
          0.22755749562204627,
          0.1699593628675025,
          0.23388699756018705,
          0.16014117057185467,
          0.262130319092282,
          0.24812377479732334,
          0.2521965692164339,
          0.15997870833962866,
          0.2514274167163639,
          0.25382018597937056,
          0.21312524722554319,
          0.20026951585812894,
          0.26388383582681324,
          0.1799086692411539,
          0.235720508837545,
          0.19547917295672723,
          0.21626383925329157,
          0.21735141517658235,
          0.17933420780391016,
          0.19919386092767088,
          0.19423685489132148,
          0.18789538066324546,
          0.19489537028504406,
          0.23659060001268462,
          0.24732529644925938,
          0.185058438358011,
          0.18799301030092835,
          0.18972636138970256,
          0.26349763437127477,
          0.2209161230704936,
          0.2416793535179884,
          0.23835762122850224,
          0.23516585855282196,
          0.22509120224847784,
          0.19469101960779484,
          0.21426813856405239,
          0.26150217301920553,
          0.22872095832049333,
          0.2061702444732102,
          0.2498273522937137,
          0.22221641573005438,
          0.18077416748822714,
          0.22796351950349225,
          0.16662638979964636,
          0.17021874387508712,
          0.18945477058370486,
          0.20775419386787652,
          0.24555395975302707,
          0.2600298716127172,
          0.22154709843047893,
          0.17860441760401732,
          0.30054288356115966,
          0.17141914951362341,
          0.22647430506507016,
          0.19360811324563437,
          0.23888386289338864,
          0.21035010637558427,
          0.22832014245297363,
          0.18369303080370944,
          0.2174306867816214,
          0.2933612082512472,
          0.2043623124397388,
          0.18102983055062388,
          0.22485601474773947,
          0.23951525418501982,
          0.23417765367585142,
          0.17726424076049008,
          0.17642600015029322,
          0.19324115824343202,
          0.2509351617089192,
          0.19635738260038613,
          0.22229474163881852,
          0.21464824776520025,
          0.21152644252685895,
          0.2181385380628033,
          0.2155784159011105,
          0.22321815533992279,
          0.23114808163861675,
          0.2612513309692848,
          0.16798756656226185,
          0.18745174390797398,
          0.16739067225066817,
          0.2363800685307243,
          0.2450442987895896,
          0.19389119897621065,
          0.259358008148117,
          0.21888856003983495,
          0.23156829254454822,
          0.17578298935447315,
          0.20016703913163994,
          0.17919706635091007,
          0.22982756491821085,
          0.1962382360454226,
          0.19526596838264504,
          0.21992678904711516,
          0.18270351720043101,
          0.1851073934062072,
          0.23746740148956746,
          0.26221335388102407,
          0.19924535727487766,
          0.2173901365279175,
          0.21917645348868867,
          0.16962964595789995,
          0.20989920958010014,
          0.14483582914582568,
          0.19950642853874545,
          0.1528679973579874,
          0.2647445763601665,
          0.23628545369518658,
          0.2188429818090236,
          0.22434059209278148,
          0.21027787815853702,
          0.2789457656382843,
          0.19221140308268933,
          0.22187347543969024,
          0.25546737876019693,
          0.26641105125841896,
          0.16516464479436568,
          0.2729517933160548,
          0.3401166120252513,
          0.19034222780268487,
          0.1699295622432938,
          0.18097228322633863,
          0.20935195641189722,
          0.217383250199764,
          0.2745912224295337,
          0.20703808943704197,
          0.1745081476604409,
          0.17206095815269776,
          0.18451611881194113,
          0.15065568962017692,
          0.17211412521073688,
          0.23797195824251227,
          0.15769331509981863,
          0.21620302024532087,
          0.24713865913827565,
          0.24299884663480892,
          0.2771714571009029,
          0.19012539827942307,
          0.21162396623378898,
          0.17563131177058594,
          0.15397738258467378,
          0.24753617713248882,
          0.16699584196766107,
          0.17744381749475605,
          0.1658305151520142,
          0.17722617488307857,
          0.26677944816074484,
          0.24254725015588383,
          0.27565245932903365,
          0.20073985577473968,
          0.23717105572180947,
          0.2605893360195599,
          0.25501810983893375,
          0.15295773246874333,
          0.20425309911317743,
          0.14239971687660702,
          0.18864600402998352,
          0.21031571351455147,
          0.17438786605912113,
          0.3335652371738082,
          0.15778087431449198,
          0.21638497984998065,
          0.13390749169225702,
          0.16577848536945833,
          0.21423495477442758,
          0.2701573920674345,
          0.23375158900937779,
          0.2816133834516374,
          0.19966222899897568,
          0.19591844859157934,
          0.16702579416762858,
          0.2437919338187238,
          0.24740092089090515,
          0.29359137185445316,
          0.21945980397397025,
          0.2434262249495648,
          0.1779074968302853,
          0.2367358937362842,
          0.23178545796758865,
          0.20706465814686867,
          0.16867875236074814,
          0.18740292957105734,
          0.13624017401603794,
          0.17819610250105886,
          0.25237896872302756,
          0.177038885807268,
          0.19552360208736844,
          0.21348923364843428,
          0.1642999296001238,
          0.16595498777446835,
          0.15818755986909547,
          0.21211986330786844,
          0.22377432592338564,
          0.18959982459844005
         ]
        },
        {
         "line": {
          "color": "black",
          "width": 2
         },
         "mode": "lines+markers",
         "name": "Expected RPS",
         "type": "scatter",
         "x": [
          0,
          1,
          2,
          3,
          4,
          5,
          6,
          7,
          8,
          9,
          10,
          11,
          12,
          13,
          14,
          15,
          16,
          17,
          18,
          19,
          20,
          21,
          22,
          23,
          24,
          25,
          26,
          27,
          28,
          29,
          30,
          31,
          32,
          33,
          34,
          35,
          36,
          37,
          38,
          39,
          40,
          41,
          42,
          43,
          44,
          45,
          46,
          47,
          48,
          49,
          50,
          51,
          52,
          53,
          54,
          55,
          56,
          57,
          58,
          59,
          60,
          61,
          62,
          63,
          64,
          65,
          66,
          67,
          68,
          69,
          70,
          71,
          72,
          73,
          74,
          75,
          76,
          77,
          78,
          79,
          80,
          81,
          82,
          83,
          84,
          85,
          86,
          87,
          88,
          89,
          90,
          91,
          92,
          93,
          94,
          95,
          96,
          97,
          98,
          99,
          100,
          101,
          102,
          103,
          104,
          105,
          106,
          107,
          108,
          109,
          110,
          111,
          112,
          113,
          114,
          115,
          116,
          117,
          118,
          119,
          120,
          121,
          122,
          123,
          124,
          125,
          126,
          127,
          128,
          129,
          130,
          131,
          132,
          133,
          134,
          135,
          136,
          137,
          138,
          139,
          140,
          141,
          142,
          143,
          144,
          145,
          146,
          147,
          148,
          149,
          150,
          151,
          152,
          153,
          154,
          155,
          156,
          157,
          158,
          159,
          160,
          161,
          162,
          163,
          164,
          165,
          166,
          167,
          168,
          169,
          170,
          171,
          172,
          173,
          174,
          175,
          176,
          177,
          178,
          179,
          180,
          181,
          182,
          183,
          184,
          185,
          186,
          187,
          188,
          189,
          190,
          191,
          192,
          193,
          194,
          195,
          196,
          197,
          198,
          199,
          200,
          201,
          202,
          203,
          204,
          205,
          206,
          207,
          208,
          209,
          210,
          211,
          212,
          213,
          214,
          215,
          216,
          217,
          218,
          219,
          220,
          221,
          222,
          223,
          224,
          225,
          226,
          227,
          228,
          229,
          230,
          231,
          232,
          233,
          234,
          235,
          236,
          237,
          238,
          239,
          240,
          241,
          242,
          243,
          244,
          245,
          246,
          247,
          248,
          249,
          250,
          251,
          252,
          253,
          254,
          255,
          256,
          257,
          258,
          259,
          260,
          261,
          262,
          263,
          264,
          265,
          266,
          267,
          268,
          269,
          270,
          271,
          272,
          273,
          274,
          275,
          276,
          277,
          278,
          279,
          280,
          281,
          282,
          283,
          284,
          285,
          286,
          287,
          288,
          289,
          290,
          291,
          292,
          293,
          294,
          295,
          296,
          297,
          298,
          299,
          300,
          301,
          302,
          303,
          304,
          305,
          306,
          307,
          308,
          309,
          310,
          311,
          312,
          313,
          314,
          315,
          316,
          317,
          318,
          319,
          320,
          321,
          322,
          323,
          324,
          325,
          326,
          327,
          328,
          329,
          330,
          331,
          332,
          333,
          334,
          335,
          336,
          337,
          338,
          339
         ],
         "y": [
          0.22497930951650463,
          0.2253400672891173,
          0.22479979872924524,
          0.2256869976839604,
          0.22480313900275398,
          0.22577003176675067,
          0.22466234843967386,
          0.226310819900298,
          0.2261050551293352,
          0.22730945089793567,
          0.2262310613577117,
          0.226877596077905,
          0.2288363090147326,
          0.2292857688399832,
          0.22614248642952184,
          0.2266391767681248,
          0.22932404270838344,
          0.23029162044540474,
          0.22506738873678758,
          0.22891411856960742,
          0.22784644008635832,
          0.22944303447513997,
          0.2252423072937222,
          0.22964507684196947,
          0.2277310886358439,
          0.23106209391651097,
          0.2295376866763883,
          0.2301728275817976,
          0.22786750408352108,
          0.22731349074617724,
          0.22897807564308773,
          0.22946019280520216,
          0.2233487270205815,
          0.23182161849183094,
          0.2275683257150099,
          0.2307850019690973,
          0.22562781298284826,
          0.238172454844503,
          0.22532078806306333,
          0.22787780872859098,
          0.22600180935316358,
          0.2285215113903275,
          0.22682546831369643,
          0.22933285758097421,
          0.2307135521330436,
          0.22379370667943188,
          0.23238427436140924,
          0.23213066172424693,
          0.2306805153032001,
          0.22623252308129776,
          0.22968783638201618,
          0.22683835582010403,
          0.22449743391202423,
          0.23636233169639156,
          0.22542302803415806,
          0.22604988436534384,
          0.22223420326114546,
          0.23463108460207613,
          0.2246826328354519,
          0.2296235041155731,
          0.22945200240765384,
          0.22453350978877865,
          0.22623046061507612,
          0.2255631226462105,
          0.22898123246964117,
          0.22288233885953523,
          0.22861087701713606,
          0.22454021556960344,
          0.2267157640826803,
          0.2279068724181159,
          0.22303317625273156,
          0.2349473257229685,
          0.22096760668575055,
          0.2336326694777977,
          0.22237390920182895,
          0.22929585500294555,
          0.22588092295710535,
          0.22959268244661127,
          0.22924633824761,
          0.21993513079811117,
          0.22893402983459218,
          0.22105384144240048,
          0.22367648955325434,
          0.22597000287775593,
          0.2221187468968321,
          0.22431515533956725,
          0.22390812319069844,
          0.2324063771395812,
          0.2175483567466655,
          0.22725000473298598,
          0.22220133206652123,
          0.23044218523049448,
          0.2278802595109295,
          0.22596793876325963,
          0.22683769166762616,
          0.22027044805832935,
          0.2280219617312279,
          0.22191115012212473,
          0.22705358236577025,
          0.21563737003122646,
          0.22662826880697745,
          0.22372776600587596,
          0.2191273436303531,
          0.22617788848345186,
          0.2131388791164943,
          0.226270927416117,
          0.2148665134816286,
          0.2266912200314279,
          0.2198938721852487,
          0.2196733261262602,
          0.22233875253628893,
          0.22110411430513388,
          0.22368568689294893,
          0.21543659584521566,
          0.22790897888251171,
          0.2193679007474547,
          0.22189706722249006,
          0.22685832195588185,
          0.21685440640144654,
          0.22620548837277926,
          0.21862115179165156,
          0.2275994009671582,
          0.21140032652299529,
          0.22439812621679467,
          0.21956907027450315,
          0.22572243220510504,
          0.22399516951464532,
          0.22097457825054193,
          0.2242153703884987,
          0.21390775617098562,
          0.2248690376239303,
          0.21808877177535563,
          0.22251999433746106,
          0.21542058468129074,
          0.22643886435059546,
          0.22411061552871814,
          0.2137859902041095,
          0.2308527077108024,
          0.20952916088418505,
          0.22457264961390036,
          0.21642860963851937,
          0.2278569012719235,
          0.21317814678259453,
          0.22183178928880254,
          0.22413300816441378,
          0.21728493950063013,
          0.21990502376644847,
          0.21220413172305225,
          0.2256978338775268,
          0.22034732352967382,
          0.21558231520998902,
          0.22895691255328054,
          0.21495818689687088,
          0.22117870758755798,
          0.21877817544894274,
          0.22548418696763392,
          0.20506166950069238,
          0.2212435714498932,
          0.21500916499015355,
          0.21928762260958454,
          0.2212794624878493,
          0.22180754239973044,
          0.2164993910536805,
          0.21184780665382008,
          0.2228500094185423,
          0.2201150734554476,
          0.21643740132791522,
          0.21657176127741215,
          0.2267035599796586,
          0.21943992621922304,
          0.21681761790433432,
          0.22911939895903283,
          0.20795877491421033,
          0.22800432196540393,
          0.21551380137292844,
          0.2251023633329715,
          0.21348553564693099,
          0.21943631493292295,
          0.2284838714608265,
          0.21396754008467148,
          0.22222780261706,
          0.2145497901695757,
          0.22347607451382037,
          0.21763971329888754,
          0.21815795414211203,
          0.22787675854887254,
          0.21484071825994608,
          0.22394747946790267,
          0.21517625746979976,
          0.2233821862134251,
          0.21114690899235422,
          0.22450422966063646,
          0.21684051161245665,
          0.22303512713151458,
          0.22226544060404527,
          0.22415286684563107,
          0.21290941250285494,
          0.21330522690074577,
          0.22112073796424048,
          0.215156484174617,
          0.2168585257247259,
          0.21716339585821476,
          0.2315559430662996,
          0.21800664742394069,
          0.21666292025107536,
          0.22641444051962945,
          0.20732321422234035,
          0.22993573804513887,
          0.21571237406230226,
          0.22724583200996903,
          0.20857194837430826,
          0.22487767092594668,
          0.22401305228749452,
          0.21170812290471738,
          0.22408576150354131,
          0.21271222535361248,
          0.21821930796247382,
          0.2113752928665664,
          0.2249630445858618,
          0.221845750508909,
          0.2184483709900526,
          0.22791425772361049,
          0.20805456513075166,
          0.2235778963175369,
          0.20876808184557016,
          0.22655946466022422,
          0.21813473224124613,
          0.22256481981187942,
          0.2275614108482057,
          0.2184761202718239,
          0.21290254176061985,
          0.21442109416377342,
          0.22765144949859303,
          0.2081204350372347,
          0.21869790260830516,
          0.21640755947348458,
          0.22425803660705826,
          0.2186844495934578,
          0.21484961122357754,
          0.22309932867946658,
          0.2066417042183758,
          0.22298316152803624,
          0.21840134953900953,
          0.2341045592665553,
          0.20466623736799938,
          0.2255774634533924,
          0.22781356964649588,
          0.20670615030375228,
          0.2267723779367389,
          0.21442821142490848,
          0.22449912256751192,
          0.20534176117876998,
          0.22750232496209705,
          0.21711404709906718,
          0.21626205020772668,
          0.22497598843807884,
          0.21492544188923957,
          0.22576594777517225,
          0.21087682849787728,
          0.22995416632497578,
          0.21915310043700767,
          0.21837756725365898,
          0.2273830931970113,
          0.22348772326273128,
          0.22001507610196136,
          0.2173132935879663,
          0.2252191791118142,
          0.21557667230144092,
          0.21793805741470984,
          0.2183980213309307,
          0.22048348149811295,
          0.22340557307608322,
          0.20700771173034438,
          0.22707312996848966,
          0.20369060769203295,
          0.2141991068218859,
          0.2127643841694353,
          0.22513007743662758,
          0.19992236873766892,
          0.2132210782113203,
          0.22379443127165471,
          0.20255791692992187,
          0.2159411114512217,
          0.2118070916925709,
          0.22254349627062137,
          0.1985561778444373,
          0.22033096653082526,
          0.2082477962037784,
          0.21485045927144097,
          0.21540750538187056,
          0.21687351470939534,
          0.2158657482837134,
          0.2070021120865475,
          0.21969482853278752,
          0.20761613637900067,
          0.21395112796113713,
          0.2198392812886332,
          0.21424934133131346,
          0.21335549050361294,
          0.20628393139047999,
          0.2188464106197359,
          0.21030595250678497,
          0.21304692248990473,
          0.21255314049445398,
          0.20877463683067013,
          0.21980290361182064,
          0.19430436592923198,
          0.22652383215712243,
          0.19147579577796056,
          0.2179765236338824,
          0.1976380446867917,
          0.21809079500351747,
          0.19103585563702585,
          0.21872166755421482,
          0.21153314326569492,
          0.20444225330273988,
          0.20673032241890812,
          0.206708474862878,
          0.21010344707193765,
          0.19462326804038438,
          0.20826809484219927,
          0.1994437939511049,
          0.21522617148012557,
          0.20455482979339473,
          0.2061905419158013,
          0.20497739154932787,
          0.206156652017035,
          0.20874468258564313,
          0.19409639673951806,
          0.20281986641336794,
          0.226596112512327,
          0.2066363808782185,
          0.21039324923953912,
          0.20131403064494574,
          0.21370320376307578,
          0.2001586208823002,
          0.20284516979538467,
          0.20005757796745646,
          0.2046792399551638,
          0.2098257690184106
         ]
        }
       ],
       "layout": {
        "autosize": true,
        "font": {
         "color": "black",
         "family": "Helvetica",
         "size": 22
        },
        "legend": {
         "bordercolor": "Black",
         "borderwidth": 2,
         "font": {
          "color": "Black",
          "family": "Helvetica",
          "size": 12
         },
         "orientation": "h",
         "x": 1,
         "xanchor": "right",
         "y": 1,
         "yanchor": "bottom"
        },
        "plot_bgcolor": "white",
        "showlegend": true,
        "template": {
         "data": {
          "bar": [
           {
            "error_x": {
             "color": "#2a3f5f"
            },
            "error_y": {
             "color": "#2a3f5f"
            },
            "marker": {
             "line": {
              "color": "white",
              "width": 0.5
             },
             "pattern": {
              "fillmode": "overlay",
              "size": 10,
              "solidity": 0.2
             }
            },
            "type": "bar"
           }
          ],
          "barpolar": [
           {
            "marker": {
             "line": {
              "color": "white",
              "width": 0.5
             },
             "pattern": {
              "fillmode": "overlay",
              "size": 10,
              "solidity": 0.2
             }
            },
            "type": "barpolar"
           }
          ],
          "carpet": [
           {
            "aaxis": {
             "endlinecolor": "#2a3f5f",
             "gridcolor": "#C8D4E3",
             "linecolor": "#C8D4E3",
             "minorgridcolor": "#C8D4E3",
             "startlinecolor": "#2a3f5f"
            },
            "baxis": {
             "endlinecolor": "#2a3f5f",
             "gridcolor": "#C8D4E3",
             "linecolor": "#C8D4E3",
             "minorgridcolor": "#C8D4E3",
             "startlinecolor": "#2a3f5f"
            },
            "type": "carpet"
           }
          ],
          "choropleth": [
           {
            "colorbar": {
             "outlinewidth": 0,
             "ticks": ""
            },
            "type": "choropleth"
           }
          ],
          "contour": [
           {
            "colorbar": {
             "outlinewidth": 0,
             "ticks": ""
            },
            "colorscale": [
             [
              0,
              "#0d0887"
             ],
             [
              0.1111111111111111,
              "#46039f"
             ],
             [
              0.2222222222222222,
              "#7201a8"
             ],
             [
              0.3333333333333333,
              "#9c179e"
             ],
             [
              0.4444444444444444,
              "#bd3786"
             ],
             [
              0.5555555555555556,
              "#d8576b"
             ],
             [
              0.6666666666666666,
              "#ed7953"
             ],
             [
              0.7777777777777778,
              "#fb9f3a"
             ],
             [
              0.8888888888888888,
              "#fdca26"
             ],
             [
              1,
              "#f0f921"
             ]
            ],
            "type": "contour"
           }
          ],
          "contourcarpet": [
           {
            "colorbar": {
             "outlinewidth": 0,
             "ticks": ""
            },
            "type": "contourcarpet"
           }
          ],
          "heatmap": [
           {
            "colorbar": {
             "outlinewidth": 0,
             "ticks": ""
            },
            "colorscale": [
             [
              0,
              "#0d0887"
             ],
             [
              0.1111111111111111,
              "#46039f"
             ],
             [
              0.2222222222222222,
              "#7201a8"
             ],
             [
              0.3333333333333333,
              "#9c179e"
             ],
             [
              0.4444444444444444,
              "#bd3786"
             ],
             [
              0.5555555555555556,
              "#d8576b"
             ],
             [
              0.6666666666666666,
              "#ed7953"
             ],
             [
              0.7777777777777778,
              "#fb9f3a"
             ],
             [
              0.8888888888888888,
              "#fdca26"
             ],
             [
              1,
              "#f0f921"
             ]
            ],
            "type": "heatmap"
           }
          ],
          "heatmapgl": [
           {
            "colorbar": {
             "outlinewidth": 0,
             "ticks": ""
            },
            "colorscale": [
             [
              0,
              "#0d0887"
             ],
             [
              0.1111111111111111,
              "#46039f"
             ],
             [
              0.2222222222222222,
              "#7201a8"
             ],
             [
              0.3333333333333333,
              "#9c179e"
             ],
             [
              0.4444444444444444,
              "#bd3786"
             ],
             [
              0.5555555555555556,
              "#d8576b"
             ],
             [
              0.6666666666666666,
              "#ed7953"
             ],
             [
              0.7777777777777778,
              "#fb9f3a"
             ],
             [
              0.8888888888888888,
              "#fdca26"
             ],
             [
              1,
              "#f0f921"
             ]
            ],
            "type": "heatmapgl"
           }
          ],
          "histogram": [
           {
            "marker": {
             "pattern": {
              "fillmode": "overlay",
              "size": 10,
              "solidity": 0.2
             }
            },
            "type": "histogram"
           }
          ],
          "histogram2d": [
           {
            "colorbar": {
             "outlinewidth": 0,
             "ticks": ""
            },
            "colorscale": [
             [
              0,
              "#0d0887"
             ],
             [
              0.1111111111111111,
              "#46039f"
             ],
             [
              0.2222222222222222,
              "#7201a8"
             ],
             [
              0.3333333333333333,
              "#9c179e"
             ],
             [
              0.4444444444444444,
              "#bd3786"
             ],
             [
              0.5555555555555556,
              "#d8576b"
             ],
             [
              0.6666666666666666,
              "#ed7953"
             ],
             [
              0.7777777777777778,
              "#fb9f3a"
             ],
             [
              0.8888888888888888,
              "#fdca26"
             ],
             [
              1,
              "#f0f921"
             ]
            ],
            "type": "histogram2d"
           }
          ],
          "histogram2dcontour": [
           {
            "colorbar": {
             "outlinewidth": 0,
             "ticks": ""
            },
            "colorscale": [
             [
              0,
              "#0d0887"
             ],
             [
              0.1111111111111111,
              "#46039f"
             ],
             [
              0.2222222222222222,
              "#7201a8"
             ],
             [
              0.3333333333333333,
              "#9c179e"
             ],
             [
              0.4444444444444444,
              "#bd3786"
             ],
             [
              0.5555555555555556,
              "#d8576b"
             ],
             [
              0.6666666666666666,
              "#ed7953"
             ],
             [
              0.7777777777777778,
              "#fb9f3a"
             ],
             [
              0.8888888888888888,
              "#fdca26"
             ],
             [
              1,
              "#f0f921"
             ]
            ],
            "type": "histogram2dcontour"
           }
          ],
          "mesh3d": [
           {
            "colorbar": {
             "outlinewidth": 0,
             "ticks": ""
            },
            "type": "mesh3d"
           }
          ],
          "parcoords": [
           {
            "line": {
             "colorbar": {
              "outlinewidth": 0,
              "ticks": ""
             }
            },
            "type": "parcoords"
           }
          ],
          "pie": [
           {
            "automargin": true,
            "type": "pie"
           }
          ],
          "scatter": [
           {
            "marker": {
             "colorbar": {
              "outlinewidth": 0,
              "ticks": ""
             }
            },
            "type": "scatter"
           }
          ],
          "scatter3d": [
           {
            "line": {
             "colorbar": {
              "outlinewidth": 0,
              "ticks": ""
             }
            },
            "marker": {
             "colorbar": {
              "outlinewidth": 0,
              "ticks": ""
             }
            },
            "type": "scatter3d"
           }
          ],
          "scattercarpet": [
           {
            "marker": {
             "colorbar": {
              "outlinewidth": 0,
              "ticks": ""
             }
            },
            "type": "scattercarpet"
           }
          ],
          "scattergeo": [
           {
            "marker": {
             "colorbar": {
              "outlinewidth": 0,
              "ticks": ""
             }
            },
            "type": "scattergeo"
           }
          ],
          "scattergl": [
           {
            "marker": {
             "colorbar": {
              "outlinewidth": 0,
              "ticks": ""
             }
            },
            "type": "scattergl"
           }
          ],
          "scattermapbox": [
           {
            "marker": {
             "colorbar": {
              "outlinewidth": 0,
              "ticks": ""
             }
            },
            "type": "scattermapbox"
           }
          ],
          "scatterpolar": [
           {
            "marker": {
             "colorbar": {
              "outlinewidth": 0,
              "ticks": ""
             }
            },
            "type": "scatterpolar"
           }
          ],
          "scatterpolargl": [
           {
            "marker": {
             "colorbar": {
              "outlinewidth": 0,
              "ticks": ""
             }
            },
            "type": "scatterpolargl"
           }
          ],
          "scatterternary": [
           {
            "marker": {
             "colorbar": {
              "outlinewidth": 0,
              "ticks": ""
             }
            },
            "type": "scatterternary"
           }
          ],
          "surface": [
           {
            "colorbar": {
             "outlinewidth": 0,
             "ticks": ""
            },
            "colorscale": [
             [
              0,
              "#0d0887"
             ],
             [
              0.1111111111111111,
              "#46039f"
             ],
             [
              0.2222222222222222,
              "#7201a8"
             ],
             [
              0.3333333333333333,
              "#9c179e"
             ],
             [
              0.4444444444444444,
              "#bd3786"
             ],
             [
              0.5555555555555556,
              "#d8576b"
             ],
             [
              0.6666666666666666,
              "#ed7953"
             ],
             [
              0.7777777777777778,
              "#fb9f3a"
             ],
             [
              0.8888888888888888,
              "#fdca26"
             ],
             [
              1,
              "#f0f921"
             ]
            ],
            "type": "surface"
           }
          ],
          "table": [
           {
            "cells": {
             "fill": {
              "color": "#EBF0F8"
             },
             "line": {
              "color": "white"
             }
            },
            "header": {
             "fill": {
              "color": "#C8D4E3"
             },
             "line": {
              "color": "white"
             }
            },
            "type": "table"
           }
          ]
         },
         "layout": {
          "annotationdefaults": {
           "arrowcolor": "#2a3f5f",
           "arrowhead": 0,
           "arrowwidth": 1
          },
          "autotypenumbers": "strict",
          "coloraxis": {
           "colorbar": {
            "outlinewidth": 0,
            "ticks": ""
           }
          },
          "colorscale": {
           "diverging": [
            [
             0,
             "#8e0152"
            ],
            [
             0.1,
             "#c51b7d"
            ],
            [
             0.2,
             "#de77ae"
            ],
            [
             0.3,
             "#f1b6da"
            ],
            [
             0.4,
             "#fde0ef"
            ],
            [
             0.5,
             "#f7f7f7"
            ],
            [
             0.6,
             "#e6f5d0"
            ],
            [
             0.7,
             "#b8e186"
            ],
            [
             0.8,
             "#7fbc41"
            ],
            [
             0.9,
             "#4d9221"
            ],
            [
             1,
             "#276419"
            ]
           ],
           "sequential": [
            [
             0,
             "#0d0887"
            ],
            [
             0.1111111111111111,
             "#46039f"
            ],
            [
             0.2222222222222222,
             "#7201a8"
            ],
            [
             0.3333333333333333,
             "#9c179e"
            ],
            [
             0.4444444444444444,
             "#bd3786"
            ],
            [
             0.5555555555555556,
             "#d8576b"
            ],
            [
             0.6666666666666666,
             "#ed7953"
            ],
            [
             0.7777777777777778,
             "#fb9f3a"
            ],
            [
             0.8888888888888888,
             "#fdca26"
            ],
            [
             1,
             "#f0f921"
            ]
           ],
           "sequentialminus": [
            [
             0,
             "#0d0887"
            ],
            [
             0.1111111111111111,
             "#46039f"
            ],
            [
             0.2222222222222222,
             "#7201a8"
            ],
            [
             0.3333333333333333,
             "#9c179e"
            ],
            [
             0.4444444444444444,
             "#bd3786"
            ],
            [
             0.5555555555555556,
             "#d8576b"
            ],
            [
             0.6666666666666666,
             "#ed7953"
            ],
            [
             0.7777777777777778,
             "#fb9f3a"
            ],
            [
             0.8888888888888888,
             "#fdca26"
            ],
            [
             1,
             "#f0f921"
            ]
           ]
          },
          "colorway": [
           "#636efa",
           "#EF553B",
           "#00cc96",
           "#ab63fa",
           "#FFA15A",
           "#19d3f3",
           "#FF6692",
           "#B6E880",
           "#FF97FF",
           "#FECB52"
          ],
          "font": {
           "color": "#2a3f5f"
          },
          "geo": {
           "bgcolor": "white",
           "lakecolor": "white",
           "landcolor": "white",
           "showlakes": true,
           "showland": true,
           "subunitcolor": "#C8D4E3"
          },
          "hoverlabel": {
           "align": "left"
          },
          "hovermode": "closest",
          "mapbox": {
           "style": "light"
          },
          "paper_bgcolor": "white",
          "plot_bgcolor": "white",
          "polar": {
           "angularaxis": {
            "gridcolor": "#EBF0F8",
            "linecolor": "#EBF0F8",
            "ticks": ""
           },
           "bgcolor": "white",
           "radialaxis": {
            "gridcolor": "#EBF0F8",
            "linecolor": "#EBF0F8",
            "ticks": ""
           }
          },
          "scene": {
           "xaxis": {
            "backgroundcolor": "white",
            "gridcolor": "#DFE8F3",
            "gridwidth": 2,
            "linecolor": "#EBF0F8",
            "showbackground": true,
            "ticks": "",
            "zerolinecolor": "#EBF0F8"
           },
           "yaxis": {
            "backgroundcolor": "white",
            "gridcolor": "#DFE8F3",
            "gridwidth": 2,
            "linecolor": "#EBF0F8",
            "showbackground": true,
            "ticks": "",
            "zerolinecolor": "#EBF0F8"
           },
           "zaxis": {
            "backgroundcolor": "white",
            "gridcolor": "#DFE8F3",
            "gridwidth": 2,
            "linecolor": "#EBF0F8",
            "showbackground": true,
            "ticks": "",
            "zerolinecolor": "#EBF0F8"
           }
          },
          "shapedefaults": {
           "line": {
            "color": "#2a3f5f"
           }
          },
          "ternary": {
           "aaxis": {
            "gridcolor": "#DFE8F3",
            "linecolor": "#A2B1C6",
            "ticks": ""
           },
           "baxis": {
            "gridcolor": "#DFE8F3",
            "linecolor": "#A2B1C6",
            "ticks": ""
           },
           "bgcolor": "white",
           "caxis": {
            "gridcolor": "#DFE8F3",
            "linecolor": "#A2B1C6",
            "ticks": ""
           }
          },
          "title": {
           "x": 0.05
          },
          "xaxis": {
           "automargin": true,
           "gridcolor": "#EBF0F8",
           "linecolor": "#EBF0F8",
           "ticks": "",
           "title": {
            "standoff": 15
           },
           "zerolinecolor": "#EBF0F8",
           "zerolinewidth": 2
          },
          "yaxis": {
           "automargin": true,
           "gridcolor": "#EBF0F8",
           "linecolor": "#EBF0F8",
           "ticks": "",
           "title": {
            "standoff": 15
           },
           "zerolinecolor": "#EBF0F8",
           "zerolinewidth": 2
          }
         }
        },
        "xaxis": {
         "autorange": true,
         "dtick": 20,
         "linecolor": "black",
         "linewidth": 2.4,
         "range": [
          0,
          357.9181408813123
         ],
         "rangemode": "tozero",
         "showgrid": false,
         "showline": true,
         "tickfont": {
          "size": 12
         },
         "title": {
          "text": "Round"
         },
         "type": "linear"
        },
        "yaxis": {
         "autorange": true,
         "linecolor": "black",
         "linewidth": 2.4,
         "range": [
          0.11689023418904876,
          0.35713386952845955
         ],
         "showgrid": false,
         "showline": true,
         "tickfont": {
          "size": 12
         },
         "ticklen": 10,
         "tickmode": "auto",
         "title": {
          "text": "Avg. Value"
         },
         "type": "linear"
        }
       }
      },
      "image/png": "[encoded data removed]",
      "text/html": [
       "<div>                            <div id=\"70dd9685-b90f-4ec4-b66e-d34d08e2df03\" class=\"plotly-graph-div\" style=\"height:525px; width:100%;\"></div>            <script type=\"text/javascript\">                require([\"plotly\"], function(Plotly) {                    window.PLOTLYENV=window.PLOTLYENV || {};                                    if (document.getElementById(\"70dd9685-b90f-4ec4-b66e-d34d08e2df03\")) {                    Plotly.newPlot(                        \"70dd9685-b90f-4ec4-b66e-d34d08e2df03\",                        [{\"line\":{\"color\":\"lightgray\",\"width\":2},\"mode\":\"lines+markers\",\"name\":\"RPS\",\"type\":\"scatter\",\"x\":[0,1,2,3,4,5,6,7,8,9,10,11,12,13,14,15,16,17,18,19,20,21,22,23,24,25,26,27,28,29,30,31,32,33,34,35,36,37,38,39,40,41,42,43,44,45,46,47,48,49,50,51,52,53,54,55,56,57,58,59,60,61,62,63,64,65,66,67,68,69,70,71,72,73,74,75,76,77,78,79,80,81,82,83,84,85,86,87,88,89,90,91,92,93,94,95,96,97,98,99,100,101,102,103,104,105,106,107,108,109,110,111,112,113,114,115,116,117,118,119,120,121,122,123,124,125,126,127,128,129,130,131,132,133,134,135,136,137,138,139,140,141,142,143,144,145,146,147,148,149,150,151,152,153,154,155,156,157,158,159,160,161,162,163,164,165,166,167,168,169,170,171,172,173,174,175,176,177,178,179,180,181,182,183,184,185,186,187,188,189,190,191,192,193,194,195,196,197,198,199,200,201,202,203,204,205,206,207,208,209,210,211,212,213,214,215,216,217,218,219,220,221,222,223,224,225,226,227,228,229,230,231,232,233,234,235,236,237,238,239,240,241,242,243,244,245,246,247,248,249,250,251,252,253,254,255,256,257,258,259,260,261,262,263,264,265,266,267,268,269,270,271,272,273,274,275,276,277,278,279,280,281,282,283,284,285,286,287,288,289,290,291,292,293,294,295,296,297,298,299,300,301,302,303,304,305,306,307,308,309,310,311,312,313,314,315,316,317,318,319,320,321,322,323,324,325,326,327,328,329,330,331,332,333,334,335,336,337,338,339],\"y\":[0.20401652028571773,0.2409184773489858,0.24293743943824925,0.2105701857022576,0.25946886731507823,0.25868011859911444,0.24279793892723533,0.23205248010610488,0.22312396815634644,0.2547772806226095,0.189428936378764,0.2122179075446902,0.23946852552599626,0.19359125950006995,0.22872703598614783,0.25666788017244857,0.24744162969219927,0.24087065362704585,0.20774553690383854,0.2575708870064776,0.1958721180900177,0.2308533701018535,0.23670405998204347,0.18583870917897116,0.2157532529638088,0.19749638684049792,0.24999568348015566,0.21249914011315907,0.29200139833715655,0.23461692166926967,0.1907853724430171,0.20892037150900789,0.17928528275450897,0.2550198130509527,0.2688599189806584,0.2306172546935304,0.26838452267745505,0.30918799974067956,0.2094861220104543,0.17940270476909648,0.19011267963439593,0.21971686880293326,0.20222179901513176,0.1947735708729186,0.21144584266420166,0.18860235916230098,0.242110322569047,0.3164566202750203,0.22653187722320872,0.2339114232558645,0.2873784190229443,0.24075791616060785,0.22199976195538476,0.2309639353763031,0.20174598998017848,0.2874495084725329,0.16857695379387735,0.26496227271009687,0.18186627791628504,0.22686739027508582,0.21758717747707546,0.2191535470852229,0.2358531506894313,0.2434352386862232,0.18822454725058405,0.2617168536578217,0.2064460779201273,0.25923694965003763,0.2971149278372032,0.2204910517110864,0.24012401598958732,0.19517587173580753,0.18685322728123252,0.2027500661227911,0.27142007030143955,0.23904863591718678,0.17220902599590582,0.23731727214982878,0.2699791591245956,0.2034457554618284,0.2538477882047158,0.22645348737074608,0.20902635231588176,0.2818675705087329,0.24090572870913082,0.28399176398492293,0.27065147777990317,0.21260172761073107,0.2590128786984262,0.17873936444776573,0.19854319006509202,0.21598951867556304,0.20123512610684208,0.20559096967765716,0.20674363944274166,0.17061634453401306,0.21709275085478685,0.29102217434201405,0.22705482272874494,0.19599925752787495,0.1986688061104397,0.23424054394434363,0.21394347136665903,0.2747551330195829,0.25574788569933965,0.2656388432893937,0.19318982660485373,0.16089675283727664,0.19145741422478812,0.2565319694540716,0.16643346936333644,0.21716062176191062,0.2644690203226419,0.19073483285695897,0.24800047660870042,0.25938689376711116,0.22380333821076817,0.2666550600202154,0.23715209172436807,0.23609290809334194,0.21651581948555923,0.2571851071518623,0.17498421778702677,0.21120590585258014,0.17999922560097573,0.29561607462190204,0.18558733767756594,0.18022157264114375,0.2244465775794221,0.28983730850251216,0.16111979977400184,0.1669246659294954,0.2004456151593794,0.2596601698987818,0.19347536650243308,0.17363698390805546,0.209351951854324,0.23938168700486212,0.21068901734017823,0.23886923472010801,0.20947087723593155,0.18331743245538284,0.246814670172467,0.22374520779886364,0.21489425996267292,0.22755749562204627,0.1699593628675025,0.23388699756018705,0.16014117057185467,0.262130319092282,0.24812377479732334,0.2521965692164339,0.15997870833962866,0.2514274167163639,0.25382018597937056,0.21312524722554319,0.20026951585812894,0.26388383582681324,0.1799086692411539,0.235720508837545,0.19547917295672723,0.21626383925329157,0.21735141517658235,0.17933420780391016,0.19919386092767088,0.19423685489132148,0.18789538066324546,0.19489537028504406,0.23659060001268462,0.24732529644925938,0.185058438358011,0.18799301030092835,0.18972636138970256,0.26349763437127477,0.2209161230704936,0.2416793535179884,0.23835762122850224,0.23516585855282196,0.22509120224847784,0.19469101960779484,0.21426813856405239,0.26150217301920553,0.22872095832049333,0.2061702444732102,0.2498273522937137,0.22221641573005438,0.18077416748822714,0.22796351950349225,0.16662638979964636,0.17021874387508712,0.18945477058370486,0.20775419386787652,0.24555395975302707,0.2600298716127172,0.22154709843047893,0.17860441760401732,0.30054288356115966,0.17141914951362341,0.22647430506507016,0.19360811324563437,0.23888386289338864,0.21035010637558427,0.22832014245297363,0.18369303080370944,0.2174306867816214,0.2933612082512472,0.2043623124397388,0.18102983055062388,0.22485601474773947,0.23951525418501982,0.23417765367585142,0.17726424076049008,0.17642600015029322,0.19324115824343202,0.2509351617089192,0.19635738260038613,0.22229474163881852,0.21464824776520025,0.21152644252685895,0.2181385380628033,0.2155784159011105,0.22321815533992279,0.23114808163861675,0.2612513309692848,0.16798756656226185,0.18745174390797398,0.16739067225066817,0.2363800685307243,0.2450442987895896,0.19389119897621065,0.259358008148117,0.21888856003983495,0.23156829254454822,0.17578298935447315,0.20016703913163994,0.17919706635091007,0.22982756491821085,0.1962382360454226,0.19526596838264504,0.21992678904711516,0.18270351720043101,0.1851073934062072,0.23746740148956746,0.26221335388102407,0.19924535727487766,0.2173901365279175,0.21917645348868867,0.16962964595789995,0.20989920958010014,0.14483582914582568,0.19950642853874545,0.1528679973579874,0.2647445763601665,0.23628545369518658,0.2188429818090236,0.22434059209278148,0.21027787815853702,0.2789457656382843,0.19221140308268933,0.22187347543969024,0.25546737876019693,0.26641105125841896,0.16516464479436568,0.2729517933160548,0.3401166120252513,0.19034222780268487,0.1699295622432938,0.18097228322633863,0.20935195641189722,0.217383250199764,0.2745912224295337,0.20703808943704197,0.1745081476604409,0.17206095815269776,0.18451611881194113,0.15065568962017692,0.17211412521073688,0.23797195824251227,0.15769331509981863,0.21620302024532087,0.24713865913827565,0.24299884663480892,0.2771714571009029,0.19012539827942307,0.21162396623378898,0.17563131177058594,0.15397738258467378,0.24753617713248882,0.16699584196766107,0.17744381749475605,0.1658305151520142,0.17722617488307857,0.26677944816074484,0.24254725015588383,0.27565245932903365,0.20073985577473968,0.23717105572180947,0.2605893360195599,0.25501810983893375,0.15295773246874333,0.20425309911317743,0.14239971687660702,0.18864600402998352,0.21031571351455147,0.17438786605912113,0.3335652371738082,0.15778087431449198,0.21638497984998065,0.13390749169225702,0.16577848536945833,0.21423495477442758,0.2701573920674345,0.23375158900937779,0.2816133834516374,0.19966222899897568,0.19591844859157934,0.16702579416762858,0.2437919338187238,0.24740092089090515,0.29359137185445316,0.21945980397397025,0.2434262249495648,0.1779074968302853,0.2367358937362842,0.23178545796758865,0.20706465814686867,0.16867875236074814,0.18740292957105734,0.13624017401603794,0.17819610250105886,0.25237896872302756,0.177038885807268,0.19552360208736844,0.21348923364843428,0.1642999296001238,0.16595498777446835,0.15818755986909547,0.21211986330786844,0.22377432592338564,0.18959982459844005]},{\"line\":{\"color\":\"black\",\"width\":2},\"mode\":\"lines+markers\",\"name\":\"Expected RPS\",\"type\":\"scatter\",\"x\":[0,1,2,3,4,5,6,7,8,9,10,11,12,13,14,15,16,17,18,19,20,21,22,23,24,25,26,27,28,29,30,31,32,33,34,35,36,37,38,39,40,41,42,43,44,45,46,47,48,49,50,51,52,53,54,55,56,57,58,59,60,61,62,63,64,65,66,67,68,69,70,71,72,73,74,75,76,77,78,79,80,81,82,83,84,85,86,87,88,89,90,91,92,93,94,95,96,97,98,99,100,101,102,103,104,105,106,107,108,109,110,111,112,113,114,115,116,117,118,119,120,121,122,123,124,125,126,127,128,129,130,131,132,133,134,135,136,137,138,139,140,141,142,143,144,145,146,147,148,149,150,151,152,153,154,155,156,157,158,159,160,161,162,163,164,165,166,167,168,169,170,171,172,173,174,175,176,177,178,179,180,181,182,183,184,185,186,187,188,189,190,191,192,193,194,195,196,197,198,199,200,201,202,203,204,205,206,207,208,209,210,211,212,213,214,215,216,217,218,219,220,221,222,223,224,225,226,227,228,229,230,231,232,233,234,235,236,237,238,239,240,241,242,243,244,245,246,247,248,249,250,251,252,253,254,255,256,257,258,259,260,261,262,263,264,265,266,267,268,269,270,271,272,273,274,275,276,277,278,279,280,281,282,283,284,285,286,287,288,289,290,291,292,293,294,295,296,297,298,299,300,301,302,303,304,305,306,307,308,309,310,311,312,313,314,315,316,317,318,319,320,321,322,323,324,325,326,327,328,329,330,331,332,333,334,335,336,337,338,339],\"y\":[0.22497930951650463,0.2253400672891173,0.22479979872924524,0.2256869976839604,0.22480313900275398,0.22577003176675067,0.22466234843967386,0.226310819900298,0.2261050551293352,0.22730945089793567,0.2262310613577117,0.226877596077905,0.2288363090147326,0.2292857688399832,0.22614248642952184,0.2266391767681248,0.22932404270838344,0.23029162044540474,0.22506738873678758,0.22891411856960742,0.22784644008635832,0.22944303447513997,0.2252423072937222,0.22964507684196947,0.2277310886358439,0.23106209391651097,0.2295376866763883,0.2301728275817976,0.22786750408352108,0.22731349074617724,0.22897807564308773,0.22946019280520216,0.2233487270205815,0.23182161849183094,0.2275683257150099,0.2307850019690973,0.22562781298284826,0.238172454844503,0.22532078806306333,0.22787780872859098,0.22600180935316358,0.2285215113903275,0.22682546831369643,0.22933285758097421,0.2307135521330436,0.22379370667943188,0.23238427436140924,0.23213066172424693,0.2306805153032001,0.22623252308129776,0.22968783638201618,0.22683835582010403,0.22449743391202423,0.23636233169639156,0.22542302803415806,0.22604988436534384,0.22223420326114546,0.23463108460207613,0.2246826328354519,0.2296235041155731,0.22945200240765384,0.22453350978877865,0.22623046061507612,0.2255631226462105,0.22898123246964117,0.22288233885953523,0.22861087701713606,0.22454021556960344,0.2267157640826803,0.2279068724181159,0.22303317625273156,0.2349473257229685,0.22096760668575055,0.2336326694777977,0.22237390920182895,0.22929585500294555,0.22588092295710535,0.22959268244661127,0.22924633824761,0.21993513079811117,0.22893402983459218,0.22105384144240048,0.22367648955325434,0.22597000287775593,0.2221187468968321,0.22431515533956725,0.22390812319069844,0.2324063771395812,0.2175483567466655,0.22725000473298598,0.22220133206652123,0.23044218523049448,0.2278802595109295,0.22596793876325963,0.22683769166762616,0.22027044805832935,0.2280219617312279,0.22191115012212473,0.22705358236577025,0.21563737003122646,0.22662826880697745,0.22372776600587596,0.2191273436303531,0.22617788848345186,0.2131388791164943,0.226270927416117,0.2148665134816286,0.2266912200314279,0.2198938721852487,0.2196733261262602,0.22233875253628893,0.22110411430513388,0.22368568689294893,0.21543659584521566,0.22790897888251171,0.2193679007474547,0.22189706722249006,0.22685832195588185,0.21685440640144654,0.22620548837277926,0.21862115179165156,0.2275994009671582,0.21140032652299529,0.22439812621679467,0.21956907027450315,0.22572243220510504,0.22399516951464532,0.22097457825054193,0.2242153703884987,0.21390775617098562,0.2248690376239303,0.21808877177535563,0.22251999433746106,0.21542058468129074,0.22643886435059546,0.22411061552871814,0.2137859902041095,0.2308527077108024,0.20952916088418505,0.22457264961390036,0.21642860963851937,0.2278569012719235,0.21317814678259453,0.22183178928880254,0.22413300816441378,0.21728493950063013,0.21990502376644847,0.21220413172305225,0.2256978338775268,0.22034732352967382,0.21558231520998902,0.22895691255328054,0.21495818689687088,0.22117870758755798,0.21877817544894274,0.22548418696763392,0.20506166950069238,0.2212435714498932,0.21500916499015355,0.21928762260958454,0.2212794624878493,0.22180754239973044,0.2164993910536805,0.21184780665382008,0.2228500094185423,0.2201150734554476,0.21643740132791522,0.21657176127741215,0.2267035599796586,0.21943992621922304,0.21681761790433432,0.22911939895903283,0.20795877491421033,0.22800432196540393,0.21551380137292844,0.2251023633329715,0.21348553564693099,0.21943631493292295,0.2284838714608265,0.21396754008467148,0.22222780261706,0.2145497901695757,0.22347607451382037,0.21763971329888754,0.21815795414211203,0.22787675854887254,0.21484071825994608,0.22394747946790267,0.21517625746979976,0.2233821862134251,0.21114690899235422,0.22450422966063646,0.21684051161245665,0.22303512713151458,0.22226544060404527,0.22415286684563107,0.21290941250285494,0.21330522690074577,0.22112073796424048,0.215156484174617,0.2168585257247259,0.21716339585821476,0.2315559430662996,0.21800664742394069,0.21666292025107536,0.22641444051962945,0.20732321422234035,0.22993573804513887,0.21571237406230226,0.22724583200996903,0.20857194837430826,0.22487767092594668,0.22401305228749452,0.21170812290471738,0.22408576150354131,0.21271222535361248,0.21821930796247382,0.2113752928665664,0.2249630445858618,0.221845750508909,0.2184483709900526,0.22791425772361049,0.20805456513075166,0.2235778963175369,0.20876808184557016,0.22655946466022422,0.21813473224124613,0.22256481981187942,0.2275614108482057,0.2184761202718239,0.21290254176061985,0.21442109416377342,0.22765144949859303,0.2081204350372347,0.21869790260830516,0.21640755947348458,0.22425803660705826,0.2186844495934578,0.21484961122357754,0.22309932867946658,0.2066417042183758,0.22298316152803624,0.21840134953900953,0.2341045592665553,0.20466623736799938,0.2255774634533924,0.22781356964649588,0.20670615030375228,0.2267723779367389,0.21442821142490848,0.22449912256751192,0.20534176117876998,0.22750232496209705,0.21711404709906718,0.21626205020772668,0.22497598843807884,0.21492544188923957,0.22576594777517225,0.21087682849787728,0.22995416632497578,0.21915310043700767,0.21837756725365898,0.2273830931970113,0.22348772326273128,0.22001507610196136,0.2173132935879663,0.2252191791118142,0.21557667230144092,0.21793805741470984,0.2183980213309307,0.22048348149811295,0.22340557307608322,0.20700771173034438,0.22707312996848966,0.20369060769203295,0.2141991068218859,0.2127643841694353,0.22513007743662758,0.19992236873766892,0.2132210782113203,0.22379443127165471,0.20255791692992187,0.2159411114512217,0.2118070916925709,0.22254349627062137,0.1985561778444373,0.22033096653082526,0.2082477962037784,0.21485045927144097,0.21540750538187056,0.21687351470939534,0.2158657482837134,0.2070021120865475,0.21969482853278752,0.20761613637900067,0.21395112796113713,0.2198392812886332,0.21424934133131346,0.21335549050361294,0.20628393139047999,0.2188464106197359,0.21030595250678497,0.21304692248990473,0.21255314049445398,0.20877463683067013,0.21980290361182064,0.19430436592923198,0.22652383215712243,0.19147579577796056,0.2179765236338824,0.1976380446867917,0.21809079500351747,0.19103585563702585,0.21872166755421482,0.21153314326569492,0.20444225330273988,0.20673032241890812,0.206708474862878,0.21010344707193765,0.19462326804038438,0.20826809484219927,0.1994437939511049,0.21522617148012557,0.20455482979339473,0.2061905419158013,0.20497739154932787,0.206156652017035,0.20874468258564313,0.19409639673951806,0.20281986641336794,0.226596112512327,0.2066363808782185,0.21039324923953912,0.20131403064494574,0.21370320376307578,0.2001586208823002,0.20284516979538467,0.20005757796745646,0.2046792399551638,0.2098257690184106]}],                        {\"font\":{\"color\":\"black\",\"family\":\"Helvetica\",\"size\":22},\"legend\":{\"bordercolor\":\"Black\",\"borderwidth\":2,\"font\":{\"color\":\"Black\",\"family\":\"Helvetica\",\"size\":12},\"orientation\":\"h\",\"x\":1,\"xanchor\":\"right\",\"y\":1,\"yanchor\":\"bottom\"},\"plot_bgcolor\":\"white\",\"showlegend\":true,\"template\":{\"data\":{\"bar\":[{\"error_x\":{\"color\":\"#2a3f5f\"},\"error_y\":{\"color\":\"#2a3f5f\"},\"marker\":{\"line\":{\"color\":\"white\",\"width\":0.5},\"pattern\":{\"fillmode\":\"overlay\",\"size\":10,\"solidity\":0.2}},\"type\":\"bar\"}],\"barpolar\":[{\"marker\":{\"line\":{\"color\":\"white\",\"width\":0.5},\"pattern\":{\"fillmode\":\"overlay\",\"size\":10,\"solidity\":0.2}},\"type\":\"barpolar\"}],\"carpet\":[{\"aaxis\":{\"endlinecolor\":\"#2a3f5f\",\"gridcolor\":\"#C8D4E3\",\"linecolor\":\"#C8D4E3\",\"minorgridcolor\":\"#C8D4E3\",\"startlinecolor\":\"#2a3f5f\"},\"baxis\":{\"endlinecolor\":\"#2a3f5f\",\"gridcolor\":\"#C8D4E3\",\"linecolor\":\"#C8D4E3\",\"minorgridcolor\":\"#C8D4E3\",\"startlinecolor\":\"#2a3f5f\"},\"type\":\"carpet\"}],\"choropleth\":[{\"colorbar\":{\"outlinewidth\":0,\"ticks\":\"\"},\"type\":\"choropleth\"}],\"contour\":[{\"colorbar\":{\"outlinewidth\":0,\"ticks\":\"\"},\"colorscale\":[[0.0,\"#0d0887\"],[0.1111111111111111,\"#46039f\"],[0.2222222222222222,\"#7201a8\"],[0.3333333333333333,\"#9c179e\"],[0.4444444444444444,\"#bd3786\"],[0.5555555555555556,\"#d8576b\"],[0.6666666666666666,\"#ed7953\"],[0.7777777777777778,\"#fb9f3a\"],[0.8888888888888888,\"#fdca26\"],[1.0,\"#f0f921\"]],\"type\":\"contour\"}],\"contourcarpet\":[{\"colorbar\":{\"outlinewidth\":0,\"ticks\":\"\"},\"type\":\"contourcarpet\"}],\"heatmap\":[{\"colorbar\":{\"outlinewidth\":0,\"ticks\":\"\"},\"colorscale\":[[0.0,\"#0d0887\"],[0.1111111111111111,\"#46039f\"],[0.2222222222222222,\"#7201a8\"],[0.3333333333333333,\"#9c179e\"],[0.4444444444444444,\"#bd3786\"],[0.5555555555555556,\"#d8576b\"],[0.6666666666666666,\"#ed7953\"],[0.7777777777777778,\"#fb9f3a\"],[0.8888888888888888,\"#fdca26\"],[1.0,\"#f0f921\"]],\"type\":\"heatmap\"}],\"heatmapgl\":[{\"colorbar\":{\"outlinewidth\":0,\"ticks\":\"\"},\"colorscale\":[[0.0,\"#0d0887\"],[0.1111111111111111,\"#46039f\"],[0.2222222222222222,\"#7201a8\"],[0.3333333333333333,\"#9c179e\"],[0.4444444444444444,\"#bd3786\"],[0.5555555555555556,\"#d8576b\"],[0.6666666666666666,\"#ed7953\"],[0.7777777777777778,\"#fb9f3a\"],[0.8888888888888888,\"#fdca26\"],[1.0,\"#f0f921\"]],\"type\":\"heatmapgl\"}],\"histogram\":[{\"marker\":{\"pattern\":{\"fillmode\":\"overlay\",\"size\":10,\"solidity\":0.2}},\"type\":\"histogram\"}],\"histogram2d\":[{\"colorbar\":{\"outlinewidth\":0,\"ticks\":\"\"},\"colorscale\":[[0.0,\"#0d0887\"],[0.1111111111111111,\"#46039f\"],[0.2222222222222222,\"#7201a8\"],[0.3333333333333333,\"#9c179e\"],[0.4444444444444444,\"#bd3786\"],[0.5555555555555556,\"#d8576b\"],[0.6666666666666666,\"#ed7953\"],[0.7777777777777778,\"#fb9f3a\"],[0.8888888888888888,\"#fdca26\"],[1.0,\"#f0f921\"]],\"type\":\"histogram2d\"}],\"histogram2dcontour\":[{\"colorbar\":{\"outlinewidth\":0,\"ticks\":\"\"},\"colorscale\":[[0.0,\"#0d0887\"],[0.1111111111111111,\"#46039f\"],[0.2222222222222222,\"#7201a8\"],[0.3333333333333333,\"#9c179e\"],[0.4444444444444444,\"#bd3786\"],[0.5555555555555556,\"#d8576b\"],[0.6666666666666666,\"#ed7953\"],[0.7777777777777778,\"#fb9f3a\"],[0.8888888888888888,\"#fdca26\"],[1.0,\"#f0f921\"]],\"type\":\"histogram2dcontour\"}],\"mesh3d\":[{\"colorbar\":{\"outlinewidth\":0,\"ticks\":\"\"},\"type\":\"mesh3d\"}],\"parcoords\":[{\"line\":{\"colorbar\":{\"outlinewidth\":0,\"ticks\":\"\"}},\"type\":\"parcoords\"}],\"pie\":[{\"automargin\":true,\"type\":\"pie\"}],\"scatter\":[{\"marker\":{\"colorbar\":{\"outlinewidth\":0,\"ticks\":\"\"}},\"type\":\"scatter\"}],\"scatter3d\":[{\"line\":{\"colorbar\":{\"outlinewidth\":0,\"ticks\":\"\"}},\"marker\":{\"colorbar\":{\"outlinewidth\":0,\"ticks\":\"\"}},\"type\":\"scatter3d\"}],\"scattercarpet\":[{\"marker\":{\"colorbar\":{\"outlinewidth\":0,\"ticks\":\"\"}},\"type\":\"scattercarpet\"}],\"scattergeo\":[{\"marker\":{\"colorbar\":{\"outlinewidth\":0,\"ticks\":\"\"}},\"type\":\"scattergeo\"}],\"scattergl\":[{\"marker\":{\"colorbar\":{\"outlinewidth\":0,\"ticks\":\"\"}},\"type\":\"scattergl\"}],\"scattermapbox\":[{\"marker\":{\"colorbar\":{\"outlinewidth\":0,\"ticks\":\"\"}},\"type\":\"scattermapbox\"}],\"scatterpolar\":[{\"marker\":{\"colorbar\":{\"outlinewidth\":0,\"ticks\":\"\"}},\"type\":\"scatterpolar\"}],\"scatterpolargl\":[{\"marker\":{\"colorbar\":{\"outlinewidth\":0,\"ticks\":\"\"}},\"type\":\"scatterpolargl\"}],\"scatterternary\":[{\"marker\":{\"colorbar\":{\"outlinewidth\":0,\"ticks\":\"\"}},\"type\":\"scatterternary\"}],\"surface\":[{\"colorbar\":{\"outlinewidth\":0,\"ticks\":\"\"},\"colorscale\":[[0.0,\"#0d0887\"],[0.1111111111111111,\"#46039f\"],[0.2222222222222222,\"#7201a8\"],[0.3333333333333333,\"#9c179e\"],[0.4444444444444444,\"#bd3786\"],[0.5555555555555556,\"#d8576b\"],[0.6666666666666666,\"#ed7953\"],[0.7777777777777778,\"#fb9f3a\"],[0.8888888888888888,\"#fdca26\"],[1.0,\"#f0f921\"]],\"type\":\"surface\"}],\"table\":[{\"cells\":{\"fill\":{\"color\":\"#EBF0F8\"},\"line\":{\"color\":\"white\"}},\"header\":{\"fill\":{\"color\":\"#C8D4E3\"},\"line\":{\"color\":\"white\"}},\"type\":\"table\"}]},\"layout\":{\"annotationdefaults\":{\"arrowcolor\":\"#2a3f5f\",\"arrowhead\":0,\"arrowwidth\":1},\"autotypenumbers\":\"strict\",\"coloraxis\":{\"colorbar\":{\"outlinewidth\":0,\"ticks\":\"\"}},\"colorscale\":{\"diverging\":[[0,\"#8e0152\"],[0.1,\"#c51b7d\"],[0.2,\"#de77ae\"],[0.3,\"#f1b6da\"],[0.4,\"#fde0ef\"],[0.5,\"#f7f7f7\"],[0.6,\"#e6f5d0\"],[0.7,\"#b8e186\"],[0.8,\"#7fbc41\"],[0.9,\"#4d9221\"],[1,\"#276419\"]],\"sequential\":[[0.0,\"#0d0887\"],[0.1111111111111111,\"#46039f\"],[0.2222222222222222,\"#7201a8\"],[0.3333333333333333,\"#9c179e\"],[0.4444444444444444,\"#bd3786\"],[0.5555555555555556,\"#d8576b\"],[0.6666666666666666,\"#ed7953\"],[0.7777777777777778,\"#fb9f3a\"],[0.8888888888888888,\"#fdca26\"],[1.0,\"#f0f921\"]],\"sequentialminus\":[[0.0,\"#0d0887\"],[0.1111111111111111,\"#46039f\"],[0.2222222222222222,\"#7201a8\"],[0.3333333333333333,\"#9c179e\"],[0.4444444444444444,\"#bd3786\"],[0.5555555555555556,\"#d8576b\"],[0.6666666666666666,\"#ed7953\"],[0.7777777777777778,\"#fb9f3a\"],[0.8888888888888888,\"#fdca26\"],[1.0,\"#f0f921\"]]},\"colorway\":[\"#636efa\",\"#EF553B\",\"#00cc96\",\"#ab63fa\",\"#FFA15A\",\"#19d3f3\",\"#FF6692\",\"#B6E880\",\"#FF97FF\",\"#FECB52\"],\"font\":{\"color\":\"#2a3f5f\"},\"geo\":{\"bgcolor\":\"white\",\"lakecolor\":\"white\",\"landcolor\":\"white\",\"showlakes\":true,\"showland\":true,\"subunitcolor\":\"#C8D4E3\"},\"hoverlabel\":{\"align\":\"left\"},\"hovermode\":\"closest\",\"mapbox\":{\"style\":\"light\"},\"paper_bgcolor\":\"white\",\"plot_bgcolor\":\"white\",\"polar\":{\"angularaxis\":{\"gridcolor\":\"#EBF0F8\",\"linecolor\":\"#EBF0F8\",\"ticks\":\"\"},\"bgcolor\":\"white\",\"radialaxis\":{\"gridcolor\":\"#EBF0F8\",\"linecolor\":\"#EBF0F8\",\"ticks\":\"\"}},\"scene\":{\"xaxis\":{\"backgroundcolor\":\"white\",\"gridcolor\":\"#DFE8F3\",\"gridwidth\":2,\"linecolor\":\"#EBF0F8\",\"showbackground\":true,\"ticks\":\"\",\"zerolinecolor\":\"#EBF0F8\"},\"yaxis\":{\"backgroundcolor\":\"white\",\"gridcolor\":\"#DFE8F3\",\"gridwidth\":2,\"linecolor\":\"#EBF0F8\",\"showbackground\":true,\"ticks\":\"\",\"zerolinecolor\":\"#EBF0F8\"},\"zaxis\":{\"backgroundcolor\":\"white\",\"gridcolor\":\"#DFE8F3\",\"gridwidth\":2,\"linecolor\":\"#EBF0F8\",\"showbackground\":true,\"ticks\":\"\",\"zerolinecolor\":\"#EBF0F8\"}},\"shapedefaults\":{\"line\":{\"color\":\"#2a3f5f\"}},\"ternary\":{\"aaxis\":{\"gridcolor\":\"#DFE8F3\",\"linecolor\":\"#A2B1C6\",\"ticks\":\"\"},\"baxis\":{\"gridcolor\":\"#DFE8F3\",\"linecolor\":\"#A2B1C6\",\"ticks\":\"\"},\"bgcolor\":\"white\",\"caxis\":{\"gridcolor\":\"#DFE8F3\",\"linecolor\":\"#A2B1C6\",\"ticks\":\"\"}},\"title\":{\"x\":0.05},\"xaxis\":{\"automargin\":true,\"gridcolor\":\"#EBF0F8\",\"linecolor\":\"#EBF0F8\",\"ticks\":\"\",\"title\":{\"standoff\":15},\"zerolinecolor\":\"#EBF0F8\",\"zerolinewidth\":2},\"yaxis\":{\"automargin\":true,\"gridcolor\":\"#EBF0F8\",\"linecolor\":\"#EBF0F8\",\"ticks\":\"\",\"title\":{\"standoff\":15},\"zerolinecolor\":\"#EBF0F8\",\"zerolinewidth\":2}}},\"xaxis\":{\"dtick\":20,\"linecolor\":\"black\",\"linewidth\":2.4,\"rangemode\":\"tozero\",\"showgrid\":false,\"showline\":true,\"tickfont\":{\"size\":12},\"title\":{\"text\":\"Round\"}},\"yaxis\":{\"linecolor\":\"black\",\"linewidth\":2.4,\"showgrid\":false,\"showline\":true,\"tickfont\":{\"size\":12},\"ticklen\":10,\"tickmode\":\"auto\",\"title\":{\"text\":\"Avg. Value\"}}},                        {\"toImageButtonOptions\": {\"format\": \"svg\", \"filename\": \"figure\", \"height\": 400, \"width\": 1000, \"scale\": 1}, \"responsive\": true}                    ).then(function(){\n",
       "                            \n",
       "var gd = document.getElementById('70dd9685-b90f-4ec4-b66e-d34d08e2df03');\n",
       "var x = new MutationObserver(function (mutations, observer) {{\n",
       "        var display = window.getComputedStyle(gd).display;\n",
       "        if (!display || display === 'none') {{\n",
       "            console.log([gd, 'removed!']);\n",
       "            Plotly.purge(gd);\n",
       "            observer.disconnect();\n",
       "        }}\n",
       "}});\n",
       "\n",
       "// Listen for the removal of the full notebook cells\n",
       "var notebookContainer = gd.closest('#notebook-container');\n",
       "if (notebookContainer) {{\n",
       "    x.observe(notebookContainer, {childList: true});\n",
       "}}\n",
       "\n",
       "// Listen for the clearing of the current output cell\n",
       "var outputEl = gd.closest('.output');\n",
       "if (outputEl) {{\n",
       "    x.observe(outputEl, {childList: true});\n",
       "}}\n",
       "\n",
       "                        })                };                });            </script>        </div>"
      ]
     },
     "metadata": {},
     "output_type": "display_data"
    }
   ],
   "source": [
    "fig = go.Figure()\n",
    "list_of_metrics = [\"RPS\", \"TrueRPS\", \"ForecastError\", \"ExpectedRPS\", \"Forecastability\"]\n",
    "for rps_based_metric, color, display_name in [(\"RPS\", \"lightgray\", \"RPS\"), (\"ExpectedRPS\", \"black\", \"Expected RPS\")]:\n",
    "    fig.add_trace(\n",
    "        go.Scatter(\n",
    "            y=metrics_df[(rps_based_metric, \"mean\")],\n",
    "            x=metrics_df[\"x_axis\"],\n",
    "            mode=\"lines+markers\",\n",
    "            name=display_name,\n",
    "            line={\n",
    "                \"color\": f\"{color}\",\n",
    "                \"width\": 2\n",
    "            }\n",
    "        )\n",
    "    )\n",
    "return_fig_settings(fig, \"Round\", \"Avg. Value\")\n",
    "fig.update_layout(showlegend=True)\n",
    "fig.show(config=config)"
   ]
  },
  {
   "cell_type": "code",
   "execution_count": 72,
   "id": "3bd20a65",
   "metadata": {},
   "outputs": [
    {
     "data": {
      "application/vnd.plotly.v1+json": {
       "config": {
        "plotlyServerURL": "https://plot.ly",
        "toImageButtonOptions": {
         "filename": "figure",
         "format": "svg",
         "height": 400,
         "scale": 1,
         "width": 1000
        }
       },
       "data": [
        {
         "line": {
          "color": "black",
          "dash": "solid"
         },
         "mode": "lines+markers",
         "name": "Expected RPS",
         "type": "scatter",
         "x": [
          1,
          2,
          3,
          4,
          5,
          6,
          7,
          8,
          9,
          10
         ],
         "y": [
          0.22743666916476063,
          0.22802332725358307,
          0.225508509864969,
          0.2214514274774519,
          0.2193147253954254,
          0.21962310981582106,
          0.21902558485197984,
          0.21970624241477194,
          0.21338549695988643,
          0.206370457802548
         ]
        },
        {
         "line": {
          "color": "black",
          "dash": "dashdot"
         },
         "mode": "lines+markers",
         "name": "Forecastability Score",
         "type": "scatter",
         "x": [
          1,
          2,
          3,
          4,
          5,
          6,
          7,
          8,
          9,
          10
         ],
         "y": [
          0.2235927705581212,
          0.22064863496981088,
          0.21751270104905734,
          0.21762950859404612,
          0.21515927629695397,
          0.21390094010352095,
          0.21122517587701609,
          0.21062048639297679,
          0.2037691337541087,
          0.19983470576414455
         ]
        }
       ],
       "layout": {
        "autosize": true,
        "font": {
         "color": "black",
         "family": "Helvetica",
         "size": 22
        },
        "legend": {
         "bordercolor": "Black",
         "borderwidth": 2,
         "font": {
          "color": "Black",
          "family": "Helvetica",
          "size": 12
         },
         "orientation": "h",
         "x": 1,
         "xanchor": "right",
         "y": 1,
         "yanchor": "bottom"
        },
        "plot_bgcolor": "white",
        "showlegend": true,
        "template": {
         "data": {
          "bar": [
           {
            "error_x": {
             "color": "#2a3f5f"
            },
            "error_y": {
             "color": "#2a3f5f"
            },
            "marker": {
             "line": {
              "color": "white",
              "width": 0.5
             },
             "pattern": {
              "fillmode": "overlay",
              "size": 10,
              "solidity": 0.2
             }
            },
            "type": "bar"
           }
          ],
          "barpolar": [
           {
            "marker": {
             "line": {
              "color": "white",
              "width": 0.5
             },
             "pattern": {
              "fillmode": "overlay",
              "size": 10,
              "solidity": 0.2
             }
            },
            "type": "barpolar"
           }
          ],
          "carpet": [
           {
            "aaxis": {
             "endlinecolor": "#2a3f5f",
             "gridcolor": "#C8D4E3",
             "linecolor": "#C8D4E3",
             "minorgridcolor": "#C8D4E3",
             "startlinecolor": "#2a3f5f"
            },
            "baxis": {
             "endlinecolor": "#2a3f5f",
             "gridcolor": "#C8D4E3",
             "linecolor": "#C8D4E3",
             "minorgridcolor": "#C8D4E3",
             "startlinecolor": "#2a3f5f"
            },
            "type": "carpet"
           }
          ],
          "choropleth": [
           {
            "colorbar": {
             "outlinewidth": 0,
             "ticks": ""
            },
            "type": "choropleth"
           }
          ],
          "contour": [
           {
            "colorbar": {
             "outlinewidth": 0,
             "ticks": ""
            },
            "colorscale": [
             [
              0,
              "#0d0887"
             ],
             [
              0.1111111111111111,
              "#46039f"
             ],
             [
              0.2222222222222222,
              "#7201a8"
             ],
             [
              0.3333333333333333,
              "#9c179e"
             ],
             [
              0.4444444444444444,
              "#bd3786"
             ],
             [
              0.5555555555555556,
              "#d8576b"
             ],
             [
              0.6666666666666666,
              "#ed7953"
             ],
             [
              0.7777777777777778,
              "#fb9f3a"
             ],
             [
              0.8888888888888888,
              "#fdca26"
             ],
             [
              1,
              "#f0f921"
             ]
            ],
            "type": "contour"
           }
          ],
          "contourcarpet": [
           {
            "colorbar": {
             "outlinewidth": 0,
             "ticks": ""
            },
            "type": "contourcarpet"
           }
          ],
          "heatmap": [
           {
            "colorbar": {
             "outlinewidth": 0,
             "ticks": ""
            },
            "colorscale": [
             [
              0,
              "#0d0887"
             ],
             [
              0.1111111111111111,
              "#46039f"
             ],
             [
              0.2222222222222222,
              "#7201a8"
             ],
             [
              0.3333333333333333,
              "#9c179e"
             ],
             [
              0.4444444444444444,
              "#bd3786"
             ],
             [
              0.5555555555555556,
              "#d8576b"
             ],
             [
              0.6666666666666666,
              "#ed7953"
             ],
             [
              0.7777777777777778,
              "#fb9f3a"
             ],
             [
              0.8888888888888888,
              "#fdca26"
             ],
             [
              1,
              "#f0f921"
             ]
            ],
            "type": "heatmap"
           }
          ],
          "heatmapgl": [
           {
            "colorbar": {
             "outlinewidth": 0,
             "ticks": ""
            },
            "colorscale": [
             [
              0,
              "#0d0887"
             ],
             [
              0.1111111111111111,
              "#46039f"
             ],
             [
              0.2222222222222222,
              "#7201a8"
             ],
             [
              0.3333333333333333,
              "#9c179e"
             ],
             [
              0.4444444444444444,
              "#bd3786"
             ],
             [
              0.5555555555555556,
              "#d8576b"
             ],
             [
              0.6666666666666666,
              "#ed7953"
             ],
             [
              0.7777777777777778,
              "#fb9f3a"
             ],
             [
              0.8888888888888888,
              "#fdca26"
             ],
             [
              1,
              "#f0f921"
             ]
            ],
            "type": "heatmapgl"
           }
          ],
          "histogram": [
           {
            "marker": {
             "pattern": {
              "fillmode": "overlay",
              "size": 10,
              "solidity": 0.2
             }
            },
            "type": "histogram"
           }
          ],
          "histogram2d": [
           {
            "colorbar": {
             "outlinewidth": 0,
             "ticks": ""
            },
            "colorscale": [
             [
              0,
              "#0d0887"
             ],
             [
              0.1111111111111111,
              "#46039f"
             ],
             [
              0.2222222222222222,
              "#7201a8"
             ],
             [
              0.3333333333333333,
              "#9c179e"
             ],
             [
              0.4444444444444444,
              "#bd3786"
             ],
             [
              0.5555555555555556,
              "#d8576b"
             ],
             [
              0.6666666666666666,
              "#ed7953"
             ],
             [
              0.7777777777777778,
              "#fb9f3a"
             ],
             [
              0.8888888888888888,
              "#fdca26"
             ],
             [
              1,
              "#f0f921"
             ]
            ],
            "type": "histogram2d"
           }
          ],
          "histogram2dcontour": [
           {
            "colorbar": {
             "outlinewidth": 0,
             "ticks": ""
            },
            "colorscale": [
             [
              0,
              "#0d0887"
             ],
             [
              0.1111111111111111,
              "#46039f"
             ],
             [
              0.2222222222222222,
              "#7201a8"
             ],
             [
              0.3333333333333333,
              "#9c179e"
             ],
             [
              0.4444444444444444,
              "#bd3786"
             ],
             [
              0.5555555555555556,
              "#d8576b"
             ],
             [
              0.6666666666666666,
              "#ed7953"
             ],
             [
              0.7777777777777778,
              "#fb9f3a"
             ],
             [
              0.8888888888888888,
              "#fdca26"
             ],
             [
              1,
              "#f0f921"
             ]
            ],
            "type": "histogram2dcontour"
           }
          ],
          "mesh3d": [
           {
            "colorbar": {
             "outlinewidth": 0,
             "ticks": ""
            },
            "type": "mesh3d"
           }
          ],
          "parcoords": [
           {
            "line": {
             "colorbar": {
              "outlinewidth": 0,
              "ticks": ""
             }
            },
            "type": "parcoords"
           }
          ],
          "pie": [
           {
            "automargin": true,
            "type": "pie"
           }
          ],
          "scatter": [
           {
            "marker": {
             "colorbar": {
              "outlinewidth": 0,
              "ticks": ""
             }
            },
            "type": "scatter"
           }
          ],
          "scatter3d": [
           {
            "line": {
             "colorbar": {
              "outlinewidth": 0,
              "ticks": ""
             }
            },
            "marker": {
             "colorbar": {
              "outlinewidth": 0,
              "ticks": ""
             }
            },
            "type": "scatter3d"
           }
          ],
          "scattercarpet": [
           {
            "marker": {
             "colorbar": {
              "outlinewidth": 0,
              "ticks": ""
             }
            },
            "type": "scattercarpet"
           }
          ],
          "scattergeo": [
           {
            "marker": {
             "colorbar": {
              "outlinewidth": 0,
              "ticks": ""
             }
            },
            "type": "scattergeo"
           }
          ],
          "scattergl": [
           {
            "marker": {
             "colorbar": {
              "outlinewidth": 0,
              "ticks": ""
             }
            },
            "type": "scattergl"
           }
          ],
          "scattermapbox": [
           {
            "marker": {
             "colorbar": {
              "outlinewidth": 0,
              "ticks": ""
             }
            },
            "type": "scattermapbox"
           }
          ],
          "scatterpolar": [
           {
            "marker": {
             "colorbar": {
              "outlinewidth": 0,
              "ticks": ""
             }
            },
            "type": "scatterpolar"
           }
          ],
          "scatterpolargl": [
           {
            "marker": {
             "colorbar": {
              "outlinewidth": 0,
              "ticks": ""
             }
            },
            "type": "scatterpolargl"
           }
          ],
          "scatterternary": [
           {
            "marker": {
             "colorbar": {
              "outlinewidth": 0,
              "ticks": ""
             }
            },
            "type": "scatterternary"
           }
          ],
          "surface": [
           {
            "colorbar": {
             "outlinewidth": 0,
             "ticks": ""
            },
            "colorscale": [
             [
              0,
              "#0d0887"
             ],
             [
              0.1111111111111111,
              "#46039f"
             ],
             [
              0.2222222222222222,
              "#7201a8"
             ],
             [
              0.3333333333333333,
              "#9c179e"
             ],
             [
              0.4444444444444444,
              "#bd3786"
             ],
             [
              0.5555555555555556,
              "#d8576b"
             ],
             [
              0.6666666666666666,
              "#ed7953"
             ],
             [
              0.7777777777777778,
              "#fb9f3a"
             ],
             [
              0.8888888888888888,
              "#fdca26"
             ],
             [
              1,
              "#f0f921"
             ]
            ],
            "type": "surface"
           }
          ],
          "table": [
           {
            "cells": {
             "fill": {
              "color": "#EBF0F8"
             },
             "line": {
              "color": "white"
             }
            },
            "header": {
             "fill": {
              "color": "#C8D4E3"
             },
             "line": {
              "color": "white"
             }
            },
            "type": "table"
           }
          ]
         },
         "layout": {
          "annotationdefaults": {
           "arrowcolor": "#2a3f5f",
           "arrowhead": 0,
           "arrowwidth": 1
          },
          "autotypenumbers": "strict",
          "coloraxis": {
           "colorbar": {
            "outlinewidth": 0,
            "ticks": ""
           }
          },
          "colorscale": {
           "diverging": [
            [
             0,
             "#8e0152"
            ],
            [
             0.1,
             "#c51b7d"
            ],
            [
             0.2,
             "#de77ae"
            ],
            [
             0.3,
             "#f1b6da"
            ],
            [
             0.4,
             "#fde0ef"
            ],
            [
             0.5,
             "#f7f7f7"
            ],
            [
             0.6,
             "#e6f5d0"
            ],
            [
             0.7,
             "#b8e186"
            ],
            [
             0.8,
             "#7fbc41"
            ],
            [
             0.9,
             "#4d9221"
            ],
            [
             1,
             "#276419"
            ]
           ],
           "sequential": [
            [
             0,
             "#0d0887"
            ],
            [
             0.1111111111111111,
             "#46039f"
            ],
            [
             0.2222222222222222,
             "#7201a8"
            ],
            [
             0.3333333333333333,
             "#9c179e"
            ],
            [
             0.4444444444444444,
             "#bd3786"
            ],
            [
             0.5555555555555556,
             "#d8576b"
            ],
            [
             0.6666666666666666,
             "#ed7953"
            ],
            [
             0.7777777777777778,
             "#fb9f3a"
            ],
            [
             0.8888888888888888,
             "#fdca26"
            ],
            [
             1,
             "#f0f921"
            ]
           ],
           "sequentialminus": [
            [
             0,
             "#0d0887"
            ],
            [
             0.1111111111111111,
             "#46039f"
            ],
            [
             0.2222222222222222,
             "#7201a8"
            ],
            [
             0.3333333333333333,
             "#9c179e"
            ],
            [
             0.4444444444444444,
             "#bd3786"
            ],
            [
             0.5555555555555556,
             "#d8576b"
            ],
            [
             0.6666666666666666,
             "#ed7953"
            ],
            [
             0.7777777777777778,
             "#fb9f3a"
            ],
            [
             0.8888888888888888,
             "#fdca26"
            ],
            [
             1,
             "#f0f921"
            ]
           ]
          },
          "colorway": [
           "#636efa",
           "#EF553B",
           "#00cc96",
           "#ab63fa",
           "#FFA15A",
           "#19d3f3",
           "#FF6692",
           "#B6E880",
           "#FF97FF",
           "#FECB52"
          ],
          "font": {
           "color": "#2a3f5f"
          },
          "geo": {
           "bgcolor": "white",
           "lakecolor": "white",
           "landcolor": "white",
           "showlakes": true,
           "showland": true,
           "subunitcolor": "#C8D4E3"
          },
          "hoverlabel": {
           "align": "left"
          },
          "hovermode": "closest",
          "mapbox": {
           "style": "light"
          },
          "paper_bgcolor": "white",
          "plot_bgcolor": "white",
          "polar": {
           "angularaxis": {
            "gridcolor": "#EBF0F8",
            "linecolor": "#EBF0F8",
            "ticks": ""
           },
           "bgcolor": "white",
           "radialaxis": {
            "gridcolor": "#EBF0F8",
            "linecolor": "#EBF0F8",
            "ticks": ""
           }
          },
          "scene": {
           "xaxis": {
            "backgroundcolor": "white",
            "gridcolor": "#DFE8F3",
            "gridwidth": 2,
            "linecolor": "#EBF0F8",
            "showbackground": true,
            "ticks": "",
            "zerolinecolor": "#EBF0F8"
           },
           "yaxis": {
            "backgroundcolor": "white",
            "gridcolor": "#DFE8F3",
            "gridwidth": 2,
            "linecolor": "#EBF0F8",
            "showbackground": true,
            "ticks": "",
            "zerolinecolor": "#EBF0F8"
           },
           "zaxis": {
            "backgroundcolor": "white",
            "gridcolor": "#DFE8F3",
            "gridwidth": 2,
            "linecolor": "#EBF0F8",
            "showbackground": true,
            "ticks": "",
            "zerolinecolor": "#EBF0F8"
           }
          },
          "shapedefaults": {
           "line": {
            "color": "#2a3f5f"
           }
          },
          "ternary": {
           "aaxis": {
            "gridcolor": "#DFE8F3",
            "linecolor": "#A2B1C6",
            "ticks": ""
           },
           "baxis": {
            "gridcolor": "#DFE8F3",
            "linecolor": "#A2B1C6",
            "ticks": ""
           },
           "bgcolor": "white",
           "caxis": {
            "gridcolor": "#DFE8F3",
            "linecolor": "#A2B1C6",
            "ticks": ""
           }
          },
          "title": {
           "x": 0.05
          },
          "xaxis": {
           "automargin": true,
           "gridcolor": "#EBF0F8",
           "linecolor": "#EBF0F8",
           "ticks": "",
           "title": {
            "standoff": 15
           },
           "zerolinecolor": "#EBF0F8",
           "zerolinewidth": 2
          },
          "yaxis": {
           "automargin": true,
           "gridcolor": "#EBF0F8",
           "linecolor": "#EBF0F8",
           "ticks": "",
           "title": {
            "standoff": 15
           },
           "zerolinecolor": "#EBF0F8",
           "zerolinewidth": 2
          }
         }
        },
        "xaxis": {
         "autorange": true,
         "dtick": 1,
         "linecolor": "black",
         "linewidth": 2.4,
         "range": [
          0,
          10.558057253136056
         ],
         "rangemode": "tozero",
         "showgrid": false,
         "showline": true,
         "tickfont": {
          "size": 12
         },
         "title": {
          "text": "Season"
         },
         "type": "linear"
        },
        "yaxis": {
         "autorange": true,
         "linecolor": "black",
         "linewidth": 2.4,
         "range": [
          0.1975084603014239,
          0.2303495727163037
         ],
         "showgrid": false,
         "showline": true,
         "tickfont": {
          "size": 12
         },
         "ticklen": 10,
         "tickmode": "auto",
         "title": {
          "text": "Avg. value"
         },
         "type": "linear"
        }
       }
      },
      "image/png": "[encoded data removed]",
      "text/html": [
       "<div>                            <div id=\"211e1442-5d8c-491c-bae4-a4285376f2dd\" class=\"plotly-graph-div\" style=\"height:525px; width:100%;\"></div>            <script type=\"text/javascript\">                require([\"plotly\"], function(Plotly) {                    window.PLOTLYENV=window.PLOTLYENV || {};                                    if (document.getElementById(\"211e1442-5d8c-491c-bae4-a4285376f2dd\")) {                    Plotly.newPlot(                        \"211e1442-5d8c-491c-bae4-a4285376f2dd\",                        [{\"line\":{\"color\":\"black\",\"dash\":\"solid\"},\"mode\":\"lines+markers\",\"name\":\"Expected RPS\",\"type\":\"scatter\",\"x\":[1,2,3,4,5,6,7,8,9,10],\"y\":[0.22743666916476063,0.22802332725358307,0.225508509864969,0.2214514274774519,0.2193147253954254,0.21962310981582106,0.21902558485197984,0.21970624241477194,0.21338549695988643,0.206370457802548]},{\"line\":{\"color\":\"black\",\"dash\":\"dashdot\"},\"mode\":\"lines+markers\",\"name\":\"Forecastability Score\",\"type\":\"scatter\",\"x\":[1,2,3,4,5,6,7,8,9,10],\"y\":[0.2235927705581212,0.22064863496981088,0.21751270104905734,0.21762950859404612,0.21515927629695397,0.21390094010352095,0.21122517587701609,0.21062048639297679,0.2037691337541087,0.19983470576414455]}],                        {\"font\":{\"color\":\"black\",\"family\":\"Helvetica\",\"size\":22},\"legend\":{\"bordercolor\":\"Black\",\"borderwidth\":2,\"font\":{\"color\":\"Black\",\"family\":\"Helvetica\",\"size\":12},\"orientation\":\"h\",\"x\":1,\"xanchor\":\"right\",\"y\":1,\"yanchor\":\"bottom\"},\"plot_bgcolor\":\"white\",\"showlegend\":true,\"template\":{\"data\":{\"bar\":[{\"error_x\":{\"color\":\"#2a3f5f\"},\"error_y\":{\"color\":\"#2a3f5f\"},\"marker\":{\"line\":{\"color\":\"white\",\"width\":0.5},\"pattern\":{\"fillmode\":\"overlay\",\"size\":10,\"solidity\":0.2}},\"type\":\"bar\"}],\"barpolar\":[{\"marker\":{\"line\":{\"color\":\"white\",\"width\":0.5},\"pattern\":{\"fillmode\":\"overlay\",\"size\":10,\"solidity\":0.2}},\"type\":\"barpolar\"}],\"carpet\":[{\"aaxis\":{\"endlinecolor\":\"#2a3f5f\",\"gridcolor\":\"#C8D4E3\",\"linecolor\":\"#C8D4E3\",\"minorgridcolor\":\"#C8D4E3\",\"startlinecolor\":\"#2a3f5f\"},\"baxis\":{\"endlinecolor\":\"#2a3f5f\",\"gridcolor\":\"#C8D4E3\",\"linecolor\":\"#C8D4E3\",\"minorgridcolor\":\"#C8D4E3\",\"startlinecolor\":\"#2a3f5f\"},\"type\":\"carpet\"}],\"choropleth\":[{\"colorbar\":{\"outlinewidth\":0,\"ticks\":\"\"},\"type\":\"choropleth\"}],\"contour\":[{\"colorbar\":{\"outlinewidth\":0,\"ticks\":\"\"},\"colorscale\":[[0.0,\"#0d0887\"],[0.1111111111111111,\"#46039f\"],[0.2222222222222222,\"#7201a8\"],[0.3333333333333333,\"#9c179e\"],[0.4444444444444444,\"#bd3786\"],[0.5555555555555556,\"#d8576b\"],[0.6666666666666666,\"#ed7953\"],[0.7777777777777778,\"#fb9f3a\"],[0.8888888888888888,\"#fdca26\"],[1.0,\"#f0f921\"]],\"type\":\"contour\"}],\"contourcarpet\":[{\"colorbar\":{\"outlinewidth\":0,\"ticks\":\"\"},\"type\":\"contourcarpet\"}],\"heatmap\":[{\"colorbar\":{\"outlinewidth\":0,\"ticks\":\"\"},\"colorscale\":[[0.0,\"#0d0887\"],[0.1111111111111111,\"#46039f\"],[0.2222222222222222,\"#7201a8\"],[0.3333333333333333,\"#9c179e\"],[0.4444444444444444,\"#bd3786\"],[0.5555555555555556,\"#d8576b\"],[0.6666666666666666,\"#ed7953\"],[0.7777777777777778,\"#fb9f3a\"],[0.8888888888888888,\"#fdca26\"],[1.0,\"#f0f921\"]],\"type\":\"heatmap\"}],\"heatmapgl\":[{\"colorbar\":{\"outlinewidth\":0,\"ticks\":\"\"},\"colorscale\":[[0.0,\"#0d0887\"],[0.1111111111111111,\"#46039f\"],[0.2222222222222222,\"#7201a8\"],[0.3333333333333333,\"#9c179e\"],[0.4444444444444444,\"#bd3786\"],[0.5555555555555556,\"#d8576b\"],[0.6666666666666666,\"#ed7953\"],[0.7777777777777778,\"#fb9f3a\"],[0.8888888888888888,\"#fdca26\"],[1.0,\"#f0f921\"]],\"type\":\"heatmapgl\"}],\"histogram\":[{\"marker\":{\"pattern\":{\"fillmode\":\"overlay\",\"size\":10,\"solidity\":0.2}},\"type\":\"histogram\"}],\"histogram2d\":[{\"colorbar\":{\"outlinewidth\":0,\"ticks\":\"\"},\"colorscale\":[[0.0,\"#0d0887\"],[0.1111111111111111,\"#46039f\"],[0.2222222222222222,\"#7201a8\"],[0.3333333333333333,\"#9c179e\"],[0.4444444444444444,\"#bd3786\"],[0.5555555555555556,\"#d8576b\"],[0.6666666666666666,\"#ed7953\"],[0.7777777777777778,\"#fb9f3a\"],[0.8888888888888888,\"#fdca26\"],[1.0,\"#f0f921\"]],\"type\":\"histogram2d\"}],\"histogram2dcontour\":[{\"colorbar\":{\"outlinewidth\":0,\"ticks\":\"\"},\"colorscale\":[[0.0,\"#0d0887\"],[0.1111111111111111,\"#46039f\"],[0.2222222222222222,\"#7201a8\"],[0.3333333333333333,\"#9c179e\"],[0.4444444444444444,\"#bd3786\"],[0.5555555555555556,\"#d8576b\"],[0.6666666666666666,\"#ed7953\"],[0.7777777777777778,\"#fb9f3a\"],[0.8888888888888888,\"#fdca26\"],[1.0,\"#f0f921\"]],\"type\":\"histogram2dcontour\"}],\"mesh3d\":[{\"colorbar\":{\"outlinewidth\":0,\"ticks\":\"\"},\"type\":\"mesh3d\"}],\"parcoords\":[{\"line\":{\"colorbar\":{\"outlinewidth\":0,\"ticks\":\"\"}},\"type\":\"parcoords\"}],\"pie\":[{\"automargin\":true,\"type\":\"pie\"}],\"scatter\":[{\"marker\":{\"colorbar\":{\"outlinewidth\":0,\"ticks\":\"\"}},\"type\":\"scatter\"}],\"scatter3d\":[{\"line\":{\"colorbar\":{\"outlinewidth\":0,\"ticks\":\"\"}},\"marker\":{\"colorbar\":{\"outlinewidth\":0,\"ticks\":\"\"}},\"type\":\"scatter3d\"}],\"scattercarpet\":[{\"marker\":{\"colorbar\":{\"outlinewidth\":0,\"ticks\":\"\"}},\"type\":\"scattercarpet\"}],\"scattergeo\":[{\"marker\":{\"colorbar\":{\"outlinewidth\":0,\"ticks\":\"\"}},\"type\":\"scattergeo\"}],\"scattergl\":[{\"marker\":{\"colorbar\":{\"outlinewidth\":0,\"ticks\":\"\"}},\"type\":\"scattergl\"}],\"scattermapbox\":[{\"marker\":{\"colorbar\":{\"outlinewidth\":0,\"ticks\":\"\"}},\"type\":\"scattermapbox\"}],\"scatterpolar\":[{\"marker\":{\"colorbar\":{\"outlinewidth\":0,\"ticks\":\"\"}},\"type\":\"scatterpolar\"}],\"scatterpolargl\":[{\"marker\":{\"colorbar\":{\"outlinewidth\":0,\"ticks\":\"\"}},\"type\":\"scatterpolargl\"}],\"scatterternary\":[{\"marker\":{\"colorbar\":{\"outlinewidth\":0,\"ticks\":\"\"}},\"type\":\"scatterternary\"}],\"surface\":[{\"colorbar\":{\"outlinewidth\":0,\"ticks\":\"\"},\"colorscale\":[[0.0,\"#0d0887\"],[0.1111111111111111,\"#46039f\"],[0.2222222222222222,\"#7201a8\"],[0.3333333333333333,\"#9c179e\"],[0.4444444444444444,\"#bd3786\"],[0.5555555555555556,\"#d8576b\"],[0.6666666666666666,\"#ed7953\"],[0.7777777777777778,\"#fb9f3a\"],[0.8888888888888888,\"#fdca26\"],[1.0,\"#f0f921\"]],\"type\":\"surface\"}],\"table\":[{\"cells\":{\"fill\":{\"color\":\"#EBF0F8\"},\"line\":{\"color\":\"white\"}},\"header\":{\"fill\":{\"color\":\"#C8D4E3\"},\"line\":{\"color\":\"white\"}},\"type\":\"table\"}]},\"layout\":{\"annotationdefaults\":{\"arrowcolor\":\"#2a3f5f\",\"arrowhead\":0,\"arrowwidth\":1},\"autotypenumbers\":\"strict\",\"coloraxis\":{\"colorbar\":{\"outlinewidth\":0,\"ticks\":\"\"}},\"colorscale\":{\"diverging\":[[0,\"#8e0152\"],[0.1,\"#c51b7d\"],[0.2,\"#de77ae\"],[0.3,\"#f1b6da\"],[0.4,\"#fde0ef\"],[0.5,\"#f7f7f7\"],[0.6,\"#e6f5d0\"],[0.7,\"#b8e186\"],[0.8,\"#7fbc41\"],[0.9,\"#4d9221\"],[1,\"#276419\"]],\"sequential\":[[0.0,\"#0d0887\"],[0.1111111111111111,\"#46039f\"],[0.2222222222222222,\"#7201a8\"],[0.3333333333333333,\"#9c179e\"],[0.4444444444444444,\"#bd3786\"],[0.5555555555555556,\"#d8576b\"],[0.6666666666666666,\"#ed7953\"],[0.7777777777777778,\"#fb9f3a\"],[0.8888888888888888,\"#fdca26\"],[1.0,\"#f0f921\"]],\"sequentialminus\":[[0.0,\"#0d0887\"],[0.1111111111111111,\"#46039f\"],[0.2222222222222222,\"#7201a8\"],[0.3333333333333333,\"#9c179e\"],[0.4444444444444444,\"#bd3786\"],[0.5555555555555556,\"#d8576b\"],[0.6666666666666666,\"#ed7953\"],[0.7777777777777778,\"#fb9f3a\"],[0.8888888888888888,\"#fdca26\"],[1.0,\"#f0f921\"]]},\"colorway\":[\"#636efa\",\"#EF553B\",\"#00cc96\",\"#ab63fa\",\"#FFA15A\",\"#19d3f3\",\"#FF6692\",\"#B6E880\",\"#FF97FF\",\"#FECB52\"],\"font\":{\"color\":\"#2a3f5f\"},\"geo\":{\"bgcolor\":\"white\",\"lakecolor\":\"white\",\"landcolor\":\"white\",\"showlakes\":true,\"showland\":true,\"subunitcolor\":\"#C8D4E3\"},\"hoverlabel\":{\"align\":\"left\"},\"hovermode\":\"closest\",\"mapbox\":{\"style\":\"light\"},\"paper_bgcolor\":\"white\",\"plot_bgcolor\":\"white\",\"polar\":{\"angularaxis\":{\"gridcolor\":\"#EBF0F8\",\"linecolor\":\"#EBF0F8\",\"ticks\":\"\"},\"bgcolor\":\"white\",\"radialaxis\":{\"gridcolor\":\"#EBF0F8\",\"linecolor\":\"#EBF0F8\",\"ticks\":\"\"}},\"scene\":{\"xaxis\":{\"backgroundcolor\":\"white\",\"gridcolor\":\"#DFE8F3\",\"gridwidth\":2,\"linecolor\":\"#EBF0F8\",\"showbackground\":true,\"ticks\":\"\",\"zerolinecolor\":\"#EBF0F8\"},\"yaxis\":{\"backgroundcolor\":\"white\",\"gridcolor\":\"#DFE8F3\",\"gridwidth\":2,\"linecolor\":\"#EBF0F8\",\"showbackground\":true,\"ticks\":\"\",\"zerolinecolor\":\"#EBF0F8\"},\"zaxis\":{\"backgroundcolor\":\"white\",\"gridcolor\":\"#DFE8F3\",\"gridwidth\":2,\"linecolor\":\"#EBF0F8\",\"showbackground\":true,\"ticks\":\"\",\"zerolinecolor\":\"#EBF0F8\"}},\"shapedefaults\":{\"line\":{\"color\":\"#2a3f5f\"}},\"ternary\":{\"aaxis\":{\"gridcolor\":\"#DFE8F3\",\"linecolor\":\"#A2B1C6\",\"ticks\":\"\"},\"baxis\":{\"gridcolor\":\"#DFE8F3\",\"linecolor\":\"#A2B1C6\",\"ticks\":\"\"},\"bgcolor\":\"white\",\"caxis\":{\"gridcolor\":\"#DFE8F3\",\"linecolor\":\"#A2B1C6\",\"ticks\":\"\"}},\"title\":{\"x\":0.05},\"xaxis\":{\"automargin\":true,\"gridcolor\":\"#EBF0F8\",\"linecolor\":\"#EBF0F8\",\"ticks\":\"\",\"title\":{\"standoff\":15},\"zerolinecolor\":\"#EBF0F8\",\"zerolinewidth\":2},\"yaxis\":{\"automargin\":true,\"gridcolor\":\"#EBF0F8\",\"linecolor\":\"#EBF0F8\",\"ticks\":\"\",\"title\":{\"standoff\":15},\"zerolinecolor\":\"#EBF0F8\",\"zerolinewidth\":2}}},\"xaxis\":{\"dtick\":1,\"linecolor\":\"black\",\"linewidth\":2.4,\"rangemode\":\"tozero\",\"showgrid\":false,\"showline\":true,\"tickfont\":{\"size\":12},\"title\":{\"text\":\"Season\"}},\"yaxis\":{\"linecolor\":\"black\",\"linewidth\":2.4,\"showgrid\":false,\"showline\":true,\"tickfont\":{\"size\":12},\"ticklen\":10,\"tickmode\":\"auto\",\"title\":{\"text\":\"Avg. value\"}}},                        {\"toImageButtonOptions\": {\"format\": \"svg\", \"filename\": \"figure\", \"height\": 400, \"width\": 1000, \"scale\": 1}, \"responsive\": true}                    ).then(function(){\n",
       "                            \n",
       "var gd = document.getElementById('211e1442-5d8c-491c-bae4-a4285376f2dd');\n",
       "var x = new MutationObserver(function (mutations, observer) {{\n",
       "        var display = window.getComputedStyle(gd).display;\n",
       "        if (!display || display === 'none') {{\n",
       "            console.log([gd, 'removed!']);\n",
       "            Plotly.purge(gd);\n",
       "            observer.disconnect();\n",
       "        }}\n",
       "}});\n",
       "\n",
       "// Listen for the removal of the full notebook cells\n",
       "var notebookContainer = gd.closest('#notebook-container');\n",
       "if (notebookContainer) {{\n",
       "    x.observe(notebookContainer, {childList: true});\n",
       "}}\n",
       "\n",
       "// Listen for the clearing of the current output cell\n",
       "var outputEl = gd.closest('.output');\n",
       "if (outputEl) {{\n",
       "    x.observe(outputEl, {childList: true});\n",
       "}}\n",
       "\n",
       "                        })                };                });            </script>        </div>"
      ]
     },
     "metadata": {},
     "output_type": "display_data"
    }
   ],
   "source": [
    "fig = go.Figure()\n",
    "for rps_based_metric, dashed, display_name in [(\"ExpectedRPS\", \"solid\", \"Expected RPS\"), (\"Forecastability\", \"dashdot\", \"Forecastability Score\")]:\n",
    "    fig.add_trace(\n",
    "        go.Scatter(\n",
    "            y=season_df[(rps_based_metric, \"mean\")],\n",
    "            x=season_df[\"Season\"] + 1,\n",
    "            mode=\"lines+markers\",\n",
    "            name=display_name,\n",
    "            line= {\n",
    "                \"color\": \"black\",\n",
    "                \"dash\": dashed\n",
    "            }\n",
    "        )\n",
    "    )\n",
    "return_fig_settings(fig, \"Season\", \"Avg. value\")\n",
    "fig.update_layout(showlegend=True)\n",
    "fig.show(config=config)"
   ]
  },
  {
   "cell_type": "markdown",
   "id": "8673956b",
   "metadata": {},
   "source": [
    "Expected RPS excludes unsystematic error.\n",
    "Forecastability(MINRPS), excluding both errors.\n",
    "RPS-expectedRPS.\n",
    "RPS-Forecastability.\n",
    "The interesting thing is how this enables model comparison."
   ]
  },
  {
   "cell_type": "code",
   "execution_count": 32,
   "id": "313a3cc8",
   "metadata": {},
   "outputs": [
    {
     "data": {
      "application/vnd.plotly.v1+json": {
       "config": {
        "plotlyServerURL": "https://plot.ly",
        "responsive": true,
        "toImageButtonOptions": {
         "filename": "figure",
         "format": "svg",
         "height": 400,
         "scale": 1,
         "width": 1000
        }
       },
       "data": [
        {
         "mode": "lines+markers",
         "name": "RPS",
         "type": "scatter",
         "visible": "legendonly",
         "x": [
          1,
          2,
          3,
          4,
          5,
          6,
          7,
          8,
          9,
          10
         ],
         "y": [
          0.2273151590986411,
          0.23047187807137393,
          0.22693601068439906,
          0.22037975756758876,
          0.2163891210210796,
          0.2166676656316514,
          0.21399806363201654,
          0.21742581410177156,
          0.2071895813427296,
          0.20471366247777278
         ]
        },
        {
         "mode": "lines+markers",
         "name": "TrueRPS",
         "type": "scatter",
         "visible": "legendonly",
         "x": [
          1,
          2,
          3,
          4,
          5,
          6,
          7,
          8,
          9,
          10
         ],
         "y": [
          0.2278999432512842,
          0.22807771744897987,
          0.21849212763253276,
          0.2150669823574839,
          0.21114088426542116,
          0.2140191620351727,
          0.2077587844260699,
          0.21120894621286512,
          0.20329220975367115,
          0.19282532572442168
         ]
        },
        {
         "mode": "lines+markers",
         "name": "ForecastError",
         "type": "scatter",
         "visible": "legendonly",
         "x": [
          1,
          2,
          3,
          4,
          5,
          6,
          7,
          8,
          9,
          10
         ],
         "y": [
          0.0038438986066395594,
          0.007374692283772179,
          0.007995808815911852,
          0.003821918883405676,
          0.004155449098471395,
          0.00572216971229983,
          0.007800408974963782,
          0.009085756021795354,
          0.009616363205777731,
          0.006535752038403457
         ]
        },
        {
         "mode": "lines+markers",
         "name": "ExpectedRPS",
         "type": "scatter",
         "x": [
          1,
          2,
          3,
          4,
          5,
          6,
          7,
          8,
          9,
          10
         ],
         "y": [
          0.22743666916476063,
          0.22802332725358307,
          0.225508509864969,
          0.2214514274774519,
          0.2193147253954254,
          0.21962310981582106,
          0.21902558485197984,
          0.21970624241477194,
          0.21338549695988643,
          0.206370457802548
         ]
        },
        {
         "mode": "lines+markers",
         "name": "Forecastability",
         "type": "scatter",
         "x": [
          1,
          2,
          3,
          4,
          5,
          6,
          7,
          8,
          9,
          10
         ],
         "y": [
          0.2235927705581212,
          0.22064863496981088,
          0.21751270104905734,
          0.21762950859404612,
          0.21515927629695397,
          0.21390094010352095,
          0.21122517587701609,
          0.21062048639297679,
          0.2037691337541087,
          0.19983470576414455
         ]
        }
       ],
       "layout": {
        "autosize": true,
        "font": {
         "color": "black",
         "family": "Times New Roman",
         "size": 15
        },
        "legend": {
         "bordercolor": "Black",
         "borderwidth": 2,
         "font": {
          "color": "Black",
          "family": "Times New Roman",
          "size": 15
         },
         "orientation": "h",
         "x": 1,
         "xanchor": "right",
         "y": 1,
         "yanchor": "bottom"
        },
        "plot_bgcolor": "white",
        "showlegend": true,
        "template": {
         "data": {
          "bar": [
           {
            "error_x": {
             "color": "#2a3f5f"
            },
            "error_y": {
             "color": "#2a3f5f"
            },
            "marker": {
             "line": {
              "color": "white",
              "width": 0.5
             },
             "pattern": {
              "fillmode": "overlay",
              "size": 10,
              "solidity": 0.2
             }
            },
            "type": "bar"
           }
          ],
          "barpolar": [
           {
            "marker": {
             "line": {
              "color": "white",
              "width": 0.5
             },
             "pattern": {
              "fillmode": "overlay",
              "size": 10,
              "solidity": 0.2
             }
            },
            "type": "barpolar"
           }
          ],
          "carpet": [
           {
            "aaxis": {
             "endlinecolor": "#2a3f5f",
             "gridcolor": "#C8D4E3",
             "linecolor": "#C8D4E3",
             "minorgridcolor": "#C8D4E3",
             "startlinecolor": "#2a3f5f"
            },
            "baxis": {
             "endlinecolor": "#2a3f5f",
             "gridcolor": "#C8D4E3",
             "linecolor": "#C8D4E3",
             "minorgridcolor": "#C8D4E3",
             "startlinecolor": "#2a3f5f"
            },
            "type": "carpet"
           }
          ],
          "choropleth": [
           {
            "colorbar": {
             "outlinewidth": 0,
             "ticks": ""
            },
            "type": "choropleth"
           }
          ],
          "contour": [
           {
            "colorbar": {
             "outlinewidth": 0,
             "ticks": ""
            },
            "colorscale": [
             [
              0,
              "#0d0887"
             ],
             [
              0.1111111111111111,
              "#46039f"
             ],
             [
              0.2222222222222222,
              "#7201a8"
             ],
             [
              0.3333333333333333,
              "#9c179e"
             ],
             [
              0.4444444444444444,
              "#bd3786"
             ],
             [
              0.5555555555555556,
              "#d8576b"
             ],
             [
              0.6666666666666666,
              "#ed7953"
             ],
             [
              0.7777777777777778,
              "#fb9f3a"
             ],
             [
              0.8888888888888888,
              "#fdca26"
             ],
             [
              1,
              "#f0f921"
             ]
            ],
            "type": "contour"
           }
          ],
          "contourcarpet": [
           {
            "colorbar": {
             "outlinewidth": 0,
             "ticks": ""
            },
            "type": "contourcarpet"
           }
          ],
          "heatmap": [
           {
            "colorbar": {
             "outlinewidth": 0,
             "ticks": ""
            },
            "colorscale": [
             [
              0,
              "#0d0887"
             ],
             [
              0.1111111111111111,
              "#46039f"
             ],
             [
              0.2222222222222222,
              "#7201a8"
             ],
             [
              0.3333333333333333,
              "#9c179e"
             ],
             [
              0.4444444444444444,
              "#bd3786"
             ],
             [
              0.5555555555555556,
              "#d8576b"
             ],
             [
              0.6666666666666666,
              "#ed7953"
             ],
             [
              0.7777777777777778,
              "#fb9f3a"
             ],
             [
              0.8888888888888888,
              "#fdca26"
             ],
             [
              1,
              "#f0f921"
             ]
            ],
            "type": "heatmap"
           }
          ],
          "heatmapgl": [
           {
            "colorbar": {
             "outlinewidth": 0,
             "ticks": ""
            },
            "colorscale": [
             [
              0,
              "#0d0887"
             ],
             [
              0.1111111111111111,
              "#46039f"
             ],
             [
              0.2222222222222222,
              "#7201a8"
             ],
             [
              0.3333333333333333,
              "#9c179e"
             ],
             [
              0.4444444444444444,
              "#bd3786"
             ],
             [
              0.5555555555555556,
              "#d8576b"
             ],
             [
              0.6666666666666666,
              "#ed7953"
             ],
             [
              0.7777777777777778,
              "#fb9f3a"
             ],
             [
              0.8888888888888888,
              "#fdca26"
             ],
             [
              1,
              "#f0f921"
             ]
            ],
            "type": "heatmapgl"
           }
          ],
          "histogram": [
           {
            "marker": {
             "pattern": {
              "fillmode": "overlay",
              "size": 10,
              "solidity": 0.2
             }
            },
            "type": "histogram"
           }
          ],
          "histogram2d": [
           {
            "colorbar": {
             "outlinewidth": 0,
             "ticks": ""
            },
            "colorscale": [
             [
              0,
              "#0d0887"
             ],
             [
              0.1111111111111111,
              "#46039f"
             ],
             [
              0.2222222222222222,
              "#7201a8"
             ],
             [
              0.3333333333333333,
              "#9c179e"
             ],
             [
              0.4444444444444444,
              "#bd3786"
             ],
             [
              0.5555555555555556,
              "#d8576b"
             ],
             [
              0.6666666666666666,
              "#ed7953"
             ],
             [
              0.7777777777777778,
              "#fb9f3a"
             ],
             [
              0.8888888888888888,
              "#fdca26"
             ],
             [
              1,
              "#f0f921"
             ]
            ],
            "type": "histogram2d"
           }
          ],
          "histogram2dcontour": [
           {
            "colorbar": {
             "outlinewidth": 0,
             "ticks": ""
            },
            "colorscale": [
             [
              0,
              "#0d0887"
             ],
             [
              0.1111111111111111,
              "#46039f"
             ],
             [
              0.2222222222222222,
              "#7201a8"
             ],
             [
              0.3333333333333333,
              "#9c179e"
             ],
             [
              0.4444444444444444,
              "#bd3786"
             ],
             [
              0.5555555555555556,
              "#d8576b"
             ],
             [
              0.6666666666666666,
              "#ed7953"
             ],
             [
              0.7777777777777778,
              "#fb9f3a"
             ],
             [
              0.8888888888888888,
              "#fdca26"
             ],
             [
              1,
              "#f0f921"
             ]
            ],
            "type": "histogram2dcontour"
           }
          ],
          "mesh3d": [
           {
            "colorbar": {
             "outlinewidth": 0,
             "ticks": ""
            },
            "type": "mesh3d"
           }
          ],
          "parcoords": [
           {
            "line": {
             "colorbar": {
              "outlinewidth": 0,
              "ticks": ""
             }
            },
            "type": "parcoords"
           }
          ],
          "pie": [
           {
            "automargin": true,
            "type": "pie"
           }
          ],
          "scatter": [
           {
            "marker": {
             "colorbar": {
              "outlinewidth": 0,
              "ticks": ""
             }
            },
            "type": "scatter"
           }
          ],
          "scatter3d": [
           {
            "line": {
             "colorbar": {
              "outlinewidth": 0,
              "ticks": ""
             }
            },
            "marker": {
             "colorbar": {
              "outlinewidth": 0,
              "ticks": ""
             }
            },
            "type": "scatter3d"
           }
          ],
          "scattercarpet": [
           {
            "marker": {
             "colorbar": {
              "outlinewidth": 0,
              "ticks": ""
             }
            },
            "type": "scattercarpet"
           }
          ],
          "scattergeo": [
           {
            "marker": {
             "colorbar": {
              "outlinewidth": 0,
              "ticks": ""
             }
            },
            "type": "scattergeo"
           }
          ],
          "scattergl": [
           {
            "marker": {
             "colorbar": {
              "outlinewidth": 0,
              "ticks": ""
             }
            },
            "type": "scattergl"
           }
          ],
          "scattermapbox": [
           {
            "marker": {
             "colorbar": {
              "outlinewidth": 0,
              "ticks": ""
             }
            },
            "type": "scattermapbox"
           }
          ],
          "scatterpolar": [
           {
            "marker": {
             "colorbar": {
              "outlinewidth": 0,
              "ticks": ""
             }
            },
            "type": "scatterpolar"
           }
          ],
          "scatterpolargl": [
           {
            "marker": {
             "colorbar": {
              "outlinewidth": 0,
              "ticks": ""
             }
            },
            "type": "scatterpolargl"
           }
          ],
          "scatterternary": [
           {
            "marker": {
             "colorbar": {
              "outlinewidth": 0,
              "ticks": ""
             }
            },
            "type": "scatterternary"
           }
          ],
          "surface": [
           {
            "colorbar": {
             "outlinewidth": 0,
             "ticks": ""
            },
            "colorscale": [
             [
              0,
              "#0d0887"
             ],
             [
              0.1111111111111111,
              "#46039f"
             ],
             [
              0.2222222222222222,
              "#7201a8"
             ],
             [
              0.3333333333333333,
              "#9c179e"
             ],
             [
              0.4444444444444444,
              "#bd3786"
             ],
             [
              0.5555555555555556,
              "#d8576b"
             ],
             [
              0.6666666666666666,
              "#ed7953"
             ],
             [
              0.7777777777777778,
              "#fb9f3a"
             ],
             [
              0.8888888888888888,
              "#fdca26"
             ],
             [
              1,
              "#f0f921"
             ]
            ],
            "type": "surface"
           }
          ],
          "table": [
           {
            "cells": {
             "fill": {
              "color": "#EBF0F8"
             },
             "line": {
              "color": "white"
             }
            },
            "header": {
             "fill": {
              "color": "#C8D4E3"
             },
             "line": {
              "color": "white"
             }
            },
            "type": "table"
           }
          ]
         },
         "layout": {
          "annotationdefaults": {
           "arrowcolor": "#2a3f5f",
           "arrowhead": 0,
           "arrowwidth": 1
          },
          "autotypenumbers": "strict",
          "coloraxis": {
           "colorbar": {
            "outlinewidth": 0,
            "ticks": ""
           }
          },
          "colorscale": {
           "diverging": [
            [
             0,
             "#8e0152"
            ],
            [
             0.1,
             "#c51b7d"
            ],
            [
             0.2,
             "#de77ae"
            ],
            [
             0.3,
             "#f1b6da"
            ],
            [
             0.4,
             "#fde0ef"
            ],
            [
             0.5,
             "#f7f7f7"
            ],
            [
             0.6,
             "#e6f5d0"
            ],
            [
             0.7,
             "#b8e186"
            ],
            [
             0.8,
             "#7fbc41"
            ],
            [
             0.9,
             "#4d9221"
            ],
            [
             1,
             "#276419"
            ]
           ],
           "sequential": [
            [
             0,
             "#0d0887"
            ],
            [
             0.1111111111111111,
             "#46039f"
            ],
            [
             0.2222222222222222,
             "#7201a8"
            ],
            [
             0.3333333333333333,
             "#9c179e"
            ],
            [
             0.4444444444444444,
             "#bd3786"
            ],
            [
             0.5555555555555556,
             "#d8576b"
            ],
            [
             0.6666666666666666,
             "#ed7953"
            ],
            [
             0.7777777777777778,
             "#fb9f3a"
            ],
            [
             0.8888888888888888,
             "#fdca26"
            ],
            [
             1,
             "#f0f921"
            ]
           ],
           "sequentialminus": [
            [
             0,
             "#0d0887"
            ],
            [
             0.1111111111111111,
             "#46039f"
            ],
            [
             0.2222222222222222,
             "#7201a8"
            ],
            [
             0.3333333333333333,
             "#9c179e"
            ],
            [
             0.4444444444444444,
             "#bd3786"
            ],
            [
             0.5555555555555556,
             "#d8576b"
            ],
            [
             0.6666666666666666,
             "#ed7953"
            ],
            [
             0.7777777777777778,
             "#fb9f3a"
            ],
            [
             0.8888888888888888,
             "#fdca26"
            ],
            [
             1,
             "#f0f921"
            ]
           ]
          },
          "colorway": [
           "#636efa",
           "#EF553B",
           "#00cc96",
           "#ab63fa",
           "#FFA15A",
           "#19d3f3",
           "#FF6692",
           "#B6E880",
           "#FF97FF",
           "#FECB52"
          ],
          "font": {
           "color": "#2a3f5f"
          },
          "geo": {
           "bgcolor": "white",
           "lakecolor": "white",
           "landcolor": "white",
           "showlakes": true,
           "showland": true,
           "subunitcolor": "#C8D4E3"
          },
          "hoverlabel": {
           "align": "left"
          },
          "hovermode": "closest",
          "mapbox": {
           "style": "light"
          },
          "paper_bgcolor": "white",
          "plot_bgcolor": "white",
          "polar": {
           "angularaxis": {
            "gridcolor": "#EBF0F8",
            "linecolor": "#EBF0F8",
            "ticks": ""
           },
           "bgcolor": "white",
           "radialaxis": {
            "gridcolor": "#EBF0F8",
            "linecolor": "#EBF0F8",
            "ticks": ""
           }
          },
          "scene": {
           "xaxis": {
            "backgroundcolor": "white",
            "gridcolor": "#DFE8F3",
            "gridwidth": 2,
            "linecolor": "#EBF0F8",
            "showbackground": true,
            "ticks": "",
            "zerolinecolor": "#EBF0F8"
           },
           "yaxis": {
            "backgroundcolor": "white",
            "gridcolor": "#DFE8F3",
            "gridwidth": 2,
            "linecolor": "#EBF0F8",
            "showbackground": true,
            "ticks": "",
            "zerolinecolor": "#EBF0F8"
           },
           "zaxis": {
            "backgroundcolor": "white",
            "gridcolor": "#DFE8F3",
            "gridwidth": 2,
            "linecolor": "#EBF0F8",
            "showbackground": true,
            "ticks": "",
            "zerolinecolor": "#EBF0F8"
           }
          },
          "shapedefaults": {
           "line": {
            "color": "#2a3f5f"
           }
          },
          "ternary": {
           "aaxis": {
            "gridcolor": "#DFE8F3",
            "linecolor": "#A2B1C6",
            "ticks": ""
           },
           "baxis": {
            "gridcolor": "#DFE8F3",
            "linecolor": "#A2B1C6",
            "ticks": ""
           },
           "bgcolor": "white",
           "caxis": {
            "gridcolor": "#DFE8F3",
            "linecolor": "#A2B1C6",
            "ticks": ""
           }
          },
          "title": {
           "x": 0.05
          },
          "xaxis": {
           "automargin": true,
           "gridcolor": "#EBF0F8",
           "linecolor": "#EBF0F8",
           "ticks": "",
           "title": {
            "standoff": 15
           },
           "zerolinecolor": "#EBF0F8",
           "zerolinewidth": 2
          },
          "yaxis": {
           "automargin": true,
           "gridcolor": "#EBF0F8",
           "linecolor": "#EBF0F8",
           "ticks": "",
           "title": {
            "standoff": 15
           },
           "zerolinecolor": "#EBF0F8",
           "zerolinewidth": 2
          }
         }
        },
        "xaxis": {
         "autorange": true,
         "dtick": 20,
         "range": [
          0.4680633622892181,
          10.531936637710782
         ],
         "title": {
          "text": ""
         },
         "type": "linear"
        },
        "yaxis": {
         "autorange": true,
         "range": [
          0.1975084603014239,
          0.2303495727163037
         ],
         "title": {
          "text": ""
         },
         "type": "linear"
        }
       }
      },
      "image/png": "[encoded data removed]",
      "text/html": [
       "<div>                            <div id=\"e72c0495-b892-4121-a75e-11f4b4c11832\" class=\"plotly-graph-div\" style=\"height:525px; width:100%;\"></div>            <script type=\"text/javascript\">                require([\"plotly\"], function(Plotly) {                    window.PLOTLYENV=window.PLOTLYENV || {};                                    if (document.getElementById(\"e72c0495-b892-4121-a75e-11f4b4c11832\")) {                    Plotly.newPlot(                        \"e72c0495-b892-4121-a75e-11f4b4c11832\",                        [{\"mode\":\"lines+markers\",\"name\":\"RPS\",\"type\":\"scatter\",\"x\":[1,2,3,4,5,6,7,8,9,10],\"y\":[0.2273151590986411,0.23047187807137393,0.22693601068439906,0.22037975756758876,0.2163891210210796,0.2166676656316514,0.21399806363201654,0.21742581410177156,0.2071895813427296,0.20471366247777278]},{\"mode\":\"lines+markers\",\"name\":\"TrueRPS\",\"type\":\"scatter\",\"x\":[1,2,3,4,5,6,7,8,9,10],\"y\":[0.2278999432512842,0.22807771744897987,0.21849212763253276,0.2150669823574839,0.21114088426542116,0.2140191620351727,0.2077587844260699,0.21120894621286512,0.20329220975367115,0.19282532572442168]},{\"mode\":\"lines+markers\",\"name\":\"ForecastError\",\"type\":\"scatter\",\"x\":[1,2,3,4,5,6,7,8,9,10],\"y\":[0.0038438986066395594,0.007374692283772179,0.007995808815911852,0.003821918883405676,0.004155449098471395,0.00572216971229983,0.007800408974963782,0.009085756021795354,0.009616363205777731,0.006535752038403457]},{\"mode\":\"lines+markers\",\"name\":\"ExpectedRPS\",\"type\":\"scatter\",\"x\":[1,2,3,4,5,6,7,8,9,10],\"y\":[0.22743666916476063,0.22802332725358307,0.225508509864969,0.2214514274774519,0.2193147253954254,0.21962310981582106,0.21902558485197984,0.21970624241477194,0.21338549695988643,0.206370457802548]},{\"mode\":\"lines+markers\",\"name\":\"Forecastability\",\"type\":\"scatter\",\"x\":[1,2,3,4,5,6,7,8,9,10],\"y\":[0.2235927705581212,0.22064863496981088,0.21751270104905734,0.21762950859404612,0.21515927629695397,0.21390094010352095,0.21122517587701609,0.21062048639297679,0.2037691337541087,0.19983470576414455]}],                        {\"font\":{\"color\":\"black\",\"family\":\"Times New Roman\",\"size\":15},\"legend\":{\"bordercolor\":\"Black\",\"borderwidth\":2,\"font\":{\"color\":\"Black\",\"family\":\"Times New Roman\",\"size\":15},\"orientation\":\"h\",\"x\":1,\"xanchor\":\"right\",\"y\":1,\"yanchor\":\"bottom\"},\"plot_bgcolor\":\"white\",\"showlegend\":true,\"template\":{\"data\":{\"bar\":[{\"error_x\":{\"color\":\"#2a3f5f\"},\"error_y\":{\"color\":\"#2a3f5f\"},\"marker\":{\"line\":{\"color\":\"white\",\"width\":0.5},\"pattern\":{\"fillmode\":\"overlay\",\"size\":10,\"solidity\":0.2}},\"type\":\"bar\"}],\"barpolar\":[{\"marker\":{\"line\":{\"color\":\"white\",\"width\":0.5},\"pattern\":{\"fillmode\":\"overlay\",\"size\":10,\"solidity\":0.2}},\"type\":\"barpolar\"}],\"carpet\":[{\"aaxis\":{\"endlinecolor\":\"#2a3f5f\",\"gridcolor\":\"#C8D4E3\",\"linecolor\":\"#C8D4E3\",\"minorgridcolor\":\"#C8D4E3\",\"startlinecolor\":\"#2a3f5f\"},\"baxis\":{\"endlinecolor\":\"#2a3f5f\",\"gridcolor\":\"#C8D4E3\",\"linecolor\":\"#C8D4E3\",\"minorgridcolor\":\"#C8D4E3\",\"startlinecolor\":\"#2a3f5f\"},\"type\":\"carpet\"}],\"choropleth\":[{\"colorbar\":{\"outlinewidth\":0,\"ticks\":\"\"},\"type\":\"choropleth\"}],\"contour\":[{\"colorbar\":{\"outlinewidth\":0,\"ticks\":\"\"},\"colorscale\":[[0.0,\"#0d0887\"],[0.1111111111111111,\"#46039f\"],[0.2222222222222222,\"#7201a8\"],[0.3333333333333333,\"#9c179e\"],[0.4444444444444444,\"#bd3786\"],[0.5555555555555556,\"#d8576b\"],[0.6666666666666666,\"#ed7953\"],[0.7777777777777778,\"#fb9f3a\"],[0.8888888888888888,\"#fdca26\"],[1.0,\"#f0f921\"]],\"type\":\"contour\"}],\"contourcarpet\":[{\"colorbar\":{\"outlinewidth\":0,\"ticks\":\"\"},\"type\":\"contourcarpet\"}],\"heatmap\":[{\"colorbar\":{\"outlinewidth\":0,\"ticks\":\"\"},\"colorscale\":[[0.0,\"#0d0887\"],[0.1111111111111111,\"#46039f\"],[0.2222222222222222,\"#7201a8\"],[0.3333333333333333,\"#9c179e\"],[0.4444444444444444,\"#bd3786\"],[0.5555555555555556,\"#d8576b\"],[0.6666666666666666,\"#ed7953\"],[0.7777777777777778,\"#fb9f3a\"],[0.8888888888888888,\"#fdca26\"],[1.0,\"#f0f921\"]],\"type\":\"heatmap\"}],\"heatmapgl\":[{\"colorbar\":{\"outlinewidth\":0,\"ticks\":\"\"},\"colorscale\":[[0.0,\"#0d0887\"],[0.1111111111111111,\"#46039f\"],[0.2222222222222222,\"#7201a8\"],[0.3333333333333333,\"#9c179e\"],[0.4444444444444444,\"#bd3786\"],[0.5555555555555556,\"#d8576b\"],[0.6666666666666666,\"#ed7953\"],[0.7777777777777778,\"#fb9f3a\"],[0.8888888888888888,\"#fdca26\"],[1.0,\"#f0f921\"]],\"type\":\"heatmapgl\"}],\"histogram\":[{\"marker\":{\"pattern\":{\"fillmode\":\"overlay\",\"size\":10,\"solidity\":0.2}},\"type\":\"histogram\"}],\"histogram2d\":[{\"colorbar\":{\"outlinewidth\":0,\"ticks\":\"\"},\"colorscale\":[[0.0,\"#0d0887\"],[0.1111111111111111,\"#46039f\"],[0.2222222222222222,\"#7201a8\"],[0.3333333333333333,\"#9c179e\"],[0.4444444444444444,\"#bd3786\"],[0.5555555555555556,\"#d8576b\"],[0.6666666666666666,\"#ed7953\"],[0.7777777777777778,\"#fb9f3a\"],[0.8888888888888888,\"#fdca26\"],[1.0,\"#f0f921\"]],\"type\":\"histogram2d\"}],\"histogram2dcontour\":[{\"colorbar\":{\"outlinewidth\":0,\"ticks\":\"\"},\"colorscale\":[[0.0,\"#0d0887\"],[0.1111111111111111,\"#46039f\"],[0.2222222222222222,\"#7201a8\"],[0.3333333333333333,\"#9c179e\"],[0.4444444444444444,\"#bd3786\"],[0.5555555555555556,\"#d8576b\"],[0.6666666666666666,\"#ed7953\"],[0.7777777777777778,\"#fb9f3a\"],[0.8888888888888888,\"#fdca26\"],[1.0,\"#f0f921\"]],\"type\":\"histogram2dcontour\"}],\"mesh3d\":[{\"colorbar\":{\"outlinewidth\":0,\"ticks\":\"\"},\"type\":\"mesh3d\"}],\"parcoords\":[{\"line\":{\"colorbar\":{\"outlinewidth\":0,\"ticks\":\"\"}},\"type\":\"parcoords\"}],\"pie\":[{\"automargin\":true,\"type\":\"pie\"}],\"scatter\":[{\"marker\":{\"colorbar\":{\"outlinewidth\":0,\"ticks\":\"\"}},\"type\":\"scatter\"}],\"scatter3d\":[{\"line\":{\"colorbar\":{\"outlinewidth\":0,\"ticks\":\"\"}},\"marker\":{\"colorbar\":{\"outlinewidth\":0,\"ticks\":\"\"}},\"type\":\"scatter3d\"}],\"scattercarpet\":[{\"marker\":{\"colorbar\":{\"outlinewidth\":0,\"ticks\":\"\"}},\"type\":\"scattercarpet\"}],\"scattergeo\":[{\"marker\":{\"colorbar\":{\"outlinewidth\":0,\"ticks\":\"\"}},\"type\":\"scattergeo\"}],\"scattergl\":[{\"marker\":{\"colorbar\":{\"outlinewidth\":0,\"ticks\":\"\"}},\"type\":\"scattergl\"}],\"scattermapbox\":[{\"marker\":{\"colorbar\":{\"outlinewidth\":0,\"ticks\":\"\"}},\"type\":\"scattermapbox\"}],\"scatterpolar\":[{\"marker\":{\"colorbar\":{\"outlinewidth\":0,\"ticks\":\"\"}},\"type\":\"scatterpolar\"}],\"scatterpolargl\":[{\"marker\":{\"colorbar\":{\"outlinewidth\":0,\"ticks\":\"\"}},\"type\":\"scatterpolargl\"}],\"scatterternary\":[{\"marker\":{\"colorbar\":{\"outlinewidth\":0,\"ticks\":\"\"}},\"type\":\"scatterternary\"}],\"surface\":[{\"colorbar\":{\"outlinewidth\":0,\"ticks\":\"\"},\"colorscale\":[[0.0,\"#0d0887\"],[0.1111111111111111,\"#46039f\"],[0.2222222222222222,\"#7201a8\"],[0.3333333333333333,\"#9c179e\"],[0.4444444444444444,\"#bd3786\"],[0.5555555555555556,\"#d8576b\"],[0.6666666666666666,\"#ed7953\"],[0.7777777777777778,\"#fb9f3a\"],[0.8888888888888888,\"#fdca26\"],[1.0,\"#f0f921\"]],\"type\":\"surface\"}],\"table\":[{\"cells\":{\"fill\":{\"color\":\"#EBF0F8\"},\"line\":{\"color\":\"white\"}},\"header\":{\"fill\":{\"color\":\"#C8D4E3\"},\"line\":{\"color\":\"white\"}},\"type\":\"table\"}]},\"layout\":{\"annotationdefaults\":{\"arrowcolor\":\"#2a3f5f\",\"arrowhead\":0,\"arrowwidth\":1},\"autotypenumbers\":\"strict\",\"coloraxis\":{\"colorbar\":{\"outlinewidth\":0,\"ticks\":\"\"}},\"colorscale\":{\"diverging\":[[0,\"#8e0152\"],[0.1,\"#c51b7d\"],[0.2,\"#de77ae\"],[0.3,\"#f1b6da\"],[0.4,\"#fde0ef\"],[0.5,\"#f7f7f7\"],[0.6,\"#e6f5d0\"],[0.7,\"#b8e186\"],[0.8,\"#7fbc41\"],[0.9,\"#4d9221\"],[1,\"#276419\"]],\"sequential\":[[0.0,\"#0d0887\"],[0.1111111111111111,\"#46039f\"],[0.2222222222222222,\"#7201a8\"],[0.3333333333333333,\"#9c179e\"],[0.4444444444444444,\"#bd3786\"],[0.5555555555555556,\"#d8576b\"],[0.6666666666666666,\"#ed7953\"],[0.7777777777777778,\"#fb9f3a\"],[0.8888888888888888,\"#fdca26\"],[1.0,\"#f0f921\"]],\"sequentialminus\":[[0.0,\"#0d0887\"],[0.1111111111111111,\"#46039f\"],[0.2222222222222222,\"#7201a8\"],[0.3333333333333333,\"#9c179e\"],[0.4444444444444444,\"#bd3786\"],[0.5555555555555556,\"#d8576b\"],[0.6666666666666666,\"#ed7953\"],[0.7777777777777778,\"#fb9f3a\"],[0.8888888888888888,\"#fdca26\"],[1.0,\"#f0f921\"]]},\"colorway\":[\"#636efa\",\"#EF553B\",\"#00cc96\",\"#ab63fa\",\"#FFA15A\",\"#19d3f3\",\"#FF6692\",\"#B6E880\",\"#FF97FF\",\"#FECB52\"],\"font\":{\"color\":\"#2a3f5f\"},\"geo\":{\"bgcolor\":\"white\",\"lakecolor\":\"white\",\"landcolor\":\"white\",\"showlakes\":true,\"showland\":true,\"subunitcolor\":\"#C8D4E3\"},\"hoverlabel\":{\"align\":\"left\"},\"hovermode\":\"closest\",\"mapbox\":{\"style\":\"light\"},\"paper_bgcolor\":\"white\",\"plot_bgcolor\":\"white\",\"polar\":{\"angularaxis\":{\"gridcolor\":\"#EBF0F8\",\"linecolor\":\"#EBF0F8\",\"ticks\":\"\"},\"bgcolor\":\"white\",\"radialaxis\":{\"gridcolor\":\"#EBF0F8\",\"linecolor\":\"#EBF0F8\",\"ticks\":\"\"}},\"scene\":{\"xaxis\":{\"backgroundcolor\":\"white\",\"gridcolor\":\"#DFE8F3\",\"gridwidth\":2,\"linecolor\":\"#EBF0F8\",\"showbackground\":true,\"ticks\":\"\",\"zerolinecolor\":\"#EBF0F8\"},\"yaxis\":{\"backgroundcolor\":\"white\",\"gridcolor\":\"#DFE8F3\",\"gridwidth\":2,\"linecolor\":\"#EBF0F8\",\"showbackground\":true,\"ticks\":\"\",\"zerolinecolor\":\"#EBF0F8\"},\"zaxis\":{\"backgroundcolor\":\"white\",\"gridcolor\":\"#DFE8F3\",\"gridwidth\":2,\"linecolor\":\"#EBF0F8\",\"showbackground\":true,\"ticks\":\"\",\"zerolinecolor\":\"#EBF0F8\"}},\"shapedefaults\":{\"line\":{\"color\":\"#2a3f5f\"}},\"ternary\":{\"aaxis\":{\"gridcolor\":\"#DFE8F3\",\"linecolor\":\"#A2B1C6\",\"ticks\":\"\"},\"baxis\":{\"gridcolor\":\"#DFE8F3\",\"linecolor\":\"#A2B1C6\",\"ticks\":\"\"},\"bgcolor\":\"white\",\"caxis\":{\"gridcolor\":\"#DFE8F3\",\"linecolor\":\"#A2B1C6\",\"ticks\":\"\"}},\"title\":{\"x\":0.05},\"xaxis\":{\"automargin\":true,\"gridcolor\":\"#EBF0F8\",\"linecolor\":\"#EBF0F8\",\"ticks\":\"\",\"title\":{\"standoff\":15},\"zerolinecolor\":\"#EBF0F8\",\"zerolinewidth\":2},\"yaxis\":{\"automargin\":true,\"gridcolor\":\"#EBF0F8\",\"linecolor\":\"#EBF0F8\",\"ticks\":\"\",\"title\":{\"standoff\":15},\"zerolinecolor\":\"#EBF0F8\",\"zerolinewidth\":2}}},\"xaxis\":{\"dtick\":20,\"title\":{\"text\":\"\"}},\"yaxis\":{\"title\":{\"text\":\"\"}}},                        {\"toImageButtonOptions\": {\"format\": \"svg\", \"filename\": \"figure\", \"height\": 400, \"width\": 1000, \"scale\": 1}, \"responsive\": true}                    ).then(function(){\n",
       "                            \n",
       "var gd = document.getElementById('e72c0495-b892-4121-a75e-11f4b4c11832');\n",
       "var x = new MutationObserver(function (mutations, observer) {{\n",
       "        var display = window.getComputedStyle(gd).display;\n",
       "        if (!display || display === 'none') {{\n",
       "            console.log([gd, 'removed!']);\n",
       "            Plotly.purge(gd);\n",
       "            observer.disconnect();\n",
       "        }}\n",
       "}});\n",
       "\n",
       "// Listen for the removal of the full notebook cells\n",
       "var notebookContainer = gd.closest('#notebook-container');\n",
       "if (notebookContainer) {{\n",
       "    x.observe(notebookContainer, {childList: true});\n",
       "}}\n",
       "\n",
       "// Listen for the clearing of the current output cell\n",
       "var outputEl = gd.closest('.output');\n",
       "if (outputEl) {{\n",
       "    x.observe(outputEl, {childList: true});\n",
       "}}\n",
       "\n",
       "                        })                };                });            </script>        </div>"
      ]
     },
     "metadata": {},
     "output_type": "display_data"
    }
   ],
   "source": [
    "fig = go.Figure()\n",
    "for rps_based_metric in [\"RPS\", \"TrueRPS\", \"ForecastError\", \"ExpectedRPS\", \"Forecastability\"]:\n",
    "    fig.add_trace(\n",
    "        go.Scatter(\n",
    "            y=season_df[(rps_based_metric, \"mean\")],\n",
    "            x=season_df[\"Season\"] + 1,\n",
    "            mode=\"lines+markers\",\n",
    "            name=rps_based_metric\n",
    "        )\n",
    "    )\n",
    "return_fig_settings(fig, \"\", \"\")\n",
    "fig.update_layout(showlegend=True)\n",
    "fig.show(config=config)"
   ]
  },
  {
   "cell_type": "code",
   "execution_count": null,
   "id": "691a17cb",
   "metadata": {},
   "outputs": [],
   "source": []
  }
 ],
 "metadata": {
  "kernelspec": {
   "display_name": "Python 3",
   "language": "python",
   "name": "python3"
  },
  "language_info": {
   "codemirror_mode": {
    "name": "ipython",
    "version": 3
   },
   "file_extension": ".py",
   "mimetype": "text/x-python",
   "name": "python",
   "nbconvert_exporter": "python",
   "pygments_lexer": "ipython3",
   "version": "3.6.10"
  }
 },
 "nbformat": 4,
 "nbformat_minor": 5
}
