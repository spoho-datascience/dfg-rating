{
 "cells": [
  {
   "cell_type": "markdown",
   "id": "bc2d6591",
   "metadata": {},
   "source": [
    "# Impact of the network density"
   ]
  },
  {
   "cell_type": "markdown",
   "id": "41c6d451",
   "metadata": {
    "tags": []
   },
   "source": [
    "Network density describes the protion of of the potential connections in a network that are actual connections. Network density is defined as follow:"
   ]
  },
  {
   "cell_type": "markdown",
   "id": "93d43c92",
   "metadata": {
    "tags": []
   },
   "source": [
    "$Density = \\frac{Actual Connections}{Potential Connections} = \\frac{ActualConnections}{\\frac{n(n-1)}{2}}$"
   ]
  },
  {
   "cell_type": "markdown",
   "id": "47eccac7",
   "metadata": {},
   "source": [
    "## Import statements"
   ]
  },
  {
   "cell_type": "code",
   "execution_count": null,
   "id": "d15c007a",
   "metadata": {
    "jupyter": {
     "source_hidden": true
    },
    "tags": []
   },
   "outputs": [],
   "source": [
    "import time\n",
    "import networkx as nx\n",
    "\n",
    "from typing import List\n",
    "import dfg_rating.viz.jupyter_widgets as DFGWidgets\n",
    "from dfg_rating.model.network.base_network import BaseNetwork\n",
    "from dfg_rating.model.network.simple_network import RoundRobinNetwork\n",
    "from dfg_rating.model.network.random_network import ConfigurationModelNetwork\n",
    "from dfg_rating.model.rating.controlled_trend_rating import ControlledTrendRating, ControlledRandomFunction\n",
    "from dfg_rating.model.rating.elo_rating import ELORating\n",
    "\n",
    "\n",
    "from dfg_rating.model.evaluators.accuracy import RankProbabilityScore, Likelihood\n",
    "from dfg_rating.model.forecast.true_forecast import LogFunctionForecast\n",
    "\n",
    "from dfg_rating.viz.tables import get_evaluation"
   ]
  },
  {
   "cell_type": "markdown",
   "id": "ac55fbb6",
   "metadata": {
    "tags": []
   },
   "source": [
    "## Data Generation"
   ]
  },
  {
   "cell_type": "markdown",
   "id": "81bb225b",
   "metadata": {
    "tags": []
   },
   "source": [
    "To generate a full range of networks with different density we increase the number of vertex in the network while keeping the in-out degree of the nodes constant."
   ]
  },
  {
   "cell_type": "code",
   "execution_count": null,
   "id": "a7ec7503",
   "metadata": {
    "jupyter": {
     "source_hidden": true
    },
    "tags": []
   },
   "outputs": [],
   "source": [
    "in_degree = 100\n",
    "out_degree = 100"
   ]
  },
  {
   "cell_type": "code",
   "execution_count": null,
   "id": "88645622",
   "metadata": {
    "jupyter": {
     "source_hidden": true
    },
    "tags": []
   },
   "outputs": [],
   "source": [
    "initial_number_of_nodes = 50\n",
    "maximum_number_of_nodes = 400\n",
    "nodes_step = 10"
   ]
  },
  {
   "cell_type": "markdown",
   "id": "81532ed3",
   "metadata": {
    "tags": []
   },
   "source": [
    "### Example network"
   ]
  },
  {
   "cell_type": "code",
   "execution_count": null,
   "id": "2cbf1e6a",
   "metadata": {
    "jupyter": {
     "source_hidden": true
    },
    "tags": []
   },
   "outputs": [],
   "source": [
    "example_network = ConfigurationModelNetwork(\n",
    "    teams=500,\n",
    "    days_between_rounds=3,\n",
    "    true_forecast=LogFunctionForecast(\n",
    "        outcomes=['home', 'draw', 'away'],\n",
    "        coefficients = [-0.9,0.3],\n",
    "        beta_parameter=0.006\n",
    "    ),\n",
    "    true_rating=ControlledTrendRating(\n",
    "        starting_point=ControlledRandomFunction(distribution='normal', loc=1000, scale=100),\n",
    "        delta=ControlledRandomFunction(distribution='normal', loc=0, scale=3),\n",
    "        trend=ControlledRandomFunction(distribution='normal', loc=0, scale=20/365),\n",
    "        season_delta=ControlledRandomFunction(distribution='normal', loc=0, scale=10)\n",
    "    ),\n",
    "    expected_home_matches=100,\n",
    "    expected_away_matches=100,\n",
    "    variance_home_matches=0,\n",
    "    variance_away_matches=0\n",
    ")"
   ]
  },
  {
   "cell_type": "code",
   "execution_count": null,
   "id": "b8b2a379",
   "metadata": {
    "jupyter": {
     "source_hidden": true
    },
    "tags": []
   },
   "outputs": [],
   "source": [
    "example_network.density(True)"
   ]
  },
  {
   "cell_type": "code",
   "execution_count": null,
   "id": "d8c8fe47",
   "metadata": {
    "jupyter": {
     "source_hidden": true
    },
    "tags": []
   },
   "outputs": [],
   "source": [
    "app = DFGWidgets.NetworkExplorer(network=rr)"
   ]
  },
  {
   "cell_type": "code",
   "execution_count": null,
   "id": "8f9c7f4e",
   "metadata": {
    "jupyter": {
     "source_hidden": true
    },
    "tags": []
   },
   "outputs": [],
   "source": [
    "app.run('inline', port=8001)"
   ]
  },
  {
   "cell_type": "markdown",
   "id": "46692e58",
   "metadata": {},
   "source": [
    "### Range of networks"
   ]
  },
  {
   "cell_type": "code",
   "execution_count": null,
   "id": "1cca4c93",
   "metadata": {
    "jupyter": {
     "source_hidden": true
    },
    "tags": []
   },
   "outputs": [],
   "source": [
    "networks_list: List[BaseNetwork] = []"
   ]
  },
  {
   "cell_type": "code",
   "execution_count": null,
   "id": "0ea0d979",
   "metadata": {
    "jupyter": {
     "source_hidden": true
    },
    "tags": []
   },
   "outputs": [],
   "source": [
    "nodes_range = range(initial_number_of_nodes, maximum_number_of_nodes + 1, nodes_step)\n",
    "for number_of_nodes in nodes_range:\n",
    "    start_time = time.time()\n",
    "    networks_list.append(\n",
    "        ConfigurationModelNetwork(\n",
    "            teams=number_of_nodes,\n",
    "            days_between_rounds=3,\n",
    "            true_rating=ControlledTrendRating(\n",
    "                starting_point=ControlledRandomFunction(distribution='normal', loc=1000, scale=100),\n",
    "                delta=ControlledRandomFunction(distribution='normal', loc=0, scale=3),\n",
    "                trend=ControlledRandomFunction(distribution='normal', loc=0, scale=20/365),\n",
    "                season_delta=ControlledRandomFunction(distribution='normal', loc=0, scale=10)\n",
    "            ),\n",
    "            expected_home_matches=in_degree,\n",
    "            expected_away_matches=out_degree,\n",
    "            variance_home_matches=0,\n",
    "            variance_away_matches=0\n",
    "        )\n",
    "    )\n",
    "    print(f\"Added network with {number_of_nodes} number of nodes in {time.time() -  start_time} seconds.\")"
   ]
  },
  {
   "cell_type": "code",
   "execution_count": null,
   "id": "bf80b0b6",
   "metadata": {
    "tags": []
   },
   "outputs": [],
   "source": [
    "[n.density(True) for n in networks_list]"
   ]
  },
  {
   "cell_type": "markdown",
   "id": "5290bbf9",
   "metadata": {},
   "source": [
    "### Evaluation metrics"
   ]
  },
  {
   "cell_type": "code",
   "execution_count": null,
   "id": "77288fd3",
   "metadata": {
    "jupyter": {
     "source_hidden": true
    },
    "tags": []
   },
   "outputs": [],
   "source": [
    "minimum_k = 15\n",
    "maximum_k = 55\n",
    "k_options = [v for v in range(minimum_k, maximum_k + 1, 4)]"
   ]
  },
  {
   "cell_type": "code",
   "execution_count": null,
   "id": "4463307d",
   "metadata": {
    "jupyter": {
     "source_hidden": true
    },
    "tags": []
   },
   "outputs": [],
   "source": [
    "for k_parameter in k_options:\n",
    "    start_time = time.time()\n",
    "    rating_name = f\"elo_rating_{k_parameter}\"\n",
    "    forecast_name = f\"elo_forecast_{k_parameter}\"\n",
    "    elo = ELORating(trained=True, param_k=k_parameter)\n",
    "    rps = RankProbabilityScore(\n",
    "        outcomes=['home', 'draw', 'away'],\n",
    "        forecast_name=forecast_name\n",
    "    )\n",
    "    l = Likelihood(\n",
    "        outcomes=['home', 'draw', 'away'],\n",
    "        forecast_name=forecast_name  \n",
    "    )\n",
    "    for i, n in enumerate(networks_list):\n",
    "        print(i, end='\\r')\n",
    "        n.add_rating(\n",
    "        rating=el\n",
    "        rating_name=rating_name\n",
    "        )\n",
    "        n.add_forecast(\n",
    "            LogFunctionForecast(\n",
    "                outcomes=['home', 'draw', 'away'],\n",
    "                coefficients=[-0.9, 0.3],\n",
    "                beta_parameter=0.006\n",
    "            ),\n",
    "            forecast_name,\n",
    "            rating_name\n",
    "        )\n",
    "        n.add_evaluation(rps, f\"{rating_name}_RPS\")\n",
    "        n.add_evaluation(l, f\"{rating_name}_likelihood\")\n",
    "    \n",
    "    print(f\"Added ELO Rating with k = {k_parameter} in {time.time() - start_time} seconds.\")"
   ]
  },
  {
   "cell_type": "markdown",
   "id": "031d27a1",
   "metadata": {},
   "source": [
    "## Results"
   ]
  },
  {
   "cell_type": "code",
   "execution_count": null,
   "id": "8ebcfdff",
   "metadata": {
    "jupyter": {
     "source_hidden": true
    },
    "tags": []
   },
   "outputs": [],
   "source": [
    "experiment_results = []"
   ]
  },
  {
   "cell_type": "code",
   "execution_count": null,
   "id": "f616fd18",
   "metadata": {
    "jupyter": {
     "source_hidden": true
    },
    "tags": []
   },
   "outputs": [],
   "source": [
    "for k_parameter in k_options:\n",
    "    start_time = time.time()\n",
    "    for i, n in enumerate(networks_list):\n",
    "        experiment_results += get_evaluation(n, k_parameter, evaluators=['RPS'], **{\"Number_of_nodes\": nodes_range[i], \"Density\": n.density(True)})"
   ]
  },
  {
   "cell_type": "markdown",
   "id": "e71d0932",
   "metadata": {},
   "source": [
    "# Import for Results"
   ]
  },
  {
   "cell_type": "code",
   "execution_count": null,
   "id": "a80b151a",
   "metadata": {
    "tags": []
   },
   "outputs": [],
   "source": [
    "import pandas as pd\n",
    "import numpy as np\n",
    "import datetime\n",
    "import os\n",
    "import plotly.express as px\n",
    "import plotly.graph_objects as go\n",
    "import plotly.io as pio\n",
    "from scipy.stats import pearsonr\n",
    "import statsmodels.api as sm\n",
    "from tqdm import tqdm\n",
    "\n",
    "pio.templates.default = \"plotly_white\"\n",
    "\n",
    "pd.options.display.float_format = '{:.4f}'.format\n",
    "\n",
    "pd.set_option(\"display.max_columns\", None)"
   ]
  },
  {
   "cell_type": "markdown",
   "id": "40347147",
   "metadata": {},
   "source": [
    "### New results"
   ]
  },
  {
   "cell_type": "code",
   "execution_count": null,
   "id": "1c0b2236",
   "metadata": {
    "jupyter": {
     "source_hidden": true
    },
    "tags": []
   },
   "outputs": [],
   "source": [
    "experiment_df = pd.DataFrame(experiment_results)"
   ]
  },
  {
   "cell_type": "code",
   "execution_count": null,
   "id": "ae86a1bf",
   "metadata": {
    "jupyter": {
     "source_hidden": true
    },
    "tags": []
   },
   "outputs": [],
   "source": [
    "today = datetime.datetime.today().strftime(\"%A, %d. %B %Y %I:%M%p\")\n",
    "experiment_df.to_csv(os.path.join(\"Density_results\", f\"{today}.csv\"))"
   ]
  },
  {
   "cell_type": "markdown",
   "id": "4520bb2e",
   "metadata": {},
   "source": [
    "### Read past results"
   ]
  },
  {
   "cell_type": "code",
   "execution_count": null,
   "id": "a6276d53",
   "metadata": {},
   "outputs": [],
   "source": [
    "experiment_df = pd.read_csv(os.path.join(\"..\", \"..\", \"scripts\",\"Final_results\", \"final_density.csv\"))"
   ]
  },
  {
   "cell_type": "code",
   "execution_count": null,
   "id": "68641d38",
   "metadata": {},
   "outputs": [],
   "source": [
    "experiment_df[(experiment_df[\"Number_of_nodes\"] == 51) & (experiment_df[\"ELO_Rating_K\"] == 45)][[\"HomeTeam\", \"AwayTeam\", \"Round\"]].to_csv(\"test.csv\")"
   ]
  },
  {
   "cell_type": "code",
   "execution_count": null,
   "id": "dce349dd",
   "metadata": {},
   "outputs": [],
   "source": [
    "len(experiment_df.Density.unique())"
   ]
  },
  {
   "cell_type": "code",
   "execution_count": null,
   "id": "c429a861",
   "metadata": {},
   "outputs": [],
   "source": [
    "explore = experiment_df[[\"ELO_Rating_K\", \"Number_of_nodes\", \"Density\"]].groupby([\"Number_of_nodes\", \"ELO_Rating_K\"]).agg({\"Density\": [\"first\", \"count\"]}).reset_index()\n",
    "#explore.loc[1.0000, 65]\n",
    "explore[explore[\"ELO_Rating_K\"]==15].head()"
   ]
  },
  {
   "cell_type": "markdown",
   "id": "b0eecd43",
   "metadata": {},
   "source": [
    "Bootstrap function"
   ]
  },
  {
   "cell_type": "code",
   "execution_count": null,
   "id": "4d13743b",
   "metadata": {},
   "outputs": [],
   "source": [
    "def bootstrap(data, n_iter=9999):\n",
    "    n = len(data)\n",
    "    dist_bootstrapped = np.full(shape=n_iter, fill_value=np.nan)\n",
    "    for i in tqdm(range(n_iter)):\n",
    "        resample = np.random.choice(data, size=n, replace=True)\n",
    "        dist_bootstrapped[i] = np.mean(resample)\n",
    "    quantiles = np.quantile(a=dist_bootstrapped, q=[0.025, 0.975])\n",
    "    return quantiles[0], quantiles[1]"
   ]
  },
  {
   "cell_type": "markdown",
   "id": "1aca5555",
   "metadata": {},
   "source": [
    "### Fig settings"
   ]
  },
  {
   "cell_type": "code",
   "execution_count": null,
   "id": "be38ee10",
   "metadata": {},
   "outputs": [],
   "source": [
    "config = {\n",
    "    'toImageButtonOptions': {\n",
    "        'format': 'svg', # one of png, svg, jpeg, webp\n",
    "        'filename': 'figure',\n",
    "        \"height\": 400,\n",
    "        \"width\": 1000,\n",
    "        'scale': 1 # Multiply title/legend/axis/canvas sizes by this factor\n",
    "    }\n",
    "}\n",
    "def return_fig_settings(fig_instance, x_title, y_title):\n",
    "    fig_instance.update_layout(\n",
    "        xaxis_title=x_title,\n",
    "        yaxis_title=y_title,\n",
    "        legend=dict(\n",
    "            font=dict(\n",
    "                family='Times New Roman',\n",
    "                size=14,\n",
    "                color=\"Black\"\n",
    "            ),\n",
    "            orientation='h',\n",
    "            bordercolor=\"Black\",\n",
    "            borderwidth=1,\n",
    "            yanchor=\"bottom\",\n",
    "            xanchor='right',\n",
    "            x=1,\n",
    "            y=1\n",
    "        )\n",
    "    )\n",
    "    font_dict = dict(\n",
    "        family='Times New Roman',\n",
    "        size=14,\n",
    "        color='black'\n",
    "    )\n",
    "    fig_instance.update_layout(\n",
    "        font=font_dict,  # font formatting\n",
    "        plot_bgcolor='white',  # background color\n",
    "    )"
   ]
  },
  {
   "cell_type": "markdown",
   "id": "3f241f5c",
   "metadata": {},
   "source": [
    "## Analysis"
   ]
  },
  {
   "cell_type": "markdown",
   "id": "7a0660a8",
   "metadata": {},
   "source": [
    "Raw data from the simulation is at match level. For every match we have each elo_rating K, forecast, RPS and differences"
   ]
  },
  {
   "cell_type": "code",
   "execution_count": null,
   "id": "d631a377",
   "metadata": {},
   "outputs": [],
   "source": [
    "subexplore = explore[explore[\"ELO_Rating_K\"] == 15]\n",
    "print(subexplore.columns)\n",
    "subexplore[\"mean\"] = subexplore[('Density', 'count')].mean()\n",
    "subexplore[\"active\"] = subexplore.Number_of_nodes * 49\n",
    "fig = go.Figure()\n",
    "# plot structure\n",
    "fig.add_trace(go.Bar(\n",
    "    x=subexplore[('Density', 'first')],\n",
    "    y=subexplore[('Density', 'count')],\n",
    "    marker_color='gray',\n",
    "    showlegend=False\n",
    "))\n",
    "# plot\n",
    "return_fig_settings(fig, 'Network density', 'Number of edges')\n",
    "fig.update_layout(showlegend=True)\n",
    "fig.show(config=config)"
   ]
  },
  {
   "cell_type": "markdown",
   "id": "e5b6a6ed",
   "metadata": {},
   "source": [
    "Some initial densitys are overlapping due to an odd number of nodes and getting a fix number of rounds (where some of them are not participating)"
   ]
  },
  {
   "cell_type": "code",
   "execution_count": null,
   "id": "23795219",
   "metadata": {},
   "outputs": [],
   "source": [
    "experiment_df[(experiment_df.Number_of_nodes == 2451) & (experiment_df.ELO_Rating_K == 15)]"
   ]
  },
  {
   "cell_type": "markdown",
   "id": "6ee65154",
   "metadata": {},
   "source": [
    "### Utils"
   ]
  },
  {
   "cell_type": "code",
   "execution_count": null,
   "id": "67433ead",
   "metadata": {
    "jupyter": {
     "source_hidden": true
    },
    "tags": []
   },
   "outputs": [],
   "source": [
    "[c for c in experiment_df.columns if c.startswith('Awayelo') ]"
   ]
  },
  {
   "cell_type": "code",
   "execution_count": null,
   "id": "92c12dd3",
   "metadata": {
    "jupyter": {
     "source_hidden": true
    },
    "tags": []
   },
   "outputs": [],
   "source": [
    "experiment_df['Home_ELO_rating'] = experiment_df[['Homeelo_rating_15',\n",
    " 'Homeelo_rating_17',\n",
    " 'Homeelo_rating_19',\n",
    " 'Homeelo_rating_21',\n",
    " 'Homeelo_rating_23',\n",
    " 'Homeelo_rating_25',\n",
    " 'Homeelo_rating_27',\n",
    " 'Homeelo_rating_29',\n",
    " 'Homeelo_rating_31',\n",
    " 'Homeelo_rating_33',\n",
    " 'Homeelo_rating_35',\n",
    " 'Homeelo_rating_37',\n",
    " 'Homeelo_rating_39',\n",
    " 'Homeelo_rating_41',\n",
    " 'Homeelo_rating_43',\n",
    " 'Homeelo_rating_45',\n",
    " 'Homeelo_rating_47',\n",
    " 'Homeelo_rating_49',\n",
    " 'Homeelo_rating_51',\n",
    " 'Homeelo_rating_53',\n",
    " 'Homeelo_rating_55',\n",
    " 'Homeelo_rating_57',\n",
    " 'Homeelo_rating_59',\n",
    " 'Homeelo_rating_61',\n",
    " 'Homeelo_rating_63',\n",
    " 'Homeelo_rating_65']].fillna(0).sum(axis=1)"
   ]
  },
  {
   "cell_type": "code",
   "execution_count": null,
   "id": "76641000",
   "metadata": {
    "jupyter": {
     "source_hidden": true
    },
    "tags": []
   },
   "outputs": [],
   "source": [
    "test_series.loc[1111]"
   ]
  },
  {
   "cell_type": "code",
   "execution_count": null,
   "id": "3b0a209a",
   "metadata": {
    "jupyter": {
     "source_hidden": true
    },
    "tags": []
   },
   "outputs": [],
   "source": [
    "experiment_df.drop(['Homeelo_rating_15',\n",
    "       'Awayelo_rating_15', 'Homeelo_rating_17', 'Awayelo_rating_17',\n",
    "       'Homeelo_rating_19', 'Awayelo_rating_19', 'Homeelo_rating_21',\n",
    "       'Awayelo_rating_21', 'Homeelo_rating_23', 'Awayelo_rating_23',\n",
    "       'Homeelo_rating_25', 'Awayelo_rating_25', 'Homeelo_rating_27',\n",
    "       'Awayelo_rating_27', 'Homeelo_rating_29', 'Awayelo_rating_29',\n",
    "       'Homeelo_rating_31', 'Awayelo_rating_31', 'Homeelo_rating_33',\n",
    "       'Awayelo_rating_33', 'Homeelo_rating_35', 'Awayelo_rating_35',\n",
    "       'Homeelo_rating_37', 'Awayelo_rating_37', 'Homeelo_rating_39',\n",
    "       'Awayelo_rating_39', 'Homeelo_rating_41', 'Awayelo_rating_41',\n",
    "       'Homeelo_rating_43', 'Awayelo_rating_43', 'Homeelo_rating_45',\n",
    "       'Awayelo_rating_45', 'Homeelo_rating_47', 'Awayelo_rating_47',\n",
    "       'Homeelo_rating_49', 'Awayelo_rating_49', 'Homeelo_rating_51',\n",
    "       'Awayelo_rating_51', 'Homeelo_rating_53', 'Awayelo_rating_53',\n",
    "       'Homeelo_rating_55', 'Awayelo_rating_55', 'Homeelo_rating_57',\n",
    "       'Awayelo_rating_57', 'Homeelo_rating_59', 'Awayelo_rating_59',\n",
    "       'Homeelo_rating_61', 'Awayelo_rating_61', 'Homeelo_rating_63',\n",
    "       'Awayelo_rating_63', 'Homeelo_rating_65', 'Awayelo_rating_65'], axis=1, inplace=True)"
   ]
  },
  {
   "cell_type": "markdown",
   "id": "9f275b67",
   "metadata": {},
   "source": [
    "#### TotalDiff and RatingError"
   ]
  },
  {
   "cell_type": "markdown",
   "id": "7cbecc90",
   "metadata": {},
   "source": [
    "We first add TotalDiff as the addition of the absolute errors in home team rating and away team rating"
   ]
  },
  {
   "cell_type": "code",
   "execution_count": null,
   "id": "775c61bd",
   "metadata": {},
   "outputs": [],
   "source": [
    "experiment_df['TrueDiff'] = experiment_df['HomeRating'] - experiment_df['AwayRating']\n",
    "experiment_df['ELODiff'] = experiment_df['Home_elo_rating'] - experiment_df['Away_elo_rating']\n",
    "experiment_df['RatingError'] = abs(experiment_df['TrueDiff'].abs() - experiment_df['ELODiff'].abs())\n",
    "experiment_df['RatingError'].describe()"
   ]
  },
  {
   "cell_type": "code",
   "execution_count": null,
   "id": "f97f5699",
   "metadata": {},
   "outputs": [],
   "source": [
    "experiment_df['HomeDiff'] = experiment_df['HomeRating'] - experiment_df['Home_elo_rating']\n",
    "experiment_df['AwayDiff'] = experiment_df['AwayRating'] - experiment_df['Away_elo_rating']\n",
    "experiment_df['TotalDiff'] = abs(experiment_df['HomeDiff'].abs() - experiment_df['AwayDiff'].abs())\n",
    "experiment_df['TotalDiff'].describe()"
   ]
  },
  {
   "cell_type": "code",
   "execution_count": null,
   "id": "35dfe12b",
   "metadata": {},
   "outputs": [],
   "source": [
    "experiment_df[\"TeamDiff\"] = (experiment_df[\"HomeDiff\"].abs() + experiment_df[\"AwayDiff\"].abs()) / 2"
   ]
  },
  {
   "cell_type": "code",
   "execution_count": null,
   "id": "a392afef",
   "metadata": {},
   "outputs": [],
   "source": [
    "experiment_df[(experiment_df.Round == 4716) & (experiment_df.Number_of_nodes == 2451) & (experiment_df.ELO_Rating_K == 15)][[\"HomeTeam\", \"AwayTeam\", \"Round\", \"TrueForecast\", \"CalculatedForecast\", \"Result\", \"RPS\", \"Home_elo_rating\", \"Away_elo_rating\"]]"
   ]
  },
  {
   "cell_type": "code",
   "execution_count": null,
   "id": "fff010f8",
   "metadata": {},
   "outputs": [],
   "source": [
    "test = experiment_df.groupby([\"Number_of_nodes\", \"Density\", \"Round\", \"Day\"]).agg({\"HomeRating\": [\"mean\", \"std\"]})"
   ]
  },
  {
   "cell_type": "code",
   "execution_count": null,
   "id": "065a3fb7",
   "metadata": {},
   "outputs": [],
   "source": [
    "test.loc[981]"
   ]
  },
  {
   "cell_type": "markdown",
   "id": "d9b045de",
   "metadata": {},
   "source": [
    "### Optimal K for density values"
   ]
  },
  {
   "cell_type": "markdown",
   "id": "f72b9053",
   "metadata": {},
   "source": [
    "#### Split of data"
   ]
  },
  {
   "cell_type": "markdown",
   "id": "18450ad1",
   "metadata": {},
   "source": [
    "The 10 first rounds are used as a rating initialisation. After that a third of the rounds is used as in_sample evaluation"
   ]
  },
  {
   "cell_type": "code",
   "execution_count": null,
   "id": "3f1edc4b",
   "metadata": {},
   "outputs": [],
   "source": [
    "init_dict = {}\n",
    "split_dict = {}\n",
    "for index, item in experiment_df.groupby(\"Density\").agg({'Round': 'max'})['Round'].items():\n",
    "    split_dict[index] = int(item * 0.5)\n",
    "    init_dict[index] = int(item * 0.2)\n",
    "experiment_df['Init_Rounds'] = experiment_df['Density'].map(init_dict)\n",
    "experiment_df['Split_Rounds'] = experiment_df['Density'].map(split_dict)\n",
    "experiment_df.head()"
   ]
  },
  {
   "cell_type": "code",
   "execution_count": null,
   "id": "0072eb79",
   "metadata": {},
   "outputs": [],
   "source": [
    "in_sample = experiment_df[(experiment_df.Round > experiment_df.Init_Rounds) & (experiment_df.Round <=  experiment_df.Split_Rounds)]\n",
    "in_sample.head()"
   ]
  },
  {
   "cell_type": "markdown",
   "id": "acf738d7",
   "metadata": {},
   "source": [
    "In_sample and out_sample rounds"
   ]
  },
  {
   "cell_type": "code",
   "execution_count": null,
   "id": "e3441148",
   "metadata": {},
   "outputs": [],
   "source": [
    "in_sample[in_sample.Number_of_nodes == 260].Round.unique()"
   ]
  },
  {
   "cell_type": "code",
   "execution_count": null,
   "id": "ef567f70",
   "metadata": {},
   "outputs": [],
   "source": [
    "in_sample_agg = experiment_df.groupby(['Number_of_nodes', 'Density', 'ELO_Rating_K' ], as_index=False).agg({\n",
    "    'RPS': 'mean', 'RatingError': 'mean', 'TotalDiff': 'mean'\n",
    "})\n",
    "in_sample_agg[in_sample_agg.Number_of_nodes == 50].sort_values(by=['RPS'], ascending=True)"
   ]
  },
  {
   "cell_type": "code",
   "execution_count": null,
   "id": "8ab4d58c",
   "metadata": {},
   "outputs": [],
   "source": [
    "optimal_k_df = in_sample_agg[in_sample_agg.groupby(['Number_of_nodes', 'Density'])['RPS'].transform(min) == in_sample_agg['RPS']]\n",
    "optimal_k_df[\"color\"] = \"black\"\n",
    "optimal_k_df.head()"
   ]
  },
  {
   "cell_type": "code",
   "execution_count": null,
   "id": "65eb67f0",
   "metadata": {
    "tags": []
   },
   "outputs": [],
   "source": [
    "config = {\n",
    "    'toImageButtonOptions': {\n",
    "        'format': 'svg', # one of png, svg, jpeg, webp\n",
    "        'filename': 'figure',\n",
    "        \"height\": 400,\n",
    "        \"width\": 1000,\n",
    "        'scale': 1 # Multiply title/legend/axis/canvas sizes by this factor\n",
    "    }\n",
    "}\n",
    "def return_fig_settings(fig_instance, x_title, y_title):\n",
    "    fig_instance.update_layout(\n",
    "        xaxis_title=x_title,\n",
    "        yaxis_title=y_title,\n",
    "        legend=dict(\n",
    "            font=dict(\n",
    "                family='Times New Roman',\n",
    "                size=15,\n",
    "                color=\"Black\"\n",
    "            ),\n",
    "            orientation='h',\n",
    "            bordercolor=\"Black\",\n",
    "            borderwidth=2,\n",
    "            yanchor=\"bottom\",\n",
    "            xanchor='right',\n",
    "            x=1,\n",
    "            y=1\n",
    "        )\n",
    "    )\n",
    "    font_dict = dict(\n",
    "        family='Times New Roman',\n",
    "        size=15,\n",
    "        color='black'\n",
    "    )\n",
    "    fig_instance.update_layout(\n",
    "        font=font_dict,  # font formatting\n",
    "        plot_bgcolor='white',  # background color\n",
    "    )"
   ]
  },
  {
   "cell_type": "code",
   "execution_count": null,
   "id": "4ae2a4fb",
   "metadata": {},
   "outputs": [],
   "source": [
    "fig = px.scatter(\n",
    "    optimal_k_df, x='Density', y='ELO_Rating_K', color=\"color\", trendline='ols', trendline_color_override='lightgray',\n",
    "    color_discrete_map= {\"black\": \"black\"},\n",
    "    labels={\n",
    "        \"ELO_Rating_K\": \"K\"\n",
    "    }\n",
    ")\n",
    "return_fig_settings(fig, \"Network density\", \"Optimal K\")\n",
    "fig.update_yaxes(range=[14, 60])\n",
    "fig.update_xaxes(tickmode='linear', tick0=0.0, dtick=0.1)\n",
    "fig.update_layout(showlegend=False)\n",
    "fig.show(config=config)"
   ]
  },
  {
   "cell_type": "code",
   "execution_count": null,
   "id": "63970fdc",
   "metadata": {},
   "outputs": [],
   "source": [
    "fig = go.Figure()\n",
    "fig.add_trace(\n",
    "    go.Scatter(\n",
    "        y=optimal_k_df[\"ELO_Rating_K\"],\n",
    "        x=optimal_k_df[\"Density\"],\n",
    "        marker_color=\"black\",\n",
    "        mode=\"lines+markers\"\n",
    "    )\n",
    ")\n",
    "return_fig_settings(fig, \"Network density\", \"Optimal K\")\n",
    "fig.update_yaxes(range=[10, 60])\n",
    "fig.update_xaxes(tickmode='linear', tick0=0.0, dtick=0.1)\n",
    "fig.update_layout(showlegend=False)\n",
    "fig.show(config=config)"
   ]
  },
  {
   "cell_type": "code",
   "execution_count": null,
   "id": "0f620d27",
   "metadata": {},
   "outputs": [],
   "source": [
    "df_optimal = experiment_df.merge(optimal_k_df, on=['Density', 'Number_of_nodes','ELO_Rating_K'], how='inner', suffixes=[\"\", \"_IS\"])\n",
    "df_optimal = df_optimal[df_optimal.Round > df_optimal.Split_Rounds]\n",
    "df_optimal"
   ]
  },
  {
   "cell_type": "markdown",
   "id": "0f971d94",
   "metadata": {},
   "source": [
    "At very low level of density and high number of games (^^number of nodes with 98 rounds). There are certain differences in true ratings that are really different between home and away, causing a clear prediction with a very low RPS."
   ]
  },
  {
   "cell_type": "code",
   "execution_count": null,
   "id": "4a09f7f8",
   "metadata": {},
   "outputs": [],
   "source": [
    "df_optimal[df_optimal.Number_of_nodes == 2451].RPS.describe()"
   ]
  },
  {
   "cell_type": "code",
   "execution_count": null,
   "id": "6627c557",
   "metadata": {},
   "outputs": [],
   "source": [
    "result_df = df_optimal.groupby(['Number_of_nodes', 'Density', 'ELO_Rating_K'], as_index=False).agg(\n",
    "    {'RPS': np.mean, 'RatingError': np.mean, 'ForecastError': np.mean, 'Forecastability': np.mean, 'ExpectedRPS': np.mean, 'TotalDiff': np.mean, \"TeamDiff\": np.mean}\n",
    ")\n",
    "result_df"
   ]
  },
  {
   "cell_type": "code",
   "execution_count": null,
   "id": "eb2857a9",
   "metadata": {},
   "outputs": [],
   "source": [
    "result_df[\"color\"] = \"black\""
   ]
  },
  {
   "cell_type": "markdown",
   "id": "a11f338b",
   "metadata": {},
   "source": [
    "### Scatter plots with correlation line (OLS)"
   ]
  },
  {
   "cell_type": "code",
   "execution_count": null,
   "id": "458cdb90",
   "metadata": {},
   "outputs": [],
   "source": [
    "config = {\n",
    "    'toImageButtonOptions': {\n",
    "        'format': 'svg', # one of png, svg, jpeg, webp\n",
    "        'filename': 'figure',\n",
    "        \"height\": 1000,\n",
    "        \"width\": 1000,\n",
    "        'scale': 1 # Multiply title/legend/axis/canvas sizes by this factor\n",
    "    }\n",
    "}\n",
    "def return_fig_settings(fig_instance, x_title, y_title):\n",
    "    fig_instance.update_layout(\n",
    "        xaxis_title=x_title,\n",
    "        yaxis_title=y_title,\n",
    "        legend=dict(\n",
    "            font=dict(\n",
    "                family='Times New Roman',\n",
    "                size=15,\n",
    "                color=\"Black\"\n",
    "            ),\n",
    "            orientation='h',\n",
    "            bordercolor=\"Black\",\n",
    "            borderwidth=2,\n",
    "            yanchor=\"bottom\",\n",
    "            xanchor='right',\n",
    "            x=1,\n",
    "            y=1\n",
    "        )\n",
    "    )\n",
    "    font_dict = dict(\n",
    "        family='Times New Roman',\n",
    "        size=15,\n",
    "        color='black'\n",
    "    )\n",
    "    fig_instance.update_layout(\n",
    "        font=font_dict,  # font formatting\n",
    "        plot_bgcolor='white',  # background color\n",
    "    )"
   ]
  },
  {
   "cell_type": "markdown",
   "id": "e9d63d8e",
   "metadata": {},
   "source": [
    "#### RPS based metrics"
   ]
  },
  {
   "cell_type": "code",
   "execution_count": null,
   "id": "f57a4dc0",
   "metadata": {
    "tags": []
   },
   "outputs": [],
   "source": [
    "result_df[\"color\"] = \"black\"\n",
    "fig = go.Figure()\n",
    "for rps_based_metric in [\"RPS\", \"ForecastError\", \"ExpectedRPS\", \"Forecastability\"]:\n",
    "    fig.add_trace(\n",
    "        go.Scatter(\n",
    "            y=result_df[rps_based_metric],\n",
    "            x=result_df[\"Density\"],\n",
    "            mode=\"lines+markers\",\n",
    "            name=rps_based_metric\n",
    "        )\n",
    "    )\n",
    "return_fig_settings(fig, \"Network density\", \"RPS-based score\")\n",
    "fig.update_layout(showlegend=True)\n",
    "fig.show(config=config)"
   ]
  },
  {
   "cell_type": "code",
   "execution_count": null,
   "id": "3e5302ec",
   "metadata": {},
   "outputs": [],
   "source": [
    "config = {\n",
    "    'toImageButtonOptions': {\n",
    "        'format': 'svg', # one of png, svg, jpeg, webp\n",
    "        'filename': 'figure',\n",
    "        'height': 600,\n",
    "        'width': 1000,\n",
    "        'scale': 1 # Multiply title/legend/axis/canvas sizes by this factor\n",
    "    }\n",
    "}\n",
    "def return_fig_settings(fig_instance, x_title, y_title):\n",
    "    fig_instance.update_layout(\n",
    "        xaxis3_title=x_title,\n",
    "        yaxis_title=y_title,\n",
    "        legend=dict(\n",
    "            font=dict(\n",
    "                family='Times New Roman',\n",
    "                size=14,\n",
    "                color=\"Black\"\n",
    "            ),\n",
    "            orientation='h',\n",
    "            bordercolor=\"Black\",\n",
    "            borderwidth=2,\n",
    "            yanchor=\"bottom\",\n",
    "            xanchor='right',\n",
    "            x=1,\n",
    "            y=1\n",
    "        ),\n",
    "        yaxis3_range=[0.18, 0.22],\n",
    "        yaxis2_range=[0.0050, 0.0090],\n",
    "        yaxis1_range=[30, 45],        \n",
    "        yaxis3_title=\"RPS\",\n",
    "        yaxis2_title=\"Forecast error\",\n",
    "        yaxis1_title=\"Rating error\",\n",
    "    )\n",
    "    font_dict = dict(\n",
    "        family='Times New Roman',\n",
    "        size=14,\n",
    "        color='black'\n",
    "    )\n",
    "    fig_instance.update_layout(\n",
    "        font=font_dict,  # font formatting\n",
    "        plot_bgcolor='white',  # background color\n",
    "    )"
   ]
  },
  {
   "cell_type": "code",
   "execution_count": null,
   "id": "1e981e5b",
   "metadata": {
    "tags": []
   },
   "outputs": [],
   "source": [
    "from plotly.subplots import make_subplots\n",
    "\n",
    "target_1 = \"ForecastError\"\n",
    "target_2 = \"TeamDiff\"\n",
    "target_3 = \"RPS\"\n",
    "fig = make_subplots(rows=3, cols=1, shared_xaxes=True, vertical_spacing=0.1)\n",
    "for i, (t, t_name) in enumerate([(\"RPS\", \"RPS\"), (\"ForecastError\", \"Forecast error\"), (\"TeamDiff\", \"Rating error\")]):\n",
    "    fig.add_trace(\n",
    "        go.Scatter(\n",
    "            y=result_df[t],\n",
    "            x=result_df[\"Density\"],\n",
    "            marker_color=\"black\",\n",
    "            mode=\"lines+markers\",\n",
    "            showlegend=False\n",
    "        ),\n",
    "        row=3 - i,\n",
    "        col=1\n",
    "    )\n",
    "    result_df['bestfit' + t] = sm.OLS(result_df[t], sm.add_constant(result_df['Density'])).fit().fittedvalues\n",
    "    fig.add_trace(\n",
    "        go.Scatter(\n",
    "            x=result_df[\"Density\"],\n",
    "            y=result_df['bestfit' + t],\n",
    "            mode='lines',\n",
    "            marker_color=\"gray\",\n",
    "            showlegend=False\n",
    "        ),\n",
    "        row=3-i, col=1\n",
    "    )\n",
    "return_fig_settings(fig, \"Network density\", \"\")\n",
    "fig.update_xaxes(tickmode='linear', tick0=0.0, dtick=0.1)\n",
    "#fig.update_layout(showlegend=False)\n",
    "fig.show(config=config)"
   ]
  },
  {
   "cell_type": "markdown",
   "id": "ecfa2209",
   "metadata": {},
   "source": [
    "### Match level rating errors"
   ]
  },
  {
   "cell_type": "code",
   "execution_count": null,
   "id": "2b6e47a1",
   "metadata": {
    "tags": []
   },
   "outputs": [],
   "source": [
    "fig = go.Figure()\n",
    "for team_based_metric in [\"RatingError\", \"TotalDiff\", \"TeamDiff\"]:\n",
    "    fig.add_trace(\n",
    "        go.Scatter(\n",
    "            y=result_df[team_based_metric],\n",
    "            x=result_df[\"Density\"],\n",
    "            mode=\"lines+markers\",\n",
    "            name=team_based_metric\n",
    "        )\n",
    "    )\n",
    "return_fig_settings(fig, \"Network density\", \"Match level rating errors\")\n",
    "fig.update_layout(showlegend=True)\n",
    "fig.show(config=config)"
   ]
  },
  {
   "cell_type": "code",
   "execution_count": null,
   "id": "461a3571",
   "metadata": {},
   "outputs": [],
   "source": [
    "target = \"RatingError\"\n",
    "fig = px.scatter(\n",
    "    result_df, x='Density', y=target, color=\"color\", trendline='ols', trendline_color_override='lightgray',\n",
    "    color_discrete_map={\"black\": \"black\"},\n",
    "    labels={\n",
    "        \"RatingError\": \"Rating difference absolute error\",\n",
    "        \"TotalDiff\": \"Home and away absolute error\"\n",
    "    },\n",
    "    width=1000, height=400\n",
    ")\n",
    "return_fig_settings(fig, \"Network density\", target)\n",
    "fig.update_layout(showlegend=False)\n",
    "#fig.update_yaxes(range=[150, 400])\n",
    "fig.update_yaxes(range=[0, 100])\n",
    "fig.show(config=config)"
   ]
  },
  {
   "cell_type": "code",
   "execution_count": null,
   "id": "9ee78a3e",
   "metadata": {},
   "outputs": [],
   "source": [
    "results = px.get_trendline_results(fig)\n",
    "results.px_fit_results.iloc[0].summary()"
   ]
  },
  {
   "cell_type": "markdown",
   "id": "f3418834",
   "metadata": {
    "tags": []
   },
   "source": [
    "### Adding confidence intervals"
   ]
  },
  {
   "cell_type": "code",
   "execution_count": null,
   "id": "31b4de8e",
   "metadata": {
    "jupyter": {
     "source_hidden": true
    },
    "tags": []
   },
   "outputs": [],
   "source": [
    "x = result_df['Density']\n",
    "y_upper = [t[1] for t in result_df[\"RPS_bootstrap\"]]\n",
    "y_lower = [t[0] for t in result_df[(\"RPS_bootstrap\")]]\n",
    "\n",
    "fig = go.Figure([\n",
    "    go.Scatter(\n",
    "        x=x,\n",
    "        y=result_df[\"RPS_mean\"],\n",
    "        line=dict(color='rgb(0,100,80)'),\n",
    "        mode='lines'\n",
    "    ),\n",
    "    go.Scatter(\n",
    "        x=pd.concat([x,x[::-1]]), # x, then x reversed\n",
    "        y=y_upper+y_lower[::-1], # upper, then lower reversed\n",
    "        fill='toself',\n",
    "        fillcolor='rgba(0,100,80,0.2)',\n",
    "        line=dict(color='rgba(255,255,255,0)'),\n",
    "        hoverinfo=\"skip\",\n",
    "        showlegend=False\n",
    "    )\n",
    "])\n",
    "fig.update_yaxes(range=[0.1, 0.6])\n",
    "fig.show()"
   ]
  },
  {
   "cell_type": "code",
   "execution_count": null,
   "id": "075db3ee",
   "metadata": {
    "jupyter": {
     "source_hidden": true
    },
    "tags": []
   },
   "outputs": [],
   "source": [
    "x = result_df['Density']\n",
    "y_upper = [t[1] for t in result_df[\"RatingError_bootstrap\"]]\n",
    "y_lower = [t[0] for t in result_df[(\"RatingError_bootstrap\")]]\n",
    "\n",
    "fig = go.Figure([\n",
    "    go.Scatter(\n",
    "        x=x,\n",
    "        y=result_df[\"RatingError_mean\"],\n",
    "        line=dict(color='rgb(0,100,80)'),\n",
    "        mode='lines'\n",
    "    ),\n",
    "    go.Scatter(\n",
    "        x=pd.concat([x,x[::-1]]), # x, then x reversed\n",
    "        y=y_upper+y_lower[::-1], # upper, then lower reversed\n",
    "        fill='toself',\n",
    "        fillcolor='rgba(0,100,80,0.2)',\n",
    "        line=dict(color='rgba(255,255,255,0)'),\n",
    "        hoverinfo=\"skip\",\n",
    "        showlegend=False\n",
    "    )\n",
    "])\n",
    "\n",
    "fig.update_yaxes(range=[0, 400])\n",
    "fig.show()"
   ]
  },
  {
   "cell_type": "code",
   "execution_count": null,
   "id": "1e4bca0f",
   "metadata": {
    "jupyter": {
     "source_hidden": true
    },
    "tags": []
   },
   "outputs": [],
   "source": [
    "x = result_df['Density']\n",
    "y_upper = [t[1] for t in result_df[\"TotalDiff_bootstrap\"]]\n",
    "y_lower = [t[0] for t in result_df[(\"TotalDiff_bootstrap\")]]\n",
    "\n",
    "fig = go.Figure([\n",
    "    go.Scatter(\n",
    "        x=x,\n",
    "        y=result_df[\"TotalDiff_mean\"],\n",
    "        line=dict(color='rgb(0,100,80)'),\n",
    "        mode='lines'\n",
    "    ),\n",
    "    go.Scatter(\n",
    "        x=pd.concat([x,x[::-1]]), # x, then x reversed\n",
    "        y=y_upper+y_lower[::-1], # upper, then lower reversed\n",
    "        fill='toself',\n",
    "        fillcolor='rgba(0,100,80,0.2)',\n",
    "        line=dict(color='rgba(255,255,255,0)'),\n",
    "        hoverinfo=\"skip\",\n",
    "        showlegend=False\n",
    "    )\n",
    "])\n",
    "fig.update_yaxes(range=[0, 200])\n",
    "fig.show()"
   ]
  }
 ],
 "metadata": {
  "kernelspec": {
   "display_name": "Python 3",
   "language": "python",
   "name": "python3"
  },
  "language_info": {
   "codemirror_mode": {
    "name": "ipython",
    "version": 3
   },
   "file_extension": ".py",
   "mimetype": "text/x-python",
   "name": "python",
   "nbconvert_exporter": "python",
   "pygments_lexer": "ipython3",
   "version": "3.6.10"
  }
 },
 "nbformat": 4,
 "nbformat_minor": 5
}
