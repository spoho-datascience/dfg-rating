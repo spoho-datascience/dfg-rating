{
 "cells": [
  {
   "cell_type": "markdown",
   "id": "2416107c",
   "metadata": {},
   "source": [
    "# Studying network construction: Effects of number of edges"
   ]
  },
  {
   "cell_type": "markdown",
   "id": "3ccea51c",
   "metadata": {},
   "source": [
    "The main objective is to check how the network cardinality measures (basically number of edges and degree of each node) is effecting the ratings.\n",
    "\n",
    "Two examples are following.\n",
    "\n",
    " - A network construction with a maximum of edges.\n",
    " - A random network construction by edge probability."
   ]
  },
  {
   "cell_type": "markdown",
   "id": "b133f2f1",
   "metadata": {},
   "source": [
    "### Import statements and Random fix"
   ]
  },
  {
   "cell_type": "code",
   "execution_count": 1,
   "id": "57bc8d7e",
   "metadata": {},
   "outputs": [],
   "source": [
    "import random\n",
    "import numpy as np\n",
    "\n",
    "random.seed(321)\n",
    "np.random.seed(1234)"
   ]
  },
  {
   "cell_type": "code",
   "execution_count": 2,
   "id": "cc4622ed",
   "metadata": {},
   "outputs": [],
   "source": [
    "import networkx as nx\n",
    "from dfg_rating.model import factory\n",
    "\n",
    "from dfg_rating.model.network.base_network import BaseNetwork\n",
    "from dfg_rating.model.network.simple_network import RoundRobinNetwork\n",
    "\n",
    "from dfg_rating.model.rating.ranking_rating import LeagueRating\n",
    "from dfg_rating.model.rating.controlled_trend_rating import ControlledTrendRating, ControlledRandomFunction\n",
    "from dfg_rating.model.rating.elo_rating import ELORating\n",
    "\n",
    "from dfg_rating.model.forecast.true_forecast import LogFunctionForecast\n",
    "\n",
    "from dfg_rating.model.evaluators.accuracy import RankProbabilityScore\n",
    "\n",
    "import dfg_rating.viz.jupyter_widgets as DFGWidgets"
   ]
  },
  {
   "cell_type": "code",
   "execution_count": 3,
   "id": "1f12cf96",
   "metadata": {},
   "outputs": [],
   "source": [
    "true_rating = ControlledTrendRating(\n",
    "    starting_point=ControlledRandomFunction(distribution='normal', loc=1000, scale=100),\n",
    "    delta=ControlledRandomFunction(distribution='normal', loc=0, scale=3),\n",
    "    trend=ControlledRandomFunction(distribution='normal', loc=0, scale=20/365),\n",
    "    season_delta=ControlledRandomFunction(distribution='normal', loc=0, scale=10)\n",
    ")"
   ]
  },
  {
   "cell_type": "markdown",
   "id": "2885df4c",
   "metadata": {},
   "source": [
    "## Creating Networks"
   ]
  },
  {
   "cell_type": "markdown",
   "id": "8cfe20e9",
   "metadata": {},
   "source": [
    "#### standard_n := Standard 10-Round-Robin league"
   ]
  },
  {
   "cell_type": "code",
   "execution_count": 11,
   "id": "0ea16d17",
   "metadata": {},
   "outputs": [
    {
     "name": "stdout",
     "output_type": "stream",
     "text": [
      "Season 0\n",
      "Relegation candidates {4: 8.0, 13: 8.0, 8: 13.0, 9: 15.0, 17: 17.0, 2: 19.0}\n",
      "Relegation teams []\n",
      "Season 1\n",
      "Relegation candidates {4: 5.0, 13: 14.0, 8: 14.0, 0: 14.0, 12: 16.0, 5: 20.0}\n",
      "Relegation teams []\n",
      "Season 2\n",
      "Relegation candidates {0: 7.0, 2: 11.0, 4: 11.0, 14: 13.0, 13: 16.0, 15: 18.0}\n",
      "Relegation teams []\n",
      "Season 3\n",
      "Relegation candidates {11: 7.0, 2: 7.0, 4: 11.0, 9: 17.0, 0: 18.0, 8: 20.0}\n",
      "Relegation teams []\n",
      "Season 4\n",
      "Relegation candidates {2: 10.0, 9: 11.0, 8: 12.0, 4: 15.0, 6: 15.0, 13: 15.0}\n",
      "Relegation teams []\n",
      "Multiple seasons is played when creating data\n"
     ]
    }
   ],
   "source": [
    "standard_n: BaseNetwork = factory.new_network(\n",
    "    'multiple-round-robin',\n",
    "    teams=18,\n",
    "    seasons=5,\n",
    "    league_temas=18,\n",
    "    league_promotion=0,\n",
    "    days_between_rounds=3,\n",
    "    true_rating=true_rating\n",
    ")\n",
    "standard_n.create_data()\n",
    "standard_n.play()"
   ]
  },
  {
   "cell_type": "markdown",
   "id": "1d921f15",
   "metadata": {},
   "source": [
    "#### max_n := Network with a maximum number of edges"
   ]
  },
  {
   "cell_type": "code",
   "execution_count": null,
   "id": "394a0c46",
   "metadata": {},
   "outputs": [],
   "source": [
    "class EdgeCappedNetwork(RoundRobinNetwork):\n",
    "    \n",
    "    def __init__(self, **kwargs):\n",
    "        super().__init__(**kwargs)\n",
    "        self.max_edges = kwargs.get(\"max_edges\", (self.n_teams * (self.n_teams - 1)))\n",
    "    \n",
    "    def fill_graph(self):\n",
    "        if self.data is None:\n",
    "            graph = nx.MultiDiGraph()\n",
    "        else:\n",
    "            graph = self.data\n",
    "            \n",
    "        current_edges = 0\n",
    "        n_list = [n for n in range(self.n_teams)]\n",
    "        graph.add_nodes_from([n for n in range(self.n_teams)])\n",
    "        \n",
    "        while current_edges < self.max_edges:\n",
    "            u = random.choice(n_list)\n",
    "            v = random.choice(n_list)\n",
    "            if u==v or graph.has_edge(u,v):\n",
    "                continue\n",
    "            else:\n",
    "                n_round = max(graph.degree[v], graph.degree[u])\n",
    "                graph.add_edge(u,v, season=0, round=n_round, day=self.days_between_rounds * n_round)\n",
    "                current_edges += 1\n",
    "                \n",
    "        self.data = graph          \n",
    "        "
   ]
  },
  {
   "cell_type": "code",
   "execution_count": null,
   "id": "e7a07472",
   "metadata": {},
   "outputs": [],
   "source": [
    "max_n = EdgeCappedNetwork(\n",
    "    teams=200,\n",
    "    days_between_rounds=3,   \n",
    "    max_edges=10000,\n",
    "    true_rating=true_rating\n",
    ")\n",
    "max_n.create_data()\n",
    "max_n.play()"
   ]
  },
  {
   "cell_type": "markdown",
   "id": "4bfa7fc9",
   "metadata": {},
   "source": [
    "#### random_n := Network with edge probability\n",
    "\n",
    "We create networks with edge probability from 0.01 to 1.00 (Completed)"
   ]
  },
  {
   "cell_type": "code",
   "execution_count": 4,
   "id": "60842f4d",
   "metadata": {},
   "outputs": [],
   "source": [
    "class RandomNetwork(RoundRobinNetwork):\n",
    "    \"\"\"\n",
    "    Choses each of the possible [n(n-1)]/2 edges with probability p.\n",
    "    \"\"\"\n",
    "    \n",
    "    def __init__(self, **kwargs):\n",
    "        super().__init__(**kwargs)\n",
    "        self.edge_probability = kwargs.get(\"edge_probability\", 1)\n",
    "    \n",
    "    def fill_graph(self):\n",
    "        if self.data is None:\n",
    "            graph = nx.MultiDiGraph()\n",
    "        else:\n",
    "            graph = self.data\n",
    "            \n",
    "        current_edges = 0\n",
    "        n_list = [n for n in range(self.n_teams)]\n",
    "        graph.add_nodes_from([n for n in range(self.n_teams)])\n",
    "        \n",
    "        for u in range(self.n_teams):\n",
    "            for v in range(u+1, self.n_teams):\n",
    "                if random.random() < self.edge_probability:\n",
    "                    n_round = max(graph.degree[v], graph.degree[u])\n",
    "                    graph.add_edge(u,v, season=0, round=n_round, day=self.days_between_rounds * n_round)\n",
    "        self.data = graph "
   ]
  },
  {
   "cell_type": "code",
   "execution_count": null,
   "id": "6f97cddf",
   "metadata": {},
   "outputs": [],
   "source": [
    "random_n = RandomNetwork(\n",
    "        teams=500,\n",
    "        days_between_rounds=3,   \n",
    "        edge_probability=1,\n",
    "        true_rating=true_rating\n",
    "    )\n",
    "random_n.create_data()\n",
    "random_n.play()\n",
    "networks_list = [random_n]"
   ]
  },
  {
   "cell_type": "code",
   "execution_count": null,
   "id": "f75e3b7e",
   "metadata": {},
   "outputs": [],
   "source": [
    "networks_list = []\n",
    "for prob in np.arange(0.01, 1.01, 0.01):\n",
    "    random_n = RandomNetwork(\n",
    "        teams=128,\n",
    "        days_between_rounds=3,   \n",
    "        edge_probability=prob,\n",
    "        true_rating=true_rating\n",
    "    )\n",
    "    random_n.create_data()\n",
    "    random_n.play()\n",
    "    networks_list.append(random_n)"
   ]
  },
  {
   "cell_type": "code",
   "execution_count": null,
   "id": "f5a35c7d",
   "metadata": {},
   "outputs": [],
   "source": [
    "print(len(networks_list[99].data.edges))\n",
    "networks_list[99].edge_probability"
   ]
  },
  {
   "cell_type": "markdown",
   "id": "ef674700",
   "metadata": {},
   "source": [
    "## Explore networks"
   ]
  },
  {
   "cell_type": "code",
   "execution_count": null,
   "id": "9c59046c",
   "metadata": {},
   "outputs": [],
   "source": [
    "network_explorer = DFGWidgets.NetworkExplorer(network=standard_n)"
   ]
  },
  {
   "cell_type": "code",
   "execution_count": null,
   "id": "b9545f30",
   "metadata": {
    "tags": []
   },
   "outputs": [],
   "source": [
    "network_explorer.run('inline')"
   ]
  },
  {
   "cell_type": "markdown",
   "id": "f13e8313",
   "metadata": {},
   "source": [
    "### ELO Rating to the networks with RPS evaluation"
   ]
  },
  {
   "cell_type": "code",
   "execution_count": 12,
   "id": "6c0389b9",
   "metadata": {},
   "outputs": [],
   "source": [
    "elo = ELORating(**{\n",
    "    \"trained\": True,\n",
    "})\n",
    "elo_forecast = LogFunctionForecast(\n",
    "    outcomes=['home', 'draw', 'away'],\n",
    "    coefficients=[-0.9, 0.3],\n",
    "    beta_parameter=0.006\n",
    ")\n",
    "rps = RankProbabilityScore(\n",
    "    outcomes=['home', 'draw', 'away'],\n",
    "    forecast_name='elo_forecast'\n",
    ")"
   ]
  },
  {
   "cell_type": "code",
   "execution_count": 13,
   "id": "a82c36bd",
   "metadata": {},
   "outputs": [],
   "source": [
    "for n in [standard_n]:\n",
    "    n.add_rating(rating=elo, rating_name='elo_rating')\n",
    "    n.add_forecast(forecast=elo_forecast, forecast_name='elo_forecast', base_ranking=\"elo_rating\")\n",
    "    n.add_evaluation(rps, \"elo_rating\")"
   ]
  },
  {
   "cell_type": "markdown",
   "id": "de1ca34a",
   "metadata": {},
   "source": [
    "## Results"
   ]
  },
  {
   "cell_type": "code",
   "execution_count": 14,
   "id": "3b3f84c2",
   "metadata": {},
   "outputs": [],
   "source": [
    "ratings_explorer = DFGWidgets.RatingsEvaluation(network=standard_n)"
   ]
  },
  {
   "cell_type": "code",
   "execution_count": 15,
   "id": "67674257",
   "metadata": {
    "tags": []
   },
   "outputs": [
    {
     "data": {
      "text/html": [
       "\n",
       "        <iframe\n",
       "            width=\"100%\"\n",
       "            height=\"650\"\n",
       "            src=\"http://127.0.0.1:8051/\"\n",
       "            frameborder=\"0\"\n",
       "            allowfullscreen\n",
       "        ></iframe>\n",
       "        "
      ],
      "text/plain": [
       "<IPython.lib.display.IFrame at 0x7f12e094a860>"
      ]
     },
     "metadata": {},
     "output_type": "display_data"
    },
    {
     "name": "stdout",
     "output_type": "stream",
     "text": [
      "Selected teams : None\n",
      "Selected teams : None\n",
      "Selected teams : None\n"
     ]
    }
   ],
   "source": [
    "ratings_explorer.run('inline', port=8051)"
   ]
  },
  {
   "cell_type": "markdown",
   "id": "e3cb4eb2",
   "metadata": {},
   "source": []
  }
 ],
 "metadata": {
  "kernelspec": {
   "display_name": "Python 3",
   "language": "python",
   "name": "python3"
  },
  "language_info": {
   "codemirror_mode": {
    "name": "ipython",
    "version": 3
   },
   "file_extension": ".py",
   "mimetype": "text/x-python",
   "name": "python",
   "nbconvert_exporter": "python",
   "pygments_lexer": "ipython3",
   "version": "3.6.10"
  }
 },
 "nbformat": 4,
 "nbformat_minor": 5
}
