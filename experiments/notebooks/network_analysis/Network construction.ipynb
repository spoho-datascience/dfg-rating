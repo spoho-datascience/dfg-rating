{
 "cells": [
  {
   "cell_type": "markdown",
   "id": "c3f508a8",
   "metadata": {},
   "source": [
    "# Studying network construction: Effects of number of edges"
   ]
  },
  {
   "cell_type": "markdown",
   "id": "a37f4846",
   "metadata": {},
   "source": [
    "The main objective is to check how the network cardinality measures (basically number of edges and degree of each node) is effecting the ratings.\n",
    "\n",
    "Two examples are following.\n",
    "\n",
    " - A network construction with a maximum of edges.\n",
    " - A random network construction by edge probability."
   ]
  },
  {
   "cell_type": "markdown",
   "id": "7deaa4a7",
   "metadata": {},
   "source": [
    "### Import statements and Random fix"
   ]
  },
  {
   "cell_type": "code",
   "execution_count": null,
   "id": "f1b047d4",
   "metadata": {},
   "outputs": [],
   "source": [
    "import random\n",
    "import numpy as np\n",
    "\n",
    "random.seed(321)\n",
    "np.random.seed(1234)"
   ]
  },
  {
   "cell_type": "code",
   "execution_count": null,
   "id": "4d4b2a94",
   "metadata": {},
   "outputs": [],
   "source": [
    "import networkx as nx\n",
    "from dfg_rating.model import factory\n",
    "\n",
    "from dfg_rating.model.network.base_network import BaseNetwork\n",
    "from dfg_rating.model.network.simple_network import RoundRobinNetwork\n",
    "\n",
    "from dfg_rating.model.rating.ranking_rating import LeagueRating\n",
    "from dfg_rating.model.rating.elo_rating import ELORating\n",
    "\n",
    "import dfg_rating.viz.jupyter_widgets as DFGWidgets"
   ]
  },
  {
   "cell_type": "markdown",
   "id": "5fb88769",
   "metadata": {},
   "source": [
    "## Creating Networks"
   ]
  },
  {
   "cell_type": "markdown",
   "id": "165fa2a9",
   "metadata": {},
   "source": [
    "#### standard_n := Standard 10-Round-Robin league"
   ]
  },
  {
   "cell_type": "code",
   "execution_count": null,
   "id": "c19d95f6",
   "metadata": {},
   "outputs": [],
   "source": [
    "standard_n: BaseNetwork = factory.new_network(\n",
    "    'round-robin',\n",
    "    teams=10,\n",
    "    days_between_rounds=3,\n",
    ")\n",
    "standard_n.create_data()\n",
    "standard_n.play()"
   ]
  },
  {
   "cell_type": "markdown",
   "id": "f0638195",
   "metadata": {},
   "source": [
    "#### max_n := Network with a maximum number of edges"
   ]
  },
  {
   "cell_type": "code",
   "execution_count": null,
   "id": "8163a9ea",
   "metadata": {},
   "outputs": [],
   "source": [
    "class EdgeCappedNetwork(RoundRobinNetwork):\n",
    "    \n",
    "    def __init__(self, **kwargs):\n",
    "        super().__init__(**kwargs)\n",
    "        self.max_edges = kwargs.get(\"max_edges\", (self.n_teams * (self.n_teams - 1)))\n",
    "    \n",
    "    def fill_graph(self):\n",
    "        if self.data is None:\n",
    "            graph = nx.MultiDiGraph()\n",
    "        else:\n",
    "            graph = self.data\n",
    "            \n",
    "        current_edges = 0\n",
    "        n_list = [n for n in range(self.n_teams)]\n",
    "        graph.add_nodes_from([n for n in range(self.n_teams)])\n",
    "        \n",
    "        while current_edges < self.max_edges:\n",
    "            u = random.choice(n_list)\n",
    "            v = random.choice(n_list)\n",
    "            print(u,v)\n",
    "            if u==v or graph.has_edge(u,v):\n",
    "                continue\n",
    "            else:\n",
    "                n_round = max(graph.degree[v], graph.degree[u])\n",
    "                graph.add_edge(u,v, season=0, round=n_round, day=self.days_between_rounds * n_round)\n",
    "                current_edges += 1\n",
    "                \n",
    "        self.data = graph          \n",
    "        "
   ]
  },
  {
   "cell_type": "code",
   "execution_count": null,
   "id": "e6857302",
   "metadata": {},
   "outputs": [],
   "source": [
    "max_n = EdgeCappedNetwork(\n",
    "    teams=10,\n",
    "    days_between_rounds=3,   \n",
    "    max_edges=5\n",
    ")\n",
    "max_n.create_data()\n",
    "max_n.play()"
   ]
  },
  {
   "cell_type": "markdown",
   "id": "551852a4",
   "metadata": {},
   "source": [
    "#### random_n := Network with edge probability"
   ]
  },
  {
   "cell_type": "code",
   "execution_count": null,
   "id": "ce68b69a",
   "metadata": {},
   "outputs": [],
   "source": [
    "class RandomNetwork(RoundRobinNetwork):\n",
    "    \"\"\"\n",
    "    Choses each of the possible [n(n-1)]/2 edges with probability p.\n",
    "    \"\"\"\n",
    "    \n",
    "    def __init__(self, **kwargs):\n",
    "        super().__init__(**kwargs)\n",
    "        self.edge_probability = kwargs.get(\"edge_probability\", 1)\n",
    "    \n",
    "    def fill_graph(self):\n",
    "        if self.data is None:\n",
    "            graph = nx.MultiDiGraph()\n",
    "        else:\n",
    "            graph = self.data\n",
    "            \n",
    "        current_edges = 0\n",
    "        n_list = [n for n in range(self.n_teams)]\n",
    "        graph.add_nodes_from([n for n in range(self.n_teams)])\n",
    "        \n",
    "        for u in range(self.n_teams):\n",
    "            for v in range(u+1, self.n_teams):\n",
    "                if random.random() < self.edge_probability:\n",
    "                    n_round = max(graph.degree[v], graph.degree[u])\n",
    "                    graph.add_edge(u,v, season=0, round=n_round, day=self.days_between_rounds * n_round)\n",
    "        self.data = graph "
   ]
  },
  {
   "cell_type": "code",
   "execution_count": null,
   "id": "5861fcdb",
   "metadata": {},
   "outputs": [],
   "source": [
    "random_n = RandomNetwork(\n",
    "    teams=10,\n",
    "    days_between_rounds=3,   \n",
    "    edge_probability=0.5\n",
    ")\n",
    "random_n.create_data()\n",
    "random_n.play()"
   ]
  },
  {
   "cell_type": "markdown",
   "id": "3fa39123",
   "metadata": {},
   "source": [
    "## Explore networks"
   ]
  },
  {
   "cell_type": "code",
   "execution_count": null,
   "id": "51a162c7",
   "metadata": {},
   "outputs": [],
   "source": [
    "network_explorer = DFGWidgets.NetworkExplorer(network=random_n)"
   ]
  },
  {
   "cell_type": "code",
   "execution_count": null,
   "id": "4b90485f",
   "metadata": {
    "tags": []
   },
   "outputs": [],
   "source": [
    "network_explorer.run('inline')"
   ]
  },
  {
   "cell_type": "markdown",
   "id": "7b0249c1",
   "metadata": {},
   "source": [
    "### Adding Ranking rating and ELO Rating to the networks"
   ]
  },
  {
   "cell_type": "code",
   "execution_count": null,
   "id": "cba88df0",
   "metadata": {},
   "outputs": [],
   "source": [
    "league_ranking = LeagueRating()\n",
    "elo = ELORating(trained=True)"
   ]
  },
  {
   "cell_type": "code",
   "execution_count": null,
   "id": "5b0be973",
   "metadata": {},
   "outputs": [],
   "source": [
    "for network_n in [standard_n, max_n, random_n]:\n",
    "    network_n.add_rating(league_ranking, 'league_ranking')\n",
    "    network_n.add_rating(elo, 'ELO')"
   ]
  },
  {
   "cell_type": "code",
   "execution_count": null,
   "id": "62bd01b3",
   "metadata": {},
   "outputs": [],
   "source": [
    "ratings_explorer = DFGWidgets.RatingsExplorer(network=random_n)"
   ]
  },
  {
   "cell_type": "code",
   "execution_count": null,
   "id": "895a4b50",
   "metadata": {},
   "outputs": [],
   "source": [
    "ratings_explorer.run('inline', port=8051)"
   ]
  },
  {
   "cell_type": "code",
   "execution_count": null,
   "id": "902a2fd8",
   "metadata": {},
   "outputs": [],
   "source": []
  }
 ],
 "metadata": {
  "kernelspec": {
   "display_name": "Python 3",
   "language": "python",
   "name": "python3"
  },
  "language_info": {
   "codemirror_mode": {
    "name": "ipython",
    "version": 3
   },
   "file_extension": ".py",
   "mimetype": "text/x-python",
   "name": "python",
   "nbconvert_exporter": "python",
   "pygments_lexer": "ipython3",
   "version": "3.6.10"
  }
 },
 "nbformat": 4,
 "nbformat_minor": 5
}
