{
 "cells": [
  {
   "cell_type": "markdown",
   "id": "9920264d",
   "metadata": {},
   "source": [
    "# Studying network construction: Effects of number of edges"
   ]
  },
  {
   "cell_type": "markdown",
   "id": "07110d39",
   "metadata": {},
   "source": [
    "The main objective is to check how the network cardinality measures (basically number of edges and degree of each node) is effecting the ratings.\n",
    "\n",
    "Two examples are following.\n",
    "\n",
    " - A network construction with a maximum of edges.\n",
    " - A random network construction by edge probability."
   ]
  },
  {
   "cell_type": "markdown",
   "id": "cc43b89b",
   "metadata": {},
   "source": [
    "### Import statements and Random fix"
   ]
  },
  {
   "cell_type": "code",
   "execution_count": 1,
   "id": "7b6877eb",
   "metadata": {},
   "outputs": [],
   "source": [
    "import random\n",
    "import numpy as np\n",
    "\n",
    "random.seed(321)\n",
    "np.random.seed(1234)"
   ]
  },
  {
   "cell_type": "code",
   "execution_count": 2,
   "id": "8db56259",
   "metadata": {},
   "outputs": [],
   "source": [
    "import networkx as nx\n",
    "from dfg_rating.model import factory\n",
    "\n",
    "from dfg_rating.model.network.base_network import BaseNetwork\n",
    "from dfg_rating.model.network.simple_network import RoundRobinNetwork\n",
    "\n",
    "from dfg_rating.model.rating.ranking_rating import LeagueRating\n",
    "from dfg_rating.model.rating.controlled_trend_rating import ControlledTrendRating, ControlledRandomFunction\n",
    "from dfg_rating.model.rating.elo_rating import ELORating\n",
    "\n",
    "from dfg_rating.model.forecast.true_forecast import LogFunctionForecast\n",
    "\n",
    "from dfg_rating.model.evaluators.accuracy import RankProbabilityScore\n",
    "\n",
    "import dfg_rating.viz.jupyter_widgets as DFGWidgets"
   ]
  },
  {
   "cell_type": "code",
   "execution_count": 3,
   "id": "31212440",
   "metadata": {},
   "outputs": [],
   "source": [
    "true_rating = ControlledTrendRating(\n",
    "    starting_point=ControlledRandomFunction(distribution='normal', loc=1000, scale=100),\n",
    "    delta=ControlledRandomFunction(distribution='normal', loc=0, scale=3),\n",
    "    trend=ControlledRandomFunction(distribution='normal', loc=0, scale=20/365),\n",
    "    season_delta=ControlledRandomFunction(distribution='normal', loc=0, scale=10)\n",
    ")"
   ]
  },
  {
   "cell_type": "markdown",
   "id": "8f70f3a9",
   "metadata": {},
   "source": [
    "## Creating Networks"
   ]
  },
  {
   "cell_type": "markdown",
   "id": "a6a0f830",
   "metadata": {},
   "source": [
    "#### standard_n := Standard 10-Round-Robin league"
   ]
  },
  {
   "cell_type": "code",
   "execution_count": null,
   "id": "d30d3d35",
   "metadata": {},
   "outputs": [],
   "source": [
    "standard_n: BaseNetwork = factory.new_network(\n",
    "    'round-robin',\n",
    "    teams=200,\n",
    "    days_between_rounds=3,\n",
    "    true_rating=true_rating\n",
    ")\n",
    "standard_n.create_data()\n",
    "standard_n.play()"
   ]
  },
  {
   "cell_type": "markdown",
   "id": "4fd4d8be",
   "metadata": {},
   "source": [
    "#### max_n := Network with a maximum number of edges"
   ]
  },
  {
   "cell_type": "code",
   "execution_count": null,
   "id": "ed755383",
   "metadata": {},
   "outputs": [],
   "source": [
    "class EdgeCappedNetwork(RoundRobinNetwork):\n",
    "    \n",
    "    def __init__(self, **kwargs):\n",
    "        super().__init__(**kwargs)\n",
    "        self.max_edges = kwargs.get(\"max_edges\", (self.n_teams * (self.n_teams - 1)))\n",
    "    \n",
    "    def fill_graph(self):\n",
    "        if self.data is None:\n",
    "            graph = nx.MultiDiGraph()\n",
    "        else:\n",
    "            graph = self.data\n",
    "            \n",
    "        current_edges = 0\n",
    "        n_list = [n for n in range(self.n_teams)]\n",
    "        graph.add_nodes_from([n for n in range(self.n_teams)])\n",
    "        \n",
    "        while current_edges < self.max_edges:\n",
    "            u = random.choice(n_list)\n",
    "            v = random.choice(n_list)\n",
    "            if u==v or graph.has_edge(u,v):\n",
    "                continue\n",
    "            else:\n",
    "                n_round = max(graph.degree[v], graph.degree[u])\n",
    "                graph.add_edge(u,v, season=0, round=n_round, day=self.days_between_rounds * n_round)\n",
    "                current_edges += 1\n",
    "                \n",
    "        self.data = graph          \n",
    "        "
   ]
  },
  {
   "cell_type": "code",
   "execution_count": null,
   "id": "2905ca25",
   "metadata": {},
   "outputs": [],
   "source": [
    "max_n = EdgeCappedNetwork(\n",
    "    teams=200,\n",
    "    days_between_rounds=3,   \n",
    "    max_edges=10000,\n",
    "    true_rating=true_rating\n",
    ")\n",
    "max_n.create_data()\n",
    "max_n.play()"
   ]
  },
  {
   "cell_type": "markdown",
   "id": "b7a75b4d",
   "metadata": {},
   "source": [
    "#### random_n := Network with edge probability\n",
    "\n",
    "We create networks with edge probability from 0.01 to 1.00 (Completed)"
   ]
  },
  {
   "cell_type": "code",
   "execution_count": 5,
   "id": "77232f22",
   "metadata": {},
   "outputs": [],
   "source": [
    "class RandomNetwork(RoundRobinNetwork):\n",
    "    \"\"\"\n",
    "    Choses each of the possible [n(n-1)]/2 edges with probability p.\n",
    "    \"\"\"\n",
    "    \n",
    "    def __init__(self, **kwargs):\n",
    "        super().__init__(**kwargs)\n",
    "        self.edge_probability = kwargs.get(\"edge_probability\", 1)\n",
    "    \n",
    "    def fill_graph(self):\n",
    "        if self.data is None:\n",
    "            graph = nx.MultiDiGraph()\n",
    "        else:\n",
    "            graph = self.data\n",
    "            \n",
    "        current_edges = 0\n",
    "        n_list = [n for n in range(self.n_teams)]\n",
    "        graph.add_nodes_from([n for n in range(self.n_teams)])\n",
    "        \n",
    "        for u in range(self.n_teams):\n",
    "            for v in range(u+1, self.n_teams):\n",
    "                if random.random() < self.edge_probability:\n",
    "                    n_round = max(graph.degree[v], graph.degree[u])\n",
    "                    graph.add_edge(u,v, season=0, round=n_round, day=self.days_between_rounds * n_round)\n",
    "        self.data = graph "
   ]
  },
  {
   "cell_type": "code",
   "execution_count": 6,
   "id": "7cd16e67",
   "metadata": {},
   "outputs": [],
   "source": [
    "random_n = RandomNetwork(\n",
    "        teams=500,\n",
    "        days_between_rounds=3,   \n",
    "        edge_probability=1,\n",
    "        true_rating=true_rating\n",
    "    )\n",
    "random_n.create_data()\n",
    "random_n.play()\n",
    "networks_list = [random_n]"
   ]
  },
  {
   "cell_type": "code",
   "execution_count": null,
   "id": "d0a20e9b",
   "metadata": {},
   "outputs": [],
   "source": [
    "networks_list = []\n",
    "for prob in np.arange(0.01, 1.01, 0.01):\n",
    "    random_n = RandomNetwork(\n",
    "        teams=128,\n",
    "        days_between_rounds=3,   \n",
    "        edge_probability=prob,\n",
    "        true_rating=true_rating\n",
    "    )\n",
    "    random_n.create_data()\n",
    "    random_n.play()\n",
    "    networks_list.append(random_n)"
   ]
  },
  {
   "cell_type": "code",
   "execution_count": null,
   "id": "0a65a16b",
   "metadata": {},
   "outputs": [],
   "source": [
    "print(len(networks_list[99].data.edges))\n",
    "networks_list[99].edge_probability"
   ]
  },
  {
   "cell_type": "markdown",
   "id": "2ae47bad",
   "metadata": {},
   "source": [
    "## Explore networks"
   ]
  },
  {
   "cell_type": "code",
   "execution_count": null,
   "id": "a2bdf57b",
   "metadata": {},
   "outputs": [],
   "source": [
    "network_explorer = DFGWidgets.NetworkExplorer(network=random_n)"
   ]
  },
  {
   "cell_type": "code",
   "execution_count": null,
   "id": "9d7a6438",
   "metadata": {
    "tags": []
   },
   "outputs": [],
   "source": [
    "network_explorer.run('inline')"
   ]
  },
  {
   "cell_type": "markdown",
   "id": "ada8aacd",
   "metadata": {},
   "source": [
    "### ELO Rating to the networks with RPS evaluation"
   ]
  },
  {
   "cell_type": "code",
   "execution_count": 7,
   "id": "e0c518f0",
   "metadata": {},
   "outputs": [],
   "source": [
    "elo = ELORating(**{\n",
    "    \"trained\": True,\n",
    "})\n",
    "elo_forecast = LogFunctionForecast(\n",
    "    outcomes=['home', 'draw', 'away'],\n",
    "    coefficients=[-0.9, 0.3],\n",
    "    beta_parameter=0.006\n",
    ")\n",
    "rps = RankProbabilityScore(\n",
    "    outcomes=['home', 'draw', 'away'],\n",
    "    forecast_name='elo_forecast'\n",
    ")"
   ]
  },
  {
   "cell_type": "code",
   "execution_count": 8,
   "id": "f2d4f149",
   "metadata": {},
   "outputs": [],
   "source": [
    "for n in networks_list:\n",
    "    n.add_rating(rating=elo, rating_name='elo_rating')\n",
    "    n.add_forecast(forecast=elo_forecast, forecast_name='elo_forecast', base_ranking=\"elo_rating\")\n",
    "    n.add_evaluation(rps, \"elo_rating\")"
   ]
  },
  {
   "cell_type": "markdown",
   "id": "25b5ce9c",
   "metadata": {},
   "source": [
    "## Results"
   ]
  },
  {
   "cell_type": "code",
   "execution_count": 9,
   "id": "9c59e05e",
   "metadata": {},
   "outputs": [],
   "source": [
    "ratings_explorer = DFGWidgets.RatingsEvaluation(network=networks_list[0])"
   ]
  },
  {
   "cell_type": "code",
   "execution_count": 10,
   "id": "f0f699d3",
   "metadata": {
    "tags": []
   },
   "outputs": [
    {
     "data": {
      "text/html": [
       "\n",
       "        <iframe\n",
       "            width=\"100%\"\n",
       "            height=\"650\"\n",
       "            src=\"http://127.0.0.1:8051/\"\n",
       "            frameborder=\"0\"\n",
       "            allowfullscreen\n",
       "        ></iframe>\n",
       "        "
      ],
      "text/plain": [
       "<IPython.lib.display.IFrame at 0x7fc301e5ca90>"
      ]
     },
     "metadata": {},
     "output_type": "display_data"
    },
    {
     "name": "stdout",
     "output_type": "stream",
     "text": [
      "Selected teams : None\n",
      "Selected teams : None\n",
      "Selected teams : None\n",
      "Selected teams : [0]\n",
      "Selected teams : []\n"
     ]
    }
   ],
   "source": [
    "ratings_explorer.run('inline', port=8051)"
   ]
  },
  {
   "cell_type": "code",
   "execution_count": null,
   "id": "f8f580af",
   "metadata": {},
   "outputs": [],
   "source": []
  }
 ],
 "metadata": {
  "kernelspec": {
   "display_name": "Python 3",
   "language": "python",
   "name": "python3"
  },
  "language_info": {
   "codemirror_mode": {
    "name": "ipython",
    "version": 3
   },
   "file_extension": ".py",
   "mimetype": "text/x-python",
   "name": "python",
   "nbconvert_exporter": "python",
   "pygments_lexer": "ipython3",
   "version": "3.6.10"
  }
 },
 "nbformat": 4,
 "nbformat_minor": 5
}
