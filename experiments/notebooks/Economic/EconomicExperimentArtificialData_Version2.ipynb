{
 "cells": [
  {
   "cell_type": "markdown",
   "id": "06199c3d",
   "metadata": {},
   "source": [
    "# Economic Experiment"
   ]
  },
  {
   "cell_type": "markdown",
   "id": "8950792c",
   "metadata": {},
   "source": [
    "Add description of the experiment here"
   ]
  },
  {
   "cell_type": "markdown",
   "id": "d3456247",
   "metadata": {},
   "source": [
    "## Import Statements"
   ]
  },
  {
   "cell_type": "code",
   "execution_count": 1,
   "id": "339113cd",
   "metadata": {
    "collapsed": false,
    "jupyter": {
     "outputs_hidden": false
    },
    "pycharm": {
     "name": "#%%\n"
    }
   },
   "outputs": [],
   "source": [
    "from dfg_rating.model import factory\n",
    "from dfg_rating.model.betting.betting import FixedBetting\n",
    "from dfg_rating.model.betting.betting import KellyBetting\n",
    "from dfg_rating.model.bookmaker.base_bookmaker import BaseBookmaker\n",
    "from dfg_rating.model.evaluators.accuracy import RankProbabilityScore, Likelihood, ProbabilityDifference, ProbabilityPointer, FavouriteProbability\n",
    "from dfg_rating.model.evaluators.profitability import BettingReturnsEvaluator\n",
    "from dfg_rating.model.evaluators.base_evaluators import BettingActivity\n",
    "from dfg_rating.model.forecast.true_forecast import LogFunctionForecast\n",
    "from dfg_rating.model.network.base_network import BaseNetwork\n",
    "from dfg_rating.model.rating.controlled_trend_rating import ControlledTrendRating, ControlledRandomFunction\n",
    "\n",
    "#specify rating error\n",
    "from dfg_rating.model.rating.base_rating import RatingFunctionError\n",
    "\n",
    "from dfg_rating.logic.controller import Controller\n",
    "import pandas as pd\n",
    "import numpy as np\n",
    "import time\n",
    "import math\n",
    "from tqdm import tqdm\n",
    "import itertools as it\n",
    "\n",
    "pd.set_option('display.max_columns', None)\n",
    "pd.set_option('display.max_rows', None)\n",
    "pd.options.display.width = None\n",
    "pd.set_option('display.float_format', lambda x: '%.5f' % x)"
   ]
  },
  {
   "cell_type": "markdown",
   "id": "889f73fc",
   "metadata": {},
   "source": [
    "## Experiment configuration"
   ]
  },
  {
   "cell_type": "markdown",
   "id": "bf00ed85",
   "metadata": {},
   "source": [
    "Two main things: The controller is the helper that includes the functions to load and save networks. A configuration object with the parameters of the experiment, more cells can be created with different configurations."
   ]
  },
  {
   "cell_type": "code",
   "execution_count": 2,
   "id": "0d6600d5",
   "metadata": {
    "collapsed": false,
    "jupyter": {
     "outputs_hidden": false
    },
    "pycharm": {
     "name": "#%%\n"
    }
   },
   "outputs": [],
   "source": [
    "main_controller = Controller()"
   ]
  },
  {
   "cell_type": "code",
   "execution_count": 3,
   "id": "8e50f718",
   "metadata": {},
   "outputs": [],
   "source": [
    "experimentA = dict(\n",
    "    test_name=\"ExperimentA\", create_data=True,\n",
    "    bookmaker_error1 = 0.0, bookmaker_margin1 = 0.00,\n",
    "    bookmaker_error2 = 0.0, bookmaker_margin2 = 0.10,\n",
    "    bookmaker_error3 = 0.0, bookmaker_margin3 = 0.20,\n",
    "    betting_bankrole=100,\n",
    "    rating_error_loc=0, rating_error_scale=50,\n",
    "    bookmaker_rating_error_loc=0, bookmaker_rating_error_scale=25,\n",
    "    number_of_leagues=40,\n",
    "    #number_of_leagues=1,\n",
    "    number_of_teams=4,\n",
    "    #number_of_teams=4, \n",
    "    number_of_seasons=10,\n",
    "    #number_of_seasons=1,\n",
    "    true_forecast=dict(\n",
    "        coefficients=[-0.9,0.3],\n",
    "        beta=0.006\n",
    "    ),\n",
    "    bookmaker_forecast=dict(\n",
    "        coefficients=[-1.2, 0.0],\n",
    "        beta=0.006\n",
    "    ),\n",
    "    in_sample_maximum=5,\n",
    "    number_of_splits=20\n",
    ")"
   ]
  },
  {
   "cell_type": "code",
   "execution_count": null,
   "id": "cf8c2a95",
   "metadata": {},
   "outputs": [],
   "source": [
    "experimentB = dict(\n",
    "    test_name=\"ExperimentB\", create_data=True,\n",
    "    bookmaker_error1 = 0.0, bookmaker_margin1 = 0.00,\n",
    "    bookmaker_error2 = 0.0, bookmaker_margin2 = 0.10,\n",
    "    bookmaker_error3 = 0.0, bookmaker_margin3 = 0.20,\n",
    "    betting_bankrole=100,\n",
    "    rating_error_loc=0, rating_error_scale=50,\n",
    "    bookmaker_rating_error_loc=0, bookmaker_rating_error_scale=25,\n",
    "    number_of_leagues=40,\n",
    "    number_of_teams=20, number_of_seasons=10,\n",
    "    true_forecast=dict(\n",
    "        coefficients=[-0.9,0.3],\n",
    "        beta=0.006\n",
    "    ),\n",
    "    bookmaker_forecast=dict(\n",
    "        coefficients=[-0.8, 0.2],\n",
    "        beta=0.006\n",
    "    ),\n",
    "    in_sample_maximum=5,\n",
    "    number_of_splits=20\n",
    ")"
   ]
  },
  {
   "cell_type": "code",
   "execution_count": null,
   "id": "7054a26d",
   "metadata": {},
   "outputs": [],
   "source": [
    "experimentC = dict(\n",
    "    test_name=\"ExperimentC\", create_data=True,\n",
    "    bookmaker_error1 = 0.0, bookmaker_margin1 = 0.00,\n",
    "    bookmaker_error2 = 0.0, bookmaker_margin2 = 0.10,\n",
    "    bookmaker_error3 = 0.0, bookmaker_margin3 = 0.20,\n",
    "    betting_bankrole=100,\n",
    "    rating_error_loc=0, rating_error_scale=50,\n",
    "    bookmaker_rating_error_loc=0, bookmaker_rating_error_scale=25,\n",
    "    number_of_leagues=40,\n",
    "    number_of_teams=20, number_of_seasons=10,\n",
    "    true_forecast=dict(\n",
    "        coefficients=[-0.9,0.3],\n",
    "        beta=0.006\n",
    "    ),\n",
    "    bookmaker_forecast=dict(\n",
    "        coefficients=[-0.8, 0.4],\n",
    "        beta=0.004\n",
    "    ),\n",
    "    in_sample_maximum=5,\n",
    "    number_of_splits=20\n",
    ")"
   ]
  },
  {
   "cell_type": "markdown",
   "id": "2a2e0ed0",
   "metadata": {},
   "source": [
    "### !!Select the right config"
   ]
  },
  {
   "cell_type": "code",
   "execution_count": 4,
   "id": "55c28f28",
   "metadata": {},
   "outputs": [],
   "source": [
    "# The desired config is stored at config\n",
    "config = experimentA"
   ]
  },
  {
   "cell_type": "markdown",
   "id": "7d4e4a1d",
   "metadata": {
    "tags": []
   },
   "source": [
    "## External actors"
   ]
  },
  {
   "cell_type": "markdown",
   "id": "a8f89144",
   "metadata": {},
   "source": [
    "We create several bookmakers and a betting strategy that are going to interact with the generated networks."
   ]
  },
  {
   "cell_type": "code",
   "execution_count": 5,
   "id": "4365351c",
   "metadata": {
    "tags": []
   },
   "outputs": [],
   "source": [
    "bookmaker1: BaseBookmaker = factory.new_bookmaker(\n",
    "    'simple',\n",
    "    error=factory.new_forecast_error(error_type='factor', error=config[\"bookmaker_error1\"], scope='positive'),\n",
    "    margin=factory.new_bookmaker_margin('simple', margin=config[\"bookmaker_margin1\"])\n",
    ")\n",
    "bookmaker2: BaseBookmaker = factory.new_bookmaker(\n",
    "    'simple',\n",
    "    error=factory.new_forecast_error(error_type='factor', error=config[\"bookmaker_error2\"], scope='positive'),\n",
    "    margin=factory.new_bookmaker_margin('simple', margin=config[\"bookmaker_margin2\"])\n",
    ")\n",
    "bookmaker3: BaseBookmaker = factory.new_bookmaker(\n",
    "    'simple',\n",
    "    error=factory.new_forecast_error(error_type='factor', error=config[\"bookmaker_error3\"], scope='positive'),\n",
    "    margin=factory.new_bookmaker_margin('simple', margin=config[\"bookmaker_margin3\"])\n",
    ")"
   ]
  },
  {
   "cell_type": "code",
   "execution_count": 6,
   "id": "60573841",
   "metadata": {
    "tags": []
   },
   "outputs": [],
   "source": [
    "bettingFixed = FixedBetting(config[\"betting_bankrole\"])\n",
    "bettingKelly = KellyBetting(config[\"betting_bankrole\"])"
   ]
  },
  {
   "cell_type": "markdown",
   "id": "d021c8af",
   "metadata": {},
   "source": [
    "We also create an error rating that we are going to use for the calculated forecasts"
   ]
  },
  {
   "cell_type": "code",
   "execution_count": 7,
   "id": "0e6595bd",
   "metadata": {
    "tags": []
   },
   "outputs": [],
   "source": [
    "rating_error = RatingFunctionError(error='normal', loc=config[\"rating_error_loc\"], scale=config[\"rating_error_scale\"])\n",
    "rating_error_bookmaker = RatingFunctionError(error='normal', loc=config[\"bookmaker_rating_error_loc\"], scale=config[\"bookmaker_rating_error_scale\"])"
   ]
  },
  {
   "cell_type": "markdown",
   "id": "14a1ab7a",
   "metadata": {},
   "source": [
    "## Generation of networks"
   ]
  },
  {
   "cell_type": "markdown",
   "id": "04673e0f",
   "metadata": {},
   "source": [
    "Configure the number of leagues for the experiment:"
   ]
  },
  {
   "cell_type": "code",
   "execution_count": 8,
   "id": "a6a4133c",
   "metadata": {
    "tags": []
   },
   "outputs": [],
   "source": [
    "numberLeagues = config[\"number_of_leagues\"]"
   ]
  },
  {
   "cell_type": "markdown",
   "id": "a2a40ff4",
   "metadata": {},
   "source": [
    "For every league, we generate the schedule of matches and true dimensions and we add odds for each game."
   ]
  },
  {
   "cell_type": "code",
   "execution_count": 9,
   "id": "190a765b",
   "metadata": {},
   "outputs": [],
   "source": [
    "networks = []"
   ]
  },
  {
   "cell_type": "code",
   "execution_count": 10,
   "id": "659fc3e3",
   "metadata": {
    "tags": []
   },
   "outputs": [
    {
     "name": "stdout",
     "output_type": "stream",
     "text": [
      "Season 0\n",
      "0\n",
      "<dfg_rating.model.network.multiple_network.LeagueNetwork object at 0x7fd40e606b00>\n",
      "0 current_season\n",
      "first season\n",
      "first season\n",
      "first season\n",
      "first season\n",
      "0\n",
      "<dfg_rating.model.network.multiple_network.LeagueNetwork object at 0x7fd40e606b00>\n",
      "Season 1\n",
      "1\n",
      "<dfg_rating.model.network.multiple_network.LeagueNetwork object at 0x7fd40e606b00>\n",
      "1 current_season\n",
      "1\n",
      "<dfg_rating.model.network.multiple_network.LeagueNetwork object at 0x7fd40e606b00>\n",
      "Season 2\n",
      "2\n",
      "<dfg_rating.model.network.multiple_network.LeagueNetwork object at 0x7fd40e606b00>\n",
      "2 current_season\n",
      "2\n",
      "<dfg_rating.model.network.multiple_network.LeagueNetwork object at 0x7fd40e606b00>\n",
      "Season 3\n",
      "3\n",
      "<dfg_rating.model.network.multiple_network.LeagueNetwork object at 0x7fd40e606b00>\n",
      "3 current_season\n",
      "3\n",
      "<dfg_rating.model.network.multiple_network.LeagueNetwork object at 0x7fd40e606b00>\n",
      "Season 4\n",
      "4\n",
      "<dfg_rating.model.network.multiple_network.LeagueNetwork object at 0x7fd40e606b00>\n",
      "4 current_season\n",
      "4\n",
      "<dfg_rating.model.network.multiple_network.LeagueNetwork object at 0x7fd40e606b00>\n",
      "Season 5\n",
      "5\n",
      "<dfg_rating.model.network.multiple_network.LeagueNetwork object at 0x7fd40e606b00>\n",
      "5 current_season\n",
      "5\n",
      "<dfg_rating.model.network.multiple_network.LeagueNetwork object at 0x7fd40e606b00>\n",
      "Season 6\n",
      "6\n",
      "<dfg_rating.model.network.multiple_network.LeagueNetwork object at 0x7fd40e606b00>\n",
      "6 current_season\n",
      "6\n",
      "<dfg_rating.model.network.multiple_network.LeagueNetwork object at 0x7fd40e606b00>\n",
      "Season 7\n",
      "7\n",
      "<dfg_rating.model.network.multiple_network.LeagueNetwork object at 0x7fd40e606b00>\n",
      "7 current_season\n",
      "7\n",
      "<dfg_rating.model.network.multiple_network.LeagueNetwork object at 0x7fd40e606b00>\n",
      "Season 8\n",
      "8\n",
      "<dfg_rating.model.network.multiple_network.LeagueNetwork object at 0x7fd40e606b00>\n",
      "8 current_season\n",
      "8\n",
      "<dfg_rating.model.network.multiple_network.LeagueNetwork object at 0x7fd40e606b00>\n",
      "Season 9\n",
      "9\n",
      "<dfg_rating.model.network.multiple_network.LeagueNetwork object at 0x7fd40e606b00>\n",
      "9 current_season\n",
      "9\n",
      "<dfg_rating.model.network.multiple_network.LeagueNetwork object at 0x7fd40e606b00>\n",
      "Season 0\n",
      "0\n",
      "<dfg_rating.model.network.multiple_network.LeagueNetwork object at 0x7fd40e576518>\n",
      "0 current_season\n",
      "first season\n",
      "first season\n",
      "first season\n",
      "first season\n",
      "0\n",
      "<dfg_rating.model.network.multiple_network.LeagueNetwork object at 0x7fd40e576518>\n",
      "Season 1\n",
      "1\n",
      "<dfg_rating.model.network.multiple_network.LeagueNetwork object at 0x7fd40e576518>\n",
      "1 current_season\n",
      "1\n",
      "<dfg_rating.model.network.multiple_network.LeagueNetwork object at 0x7fd40e576518>\n",
      "Season 2\n",
      "2\n",
      "<dfg_rating.model.network.multiple_network.LeagueNetwork object at 0x7fd40e576518>\n",
      "2 current_season\n",
      "2\n",
      "<dfg_rating.model.network.multiple_network.LeagueNetwork object at 0x7fd40e576518>\n",
      "Season 3\n",
      "3\n",
      "<dfg_rating.model.network.multiple_network.LeagueNetwork object at 0x7fd40e576518>\n",
      "3 current_season\n",
      "3\n",
      "<dfg_rating.model.network.multiple_network.LeagueNetwork object at 0x7fd40e576518>\n",
      "Season 4\n",
      "4\n",
      "<dfg_rating.model.network.multiple_network.LeagueNetwork object at 0x7fd40e576518>\n",
      "4 current_season\n",
      "4\n",
      "<dfg_rating.model.network.multiple_network.LeagueNetwork object at 0x7fd40e576518>\n",
      "Season 5\n",
      "5\n",
      "<dfg_rating.model.network.multiple_network.LeagueNetwork object at 0x7fd40e576518>\n",
      "5 current_season\n",
      "5\n",
      "<dfg_rating.model.network.multiple_network.LeagueNetwork object at 0x7fd40e576518>\n",
      "Season 6\n",
      "6\n",
      "<dfg_rating.model.network.multiple_network.LeagueNetwork object at 0x7fd40e576518>\n",
      "6 current_season\n",
      "6\n",
      "<dfg_rating.model.network.multiple_network.LeagueNetwork object at 0x7fd40e576518>\n",
      "Season 7\n",
      "7\n",
      "<dfg_rating.model.network.multiple_network.LeagueNetwork object at 0x7fd40e576518>\n",
      "7 current_season\n",
      "7\n",
      "<dfg_rating.model.network.multiple_network.LeagueNetwork object at 0x7fd40e576518>\n",
      "Season 8\n",
      "8\n",
      "<dfg_rating.model.network.multiple_network.LeagueNetwork object at 0x7fd40e576518>\n",
      "8 current_season\n",
      "8\n",
      "<dfg_rating.model.network.multiple_network.LeagueNetwork object at 0x7fd40e576518>\n",
      "Season 9\n",
      "9\n",
      "<dfg_rating.model.network.multiple_network.LeagueNetwork object at 0x7fd40e576518>\n",
      "9 current_season\n",
      "9\n",
      "<dfg_rating.model.network.multiple_network.LeagueNetwork object at 0x7fd40e576518>\n",
      "Season 0\n",
      "0\n",
      "<dfg_rating.model.network.multiple_network.LeagueNetwork object at 0x7fd40e5b1eb8>\n",
      "0 current_season\n",
      "first season\n",
      "first season\n",
      "first season\n",
      "first season\n",
      "0\n",
      "<dfg_rating.model.network.multiple_network.LeagueNetwork object at 0x7fd40e5b1eb8>\n",
      "Season 1\n",
      "1\n",
      "<dfg_rating.model.network.multiple_network.LeagueNetwork object at 0x7fd40e5b1eb8>\n",
      "1 current_season\n",
      "1\n",
      "<dfg_rating.model.network.multiple_network.LeagueNetwork object at 0x7fd40e5b1eb8>\n",
      "Season 2\n",
      "2\n",
      "<dfg_rating.model.network.multiple_network.LeagueNetwork object at 0x7fd40e5b1eb8>\n",
      "2 current_season\n",
      "2\n",
      "<dfg_rating.model.network.multiple_network.LeagueNetwork object at 0x7fd40e5b1eb8>\n",
      "Season 3\n",
      "3\n",
      "<dfg_rating.model.network.multiple_network.LeagueNetwork object at 0x7fd40e5b1eb8>\n",
      "3 current_season\n",
      "3\n",
      "<dfg_rating.model.network.multiple_network.LeagueNetwork object at 0x7fd40e5b1eb8>\n",
      "Season 4\n",
      "4\n",
      "<dfg_rating.model.network.multiple_network.LeagueNetwork object at 0x7fd40e5b1eb8>\n",
      "4 current_season\n",
      "4\n",
      "<dfg_rating.model.network.multiple_network.LeagueNetwork object at 0x7fd40e5b1eb8>\n",
      "Season 5\n",
      "5\n",
      "<dfg_rating.model.network.multiple_network.LeagueNetwork object at 0x7fd40e5b1eb8>\n",
      "5 current_season\n",
      "5\n",
      "<dfg_rating.model.network.multiple_network.LeagueNetwork object at 0x7fd40e5b1eb8>\n",
      "Season 6\n",
      "6\n",
      "<dfg_rating.model.network.multiple_network.LeagueNetwork object at 0x7fd40e5b1eb8>\n",
      "6 current_season\n",
      "6\n",
      "<dfg_rating.model.network.multiple_network.LeagueNetwork object at 0x7fd40e5b1eb8>\n",
      "Season 7\n",
      "7\n",
      "<dfg_rating.model.network.multiple_network.LeagueNetwork object at 0x7fd40e5b1eb8>\n",
      "7 current_season\n",
      "7\n",
      "<dfg_rating.model.network.multiple_network.LeagueNetwork object at 0x7fd40e5b1eb8>\n",
      "Season 8\n",
      "8\n",
      "<dfg_rating.model.network.multiple_network.LeagueNetwork object at 0x7fd40e5b1eb8>\n",
      "8 current_season\n",
      "8\n",
      "<dfg_rating.model.network.multiple_network.LeagueNetwork object at 0x7fd40e5b1eb8>\n",
      "Season 9\n",
      "9\n",
      "<dfg_rating.model.network.multiple_network.LeagueNetwork object at 0x7fd40e5b1eb8>\n",
      "9 current_season\n",
      "9\n",
      "<dfg_rating.model.network.multiple_network.LeagueNetwork object at 0x7fd40e5b1eb8>\n",
      "Season 0\n",
      "0\n",
      "<dfg_rating.model.network.multiple_network.LeagueNetwork object at 0x7fd40e4ba828>\n",
      "0 current_season\n",
      "first season\n",
      "first season\n",
      "first season\n",
      "first season\n",
      "0\n",
      "<dfg_rating.model.network.multiple_network.LeagueNetwork object at 0x7fd40e4ba828>\n",
      "Season 1\n",
      "1\n",
      "<dfg_rating.model.network.multiple_network.LeagueNetwork object at 0x7fd40e4ba828>\n",
      "1 current_season\n",
      "1\n",
      "<dfg_rating.model.network.multiple_network.LeagueNetwork object at 0x7fd40e4ba828>\n",
      "Season 2\n",
      "2\n",
      "<dfg_rating.model.network.multiple_network.LeagueNetwork object at 0x7fd40e4ba828>\n",
      "2 current_season\n",
      "2\n",
      "<dfg_rating.model.network.multiple_network.LeagueNetwork object at 0x7fd40e4ba828>\n",
      "Season 3\n",
      "3\n",
      "<dfg_rating.model.network.multiple_network.LeagueNetwork object at 0x7fd40e4ba828>\n",
      "3 current_season\n",
      "3\n",
      "<dfg_rating.model.network.multiple_network.LeagueNetwork object at 0x7fd40e4ba828>\n",
      "Season 4\n",
      "4\n",
      "<dfg_rating.model.network.multiple_network.LeagueNetwork object at 0x7fd40e4ba828>\n",
      "4 current_season\n",
      "4\n",
      "<dfg_rating.model.network.multiple_network.LeagueNetwork object at 0x7fd40e4ba828>\n",
      "Season 5\n",
      "5\n",
      "<dfg_rating.model.network.multiple_network.LeagueNetwork object at 0x7fd40e4ba828>\n",
      "5 current_season\n",
      "5\n",
      "<dfg_rating.model.network.multiple_network.LeagueNetwork object at 0x7fd40e4ba828>\n",
      "Season 6\n",
      "6\n",
      "<dfg_rating.model.network.multiple_network.LeagueNetwork object at 0x7fd40e4ba828>\n",
      "6 current_season\n",
      "6\n",
      "<dfg_rating.model.network.multiple_network.LeagueNetwork object at 0x7fd40e4ba828>\n",
      "Season 7\n",
      "7\n",
      "<dfg_rating.model.network.multiple_network.LeagueNetwork object at 0x7fd40e4ba828>\n",
      "7 current_season\n",
      "7\n",
      "<dfg_rating.model.network.multiple_network.LeagueNetwork object at 0x7fd40e4ba828>\n",
      "Season 8\n",
      "8\n",
      "<dfg_rating.model.network.multiple_network.LeagueNetwork object at 0x7fd40e4ba828>\n",
      "8 current_season\n",
      "8\n",
      "<dfg_rating.model.network.multiple_network.LeagueNetwork object at 0x7fd40e4ba828>\n",
      "Season 9\n",
      "9\n",
      "<dfg_rating.model.network.multiple_network.LeagueNetwork object at 0x7fd40e4ba828>\n",
      "9 current_season\n",
      "9\n",
      "<dfg_rating.model.network.multiple_network.LeagueNetwork object at 0x7fd40e4ba828>\n",
      "Season 0\n",
      "0\n",
      "<dfg_rating.model.network.multiple_network.LeagueNetwork object at 0x7fd40e4929e8>\n",
      "0 current_season\n",
      "first season\n",
      "first season\n",
      "first season\n",
      "first season\n",
      "0\n",
      "<dfg_rating.model.network.multiple_network.LeagueNetwork object at 0x7fd40e4929e8>\n",
      "Season 1\n",
      "1\n",
      "<dfg_rating.model.network.multiple_network.LeagueNetwork object at 0x7fd40e4929e8>\n",
      "1 current_season\n",
      "1\n",
      "<dfg_rating.model.network.multiple_network.LeagueNetwork object at 0x7fd40e4929e8>\n",
      "Season 2\n",
      "2\n",
      "<dfg_rating.model.network.multiple_network.LeagueNetwork object at 0x7fd40e4929e8>\n",
      "2 current_season\n",
      "2\n",
      "<dfg_rating.model.network.multiple_network.LeagueNetwork object at 0x7fd40e4929e8>\n",
      "Season 3\n",
      "3\n",
      "<dfg_rating.model.network.multiple_network.LeagueNetwork object at 0x7fd40e4929e8>\n",
      "3 current_season\n",
      "3\n",
      "<dfg_rating.model.network.multiple_network.LeagueNetwork object at 0x7fd40e4929e8>\n",
      "Season 4\n",
      "4\n",
      "<dfg_rating.model.network.multiple_network.LeagueNetwork object at 0x7fd40e4929e8>\n",
      "4 current_season\n",
      "4\n",
      "<dfg_rating.model.network.multiple_network.LeagueNetwork object at 0x7fd40e4929e8>\n",
      "Season 5\n",
      "5\n",
      "<dfg_rating.model.network.multiple_network.LeagueNetwork object at 0x7fd40e4929e8>\n",
      "5 current_season\n",
      "5\n",
      "<dfg_rating.model.network.multiple_network.LeagueNetwork object at 0x7fd40e4929e8>\n",
      "Season 6\n",
      "6\n",
      "<dfg_rating.model.network.multiple_network.LeagueNetwork object at 0x7fd40e4929e8>\n",
      "6 current_season\n",
      "6\n",
      "<dfg_rating.model.network.multiple_network.LeagueNetwork object at 0x7fd40e4929e8>\n",
      "Season 7\n",
      "7\n",
      "<dfg_rating.model.network.multiple_network.LeagueNetwork object at 0x7fd40e4929e8>\n",
      "7 current_season\n",
      "7\n",
      "<dfg_rating.model.network.multiple_network.LeagueNetwork object at 0x7fd40e4929e8>\n",
      "Season 8\n",
      "8\n",
      "<dfg_rating.model.network.multiple_network.LeagueNetwork object at 0x7fd40e4929e8>\n",
      "8 current_season\n",
      "8\n",
      "<dfg_rating.model.network.multiple_network.LeagueNetwork object at 0x7fd40e4929e8>\n",
      "Season 9\n",
      "9\n",
      "<dfg_rating.model.network.multiple_network.LeagueNetwork object at 0x7fd40e4929e8>\n",
      "9 current_season\n",
      "9\n",
      "<dfg_rating.model.network.multiple_network.LeagueNetwork object at 0x7fd40e4929e8>\n",
      "Season 0\n",
      "0\n",
      "<dfg_rating.model.network.multiple_network.LeagueNetwork object at 0x7fd40e3eccc0>\n",
      "0 current_season\n",
      "first season\n",
      "first season\n",
      "first season\n",
      "first season\n",
      "0\n",
      "<dfg_rating.model.network.multiple_network.LeagueNetwork object at 0x7fd40e3eccc0>\n",
      "Season 1\n",
      "1\n",
      "<dfg_rating.model.network.multiple_network.LeagueNetwork object at 0x7fd40e3eccc0>\n",
      "1 current_season\n",
      "1\n",
      "<dfg_rating.model.network.multiple_network.LeagueNetwork object at 0x7fd40e3eccc0>\n",
      "Season 2\n",
      "2\n",
      "<dfg_rating.model.network.multiple_network.LeagueNetwork object at 0x7fd40e3eccc0>\n",
      "2 current_season\n",
      "2\n",
      "<dfg_rating.model.network.multiple_network.LeagueNetwork object at 0x7fd40e3eccc0>\n",
      "Season 3\n",
      "3\n",
      "<dfg_rating.model.network.multiple_network.LeagueNetwork object at 0x7fd40e3eccc0>\n",
      "3 current_season\n",
      "3\n",
      "<dfg_rating.model.network.multiple_network.LeagueNetwork object at 0x7fd40e3eccc0>\n",
      "Season 4\n",
      "4\n",
      "<dfg_rating.model.network.multiple_network.LeagueNetwork object at 0x7fd40e3eccc0>\n",
      "4 current_season\n",
      "4\n",
      "<dfg_rating.model.network.multiple_network.LeagueNetwork object at 0x7fd40e3eccc0>\n",
      "Season 5\n",
      "5\n",
      "<dfg_rating.model.network.multiple_network.LeagueNetwork object at 0x7fd40e3eccc0>\n",
      "5 current_season\n",
      "5\n",
      "<dfg_rating.model.network.multiple_network.LeagueNetwork object at 0x7fd40e3eccc0>\n",
      "Season 6\n",
      "6\n",
      "<dfg_rating.model.network.multiple_network.LeagueNetwork object at 0x7fd40e3eccc0>\n",
      "6 current_season\n",
      "6\n",
      "<dfg_rating.model.network.multiple_network.LeagueNetwork object at 0x7fd40e3eccc0>\n",
      "Season 7\n",
      "7\n",
      "<dfg_rating.model.network.multiple_network.LeagueNetwork object at 0x7fd40e3eccc0>\n",
      "7 current_season\n",
      "7\n",
      "<dfg_rating.model.network.multiple_network.LeagueNetwork object at 0x7fd40e3eccc0>\n",
      "Season 8\n",
      "8\n",
      "<dfg_rating.model.network.multiple_network.LeagueNetwork object at 0x7fd40e3eccc0>\n",
      "8 current_season\n",
      "8\n",
      "<dfg_rating.model.network.multiple_network.LeagueNetwork object at 0x7fd40e3eccc0>\n",
      "Season 9\n",
      "9\n",
      "<dfg_rating.model.network.multiple_network.LeagueNetwork object at 0x7fd40e3eccc0>\n",
      "9 current_season\n",
      "9\n",
      "<dfg_rating.model.network.multiple_network.LeagueNetwork object at 0x7fd40e3eccc0>\n",
      "Season 0\n",
      "0\n",
      "<dfg_rating.model.network.multiple_network.LeagueNetwork object at 0x7fd40e3c2eb8>\n",
      "0 current_season\n",
      "first season\n",
      "first season\n",
      "first season\n",
      "first season\n",
      "0\n",
      "<dfg_rating.model.network.multiple_network.LeagueNetwork object at 0x7fd40e3c2eb8>\n",
      "Season 1\n",
      "1\n",
      "<dfg_rating.model.network.multiple_network.LeagueNetwork object at 0x7fd40e3c2eb8>\n",
      "1 current_season\n",
      "1\n",
      "<dfg_rating.model.network.multiple_network.LeagueNetwork object at 0x7fd40e3c2eb8>\n",
      "Season 2\n",
      "2\n",
      "<dfg_rating.model.network.multiple_network.LeagueNetwork object at 0x7fd40e3c2eb8>\n",
      "2 current_season\n",
      "2\n",
      "<dfg_rating.model.network.multiple_network.LeagueNetwork object at 0x7fd40e3c2eb8>\n",
      "Season 3\n",
      "3\n",
      "<dfg_rating.model.network.multiple_network.LeagueNetwork object at 0x7fd40e3c2eb8>\n",
      "3 current_season\n",
      "3\n",
      "<dfg_rating.model.network.multiple_network.LeagueNetwork object at 0x7fd40e3c2eb8>\n",
      "Season 4\n",
      "4\n",
      "<dfg_rating.model.network.multiple_network.LeagueNetwork object at 0x7fd40e3c2eb8>\n",
      "4 current_season\n",
      "4\n",
      "<dfg_rating.model.network.multiple_network.LeagueNetwork object at 0x7fd40e3c2eb8>\n",
      "Season 5\n",
      "5\n",
      "<dfg_rating.model.network.multiple_network.LeagueNetwork object at 0x7fd40e3c2eb8>\n",
      "5 current_season\n",
      "5\n",
      "<dfg_rating.model.network.multiple_network.LeagueNetwork object at 0x7fd40e3c2eb8>\n",
      "Season 6\n",
      "6\n",
      "<dfg_rating.model.network.multiple_network.LeagueNetwork object at 0x7fd40e3c2eb8>\n",
      "6 current_season\n",
      "6\n",
      "<dfg_rating.model.network.multiple_network.LeagueNetwork object at 0x7fd40e3c2eb8>\n",
      "Season 7\n",
      "7\n",
      "<dfg_rating.model.network.multiple_network.LeagueNetwork object at 0x7fd40e3c2eb8>\n",
      "7 current_season\n",
      "7\n",
      "<dfg_rating.model.network.multiple_network.LeagueNetwork object at 0x7fd40e3c2eb8>\n",
      "Season 8\n",
      "8\n",
      "<dfg_rating.model.network.multiple_network.LeagueNetwork object at 0x7fd40e3c2eb8>\n",
      "8 current_season\n",
      "8\n",
      "<dfg_rating.model.network.multiple_network.LeagueNetwork object at 0x7fd40e3c2eb8>\n",
      "Season 9\n",
      "9\n",
      "<dfg_rating.model.network.multiple_network.LeagueNetwork object at 0x7fd40e3c2eb8>\n",
      "9 current_season\n",
      "9\n",
      "<dfg_rating.model.network.multiple_network.LeagueNetwork object at 0x7fd40e3c2eb8>\n",
      "Season 0\n",
      "0\n",
      "<dfg_rating.model.network.multiple_network.LeagueNetwork object at 0x7fd40e3231d0>\n",
      "0 current_season\n",
      "first season\n",
      "first season\n",
      "first season\n",
      "first season\n",
      "0\n",
      "<dfg_rating.model.network.multiple_network.LeagueNetwork object at 0x7fd40e3231d0>\n",
      "Season 1\n",
      "1\n",
      "<dfg_rating.model.network.multiple_network.LeagueNetwork object at 0x7fd40e3231d0>\n",
      "1 current_season\n",
      "1\n",
      "<dfg_rating.model.network.multiple_network.LeagueNetwork object at 0x7fd40e3231d0>\n",
      "Season 2\n",
      "2\n",
      "<dfg_rating.model.network.multiple_network.LeagueNetwork object at 0x7fd40e3231d0>\n",
      "2 current_season\n",
      "2\n",
      "<dfg_rating.model.network.multiple_network.LeagueNetwork object at 0x7fd40e3231d0>\n",
      "Season 3\n",
      "3\n",
      "<dfg_rating.model.network.multiple_network.LeagueNetwork object at 0x7fd40e3231d0>\n",
      "3 current_season\n",
      "3\n",
      "<dfg_rating.model.network.multiple_network.LeagueNetwork object at 0x7fd40e3231d0>\n",
      "Season 4\n",
      "4\n",
      "<dfg_rating.model.network.multiple_network.LeagueNetwork object at 0x7fd40e3231d0>\n",
      "4 current_season\n",
      "4\n",
      "<dfg_rating.model.network.multiple_network.LeagueNetwork object at 0x7fd40e3231d0>\n",
      "Season 5\n",
      "5\n",
      "<dfg_rating.model.network.multiple_network.LeagueNetwork object at 0x7fd40e3231d0>\n",
      "5 current_season\n",
      "5\n",
      "<dfg_rating.model.network.multiple_network.LeagueNetwork object at 0x7fd40e3231d0>\n",
      "Season 6\n",
      "6\n",
      "<dfg_rating.model.network.multiple_network.LeagueNetwork object at 0x7fd40e3231d0>\n",
      "6 current_season\n",
      "6\n",
      "<dfg_rating.model.network.multiple_network.LeagueNetwork object at 0x7fd40e3231d0>\n",
      "Season 7\n",
      "7\n",
      "<dfg_rating.model.network.multiple_network.LeagueNetwork object at 0x7fd40e3231d0>\n",
      "7 current_season\n",
      "7\n",
      "<dfg_rating.model.network.multiple_network.LeagueNetwork object at 0x7fd40e3231d0>\n",
      "Season 8\n",
      "8\n",
      "<dfg_rating.model.network.multiple_network.LeagueNetwork object at 0x7fd40e3231d0>\n",
      "8 current_season\n",
      "8\n",
      "<dfg_rating.model.network.multiple_network.LeagueNetwork object at 0x7fd40e3231d0>\n",
      "Season 9\n",
      "9\n",
      "<dfg_rating.model.network.multiple_network.LeagueNetwork object at 0x7fd40e3231d0>\n",
      "9 current_season\n",
      "9\n",
      "<dfg_rating.model.network.multiple_network.LeagueNetwork object at 0x7fd40e3231d0>\n",
      "Season 0\n",
      "0\n",
      "<dfg_rating.model.network.multiple_network.LeagueNetwork object at 0x7fd40e2fd240>\n",
      "0 current_season\n",
      "first season\n",
      "first season\n",
      "first season\n",
      "first season\n",
      "0\n",
      "<dfg_rating.model.network.multiple_network.LeagueNetwork object at 0x7fd40e2fd240>\n",
      "Season 1\n",
      "1\n",
      "<dfg_rating.model.network.multiple_network.LeagueNetwork object at 0x7fd40e2fd240>\n",
      "1 current_season\n",
      "1\n",
      "<dfg_rating.model.network.multiple_network.LeagueNetwork object at 0x7fd40e2fd240>\n",
      "Season 2\n",
      "2\n",
      "<dfg_rating.model.network.multiple_network.LeagueNetwork object at 0x7fd40e2fd240>\n",
      "2 current_season\n",
      "2\n",
      "<dfg_rating.model.network.multiple_network.LeagueNetwork object at 0x7fd40e2fd240>\n",
      "Season 3\n",
      "3\n",
      "<dfg_rating.model.network.multiple_network.LeagueNetwork object at 0x7fd40e2fd240>\n",
      "3 current_season\n",
      "3\n",
      "<dfg_rating.model.network.multiple_network.LeagueNetwork object at 0x7fd40e2fd240>\n",
      "Season 4\n",
      "4\n",
      "<dfg_rating.model.network.multiple_network.LeagueNetwork object at 0x7fd40e2fd240>\n",
      "4 current_season\n",
      "4\n",
      "<dfg_rating.model.network.multiple_network.LeagueNetwork object at 0x7fd40e2fd240>\n",
      "Season 5\n",
      "5\n",
      "<dfg_rating.model.network.multiple_network.LeagueNetwork object at 0x7fd40e2fd240>\n",
      "5 current_season\n",
      "5\n",
      "<dfg_rating.model.network.multiple_network.LeagueNetwork object at 0x7fd40e2fd240>\n",
      "Season 6\n",
      "6\n",
      "<dfg_rating.model.network.multiple_network.LeagueNetwork object at 0x7fd40e2fd240>\n",
      "6 current_season\n",
      "6\n",
      "<dfg_rating.model.network.multiple_network.LeagueNetwork object at 0x7fd40e2fd240>\n",
      "Season 7\n",
      "7\n",
      "<dfg_rating.model.network.multiple_network.LeagueNetwork object at 0x7fd40e2fd240>\n",
      "7 current_season\n",
      "7\n",
      "<dfg_rating.model.network.multiple_network.LeagueNetwork object at 0x7fd40e2fd240>\n",
      "Season 8\n",
      "8\n",
      "<dfg_rating.model.network.multiple_network.LeagueNetwork object at 0x7fd40e2fd240>\n",
      "8 current_season\n",
      "8\n",
      "<dfg_rating.model.network.multiple_network.LeagueNetwork object at 0x7fd40e2fd240>\n",
      "Season 9\n",
      "9\n",
      "<dfg_rating.model.network.multiple_network.LeagueNetwork object at 0x7fd40e2fd240>\n",
      "9 current_season\n",
      "9\n",
      "<dfg_rating.model.network.multiple_network.LeagueNetwork object at 0x7fd40e2fd240>\n",
      "Season 0\n",
      "0\n",
      "<dfg_rating.model.network.multiple_network.LeagueNetwork object at 0x7fd40e2d5518>\n",
      "0 current_season\n",
      "first season\n",
      "first season\n",
      "first season\n",
      "first season\n",
      "0\n",
      "<dfg_rating.model.network.multiple_network.LeagueNetwork object at 0x7fd40e2d5518>\n",
      "Season 1\n",
      "1\n",
      "<dfg_rating.model.network.multiple_network.LeagueNetwork object at 0x7fd40e2d5518>\n",
      "1 current_season\n",
      "1\n",
      "<dfg_rating.model.network.multiple_network.LeagueNetwork object at 0x7fd40e2d5518>\n",
      "Season 2\n",
      "2\n",
      "<dfg_rating.model.network.multiple_network.LeagueNetwork object at 0x7fd40e2d5518>\n",
      "2 current_season\n",
      "2\n",
      "<dfg_rating.model.network.multiple_network.LeagueNetwork object at 0x7fd40e2d5518>\n",
      "Season 3\n",
      "3\n",
      "<dfg_rating.model.network.multiple_network.LeagueNetwork object at 0x7fd40e2d5518>\n",
      "3 current_season\n",
      "3\n",
      "<dfg_rating.model.network.multiple_network.LeagueNetwork object at 0x7fd40e2d5518>\n",
      "Season 4\n",
      "4\n",
      "<dfg_rating.model.network.multiple_network.LeagueNetwork object at 0x7fd40e2d5518>\n",
      "4 current_season\n",
      "4\n",
      "<dfg_rating.model.network.multiple_network.LeagueNetwork object at 0x7fd40e2d5518>\n",
      "Season 5\n",
      "5\n",
      "<dfg_rating.model.network.multiple_network.LeagueNetwork object at 0x7fd40e2d5518>\n",
      "5 current_season\n",
      "5\n",
      "<dfg_rating.model.network.multiple_network.LeagueNetwork object at 0x7fd40e2d5518>\n",
      "Season 6\n",
      "6\n",
      "<dfg_rating.model.network.multiple_network.LeagueNetwork object at 0x7fd40e2d5518>\n",
      "6 current_season\n",
      "6\n",
      "<dfg_rating.model.network.multiple_network.LeagueNetwork object at 0x7fd40e2d5518>\n",
      "Season 7\n",
      "7\n",
      "<dfg_rating.model.network.multiple_network.LeagueNetwork object at 0x7fd40e2d5518>\n",
      "7 current_season\n",
      "7\n",
      "<dfg_rating.model.network.multiple_network.LeagueNetwork object at 0x7fd40e2d5518>\n",
      "Season 8\n",
      "8\n",
      "<dfg_rating.model.network.multiple_network.LeagueNetwork object at 0x7fd40e2d5518>\n",
      "8 current_season\n",
      "8\n",
      "<dfg_rating.model.network.multiple_network.LeagueNetwork object at 0x7fd40e2d5518>\n",
      "Season 9\n",
      "9\n",
      "<dfg_rating.model.network.multiple_network.LeagueNetwork object at 0x7fd40e2d5518>\n",
      "9 current_season\n",
      "9\n",
      "<dfg_rating.model.network.multiple_network.LeagueNetwork object at 0x7fd40e2d5518>\n",
      "Season 0\n",
      "0\n",
      "<dfg_rating.model.network.multiple_network.LeagueNetwork object at 0x7fd40e22e898>\n",
      "0 current_season\n",
      "first season\n",
      "first season\n",
      "first season\n",
      "first season\n",
      "0\n",
      "<dfg_rating.model.network.multiple_network.LeagueNetwork object at 0x7fd40e22e898>\n",
      "Season 1\n",
      "1\n",
      "<dfg_rating.model.network.multiple_network.LeagueNetwork object at 0x7fd40e22e898>\n",
      "1 current_season\n",
      "1\n",
      "<dfg_rating.model.network.multiple_network.LeagueNetwork object at 0x7fd40e22e898>\n",
      "Season 2\n",
      "2\n",
      "<dfg_rating.model.network.multiple_network.LeagueNetwork object at 0x7fd40e22e898>\n",
      "2 current_season\n",
      "2\n",
      "<dfg_rating.model.network.multiple_network.LeagueNetwork object at 0x7fd40e22e898>\n",
      "Season 3\n",
      "3\n",
      "<dfg_rating.model.network.multiple_network.LeagueNetwork object at 0x7fd40e22e898>\n",
      "3 current_season\n",
      "3\n",
      "<dfg_rating.model.network.multiple_network.LeagueNetwork object at 0x7fd40e22e898>\n",
      "Season 4\n",
      "4\n",
      "<dfg_rating.model.network.multiple_network.LeagueNetwork object at 0x7fd40e22e898>\n",
      "4 current_season\n",
      "4\n",
      "<dfg_rating.model.network.multiple_network.LeagueNetwork object at 0x7fd40e22e898>\n",
      "Season 5\n",
      "5\n",
      "<dfg_rating.model.network.multiple_network.LeagueNetwork object at 0x7fd40e22e898>\n",
      "5 current_season\n",
      "5\n",
      "<dfg_rating.model.network.multiple_network.LeagueNetwork object at 0x7fd40e22e898>\n",
      "Season 6\n",
      "6\n",
      "<dfg_rating.model.network.multiple_network.LeagueNetwork object at 0x7fd40e22e898>\n",
      "6 current_season\n",
      "6\n",
      "<dfg_rating.model.network.multiple_network.LeagueNetwork object at 0x7fd40e22e898>\n",
      "Season 7\n",
      "7\n",
      "<dfg_rating.model.network.multiple_network.LeagueNetwork object at 0x7fd40e22e898>\n",
      "7 current_season\n",
      "7\n",
      "<dfg_rating.model.network.multiple_network.LeagueNetwork object at 0x7fd40e22e898>\n",
      "Season 8\n",
      "8\n",
      "<dfg_rating.model.network.multiple_network.LeagueNetwork object at 0x7fd40e22e898>\n",
      "8 current_season\n",
      "8\n",
      "<dfg_rating.model.network.multiple_network.LeagueNetwork object at 0x7fd40e22e898>\n",
      "Season 9\n",
      "9\n",
      "<dfg_rating.model.network.multiple_network.LeagueNetwork object at 0x7fd40e22e898>\n",
      "9 current_season\n",
      "9\n",
      "<dfg_rating.model.network.multiple_network.LeagueNetwork object at 0x7fd40e22e898>\n",
      "Season 0\n",
      "0\n",
      "<dfg_rating.model.network.multiple_network.LeagueNetwork object at 0x7fd40e207b70>\n",
      "0 current_season\n",
      "first season\n",
      "first season\n",
      "first season\n",
      "first season\n",
      "0\n",
      "<dfg_rating.model.network.multiple_network.LeagueNetwork object at 0x7fd40e207b70>\n",
      "Season 1\n",
      "1\n",
      "<dfg_rating.model.network.multiple_network.LeagueNetwork object at 0x7fd40e207b70>\n",
      "1 current_season\n",
      "1\n",
      "<dfg_rating.model.network.multiple_network.LeagueNetwork object at 0x7fd40e207b70>\n",
      "Season 2\n",
      "2\n",
      "<dfg_rating.model.network.multiple_network.LeagueNetwork object at 0x7fd40e207b70>\n",
      "2 current_season\n",
      "2\n",
      "<dfg_rating.model.network.multiple_network.LeagueNetwork object at 0x7fd40e207b70>\n",
      "Season 3\n",
      "3\n",
      "<dfg_rating.model.network.multiple_network.LeagueNetwork object at 0x7fd40e207b70>\n",
      "3 current_season\n",
      "3\n",
      "<dfg_rating.model.network.multiple_network.LeagueNetwork object at 0x7fd40e207b70>\n",
      "Season 4\n",
      "4\n",
      "<dfg_rating.model.network.multiple_network.LeagueNetwork object at 0x7fd40e207b70>\n",
      "4 current_season\n",
      "4\n",
      "<dfg_rating.model.network.multiple_network.LeagueNetwork object at 0x7fd40e207b70>\n",
      "Season 5\n",
      "5\n",
      "<dfg_rating.model.network.multiple_network.LeagueNetwork object at 0x7fd40e207b70>\n",
      "5 current_season\n",
      "5\n",
      "<dfg_rating.model.network.multiple_network.LeagueNetwork object at 0x7fd40e207b70>\n",
      "Season 6\n",
      "6\n",
      "<dfg_rating.model.network.multiple_network.LeagueNetwork object at 0x7fd40e207b70>\n",
      "6 current_season\n",
      "6\n",
      "<dfg_rating.model.network.multiple_network.LeagueNetwork object at 0x7fd40e207b70>\n",
      "Season 7\n",
      "7\n",
      "<dfg_rating.model.network.multiple_network.LeagueNetwork object at 0x7fd40e207b70>\n",
      "7 current_season\n",
      "7\n",
      "<dfg_rating.model.network.multiple_network.LeagueNetwork object at 0x7fd40e207b70>\n",
      "Season 8\n",
      "8\n",
      "<dfg_rating.model.network.multiple_network.LeagueNetwork object at 0x7fd40e207b70>\n",
      "8 current_season\n",
      "8\n",
      "<dfg_rating.model.network.multiple_network.LeagueNetwork object at 0x7fd40e207b70>\n",
      "Season 9\n",
      "9\n",
      "<dfg_rating.model.network.multiple_network.LeagueNetwork object at 0x7fd40e207b70>\n",
      "9 current_season\n",
      "9\n",
      "<dfg_rating.model.network.multiple_network.LeagueNetwork object at 0x7fd40e207b70>\n",
      "Season 0\n",
      "0\n",
      "<dfg_rating.model.network.multiple_network.LeagueNetwork object at 0x7fd40e1dde48>\n",
      "0 current_season\n",
      "first season\n",
      "first season\n",
      "first season\n",
      "first season\n",
      "0\n",
      "<dfg_rating.model.network.multiple_network.LeagueNetwork object at 0x7fd40e1dde48>\n",
      "Season 1\n",
      "1\n",
      "<dfg_rating.model.network.multiple_network.LeagueNetwork object at 0x7fd40e1dde48>\n",
      "1 current_season\n",
      "1\n",
      "<dfg_rating.model.network.multiple_network.LeagueNetwork object at 0x7fd40e1dde48>\n",
      "Season 2\n",
      "2\n",
      "<dfg_rating.model.network.multiple_network.LeagueNetwork object at 0x7fd40e1dde48>\n",
      "2 current_season\n",
      "2\n",
      "<dfg_rating.model.network.multiple_network.LeagueNetwork object at 0x7fd40e1dde48>\n",
      "Season 3\n",
      "3\n",
      "<dfg_rating.model.network.multiple_network.LeagueNetwork object at 0x7fd40e1dde48>\n",
      "3 current_season\n",
      "3\n",
      "<dfg_rating.model.network.multiple_network.LeagueNetwork object at 0x7fd40e1dde48>\n",
      "Season 4\n",
      "4\n",
      "<dfg_rating.model.network.multiple_network.LeagueNetwork object at 0x7fd40e1dde48>\n",
      "4 current_season\n",
      "4\n",
      "<dfg_rating.model.network.multiple_network.LeagueNetwork object at 0x7fd40e1dde48>\n",
      "Season 5\n",
      "5\n",
      "<dfg_rating.model.network.multiple_network.LeagueNetwork object at 0x7fd40e1dde48>\n",
      "5 current_season\n",
      "5\n",
      "<dfg_rating.model.network.multiple_network.LeagueNetwork object at 0x7fd40e1dde48>\n",
      "Season 6\n",
      "6\n",
      "<dfg_rating.model.network.multiple_network.LeagueNetwork object at 0x7fd40e1dde48>\n",
      "6 current_season\n",
      "6\n",
      "<dfg_rating.model.network.multiple_network.LeagueNetwork object at 0x7fd40e1dde48>\n",
      "Season 7\n",
      "7\n",
      "<dfg_rating.model.network.multiple_network.LeagueNetwork object at 0x7fd40e1dde48>\n",
      "7 current_season\n",
      "7\n",
      "<dfg_rating.model.network.multiple_network.LeagueNetwork object at 0x7fd40e1dde48>\n",
      "Season 8\n",
      "8\n",
      "<dfg_rating.model.network.multiple_network.LeagueNetwork object at 0x7fd40e1dde48>\n",
      "8 current_season\n",
      "8\n",
      "<dfg_rating.model.network.multiple_network.LeagueNetwork object at 0x7fd40e1dde48>\n",
      "Season 9\n",
      "9\n",
      "<dfg_rating.model.network.multiple_network.LeagueNetwork object at 0x7fd40e1dde48>\n",
      "9 current_season\n",
      "9\n",
      "<dfg_rating.model.network.multiple_network.LeagueNetwork object at 0x7fd40e1dde48>\n",
      "Season 0\n",
      "0\n",
      "<dfg_rating.model.network.multiple_network.LeagueNetwork object at 0x7fd40e1b21d0>\n",
      "0 current_season\n",
      "first season\n",
      "first season\n",
      "first season\n",
      "first season\n",
      "0\n",
      "<dfg_rating.model.network.multiple_network.LeagueNetwork object at 0x7fd40e1b21d0>\n",
      "Season 1\n",
      "1\n",
      "<dfg_rating.model.network.multiple_network.LeagueNetwork object at 0x7fd40e1b21d0>\n",
      "1 current_season\n",
      "1\n",
      "<dfg_rating.model.network.multiple_network.LeagueNetwork object at 0x7fd40e1b21d0>\n",
      "Season 2\n",
      "2\n",
      "<dfg_rating.model.network.multiple_network.LeagueNetwork object at 0x7fd40e1b21d0>\n",
      "2 current_season\n",
      "2\n",
      "<dfg_rating.model.network.multiple_network.LeagueNetwork object at 0x7fd40e1b21d0>\n",
      "Season 3\n",
      "3\n",
      "<dfg_rating.model.network.multiple_network.LeagueNetwork object at 0x7fd40e1b21d0>\n",
      "3 current_season\n",
      "3\n",
      "<dfg_rating.model.network.multiple_network.LeagueNetwork object at 0x7fd40e1b21d0>\n",
      "Season 4\n",
      "4\n",
      "<dfg_rating.model.network.multiple_network.LeagueNetwork object at 0x7fd40e1b21d0>\n",
      "4 current_season\n",
      "4\n",
      "<dfg_rating.model.network.multiple_network.LeagueNetwork object at 0x7fd40e1b21d0>\n",
      "Season 5\n",
      "5\n",
      "<dfg_rating.model.network.multiple_network.LeagueNetwork object at 0x7fd40e1b21d0>\n",
      "5 current_season\n",
      "5\n",
      "<dfg_rating.model.network.multiple_network.LeagueNetwork object at 0x7fd40e1b21d0>\n",
      "Season 6\n",
      "6\n",
      "<dfg_rating.model.network.multiple_network.LeagueNetwork object at 0x7fd40e1b21d0>\n",
      "6 current_season\n",
      "6\n",
      "<dfg_rating.model.network.multiple_network.LeagueNetwork object at 0x7fd40e1b21d0>\n",
      "Season 7\n",
      "7\n",
      "<dfg_rating.model.network.multiple_network.LeagueNetwork object at 0x7fd40e1b21d0>\n",
      "7 current_season\n",
      "7\n",
      "<dfg_rating.model.network.multiple_network.LeagueNetwork object at 0x7fd40e1b21d0>\n",
      "Season 8\n",
      "8\n",
      "<dfg_rating.model.network.multiple_network.LeagueNetwork object at 0x7fd40e1b21d0>\n",
      "8 current_season\n",
      "8\n",
      "<dfg_rating.model.network.multiple_network.LeagueNetwork object at 0x7fd40e1b21d0>\n",
      "Season 9\n",
      "9\n",
      "<dfg_rating.model.network.multiple_network.LeagueNetwork object at 0x7fd40e1b21d0>\n",
      "9 current_season\n",
      "9\n",
      "<dfg_rating.model.network.multiple_network.LeagueNetwork object at 0x7fd40e1b21d0>\n",
      "Season 0\n",
      "0\n",
      "<dfg_rating.model.network.multiple_network.LeagueNetwork object at 0x7fd40e113438>\n",
      "0 current_season\n",
      "first season\n",
      "first season\n",
      "first season\n",
      "first season\n",
      "0\n",
      "<dfg_rating.model.network.multiple_network.LeagueNetwork object at 0x7fd40e113438>\n",
      "Season 1\n",
      "1\n",
      "<dfg_rating.model.network.multiple_network.LeagueNetwork object at 0x7fd40e113438>\n",
      "1 current_season\n",
      "1\n",
      "<dfg_rating.model.network.multiple_network.LeagueNetwork object at 0x7fd40e113438>\n",
      "Season 2\n",
      "2\n",
      "<dfg_rating.model.network.multiple_network.LeagueNetwork object at 0x7fd40e113438>\n",
      "2 current_season\n",
      "2\n",
      "<dfg_rating.model.network.multiple_network.LeagueNetwork object at 0x7fd40e113438>\n",
      "Season 3\n",
      "3\n",
      "<dfg_rating.model.network.multiple_network.LeagueNetwork object at 0x7fd40e113438>\n",
      "3 current_season\n",
      "3\n",
      "<dfg_rating.model.network.multiple_network.LeagueNetwork object at 0x7fd40e113438>\n",
      "Season 4\n",
      "4\n",
      "<dfg_rating.model.network.multiple_network.LeagueNetwork object at 0x7fd40e113438>\n",
      "4 current_season\n",
      "4\n",
      "<dfg_rating.model.network.multiple_network.LeagueNetwork object at 0x7fd40e113438>\n",
      "Season 5\n",
      "5\n",
      "<dfg_rating.model.network.multiple_network.LeagueNetwork object at 0x7fd40e113438>\n",
      "5 current_season\n",
      "5\n",
      "<dfg_rating.model.network.multiple_network.LeagueNetwork object at 0x7fd40e113438>\n",
      "Season 6\n",
      "6\n",
      "<dfg_rating.model.network.multiple_network.LeagueNetwork object at 0x7fd40e113438>\n",
      "6 current_season\n",
      "6\n",
      "<dfg_rating.model.network.multiple_network.LeagueNetwork object at 0x7fd40e113438>\n",
      "Season 7\n",
      "7\n",
      "<dfg_rating.model.network.multiple_network.LeagueNetwork object at 0x7fd40e113438>\n",
      "7 current_season\n",
      "7\n",
      "<dfg_rating.model.network.multiple_network.LeagueNetwork object at 0x7fd40e113438>\n",
      "Season 8\n",
      "8\n",
      "<dfg_rating.model.network.multiple_network.LeagueNetwork object at 0x7fd40e113438>\n",
      "8 current_season\n",
      "8\n",
      "<dfg_rating.model.network.multiple_network.LeagueNetwork object at 0x7fd40e113438>\n",
      "Season 9\n",
      "9\n",
      "<dfg_rating.model.network.multiple_network.LeagueNetwork object at 0x7fd40e113438>\n",
      "9 current_season\n",
      "9\n",
      "<dfg_rating.model.network.multiple_network.LeagueNetwork object at 0x7fd40e113438>\n",
      "Season 0\n",
      "0\n",
      "<dfg_rating.model.network.multiple_network.LeagueNetwork object at 0x7fd40e0e44a8>\n",
      "0 current_season\n",
      "first season\n",
      "first season\n",
      "first season\n",
      "first season\n",
      "0\n",
      "<dfg_rating.model.network.multiple_network.LeagueNetwork object at 0x7fd40e0e44a8>\n",
      "Season 1\n",
      "1\n",
      "<dfg_rating.model.network.multiple_network.LeagueNetwork object at 0x7fd40e0e44a8>\n",
      "1 current_season\n",
      "1\n",
      "<dfg_rating.model.network.multiple_network.LeagueNetwork object at 0x7fd40e0e44a8>\n",
      "Season 2\n",
      "2\n",
      "<dfg_rating.model.network.multiple_network.LeagueNetwork object at 0x7fd40e0e44a8>\n",
      "2 current_season\n",
      "2\n",
      "<dfg_rating.model.network.multiple_network.LeagueNetwork object at 0x7fd40e0e44a8>\n",
      "Season 3\n",
      "3\n",
      "<dfg_rating.model.network.multiple_network.LeagueNetwork object at 0x7fd40e0e44a8>\n",
      "3 current_season\n",
      "3\n",
      "<dfg_rating.model.network.multiple_network.LeagueNetwork object at 0x7fd40e0e44a8>\n",
      "Season 4\n",
      "4\n",
      "<dfg_rating.model.network.multiple_network.LeagueNetwork object at 0x7fd40e0e44a8>\n",
      "4 current_season\n",
      "4\n",
      "<dfg_rating.model.network.multiple_network.LeagueNetwork object at 0x7fd40e0e44a8>\n",
      "Season 5\n",
      "5\n",
      "<dfg_rating.model.network.multiple_network.LeagueNetwork object at 0x7fd40e0e44a8>\n",
      "5 current_season\n",
      "5\n",
      "<dfg_rating.model.network.multiple_network.LeagueNetwork object at 0x7fd40e0e44a8>\n",
      "Season 6\n",
      "6\n",
      "<dfg_rating.model.network.multiple_network.LeagueNetwork object at 0x7fd40e0e44a8>\n",
      "6 current_season\n",
      "6\n",
      "<dfg_rating.model.network.multiple_network.LeagueNetwork object at 0x7fd40e0e44a8>\n",
      "Season 7\n",
      "7\n",
      "<dfg_rating.model.network.multiple_network.LeagueNetwork object at 0x7fd40e0e44a8>\n",
      "7 current_season\n",
      "7\n",
      "<dfg_rating.model.network.multiple_network.LeagueNetwork object at 0x7fd40e0e44a8>\n",
      "Season 8\n",
      "8\n",
      "<dfg_rating.model.network.multiple_network.LeagueNetwork object at 0x7fd40e0e44a8>\n",
      "8 current_season\n",
      "8\n",
      "<dfg_rating.model.network.multiple_network.LeagueNetwork object at 0x7fd40e0e44a8>\n",
      "Season 9\n",
      "9\n",
      "<dfg_rating.model.network.multiple_network.LeagueNetwork object at 0x7fd40e0e44a8>\n",
      "9 current_season\n",
      "9\n",
      "<dfg_rating.model.network.multiple_network.LeagueNetwork object at 0x7fd40e0e44a8>\n",
      "Season 0\n",
      "0\n",
      "<dfg_rating.model.network.multiple_network.LeagueNetwork object at 0x7fd40e4f5828>\n",
      "0 current_season\n",
      "first season\n",
      "first season\n",
      "first season\n",
      "first season\n",
      "0\n",
      "<dfg_rating.model.network.multiple_network.LeagueNetwork object at 0x7fd40e4f5828>\n",
      "Season 1\n",
      "1\n",
      "<dfg_rating.model.network.multiple_network.LeagueNetwork object at 0x7fd40e4f5828>\n",
      "1 current_season\n",
      "1\n",
      "<dfg_rating.model.network.multiple_network.LeagueNetwork object at 0x7fd40e4f5828>\n",
      "Season 2\n",
      "2\n",
      "<dfg_rating.model.network.multiple_network.LeagueNetwork object at 0x7fd40e4f5828>\n",
      "2 current_season\n",
      "2\n",
      "<dfg_rating.model.network.multiple_network.LeagueNetwork object at 0x7fd40e4f5828>\n",
      "Season 3\n",
      "3\n",
      "<dfg_rating.model.network.multiple_network.LeagueNetwork object at 0x7fd40e4f5828>\n",
      "3 current_season\n",
      "3\n",
      "<dfg_rating.model.network.multiple_network.LeagueNetwork object at 0x7fd40e4f5828>\n",
      "Season 4\n",
      "4\n",
      "<dfg_rating.model.network.multiple_network.LeagueNetwork object at 0x7fd40e4f5828>\n",
      "4 current_season\n",
      "4\n",
      "<dfg_rating.model.network.multiple_network.LeagueNetwork object at 0x7fd40e4f5828>\n",
      "Season 5\n",
      "5\n",
      "<dfg_rating.model.network.multiple_network.LeagueNetwork object at 0x7fd40e4f5828>\n",
      "5 current_season\n",
      "5\n",
      "<dfg_rating.model.network.multiple_network.LeagueNetwork object at 0x7fd40e4f5828>\n",
      "Season 6\n",
      "6\n",
      "<dfg_rating.model.network.multiple_network.LeagueNetwork object at 0x7fd40e4f5828>\n",
      "6 current_season\n",
      "6\n",
      "<dfg_rating.model.network.multiple_network.LeagueNetwork object at 0x7fd40e4f5828>\n",
      "Season 7\n",
      "7\n",
      "<dfg_rating.model.network.multiple_network.LeagueNetwork object at 0x7fd40e4f5828>\n",
      "7 current_season\n",
      "7\n",
      "<dfg_rating.model.network.multiple_network.LeagueNetwork object at 0x7fd40e4f5828>\n",
      "Season 8\n",
      "8\n",
      "<dfg_rating.model.network.multiple_network.LeagueNetwork object at 0x7fd40e4f5828>\n",
      "8 current_season\n",
      "8\n",
      "<dfg_rating.model.network.multiple_network.LeagueNetwork object at 0x7fd40e4f5828>\n",
      "Season 9\n",
      "9\n",
      "<dfg_rating.model.network.multiple_network.LeagueNetwork object at 0x7fd40e4f5828>\n",
      "9 current_season\n",
      "9\n",
      "<dfg_rating.model.network.multiple_network.LeagueNetwork object at 0x7fd40e4f5828>\n",
      "Season 0\n",
      "0\n",
      "<dfg_rating.model.network.multiple_network.LeagueNetwork object at 0x7fd40e5b96d8>\n",
      "0 current_season\n",
      "first season\n",
      "first season\n",
      "first season\n",
      "first season\n",
      "0\n",
      "<dfg_rating.model.network.multiple_network.LeagueNetwork object at 0x7fd40e5b96d8>\n",
      "Season 1\n",
      "1\n",
      "<dfg_rating.model.network.multiple_network.LeagueNetwork object at 0x7fd40e5b96d8>\n",
      "1 current_season\n",
      "1\n",
      "<dfg_rating.model.network.multiple_network.LeagueNetwork object at 0x7fd40e5b96d8>\n",
      "Season 2\n",
      "2\n",
      "<dfg_rating.model.network.multiple_network.LeagueNetwork object at 0x7fd40e5b96d8>\n",
      "2 current_season\n",
      "2\n",
      "<dfg_rating.model.network.multiple_network.LeagueNetwork object at 0x7fd40e5b96d8>\n",
      "Season 3\n",
      "3\n",
      "<dfg_rating.model.network.multiple_network.LeagueNetwork object at 0x7fd40e5b96d8>\n",
      "3 current_season\n",
      "3\n",
      "<dfg_rating.model.network.multiple_network.LeagueNetwork object at 0x7fd40e5b96d8>\n",
      "Season 4\n",
      "4\n",
      "<dfg_rating.model.network.multiple_network.LeagueNetwork object at 0x7fd40e5b96d8>\n",
      "4 current_season\n",
      "4\n",
      "<dfg_rating.model.network.multiple_network.LeagueNetwork object at 0x7fd40e5b96d8>\n",
      "Season 5\n",
      "5\n",
      "<dfg_rating.model.network.multiple_network.LeagueNetwork object at 0x7fd40e5b96d8>\n",
      "5 current_season\n",
      "5\n",
      "<dfg_rating.model.network.multiple_network.LeagueNetwork object at 0x7fd40e5b96d8>\n",
      "Season 6\n",
      "6\n",
      "<dfg_rating.model.network.multiple_network.LeagueNetwork object at 0x7fd40e5b96d8>\n",
      "6 current_season\n",
      "6\n",
      "<dfg_rating.model.network.multiple_network.LeagueNetwork object at 0x7fd40e5b96d8>\n",
      "Season 7\n",
      "7\n",
      "<dfg_rating.model.network.multiple_network.LeagueNetwork object at 0x7fd40e5b96d8>\n",
      "7 current_season\n",
      "7\n",
      "<dfg_rating.model.network.multiple_network.LeagueNetwork object at 0x7fd40e5b96d8>\n",
      "Season 8\n",
      "8\n",
      "<dfg_rating.model.network.multiple_network.LeagueNetwork object at 0x7fd40e5b96d8>\n",
      "8 current_season\n",
      "8\n",
      "<dfg_rating.model.network.multiple_network.LeagueNetwork object at 0x7fd40e5b96d8>\n",
      "Season 9\n",
      "9\n",
      "<dfg_rating.model.network.multiple_network.LeagueNetwork object at 0x7fd40e5b96d8>\n",
      "9 current_season\n",
      "9\n",
      "<dfg_rating.model.network.multiple_network.LeagueNetwork object at 0x7fd40e5b96d8>\n",
      "Season 0\n",
      "0\n",
      "<dfg_rating.model.network.multiple_network.LeagueNetwork object at 0x7fd40dfd97b8>\n",
      "0 current_season\n",
      "first season\n",
      "first season\n",
      "first season\n",
      "first season\n",
      "0\n",
      "<dfg_rating.model.network.multiple_network.LeagueNetwork object at 0x7fd40dfd97b8>\n",
      "Season 1\n",
      "1\n",
      "<dfg_rating.model.network.multiple_network.LeagueNetwork object at 0x7fd40dfd97b8>\n",
      "1 current_season\n",
      "1\n",
      "<dfg_rating.model.network.multiple_network.LeagueNetwork object at 0x7fd40dfd97b8>\n",
      "Season 2\n",
      "2\n",
      "<dfg_rating.model.network.multiple_network.LeagueNetwork object at 0x7fd40dfd97b8>\n",
      "2 current_season\n",
      "2\n",
      "<dfg_rating.model.network.multiple_network.LeagueNetwork object at 0x7fd40dfd97b8>\n",
      "Season 3\n",
      "3\n",
      "<dfg_rating.model.network.multiple_network.LeagueNetwork object at 0x7fd40dfd97b8>\n",
      "3 current_season\n",
      "3\n",
      "<dfg_rating.model.network.multiple_network.LeagueNetwork object at 0x7fd40dfd97b8>\n",
      "Season 4\n",
      "4\n",
      "<dfg_rating.model.network.multiple_network.LeagueNetwork object at 0x7fd40dfd97b8>\n",
      "4 current_season\n",
      "4\n",
      "<dfg_rating.model.network.multiple_network.LeagueNetwork object at 0x7fd40dfd97b8>\n",
      "Season 5\n",
      "5\n",
      "<dfg_rating.model.network.multiple_network.LeagueNetwork object at 0x7fd40dfd97b8>\n",
      "5 current_season\n",
      "5\n",
      "<dfg_rating.model.network.multiple_network.LeagueNetwork object at 0x7fd40dfd97b8>\n",
      "Season 6\n",
      "6\n",
      "<dfg_rating.model.network.multiple_network.LeagueNetwork object at 0x7fd40dfd97b8>\n",
      "6 current_season\n",
      "6\n",
      "<dfg_rating.model.network.multiple_network.LeagueNetwork object at 0x7fd40dfd97b8>\n",
      "Season 7\n",
      "7\n",
      "<dfg_rating.model.network.multiple_network.LeagueNetwork object at 0x7fd40dfd97b8>\n",
      "7 current_season\n",
      "7\n",
      "<dfg_rating.model.network.multiple_network.LeagueNetwork object at 0x7fd40dfd97b8>\n",
      "Season 8\n",
      "8\n",
      "<dfg_rating.model.network.multiple_network.LeagueNetwork object at 0x7fd40dfd97b8>\n",
      "8 current_season\n",
      "8\n",
      "<dfg_rating.model.network.multiple_network.LeagueNetwork object at 0x7fd40dfd97b8>\n",
      "Season 9\n",
      "9\n",
      "<dfg_rating.model.network.multiple_network.LeagueNetwork object at 0x7fd40dfd97b8>\n",
      "9 current_season\n",
      "9\n",
      "<dfg_rating.model.network.multiple_network.LeagueNetwork object at 0x7fd40dfd97b8>\n",
      "Season 0\n",
      "0\n",
      "<dfg_rating.model.network.multiple_network.LeagueNetwork object at 0x7fd40dfa41d0>\n",
      "0 current_season\n",
      "first season\n",
      "first season\n",
      "first season\n",
      "first season\n",
      "0\n",
      "<dfg_rating.model.network.multiple_network.LeagueNetwork object at 0x7fd40dfa41d0>\n",
      "Season 1\n",
      "1\n",
      "<dfg_rating.model.network.multiple_network.LeagueNetwork object at 0x7fd40dfa41d0>\n",
      "1 current_season\n",
      "1\n",
      "<dfg_rating.model.network.multiple_network.LeagueNetwork object at 0x7fd40dfa41d0>\n",
      "Season 2\n",
      "2\n",
      "<dfg_rating.model.network.multiple_network.LeagueNetwork object at 0x7fd40dfa41d0>\n",
      "2 current_season\n",
      "2\n",
      "<dfg_rating.model.network.multiple_network.LeagueNetwork object at 0x7fd40dfa41d0>\n",
      "Season 3\n",
      "3\n",
      "<dfg_rating.model.network.multiple_network.LeagueNetwork object at 0x7fd40dfa41d0>\n",
      "3 current_season\n",
      "3\n",
      "<dfg_rating.model.network.multiple_network.LeagueNetwork object at 0x7fd40dfa41d0>\n",
      "Season 4\n",
      "4\n",
      "<dfg_rating.model.network.multiple_network.LeagueNetwork object at 0x7fd40dfa41d0>\n",
      "4 current_season\n",
      "4\n",
      "<dfg_rating.model.network.multiple_network.LeagueNetwork object at 0x7fd40dfa41d0>\n",
      "Season 5\n",
      "5\n",
      "<dfg_rating.model.network.multiple_network.LeagueNetwork object at 0x7fd40dfa41d0>\n",
      "5 current_season\n",
      "5\n",
      "<dfg_rating.model.network.multiple_network.LeagueNetwork object at 0x7fd40dfa41d0>\n",
      "Season 6\n",
      "6\n",
      "<dfg_rating.model.network.multiple_network.LeagueNetwork object at 0x7fd40dfa41d0>\n",
      "6 current_season\n",
      "6\n",
      "<dfg_rating.model.network.multiple_network.LeagueNetwork object at 0x7fd40dfa41d0>\n",
      "Season 7\n",
      "7\n",
      "<dfg_rating.model.network.multiple_network.LeagueNetwork object at 0x7fd40dfa41d0>\n",
      "7 current_season\n",
      "7\n",
      "<dfg_rating.model.network.multiple_network.LeagueNetwork object at 0x7fd40dfa41d0>\n",
      "Season 8\n",
      "8\n",
      "<dfg_rating.model.network.multiple_network.LeagueNetwork object at 0x7fd40dfa41d0>\n",
      "8 current_season\n",
      "8\n",
      "<dfg_rating.model.network.multiple_network.LeagueNetwork object at 0x7fd40dfa41d0>\n",
      "Season 9\n",
      "9\n",
      "<dfg_rating.model.network.multiple_network.LeagueNetwork object at 0x7fd40dfa41d0>\n",
      "9 current_season\n",
      "9\n",
      "<dfg_rating.model.network.multiple_network.LeagueNetwork object at 0x7fd40dfa41d0>\n",
      "Season 0\n",
      "0\n",
      "<dfg_rating.model.network.multiple_network.LeagueNetwork object at 0x7fd40df22048>\n",
      "0 current_season\n",
      "first season\n",
      "first season\n",
      "first season\n",
      "first season\n",
      "0\n",
      "<dfg_rating.model.network.multiple_network.LeagueNetwork object at 0x7fd40df22048>\n",
      "Season 1\n",
      "1\n",
      "<dfg_rating.model.network.multiple_network.LeagueNetwork object at 0x7fd40df22048>\n",
      "1 current_season\n",
      "1\n",
      "<dfg_rating.model.network.multiple_network.LeagueNetwork object at 0x7fd40df22048>\n",
      "Season 2\n",
      "2\n",
      "<dfg_rating.model.network.multiple_network.LeagueNetwork object at 0x7fd40df22048>\n",
      "2 current_season\n",
      "2\n",
      "<dfg_rating.model.network.multiple_network.LeagueNetwork object at 0x7fd40df22048>\n",
      "Season 3\n",
      "3\n",
      "<dfg_rating.model.network.multiple_network.LeagueNetwork object at 0x7fd40df22048>\n",
      "3 current_season\n",
      "3\n",
      "<dfg_rating.model.network.multiple_network.LeagueNetwork object at 0x7fd40df22048>\n",
      "Season 4\n",
      "4\n",
      "<dfg_rating.model.network.multiple_network.LeagueNetwork object at 0x7fd40df22048>\n",
      "4 current_season\n",
      "4\n",
      "<dfg_rating.model.network.multiple_network.LeagueNetwork object at 0x7fd40df22048>\n",
      "Season 5\n",
      "5\n",
      "<dfg_rating.model.network.multiple_network.LeagueNetwork object at 0x7fd40df22048>\n",
      "5 current_season\n",
      "5\n",
      "<dfg_rating.model.network.multiple_network.LeagueNetwork object at 0x7fd40df22048>\n",
      "Season 6\n",
      "6\n",
      "<dfg_rating.model.network.multiple_network.LeagueNetwork object at 0x7fd40df22048>\n",
      "6 current_season\n",
      "6\n",
      "<dfg_rating.model.network.multiple_network.LeagueNetwork object at 0x7fd40df22048>\n",
      "Season 7\n",
      "7\n",
      "<dfg_rating.model.network.multiple_network.LeagueNetwork object at 0x7fd40df22048>\n",
      "7 current_season\n",
      "7\n",
      "<dfg_rating.model.network.multiple_network.LeagueNetwork object at 0x7fd40df22048>\n",
      "Season 8\n",
      "8\n",
      "<dfg_rating.model.network.multiple_network.LeagueNetwork object at 0x7fd40df22048>\n",
      "8 current_season\n",
      "8\n",
      "<dfg_rating.model.network.multiple_network.LeagueNetwork object at 0x7fd40df22048>\n",
      "Season 9\n",
      "9\n",
      "<dfg_rating.model.network.multiple_network.LeagueNetwork object at 0x7fd40df22048>\n",
      "9 current_season\n",
      "9\n",
      "<dfg_rating.model.network.multiple_network.LeagueNetwork object at 0x7fd40df22048>\n",
      "Season 0\n",
      "0\n",
      "<dfg_rating.model.network.multiple_network.LeagueNetwork object at 0x7fd40df85390>\n",
      "0 current_season\n",
      "first season\n",
      "first season\n",
      "first season\n",
      "first season\n",
      "0\n",
      "<dfg_rating.model.network.multiple_network.LeagueNetwork object at 0x7fd40df85390>\n",
      "Season 1\n",
      "1\n",
      "<dfg_rating.model.network.multiple_network.LeagueNetwork object at 0x7fd40df85390>\n",
      "1 current_season\n",
      "1\n",
      "<dfg_rating.model.network.multiple_network.LeagueNetwork object at 0x7fd40df85390>\n",
      "Season 2\n",
      "2\n",
      "<dfg_rating.model.network.multiple_network.LeagueNetwork object at 0x7fd40df85390>\n",
      "2 current_season\n",
      "2\n",
      "<dfg_rating.model.network.multiple_network.LeagueNetwork object at 0x7fd40df85390>\n",
      "Season 3\n",
      "3\n",
      "<dfg_rating.model.network.multiple_network.LeagueNetwork object at 0x7fd40df85390>\n",
      "3 current_season\n",
      "3\n",
      "<dfg_rating.model.network.multiple_network.LeagueNetwork object at 0x7fd40df85390>\n",
      "Season 4\n",
      "4\n",
      "<dfg_rating.model.network.multiple_network.LeagueNetwork object at 0x7fd40df85390>\n",
      "4 current_season\n",
      "4\n",
      "<dfg_rating.model.network.multiple_network.LeagueNetwork object at 0x7fd40df85390>\n",
      "Season 5\n",
      "5\n",
      "<dfg_rating.model.network.multiple_network.LeagueNetwork object at 0x7fd40df85390>\n",
      "5 current_season\n",
      "5\n",
      "<dfg_rating.model.network.multiple_network.LeagueNetwork object at 0x7fd40df85390>\n",
      "Season 6\n",
      "6\n",
      "<dfg_rating.model.network.multiple_network.LeagueNetwork object at 0x7fd40df85390>\n",
      "6 current_season\n",
      "6\n",
      "<dfg_rating.model.network.multiple_network.LeagueNetwork object at 0x7fd40df85390>\n",
      "Season 7\n",
      "7\n",
      "<dfg_rating.model.network.multiple_network.LeagueNetwork object at 0x7fd40df85390>\n",
      "7 current_season\n",
      "7\n",
      "<dfg_rating.model.network.multiple_network.LeagueNetwork object at 0x7fd40df85390>\n",
      "Season 8\n",
      "8\n",
      "<dfg_rating.model.network.multiple_network.LeagueNetwork object at 0x7fd40df85390>\n",
      "8 current_season\n",
      "8\n",
      "<dfg_rating.model.network.multiple_network.LeagueNetwork object at 0x7fd40df85390>\n",
      "Season 9\n",
      "9\n",
      "<dfg_rating.model.network.multiple_network.LeagueNetwork object at 0x7fd40df85390>\n",
      "9 current_season\n",
      "9\n",
      "<dfg_rating.model.network.multiple_network.LeagueNetwork object at 0x7fd40df85390>\n",
      "Season 0\n",
      "0\n",
      "<dfg_rating.model.network.multiple_network.LeagueNetwork object at 0x7fd40de3f438>\n",
      "0 current_season\n",
      "first season\n",
      "first season\n",
      "first season\n",
      "first season\n",
      "0\n",
      "<dfg_rating.model.network.multiple_network.LeagueNetwork object at 0x7fd40de3f438>\n",
      "Season 1\n",
      "1\n",
      "<dfg_rating.model.network.multiple_network.LeagueNetwork object at 0x7fd40de3f438>\n",
      "1 current_season\n",
      "1\n",
      "<dfg_rating.model.network.multiple_network.LeagueNetwork object at 0x7fd40de3f438>\n",
      "Season 2\n",
      "2\n",
      "<dfg_rating.model.network.multiple_network.LeagueNetwork object at 0x7fd40de3f438>\n",
      "2 current_season\n",
      "2\n",
      "<dfg_rating.model.network.multiple_network.LeagueNetwork object at 0x7fd40de3f438>\n",
      "Season 3\n",
      "3\n",
      "<dfg_rating.model.network.multiple_network.LeagueNetwork object at 0x7fd40de3f438>\n",
      "3 current_season\n",
      "3\n",
      "<dfg_rating.model.network.multiple_network.LeagueNetwork object at 0x7fd40de3f438>\n",
      "Season 4\n",
      "4\n",
      "<dfg_rating.model.network.multiple_network.LeagueNetwork object at 0x7fd40de3f438>\n",
      "4 current_season\n",
      "4\n",
      "<dfg_rating.model.network.multiple_network.LeagueNetwork object at 0x7fd40de3f438>\n",
      "Season 5\n",
      "5\n",
      "<dfg_rating.model.network.multiple_network.LeagueNetwork object at 0x7fd40de3f438>\n",
      "5 current_season\n",
      "5\n",
      "<dfg_rating.model.network.multiple_network.LeagueNetwork object at 0x7fd40de3f438>\n",
      "Season 6\n",
      "6\n",
      "<dfg_rating.model.network.multiple_network.LeagueNetwork object at 0x7fd40de3f438>\n",
      "6 current_season\n",
      "6\n",
      "<dfg_rating.model.network.multiple_network.LeagueNetwork object at 0x7fd40de3f438>\n",
      "Season 7\n",
      "7\n",
      "<dfg_rating.model.network.multiple_network.LeagueNetwork object at 0x7fd40de3f438>\n",
      "7 current_season\n",
      "7\n",
      "<dfg_rating.model.network.multiple_network.LeagueNetwork object at 0x7fd40de3f438>\n",
      "Season 8\n",
      "8\n",
      "<dfg_rating.model.network.multiple_network.LeagueNetwork object at 0x7fd40de3f438>\n",
      "8 current_season\n",
      "8\n",
      "<dfg_rating.model.network.multiple_network.LeagueNetwork object at 0x7fd40de3f438>\n",
      "Season 9\n",
      "9\n",
      "<dfg_rating.model.network.multiple_network.LeagueNetwork object at 0x7fd40de3f438>\n",
      "9 current_season\n",
      "9\n",
      "<dfg_rating.model.network.multiple_network.LeagueNetwork object at 0x7fd40de3f438>\n",
      "Season 0\n",
      "0\n",
      "<dfg_rating.model.network.multiple_network.LeagueNetwork object at 0x7fd40de8d518>\n",
      "0 current_season\n",
      "first season\n",
      "first season\n",
      "first season\n",
      "first season\n",
      "0\n",
      "<dfg_rating.model.network.multiple_network.LeagueNetwork object at 0x7fd40de8d518>\n",
      "Season 1\n",
      "1\n",
      "<dfg_rating.model.network.multiple_network.LeagueNetwork object at 0x7fd40de8d518>\n",
      "1 current_season\n",
      "1\n",
      "<dfg_rating.model.network.multiple_network.LeagueNetwork object at 0x7fd40de8d518>\n",
      "Season 2\n",
      "2\n",
      "<dfg_rating.model.network.multiple_network.LeagueNetwork object at 0x7fd40de8d518>\n",
      "2 current_season\n",
      "2\n",
      "<dfg_rating.model.network.multiple_network.LeagueNetwork object at 0x7fd40de8d518>\n",
      "Season 3\n",
      "3\n",
      "<dfg_rating.model.network.multiple_network.LeagueNetwork object at 0x7fd40de8d518>\n",
      "3 current_season\n",
      "3\n",
      "<dfg_rating.model.network.multiple_network.LeagueNetwork object at 0x7fd40de8d518>\n",
      "Season 4\n",
      "4\n",
      "<dfg_rating.model.network.multiple_network.LeagueNetwork object at 0x7fd40de8d518>\n",
      "4 current_season\n",
      "4\n",
      "<dfg_rating.model.network.multiple_network.LeagueNetwork object at 0x7fd40de8d518>\n",
      "Season 5\n",
      "5\n",
      "<dfg_rating.model.network.multiple_network.LeagueNetwork object at 0x7fd40de8d518>\n",
      "5 current_season\n",
      "5\n",
      "<dfg_rating.model.network.multiple_network.LeagueNetwork object at 0x7fd40de8d518>\n",
      "Season 6\n",
      "6\n",
      "<dfg_rating.model.network.multiple_network.LeagueNetwork object at 0x7fd40de8d518>\n",
      "6 current_season\n",
      "6\n",
      "<dfg_rating.model.network.multiple_network.LeagueNetwork object at 0x7fd40de8d518>\n",
      "Season 7\n",
      "7\n",
      "<dfg_rating.model.network.multiple_network.LeagueNetwork object at 0x7fd40de8d518>\n",
      "7 current_season\n",
      "7\n",
      "<dfg_rating.model.network.multiple_network.LeagueNetwork object at 0x7fd40de8d518>\n",
      "Season 8\n",
      "8\n",
      "<dfg_rating.model.network.multiple_network.LeagueNetwork object at 0x7fd40de8d518>\n",
      "8 current_season\n",
      "8\n",
      "<dfg_rating.model.network.multiple_network.LeagueNetwork object at 0x7fd40de8d518>\n",
      "Season 9\n",
      "9\n",
      "<dfg_rating.model.network.multiple_network.LeagueNetwork object at 0x7fd40de8d518>\n",
      "9 current_season\n",
      "9\n",
      "<dfg_rating.model.network.multiple_network.LeagueNetwork object at 0x7fd40de8d518>\n",
      "Season 0\n",
      "0\n",
      "<dfg_rating.model.network.multiple_network.LeagueNetwork object at 0x7fd40dd72828>\n",
      "0 current_season\n",
      "first season\n",
      "first season\n",
      "first season\n",
      "first season\n",
      "0\n",
      "<dfg_rating.model.network.multiple_network.LeagueNetwork object at 0x7fd40dd72828>\n",
      "Season 1\n",
      "1\n",
      "<dfg_rating.model.network.multiple_network.LeagueNetwork object at 0x7fd40dd72828>\n",
      "1 current_season\n",
      "1\n",
      "<dfg_rating.model.network.multiple_network.LeagueNetwork object at 0x7fd40dd72828>\n",
      "Season 2\n",
      "2\n",
      "<dfg_rating.model.network.multiple_network.LeagueNetwork object at 0x7fd40dd72828>\n",
      "2 current_season\n",
      "2\n",
      "<dfg_rating.model.network.multiple_network.LeagueNetwork object at 0x7fd40dd72828>\n",
      "Season 3\n",
      "3\n",
      "<dfg_rating.model.network.multiple_network.LeagueNetwork object at 0x7fd40dd72828>\n",
      "3 current_season\n",
      "3\n",
      "<dfg_rating.model.network.multiple_network.LeagueNetwork object at 0x7fd40dd72828>\n",
      "Season 4\n",
      "4\n",
      "<dfg_rating.model.network.multiple_network.LeagueNetwork object at 0x7fd40dd72828>\n",
      "4 current_season\n",
      "4\n",
      "<dfg_rating.model.network.multiple_network.LeagueNetwork object at 0x7fd40dd72828>\n",
      "Season 5\n",
      "5\n",
      "<dfg_rating.model.network.multiple_network.LeagueNetwork object at 0x7fd40dd72828>\n",
      "5 current_season\n",
      "5\n",
      "<dfg_rating.model.network.multiple_network.LeagueNetwork object at 0x7fd40dd72828>\n",
      "Season 6\n",
      "6\n",
      "<dfg_rating.model.network.multiple_network.LeagueNetwork object at 0x7fd40dd72828>\n",
      "6 current_season\n",
      "6\n",
      "<dfg_rating.model.network.multiple_network.LeagueNetwork object at 0x7fd40dd72828>\n",
      "Season 7\n",
      "7\n",
      "<dfg_rating.model.network.multiple_network.LeagueNetwork object at 0x7fd40dd72828>\n",
      "7 current_season\n",
      "7\n",
      "<dfg_rating.model.network.multiple_network.LeagueNetwork object at 0x7fd40dd72828>\n",
      "Season 8\n",
      "8\n",
      "<dfg_rating.model.network.multiple_network.LeagueNetwork object at 0x7fd40dd72828>\n",
      "8 current_season\n",
      "8\n",
      "<dfg_rating.model.network.multiple_network.LeagueNetwork object at 0x7fd40dd72828>\n",
      "Season 9\n",
      "9\n",
      "<dfg_rating.model.network.multiple_network.LeagueNetwork object at 0x7fd40dd72828>\n",
      "9 current_season\n",
      "9\n",
      "<dfg_rating.model.network.multiple_network.LeagueNetwork object at 0x7fd40dd72828>\n",
      "Season 0\n",
      "0\n",
      "<dfg_rating.model.network.multiple_network.LeagueNetwork object at 0x7fd40de199e8>\n",
      "0 current_season\n",
      "first season\n",
      "first season\n",
      "first season\n",
      "first season\n",
      "0\n",
      "<dfg_rating.model.network.multiple_network.LeagueNetwork object at 0x7fd40de199e8>\n",
      "Season 1\n",
      "1\n",
      "<dfg_rating.model.network.multiple_network.LeagueNetwork object at 0x7fd40de199e8>\n",
      "1 current_season\n",
      "1\n",
      "<dfg_rating.model.network.multiple_network.LeagueNetwork object at 0x7fd40de199e8>\n",
      "Season 2\n",
      "2\n",
      "<dfg_rating.model.network.multiple_network.LeagueNetwork object at 0x7fd40de199e8>\n",
      "2 current_season\n",
      "2\n",
      "<dfg_rating.model.network.multiple_network.LeagueNetwork object at 0x7fd40de199e8>\n",
      "Season 3\n",
      "3\n",
      "<dfg_rating.model.network.multiple_network.LeagueNetwork object at 0x7fd40de199e8>\n",
      "3 current_season\n",
      "3\n",
      "<dfg_rating.model.network.multiple_network.LeagueNetwork object at 0x7fd40de199e8>\n",
      "Season 4\n",
      "4\n",
      "<dfg_rating.model.network.multiple_network.LeagueNetwork object at 0x7fd40de199e8>\n",
      "4 current_season\n",
      "4\n",
      "<dfg_rating.model.network.multiple_network.LeagueNetwork object at 0x7fd40de199e8>\n",
      "Season 5\n",
      "5\n",
      "<dfg_rating.model.network.multiple_network.LeagueNetwork object at 0x7fd40de199e8>\n",
      "5 current_season\n",
      "5\n",
      "<dfg_rating.model.network.multiple_network.LeagueNetwork object at 0x7fd40de199e8>\n",
      "Season 6\n",
      "6\n",
      "<dfg_rating.model.network.multiple_network.LeagueNetwork object at 0x7fd40de199e8>\n",
      "6 current_season\n",
      "6\n",
      "<dfg_rating.model.network.multiple_network.LeagueNetwork object at 0x7fd40de199e8>\n",
      "Season 7\n",
      "7\n",
      "<dfg_rating.model.network.multiple_network.LeagueNetwork object at 0x7fd40de199e8>\n",
      "7 current_season\n",
      "7\n",
      "<dfg_rating.model.network.multiple_network.LeagueNetwork object at 0x7fd40de199e8>\n",
      "Season 8\n",
      "8\n",
      "<dfg_rating.model.network.multiple_network.LeagueNetwork object at 0x7fd40de199e8>\n",
      "8 current_season\n",
      "8\n",
      "<dfg_rating.model.network.multiple_network.LeagueNetwork object at 0x7fd40de199e8>\n",
      "Season 9\n",
      "9\n",
      "<dfg_rating.model.network.multiple_network.LeagueNetwork object at 0x7fd40de199e8>\n",
      "9 current_season\n",
      "9\n",
      "<dfg_rating.model.network.multiple_network.LeagueNetwork object at 0x7fd40de199e8>\n",
      "Season 0\n",
      "0\n",
      "<dfg_rating.model.network.multiple_network.LeagueNetwork object at 0x7fd40dca3c18>\n",
      "0 current_season\n",
      "first season\n",
      "first season\n",
      "first season\n",
      "first season\n",
      "0\n",
      "<dfg_rating.model.network.multiple_network.LeagueNetwork object at 0x7fd40dca3c18>\n",
      "Season 1\n",
      "1\n",
      "<dfg_rating.model.network.multiple_network.LeagueNetwork object at 0x7fd40dca3c18>\n",
      "1 current_season\n",
      "1\n",
      "<dfg_rating.model.network.multiple_network.LeagueNetwork object at 0x7fd40dca3c18>\n",
      "Season 2\n",
      "2\n",
      "<dfg_rating.model.network.multiple_network.LeagueNetwork object at 0x7fd40dca3c18>\n",
      "2 current_season\n",
      "2\n",
      "<dfg_rating.model.network.multiple_network.LeagueNetwork object at 0x7fd40dca3c18>\n",
      "Season 3\n",
      "3\n",
      "<dfg_rating.model.network.multiple_network.LeagueNetwork object at 0x7fd40dca3c18>\n",
      "3 current_season\n",
      "3\n",
      "<dfg_rating.model.network.multiple_network.LeagueNetwork object at 0x7fd40dca3c18>\n",
      "Season 4\n",
      "4\n",
      "<dfg_rating.model.network.multiple_network.LeagueNetwork object at 0x7fd40dca3c18>\n",
      "4 current_season\n",
      "4\n",
      "<dfg_rating.model.network.multiple_network.LeagueNetwork object at 0x7fd40dca3c18>\n",
      "Season 5\n",
      "5\n",
      "<dfg_rating.model.network.multiple_network.LeagueNetwork object at 0x7fd40dca3c18>\n",
      "5 current_season\n",
      "5\n",
      "<dfg_rating.model.network.multiple_network.LeagueNetwork object at 0x7fd40dca3c18>\n",
      "Season 6\n",
      "6\n",
      "<dfg_rating.model.network.multiple_network.LeagueNetwork object at 0x7fd40dca3c18>\n",
      "6 current_season\n",
      "6\n",
      "<dfg_rating.model.network.multiple_network.LeagueNetwork object at 0x7fd40dca3c18>\n",
      "Season 7\n",
      "7\n",
      "<dfg_rating.model.network.multiple_network.LeagueNetwork object at 0x7fd40dca3c18>\n",
      "7 current_season\n",
      "7\n",
      "<dfg_rating.model.network.multiple_network.LeagueNetwork object at 0x7fd40dca3c18>\n",
      "Season 8\n",
      "8\n",
      "<dfg_rating.model.network.multiple_network.LeagueNetwork object at 0x7fd40dca3c18>\n",
      "8 current_season\n",
      "8\n",
      "<dfg_rating.model.network.multiple_network.LeagueNetwork object at 0x7fd40dca3c18>\n",
      "Season 9\n",
      "9\n",
      "<dfg_rating.model.network.multiple_network.LeagueNetwork object at 0x7fd40dca3c18>\n",
      "9 current_season\n",
      "9\n",
      "<dfg_rating.model.network.multiple_network.LeagueNetwork object at 0x7fd40dca3c18>\n",
      "Season 0\n",
      "0\n",
      "<dfg_rating.model.network.multiple_network.LeagueNetwork object at 0x7fd40dcef2e8>\n",
      "0 current_season\n",
      "first season\n",
      "first season\n",
      "first season\n",
      "first season\n",
      "0\n",
      "<dfg_rating.model.network.multiple_network.LeagueNetwork object at 0x7fd40dcef2e8>\n",
      "Season 1\n",
      "1\n",
      "<dfg_rating.model.network.multiple_network.LeagueNetwork object at 0x7fd40dcef2e8>\n",
      "1 current_season\n",
      "1\n",
      "<dfg_rating.model.network.multiple_network.LeagueNetwork object at 0x7fd40dcef2e8>\n",
      "Season 2\n",
      "2\n",
      "<dfg_rating.model.network.multiple_network.LeagueNetwork object at 0x7fd40dcef2e8>\n",
      "2 current_season\n",
      "2\n",
      "<dfg_rating.model.network.multiple_network.LeagueNetwork object at 0x7fd40dcef2e8>\n",
      "Season 3\n",
      "3\n",
      "<dfg_rating.model.network.multiple_network.LeagueNetwork object at 0x7fd40dcef2e8>\n",
      "3 current_season\n",
      "3\n",
      "<dfg_rating.model.network.multiple_network.LeagueNetwork object at 0x7fd40dcef2e8>\n",
      "Season 4\n",
      "4\n",
      "<dfg_rating.model.network.multiple_network.LeagueNetwork object at 0x7fd40dcef2e8>\n",
      "4 current_season\n",
      "4\n",
      "<dfg_rating.model.network.multiple_network.LeagueNetwork object at 0x7fd40dcef2e8>\n",
      "Season 5\n",
      "5\n",
      "<dfg_rating.model.network.multiple_network.LeagueNetwork object at 0x7fd40dcef2e8>\n",
      "5 current_season\n",
      "5\n",
      "<dfg_rating.model.network.multiple_network.LeagueNetwork object at 0x7fd40dcef2e8>\n",
      "Season 6\n",
      "6\n",
      "<dfg_rating.model.network.multiple_network.LeagueNetwork object at 0x7fd40dcef2e8>\n",
      "6 current_season\n",
      "6\n",
      "<dfg_rating.model.network.multiple_network.LeagueNetwork object at 0x7fd40dcef2e8>\n",
      "Season 7\n",
      "7\n",
      "<dfg_rating.model.network.multiple_network.LeagueNetwork object at 0x7fd40dcef2e8>\n",
      "7 current_season\n",
      "7\n",
      "<dfg_rating.model.network.multiple_network.LeagueNetwork object at 0x7fd40dcef2e8>\n",
      "Season 8\n",
      "8\n",
      "<dfg_rating.model.network.multiple_network.LeagueNetwork object at 0x7fd40dcef2e8>\n",
      "8 current_season\n",
      "8\n",
      "<dfg_rating.model.network.multiple_network.LeagueNetwork object at 0x7fd40dcef2e8>\n",
      "Season 9\n",
      "9\n",
      "<dfg_rating.model.network.multiple_network.LeagueNetwork object at 0x7fd40dcef2e8>\n",
      "9 current_season\n",
      "9\n",
      "<dfg_rating.model.network.multiple_network.LeagueNetwork object at 0x7fd40dcef2e8>\n",
      "Season 0\n",
      "0\n",
      "<dfg_rating.model.network.multiple_network.LeagueNetwork object at 0x7fd40dbef048>\n",
      "0 current_season\n",
      "first season\n",
      "first season\n",
      "first season\n",
      "first season\n",
      "0\n",
      "<dfg_rating.model.network.multiple_network.LeagueNetwork object at 0x7fd40dbef048>\n",
      "Season 1\n",
      "1\n",
      "<dfg_rating.model.network.multiple_network.LeagueNetwork object at 0x7fd40dbef048>\n",
      "1 current_season\n",
      "1\n",
      "<dfg_rating.model.network.multiple_network.LeagueNetwork object at 0x7fd40dbef048>\n",
      "Season 2\n",
      "2\n",
      "<dfg_rating.model.network.multiple_network.LeagueNetwork object at 0x7fd40dbef048>\n",
      "2 current_season\n",
      "2\n",
      "<dfg_rating.model.network.multiple_network.LeagueNetwork object at 0x7fd40dbef048>\n",
      "Season 3\n",
      "3\n",
      "<dfg_rating.model.network.multiple_network.LeagueNetwork object at 0x7fd40dbef048>\n",
      "3 current_season\n",
      "3\n",
      "<dfg_rating.model.network.multiple_network.LeagueNetwork object at 0x7fd40dbef048>\n",
      "Season 4\n",
      "4\n",
      "<dfg_rating.model.network.multiple_network.LeagueNetwork object at 0x7fd40dbef048>\n",
      "4 current_season\n",
      "4\n",
      "<dfg_rating.model.network.multiple_network.LeagueNetwork object at 0x7fd40dbef048>\n",
      "Season 5\n",
      "5\n",
      "<dfg_rating.model.network.multiple_network.LeagueNetwork object at 0x7fd40dbef048>\n",
      "5 current_season\n",
      "5\n",
      "<dfg_rating.model.network.multiple_network.LeagueNetwork object at 0x7fd40dbef048>\n",
      "Season 6\n",
      "6\n",
      "<dfg_rating.model.network.multiple_network.LeagueNetwork object at 0x7fd40dbef048>\n",
      "6 current_season\n",
      "6\n",
      "<dfg_rating.model.network.multiple_network.LeagueNetwork object at 0x7fd40dbef048>\n",
      "Season 7\n",
      "7\n",
      "<dfg_rating.model.network.multiple_network.LeagueNetwork object at 0x7fd40dbef048>\n",
      "7 current_season\n",
      "7\n",
      "<dfg_rating.model.network.multiple_network.LeagueNetwork object at 0x7fd40dbef048>\n",
      "Season 8\n",
      "8\n",
      "<dfg_rating.model.network.multiple_network.LeagueNetwork object at 0x7fd40dbef048>\n",
      "8 current_season\n",
      "8\n",
      "<dfg_rating.model.network.multiple_network.LeagueNetwork object at 0x7fd40dbef048>\n",
      "Season 9\n",
      "9\n",
      "<dfg_rating.model.network.multiple_network.LeagueNetwork object at 0x7fd40dbef048>\n",
      "9 current_season\n",
      "9\n",
      "<dfg_rating.model.network.multiple_network.LeagueNetwork object at 0x7fd40dbef048>\n",
      "Season 0\n",
      "0\n",
      "<dfg_rating.model.network.multiple_network.LeagueNetwork object at 0x7fd40dbb4198>\n",
      "0 current_season\n",
      "first season\n",
      "first season\n",
      "first season\n",
      "first season\n",
      "0\n",
      "<dfg_rating.model.network.multiple_network.LeagueNetwork object at 0x7fd40dbb4198>\n",
      "Season 1\n",
      "1\n",
      "<dfg_rating.model.network.multiple_network.LeagueNetwork object at 0x7fd40dbb4198>\n",
      "1 current_season\n",
      "1\n",
      "<dfg_rating.model.network.multiple_network.LeagueNetwork object at 0x7fd40dbb4198>\n",
      "Season 2\n",
      "2\n",
      "<dfg_rating.model.network.multiple_network.LeagueNetwork object at 0x7fd40dbb4198>\n",
      "2 current_season\n",
      "2\n",
      "<dfg_rating.model.network.multiple_network.LeagueNetwork object at 0x7fd40dbb4198>\n",
      "Season 3\n",
      "3\n",
      "<dfg_rating.model.network.multiple_network.LeagueNetwork object at 0x7fd40dbb4198>\n",
      "3 current_season\n",
      "3\n",
      "<dfg_rating.model.network.multiple_network.LeagueNetwork object at 0x7fd40dbb4198>\n",
      "Season 4\n",
      "4\n",
      "<dfg_rating.model.network.multiple_network.LeagueNetwork object at 0x7fd40dbb4198>\n",
      "4 current_season\n",
      "4\n",
      "<dfg_rating.model.network.multiple_network.LeagueNetwork object at 0x7fd40dbb4198>\n",
      "Season 5\n",
      "5\n",
      "<dfg_rating.model.network.multiple_network.LeagueNetwork object at 0x7fd40dbb4198>\n",
      "5 current_season\n",
      "5\n",
      "<dfg_rating.model.network.multiple_network.LeagueNetwork object at 0x7fd40dbb4198>\n",
      "Season 6\n",
      "6\n",
      "<dfg_rating.model.network.multiple_network.LeagueNetwork object at 0x7fd40dbb4198>\n",
      "6 current_season\n",
      "6\n",
      "<dfg_rating.model.network.multiple_network.LeagueNetwork object at 0x7fd40dbb4198>\n",
      "Season 7\n",
      "7\n",
      "<dfg_rating.model.network.multiple_network.LeagueNetwork object at 0x7fd40dbb4198>\n",
      "7 current_season\n",
      "7\n",
      "<dfg_rating.model.network.multiple_network.LeagueNetwork object at 0x7fd40dbb4198>\n",
      "Season 8\n",
      "8\n",
      "<dfg_rating.model.network.multiple_network.LeagueNetwork object at 0x7fd40dbb4198>\n",
      "8 current_season\n",
      "8\n",
      "<dfg_rating.model.network.multiple_network.LeagueNetwork object at 0x7fd40dbb4198>\n",
      "Season 9\n",
      "9\n",
      "<dfg_rating.model.network.multiple_network.LeagueNetwork object at 0x7fd40dbb4198>\n",
      "9 current_season\n",
      "9\n",
      "<dfg_rating.model.network.multiple_network.LeagueNetwork object at 0x7fd40dbb4198>\n",
      "Season 0\n",
      "0\n",
      "<dfg_rating.model.network.multiple_network.LeagueNetwork object at 0x7fd40db8d470>\n",
      "0 current_season\n",
      "first season\n",
      "first season\n",
      "first season\n",
      "first season\n",
      "0\n",
      "<dfg_rating.model.network.multiple_network.LeagueNetwork object at 0x7fd40db8d470>\n",
      "Season 1\n",
      "1\n",
      "<dfg_rating.model.network.multiple_network.LeagueNetwork object at 0x7fd40db8d470>\n",
      "1 current_season\n",
      "1\n",
      "<dfg_rating.model.network.multiple_network.LeagueNetwork object at 0x7fd40db8d470>\n",
      "Season 2\n",
      "2\n",
      "<dfg_rating.model.network.multiple_network.LeagueNetwork object at 0x7fd40db8d470>\n",
      "2 current_season\n",
      "2\n",
      "<dfg_rating.model.network.multiple_network.LeagueNetwork object at 0x7fd40db8d470>\n",
      "Season 3\n",
      "3\n",
      "<dfg_rating.model.network.multiple_network.LeagueNetwork object at 0x7fd40db8d470>\n",
      "3 current_season\n",
      "3\n",
      "<dfg_rating.model.network.multiple_network.LeagueNetwork object at 0x7fd40db8d470>\n",
      "Season 4\n",
      "4\n",
      "<dfg_rating.model.network.multiple_network.LeagueNetwork object at 0x7fd40db8d470>\n",
      "4 current_season\n",
      "4\n",
      "<dfg_rating.model.network.multiple_network.LeagueNetwork object at 0x7fd40db8d470>\n",
      "Season 5\n",
      "5\n",
      "<dfg_rating.model.network.multiple_network.LeagueNetwork object at 0x7fd40db8d470>\n",
      "5 current_season\n",
      "5\n",
      "<dfg_rating.model.network.multiple_network.LeagueNetwork object at 0x7fd40db8d470>\n",
      "Season 6\n",
      "6\n",
      "<dfg_rating.model.network.multiple_network.LeagueNetwork object at 0x7fd40db8d470>\n",
      "6 current_season\n",
      "6\n",
      "<dfg_rating.model.network.multiple_network.LeagueNetwork object at 0x7fd40db8d470>\n",
      "Season 7\n",
      "7\n",
      "<dfg_rating.model.network.multiple_network.LeagueNetwork object at 0x7fd40db8d470>\n",
      "7 current_season\n",
      "7\n",
      "<dfg_rating.model.network.multiple_network.LeagueNetwork object at 0x7fd40db8d470>\n",
      "Season 8\n",
      "8\n",
      "<dfg_rating.model.network.multiple_network.LeagueNetwork object at 0x7fd40db8d470>\n",
      "8 current_season\n",
      "8\n",
      "<dfg_rating.model.network.multiple_network.LeagueNetwork object at 0x7fd40db8d470>\n",
      "Season 9\n",
      "9\n",
      "<dfg_rating.model.network.multiple_network.LeagueNetwork object at 0x7fd40db8d470>\n",
      "9 current_season\n",
      "9\n",
      "<dfg_rating.model.network.multiple_network.LeagueNetwork object at 0x7fd40db8d470>\n",
      "Season 0\n",
      "0\n",
      "<dfg_rating.model.network.multiple_network.LeagueNetwork object at 0x7fd40dae49b0>\n",
      "0 current_season\n",
      "first season\n",
      "first season\n",
      "first season\n",
      "first season\n",
      "0\n",
      "<dfg_rating.model.network.multiple_network.LeagueNetwork object at 0x7fd40dae49b0>\n",
      "Season 1\n",
      "1\n",
      "<dfg_rating.model.network.multiple_network.LeagueNetwork object at 0x7fd40dae49b0>\n",
      "1 current_season\n",
      "1\n",
      "<dfg_rating.model.network.multiple_network.LeagueNetwork object at 0x7fd40dae49b0>\n",
      "Season 2\n",
      "2\n",
      "<dfg_rating.model.network.multiple_network.LeagueNetwork object at 0x7fd40dae49b0>\n",
      "2 current_season\n",
      "2\n",
      "<dfg_rating.model.network.multiple_network.LeagueNetwork object at 0x7fd40dae49b0>\n",
      "Season 3\n",
      "3\n",
      "<dfg_rating.model.network.multiple_network.LeagueNetwork object at 0x7fd40dae49b0>\n",
      "3 current_season\n",
      "3\n",
      "<dfg_rating.model.network.multiple_network.LeagueNetwork object at 0x7fd40dae49b0>\n",
      "Season 4\n",
      "4\n",
      "<dfg_rating.model.network.multiple_network.LeagueNetwork object at 0x7fd40dae49b0>\n",
      "4 current_season\n",
      "4\n",
      "<dfg_rating.model.network.multiple_network.LeagueNetwork object at 0x7fd40dae49b0>\n",
      "Season 5\n",
      "5\n",
      "<dfg_rating.model.network.multiple_network.LeagueNetwork object at 0x7fd40dae49b0>\n",
      "5 current_season\n",
      "5\n",
      "<dfg_rating.model.network.multiple_network.LeagueNetwork object at 0x7fd40dae49b0>\n",
      "Season 6\n",
      "6\n",
      "<dfg_rating.model.network.multiple_network.LeagueNetwork object at 0x7fd40dae49b0>\n",
      "6 current_season\n",
      "6\n",
      "<dfg_rating.model.network.multiple_network.LeagueNetwork object at 0x7fd40dae49b0>\n",
      "Season 7\n",
      "7\n",
      "<dfg_rating.model.network.multiple_network.LeagueNetwork object at 0x7fd40dae49b0>\n",
      "7 current_season\n",
      "7\n",
      "<dfg_rating.model.network.multiple_network.LeagueNetwork object at 0x7fd40dae49b0>\n",
      "Season 8\n",
      "8\n",
      "<dfg_rating.model.network.multiple_network.LeagueNetwork object at 0x7fd40dae49b0>\n",
      "8 current_season\n",
      "8\n",
      "<dfg_rating.model.network.multiple_network.LeagueNetwork object at 0x7fd40dae49b0>\n",
      "Season 9\n",
      "9\n",
      "<dfg_rating.model.network.multiple_network.LeagueNetwork object at 0x7fd40dae49b0>\n",
      "9 current_season\n",
      "9\n",
      "<dfg_rating.model.network.multiple_network.LeagueNetwork object at 0x7fd40dae49b0>\n",
      "Season 0\n",
      "0\n",
      "<dfg_rating.model.network.multiple_network.LeagueNetwork object at 0x7fd40db3d860>\n",
      "0 current_season\n",
      "first season\n",
      "first season\n",
      "first season\n",
      "first season\n",
      "0\n",
      "<dfg_rating.model.network.multiple_network.LeagueNetwork object at 0x7fd40db3d860>\n",
      "Season 1\n",
      "1\n",
      "<dfg_rating.model.network.multiple_network.LeagueNetwork object at 0x7fd40db3d860>\n",
      "1 current_season\n",
      "1\n",
      "<dfg_rating.model.network.multiple_network.LeagueNetwork object at 0x7fd40db3d860>\n",
      "Season 2\n",
      "2\n",
      "<dfg_rating.model.network.multiple_network.LeagueNetwork object at 0x7fd40db3d860>\n",
      "2 current_season\n",
      "2\n",
      "<dfg_rating.model.network.multiple_network.LeagueNetwork object at 0x7fd40db3d860>\n",
      "Season 3\n",
      "3\n",
      "<dfg_rating.model.network.multiple_network.LeagueNetwork object at 0x7fd40db3d860>\n",
      "3 current_season\n",
      "3\n",
      "<dfg_rating.model.network.multiple_network.LeagueNetwork object at 0x7fd40db3d860>\n",
      "Season 4\n",
      "4\n",
      "<dfg_rating.model.network.multiple_network.LeagueNetwork object at 0x7fd40db3d860>\n",
      "4 current_season\n",
      "4\n",
      "<dfg_rating.model.network.multiple_network.LeagueNetwork object at 0x7fd40db3d860>\n",
      "Season 5\n",
      "5\n",
      "<dfg_rating.model.network.multiple_network.LeagueNetwork object at 0x7fd40db3d860>\n",
      "5 current_season\n",
      "5\n",
      "<dfg_rating.model.network.multiple_network.LeagueNetwork object at 0x7fd40db3d860>\n",
      "Season 6\n",
      "6\n",
      "<dfg_rating.model.network.multiple_network.LeagueNetwork object at 0x7fd40db3d860>\n",
      "6 current_season\n",
      "6\n",
      "<dfg_rating.model.network.multiple_network.LeagueNetwork object at 0x7fd40db3d860>\n",
      "Season 7\n",
      "7\n",
      "<dfg_rating.model.network.multiple_network.LeagueNetwork object at 0x7fd40db3d860>\n",
      "7 current_season\n",
      "7\n",
      "<dfg_rating.model.network.multiple_network.LeagueNetwork object at 0x7fd40db3d860>\n",
      "Season 8\n",
      "8\n",
      "<dfg_rating.model.network.multiple_network.LeagueNetwork object at 0x7fd40db3d860>\n",
      "8 current_season\n",
      "8\n",
      "<dfg_rating.model.network.multiple_network.LeagueNetwork object at 0x7fd40db3d860>\n",
      "Season 9\n",
      "9\n",
      "<dfg_rating.model.network.multiple_network.LeagueNetwork object at 0x7fd40db3d860>\n",
      "9 current_season\n",
      "9\n",
      "<dfg_rating.model.network.multiple_network.LeagueNetwork object at 0x7fd40db3d860>\n",
      "Season 0\n",
      "0\n",
      "<dfg_rating.model.network.multiple_network.LeagueNetwork object at 0x7fd40da9d240>\n",
      "0 current_season\n",
      "first season\n",
      "first season\n",
      "first season\n",
      "first season\n",
      "0\n",
      "<dfg_rating.model.network.multiple_network.LeagueNetwork object at 0x7fd40da9d240>\n",
      "Season 1\n",
      "1\n",
      "<dfg_rating.model.network.multiple_network.LeagueNetwork object at 0x7fd40da9d240>\n",
      "1 current_season\n",
      "1\n",
      "<dfg_rating.model.network.multiple_network.LeagueNetwork object at 0x7fd40da9d240>\n",
      "Season 2\n",
      "2\n",
      "<dfg_rating.model.network.multiple_network.LeagueNetwork object at 0x7fd40da9d240>\n",
      "2 current_season\n",
      "2\n",
      "<dfg_rating.model.network.multiple_network.LeagueNetwork object at 0x7fd40da9d240>\n",
      "Season 3\n",
      "3\n",
      "<dfg_rating.model.network.multiple_network.LeagueNetwork object at 0x7fd40da9d240>\n",
      "3 current_season\n",
      "3\n",
      "<dfg_rating.model.network.multiple_network.LeagueNetwork object at 0x7fd40da9d240>\n",
      "Season 4\n",
      "4\n",
      "<dfg_rating.model.network.multiple_network.LeagueNetwork object at 0x7fd40da9d240>\n",
      "4 current_season\n",
      "4\n",
      "<dfg_rating.model.network.multiple_network.LeagueNetwork object at 0x7fd40da9d240>\n",
      "Season 5\n",
      "5\n",
      "<dfg_rating.model.network.multiple_network.LeagueNetwork object at 0x7fd40da9d240>\n",
      "5 current_season\n",
      "5\n",
      "<dfg_rating.model.network.multiple_network.LeagueNetwork object at 0x7fd40da9d240>\n",
      "Season 6\n",
      "6\n",
      "<dfg_rating.model.network.multiple_network.LeagueNetwork object at 0x7fd40da9d240>\n",
      "6 current_season\n",
      "6\n",
      "<dfg_rating.model.network.multiple_network.LeagueNetwork object at 0x7fd40da9d240>\n",
      "Season 7\n",
      "7\n",
      "<dfg_rating.model.network.multiple_network.LeagueNetwork object at 0x7fd40da9d240>\n",
      "7 current_season\n",
      "7\n",
      "<dfg_rating.model.network.multiple_network.LeagueNetwork object at 0x7fd40da9d240>\n",
      "Season 8\n",
      "8\n",
      "<dfg_rating.model.network.multiple_network.LeagueNetwork object at 0x7fd40da9d240>\n",
      "8 current_season\n",
      "8\n",
      "<dfg_rating.model.network.multiple_network.LeagueNetwork object at 0x7fd40da9d240>\n",
      "Season 9\n",
      "9\n",
      "<dfg_rating.model.network.multiple_network.LeagueNetwork object at 0x7fd40da9d240>\n",
      "9 current_season\n",
      "9\n",
      "<dfg_rating.model.network.multiple_network.LeagueNetwork object at 0x7fd40da9d240>\n",
      "Season 0\n",
      "0\n",
      "<dfg_rating.model.network.multiple_network.LeagueNetwork object at 0x7fd40d9f1630>\n",
      "0 current_season\n",
      "first season\n",
      "first season\n",
      "first season\n",
      "first season\n",
      "0\n",
      "<dfg_rating.model.network.multiple_network.LeagueNetwork object at 0x7fd40d9f1630>\n",
      "Season 1\n",
      "1\n",
      "<dfg_rating.model.network.multiple_network.LeagueNetwork object at 0x7fd40d9f1630>\n",
      "1 current_season\n",
      "1\n",
      "<dfg_rating.model.network.multiple_network.LeagueNetwork object at 0x7fd40d9f1630>\n",
      "Season 2\n",
      "2\n",
      "<dfg_rating.model.network.multiple_network.LeagueNetwork object at 0x7fd40d9f1630>\n",
      "2 current_season\n",
      "2\n",
      "<dfg_rating.model.network.multiple_network.LeagueNetwork object at 0x7fd40d9f1630>\n",
      "Season 3\n",
      "3\n",
      "<dfg_rating.model.network.multiple_network.LeagueNetwork object at 0x7fd40d9f1630>\n",
      "3 current_season\n",
      "3\n",
      "<dfg_rating.model.network.multiple_network.LeagueNetwork object at 0x7fd40d9f1630>\n",
      "Season 4\n",
      "4\n",
      "<dfg_rating.model.network.multiple_network.LeagueNetwork object at 0x7fd40d9f1630>\n",
      "4 current_season\n",
      "4\n",
      "<dfg_rating.model.network.multiple_network.LeagueNetwork object at 0x7fd40d9f1630>\n",
      "Season 5\n",
      "5\n",
      "<dfg_rating.model.network.multiple_network.LeagueNetwork object at 0x7fd40d9f1630>\n",
      "5 current_season\n",
      "5\n",
      "<dfg_rating.model.network.multiple_network.LeagueNetwork object at 0x7fd40d9f1630>\n",
      "Season 6\n",
      "6\n",
      "<dfg_rating.model.network.multiple_network.LeagueNetwork object at 0x7fd40d9f1630>\n",
      "6 current_season\n",
      "6\n",
      "<dfg_rating.model.network.multiple_network.LeagueNetwork object at 0x7fd40d9f1630>\n",
      "Season 7\n",
      "7\n",
      "<dfg_rating.model.network.multiple_network.LeagueNetwork object at 0x7fd40d9f1630>\n",
      "7 current_season\n",
      "7\n",
      "<dfg_rating.model.network.multiple_network.LeagueNetwork object at 0x7fd40d9f1630>\n",
      "Season 8\n",
      "8\n",
      "<dfg_rating.model.network.multiple_network.LeagueNetwork object at 0x7fd40d9f1630>\n",
      "8 current_season\n",
      "8\n",
      "<dfg_rating.model.network.multiple_network.LeagueNetwork object at 0x7fd40d9f1630>\n",
      "Season 9\n",
      "9\n",
      "<dfg_rating.model.network.multiple_network.LeagueNetwork object at 0x7fd40d9f1630>\n",
      "9 current_season\n",
      "9\n",
      "<dfg_rating.model.network.multiple_network.LeagueNetwork object at 0x7fd40d9f1630>\n",
      "Season 0\n",
      "0\n",
      "<dfg_rating.model.network.multiple_network.LeagueNetwork object at 0x7fd40d9c6d68>\n",
      "0 current_season\n",
      "first season\n",
      "first season\n",
      "first season\n",
      "first season\n",
      "0\n",
      "<dfg_rating.model.network.multiple_network.LeagueNetwork object at 0x7fd40d9c6d68>\n",
      "Season 1\n",
      "1\n",
      "<dfg_rating.model.network.multiple_network.LeagueNetwork object at 0x7fd40d9c6d68>\n",
      "1 current_season\n",
      "1\n",
      "<dfg_rating.model.network.multiple_network.LeagueNetwork object at 0x7fd40d9c6d68>\n",
      "Season 2\n",
      "2\n",
      "<dfg_rating.model.network.multiple_network.LeagueNetwork object at 0x7fd40d9c6d68>\n",
      "2 current_season\n",
      "2\n",
      "<dfg_rating.model.network.multiple_network.LeagueNetwork object at 0x7fd40d9c6d68>\n",
      "Season 3\n",
      "3\n",
      "<dfg_rating.model.network.multiple_network.LeagueNetwork object at 0x7fd40d9c6d68>\n",
      "3 current_season\n",
      "3\n",
      "<dfg_rating.model.network.multiple_network.LeagueNetwork object at 0x7fd40d9c6d68>\n",
      "Season 4\n",
      "4\n",
      "<dfg_rating.model.network.multiple_network.LeagueNetwork object at 0x7fd40d9c6d68>\n",
      "4 current_season\n",
      "4\n",
      "<dfg_rating.model.network.multiple_network.LeagueNetwork object at 0x7fd40d9c6d68>\n",
      "Season 5\n",
      "5\n",
      "<dfg_rating.model.network.multiple_network.LeagueNetwork object at 0x7fd40d9c6d68>\n",
      "5 current_season\n",
      "5\n",
      "<dfg_rating.model.network.multiple_network.LeagueNetwork object at 0x7fd40d9c6d68>\n",
      "Season 6\n",
      "6\n",
      "<dfg_rating.model.network.multiple_network.LeagueNetwork object at 0x7fd40d9c6d68>\n",
      "6 current_season\n",
      "6\n",
      "<dfg_rating.model.network.multiple_network.LeagueNetwork object at 0x7fd40d9c6d68>\n",
      "Season 7\n",
      "7\n",
      "<dfg_rating.model.network.multiple_network.LeagueNetwork object at 0x7fd40d9c6d68>\n",
      "7 current_season\n",
      "7\n",
      "<dfg_rating.model.network.multiple_network.LeagueNetwork object at 0x7fd40d9c6d68>\n",
      "Season 8\n",
      "8\n",
      "<dfg_rating.model.network.multiple_network.LeagueNetwork object at 0x7fd40d9c6d68>\n",
      "8 current_season\n",
      "8\n",
      "<dfg_rating.model.network.multiple_network.LeagueNetwork object at 0x7fd40d9c6d68>\n",
      "Season 9\n",
      "9\n",
      "<dfg_rating.model.network.multiple_network.LeagueNetwork object at 0x7fd40d9c6d68>\n",
      "9 current_season\n",
      "9\n",
      "<dfg_rating.model.network.multiple_network.LeagueNetwork object at 0x7fd40d9c6d68>\n",
      "Season 0\n",
      "0\n",
      "<dfg_rating.model.network.multiple_network.LeagueNetwork object at 0x7fd40d96d710>\n",
      "0 current_season\n",
      "first season\n",
      "first season\n",
      "first season\n",
      "first season\n",
      "0\n",
      "<dfg_rating.model.network.multiple_network.LeagueNetwork object at 0x7fd40d96d710>\n",
      "Season 1\n",
      "1\n",
      "<dfg_rating.model.network.multiple_network.LeagueNetwork object at 0x7fd40d96d710>\n",
      "1 current_season\n",
      "1\n",
      "<dfg_rating.model.network.multiple_network.LeagueNetwork object at 0x7fd40d96d710>\n",
      "Season 2\n",
      "2\n",
      "<dfg_rating.model.network.multiple_network.LeagueNetwork object at 0x7fd40d96d710>\n",
      "2 current_season\n",
      "2\n",
      "<dfg_rating.model.network.multiple_network.LeagueNetwork object at 0x7fd40d96d710>\n",
      "Season 3\n",
      "3\n",
      "<dfg_rating.model.network.multiple_network.LeagueNetwork object at 0x7fd40d96d710>\n",
      "3 current_season\n",
      "3\n",
      "<dfg_rating.model.network.multiple_network.LeagueNetwork object at 0x7fd40d96d710>\n",
      "Season 4\n",
      "4\n",
      "<dfg_rating.model.network.multiple_network.LeagueNetwork object at 0x7fd40d96d710>\n",
      "4 current_season\n",
      "4\n",
      "<dfg_rating.model.network.multiple_network.LeagueNetwork object at 0x7fd40d96d710>\n",
      "Season 5\n",
      "5\n",
      "<dfg_rating.model.network.multiple_network.LeagueNetwork object at 0x7fd40d96d710>\n",
      "5 current_season\n",
      "5\n",
      "<dfg_rating.model.network.multiple_network.LeagueNetwork object at 0x7fd40d96d710>\n",
      "Season 6\n",
      "6\n",
      "<dfg_rating.model.network.multiple_network.LeagueNetwork object at 0x7fd40d96d710>\n",
      "6 current_season\n",
      "6\n",
      "<dfg_rating.model.network.multiple_network.LeagueNetwork object at 0x7fd40d96d710>\n",
      "Season 7\n",
      "7\n",
      "<dfg_rating.model.network.multiple_network.LeagueNetwork object at 0x7fd40d96d710>\n",
      "7 current_season\n",
      "7\n",
      "<dfg_rating.model.network.multiple_network.LeagueNetwork object at 0x7fd40d96d710>\n",
      "Season 8\n",
      "8\n",
      "<dfg_rating.model.network.multiple_network.LeagueNetwork object at 0x7fd40d96d710>\n",
      "8 current_season\n",
      "8\n",
      "<dfg_rating.model.network.multiple_network.LeagueNetwork object at 0x7fd40d96d710>\n",
      "Season 9\n",
      "9\n",
      "<dfg_rating.model.network.multiple_network.LeagueNetwork object at 0x7fd40d96d710>\n",
      "9 current_season\n",
      "9\n",
      "<dfg_rating.model.network.multiple_network.LeagueNetwork object at 0x7fd40d96d710>\n",
      "Season 0\n",
      "0\n",
      "<dfg_rating.model.network.multiple_network.LeagueNetwork object at 0x7fd40d8fba20>\n",
      "0 current_season\n",
      "first season\n",
      "first season\n",
      "first season\n",
      "first season\n",
      "0\n",
      "<dfg_rating.model.network.multiple_network.LeagueNetwork object at 0x7fd40d8fba20>\n",
      "Season 1\n",
      "1\n",
      "<dfg_rating.model.network.multiple_network.LeagueNetwork object at 0x7fd40d8fba20>\n",
      "1 current_season\n",
      "1\n",
      "<dfg_rating.model.network.multiple_network.LeagueNetwork object at 0x7fd40d8fba20>\n",
      "Season 2\n",
      "2\n",
      "<dfg_rating.model.network.multiple_network.LeagueNetwork object at 0x7fd40d8fba20>\n",
      "2 current_season\n",
      "2\n",
      "<dfg_rating.model.network.multiple_network.LeagueNetwork object at 0x7fd40d8fba20>\n",
      "Season 3\n",
      "3\n",
      "<dfg_rating.model.network.multiple_network.LeagueNetwork object at 0x7fd40d8fba20>\n",
      "3 current_season\n",
      "3\n",
      "<dfg_rating.model.network.multiple_network.LeagueNetwork object at 0x7fd40d8fba20>\n",
      "Season 4\n",
      "4\n",
      "<dfg_rating.model.network.multiple_network.LeagueNetwork object at 0x7fd40d8fba20>\n",
      "4 current_season\n",
      "4\n",
      "<dfg_rating.model.network.multiple_network.LeagueNetwork object at 0x7fd40d8fba20>\n",
      "Season 5\n",
      "5\n",
      "<dfg_rating.model.network.multiple_network.LeagueNetwork object at 0x7fd40d8fba20>\n",
      "5 current_season\n",
      "5\n",
      "<dfg_rating.model.network.multiple_network.LeagueNetwork object at 0x7fd40d8fba20>\n",
      "Season 6\n",
      "6\n",
      "<dfg_rating.model.network.multiple_network.LeagueNetwork object at 0x7fd40d8fba20>\n",
      "6 current_season\n",
      "6\n",
      "<dfg_rating.model.network.multiple_network.LeagueNetwork object at 0x7fd40d8fba20>\n",
      "Season 7\n",
      "7\n",
      "<dfg_rating.model.network.multiple_network.LeagueNetwork object at 0x7fd40d8fba20>\n",
      "7 current_season\n",
      "7\n",
      "<dfg_rating.model.network.multiple_network.LeagueNetwork object at 0x7fd40d8fba20>\n",
      "Season 8\n",
      "8\n",
      "<dfg_rating.model.network.multiple_network.LeagueNetwork object at 0x7fd40d8fba20>\n",
      "8 current_season\n",
      "8\n",
      "<dfg_rating.model.network.multiple_network.LeagueNetwork object at 0x7fd40d8fba20>\n",
      "Season 9\n",
      "9\n",
      "<dfg_rating.model.network.multiple_network.LeagueNetwork object at 0x7fd40d8fba20>\n",
      "9 current_season\n",
      "9\n",
      "<dfg_rating.model.network.multiple_network.LeagueNetwork object at 0x7fd40d8fba20>\n",
      "Season 0\n",
      "0\n",
      "<dfg_rating.model.network.multiple_network.LeagueNetwork object at 0x7fd40d8cffd0>\n",
      "0 current_season\n",
      "first season\n",
      "first season\n",
      "first season\n",
      "first season\n",
      "0\n",
      "<dfg_rating.model.network.multiple_network.LeagueNetwork object at 0x7fd40d8cffd0>\n",
      "Season 1\n",
      "1\n",
      "<dfg_rating.model.network.multiple_network.LeagueNetwork object at 0x7fd40d8cffd0>\n",
      "1 current_season\n",
      "1\n",
      "<dfg_rating.model.network.multiple_network.LeagueNetwork object at 0x7fd40d8cffd0>\n",
      "Season 2\n",
      "2\n",
      "<dfg_rating.model.network.multiple_network.LeagueNetwork object at 0x7fd40d8cffd0>\n",
      "2 current_season\n",
      "2\n",
      "<dfg_rating.model.network.multiple_network.LeagueNetwork object at 0x7fd40d8cffd0>\n",
      "Season 3\n",
      "3\n",
      "<dfg_rating.model.network.multiple_network.LeagueNetwork object at 0x7fd40d8cffd0>\n",
      "3 current_season\n",
      "3\n",
      "<dfg_rating.model.network.multiple_network.LeagueNetwork object at 0x7fd40d8cffd0>\n",
      "Season 4\n",
      "4\n",
      "<dfg_rating.model.network.multiple_network.LeagueNetwork object at 0x7fd40d8cffd0>\n",
      "4 current_season\n",
      "4\n",
      "<dfg_rating.model.network.multiple_network.LeagueNetwork object at 0x7fd40d8cffd0>\n",
      "Season 5\n",
      "5\n",
      "<dfg_rating.model.network.multiple_network.LeagueNetwork object at 0x7fd40d8cffd0>\n",
      "5 current_season\n",
      "5\n",
      "<dfg_rating.model.network.multiple_network.LeagueNetwork object at 0x7fd40d8cffd0>\n",
      "Season 6\n",
      "6\n",
      "<dfg_rating.model.network.multiple_network.LeagueNetwork object at 0x7fd40d8cffd0>\n",
      "6 current_season\n",
      "6\n",
      "<dfg_rating.model.network.multiple_network.LeagueNetwork object at 0x7fd40d8cffd0>\n",
      "Season 7\n",
      "7\n",
      "<dfg_rating.model.network.multiple_network.LeagueNetwork object at 0x7fd40d8cffd0>\n",
      "7 current_season\n",
      "7\n",
      "<dfg_rating.model.network.multiple_network.LeagueNetwork object at 0x7fd40d8cffd0>\n",
      "Season 8\n",
      "8\n",
      "<dfg_rating.model.network.multiple_network.LeagueNetwork object at 0x7fd40d8cffd0>\n",
      "8 current_season\n",
      "8\n",
      "<dfg_rating.model.network.multiple_network.LeagueNetwork object at 0x7fd40d8cffd0>\n",
      "Season 9\n",
      "9\n",
      "<dfg_rating.model.network.multiple_network.LeagueNetwork object at 0x7fd40d8cffd0>\n",
      "9 current_season\n",
      "9\n",
      "<dfg_rating.model.network.multiple_network.LeagueNetwork object at 0x7fd40d8cffd0>\n",
      "Season 0\n",
      "0\n",
      "<dfg_rating.model.network.multiple_network.LeagueNetwork object at 0x7fd40d8ac630>\n",
      "0 current_season\n",
      "first season\n",
      "first season\n",
      "first season\n",
      "first season\n",
      "0\n",
      "<dfg_rating.model.network.multiple_network.LeagueNetwork object at 0x7fd40d8ac630>\n",
      "Season 1\n",
      "1\n",
      "<dfg_rating.model.network.multiple_network.LeagueNetwork object at 0x7fd40d8ac630>\n",
      "1 current_season\n",
      "1\n",
      "<dfg_rating.model.network.multiple_network.LeagueNetwork object at 0x7fd40d8ac630>\n",
      "Season 2\n",
      "2\n",
      "<dfg_rating.model.network.multiple_network.LeagueNetwork object at 0x7fd40d8ac630>\n",
      "2 current_season\n",
      "2\n",
      "<dfg_rating.model.network.multiple_network.LeagueNetwork object at 0x7fd40d8ac630>\n",
      "Season 3\n",
      "3\n",
      "<dfg_rating.model.network.multiple_network.LeagueNetwork object at 0x7fd40d8ac630>\n",
      "3 current_season\n",
      "3\n",
      "<dfg_rating.model.network.multiple_network.LeagueNetwork object at 0x7fd40d8ac630>\n",
      "Season 4\n",
      "4\n",
      "<dfg_rating.model.network.multiple_network.LeagueNetwork object at 0x7fd40d8ac630>\n",
      "4 current_season\n",
      "4\n",
      "<dfg_rating.model.network.multiple_network.LeagueNetwork object at 0x7fd40d8ac630>\n",
      "Season 5\n",
      "5\n",
      "<dfg_rating.model.network.multiple_network.LeagueNetwork object at 0x7fd40d8ac630>\n",
      "5 current_season\n",
      "5\n",
      "<dfg_rating.model.network.multiple_network.LeagueNetwork object at 0x7fd40d8ac630>\n",
      "Season 6\n",
      "6\n",
      "<dfg_rating.model.network.multiple_network.LeagueNetwork object at 0x7fd40d8ac630>\n",
      "6 current_season\n",
      "6\n",
      "<dfg_rating.model.network.multiple_network.LeagueNetwork object at 0x7fd40d8ac630>\n",
      "Season 7\n",
      "7\n",
      "<dfg_rating.model.network.multiple_network.LeagueNetwork object at 0x7fd40d8ac630>\n",
      "7 current_season\n",
      "7\n",
      "<dfg_rating.model.network.multiple_network.LeagueNetwork object at 0x7fd40d8ac630>\n",
      "Season 8\n",
      "8\n",
      "<dfg_rating.model.network.multiple_network.LeagueNetwork object at 0x7fd40d8ac630>\n",
      "8 current_season\n",
      "8\n",
      "<dfg_rating.model.network.multiple_network.LeagueNetwork object at 0x7fd40d8ac630>\n",
      "Season 9\n",
      "9\n",
      "<dfg_rating.model.network.multiple_network.LeagueNetwork object at 0x7fd40d8ac630>\n",
      "9 current_season\n",
      "9\n",
      "<dfg_rating.model.network.multiple_network.LeagueNetwork object at 0x7fd40d8ac630>\n",
      "40 leagues added in 5.015976428985596 seconds.\n"
     ]
    }
   ],
   "source": [
    "gen_start_time = time.time()\n",
    "for league in range(numberLeagues):\n",
    "    if config[\"create_data\"]:\n",
    "        network: BaseNetwork = factory.new_network(\n",
    "            'multiple-round-robin',\n",
    "            teams=config[\"number_of_teams\"],\n",
    "            days_between_rounds=7,\n",
    "            seasons=config[\"number_of_seasons\"],\n",
    "            league_teams=config[\"number_of_teams\"],\n",
    "            league_promotion=0,\n",
    "            create=True,\n",
    "            true_forecast=LogFunctionForecast(\n",
    "                outcomes=['home', 'draw', 'away'], \n",
    "                coefficients = config[\"true_forecast\"][\"coefficients\"], \n",
    "                beta_parameter=config[\"true_forecast\"][\"beta\"]\n",
    "            ),\n",
    "            true_rating=ControlledTrendRating(\n",
    "                starting_point=ControlledRandomFunction(distribution='normal', loc=1000, scale=100),\n",
    "                delta=ControlledRandomFunction(distribution='normal', loc=0, scale=3),\n",
    "                trend=ControlledRandomFunction(distribution='normal', loc=0, scale=20/365),\n",
    "                season_delta=ControlledRandomFunction(distribution='normal', loc=0, scale=10)\n",
    "            )\n",
    "        )\n",
    "        #adding biased bookmaker forecast to the network\n",
    "        network.add_forecast(\n",
    "            forecast=LogFunctionForecast(\n",
    "                outcomes=['home', 'draw', 'away'], \n",
    "                coefficients = config[\"bookmaker_forecast\"][\"coefficients\"], \n",
    "                beta_parameter=config[\"bookmaker_forecast\"][\"beta\"], \n",
    "                home_team_error=rating_error_bookmaker, \n",
    "                away_team_error=rating_error_bookmaker\n",
    "            ),\n",
    "            forecast_name='bookmaker_forecast',\n",
    "            base_ranking='true_rating'\n",
    "        )\n",
    "        #adding odds    \n",
    "        network.add_odds(\n",
    "            bookmaker_name=\"bm1\",\n",
    "            bookmaker=bookmaker1,\n",
    "            base_forecast='bookmaker_forecast'\n",
    "        )\n",
    "        network.add_odds(\n",
    "            bookmaker_name=\"bm2\",\n",
    "            bookmaker=bookmaker2,\n",
    "            base_forecast='bookmaker_forecast'\n",
    "        )\n",
    "        network.add_odds(\n",
    "            bookmaker_name=\"bm3\",\n",
    "            bookmaker=bookmaker3,\n",
    "            base_forecast='bookmaker_forecast'\n",
    "        )\n",
    "    else:\n",
    "        print(\"Loading network data\")\n",
    "        main_controller.load_network_from_sql(\n",
    "            network_name=f\"{config['test_name']}_network_{league}\",\n",
    "            new_network_name=f\"{config['test_name']}_network_{league}\"\n",
    "        )\n",
    "        network: BaseNetwork = main_controller.networks[f\"{config['test_name']}_network_{league}\"]\n",
    "    networks.append(network)\n",
    "print(f\"{numberLeagues} leagues added in {float(time.time() - gen_start_time)} seconds.\")"
   ]
  },
  {
   "cell_type": "markdown",
   "id": "9464f6ec",
   "metadata": {},
   "source": [
    "# Run"
   ]
  },
  {
   "cell_type": "markdown",
   "id": "9514e884",
   "metadata": {},
   "source": [
    "We iterate over the grid of possible parameters for the experiment and aggregate the final results."
   ]
  },
  {
   "cell_type": "markdown",
   "id": "d6136895",
   "metadata": {},
   "source": [
    "### Functions"
   ]
  },
  {
   "cell_type": "code",
   "execution_count": 11,
   "id": "5c9e7bf5",
   "metadata": {
    "tags": []
   },
   "outputs": [],
   "source": [
    "def aggregate_measures(list_of_matches, prefix='', addBettingMetrics=True):\n",
    "    measures = {\n",
    "        prefix+'_rps': np.mean([m[3]['metrics']['rps'] for m in list_of_matches]),\n",
    "        prefix+'_likelihood': sum([m[3]['metrics']['likelihood'] for m in list_of_matches]),\n",
    "        prefix+'_prob_diff': np.mean([m[3]['metrics']['prob_diff'] for m in list_of_matches]),\n",
    "        prefix+'_draw_prob': np.mean([m[3]['metrics']['draw_prob'] for m in list_of_matches]),\n",
    "        prefix+'_fav_prob': np.mean([m[3]['metrics']['fav_prob'] for m in list_of_matches])\n",
    "    }\n",
    "    if addBettingMetrics:\n",
    "        for m in list_of_matches:\n",
    "            betting_returns_keys = [k for k in m[3]['metrics'].keys() if k.startswith('betting_returns')]\n",
    "            betting_activity_keys = [k for k in m[3]['metrics'].keys() if k.startswith('betting_activity')]\n",
    "            for br in betting_returns_keys:\n",
    "                measures[f\"{prefix}_{br}\"] = sum([b[0] for b in m[3]['metrics'][br]]) + measures.get(f\"{prefix}_{br}\", 0.0)\n",
    "                #measures[f\"{prefix}_{br}_multiplied\"] = sum([math.log(b[1]) for b in m[3]['metrics'][br]]) + measures.get(f\"{prefix}_{br}_multiplied\", 0)\n",
    "                measures[f\"{prefix}_{br}_expected\"] = sum([b[2] for b in m[3]['metrics'][br]]) + measures.get(f\"{prefix}_{br}_expected\", 0.0)\n",
    "                #measures[f\"{prefix}_{br}_expected_multiplied\"] = sum([math.log(b[3]) for b in m[3]['metrics'][br]]) + measures.get(f\"{prefix}_{br}_expected_multiplied\", 0)\n",
    "            for ba in betting_activity_keys:\n",
    "                measures[f\"{prefix}_{ba}_activity\"] = m[3]['metrics'][ba]['qty'] + measures.get(f\"{prefix}_{ba}_activity\", 0.0)\n",
    "    return measures"
   ]
  },
  {
   "cell_type": "markdown",
   "id": "b4603155",
   "metadata": {},
   "source": [
    "Getting first the values for the true model and the bookmaker model. Remove some of the if they are not needed and if the IS/OOS split is not required."
   ]
  },
  {
   "cell_type": "code",
   "execution_count": 12,
   "id": "3cfc1303",
   "metadata": {
    "tags": []
   },
   "outputs": [
    {
     "name": "stderr",
     "output_type": "stream",
     "text": [
      "100%|██████████| 40/40 [00:00<00:00, 185.87it/s]\n",
      "100%|██████████| 40/40 [00:00<00:00, 183.60it/s]\n"
     ]
    }
   ],
   "source": [
    "entire_model_values = {}\n",
    "for forecast_pointer in ['true_forecast', 'bookmaker_forecast']:\n",
    "    all_matches =  []\n",
    "    is_matches =  []\n",
    "    oos_matches =  []\n",
    "    for network in tqdm(networks):\n",
    "        rps = RankProbabilityScore(outcomes=['home', 'draw', 'away'], forecast_name = forecast_pointer)\n",
    "        likelihood = Likelihood(outcomes=['home', 'draw', 'away'], forecast_name = forecast_pointer)\n",
    "        difference = ProbabilityDifference(outcomes=['home', 'draw', 'away'], forecast_name = forecast_pointer)\n",
    "        draw_probability = ProbabilityPointer(outcomes=['home', 'draw', 'away'], forecast_name = forecast_pointer, probability_index=1)\n",
    "        fav_probability = FavouriteProbability(outcomes=['home', 'draw', 'away'], forecast_name = forecast_pointer)\n",
    "        network.add_evaluation([\n",
    "            (rps, 'rps'),\n",
    "            (likelihood, 'likelihood'),\n",
    "            (difference, 'prob_diff'),\n",
    "            (draw_probability, 'draw_prob'),\n",
    "            (fav_probability, 'fav_prob')\n",
    "        ])\n",
    "        all_matches += [(a,h, match_id, match_attributes) for a,h, match_id, match_attributes in network.iterate_over_games()]\n",
    "        is_matches += [(a,h, match_id, match_attributes) for a,h, match_id, match_attributes in network.iterate_over_games() if match_attributes['season'] < 6]\n",
    "        oos_matches += [(a,h, match_id, match_attributes) for a,h, match_id, match_attributes in network.iterate_over_games() if match_attributes['season'] > 5]\n",
    "\n",
    "    result_all = aggregate_measures(all_matches, f'all_{forecast_pointer}', False)\n",
    "    result_is = aggregate_measures(is_matches, f'is_{forecast_pointer}', False)\n",
    "    result_oos = aggregate_measures(oos_matches, f'oos_{forecast_pointer}', False)\n",
    "    entire_model_values = {\n",
    "        **entire_model_values,\n",
    "        **result_is, **result_oos, **result_all\n",
    "    }"
   ]
  },
  {
   "cell_type": "markdown",
   "id": "c1901fa6",
   "metadata": {},
   "source": [
    "Cross validation spits and results of each permutation"
   ]
  },
  {
   "cell_type": "code",
   "execution_count": 13,
   "id": "dc37e7ca",
   "metadata": {
    "pycharm": {
     "name": "#%%\n"
    },
    "tags": []
   },
   "outputs": [],
   "source": [
    "def cross_validate_betting_returns(matches_array, n_splits, model_hint):\n",
    "    kf = np.array_split(matches_array, n_splits)\n",
    "    combinations = [(in_s, out_s) for in_s, out_s in it.permutations(range(len(kf)), r=2)]\n",
    "    result = []\n",
    "    aggregated_splits = [aggregate_measures(kf[sample_index]) for sample_index in range(n_splits)]\n",
    "        \n",
    "    for in_sample_index, out_sample_index in tqdm(combinations):\n",
    "        result_is = {f\"is{k}\": v for k, v in aggregated_splits[in_sample_index].items()}\n",
    "        result_oos = {f\"oos{k}\": v for k, v in aggregated_splits[out_sample_index].items()}\n",
    "        result.append({\n",
    "            \"permutation\": f\"{in_sample_index} x {out_sample_index}\",\n",
    "            \"model_hint\": model_hint,\n",
    "            **result_is,\n",
    "            **result_oos\n",
    "        })\n",
    "    return result"
   ]
  },
  {
   "cell_type": "markdown",
   "id": "1a170129",
   "metadata": {},
   "source": [
    "### Initialization of results and cross validation output"
   ]
  },
  {
   "cell_type": "code",
   "execution_count": 14,
   "id": "26a1ba1b",
   "metadata": {},
   "outputs": [],
   "source": [
    "result_list = []\n",
    "cv_result = []"
   ]
  },
  {
   "cell_type": "markdown",
   "id": "599f1eb7",
   "metadata": {},
   "source": [
    "### Main loop"
   ]
  },
  {
   "cell_type": "code",
   "execution_count": 15,
   "id": "a189758f",
   "metadata": {},
   "outputs": [
    {
     "name": "stdout",
     "output_type": "stream",
     "text": [
      "Variables: c0: -1.2, c1: 0.0 and beta: 0.002\n",
      "BMs finished in 1.8741357326507568 seconds\n"
     ]
    },
    {
     "name": "stderr",
     "output_type": "stream",
     "text": [
      "100%|██████████| 380/380 [00:00<00:00, 78754.60it/s]"
     ]
    },
    {
     "name": "stdout",
     "output_type": "stream",
     "text": [
      "CV finished in 0.16178274154663086 seconds\n"
     ]
    },
    {
     "name": "stderr",
     "output_type": "stream",
     "text": [
      "\n"
     ]
    },
    {
     "name": "stdout",
     "output_type": "stream",
     "text": [
      "Aggregation finished in 0.37009239196777344 seconds\n",
      "Finished in 2.40664005279541 seconds\n",
      "Variables: c0: -1.2, c1: 0.0 and beta: 0.004\n",
      "BMs finished in 1.8031115531921387 seconds\n"
     ]
    },
    {
     "name": "stderr",
     "output_type": "stream",
     "text": [
      "100%|██████████| 380/380 [00:00<00:00, 46657.95it/s]"
     ]
    },
    {
     "name": "stdout",
     "output_type": "stream",
     "text": [
      "CV finished in 0.1865859031677246 seconds\n"
     ]
    },
    {
     "name": "stderr",
     "output_type": "stream",
     "text": [
      "\n"
     ]
    },
    {
     "name": "stdout",
     "output_type": "stream",
     "text": [
      "Aggregation finished in 0.36812376976013184 seconds\n",
      "Finished in 2.358492612838745 seconds\n",
      "Variables: c0: -1.2, c1: 0.0 and beta: 0.006\n",
      "BMs finished in 1.701634407043457 seconds\n"
     ]
    },
    {
     "name": "stderr",
     "output_type": "stream",
     "text": [
      "100%|██████████| 380/380 [00:00<00:00, 72289.35it/s]"
     ]
    },
    {
     "name": "stdout",
     "output_type": "stream",
     "text": [
      "CV finished in 0.21250128746032715 seconds\n"
     ]
    },
    {
     "name": "stderr",
     "output_type": "stream",
     "text": [
      "\n"
     ]
    },
    {
     "name": "stdout",
     "output_type": "stream",
     "text": [
      "Aggregation finished in 0.4475998878479004 seconds\n",
      "Finished in 2.3625733852386475 seconds\n",
      "Variables: c0: -1.2, c1: 0.0 and beta: 0.008\n",
      "BMs finished in 2.323866128921509 seconds\n"
     ]
    },
    {
     "name": "stderr",
     "output_type": "stream",
     "text": [
      "100%|██████████| 380/380 [00:00<00:00, 54265.62it/s]"
     ]
    },
    {
     "name": "stdout",
     "output_type": "stream",
     "text": [
      "CV finished in 0.19773030281066895 seconds\n"
     ]
    },
    {
     "name": "stderr",
     "output_type": "stream",
     "text": [
      "\n"
     ]
    },
    {
     "name": "stdout",
     "output_type": "stream",
     "text": [
      "Aggregation finished in 0.4372706413269043 seconds\n",
      "Finished in 2.959991455078125 seconds\n",
      "Variables: c0: -1.2, c1: 0.1 and beta: 0.002\n",
      "BMs finished in 1.8727569580078125 seconds\n"
     ]
    },
    {
     "name": "stderr",
     "output_type": "stream",
     "text": [
      "100%|██████████| 380/380 [00:00<00:00, 60235.66it/s]"
     ]
    },
    {
     "name": "stdout",
     "output_type": "stream",
     "text": [
      "CV finished in 0.17656826972961426 seconds\n"
     ]
    },
    {
     "name": "stderr",
     "output_type": "stream",
     "text": [
      "\n"
     ]
    },
    {
     "name": "stdout",
     "output_type": "stream",
     "text": [
      "Aggregation finished in 0.4218740463256836 seconds\n",
      "Finished in 2.472095012664795 seconds\n",
      "Variables: c0: -1.2, c1: 0.1 and beta: 0.004\n",
      "BMs finished in 2.7540132999420166 seconds\n"
     ]
    },
    {
     "name": "stderr",
     "output_type": "stream",
     "text": [
      "100%|██████████| 380/380 [00:00<00:00, 52138.95it/s]\n"
     ]
    },
    {
     "name": "stdout",
     "output_type": "stream",
     "text": [
      "CV finished in 0.2780141830444336 seconds\n",
      "Aggregation finished in 0.4504551887512207 seconds\n",
      "Finished in 3.483229398727417 seconds\n",
      "Variables: c0: -1.2, c1: 0.1 and beta: 0.006\n",
      "BMs finished in 1.9727373123168945 seconds\n"
     ]
    },
    {
     "name": "stderr",
     "output_type": "stream",
     "text": [
      "100%|██████████| 380/380 [00:00<00:00, 64606.22it/s]\n"
     ]
    },
    {
     "name": "stdout",
     "output_type": "stream",
     "text": [
      "CV finished in 0.23769235610961914 seconds\n",
      "Aggregation finished in 0.43236637115478516 seconds\n",
      "Finished in 2.64349102973938 seconds\n",
      "Variables: c0: -1.2, c1: 0.1 and beta: 0.008\n",
      "BMs finished in 1.953989028930664 seconds\n"
     ]
    },
    {
     "name": "stderr",
     "output_type": "stream",
     "text": [
      "100%|██████████| 380/380 [00:00<00:00, 64239.07it/s]"
     ]
    },
    {
     "name": "stdout",
     "output_type": "stream",
     "text": [
      "CV finished in 0.17949223518371582 seconds\n"
     ]
    },
    {
     "name": "stderr",
     "output_type": "stream",
     "text": [
      "\n"
     ]
    },
    {
     "name": "stdout",
     "output_type": "stream",
     "text": [
      "Aggregation finished in 0.439591646194458 seconds\n",
      "Finished in 2.5737223625183105 seconds\n",
      "Variables: c0: -1.2, c1: 0.2 and beta: 0.002\n",
      "BMs finished in 2.169027805328369 seconds\n"
     ]
    },
    {
     "name": "stderr",
     "output_type": "stream",
     "text": [
      "100%|██████████| 380/380 [00:00<00:00, 43571.23it/s]\n"
     ]
    },
    {
     "name": "stdout",
     "output_type": "stream",
     "text": [
      "CV finished in 0.22074389457702637 seconds\n",
      "Aggregation finished in 0.5719273090362549 seconds\n",
      "Finished in 2.962475538253784 seconds\n",
      "Variables: c0: -1.2, c1: 0.2 and beta: 0.004\n",
      "BMs finished in 2.2973744869232178 seconds\n"
     ]
    },
    {
     "name": "stderr",
     "output_type": "stream",
     "text": [
      "100%|██████████| 380/380 [00:00<00:00, 66821.88it/s]"
     ]
    },
    {
     "name": "stdout",
     "output_type": "stream",
     "text": [
      "CV finished in 0.16075754165649414 seconds\n"
     ]
    },
    {
     "name": "stderr",
     "output_type": "stream",
     "text": [
      "\n"
     ]
    },
    {
     "name": "stdout",
     "output_type": "stream",
     "text": [
      "Aggregation finished in 0.3748459815979004 seconds\n",
      "Finished in 2.834012031555176 seconds\n",
      "Variables: c0: -1.2, c1: 0.2 and beta: 0.006\n",
      "BMs finished in 1.6362545490264893 seconds\n"
     ]
    },
    {
     "name": "stderr",
     "output_type": "stream",
     "text": [
      "100%|██████████| 380/380 [00:00<00:00, 72305.74it/s]"
     ]
    },
    {
     "name": "stdout",
     "output_type": "stream",
     "text": [
      "CV finished in 0.16473650932312012 seconds\n"
     ]
    },
    {
     "name": "stderr",
     "output_type": "stream",
     "text": [
      "\n"
     ]
    },
    {
     "name": "stdout",
     "output_type": "stream",
     "text": [
      "Aggregation finished in 0.3815631866455078 seconds\n",
      "Finished in 2.183131694793701 seconds\n",
      "Variables: c0: -1.2, c1: 0.2 and beta: 0.008\n",
      "BMs finished in 1.6471962928771973 seconds\n"
     ]
    },
    {
     "name": "stderr",
     "output_type": "stream",
     "text": [
      "100%|██████████| 380/380 [00:00<00:00, 51904.63it/s]"
     ]
    },
    {
     "name": "stdout",
     "output_type": "stream",
     "text": [
      "CV finished in 0.18015575408935547 seconds\n"
     ]
    },
    {
     "name": "stderr",
     "output_type": "stream",
     "text": [
      "\n"
     ]
    },
    {
     "name": "stdout",
     "output_type": "stream",
     "text": [
      "Aggregation finished in 0.4320082664489746 seconds\n",
      "Finished in 2.259986400604248 seconds\n",
      "Variables: c0: -1.2, c1: 0.30000000000000004 and beta: 0.002\n",
      "BMs finished in 1.925328254699707 seconds\n"
     ]
    },
    {
     "name": "stderr",
     "output_type": "stream",
     "text": [
      "100%|██████████| 380/380 [00:00<00:00, 60124.32it/s]\n"
     ]
    },
    {
     "name": "stdout",
     "output_type": "stream",
     "text": [
      "CV finished in 0.24729180335998535 seconds\n",
      "Aggregation finished in 0.38816308975219727 seconds\n",
      "Finished in 2.561452627182007 seconds\n",
      "Variables: c0: -1.2, c1: 0.30000000000000004 and beta: 0.004\n",
      "BMs finished in 1.717266321182251 seconds\n"
     ]
    },
    {
     "name": "stderr",
     "output_type": "stream",
     "text": [
      "100%|██████████| 380/380 [00:00<00:00, 66751.92it/s]"
     ]
    },
    {
     "name": "stdout",
     "output_type": "stream",
     "text": [
      "CV finished in 0.16939926147460938 seconds\n"
     ]
    },
    {
     "name": "stderr",
     "output_type": "stream",
     "text": [
      "\n"
     ]
    },
    {
     "name": "stdout",
     "output_type": "stream",
     "text": [
      "Aggregation finished in 0.38458847999572754 seconds\n",
      "Finished in 2.2721168994903564 seconds\n",
      "Variables: c0: -1.2, c1: 0.30000000000000004 and beta: 0.006\n",
      "BMs finished in 2.1210567951202393 seconds\n"
     ]
    },
    {
     "name": "stderr",
     "output_type": "stream",
     "text": [
      "100%|██████████| 380/380 [00:00<00:00, 48171.05it/s]\n"
     ]
    },
    {
     "name": "stdout",
     "output_type": "stream",
     "text": [
      "CV finished in 0.23140549659729004 seconds\n",
      "Aggregation finished in 0.43232083320617676 seconds\n",
      "Finished in 2.7854390144348145 seconds\n",
      "Variables: c0: -1.2, c1: 0.30000000000000004 and beta: 0.008\n",
      "BMs finished in 1.941807746887207 seconds\n"
     ]
    },
    {
     "name": "stderr",
     "output_type": "stream",
     "text": [
      "100%|██████████| 380/380 [00:00<00:00, 36465.53it/s]\n"
     ]
    },
    {
     "name": "stdout",
     "output_type": "stream",
     "text": [
      "CV finished in 0.238203763961792 seconds\n",
      "Aggregation finished in 0.5695192813873291 seconds\n",
      "Finished in 2.750607490539551 seconds\n",
      "Variables: c0: -1.2, c1: 0.4 and beta: 0.002\n",
      "BMs finished in 1.8655436038970947 seconds\n"
     ]
    },
    {
     "name": "stderr",
     "output_type": "stream",
     "text": [
      "100%|██████████| 380/380 [00:00<00:00, 61509.55it/s]\n"
     ]
    },
    {
     "name": "stdout",
     "output_type": "stream",
     "text": [
      "CV finished in 0.20750999450683594 seconds\n",
      "Aggregation finished in 0.42916011810302734 seconds\n",
      "Finished in 2.503019332885742 seconds\n",
      "Variables: c0: -1.2, c1: 0.4 and beta: 0.004\n",
      "BMs finished in 1.8631649017333984 seconds\n"
     ]
    },
    {
     "name": "stderr",
     "output_type": "stream",
     "text": [
      "100%|██████████| 380/380 [00:00<00:00, 75530.07it/s]"
     ]
    },
    {
     "name": "stdout",
     "output_type": "stream",
     "text": [
      "CV finished in 0.16807794570922852 seconds\n"
     ]
    },
    {
     "name": "stderr",
     "output_type": "stream",
     "text": [
      "\n"
     ]
    },
    {
     "name": "stdout",
     "output_type": "stream",
     "text": [
      "Aggregation finished in 0.39653897285461426 seconds\n",
      "Finished in 2.42846941947937 seconds\n",
      "Variables: c0: -1.2, c1: 0.4 and beta: 0.006\n",
      "BMs finished in 1.9307801723480225 seconds\n"
     ]
    },
    {
     "name": "stderr",
     "output_type": "stream",
     "text": [
      "100%|██████████| 380/380 [00:00<00:00, 67586.95it/s]"
     ]
    },
    {
     "name": "stdout",
     "output_type": "stream",
     "text": [
      "CV finished in 0.17223381996154785 seconds\n"
     ]
    },
    {
     "name": "stderr",
     "output_type": "stream",
     "text": [
      "\n"
     ]
    },
    {
     "name": "stdout",
     "output_type": "stream",
     "text": [
      "Aggregation finished in 0.38626909255981445 seconds\n",
      "Finished in 2.489936590194702 seconds\n",
      "Variables: c0: -1.2, c1: 0.4 and beta: 0.008\n",
      "BMs finished in 1.7604358196258545 seconds\n"
     ]
    },
    {
     "name": "stderr",
     "output_type": "stream",
     "text": [
      "100%|██████████| 380/380 [00:00<00:00, 49416.66it/s]\n"
     ]
    },
    {
     "name": "stdout",
     "output_type": "stream",
     "text": [
      "CV finished in 0.23213434219360352 seconds\n",
      "Aggregation finished in 0.3922867774963379 seconds\n",
      "Finished in 2.3854801654815674 seconds\n",
      "Variables: c0: -1.2, c1: 0.5 and beta: 0.002\n",
      "BMs finished in 2.078544855117798 seconds\n"
     ]
    },
    {
     "name": "stderr",
     "output_type": "stream",
     "text": [
      "100%|██████████| 380/380 [00:00<00:00, 72981.16it/s]"
     ]
    },
    {
     "name": "stdout",
     "output_type": "stream",
     "text": [
      "CV finished in 0.1677703857421875 seconds\n"
     ]
    },
    {
     "name": "stderr",
     "output_type": "stream",
     "text": [
      "\n"
     ]
    },
    {
     "name": "stdout",
     "output_type": "stream",
     "text": [
      "Aggregation finished in 0.4434657096862793 seconds\n",
      "Finished in 2.690390110015869 seconds\n",
      "Variables: c0: -1.2, c1: 0.5 and beta: 0.004\n",
      "BMs finished in 1.7430646419525146 seconds\n"
     ]
    },
    {
     "name": "stderr",
     "output_type": "stream",
     "text": [
      "100%|██████████| 380/380 [00:00<00:00, 78537.28it/s]"
     ]
    },
    {
     "name": "stdout",
     "output_type": "stream",
     "text": [
      "CV finished in 0.16950154304504395 seconds\n"
     ]
    },
    {
     "name": "stderr",
     "output_type": "stream",
     "text": [
      "\n"
     ]
    },
    {
     "name": "stdout",
     "output_type": "stream",
     "text": [
      "Aggregation finished in 0.45761728286743164 seconds\n",
      "Finished in 2.3708250522613525 seconds\n",
      "Variables: c0: -1.2, c1: 0.5 and beta: 0.006\n",
      "BMs finished in 2.045952558517456 seconds\n"
     ]
    },
    {
     "name": "stderr",
     "output_type": "stream",
     "text": [
      "100%|██████████| 380/380 [00:00<00:00, 39979.82it/s]\n"
     ]
    },
    {
     "name": "stdout",
     "output_type": "stream",
     "text": [
      "CV finished in 0.2835960388183594 seconds\n",
      "Aggregation finished in 0.5044829845428467 seconds\n",
      "Finished in 2.834826707839966 seconds\n",
      "Variables: c0: -1.2, c1: 0.5 and beta: 0.008\n",
      "BMs finished in 1.8102176189422607 seconds\n"
     ]
    },
    {
     "name": "stderr",
     "output_type": "stream",
     "text": [
      "100%|██████████| 380/380 [00:00<00:00, 47214.96it/s]"
     ]
    },
    {
     "name": "stdout",
     "output_type": "stream",
     "text": [
      "CV finished in 0.16837215423583984 seconds\n"
     ]
    },
    {
     "name": "stderr",
     "output_type": "stream",
     "text": [
      "\n"
     ]
    },
    {
     "name": "stdout",
     "output_type": "stream",
     "text": [
      "Aggregation finished in 0.38259243965148926 seconds\n",
      "Finished in 2.362144947052002 seconds\n",
      "Variables: c0: -1.0999999999999999, c1: 0.0 and beta: 0.002\n",
      "BMs finished in 1.6850075721740723 seconds\n"
     ]
    },
    {
     "name": "stderr",
     "output_type": "stream",
     "text": [
      "100%|██████████| 380/380 [00:00<00:00, 77209.49it/s]"
     ]
    },
    {
     "name": "stdout",
     "output_type": "stream",
     "text": [
      "CV finished in 0.17258620262145996 seconds\n"
     ]
    },
    {
     "name": "stderr",
     "output_type": "stream",
     "text": [
      "\n"
     ]
    },
    {
     "name": "stdout",
     "output_type": "stream",
     "text": [
      "Aggregation finished in 0.39275097846984863 seconds\n",
      "Finished in 2.25150728225708 seconds\n",
      "Variables: c0: -1.0999999999999999, c1: 0.0 and beta: 0.004\n",
      "BMs finished in 2.0578677654266357 seconds\n"
     ]
    },
    {
     "name": "stderr",
     "output_type": "stream",
     "text": [
      "100%|██████████| 380/380 [00:00<00:00, 59842.14it/s]"
     ]
    },
    {
     "name": "stdout",
     "output_type": "stream",
     "text": [
      "CV finished in 0.18807315826416016 seconds\n"
     ]
    },
    {
     "name": "stderr",
     "output_type": "stream",
     "text": [
      "\n"
     ]
    },
    {
     "name": "stdout",
     "output_type": "stream",
     "text": [
      "Aggregation finished in 0.5245788097381592 seconds\n",
      "Finished in 2.7711918354034424 seconds\n",
      "Variables: c0: -1.0999999999999999, c1: 0.0 and beta: 0.006\n",
      "BMs finished in 1.9560701847076416 seconds\n"
     ]
    },
    {
     "name": "stderr",
     "output_type": "stream",
     "text": [
      "100%|██████████| 380/380 [00:00<00:00, 79059.30it/s]"
     ]
    },
    {
     "name": "stdout",
     "output_type": "stream",
     "text": [
      "CV finished in 0.1796121597290039 seconds\n"
     ]
    },
    {
     "name": "stderr",
     "output_type": "stream",
     "text": [
      "\n"
     ]
    },
    {
     "name": "stdout",
     "output_type": "stream",
     "text": [
      "Aggregation finished in 0.405224084854126 seconds\n",
      "Finished in 2.5416014194488525 seconds\n",
      "Variables: c0: -1.0999999999999999, c1: 0.0 and beta: 0.008\n",
      "BMs finished in 2.134488582611084 seconds\n"
     ]
    },
    {
     "name": "stderr",
     "output_type": "stream",
     "text": [
      "100%|██████████| 380/380 [00:00<00:00, 71443.61it/s]\n"
     ]
    },
    {
     "name": "stdout",
     "output_type": "stream",
     "text": [
      "CV finished in 0.22623181343078613 seconds\n",
      "Aggregation finished in 0.4453904628753662 seconds\n",
      "Finished in 2.8068363666534424 seconds\n",
      "Variables: c0: -1.0999999999999999, c1: 0.1 and beta: 0.002\n",
      "BMs finished in 1.7917182445526123 seconds\n"
     ]
    },
    {
     "name": "stderr",
     "output_type": "stream",
     "text": [
      "100%|██████████| 380/380 [00:00<00:00, 43415.75it/s]"
     ]
    },
    {
     "name": "stdout",
     "output_type": "stream",
     "text": [
      "CV finished in 0.20244622230529785 seconds\n"
     ]
    },
    {
     "name": "stderr",
     "output_type": "stream",
     "text": [
      "\n"
     ]
    },
    {
     "name": "stdout",
     "output_type": "stream",
     "text": [
      "Aggregation finished in 0.4986002445220947 seconds\n",
      "Finished in 2.4933929443359375 seconds\n",
      "Variables: c0: -1.0999999999999999, c1: 0.1 and beta: 0.004\n",
      "BMs finished in 2.285072088241577 seconds\n"
     ]
    },
    {
     "name": "stderr",
     "output_type": "stream",
     "text": [
      "100%|██████████| 380/380 [00:00<00:00, 70783.65it/s]"
     ]
    },
    {
     "name": "stdout",
     "output_type": "stream",
     "text": [
      "CV finished in 0.1858372688293457 seconds\n"
     ]
    },
    {
     "name": "stderr",
     "output_type": "stream",
     "text": [
      "\n"
     ]
    },
    {
     "name": "stdout",
     "output_type": "stream",
     "text": [
      "Aggregation finished in 0.4442317485809326 seconds\n",
      "Finished in 2.915969133377075 seconds\n",
      "Variables: c0: -1.0999999999999999, c1: 0.1 and beta: 0.006\n",
      "BMs finished in 1.7592928409576416 seconds\n"
     ]
    },
    {
     "name": "stderr",
     "output_type": "stream",
     "text": [
      "100%|██████████| 380/380 [00:00<00:00, 55515.00it/s]"
     ]
    },
    {
     "name": "stdout",
     "output_type": "stream",
     "text": [
      "CV finished in 0.19480395317077637 seconds\n"
     ]
    },
    {
     "name": "stderr",
     "output_type": "stream",
     "text": [
      "\n"
     ]
    },
    {
     "name": "stdout",
     "output_type": "stream",
     "text": [
      "Aggregation finished in 0.41153550148010254 seconds\n",
      "Finished in 2.3663713932037354 seconds\n",
      "Variables: c0: -1.0999999999999999, c1: 0.1 and beta: 0.008\n",
      "BMs finished in 1.983186960220337 seconds\n"
     ]
    },
    {
     "name": "stderr",
     "output_type": "stream",
     "text": [
      "100%|██████████| 380/380 [00:00<00:00, 76143.49it/s]"
     ]
    },
    {
     "name": "stdout",
     "output_type": "stream",
     "text": [
      "CV finished in 0.176649808883667 seconds\n"
     ]
    },
    {
     "name": "stderr",
     "output_type": "stream",
     "text": [
      "\n"
     ]
    },
    {
     "name": "stdout",
     "output_type": "stream",
     "text": [
      "Aggregation finished in 0.3933982849121094 seconds\n",
      "Finished in 2.5539700984954834 seconds\n",
      "Variables: c0: -1.0999999999999999, c1: 0.2 and beta: 0.002\n",
      "BMs finished in 1.8068225383758545 seconds\n"
     ]
    },
    {
     "name": "stderr",
     "output_type": "stream",
     "text": [
      "100%|██████████| 380/380 [00:00<00:00, 61047.78it/s]"
     ]
    },
    {
     "name": "stdout",
     "output_type": "stream",
     "text": [
      "CV finished in 0.17190313339233398 seconds\n"
     ]
    },
    {
     "name": "stderr",
     "output_type": "stream",
     "text": [
      "\n"
     ]
    },
    {
     "name": "stdout",
     "output_type": "stream",
     "text": [
      "Aggregation finished in 0.4554860591888428 seconds\n",
      "Finished in 2.4349095821380615 seconds\n",
      "Variables: c0: -1.0999999999999999, c1: 0.2 and beta: 0.004\n",
      "BMs finished in 1.9927098751068115 seconds\n"
     ]
    },
    {
     "name": "stderr",
     "output_type": "stream",
     "text": [
      "100%|██████████| 380/380 [00:00<00:00, 64353.19it/s]"
     ]
    },
    {
     "name": "stdout",
     "output_type": "stream",
     "text": [
      "CV finished in 0.1718919277191162 seconds\n"
     ]
    },
    {
     "name": "stderr",
     "output_type": "stream",
     "text": [
      "\n"
     ]
    },
    {
     "name": "stdout",
     "output_type": "stream",
     "text": [
      "Aggregation finished in 0.4679849147796631 seconds\n",
      "Finished in 2.633660078048706 seconds\n",
      "Variables: c0: -1.0999999999999999, c1: 0.2 and beta: 0.006\n",
      "BMs finished in 2.2534947395324707 seconds\n"
     ]
    },
    {
     "name": "stderr",
     "output_type": "stream",
     "text": [
      "100%|██████████| 380/380 [00:00<00:00, 61886.91it/s]"
     ]
    },
    {
     "name": "stdout",
     "output_type": "stream",
     "text": [
      "CV finished in 0.17314362525939941 seconds\n"
     ]
    },
    {
     "name": "stderr",
     "output_type": "stream",
     "text": [
      "\n"
     ]
    },
    {
     "name": "stdout",
     "output_type": "stream",
     "text": [
      "Aggregation finished in 0.4183943271636963 seconds\n",
      "Finished in 2.8461649417877197 seconds\n",
      "Variables: c0: -1.0999999999999999, c1: 0.2 and beta: 0.008\n",
      "BMs finished in 1.966301441192627 seconds\n"
     ]
    },
    {
     "name": "stderr",
     "output_type": "stream",
     "text": [
      "100%|██████████| 380/380 [00:00<00:00, 80733.23it/s]"
     ]
    },
    {
     "name": "stdout",
     "output_type": "stream",
     "text": [
      "CV finished in 0.19094395637512207 seconds\n"
     ]
    },
    {
     "name": "stderr",
     "output_type": "stream",
     "text": [
      "\n"
     ]
    },
    {
     "name": "stdout",
     "output_type": "stream",
     "text": [
      "Aggregation finished in 0.39339160919189453 seconds\n",
      "Finished in 2.5513110160827637 seconds\n",
      "Variables: c0: -1.0999999999999999, c1: 0.30000000000000004 and beta: 0.002\n",
      "BMs finished in 2.0862560272216797 seconds\n"
     ]
    },
    {
     "name": "stderr",
     "output_type": "stream",
     "text": [
      "100%|██████████| 380/380 [00:00<00:00, 61148.49it/s]\n"
     ]
    },
    {
     "name": "stdout",
     "output_type": "stream",
     "text": [
      "CV finished in 0.25301194190979004 seconds\n",
      "Aggregation finished in 0.4316680431365967 seconds\n",
      "Finished in 2.7716944217681885 seconds\n",
      "Variables: c0: -1.0999999999999999, c1: 0.30000000000000004 and beta: 0.004\n",
      "BMs finished in 1.75209641456604 seconds\n"
     ]
    },
    {
     "name": "stderr",
     "output_type": "stream",
     "text": [
      "100%|██████████| 380/380 [00:00<00:00, 60078.99it/s]"
     ]
    },
    {
     "name": "stdout",
     "output_type": "stream",
     "text": [
      "CV finished in 0.17328834533691406 seconds\n"
     ]
    },
    {
     "name": "stderr",
     "output_type": "stream",
     "text": [
      "\n"
     ]
    },
    {
     "name": "stdout",
     "output_type": "stream",
     "text": [
      "Aggregation finished in 0.4289407730102539 seconds\n",
      "Finished in 2.355093240737915 seconds\n",
      "Variables: c0: -1.0999999999999999, c1: 0.30000000000000004 and beta: 0.006\n",
      "BMs finished in 2.123385429382324 seconds\n"
     ]
    },
    {
     "name": "stderr",
     "output_type": "stream",
     "text": [
      "100%|██████████| 380/380 [00:00<00:00, 67210.74it/s]"
     ]
    },
    {
     "name": "stdout",
     "output_type": "stream",
     "text": [
      "CV finished in 0.17674541473388672 seconds\n"
     ]
    },
    {
     "name": "stderr",
     "output_type": "stream",
     "text": [
      "\n"
     ]
    },
    {
     "name": "stdout",
     "output_type": "stream",
     "text": [
      "Aggregation finished in 0.4124488830566406 seconds\n",
      "Finished in 2.7140865325927734 seconds\n",
      "Variables: c0: -1.0999999999999999, c1: 0.30000000000000004 and beta: 0.008\n",
      "BMs finished in 1.8129794597625732 seconds\n"
     ]
    },
    {
     "name": "stderr",
     "output_type": "stream",
     "text": [
      "100%|██████████| 380/380 [00:00<00:00, 74492.22it/s]"
     ]
    },
    {
     "name": "stdout",
     "output_type": "stream",
     "text": [
      "CV finished in 0.17236804962158203 seconds\n"
     ]
    },
    {
     "name": "stderr",
     "output_type": "stream",
     "text": [
      "\n"
     ]
    },
    {
     "name": "stdout",
     "output_type": "stream",
     "text": [
      "Aggregation finished in 0.40804362297058105 seconds\n",
      "Finished in 2.3940529823303223 seconds\n",
      "Variables: c0: -1.0999999999999999, c1: 0.4 and beta: 0.002\n",
      "BMs finished in 2.559544563293457 seconds\n"
     ]
    },
    {
     "name": "stderr",
     "output_type": "stream",
     "text": [
      "100%|██████████| 380/380 [00:00<00:00, 42259.99it/s]\n"
     ]
    },
    {
     "name": "stdout",
     "output_type": "stream",
     "text": [
      "CV finished in 0.2366642951965332 seconds\n",
      "Aggregation finished in 0.5704491138458252 seconds\n",
      "Finished in 3.3674566745758057 seconds\n",
      "Variables: c0: -1.0999999999999999, c1: 0.4 and beta: 0.004\n",
      "BMs finished in 2.571352958679199 seconds\n"
     ]
    },
    {
     "name": "stderr",
     "output_type": "stream",
     "text": [
      "100%|██████████| 380/380 [00:00<00:00, 31186.86it/s]\n"
     ]
    },
    {
     "name": "stdout",
     "output_type": "stream",
     "text": [
      "CV finished in 0.34739208221435547 seconds\n",
      "Aggregation finished in 0.5903241634368896 seconds\n",
      "Finished in 3.5106616020202637 seconds\n",
      "Variables: c0: -1.0999999999999999, c1: 0.4 and beta: 0.006\n",
      "BMs finished in 2.0831174850463867 seconds\n"
     ]
    },
    {
     "name": "stderr",
     "output_type": "stream",
     "text": [
      "100%|██████████| 380/380 [00:00<00:00, 68226.34it/s]"
     ]
    },
    {
     "name": "stdout",
     "output_type": "stream",
     "text": [
      "CV finished in 0.18007373809814453 seconds\n"
     ]
    },
    {
     "name": "stderr",
     "output_type": "stream",
     "text": [
      "\n"
     ]
    },
    {
     "name": "stdout",
     "output_type": "stream",
     "text": [
      "Aggregation finished in 0.45306944847106934 seconds\n",
      "Finished in 2.717590570449829 seconds\n",
      "Variables: c0: -1.0999999999999999, c1: 0.4 and beta: 0.008\n",
      "BMs finished in 2.4778430461883545 seconds\n"
     ]
    },
    {
     "name": "stderr",
     "output_type": "stream",
     "text": [
      "100%|██████████| 380/380 [00:00<00:00, 70327.65it/s]\n"
     ]
    },
    {
     "name": "stdout",
     "output_type": "stream",
     "text": [
      "CV finished in 0.21223092079162598 seconds\n",
      "Aggregation finished in 0.4076426029205322 seconds\n",
      "Finished in 3.0984246730804443 seconds\n",
      "Variables: c0: -1.0999999999999999, c1: 0.5 and beta: 0.002\n",
      "BMs finished in 1.8483476638793945 seconds\n"
     ]
    },
    {
     "name": "stderr",
     "output_type": "stream",
     "text": [
      "100%|██████████| 380/380 [00:00<00:00, 77340.62it/s]"
     ]
    },
    {
     "name": "stdout",
     "output_type": "stream",
     "text": [
      "CV finished in 0.17701458930969238 seconds\n"
     ]
    },
    {
     "name": "stderr",
     "output_type": "stream",
     "text": [
      "\n"
     ]
    },
    {
     "name": "stdout",
     "output_type": "stream",
     "text": [
      "Aggregation finished in 0.38389110565185547 seconds\n",
      "Finished in 2.409980535507202 seconds\n",
      "Variables: c0: -1.0999999999999999, c1: 0.5 and beta: 0.004\n",
      "BMs finished in 1.6758770942687988 seconds\n"
     ]
    },
    {
     "name": "stderr",
     "output_type": "stream",
     "text": [
      "100%|██████████| 380/380 [00:00<00:00, 66802.28it/s]"
     ]
    },
    {
     "name": "stdout",
     "output_type": "stream",
     "text": [
      "CV finished in 0.16702890396118164 seconds\n"
     ]
    },
    {
     "name": "stderr",
     "output_type": "stream",
     "text": [
      "\n"
     ]
    },
    {
     "name": "stdout",
     "output_type": "stream",
     "text": [
      "Aggregation finished in 0.3991079330444336 seconds\n",
      "Finished in 2.242672920227051 seconds\n",
      "Variables: c0: -1.0999999999999999, c1: 0.5 and beta: 0.006\n",
      "BMs finished in 2.099651575088501 seconds\n"
     ]
    },
    {
     "name": "stderr",
     "output_type": "stream",
     "text": [
      "100%|██████████| 380/380 [00:00<00:00, 61466.85it/s]"
     ]
    },
    {
     "name": "stdout",
     "output_type": "stream",
     "text": [
      "CV finished in 0.18053030967712402 seconds\n"
     ]
    },
    {
     "name": "stderr",
     "output_type": "stream",
     "text": [
      "\n"
     ]
    },
    {
     "name": "stdout",
     "output_type": "stream",
     "text": [
      "Aggregation finished in 0.3935666084289551 seconds\n",
      "Finished in 2.674380302429199 seconds\n",
      "Variables: c0: -1.0999999999999999, c1: 0.5 and beta: 0.008\n",
      "BMs finished in 2.0822107791900635 seconds\n"
     ]
    },
    {
     "name": "stderr",
     "output_type": "stream",
     "text": [
      "100%|██████████| 380/380 [00:00<00:00, 18870.22it/s]\n"
     ]
    },
    {
     "name": "stdout",
     "output_type": "stream",
     "text": [
      "CV finished in 0.32387757301330566 seconds\n",
      "Aggregation finished in 0.5657093524932861 seconds\n",
      "Finished in 2.972487688064575 seconds\n",
      "Variables: c0: -0.9999999999999998, c1: 0.0 and beta: 0.002\n",
      "BMs finished in 2.389305353164673 seconds\n"
     ]
    },
    {
     "name": "stderr",
     "output_type": "stream",
     "text": [
      "100%|██████████| 380/380 [00:00<00:00, 54367.43it/s]\n"
     ]
    },
    {
     "name": "stdout",
     "output_type": "stream",
     "text": [
      "CV finished in 0.25012850761413574 seconds\n",
      "Aggregation finished in 0.43868446350097656 seconds\n",
      "Finished in 3.0789055824279785 seconds\n",
      "Variables: c0: -0.9999999999999998, c1: 0.0 and beta: 0.004\n",
      "BMs finished in 2.958026647567749 seconds\n"
     ]
    },
    {
     "name": "stderr",
     "output_type": "stream",
     "text": [
      "100%|██████████| 380/380 [00:00<00:00, 62454.37it/s]"
     ]
    },
    {
     "name": "stdout",
     "output_type": "stream",
     "text": [
      "CV finished in 0.19478058815002441 seconds\n"
     ]
    },
    {
     "name": "stderr",
     "output_type": "stream",
     "text": [
      "\n"
     ]
    },
    {
     "name": "stdout",
     "output_type": "stream",
     "text": [
      "Aggregation finished in 0.3627662658691406 seconds\n",
      "Finished in 3.5177533626556396 seconds\n",
      "Variables: c0: -0.9999999999999998, c1: 0.0 and beta: 0.006\n",
      "BMs finished in 1.8758025169372559 seconds\n"
     ]
    },
    {
     "name": "stderr",
     "output_type": "stream",
     "text": [
      "100%|██████████| 380/380 [00:00<00:00, 65795.72it/s]"
     ]
    },
    {
     "name": "stdout",
     "output_type": "stream",
     "text": [
      "CV finished in 0.1919693946838379 seconds\n"
     ]
    },
    {
     "name": "stderr",
     "output_type": "stream",
     "text": [
      "\n"
     ]
    },
    {
     "name": "stdout",
     "output_type": "stream",
     "text": [
      "Aggregation finished in 0.36048054695129395 seconds\n",
      "Finished in 2.429215908050537 seconds\n",
      "Variables: c0: -0.9999999999999998, c1: 0.0 and beta: 0.008\n",
      "BMs finished in 2.68235182762146 seconds\n"
     ]
    },
    {
     "name": "stderr",
     "output_type": "stream",
     "text": [
      "100%|██████████| 380/380 [00:00<00:00, 50394.77it/s]\n"
     ]
    },
    {
     "name": "stdout",
     "output_type": "stream",
     "text": [
      "CV finished in 0.33461713790893555 seconds\n",
      "Aggregation finished in 0.6564478874206543 seconds\n",
      "Finished in 3.67414927482605 seconds\n",
      "Variables: c0: -0.9999999999999998, c1: 0.1 and beta: 0.002\n",
      "BMs finished in 3.240008592605591 seconds\n"
     ]
    },
    {
     "name": "stderr",
     "output_type": "stream",
     "text": [
      "100%|██████████| 380/380 [00:00<00:00, 59096.61it/s]\n"
     ]
    },
    {
     "name": "stdout",
     "output_type": "stream",
     "text": [
      "CV finished in 0.23291254043579102 seconds\n",
      "Aggregation finished in 0.439159631729126 seconds\n",
      "Finished in 3.9130024909973145 seconds\n",
      "Variables: c0: -0.9999999999999998, c1: 0.1 and beta: 0.004\n",
      "BMs finished in 2.5208001136779785 seconds\n"
     ]
    },
    {
     "name": "stderr",
     "output_type": "stream",
     "text": [
      "100%|██████████| 380/380 [00:00<00:00, 53784.02it/s]\n"
     ]
    },
    {
     "name": "stdout",
     "output_type": "stream",
     "text": [
      "CV finished in 0.25159764289855957 seconds\n",
      "Aggregation finished in 0.4679434299468994 seconds\n",
      "Finished in 3.2417948246002197 seconds\n",
      "Variables: c0: -0.9999999999999998, c1: 0.1 and beta: 0.006\n",
      "BMs finished in 2.333289861679077 seconds\n"
     ]
    },
    {
     "name": "stderr",
     "output_type": "stream",
     "text": [
      "100%|██████████| 380/380 [00:00<00:00, 53813.07it/s]\n"
     ]
    },
    {
     "name": "stdout",
     "output_type": "stream",
     "text": [
      "CV finished in 0.22791790962219238 seconds\n",
      "Aggregation finished in 0.40517687797546387 seconds\n",
      "Finished in 2.9672975540161133 seconds\n",
      "Variables: c0: -0.9999999999999998, c1: 0.1 and beta: 0.008\n",
      "BMs finished in 2.4212958812713623 seconds\n"
     ]
    },
    {
     "name": "stderr",
     "output_type": "stream",
     "text": [
      "100%|██████████| 380/380 [00:00<00:00, 51151.69it/s]\n"
     ]
    },
    {
     "name": "stdout",
     "output_type": "stream",
     "text": [
      "CV finished in 0.2463054656982422 seconds\n",
      "Aggregation finished in 0.4815390110015869 seconds\n",
      "Finished in 3.149916410446167 seconds\n",
      "Variables: c0: -0.9999999999999998, c1: 0.2 and beta: 0.002\n",
      "BMs finished in 2.226822853088379 seconds\n"
     ]
    },
    {
     "name": "stderr",
     "output_type": "stream",
     "text": [
      "100%|██████████| 380/380 [00:00<00:00, 48246.88it/s]"
     ]
    },
    {
     "name": "stdout",
     "output_type": "stream",
     "text": [
      "CV finished in 0.1963353157043457 seconds\n"
     ]
    },
    {
     "name": "stderr",
     "output_type": "stream",
     "text": [
      "\n"
     ]
    },
    {
     "name": "stdout",
     "output_type": "stream",
     "text": [
      "Aggregation finished in 0.3781616687774658 seconds\n",
      "Finished in 2.802105665206909 seconds\n",
      "Variables: c0: -0.9999999999999998, c1: 0.2 and beta: 0.004\n",
      "BMs finished in 1.7264885902404785 seconds\n"
     ]
    },
    {
     "name": "stderr",
     "output_type": "stream",
     "text": [
      "100%|██████████| 380/380 [00:00<00:00, 65118.30it/s]\n"
     ]
    },
    {
     "name": "stdout",
     "output_type": "stream",
     "text": [
      "CV finished in 0.20294952392578125 seconds\n",
      "Aggregation finished in 0.39309191703796387 seconds\n",
      "Finished in 2.323486804962158 seconds\n",
      "Variables: c0: -0.9999999999999998, c1: 0.2 and beta: 0.006\n",
      "BMs finished in 2.198390483856201 seconds\n"
     ]
    },
    {
     "name": "stderr",
     "output_type": "stream",
     "text": [
      "100%|██████████| 380/380 [00:00<00:00, 54825.62it/s]\n"
     ]
    },
    {
     "name": "stdout",
     "output_type": "stream",
     "text": [
      "CV finished in 0.2707185745239258 seconds\n",
      "Aggregation finished in 0.40912508964538574 seconds\n",
      "Finished in 2.8791565895080566 seconds\n",
      "Variables: c0: -0.9999999999999998, c1: 0.2 and beta: 0.008\n",
      "BMs finished in 2.694812536239624 seconds\n"
     ]
    },
    {
     "name": "stderr",
     "output_type": "stream",
     "text": [
      "100%|██████████| 380/380 [00:00<00:00, 52084.43it/s]\n"
     ]
    },
    {
     "name": "stdout",
     "output_type": "stream",
     "text": [
      "CV finished in 0.25491976737976074 seconds\n",
      "Aggregation finished in 0.49791717529296875 seconds\n",
      "Finished in 3.448399305343628 seconds\n",
      "Variables: c0: -0.9999999999999998, c1: 0.30000000000000004 and beta: 0.002\n",
      "BMs finished in 2.402374505996704 seconds\n"
     ]
    },
    {
     "name": "stderr",
     "output_type": "stream",
     "text": [
      "100%|██████████| 380/380 [00:00<00:00, 51240.49it/s]\n"
     ]
    },
    {
     "name": "stdout",
     "output_type": "stream",
     "text": [
      "CV finished in 0.24593377113342285 seconds\n",
      "Aggregation finished in 0.4741818904876709 seconds\n",
      "Finished in 3.1232876777648926 seconds\n",
      "Variables: c0: -0.9999999999999998, c1: 0.30000000000000004 and beta: 0.004\n",
      "BMs finished in 2.3985846042633057 seconds\n"
     ]
    },
    {
     "name": "stderr",
     "output_type": "stream",
     "text": [
      "100%|██████████| 380/380 [00:00<00:00, 47533.19it/s]\n"
     ]
    },
    {
     "name": "stdout",
     "output_type": "stream",
     "text": [
      "CV finished in 0.27216053009033203 seconds\n",
      "Aggregation finished in 0.49764060974121094 seconds\n",
      "Finished in 3.1693027019500732 seconds\n",
      "Variables: c0: -0.9999999999999998, c1: 0.30000000000000004 and beta: 0.006\n",
      "BMs finished in 2.6055970191955566 seconds\n"
     ]
    },
    {
     "name": "stderr",
     "output_type": "stream",
     "text": [
      "100%|██████████| 380/380 [00:00<00:00, 45278.13it/s]"
     ]
    },
    {
     "name": "stdout",
     "output_type": "stream",
     "text": [
      "CV finished in 0.19407343864440918 seconds\n"
     ]
    },
    {
     "name": "stderr",
     "output_type": "stream",
     "text": [
      "\n"
     ]
    },
    {
     "name": "stdout",
     "output_type": "stream",
     "text": [
      "Aggregation finished in 0.4304680824279785 seconds\n",
      "Finished in 3.2311956882476807 seconds\n",
      "Variables: c0: -0.9999999999999998, c1: 0.30000000000000004 and beta: 0.008\n",
      "BMs finished in 1.7080438137054443 seconds\n"
     ]
    },
    {
     "name": "stderr",
     "output_type": "stream",
     "text": [
      "100%|██████████| 380/380 [00:00<00:00, 67327.15it/s]"
     ]
    },
    {
     "name": "stdout",
     "output_type": "stream",
     "text": [
      "CV finished in 0.17807340621948242 seconds\n"
     ]
    },
    {
     "name": "stderr",
     "output_type": "stream",
     "text": [
      "\n"
     ]
    },
    {
     "name": "stdout",
     "output_type": "stream",
     "text": [
      "Aggregation finished in 0.3535292148590088 seconds\n",
      "Finished in 2.2403314113616943 seconds\n",
      "Variables: c0: -0.9999999999999998, c1: 0.4 and beta: 0.002\n",
      "BMs finished in 2.2404568195343018 seconds\n"
     ]
    },
    {
     "name": "stderr",
     "output_type": "stream",
     "text": [
      "100%|██████████| 380/380 [00:00<00:00, 32534.56it/s]\n"
     ]
    },
    {
     "name": "stdout",
     "output_type": "stream",
     "text": [
      "CV finished in 0.24255871772766113 seconds\n",
      "Aggregation finished in 0.5021679401397705 seconds\n",
      "Finished in 2.9858715534210205 seconds\n",
      "Variables: c0: -0.9999999999999998, c1: 0.4 and beta: 0.004\n",
      "BMs finished in 2.632477283477783 seconds\n"
     ]
    },
    {
     "name": "stderr",
     "output_type": "stream",
     "text": [
      "100%|██████████| 380/380 [00:00<00:00, 46493.26it/s]\n"
     ]
    },
    {
     "name": "stdout",
     "output_type": "stream",
     "text": [
      "CV finished in 0.25493502616882324 seconds\n",
      "Aggregation finished in 0.5289981365203857 seconds\n",
      "Finished in 3.4173617362976074 seconds\n",
      "Variables: c0: -0.9999999999999998, c1: 0.4 and beta: 0.006\n",
      "BMs finished in 2.5351204872131348 seconds\n"
     ]
    },
    {
     "name": "stderr",
     "output_type": "stream",
     "text": [
      "100%|██████████| 380/380 [00:00<00:00, 61019.74it/s]\n"
     ]
    },
    {
     "name": "stdout",
     "output_type": "stream",
     "text": [
      "CV finished in 0.2318251132965088 seconds\n",
      "Aggregation finished in 0.41599225997924805 seconds\n",
      "Finished in 3.18369197845459 seconds\n",
      "Variables: c0: -0.9999999999999998, c1: 0.4 and beta: 0.008\n",
      "BMs finished in 2.2118642330169678 seconds\n"
     ]
    },
    {
     "name": "stderr",
     "output_type": "stream",
     "text": [
      "100%|██████████| 380/380 [00:00<00:00, 34752.10it/s]\n"
     ]
    },
    {
     "name": "stdout",
     "output_type": "stream",
     "text": [
      "CV finished in 0.24242377281188965 seconds\n",
      "Aggregation finished in 0.5135769844055176 seconds\n",
      "Finished in 2.9686150550842285 seconds\n",
      "Variables: c0: -0.9999999999999998, c1: 0.5 and beta: 0.002\n",
      "BMs finished in 2.2625646591186523 seconds\n"
     ]
    },
    {
     "name": "stderr",
     "output_type": "stream",
     "text": [
      "100%|██████████| 380/380 [00:00<00:00, 34895.90it/s]\n"
     ]
    },
    {
     "name": "stdout",
     "output_type": "stream",
     "text": [
      "CV finished in 0.38547682762145996 seconds\n",
      "Aggregation finished in 0.4710805416107178 seconds\n",
      "Finished in 3.121603488922119 seconds\n",
      "Variables: c0: -0.9999999999999998, c1: 0.5 and beta: 0.004\n",
      "BMs finished in 2.2355730533599854 seconds\n"
     ]
    },
    {
     "name": "stderr",
     "output_type": "stream",
     "text": [
      "100%|██████████| 380/380 [00:00<00:00, 71504.51it/s]"
     ]
    },
    {
     "name": "stdout",
     "output_type": "stream",
     "text": [
      "CV finished in 0.17725276947021484 seconds\n"
     ]
    },
    {
     "name": "stderr",
     "output_type": "stream",
     "text": [
      "\n"
     ]
    },
    {
     "name": "stdout",
     "output_type": "stream",
     "text": [
      "Aggregation finished in 0.4800238609313965 seconds\n",
      "Finished in 2.8936426639556885 seconds\n",
      "Variables: c0: -0.9999999999999998, c1: 0.5 and beta: 0.006\n",
      "BMs finished in 2.370866060256958 seconds\n"
     ]
    },
    {
     "name": "stderr",
     "output_type": "stream",
     "text": [
      "100%|██████████| 380/380 [00:00<00:00, 62045.92it/s]\n"
     ]
    },
    {
     "name": "stdout",
     "output_type": "stream",
     "text": [
      "CV finished in 0.2109224796295166 seconds\n",
      "Aggregation finished in 0.41327619552612305 seconds\n",
      "Finished in 2.9957969188690186 seconds\n",
      "Variables: c0: -0.9999999999999998, c1: 0.5 and beta: 0.008\n",
      "BMs finished in 1.996473789215088 seconds\n"
     ]
    },
    {
     "name": "stderr",
     "output_type": "stream",
     "text": [
      "100%|██████████| 380/380 [00:00<00:00, 53175.71it/s]\n"
     ]
    },
    {
     "name": "stdout",
     "output_type": "stream",
     "text": [
      "CV finished in 0.213623046875 seconds\n",
      "Aggregation finished in 0.40857791900634766 seconds\n",
      "Finished in 2.619344472885132 seconds\n",
      "Variables: c0: -0.8999999999999997, c1: 0.0 and beta: 0.002\n",
      "BMs finished in 1.8064603805541992 seconds\n"
     ]
    },
    {
     "name": "stderr",
     "output_type": "stream",
     "text": [
      "100%|██████████| 380/380 [00:00<00:00, 67721.93it/s]"
     ]
    },
    {
     "name": "stdout",
     "output_type": "stream",
     "text": [
      "CV finished in 0.18224191665649414 seconds\n"
     ]
    },
    {
     "name": "stderr",
     "output_type": "stream",
     "text": [
      "\n"
     ]
    },
    {
     "name": "stdout",
     "output_type": "stream",
     "text": [
      "Aggregation finished in 0.3739919662475586 seconds\n",
      "Finished in 2.363377094268799 seconds\n",
      "Variables: c0: -0.8999999999999997, c1: 0.0 and beta: 0.004\n",
      "BMs finished in 1.7585716247558594 seconds\n"
     ]
    },
    {
     "name": "stderr",
     "output_type": "stream",
     "text": [
      "100%|██████████| 380/380 [00:00<00:00, 62140.26it/s]\n"
     ]
    },
    {
     "name": "stdout",
     "output_type": "stream",
     "text": [
      "CV finished in 0.21214580535888672 seconds\n",
      "Aggregation finished in 0.4156227111816406 seconds\n",
      "Finished in 2.3872087001800537 seconds\n",
      "Variables: c0: -0.8999999999999997, c1: 0.0 and beta: 0.006\n",
      "BMs finished in 2.4601478576660156 seconds\n"
     ]
    },
    {
     "name": "stderr",
     "output_type": "stream",
     "text": [
      "100%|██████████| 380/380 [00:00<00:00, 54923.86it/s]\n"
     ]
    },
    {
     "name": "stdout",
     "output_type": "stream",
     "text": [
      "CV finished in 0.2137162685394287 seconds\n",
      "Aggregation finished in 0.39191627502441406 seconds\n",
      "Finished in 3.066433906555176 seconds\n",
      "Variables: c0: -0.8999999999999997, c1: 0.0 and beta: 0.008\n",
      "BMs finished in 2.0496103763580322 seconds\n"
     ]
    },
    {
     "name": "stderr",
     "output_type": "stream",
     "text": [
      "100%|██████████| 380/380 [00:00<00:00, 54228.69it/s]\n"
     ]
    },
    {
     "name": "stdout",
     "output_type": "stream",
     "text": [
      "CV finished in 0.2417004108428955 seconds\n",
      "Aggregation finished in 0.4111979007720947 seconds\n",
      "Finished in 2.703455686569214 seconds\n",
      "Variables: c0: -0.8999999999999997, c1: 0.1 and beta: 0.002\n",
      "BMs finished in 2.1564488410949707 seconds\n"
     ]
    },
    {
     "name": "stderr",
     "output_type": "stream",
     "text": [
      "100%|██████████| 380/380 [00:00<00:00, 64418.22it/s]\n"
     ]
    },
    {
     "name": "stdout",
     "output_type": "stream",
     "text": [
      "CV finished in 0.2064054012298584 seconds\n",
      "Aggregation finished in 0.42104053497314453 seconds\n",
      "Finished in 2.7854814529418945 seconds\n",
      "Variables: c0: -0.8999999999999997, c1: 0.1 and beta: 0.004\n",
      "BMs finished in 2.1524240970611572 seconds\n"
     ]
    },
    {
     "name": "stderr",
     "output_type": "stream",
     "text": [
      "100%|██████████| 380/380 [00:00<00:00, 64906.15it/s]\n"
     ]
    },
    {
     "name": "stdout",
     "output_type": "stream",
     "text": [
      "CV finished in 0.20809006690979004 seconds\n",
      "Aggregation finished in 0.38780951499938965 seconds\n",
      "Finished in 2.750091314315796 seconds\n",
      "Variables: c0: -0.8999999999999997, c1: 0.1 and beta: 0.006\n",
      "BMs finished in 2.4252896308898926 seconds\n"
     ]
    },
    {
     "name": "stderr",
     "output_type": "stream",
     "text": [
      "100%|██████████| 380/380 [00:00<00:00, 55943.68it/s]\n"
     ]
    },
    {
     "name": "stdout",
     "output_type": "stream",
     "text": [
      "CV finished in 0.20747780799865723 seconds\n",
      "Aggregation finished in 0.4024815559387207 seconds\n",
      "Finished in 3.0360047817230225 seconds\n",
      "Variables: c0: -0.8999999999999997, c1: 0.1 and beta: 0.008\n",
      "BMs finished in 2.075468063354492 seconds\n"
     ]
    },
    {
     "name": "stderr",
     "output_type": "stream",
     "text": [
      "100%|██████████| 380/380 [00:00<00:00, 51289.96it/s]\n"
     ]
    },
    {
     "name": "stdout",
     "output_type": "stream",
     "text": [
      "CV finished in 0.248854398727417 seconds\n",
      "Aggregation finished in 0.3907604217529297 seconds\n",
      "Finished in 2.71580171585083 seconds\n",
      "Variables: c0: -0.8999999999999997, c1: 0.2 and beta: 0.002\n",
      "BMs finished in 2.0008463859558105 seconds\n"
     ]
    },
    {
     "name": "stderr",
     "output_type": "stream",
     "text": [
      "100%|██████████| 380/380 [00:00<00:00, 63981.19it/s]\n"
     ]
    },
    {
     "name": "stdout",
     "output_type": "stream",
     "text": [
      "CV finished in 0.20560598373413086 seconds\n",
      "Aggregation finished in 0.458606481552124 seconds\n",
      "Finished in 2.665729522705078 seconds\n",
      "Variables: c0: -0.8999999999999997, c1: 0.2 and beta: 0.004\n",
      "BMs finished in 1.8432538509368896 seconds\n"
     ]
    },
    {
     "name": "stderr",
     "output_type": "stream",
     "text": [
      "100%|██████████| 380/380 [00:00<00:00, 57616.15it/s]"
     ]
    },
    {
     "name": "stdout",
     "output_type": "stream",
     "text": [
      "CV finished in 0.18181729316711426 seconds\n"
     ]
    },
    {
     "name": "stderr",
     "output_type": "stream",
     "text": [
      "\n"
     ]
    },
    {
     "name": "stdout",
     "output_type": "stream",
     "text": [
      "Aggregation finished in 0.39127540588378906 seconds\n",
      "Finished in 2.417051315307617 seconds\n",
      "Variables: c0: -0.8999999999999997, c1: 0.2 and beta: 0.006\n",
      "BMs finished in 2.1438615322113037 seconds\n"
     ]
    },
    {
     "name": "stderr",
     "output_type": "stream",
     "text": [
      "100%|██████████| 380/380 [00:00<00:00, 76023.64it/s]\n"
     ]
    },
    {
     "name": "stdout",
     "output_type": "stream",
     "text": [
      "CV finished in 0.23117661476135254 seconds\n",
      "Aggregation finished in 0.36583900451660156 seconds\n",
      "Finished in 2.7415380477905273 seconds\n",
      "Variables: c0: -0.8999999999999997, c1: 0.2 and beta: 0.008\n",
      "BMs finished in 1.7125935554504395 seconds\n"
     ]
    },
    {
     "name": "stderr",
     "output_type": "stream",
     "text": [
      "100%|██████████| 380/380 [00:00<00:00, 70508.10it/s]"
     ]
    },
    {
     "name": "stdout",
     "output_type": "stream",
     "text": [
      "CV finished in 0.17572808265686035 seconds\n"
     ]
    },
    {
     "name": "stderr",
     "output_type": "stream",
     "text": [
      "\n"
     ]
    },
    {
     "name": "stdout",
     "output_type": "stream",
     "text": [
      "Aggregation finished in 0.37232375144958496 seconds\n",
      "Finished in 2.2612860202789307 seconds\n",
      "Variables: c0: -0.8999999999999997, c1: 0.30000000000000004 and beta: 0.002\n",
      "BMs finished in 1.678654670715332 seconds\n"
     ]
    },
    {
     "name": "stderr",
     "output_type": "stream",
     "text": [
      "100%|██████████| 380/380 [00:00<00:00, 60147.01it/s]"
     ]
    },
    {
     "name": "stdout",
     "output_type": "stream",
     "text": [
      "CV finished in 0.18340039253234863 seconds\n"
     ]
    },
    {
     "name": "stderr",
     "output_type": "stream",
     "text": [
      "\n"
     ]
    },
    {
     "name": "stdout",
     "output_type": "stream",
     "text": [
      "Aggregation finished in 0.37392663955688477 seconds\n",
      "Finished in 2.236785411834717 seconds\n",
      "Variables: c0: -0.8999999999999997, c1: 0.30000000000000004 and beta: 0.004\n",
      "BMs finished in 1.6641149520874023 seconds\n"
     ]
    },
    {
     "name": "stderr",
     "output_type": "stream",
     "text": [
      "100%|██████████| 380/380 [00:00<00:00, 60085.78it/s]"
     ]
    },
    {
     "name": "stdout",
     "output_type": "stream",
     "text": [
      "CV finished in 0.1778557300567627 seconds\n"
     ]
    },
    {
     "name": "stderr",
     "output_type": "stream",
     "text": [
      "\n"
     ]
    },
    {
     "name": "stdout",
     "output_type": "stream",
     "text": [
      "Aggregation finished in 0.3856520652770996 seconds\n",
      "Finished in 2.228236198425293 seconds\n",
      "Variables: c0: -0.8999999999999997, c1: 0.30000000000000004 and beta: 0.006\n",
      "BMs finished in 1.6866064071655273 seconds\n"
     ]
    },
    {
     "name": "stderr",
     "output_type": "stream",
     "text": [
      "100%|██████████| 380/380 [00:00<00:00, 72628.64it/s]"
     ]
    },
    {
     "name": "stdout",
     "output_type": "stream",
     "text": [
      "CV finished in 0.18733692169189453 seconds\n"
     ]
    },
    {
     "name": "stderr",
     "output_type": "stream",
     "text": [
      "\n"
     ]
    },
    {
     "name": "stdout",
     "output_type": "stream",
     "text": [
      "Aggregation finished in 0.3698244094848633 seconds\n",
      "Finished in 2.244410276412964 seconds\n",
      "Variables: c0: -0.8999999999999997, c1: 0.30000000000000004 and beta: 0.008\n",
      "BMs finished in 2.180799961090088 seconds\n"
     ]
    },
    {
     "name": "stderr",
     "output_type": "stream",
     "text": [
      "100%|██████████| 380/380 [00:00<00:00, 70296.63it/s]"
     ]
    },
    {
     "name": "stdout",
     "output_type": "stream",
     "text": [
      "CV finished in 0.17847728729248047 seconds\n"
     ]
    },
    {
     "name": "stderr",
     "output_type": "stream",
     "text": [
      "\n"
     ]
    },
    {
     "name": "stdout",
     "output_type": "stream",
     "text": [
      "Aggregation finished in 0.3878824710845947 seconds\n",
      "Finished in 2.7479658126831055 seconds\n",
      "Variables: c0: -0.8999999999999997, c1: 0.4 and beta: 0.002\n",
      "BMs finished in 1.7670414447784424 seconds\n"
     ]
    },
    {
     "name": "stderr",
     "output_type": "stream",
     "text": [
      "100%|██████████| 380/380 [00:00<00:00, 67923.95it/s]"
     ]
    },
    {
     "name": "stdout",
     "output_type": "stream",
     "text": [
      "CV finished in 0.17869973182678223 seconds\n"
     ]
    },
    {
     "name": "stderr",
     "output_type": "stream",
     "text": [
      "\n"
     ]
    },
    {
     "name": "stdout",
     "output_type": "stream",
     "text": [
      "Aggregation finished in 0.3669102191925049 seconds\n",
      "Finished in 2.3133318424224854 seconds\n",
      "Variables: c0: -0.8999999999999997, c1: 0.4 and beta: 0.004\n",
      "BMs finished in 1.6642696857452393 seconds\n"
     ]
    },
    {
     "name": "stderr",
     "output_type": "stream",
     "text": [
      "100%|██████████| 380/380 [00:00<00:00, 74287.37it/s]"
     ]
    },
    {
     "name": "stdout",
     "output_type": "stream",
     "text": [
      "CV finished in 0.17473530769348145 seconds\n"
     ]
    },
    {
     "name": "stderr",
     "output_type": "stream",
     "text": [
      "\n"
     ]
    },
    {
     "name": "stdout",
     "output_type": "stream",
     "text": [
      "Aggregation finished in 0.3677818775177002 seconds\n",
      "Finished in 2.207429885864258 seconds\n",
      "Variables: c0: -0.8999999999999997, c1: 0.4 and beta: 0.006\n",
      "BMs finished in 1.659250020980835 seconds\n"
     ]
    },
    {
     "name": "stderr",
     "output_type": "stream",
     "text": [
      "100%|██████████| 380/380 [00:00<00:00, 75547.97it/s]"
     ]
    },
    {
     "name": "stdout",
     "output_type": "stream",
     "text": [
      "CV finished in 0.18352055549621582 seconds\n"
     ]
    },
    {
     "name": "stderr",
     "output_type": "stream",
     "text": [
      "\n"
     ]
    },
    {
     "name": "stdout",
     "output_type": "stream",
     "text": [
      "Aggregation finished in 0.35693883895874023 seconds\n",
      "Finished in 2.2005553245544434 seconds\n",
      "Variables: c0: -0.8999999999999997, c1: 0.4 and beta: 0.008\n",
      "BMs finished in 1.7255847454071045 seconds\n"
     ]
    },
    {
     "name": "stderr",
     "output_type": "stream",
     "text": [
      "100%|██████████| 380/380 [00:00<00:00, 68363.88it/s]"
     ]
    },
    {
     "name": "stdout",
     "output_type": "stream",
     "text": [
      "CV finished in 0.18133854866027832 seconds\n"
     ]
    },
    {
     "name": "stderr",
     "output_type": "stream",
     "text": [
      "\n"
     ]
    },
    {
     "name": "stdout",
     "output_type": "stream",
     "text": [
      "Aggregation finished in 0.3615572452545166 seconds\n",
      "Finished in 2.2691283226013184 seconds\n",
      "Variables: c0: -0.8999999999999997, c1: 0.5 and beta: 0.002\n",
      "BMs finished in 2.167633056640625 seconds\n"
     ]
    },
    {
     "name": "stderr",
     "output_type": "stream",
     "text": [
      "100%|██████████| 380/380 [00:00<00:00, 60011.13it/s]"
     ]
    },
    {
     "name": "stdout",
     "output_type": "stream",
     "text": [
      "CV finished in 0.18596553802490234 seconds\n"
     ]
    },
    {
     "name": "stderr",
     "output_type": "stream",
     "text": [
      "\n"
     ]
    },
    {
     "name": "stdout",
     "output_type": "stream",
     "text": [
      "Aggregation finished in 0.35112810134887695 seconds\n",
      "Finished in 2.7053699493408203 seconds\n",
      "Variables: c0: -0.8999999999999997, c1: 0.5 and beta: 0.004\n",
      "BMs finished in 1.6568808555603027 seconds\n"
     ]
    },
    {
     "name": "stderr",
     "output_type": "stream",
     "text": [
      "100%|██████████| 380/380 [00:00<00:00, 58871.77it/s]"
     ]
    },
    {
     "name": "stdout",
     "output_type": "stream",
     "text": [
      "CV finished in 0.1854696273803711 seconds\n"
     ]
    },
    {
     "name": "stderr",
     "output_type": "stream",
     "text": [
      "\n"
     ]
    },
    {
     "name": "stdout",
     "output_type": "stream",
     "text": [
      "Aggregation finished in 0.4251091480255127 seconds\n",
      "Finished in 2.2680680751800537 seconds\n",
      "Variables: c0: -0.8999999999999997, c1: 0.5 and beta: 0.006\n",
      "BMs finished in 1.7116918563842773 seconds\n"
     ]
    },
    {
     "name": "stderr",
     "output_type": "stream",
     "text": [
      "100%|██████████| 380/380 [00:00<00:00, 63562.73it/s]"
     ]
    },
    {
     "name": "stdout",
     "output_type": "stream",
     "text": [
      "CV finished in 0.18856525421142578 seconds\n"
     ]
    },
    {
     "name": "stderr",
     "output_type": "stream",
     "text": [
      "\n"
     ]
    },
    {
     "name": "stdout",
     "output_type": "stream",
     "text": [
      "Aggregation finished in 0.3682847023010254 seconds\n",
      "Finished in 2.2691757678985596 seconds\n",
      "Variables: c0: -0.8999999999999997, c1: 0.5 and beta: 0.008\n",
      "BMs finished in 1.6944034099578857 seconds\n"
     ]
    },
    {
     "name": "stderr",
     "output_type": "stream",
     "text": [
      "100%|██████████| 380/380 [00:00<00:00, 62045.92it/s]"
     ]
    },
    {
     "name": "stdout",
     "output_type": "stream",
     "text": [
      "CV finished in 0.1857292652130127 seconds\n"
     ]
    },
    {
     "name": "stderr",
     "output_type": "stream",
     "text": [
      "\n"
     ]
    },
    {
     "name": "stdout",
     "output_type": "stream",
     "text": [
      "Aggregation finished in 0.38251805305480957 seconds\n",
      "Finished in 2.263493776321411 seconds\n",
      "Variables: c0: -0.7999999999999996, c1: 0.0 and beta: 0.002\n",
      "BMs finished in 1.7448060512542725 seconds\n"
     ]
    },
    {
     "name": "stderr",
     "output_type": "stream",
     "text": [
      "100%|██████████| 380/380 [00:00<00:00, 60056.35it/s]"
     ]
    },
    {
     "name": "stdout",
     "output_type": "stream",
     "text": [
      "CV finished in 0.19022917747497559 seconds\n"
     ]
    },
    {
     "name": "stderr",
     "output_type": "stream",
     "text": [
      "\n"
     ]
    },
    {
     "name": "stdout",
     "output_type": "stream",
     "text": [
      "Aggregation finished in 0.3794424533843994 seconds\n",
      "Finished in 2.315091371536255 seconds\n",
      "Variables: c0: -0.7999999999999996, c1: 0.0 and beta: 0.004\n",
      "BMs finished in 2.1737611293792725 seconds\n"
     ]
    },
    {
     "name": "stderr",
     "output_type": "stream",
     "text": [
      "100%|██████████| 380/380 [00:00<00:00, 68575.66it/s]"
     ]
    },
    {
     "name": "stdout",
     "output_type": "stream",
     "text": [
      "CV finished in 0.180070161819458 seconds\n"
     ]
    },
    {
     "name": "stderr",
     "output_type": "stream",
     "text": [
      "\n"
     ]
    },
    {
     "name": "stdout",
     "output_type": "stream",
     "text": [
      "Aggregation finished in 0.3667640686035156 seconds\n",
      "Finished in 2.7212131023406982 seconds\n",
      "Variables: c0: -0.7999999999999996, c1: 0.0 and beta: 0.006\n",
      "BMs finished in 1.6711533069610596 seconds\n"
     ]
    },
    {
     "name": "stderr",
     "output_type": "stream",
     "text": [
      "100%|██████████| 380/380 [00:00<00:00, 61005.72it/s]"
     ]
    },
    {
     "name": "stdout",
     "output_type": "stream",
     "text": [
      "CV finished in 0.18262314796447754 seconds\n"
     ]
    },
    {
     "name": "stderr",
     "output_type": "stream",
     "text": [
      "\n"
     ]
    },
    {
     "name": "stdout",
     "output_type": "stream",
     "text": [
      "Aggregation finished in 0.5012416839599609 seconds\n",
      "Finished in 2.355881929397583 seconds\n",
      "Variables: c0: -0.7999999999999996, c1: 0.0 and beta: 0.008\n",
      "BMs finished in 1.7122540473937988 seconds\n"
     ]
    },
    {
     "name": "stderr",
     "output_type": "stream",
     "text": [
      "100%|██████████| 380/380 [00:00<00:00, 66437.50it/s]"
     ]
    },
    {
     "name": "stdout",
     "output_type": "stream",
     "text": [
      "CV finished in 0.17957139015197754 seconds\n"
     ]
    },
    {
     "name": "stderr",
     "output_type": "stream",
     "text": [
      "\n"
     ]
    },
    {
     "name": "stdout",
     "output_type": "stream",
     "text": [
      "Aggregation finished in 0.4315171241760254 seconds\n",
      "Finished in 2.324014902114868 seconds\n",
      "Variables: c0: -0.7999999999999996, c1: 0.1 and beta: 0.002\n",
      "BMs finished in 1.7237451076507568 seconds\n"
     ]
    },
    {
     "name": "stderr",
     "output_type": "stream",
     "text": [
      "100%|██████████| 380/380 [00:00<00:00, 76158.04it/s]"
     ]
    },
    {
     "name": "stdout",
     "output_type": "stream",
     "text": [
      "CV finished in 0.17863702774047852 seconds\n"
     ]
    },
    {
     "name": "stderr",
     "output_type": "stream",
     "text": [
      "\n"
     ]
    },
    {
     "name": "stdout",
     "output_type": "stream",
     "text": [
      "Aggregation finished in 0.3742053508758545 seconds\n",
      "Finished in 2.2771899700164795 seconds\n",
      "Variables: c0: -0.7999999999999996, c1: 0.1 and beta: 0.004\n",
      "BMs finished in 1.7218656539916992 seconds\n"
     ]
    },
    {
     "name": "stderr",
     "output_type": "stream",
     "text": [
      "100%|██████████| 380/380 [00:00<00:00, 69399.79it/s]"
     ]
    },
    {
     "name": "stdout",
     "output_type": "stream",
     "text": [
      "CV finished in 0.1811990737915039 seconds\n"
     ]
    },
    {
     "name": "stderr",
     "output_type": "stream",
     "text": [
      "\n"
     ]
    },
    {
     "name": "stdout",
     "output_type": "stream",
     "text": [
      "Aggregation finished in 0.3631300926208496 seconds\n",
      "Finished in 2.2668349742889404 seconds\n",
      "Variables: c0: -0.7999999999999996, c1: 0.1 and beta: 0.006\n",
      "BMs finished in 2.246161460876465 seconds\n"
     ]
    },
    {
     "name": "stderr",
     "output_type": "stream",
     "text": [
      "100%|██████████| 380/380 [00:00<00:00, 69224.96it/s]"
     ]
    },
    {
     "name": "stdout",
     "output_type": "stream",
     "text": [
      "CV finished in 0.18099355697631836 seconds\n"
     ]
    },
    {
     "name": "stderr",
     "output_type": "stream",
     "text": [
      "\n"
     ]
    },
    {
     "name": "stdout",
     "output_type": "stream",
     "text": [
      "Aggregation finished in 0.38163208961486816 seconds\n",
      "Finished in 2.8096742630004883 seconds\n",
      "Variables: c0: -0.7999999999999996, c1: 0.1 and beta: 0.008\n",
      "BMs finished in 1.6738853454589844 seconds\n"
     ]
    },
    {
     "name": "stderr",
     "output_type": "stream",
     "text": [
      "100%|██████████| 380/380 [00:00<00:00, 56547.06it/s]"
     ]
    },
    {
     "name": "stdout",
     "output_type": "stream",
     "text": [
      "CV finished in 0.18465948104858398 seconds\n"
     ]
    },
    {
     "name": "stderr",
     "output_type": "stream",
     "text": [
      "\n"
     ]
    },
    {
     "name": "stdout",
     "output_type": "stream",
     "text": [
      "Aggregation finished in 0.370952844619751 seconds\n",
      "Finished in 2.230189085006714 seconds\n",
      "Variables: c0: -0.7999999999999996, c1: 0.2 and beta: 0.002\n",
      "BMs finished in 1.6934189796447754 seconds\n"
     ]
    },
    {
     "name": "stderr",
     "output_type": "stream",
     "text": [
      "100%|██████████| 380/380 [00:00<00:00, 80011.82it/s]"
     ]
    },
    {
     "name": "stdout",
     "output_type": "stream",
     "text": [
      "CV finished in 0.1765913963317871 seconds\n"
     ]
    },
    {
     "name": "stderr",
     "output_type": "stream",
     "text": [
      "\n"
     ]
    },
    {
     "name": "stdout",
     "output_type": "stream",
     "text": [
      "Aggregation finished in 0.36211252212524414 seconds\n",
      "Finished in 2.23357892036438 seconds\n",
      "Variables: c0: -0.7999999999999996, c1: 0.2 and beta: 0.004\n",
      "BMs finished in 1.6760427951812744 seconds\n"
     ]
    },
    {
     "name": "stderr",
     "output_type": "stream",
     "text": [
      "100%|██████████| 380/380 [00:00<00:00, 58784.92it/s]"
     ]
    },
    {
     "name": "stdout",
     "output_type": "stream",
     "text": [
      "CV finished in 0.18493390083312988 seconds\n"
     ]
    },
    {
     "name": "stderr",
     "output_type": "stream",
     "text": [
      "\n"
     ]
    },
    {
     "name": "stdout",
     "output_type": "stream",
     "text": [
      "Aggregation finished in 0.3604443073272705 seconds\n",
      "Finished in 2.2220680713653564 seconds\n",
      "Variables: c0: -0.7999999999999996, c1: 0.2 and beta: 0.006\n",
      "BMs finished in 1.743131160736084 seconds\n"
     ]
    },
    {
     "name": "stderr",
     "output_type": "stream",
     "text": [
      "100%|██████████| 380/380 [00:00<00:00, 65315.77it/s]"
     ]
    },
    {
     "name": "stdout",
     "output_type": "stream",
     "text": [
      "CV finished in 0.17702746391296387 seconds\n"
     ]
    },
    {
     "name": "stderr",
     "output_type": "stream",
     "text": [
      "\n"
     ]
    },
    {
     "name": "stdout",
     "output_type": "stream",
     "text": [
      "Aggregation finished in 0.36916399002075195 seconds\n",
      "Finished in 2.289982795715332 seconds\n",
      "Variables: c0: -0.7999999999999996, c1: 0.2 and beta: 0.008\n",
      "BMs finished in 1.670600175857544 seconds\n"
     ]
    },
    {
     "name": "stderr",
     "output_type": "stream",
     "text": [
      "100%|██████████| 380/380 [00:00<00:00, 73479.12it/s]"
     ]
    },
    {
     "name": "stdout",
     "output_type": "stream",
     "text": [
      "CV finished in 0.18560004234313965 seconds\n"
     ]
    },
    {
     "name": "stderr",
     "output_type": "stream",
     "text": [
      "\n"
     ]
    },
    {
     "name": "stdout",
     "output_type": "stream",
     "text": [
      "Aggregation finished in 0.3836967945098877 seconds\n",
      "Finished in 2.2405364513397217 seconds\n",
      "Variables: c0: -0.7999999999999996, c1: 0.30000000000000004 and beta: 0.002\n",
      "BMs finished in 2.2196269035339355 seconds\n"
     ]
    },
    {
     "name": "stderr",
     "output_type": "stream",
     "text": [
      "100%|██████████| 380/380 [00:00<00:00, 73874.18it/s]"
     ]
    },
    {
     "name": "stdout",
     "output_type": "stream",
     "text": [
      "CV finished in 0.18138575553894043 seconds\n"
     ]
    },
    {
     "name": "stderr",
     "output_type": "stream",
     "text": [
      "\n"
     ]
    },
    {
     "name": "stdout",
     "output_type": "stream",
     "text": [
      "Aggregation finished in 0.37506985664367676 seconds\n",
      "Finished in 2.7768752574920654 seconds\n",
      "Variables: c0: -0.7999999999999996, c1: 0.30000000000000004 and beta: 0.004\n",
      "BMs finished in 1.6694626808166504 seconds\n"
     ]
    },
    {
     "name": "stderr",
     "output_type": "stream",
     "text": [
      "100%|██████████| 380/380 [00:00<00:00, 71504.51it/s]"
     ]
    },
    {
     "name": "stdout",
     "output_type": "stream",
     "text": [
      "CV finished in 0.18199849128723145 seconds\n"
     ]
    },
    {
     "name": "stderr",
     "output_type": "stream",
     "text": [
      "\n"
     ]
    },
    {
     "name": "stdout",
     "output_type": "stream",
     "text": [
      "Aggregation finished in 0.37900304794311523 seconds\n",
      "Finished in 2.2313802242279053 seconds\n",
      "Variables: c0: -0.7999999999999996, c1: 0.30000000000000004 and beta: 0.006\n",
      "BMs finished in 1.6700921058654785 seconds\n"
     ]
    },
    {
     "name": "stderr",
     "output_type": "stream",
     "text": [
      "100%|██████████| 380/380 [00:00<00:00, 63032.33it/s]"
     ]
    },
    {
     "name": "stdout",
     "output_type": "stream",
     "text": [
      "CV finished in 0.18667387962341309 seconds\n"
     ]
    },
    {
     "name": "stderr",
     "output_type": "stream",
     "text": [
      "\n"
     ]
    },
    {
     "name": "stdout",
     "output_type": "stream",
     "text": [
      "Aggregation finished in 0.3717615604400635 seconds\n",
      "Finished in 2.2291975021362305 seconds\n",
      "Variables: c0: -0.7999999999999996, c1: 0.30000000000000004 and beta: 0.008\n",
      "BMs finished in 1.7089393138885498 seconds\n"
     ]
    },
    {
     "name": "stderr",
     "output_type": "stream",
     "text": [
      "100%|██████████| 380/380 [00:00<00:00, 75590.97it/s]"
     ]
    },
    {
     "name": "stdout",
     "output_type": "stream",
     "text": [
      "CV finished in 0.17992496490478516 seconds\n"
     ]
    },
    {
     "name": "stderr",
     "output_type": "stream",
     "text": [
      "\n"
     ]
    },
    {
     "name": "stdout",
     "output_type": "stream",
     "text": [
      "Aggregation finished in 0.4032738208770752 seconds\n",
      "Finished in 2.2929060459136963 seconds\n",
      "Variables: c0: -0.7999999999999996, c1: 0.4 and beta: 0.002\n",
      "BMs finished in 1.6987473964691162 seconds\n"
     ]
    },
    {
     "name": "stderr",
     "output_type": "stream",
     "text": [
      "100%|██████████| 380/380 [00:00<00:00, 73843.38it/s]"
     ]
    },
    {
     "name": "stdout",
     "output_type": "stream",
     "text": [
      "CV finished in 0.18587446212768555 seconds\n"
     ]
    },
    {
     "name": "stderr",
     "output_type": "stream",
     "text": [
      "\n"
     ]
    },
    {
     "name": "stdout",
     "output_type": "stream",
     "text": [
      "Aggregation finished in 0.37689805030822754 seconds\n",
      "Finished in 2.2622196674346924 seconds\n",
      "Variables: c0: -0.7999999999999996, c1: 0.4 and beta: 0.004\n",
      "BMs finished in 1.6939704418182373 seconds\n"
     ]
    },
    {
     "name": "stderr",
     "output_type": "stream",
     "text": [
      "100%|██████████| 380/380 [00:00<00:00, 51860.72it/s]"
     ]
    },
    {
     "name": "stdout",
     "output_type": "stream",
     "text": [
      "CV finished in 0.18799161911010742 seconds\n"
     ]
    },
    {
     "name": "stderr",
     "output_type": "stream",
     "text": [
      "\n"
     ]
    },
    {
     "name": "stdout",
     "output_type": "stream",
     "text": [
      "Aggregation finished in 0.38234877586364746 seconds\n",
      "Finished in 2.2649548053741455 seconds\n",
      "Variables: c0: -0.7999999999999996, c1: 0.4 and beta: 0.006\n",
      "BMs finished in 2.2649741172790527 seconds\n"
     ]
    },
    {
     "name": "stderr",
     "output_type": "stream",
     "text": [
      "100%|██████████| 380/380 [00:00<00:00, 62486.20it/s]"
     ]
    },
    {
     "name": "stdout",
     "output_type": "stream",
     "text": [
      "CV finished in 0.1961979866027832 seconds\n"
     ]
    },
    {
     "name": "stderr",
     "output_type": "stream",
     "text": [
      "\n"
     ]
    },
    {
     "name": "stdout",
     "output_type": "stream",
     "text": [
      "Aggregation finished in 0.3886260986328125 seconds\n",
      "Finished in 2.8504793643951416 seconds\n",
      "Variables: c0: -0.7999999999999996, c1: 0.4 and beta: 0.008\n",
      "BMs finished in 1.6952869892120361 seconds\n"
     ]
    },
    {
     "name": "stderr",
     "output_type": "stream",
     "text": [
      "100%|██████████| 380/380 [00:00<00:00, 60461.88it/s]"
     ]
    },
    {
     "name": "stdout",
     "output_type": "stream",
     "text": [
      "CV finished in 0.18748235702514648 seconds\n"
     ]
    },
    {
     "name": "stderr",
     "output_type": "stream",
     "text": [
      "\n"
     ]
    },
    {
     "name": "stdout",
     "output_type": "stream",
     "text": [
      "Aggregation finished in 0.3884735107421875 seconds\n",
      "Finished in 2.271883010864258 seconds\n",
      "Variables: c0: -0.7999999999999996, c1: 0.5 and beta: 0.002\n",
      "BMs finished in 1.6873142719268799 seconds\n"
     ]
    },
    {
     "name": "stderr",
     "output_type": "stream",
     "text": [
      "100%|██████████| 380/380 [00:00<00:00, 75497.87it/s]"
     ]
    },
    {
     "name": "stdout",
     "output_type": "stream",
     "text": [
      "CV finished in 0.18453097343444824 seconds\n"
     ]
    },
    {
     "name": "stderr",
     "output_type": "stream",
     "text": [
      "\n"
     ]
    },
    {
     "name": "stdout",
     "output_type": "stream",
     "text": [
      "Aggregation finished in 0.36949634552001953 seconds\n",
      "Finished in 2.2420787811279297 seconds\n",
      "Variables: c0: -0.7999999999999996, c1: 0.5 and beta: 0.004\n",
      "BMs finished in 1.8168787956237793 seconds\n"
     ]
    },
    {
     "name": "stderr",
     "output_type": "stream",
     "text": [
      "100%|██████████| 380/380 [00:00<00:00, 66030.14it/s]"
     ]
    },
    {
     "name": "stdout",
     "output_type": "stream",
     "text": [
      "CV finished in 0.18103981018066406 seconds\n"
     ]
    },
    {
     "name": "stderr",
     "output_type": "stream",
     "text": [
      "\n"
     ]
    },
    {
     "name": "stdout",
     "output_type": "stream",
     "text": [
      "Aggregation finished in 0.38778066635131836 seconds\n",
      "Finished in 2.386359930038452 seconds\n",
      "Variables: c0: -0.7999999999999996, c1: 0.5 and beta: 0.006\n",
      "BMs finished in 1.6726689338684082 seconds\n"
     ]
    },
    {
     "name": "stderr",
     "output_type": "stream",
     "text": [
      "100%|██████████| 380/380 [00:00<00:00, 66861.13it/s]"
     ]
    },
    {
     "name": "stdout",
     "output_type": "stream",
     "text": [
      "CV finished in 0.1857919692993164 seconds\n"
     ]
    },
    {
     "name": "stderr",
     "output_type": "stream",
     "text": [
      "\n"
     ]
    },
    {
     "name": "stdout",
     "output_type": "stream",
     "text": [
      "Aggregation finished in 0.3880486488342285 seconds\n",
      "Finished in 2.2471747398376465 seconds\n",
      "Variables: c0: -0.7999999999999996, c1: 0.5 and beta: 0.008\n",
      "BMs finished in 1.702500343322754 seconds\n"
     ]
    },
    {
     "name": "stderr",
     "output_type": "stream",
     "text": [
      "100%|██████████| 380/380 [00:00<00:00, 72947.76it/s]"
     ]
    },
    {
     "name": "stdout",
     "output_type": "stream",
     "text": [
      "CV finished in 0.18596410751342773 seconds\n"
     ]
    },
    {
     "name": "stderr",
     "output_type": "stream",
     "text": [
      "\n"
     ]
    },
    {
     "name": "stdout",
     "output_type": "stream",
     "text": [
      "Aggregation finished in 0.37897682189941406 seconds\n",
      "Finished in 2.268099308013916 seconds\n",
      "Variables: c0: -0.6999999999999995, c1: 0.0 and beta: 0.002\n",
      "BMs finished in 2.2803456783294678 seconds\n"
     ]
    },
    {
     "name": "stderr",
     "output_type": "stream",
     "text": [
      "100%|██████████| 380/380 [00:00<00:00, 62665.55it/s]"
     ]
    },
    {
     "name": "stdout",
     "output_type": "stream",
     "text": [
      "CV finished in 0.18372178077697754 seconds\n"
     ]
    },
    {
     "name": "stderr",
     "output_type": "stream",
     "text": [
      "\n"
     ]
    },
    {
     "name": "stdout",
     "output_type": "stream",
     "text": [
      "Aggregation finished in 0.37678980827331543 seconds\n",
      "Finished in 2.8415234088897705 seconds\n",
      "Variables: c0: -0.6999999999999995, c1: 0.0 and beta: 0.004\n",
      "BMs finished in 1.682952880859375 seconds\n"
     ]
    },
    {
     "name": "stderr",
     "output_type": "stream",
     "text": [
      "100%|██████████| 380/380 [00:00<00:00, 60828.77it/s]"
     ]
    },
    {
     "name": "stdout",
     "output_type": "stream",
     "text": [
      "CV finished in 0.18728351593017578 seconds\n"
     ]
    },
    {
     "name": "stderr",
     "output_type": "stream",
     "text": [
      "\n"
     ]
    },
    {
     "name": "stdout",
     "output_type": "stream",
     "text": [
      "Aggregation finished in 0.374194860458374 seconds\n",
      "Finished in 2.245041608810425 seconds\n",
      "Variables: c0: -0.6999999999999995, c1: 0.0 and beta: 0.006\n",
      "BMs finished in 1.7525599002838135 seconds\n"
     ]
    },
    {
     "name": "stderr",
     "output_type": "stream",
     "text": [
      "100%|██████████| 380/380 [00:00<00:00, 72138.84it/s]"
     ]
    },
    {
     "name": "stdout",
     "output_type": "stream",
     "text": [
      "CV finished in 0.18161916732788086 seconds\n"
     ]
    },
    {
     "name": "stderr",
     "output_type": "stream",
     "text": [
      "\n"
     ]
    },
    {
     "name": "stdout",
     "output_type": "stream",
     "text": [
      "Aggregation finished in 0.4051234722137451 seconds\n",
      "Finished in 2.3401200771331787 seconds\n",
      "Variables: c0: -0.6999999999999995, c1: 0.0 and beta: 0.008\n",
      "BMs finished in 1.7075555324554443 seconds\n"
     ]
    },
    {
     "name": "stderr",
     "output_type": "stream",
     "text": [
      "100%|██████████| 380/380 [00:00<00:00, 61695.27it/s]"
     ]
    },
    {
     "name": "stdout",
     "output_type": "stream",
     "text": [
      "CV finished in 0.18973994255065918 seconds\n"
     ]
    },
    {
     "name": "stderr",
     "output_type": "stream",
     "text": [
      "\n"
     ]
    },
    {
     "name": "stdout",
     "output_type": "stream",
     "text": [
      "Aggregation finished in 0.4022197723388672 seconds\n",
      "Finished in 2.3006300926208496 seconds\n",
      "Variables: c0: -0.6999999999999995, c1: 0.1 and beta: 0.002\n",
      "BMs finished in 1.7748446464538574 seconds\n"
     ]
    },
    {
     "name": "stderr",
     "output_type": "stream",
     "text": [
      "100%|██████████| 380/380 [00:00<00:00, 50914.76it/s]\n"
     ]
    },
    {
     "name": "stdout",
     "output_type": "stream",
     "text": [
      "CV finished in 0.24849200248718262 seconds\n",
      "Aggregation finished in 0.37035393714904785 seconds\n",
      "Finished in 2.394763708114624 seconds\n",
      "Variables: c0: -0.6999999999999995, c1: 0.1 and beta: 0.004\n",
      "BMs finished in 1.7188823223114014 seconds\n"
     ]
    },
    {
     "name": "stderr",
     "output_type": "stream",
     "text": [
      "100%|██████████| 380/380 [00:00<00:00, 77987.74it/s]"
     ]
    },
    {
     "name": "stdout",
     "output_type": "stream",
     "text": [
      "CV finished in 0.18456506729125977 seconds\n"
     ]
    },
    {
     "name": "stderr",
     "output_type": "stream",
     "text": [
      "\n"
     ]
    },
    {
     "name": "stdout",
     "output_type": "stream",
     "text": [
      "Aggregation finished in 0.38115453720092773 seconds\n",
      "Finished in 2.285219430923462 seconds\n",
      "Variables: c0: -0.6999999999999995, c1: 0.1 and beta: 0.006\n",
      "BMs finished in 2.36079478263855 seconds\n"
     ]
    },
    {
     "name": "stderr",
     "output_type": "stream",
     "text": [
      "100%|██████████| 380/380 [00:00<00:00, 67267.47it/s]"
     ]
    },
    {
     "name": "stdout",
     "output_type": "stream",
     "text": [
      "CV finished in 0.18918633460998535 seconds\n"
     ]
    },
    {
     "name": "stderr",
     "output_type": "stream",
     "text": [
      "\n"
     ]
    },
    {
     "name": "stdout",
     "output_type": "stream",
     "text": [
      "Aggregation finished in 0.37724852561950684 seconds\n",
      "Finished in 2.9278361797332764 seconds\n",
      "Variables: c0: -0.6999999999999995, c1: 0.1 and beta: 0.008\n",
      "BMs finished in 1.701573371887207 seconds\n"
     ]
    },
    {
     "name": "stderr",
     "output_type": "stream",
     "text": [
      "100%|██████████| 380/380 [00:00<00:00, 35173.14it/s]"
     ]
    },
    {
     "name": "stdout",
     "output_type": "stream",
     "text": [
      "CV finished in 0.19512677192687988 seconds\n"
     ]
    },
    {
     "name": "stderr",
     "output_type": "stream",
     "text": [
      "\n"
     ]
    },
    {
     "name": "stdout",
     "output_type": "stream",
     "text": [
      "Aggregation finished in 0.3958454132080078 seconds\n",
      "Finished in 2.2932424545288086 seconds\n",
      "Variables: c0: -0.6999999999999995, c1: 0.2 and beta: 0.002\n",
      "BMs finished in 1.7415108680725098 seconds\n"
     ]
    },
    {
     "name": "stderr",
     "output_type": "stream",
     "text": [
      "100%|██████████| 380/380 [00:00<00:00, 60464.17it/s]"
     ]
    },
    {
     "name": "stdout",
     "output_type": "stream",
     "text": [
      "CV finished in 0.19016814231872559 seconds\n"
     ]
    },
    {
     "name": "stderr",
     "output_type": "stream",
     "text": [
      "\n"
     ]
    },
    {
     "name": "stdout",
     "output_type": "stream",
     "text": [
      "Aggregation finished in 0.39007043838500977 seconds\n",
      "Finished in 2.3234052658081055 seconds\n",
      "Variables: c0: -0.6999999999999995, c1: 0.2 and beta: 0.004\n",
      "BMs finished in 1.7005314826965332 seconds\n"
     ]
    },
    {
     "name": "stderr",
     "output_type": "stream",
     "text": [
      "100%|██████████| 380/380 [00:00<00:00, 57580.76it/s]"
     ]
    },
    {
     "name": "stdout",
     "output_type": "stream",
     "text": [
      "CV finished in 0.19456720352172852 seconds\n"
     ]
    },
    {
     "name": "stderr",
     "output_type": "stream",
     "text": [
      "\n"
     ]
    },
    {
     "name": "stdout",
     "output_type": "stream",
     "text": [
      "Aggregation finished in 0.3742406368255615 seconds\n",
      "Finished in 2.2699851989746094 seconds\n",
      "Variables: c0: -0.6999999999999995, c1: 0.2 and beta: 0.006\n",
      "BMs finished in 1.68424391746521 seconds\n"
     ]
    },
    {
     "name": "stderr",
     "output_type": "stream",
     "text": [
      "100%|██████████| 380/380 [00:00<00:00, 54488.24it/s]"
     ]
    },
    {
     "name": "stdout",
     "output_type": "stream",
     "text": [
      "CV finished in 0.1902773380279541 seconds\n"
     ]
    },
    {
     "name": "stderr",
     "output_type": "stream",
     "text": [
      "\n"
     ]
    },
    {
     "name": "stdout",
     "output_type": "stream",
     "text": [
      "Aggregation finished in 0.383953332901001 seconds\n",
      "Finished in 2.259115219116211 seconds\n",
      "Variables: c0: -0.6999999999999995, c1: 0.2 and beta: 0.008\n",
      "BMs finished in 1.6729390621185303 seconds\n"
     ]
    },
    {
     "name": "stderr",
     "output_type": "stream",
     "text": [
      "100%|██████████| 380/380 [00:00<00:00, 62230.03it/s]"
     ]
    },
    {
     "name": "stdout",
     "output_type": "stream",
     "text": [
      "CV finished in 0.19964241981506348 seconds\n"
     ]
    },
    {
     "name": "stderr",
     "output_type": "stream",
     "text": [
      "\n"
     ]
    },
    {
     "name": "stdout",
     "output_type": "stream",
     "text": [
      "Aggregation finished in 0.37778306007385254 seconds\n",
      "Finished in 2.2510814666748047 seconds\n",
      "Variables: c0: -0.6999999999999995, c1: 0.30000000000000004 and beta: 0.002\n",
      "BMs finished in 1.6929042339324951 seconds\n"
     ]
    },
    {
     "name": "stderr",
     "output_type": "stream",
     "text": [
      "100%|██████████| 380/380 [00:00<00:00, 52435.70it/s]"
     ]
    },
    {
     "name": "stdout",
     "output_type": "stream",
     "text": [
      "CV finished in 0.19023418426513672 seconds\n"
     ]
    },
    {
     "name": "stderr",
     "output_type": "stream",
     "text": [
      "\n"
     ]
    },
    {
     "name": "stdout",
     "output_type": "stream",
     "text": [
      "Aggregation finished in 0.37894272804260254 seconds\n",
      "Finished in 2.2627995014190674 seconds\n",
      "Variables: c0: -0.6999999999999995, c1: 0.30000000000000004 and beta: 0.004\n",
      "BMs finished in 2.378389596939087 seconds\n"
     ]
    },
    {
     "name": "stderr",
     "output_type": "stream",
     "text": [
      "100%|██████████| 380/380 [00:00<00:00, 61604.65it/s]"
     ]
    },
    {
     "name": "stdout",
     "output_type": "stream",
     "text": [
      "CV finished in 0.19144582748413086 seconds\n"
     ]
    },
    {
     "name": "stderr",
     "output_type": "stream",
     "text": [
      "\n"
     ]
    },
    {
     "name": "stdout",
     "output_type": "stream",
     "text": [
      "Aggregation finished in 0.4214293956756592 seconds\n",
      "Finished in 2.992180585861206 seconds\n",
      "Variables: c0: -0.6999999999999995, c1: 0.30000000000000004 and beta: 0.006\n",
      "BMs finished in 1.7243282794952393 seconds\n"
     ]
    },
    {
     "name": "stderr",
     "output_type": "stream",
     "text": [
      "100%|██████████| 380/380 [00:00<00:00, 55270.50it/s]"
     ]
    },
    {
     "name": "stdout",
     "output_type": "stream",
     "text": [
      "CV finished in 0.18707704544067383 seconds\n"
     ]
    },
    {
     "name": "stderr",
     "output_type": "stream",
     "text": [
      "\n"
     ]
    },
    {
     "name": "stdout",
     "output_type": "stream",
     "text": [
      "Aggregation finished in 0.4531872272491455 seconds\n",
      "Finished in 2.365324020385742 seconds\n",
      "Variables: c0: -0.6999999999999995, c1: 0.30000000000000004 and beta: 0.008\n",
      "BMs finished in 1.7107946872711182 seconds\n"
     ]
    },
    {
     "name": "stderr",
     "output_type": "stream",
     "text": [
      "100%|██████████| 380/380 [00:00<00:00, 66178.19it/s]"
     ]
    },
    {
     "name": "stdout",
     "output_type": "stream",
     "text": [
      "CV finished in 0.1948564052581787 seconds\n"
     ]
    },
    {
     "name": "stderr",
     "output_type": "stream",
     "text": [
      "\n"
     ]
    },
    {
     "name": "stdout",
     "output_type": "stream",
     "text": [
      "Aggregation finished in 0.3955399990081787 seconds\n",
      "Finished in 2.3018605709075928 seconds\n",
      "Variables: c0: -0.6999999999999995, c1: 0.4 and beta: 0.002\n",
      "BMs finished in 1.8014626502990723 seconds\n"
     ]
    },
    {
     "name": "stderr",
     "output_type": "stream",
     "text": [
      "100%|██████████| 380/380 [00:00<00:00, 70327.65it/s]"
     ]
    },
    {
     "name": "stdout",
     "output_type": "stream",
     "text": [
      "CV finished in 0.18869304656982422 seconds\n"
     ]
    },
    {
     "name": "stderr",
     "output_type": "stream",
     "text": [
      "\n"
     ]
    },
    {
     "name": "stdout",
     "output_type": "stream",
     "text": [
      "Aggregation finished in 0.38471031188964844 seconds\n",
      "Finished in 2.3757176399230957 seconds\n",
      "Variables: c0: -0.6999999999999995, c1: 0.4 and beta: 0.004\n",
      "BMs finished in 1.7020289897918701 seconds\n"
     ]
    },
    {
     "name": "stderr",
     "output_type": "stream",
     "text": [
      "100%|██████████| 380/380 [00:00<00:00, 65238.24it/s]"
     ]
    },
    {
     "name": "stdout",
     "output_type": "stream",
     "text": [
      "CV finished in 0.1910545825958252 seconds\n"
     ]
    },
    {
     "name": "stderr",
     "output_type": "stream",
     "text": [
      "\n"
     ]
    },
    {
     "name": "stdout",
     "output_type": "stream",
     "text": [
      "Aggregation finished in 0.383145809173584 seconds\n",
      "Finished in 2.2769129276275635 seconds\n",
      "Variables: c0: -0.6999999999999995, c1: 0.4 and beta: 0.006\n",
      "BMs finished in 1.6669247150421143 seconds\n"
     ]
    },
    {
     "name": "stderr",
     "output_type": "stream",
     "text": [
      "100%|██████████| 380/380 [00:00<00:00, 62970.07it/s]"
     ]
    },
    {
     "name": "stdout",
     "output_type": "stream",
     "text": [
      "CV finished in 0.1884779930114746 seconds\n"
     ]
    },
    {
     "name": "stderr",
     "output_type": "stream",
     "text": [
      "\n"
     ]
    },
    {
     "name": "stdout",
     "output_type": "stream",
     "text": [
      "Aggregation finished in 0.38878607749938965 seconds\n",
      "Finished in 2.2448151111602783 seconds\n",
      "Variables: c0: -0.6999999999999995, c1: 0.4 and beta: 0.008\n",
      "BMs finished in 1.7216899394989014 seconds\n"
     ]
    },
    {
     "name": "stderr",
     "output_type": "stream",
     "text": [
      "100%|██████████| 380/380 [00:00<00:00, 71807.33it/s]"
     ]
    },
    {
     "name": "stdout",
     "output_type": "stream",
     "text": [
      "CV finished in 0.18716120719909668 seconds\n"
     ]
    },
    {
     "name": "stderr",
     "output_type": "stream",
     "text": [
      "\n"
     ]
    },
    {
     "name": "stdout",
     "output_type": "stream",
     "text": [
      "Aggregation finished in 0.4491591453552246 seconds\n",
      "Finished in 2.358902931213379 seconds\n",
      "Variables: c0: -0.6999999999999995, c1: 0.5 and beta: 0.002\n",
      "BMs finished in 2.4419186115264893 seconds\n"
     ]
    },
    {
     "name": "stderr",
     "output_type": "stream",
     "text": [
      "100%|██████████| 380/380 [00:00<00:00, 72981.16it/s]"
     ]
    },
    {
     "name": "stdout",
     "output_type": "stream",
     "text": [
      "CV finished in 0.19106578826904297 seconds\n"
     ]
    },
    {
     "name": "stderr",
     "output_type": "stream",
     "text": [
      "\n"
     ]
    },
    {
     "name": "stdout",
     "output_type": "stream",
     "text": [
      "Aggregation finished in 0.3806183338165283 seconds\n",
      "Finished in 3.014538049697876 seconds\n",
      "Variables: c0: -0.6999999999999995, c1: 0.5 and beta: 0.004\n",
      "BMs finished in 1.714545726776123 seconds\n"
     ]
    },
    {
     "name": "stderr",
     "output_type": "stream",
     "text": [
      "100%|██████████| 380/380 [00:00<00:00, 64956.41it/s]"
     ]
    },
    {
     "name": "stdout",
     "output_type": "stream",
     "text": [
      "CV finished in 0.20107030868530273 seconds\n"
     ]
    },
    {
     "name": "stderr",
     "output_type": "stream",
     "text": [
      "\n"
     ]
    },
    {
     "name": "stdout",
     "output_type": "stream",
     "text": [
      "Aggregation finished in 0.41994738578796387 seconds\n",
      "Finished in 2.3363611698150635 seconds\n",
      "Variables: c0: -0.6999999999999995, c1: 0.5 and beta: 0.006\n",
      "BMs finished in 1.6876912117004395 seconds\n"
     ]
    },
    {
     "name": "stderr",
     "output_type": "stream",
     "text": [
      "100%|██████████| 380/380 [00:00<00:00, 63039.81it/s]\n"
     ]
    },
    {
     "name": "stdout",
     "output_type": "stream",
     "text": [
      "CV finished in 0.21341991424560547 seconds\n",
      "Aggregation finished in 0.3978288173675537 seconds\n",
      "Finished in 2.299624443054199 seconds\n",
      "Variables: c0: -0.6999999999999995, c1: 0.5 and beta: 0.008\n",
      "BMs finished in 1.7055530548095703 seconds\n"
     ]
    },
    {
     "name": "stderr",
     "output_type": "stream",
     "text": [
      "100%|██████████| 380/380 [00:00<00:00, 69252.03it/s]"
     ]
    },
    {
     "name": "stdout",
     "output_type": "stream",
     "text": [
      "CV finished in 0.1870272159576416 seconds\n"
     ]
    },
    {
     "name": "stderr",
     "output_type": "stream",
     "text": [
      "\n"
     ]
    },
    {
     "name": "stdout",
     "output_type": "stream",
     "text": [
      "Aggregation finished in 0.3963792324066162 seconds\n",
      "Finished in 2.289651393890381 seconds\n",
      "Experiment finished in 374.02713322639465 seconds with 144 observations.\n",
      "Saving data with the all the forecasts added\n"
     ]
    },
    {
     "name": "stderr",
     "output_type": "stream",
     "text": [
      "0it [00:00, ?it/s]"
     ]
    },
    {
     "name": "stdout",
     "output_type": "stream",
     "text": [
      "could not connect to server: Connection refused\n",
      "\tIs the server running on host \"localhost\" (127.0.0.1) and accepting\n",
      "\tTCP/IP connections on port 5433?\n",
      "\n",
      "networks 1\n",
      "INSERT INTO networks(network_name,network_type,seasons,days_between_rounds,rounds) VALUES %s ON CONFLICT DO NOTHING\n",
      "'NoneType' object has no attribute 'cursor'\n"
     ]
    },
    {
     "name": "stderr",
     "output_type": "stream",
     "text": [
      "\n"
     ]
    },
    {
     "ename": "AttributeError",
     "evalue": "'NoneType' object has no attribute 'commit'",
     "output_type": "error",
     "traceback": [
      "\u001b[0;31m---------------------------------------------------------------------------\u001b[0m",
      "\u001b[0;31mAttributeError\u001b[0m                            Traceback (most recent call last)",
      "\u001b[0;32m<ipython-input-15-61c0e620b842>\u001b[0m in \u001b[0;36m<module>\u001b[0;34m\u001b[0m\n\u001b[1;32m     87\u001b[0m     \u001b[0;32mfor\u001b[0m \u001b[0mnetwork_number\u001b[0m\u001b[0;34m,\u001b[0m \u001b[0mnetwork\u001b[0m \u001b[0;32min\u001b[0m \u001b[0mtqdm\u001b[0m\u001b[0;34m(\u001b[0m\u001b[0menumerate\u001b[0m\u001b[0;34m(\u001b[0m\u001b[0mnetworks\u001b[0m\u001b[0;34m)\u001b[0m\u001b[0;34m)\u001b[0m\u001b[0;34m:\u001b[0m\u001b[0;34m\u001b[0m\u001b[0;34m\u001b[0m\u001b[0m\n\u001b[1;32m     88\u001b[0m         \u001b[0mmain_controller\u001b[0m\u001b[0;34m.\u001b[0m\u001b[0mnetworks\u001b[0m\u001b[0;34m[\u001b[0m\u001b[0;34mf\"{config['test_name']}_network_{network_number}\"\u001b[0m\u001b[0;34m]\u001b[0m \u001b[0;34m=\u001b[0m \u001b[0mnetwork\u001b[0m\u001b[0;34m\u001b[0m\u001b[0;34m\u001b[0m\u001b[0m\n\u001b[0;32m---> 89\u001b[0;31m         \u001b[0mmain_controller\u001b[0m\u001b[0;34m.\u001b[0m\u001b[0msave_network\u001b[0m\u001b[0;34m(\u001b[0m\u001b[0;34mf\"{config['test_name']}_network_{network_number}\"\u001b[0m\u001b[0;34m)\u001b[0m\u001b[0;34m\u001b[0m\u001b[0;34m\u001b[0m\u001b[0m\n\u001b[0m\u001b[1;32m     90\u001b[0m \u001b[0;34m\u001b[0m\u001b[0m\n",
      "\u001b[0;32m~/Development/dshs/dfg-rating/dfg_rating/logic/controller.py\u001b[0m in \u001b[0;36msave_network\u001b[0;34m(self, network_name)\u001b[0m\n\u001b[1;32m    261\u001b[0m                 \u001b[0mquery_string\u001b[0m \u001b[0;34m=\u001b[0m \u001b[0;34mf\"INSERT INTO {table}({','.join(columns)}) VALUES %s ON CONFLICT DO NOTHING\"\u001b[0m\u001b[0;34m\u001b[0m\u001b[0;34m\u001b[0m\u001b[0m\n\u001b[1;32m    262\u001b[0m                 \u001b[0mvalues\u001b[0m \u001b[0;34m=\u001b[0m \u001b[0;34m[\u001b[0m\u001b[0;34m[\u001b[0m\u001b[0mvalue\u001b[0m \u001b[0;32mfor\u001b[0m \u001b[0mvalue\u001b[0m \u001b[0;32min\u001b[0m \u001b[0mr\u001b[0m\u001b[0;34m.\u001b[0m\u001b[0mvalues\u001b[0m\u001b[0;34m(\u001b[0m\u001b[0;34m)\u001b[0m\u001b[0;34m]\u001b[0m \u001b[0;32mfor\u001b[0m \u001b[0mr\u001b[0m \u001b[0;32min\u001b[0m \u001b[0mtable_rows\u001b[0m\u001b[0;34m]\u001b[0m\u001b[0;34m\u001b[0m\u001b[0;34m\u001b[0m\u001b[0m\n\u001b[0;32m--> 263\u001b[0;31m                 \u001b[0mself\u001b[0m\u001b[0;34m.\u001b[0m\u001b[0mdb\u001b[0m\u001b[0;34m.\u001b[0m\u001b[0minsert_many\u001b[0m\u001b[0;34m(\u001b[0m\u001b[0mquery_string\u001b[0m\u001b[0;34m,\u001b[0m \u001b[0mvalues\u001b[0m\u001b[0;34m)\u001b[0m\u001b[0;34m\u001b[0m\u001b[0;34m\u001b[0m\u001b[0m\n\u001b[0m\u001b[1;32m    264\u001b[0m             \u001b[0;32melse\u001b[0m\u001b[0;34m:\u001b[0m\u001b[0;34m\u001b[0m\u001b[0;34m\u001b[0m\u001b[0m\n\u001b[1;32m    265\u001b[0m                 \u001b[0mprint\u001b[0m\u001b[0;34m(\u001b[0m\u001b[0;34mf\"No {table} to insert in the database\"\u001b[0m\u001b[0;34m)\u001b[0m\u001b[0;34m\u001b[0m\u001b[0;34m\u001b[0m\u001b[0m\n",
      "\u001b[0;32m~/Development/dshs/dfg-rating/dfg_rating/db/postgres.py\u001b[0m in \u001b[0;36minsert_many\u001b[0;34m(self, query_string, values)\u001b[0m\n\u001b[1;32m    102\u001b[0m             \u001b[0mprint\u001b[0m\u001b[0;34m(\u001b[0m\u001b[0merror\u001b[0m\u001b[0;34m)\u001b[0m\u001b[0;34m\u001b[0m\u001b[0;34m\u001b[0m\u001b[0m\n\u001b[1;32m    103\u001b[0m         \u001b[0;32mfinally\u001b[0m\u001b[0;34m:\u001b[0m\u001b[0;34m\u001b[0m\u001b[0;34m\u001b[0m\u001b[0m\n\u001b[0;32m--> 104\u001b[0;31m             \u001b[0mself\u001b[0m\u001b[0;34m.\u001b[0m\u001b[0mconnection\u001b[0m\u001b[0;34m.\u001b[0m\u001b[0mcommit\u001b[0m\u001b[0;34m(\u001b[0m\u001b[0;34m)\u001b[0m\u001b[0;34m\u001b[0m\u001b[0;34m\u001b[0m\u001b[0m\n\u001b[0m\u001b[1;32m    105\u001b[0m \u001b[0;34m\u001b[0m\u001b[0m\n\u001b[1;32m    106\u001b[0m \u001b[0;34m\u001b[0m\u001b[0m\n",
      "\u001b[0;31mAttributeError\u001b[0m: 'NoneType' object has no attribute 'commit'"
     ]
    }
   ],
   "source": [
    "experiment_start_time = time.time()\n",
    "for c0 in np.arange(-1.20, -0.60, 0.1):\n",
    "    for c1 in np.arange(0.0, 0.60, 0.1):\n",
    "        for beta in np.arange(0.002, 0.010, 0.002):\n",
    "            print(f'Variables: c0: {c0}, c1: {c1} and beta: {beta}')\n",
    "            forecast_pointer = f\"player_forecast_{c0:.2f}_{c1:.2f}_{beta:.3f}\"\n",
    "            cell_start_time = time.time()\n",
    "            all_matches =  []\n",
    "            is_matches =  []\n",
    "            oos_matches =  []\n",
    "            \n",
    "            bm_start_time = time.time()\n",
    "            for network_number, network in enumerate(networks):\n",
    "                if config[\"create_data\"]:\n",
    "                    network.add_forecast(\n",
    "                        forecast=LogFunctionForecast(outcomes=['home', 'draw', 'away'], coefficients=[c0, c1], beta_parameter=beta, home_team_error=rating_error, away_team_error=rating_error),\n",
    "                        forecast_name=forecast_pointer,\n",
    "                        base_ranking='true_rating'\n",
    "                    )\n",
    "                for betting, bettingName in [(bettingFixed, \"Fixed\"), (bettingKelly, \"Kelly\")]:\n",
    "                #for betting, bettingName in [(bettingKelly, \"Kelly\")]:\n",
    "                    for i in [1, 2, 3]:\n",
    "                    #for i in [1]:\n",
    "                        #Pointer of each bookmaker\n",
    "                        bookmaker = 'bm' + str(i)\n",
    "                        bettor = 'b' + str(i)\n",
    "                        network.add_bets(\n",
    "                            bettor_name=bettor,\n",
    "                            bookmaker=bookmaker,\n",
    "                            betting=betting,\n",
    "                            base_forecast=forecast_pointer\n",
    "                        )\n",
    "                        # Bettors can be added and then we can extract all the results at once\n",
    "                        betting_activity = BettingActivity(outcomes=['home', 'draw', 'away'], player_name = bettor)\n",
    "                        betting_returns = BettingReturnsEvaluator(outcomes=['home', 'draw', 'away'], player_name = bettor, true_model = 'true_forecast', bookmaker_name = bookmaker)\n",
    "                        network.add_evaluation([\n",
    "                            (betting_returns, f'betting_returns_{bettingName}_{bookmaker}'),\n",
    "                            (betting_activity, f'betting_activity_{bettingName}_{bookmaker}')\n",
    "                        ])\n",
    "\n",
    "                rps = RankProbabilityScore(outcomes=['home', 'draw', 'away'], forecast_name = forecast_pointer)\n",
    "                likelihood = Likelihood(outcomes=['home', 'draw', 'away'], forecast_name = forecast_pointer)\n",
    "                difference = ProbabilityDifference(outcomes=['home', 'draw', 'away'], forecast_name = forecast_pointer)\n",
    "                draw_probability = ProbabilityPointer(outcomes=['home', 'draw', 'away'], forecast_name = forecast_pointer, probability_index=1)\n",
    "                fav_probability = FavouriteProbability(outcomes=['home', 'draw', 'away'], forecast_name = forecast_pointer)\n",
    "                        \n",
    "                network.add_evaluation(\n",
    "                    [\n",
    "                        (rps, 'rps'),\n",
    "                        (likelihood, 'likelihood'),\n",
    "                        (difference, 'prob_diff'),\n",
    "                        (draw_probability, 'draw_prob'),\n",
    "                        (fav_probability, 'fav_prob')\n",
    "                    ]\n",
    "                )\n",
    "\n",
    "                all_matches += [(a,h, match_id, match_attributes) for a,h, match_id, match_attributes in network.iterate_over_games()]\n",
    "                is_matches += [(a,h, match_id, match_attributes) for a,h, match_id, match_attributes in network.iterate_over_games() if match_attributes['season'] <= config[\"in_sample_maximum\"]]\n",
    "                oos_matches += [(a,h, match_id, match_attributes) for a,h, match_id, match_attributes in network.iterate_over_games() if match_attributes['season'] > config[\"in_sample_maximum\"]]\n",
    "\n",
    "            print(f\"BMs finished in {float(time.time() - bm_start_time)} seconds\")\n",
    "             \n",
    "            cv_start_time = time.time()\n",
    "            cv_result += cross_validate_betting_returns(np.array(all_matches), config[\"number_of_splits\"], forecast_pointer)\n",
    "            print(f\"CV finished in {float(time.time() - cv_start_time)} seconds\")\n",
    "            \n",
    "            am_start_time = time.time()\n",
    "            result_all = aggregate_measures(all_matches, 'all')\n",
    "            result_is = aggregate_measures(is_matches, 'is')\n",
    "            result_oos = aggregate_measures(oos_matches, 'oos')\n",
    "            result = {\n",
    "                'bookmaker': bookmaker, 'c0' : c0, 'c1' : c1, 'beta' : beta, **result_is, **result_oos, **result_all, **entire_model_values\n",
    "            }\n",
    "                    \n",
    "            result_list.append(result)\n",
    "            print(f\"Aggregation finished in {float(time.time() - am_start_time)} seconds\")    \n",
    "                               \n",
    "            print(f\"Finished in {float(time.time() - cell_start_time)} seconds\")\n",
    "\n",
    "print(f\"Experiment finished in {float(time.time() - experiment_start_time)} seconds with {len(result_list)} observations.\")\n",
    "\n",
    "df = pd.DataFrame(result_list)\n",
    "df.to_excel(f\"Results_{config['test_name']}.xlsx\")\n",
    "\n",
    "if config[\"create_data\"]:\n",
    "    print(\"Saving data with the all the forecasts added\")\n",
    "    for network_number, network in tqdm(enumerate(networks)):\n",
    "        main_controller.networks[f\"{config['test_name']}_network_{network_number}\"] = network\n",
    "        main_controller.save_network(f\"{config['test_name']}_network_{network_number}\")\n",
    "            "
   ]
  },
  {
   "cell_type": "markdown",
   "id": "6e66893a",
   "metadata": {},
   "source": [
    "### Process and store cross-validation results"
   ]
  },
  {
   "cell_type": "code",
   "execution_count": 28,
   "id": "b87d0b4b",
   "metadata": {
    "collapsed": false,
    "jupyter": {
     "outputs_hidden": false
    },
    "pycharm": {
     "name": "#%%\n"
    }
   },
   "outputs": [],
   "source": [
    "cv_df = pd.DataFrame(cv_result)\n",
    "betting_returns_columns = []\n",
    "for strategy, bookmaker_name in it.product([\"Fixed\", \"Kelly\"], [\"bm1\", \"bm2\", \"bm3\"]):\n",
    "    betting_returns_columns += [\n",
    "        f'oos_betting_returns_{strategy}_{bookmaker_name}', f'oos_betting_returns_{strategy}_{bookmaker_name}_expected'\n",
    "    ]\n",
    "subset_of_columns = ['permutation', 'model_hint'] + betting_returns_columns\n",
    "# Optimizing for RPS\n",
    "by_rps_df = cv_df.loc[cv_df.groupby('permutation').is_rps.idxmin(), subset_of_columns].set_index('permutation')\n",
    "# Optimizing for likelihood\n",
    "by_likelihood_df = cv_df.loc[cv_df.groupby('permutation').is_likelihood.idxmax(), subset_of_columns].set_index('permutation')\n",
    "# Optimizing for betting\n",
    "by_betting_df = None\n",
    "for strategy, bookmaker_name in it.product([\"Fixed\", \"Kelly\"], [\"bm1\", \"bm2\", \"bm3\"]):\n",
    "    betting_combination_name = f\"{strategy}_{bookmaker_name}\"\n",
    "    betting_combination_df = cv_df.loc[\n",
    "        cv_df.groupby('permutation')[f'is_betting_returns_{betting_combination_name}'].idxmax(), \n",
    "        ['permutation', 'model_hint', f'oos_betting_returns_{betting_combination_name}', f'oos_betting_returns_{betting_combination_name}_expected']\n",
    "    ].set_index('permutation')\n",
    "    if by_betting_df is not None:\n",
    "        by_betting_df = by_betting_df.join(\n",
    "            betting_combination_df.add_suffix(f'_{betting_combination_name}'),\n",
    "            lsuffix='',\n",
    "            rsuffix=''\n",
    "        )\n",
    "    else:\n",
    "        by_betting_df = betting_combination_df.add_suffix(f'_{betting_combination_name}')\n",
    "\n",
    "cv_study_df = by_rps_df.join(\n",
    "    by_likelihood_df.join(\n",
    "        by_betting_df,\n",
    "        lsuffix='',\n",
    "        rsuffix='',\n",
    "    ),\n",
    "    lsuffix='_rps',\n",
    "    rsuffix='_likelihood',\n",
    ")\n",
    "\n",
    "cv_study_df.to_excel(f\"Permutations_{config['test_name']}.xlsx\")"
   ]
  },
  {
   "cell_type": "code",
   "execution_count": 29,
   "id": "072518ca",
   "metadata": {},
   "outputs": [
    {
     "data": {
      "text/plain": [
       "Index(['model_hint_Fixed_bm1', 'oos_betting_returns_Fixed_bm1_Fixed_bm1',\n",
       "       'oos_betting_returns_Fixed_bm1_expected_Fixed_bm1',\n",
       "       'model_hint_Fixed_bm2', 'oos_betting_returns_Fixed_bm2_Fixed_bm2',\n",
       "       'oos_betting_returns_Fixed_bm2_expected_Fixed_bm2',\n",
       "       'model_hint_Fixed_bm3', 'oos_betting_returns_Fixed_bm3_Fixed_bm3',\n",
       "       'oos_betting_returns_Fixed_bm3_expected_Fixed_bm3',\n",
       "       'model_hint_Kelly_bm1', 'oos_betting_returns_Kelly_bm1_Kelly_bm1',\n",
       "       'oos_betting_returns_Kelly_bm1_expected_Kelly_bm1',\n",
       "       'model_hint_Kelly_bm2', 'oos_betting_returns_Kelly_bm2_Kelly_bm2',\n",
       "       'oos_betting_returns_Kelly_bm2_expected_Kelly_bm2',\n",
       "       'model_hint_Kelly_bm3', 'oos_betting_returns_Kelly_bm3_Kelly_bm3',\n",
       "       'oos_betting_returns_Kelly_bm3_expected_Kelly_bm3'],\n",
       "      dtype='object')"
      ]
     },
     "execution_count": 29,
     "metadata": {},
     "output_type": "execute_result"
    }
   ],
   "source": [
    "by_betting_df.columns"
   ]
  },
  {
   "cell_type": "code",
   "execution_count": null,
   "id": "8241cb1f",
   "metadata": {},
   "outputs": [],
   "source": [
    "cv_result[0]"
   ]
  },
  {
   "cell_type": "code",
   "execution_count": null,
   "id": "6bbca4a6",
   "metadata": {},
   "outputs": [],
   "source": []
  }
 ],
 "metadata": {
  "kernelspec": {
   "display_name": "Python 3",
   "language": "python",
   "name": "python3"
  },
  "language_info": {
   "codemirror_mode": {
    "name": "ipython",
    "version": 3
   },
   "file_extension": ".py",
   "mimetype": "text/x-python",
   "name": "python",
   "nbconvert_exporter": "python",
   "pygments_lexer": "ipython3",
   "version": "3.6.10"
  },
  "vscode": {
   "interpreter": {
    "hash": "757f68f4b9fb7f25c349de3b55a0c635861fbf8f251827204722ead8bc499c2f"
   }
  }
 },
 "nbformat": 4,
 "nbformat_minor": 5
}
