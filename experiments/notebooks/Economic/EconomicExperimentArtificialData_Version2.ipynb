{
 "cells": [
  {
   "cell_type": "markdown",
   "metadata": {},
   "source": [
    "# Economic Experiment"
   ]
  },
  {
   "cell_type": "markdown",
   "metadata": {},
   "source": [
    "Add description of the experiment here"
   ]
  },
  {
   "cell_type": "markdown",
   "metadata": {},
   "source": [
    "## Import Statements"
   ]
  },
  {
   "cell_type": "code",
   "execution_count": 135,
   "metadata": {},
   "outputs": [],
   "source": [
    "from dfg_rating.model import factory\n",
    "from dfg_rating.model.betting.betting import FixedBetting\n",
    "from dfg_rating.model.betting.betting import KellyBetting\n",
    "from dfg_rating.model.bookmaker.base_bookmaker import BaseBookmaker\n",
    "from dfg_rating.model.evaluators.accuracy import RankProbabilityScore, Likelihood, ProbabilityDifference, ProbabilityPointer, FavouriteProbability\n",
    "from dfg_rating.model.evaluators.profitability import BettingReturnsEvaluator\n",
    "from dfg_rating.model.evaluators.base_evaluators import BettingActivity\n",
    "from dfg_rating.model.forecast.true_forecast import LogFunctionForecast\n",
    "from dfg_rating.model.network.base_network import BaseNetwork\n",
    "from dfg_rating.model.rating.controlled_trend_rating import ControlledTrendRating, ControlledRandomFunction\n",
    "\n",
    "#specify rating error\n",
    "from dfg_rating.model.rating.base_rating import RatingFunctionError\n",
    "\n",
    "from dfg_rating.logic.controller import Controller\n",
    "import pandas as pd\n",
    "import numpy as np\n",
    "import time\n",
    "from tqdm import tqdm\n",
    "import itertools as it\n",
    "\n",
    "pd.set_option('display.max_columns', None)\n",
    "pd.set_option('display.max_rows', None)\n",
    "pd.options.display.width = None\n",
    "pd.set_option('display.float_format', lambda x: '%.5f' % x)"
   ]
  },
  {
   "cell_type": "markdown",
   "metadata": {},
   "source": [
    "## Experiment configuration"
   ]
  },
  {
   "cell_type": "markdown",
   "metadata": {},
   "source": [
    "Two main things: The controller is the helper that includes the functions to load and save networks. A configuration object with the parameters of the experiment, more cells can be created with different configurations."
   ]
  },
  {
   "cell_type": "code",
   "execution_count": 139,
   "metadata": {
    "collapsed": false,
    "jupyter": {
     "outputs_hidden": false
    },
    "pycharm": {
     "name": "#%%\n"
    }
   },
   "outputs": [],
   "source": [
    "main_controller = Controller()"
   ]
  },
  {
   "cell_type": "code",
   "execution_count": 140,
   "metadata": {},
   "outputs": [],
   "source": [
    "experimentX = dict(\n",
    "    test_name=\"ExperimentX\", create_data=True,\n",
    "    bookmaker_error=0.0, bookmaker_margin=0.10,\n",
    "    betting_bankrole=100, betting_type = \"Kelly\",\n",
    "    rating_error_loc=0, rating_error_scale=50,\n",
    "    bookmaker_rating_error_loc=0, bookmaker_rating_error_scale=25,\n",
    "    #number_of_leagues=40,\n",
    "    number_of_leagues=1,\n",
    "    #number_of_teams=20,\n",
    "    number_of_teams=4, \n",
    "    #number_of_seasons=10,\n",
    "    number_of_seasons=1,\n",
    "    true_forecast=dict(\n",
    "        coefficients=[-0.9,0.3],\n",
    "        beta=0.006\n",
    "    ),\n",
    "    bookmaker_forecast=dict(\n",
    "        coefficients=[-1.2, 0.0],\n",
    "        beta=0.006\n",
    "    ),\n",
    "    in_sample_maximum=5,\n",
    "    number_of_splits=20\n",
    ")"
   ]
  },
  {
   "cell_type": "code",
   "execution_count": 141,
   "metadata": {},
   "outputs": [],
   "source": [
    "experimentB = dict(\n",
    "    test_name=\"ExperimentB\", create_data=True,\n",
    "    bookmaker_error=0.0, bookmaker_margin=0.10,\n",
    "    betting_bankrole=100,\n",
    "    rating_error_loc=0, rating_error_scale=50,\n",
    "    bookmaker_rating_error_loc=0, bookmaker_rating_error_scale=25,\n",
    "    number_of_leagues=40,\n",
    "    number_of_teams=20, number_of_seasons=10,\n",
    "    true_forecast=dict(\n",
    "        coefficients=[-0.9,0.3],\n",
    "        beta=0.006\n",
    "    ),\n",
    "    bookmaker_forecast=dict(\n",
    "        coefficients=[-0.8, 0.2],\n",
    "        beta=0.006\n",
    "    ),\n",
    "    in_sample_maximum=5,\n",
    "    number_of_splits=20\n",
    ")"
   ]
  },
  {
   "cell_type": "code",
   "execution_count": 142,
   "metadata": {},
   "outputs": [],
   "source": [
    "experimentC = dict(\n",
    "    test_name=\"ExperimentC\", create_data=True,\n",
    "    bookmaker_error=0.0, bookmaker_margin=0.10,\n",
    "    betting_bankrole=100,\n",
    "    rating_error_loc=0, rating_error_scale=50,\n",
    "    bookmaker_rating_error_loc=0, bookmaker_rating_error_scale=25,\n",
    "    number_of_leagues=40,\n",
    "    number_of_teams=20, number_of_seasons=10,\n",
    "    true_forecast=dict(\n",
    "        coefficients=[-0.9,0.3],\n",
    "        beta=0.006\n",
    "    ),\n",
    "    bookmaker_forecast=dict(\n",
    "        coefficients=[-0.8, 0.4],\n",
    "        beta=0.004\n",
    "    ),\n",
    "    in_sample_maximum=5,\n",
    "    number_of_splits=20\n",
    ")"
   ]
  },
  {
   "cell_type": "code",
   "execution_count": 143,
   "metadata": {},
   "outputs": [],
   "source": [
    "experimentD = dict(\n",
    "    test_name=\"ExperimentD\", create_data=True,\n",
    "    bookmaker_error=0.0, bookmaker_margin=0.10,\n",
    "    betting_bankrole=100,\n",
    "    rating_error_loc=0, rating_error_scale=50,\n",
    "    bookmaker_rating_error_loc=0, bookmaker_rating_error_scale=25,\n",
    "    number_of_leagues=40,\n",
    "    number_of_teams=20, number_of_seasons=10,\n",
    "    true_forecast=dict(\n",
    "        coefficients=[-0.9,0.3],\n",
    "        beta=0.006\n",
    "    ),\n",
    "    bookmaker_forecast=dict(\n",
    "        coefficients=[-0.9, 0.3],\n",
    "        beta=0.006\n",
    "    ),\n",
    "    in_sample_maximum=5,\n",
    "    number_of_splits=20\n",
    ")"
   ]
  },
  {
   "cell_type": "markdown",
   "metadata": {},
   "source": [
    "### !!Select the right config"
   ]
  },
  {
   "cell_type": "code",
   "execution_count": 144,
   "metadata": {},
   "outputs": [],
   "source": [
    "# The desired config is stored at config\n",
    "config = experimentX"
   ]
  },
  {
   "cell_type": "markdown",
   "metadata": {
    "tags": []
   },
   "source": [
    "## External actors"
   ]
  },
  {
   "cell_type": "markdown",
   "metadata": {},
   "source": [
    "We create a bookmaker and a betting strategy that are going to interact with the generated networks."
   ]
  },
  {
   "cell_type": "code",
   "execution_count": 145,
   "metadata": {
    "tags": []
   },
   "outputs": [],
   "source": [
    "bookmaker: BaseBookmaker = factory.new_bookmaker(\n",
    "    'simple',\n",
    "    error=factory.new_forecast_error(error_type='factor', error=config[\"bookmaker_error\"], scope='positive'),\n",
    "    margin=factory.new_bookmaker_margin('simple', margin=config[\"bookmaker_margin\"])\n",
    ")"
   ]
  },
  {
   "cell_type": "code",
   "execution_count": 146,
   "metadata": {
    "tags": []
   },
   "outputs": [],
   "source": [
    "if config[\"betting_type\"] == \"Fixed\":\n",
    "    betting = FixedBetting(config[\"betting_bankrole\"])\n",
    "else:\n",
    "    betting = KellyBetting(config[\"betting_bankrole\"])"
   ]
  },
  {
   "cell_type": "markdown",
   "metadata": {},
   "source": [
    "We also create an error rating that we are going to use for the calculated forecasts"
   ]
  },
  {
   "cell_type": "code",
   "execution_count": 147,
   "metadata": {
    "tags": []
   },
   "outputs": [],
   "source": [
    "rating_error = RatingFunctionError(error='normal', loc=config[\"rating_error_loc\"], scale=config[\"rating_error_scale\"])\n",
    "rating_error_bookmaker = RatingFunctionError(error='normal', loc=config[\"bookmaker_rating_error_loc\"], scale=config[\"bookmaker_rating_error_scale\"])"
   ]
  },
  {
   "cell_type": "markdown",
   "metadata": {},
   "source": [
    "## Generation of networks"
   ]
  },
  {
   "cell_type": "markdown",
   "metadata": {},
   "source": [
    "Configure the number of leagues for the experiment:"
   ]
  },
  {
   "cell_type": "code",
   "execution_count": 148,
   "metadata": {
    "tags": []
   },
   "outputs": [],
   "source": [
    "numberLeagues = config[\"number_of_leagues\"]"
   ]
  },
  {
   "cell_type": "markdown",
   "metadata": {},
   "source": [
    "For every league, we generate the schedule of matches and true dimensions and we add odds for each game."
   ]
  },
  {
   "cell_type": "code",
   "execution_count": 149,
   "metadata": {},
   "outputs": [],
   "source": [
    "networks = []"
   ]
  },
  {
   "cell_type": "code",
   "execution_count": 150,
   "metadata": {
    "tags": []
   },
   "outputs": [
    {
     "name": "stdout",
     "output_type": "stream",
     "text": [
      "Season 0\n",
      "0\n",
      "<dfg_rating.model.network.multiple_network.LeagueNetwork object at 0x0000029349ADF888>\n",
      "0 current_season\n",
      "first season\n",
      "first season\n",
      "first season\n",
      "first season\n",
      "0\n",
      "<dfg_rating.model.network.multiple_network.LeagueNetwork object at 0x0000029349ADF888>\n",
      "1 leagues added in 0.00698089599609375 seconds.\n"
     ]
    }
   ],
   "source": [
    "gen_start_time = time.time()\n",
    "for league in range(numberLeagues):\n",
    "    if config[\"create_data\"]:\n",
    "        network: BaseNetwork = factory.new_network(\n",
    "            'multiple-round-robin',\n",
    "            teams=config[\"number_of_teams\"],\n",
    "            days_between_rounds=7,\n",
    "            seasons=config[\"number_of_seasons\"],\n",
    "            league_teams=config[\"number_of_teams\"],\n",
    "            league_promotion=0,\n",
    "            create=True,\n",
    "            true_forecast=LogFunctionForecast(\n",
    "                outcomes=['home', 'draw', 'away'], \n",
    "                coefficients = config[\"true_forecast\"][\"coefficients\"], \n",
    "                beta_parameter=config[\"true_forecast\"][\"beta\"]\n",
    "            ),\n",
    "            true_rating=ControlledTrendRating(\n",
    "                starting_point=ControlledRandomFunction(distribution='normal', loc=1000, scale=100),\n",
    "                delta=ControlledRandomFunction(distribution='normal', loc=0, scale=3),\n",
    "                trend=ControlledRandomFunction(distribution='normal', loc=0, scale=20/365),\n",
    "                season_delta=ControlledRandomFunction(distribution='normal', loc=0, scale=10)\n",
    "            )\n",
    "        )\n",
    "        #adding biased bookmaker forecast to the network\n",
    "        network.add_forecast(\n",
    "            forecast=LogFunctionForecast(\n",
    "                outcomes=['home', 'draw', 'away'], \n",
    "                coefficients = config[\"bookmaker_forecast\"][\"coefficients\"], \n",
    "                beta_parameter=config[\"bookmaker_forecast\"][\"beta\"], \n",
    "                home_team_error=rating_error_bookmaker, \n",
    "                away_team_error=rating_error_bookmaker\n",
    "            ),\n",
    "            forecast_name='bookmaker_forecast',\n",
    "            base_ranking='true_rating'\n",
    "        )\n",
    "        #adding odds    \n",
    "        network.add_odds(\n",
    "            bookmaker_name=\"bm\",\n",
    "            bookmaker=bookmaker,\n",
    "            base_forecast='bookmaker_forecast'\n",
    "        )\n",
    "    else:\n",
    "        #adding odds even if data are loaded (to make sure that margins can be changed) \n",
    "        #network.add_odds(\n",
    "        #    bookmaker_name=\"bm\",\n",
    "        #    bookmaker=bookmaker,\n",
    "        #    base_forecast='bookmaker_forecast'\n",
    "        #)\n",
    "        \n",
    "        print(\"Loading network data\")\n",
    "        main_controller.load_network_from_sql(\n",
    "            network_name=f\"{config['test_name']}_network_{league}\",\n",
    "            new_network_name=f\"{config['test_name']}_network_{league}\"\n",
    "        )\n",
    "        network: BaseNetwork = main_controller.networks[f\"{config['test_name']}_network_{league}\"]\n",
    "    networks.append(network)\n",
    "print(f\"{numberLeagues} leagues added in {float(time.time() - gen_start_time)} seconds.\")"
   ]
  },
  {
   "cell_type": "markdown",
   "metadata": {},
   "source": [
    "# Run"
   ]
  },
  {
   "cell_type": "markdown",
   "metadata": {},
   "source": [
    "We iterate over the grid of possible parameters for the experiment and aggregate the final results."
   ]
  },
  {
   "cell_type": "markdown",
   "metadata": {},
   "source": [
    "### Functions"
   ]
  },
  {
   "cell_type": "code",
   "execution_count": 151,
   "metadata": {
    "tags": []
   },
   "outputs": [],
   "source": [
    "def aggregate_measures(list_of_matches, prefix='', addBettingMetrics=True):\n",
    "    if addBettingMetrics:\n",
    "        return {\n",
    "            prefix+'_rps': np.mean([m[3]['metrics']['rps'] for m in list_of_matches]),\n",
    "            prefix+'_likelihood': sum([m[3]['metrics']['likelihood'] for m in list_of_matches]),\n",
    "            prefix+'_prob_diff': np.mean([m[3]['metrics']['prob_diff'] for m in list_of_matches]),\n",
    "            prefix+'_draw_prob': np.mean([m[3]['metrics']['draw_prob'] for m in list_of_matches]),\n",
    "            prefix+'_fav_prob': np.mean([m[3]['metrics']['fav_prob'] for m in list_of_matches]),\n",
    "            prefix+'_betting_returns': sum([sum([b[0] for b in m[3]['metrics']['betting_returns']]) for m in list_of_matches]),\n",
    "            prefix+'_betting_returns_multiplied': np.prod([np.prod([b[1] for b in m[3]['metrics']['betting_returns']]) for m in all_matches]),\n",
    "            prefix+'_betting_returns_expected': sum([sum(b[2] for b in m[3]['metrics']['betting_returns']) for m in list_of_matches]),\n",
    "            prefix+'_betting_activity': sum([m[3]['metrics']['betting_activity']['qty'] for m in list_of_matches])\n",
    "        }\n",
    "    else:\n",
    "        return {\n",
    "            prefix+'_rps': np.mean([m[3]['metrics']['rps'] for m in list_of_matches]),\n",
    "            prefix+'_likelihood': sum([m[3]['metrics']['likelihood'] for m in list_of_matches]),\n",
    "            prefix+'_prob_diff': np.mean([m[3]['metrics']['prob_diff'] for m in list_of_matches]),\n",
    "            prefix+'_draw_prob': np.mean([m[3]['metrics']['draw_prob'] for m in list_of_matches]),\n",
    "            prefix+'_fav_prob': np.mean([m[3]['metrics']['fav_prob'] for m in list_of_matches])\n",
    "        }"
   ]
  },
  {
   "cell_type": "code",
   "execution_count": null,
   "metadata": {},
   "outputs": [],
   "source": []
  },
  {
   "cell_type": "markdown",
   "metadata": {},
   "source": [
    "Getting first the values for the true model and the bookmaker model. Remove some of the if they are not needed and if the IS/OOS split is not required."
   ]
  },
  {
   "cell_type": "code",
   "execution_count": 152,
   "metadata": {
    "tags": []
   },
   "outputs": [
    {
     "name": "stderr",
     "output_type": "stream",
     "text": [
      "100%|██████████| 1/1 [00:00<00:00, 1001.74it/s]\n",
      "100%|██████████| 1/1 [00:00<00:00, 1007.28it/s]\n"
     ]
    }
   ],
   "source": [
    "entire_model_values = {}\n",
    "for forecast_pointer in ['true_forecast', 'bookmaker_forecast']:\n",
    "    all_matches =  []\n",
    "    is_matches =  []\n",
    "    oos_matches =  []\n",
    "    for network in tqdm(networks):\n",
    "        rps = RankProbabilityScore(outcomes=['home', 'draw', 'away'], forecast_name = forecast_pointer)\n",
    "        likelihood = Likelihood(outcomes=['home', 'draw', 'away'], forecast_name = forecast_pointer)\n",
    "        difference = ProbabilityDifference(outcomes=['home', 'draw', 'away'], forecast_name = forecast_pointer)\n",
    "        draw_probability = ProbabilityPointer(outcomes=['home', 'draw', 'away'], forecast_name = forecast_pointer, probability_index=1)\n",
    "        fav_probability = FavouriteProbability(outcomes=['home', 'draw', 'away'], forecast_name = forecast_pointer)\n",
    "        network.add_evaluation([\n",
    "            (rps, 'rps'),\n",
    "            (likelihood, 'likelihood'),\n",
    "            (difference, 'prob_diff'),\n",
    "            (draw_probability, 'draw_prob'),\n",
    "            (fav_probability, 'fav_prob')\n",
    "        ])\n",
    "        all_matches += [(a,h, match_id, match_attributes) for a,h, match_id, match_attributes in network.iterate_over_games()]\n",
    "        is_matches += [(a,h, match_id, match_attributes) for a,h, match_id, match_attributes in network.iterate_over_games() if match_attributes['season'] < 6]\n",
    "        oos_matches += [(a,h, match_id, match_attributes) for a,h, match_id, match_attributes in network.iterate_over_games() if match_attributes['season'] > 5]\n",
    "\n",
    "    result_all = aggregate_measures(all_matches, f'all_{forecast_pointer}', False)\n",
    "    result_is = aggregate_measures(is_matches, f'is_{forecast_pointer}', False)\n",
    "    result_oos = aggregate_measures(oos_matches, f'oos_{forecast_pointer}', False)\n",
    "    entire_model_values = {\n",
    "        **entire_model_values,\n",
    "        **result_is, **result_oos, **result_all\n",
    "    }"
   ]
  },
  {
   "cell_type": "markdown",
   "metadata": {},
   "source": [
    "Cross validation spits and results of each permutation"
   ]
  },
  {
   "cell_type": "code",
   "execution_count": 153,
   "metadata": {
    "pycharm": {
     "name": "#%%\n"
    },
    "tags": []
   },
   "outputs": [],
   "source": [
    "def cross_validate_betting_returns(matches_array, n_splits, model_hint):\n",
    "    kf = np.array_split(matches_array, n_splits)\n",
    "    combinations = [(in_s, out_s) for in_s, out_s in it.permutations(range(len(kf)), r=2)]\n",
    "    result = []\n",
    "    for in_sample_index, out_sample_index in combinations:\n",
    "        result_is = aggregate_measures(kf[in_sample_index], \"is\")\n",
    "        result_oos = aggregate_measures(kf[out_sample_index], \"oos\")\n",
    "        result.append({\n",
    "            \"permutation\": f\"{in_sample_index} x {out_sample_index}\",\n",
    "            \"model_hint\": model_hint,\n",
    "            **result_is,\n",
    "            **result_oos\n",
    "        })\n",
    "    return result"
   ]
  },
  {
   "cell_type": "markdown",
   "metadata": {},
   "source": [
    "### Initialization of results and cross validation output"
   ]
  },
  {
   "cell_type": "code",
   "execution_count": 154,
   "metadata": {},
   "outputs": [],
   "source": [
    "result_list = []\n",
    "cv_result = []"
   ]
  },
  {
   "cell_type": "markdown",
   "metadata": {},
   "source": [
    "### Main loop"
   ]
  },
  {
   "cell_type": "code",
   "execution_count": 155,
   "metadata": {},
   "outputs": [
    {
     "name": "stdout",
     "output_type": "stream",
     "text": [
      "Variables: c0: -1.2, c1: 0.0 and beta: 0.002\n",
      "Finished in 0.09758973121643066 seconds\n",
      "Variables: c0: -1.2, c1: 0.0 and beta: 0.004\n",
      "Finished in 0.09496402740478516 seconds\n",
      "Variables: c0: -1.2, c1: 0.0 and beta: 0.006\n",
      "Finished in 0.09600710868835449 seconds\n",
      "Variables: c0: -1.2, c1: 0.0 and beta: 0.008\n",
      "Finished in 0.09999561309814453 seconds\n",
      "Variables: c0: -1.2, c1: 0.1 and beta: 0.002\n",
      "Finished in 0.09454202651977539 seconds\n",
      "Variables: c0: -1.2, c1: 0.1 and beta: 0.004\n",
      "Finished in 0.09561371803283691 seconds\n",
      "Variables: c0: -1.2, c1: 0.1 and beta: 0.006\n",
      "Finished in 0.0972137451171875 seconds\n",
      "Variables: c0: -1.2, c1: 0.1 and beta: 0.008\n",
      "Finished in 0.09496736526489258 seconds\n",
      "Variables: c0: -1.2, c1: 0.2 and beta: 0.002\n",
      "Finished in 0.09494400024414062 seconds\n",
      "Variables: c0: -1.2, c1: 0.2 and beta: 0.004\n",
      "Finished in 0.09695577621459961 seconds\n",
      "Variables: c0: -1.2, c1: 0.2 and beta: 0.006\n",
      "Finished in 0.09496355056762695 seconds\n",
      "Variables: c0: -1.2, c1: 0.2 and beta: 0.008\n",
      "Finished in 0.09497284889221191 seconds\n",
      "Variables: c0: -1.2, c1: 0.30000000000000004 and beta: 0.002\n",
      "Finished in 0.09700179100036621 seconds\n",
      "Variables: c0: -1.2, c1: 0.30000000000000004 and beta: 0.004\n",
      "Finished in 0.09627819061279297 seconds\n",
      "Variables: c0: -1.2, c1: 0.30000000000000004 and beta: 0.006\n",
      "Finished in 0.09392070770263672 seconds\n",
      "Variables: c0: -1.2, c1: 0.30000000000000004 and beta: 0.008\n",
      "Finished in 0.09610557556152344 seconds\n",
      "Variables: c0: -1.2, c1: 0.4 and beta: 0.002\n",
      "Finished in 0.09803581237792969 seconds\n",
      "Variables: c0: -1.2, c1: 0.4 and beta: 0.004\n",
      "Finished in 0.09601831436157227 seconds\n",
      "Variables: c0: -1.2, c1: 0.4 and beta: 0.006\n",
      "Finished in 0.1039729118347168 seconds\n",
      "Variables: c0: -1.2, c1: 0.4 and beta: 0.008\n",
      "Finished in 0.09332537651062012 seconds\n",
      "Variables: c0: -1.2, c1: 0.5 and beta: 0.002\n",
      "Finished in 0.0939640998840332 seconds\n",
      "Variables: c0: -1.2, c1: 0.5 and beta: 0.004\n",
      "Finished in 0.0989677906036377 seconds\n",
      "Variables: c0: -1.2, c1: 0.5 and beta: 0.006\n",
      "Finished in 0.13128161430358887 seconds\n",
      "Variables: c0: -1.2, c1: 0.5 and beta: 0.008\n",
      "Finished in 0.0948801040649414 seconds\n",
      "Variables: c0: -1.0999999999999999, c1: 0.0 and beta: 0.002\n",
      "Finished in 0.09334063529968262 seconds\n",
      "Variables: c0: -1.0999999999999999, c1: 0.0 and beta: 0.004\n",
      "Finished in 0.09680342674255371 seconds\n",
      "Variables: c0: -1.0999999999999999, c1: 0.0 and beta: 0.006\n",
      "Finished in 0.09504079818725586 seconds\n",
      "Variables: c0: -1.0999999999999999, c1: 0.0 and beta: 0.008\n",
      "Finished in 0.09631681442260742 seconds\n",
      "Variables: c0: -1.0999999999999999, c1: 0.1 and beta: 0.002\n",
      "Finished in 0.10918211936950684 seconds\n",
      "Variables: c0: -1.0999999999999999, c1: 0.1 and beta: 0.004\n",
      "Finished in 0.10099434852600098 seconds\n",
      "Variables: c0: -1.0999999999999999, c1: 0.1 and beta: 0.006\n",
      "Finished in 0.09691596031188965 seconds\n",
      "Variables: c0: -1.0999999999999999, c1: 0.1 and beta: 0.008\n",
      "Finished in 0.09505438804626465 seconds\n",
      "Variables: c0: -1.0999999999999999, c1: 0.2 and beta: 0.002\n",
      "Finished in 0.09558629989624023 seconds\n",
      "Variables: c0: -1.0999999999999999, c1: 0.2 and beta: 0.004\n",
      "Finished in 0.09989190101623535 seconds\n",
      "Variables: c0: -1.0999999999999999, c1: 0.2 and beta: 0.006\n",
      "Finished in 0.09902787208557129 seconds\n",
      "Variables: c0: -1.0999999999999999, c1: 0.2 and beta: 0.008\n",
      "Finished in 0.09795427322387695 seconds\n",
      "Variables: c0: -1.0999999999999999, c1: 0.30000000000000004 and beta: 0.002\n",
      "Finished in 0.1038973331451416 seconds\n",
      "Variables: c0: -1.0999999999999999, c1: 0.30000000000000004 and beta: 0.004\n",
      "Finished in 0.09888720512390137 seconds\n",
      "Variables: c0: -1.0999999999999999, c1: 0.30000000000000004 and beta: 0.006\n",
      "Finished in 0.09990620613098145 seconds\n",
      "Variables: c0: -1.0999999999999999, c1: 0.30000000000000004 and beta: 0.008\n",
      "Finished in 0.1044313907623291 seconds\n",
      "Variables: c0: -1.0999999999999999, c1: 0.4 and beta: 0.002\n",
      "Finished in 0.09658670425415039 seconds\n",
      "Variables: c0: -1.0999999999999999, c1: 0.4 and beta: 0.004\n",
      "Finished in 0.09791421890258789 seconds\n",
      "Variables: c0: -1.0999999999999999, c1: 0.4 and beta: 0.006\n",
      "Finished in 0.09597158432006836 seconds\n",
      "Variables: c0: -1.0999999999999999, c1: 0.4 and beta: 0.008\n",
      "Finished in 0.09869098663330078 seconds\n",
      "Variables: c0: -1.0999999999999999, c1: 0.5 and beta: 0.002\n",
      "Finished in 0.09427738189697266 seconds\n",
      "Variables: c0: -1.0999999999999999, c1: 0.5 and beta: 0.004\n",
      "Finished in 0.09531450271606445 seconds\n",
      "Variables: c0: -1.0999999999999999, c1: 0.5 and beta: 0.006\n",
      "Finished in 0.09587669372558594 seconds\n",
      "Variables: c0: -1.0999999999999999, c1: 0.5 and beta: 0.008\n",
      "Finished in 0.0939936637878418 seconds\n",
      "Variables: c0: -0.9999999999999998, c1: 0.0 and beta: 0.002\n",
      "Finished in 0.09789586067199707 seconds\n",
      "Variables: c0: -0.9999999999999998, c1: 0.0 and beta: 0.004\n",
      "Finished in 0.09695076942443848 seconds\n",
      "Variables: c0: -0.9999999999999998, c1: 0.0 and beta: 0.006\n",
      "Finished in 0.09501314163208008 seconds\n",
      "Variables: c0: -0.9999999999999998, c1: 0.0 and beta: 0.008\n",
      "Finished in 0.09899163246154785 seconds\n",
      "Variables: c0: -0.9999999999999998, c1: 0.1 and beta: 0.002\n",
      "Finished in 0.09492158889770508 seconds\n",
      "Variables: c0: -0.9999999999999998, c1: 0.1 and beta: 0.004\n",
      "Finished in 0.09696006774902344 seconds\n",
      "Variables: c0: -0.9999999999999998, c1: 0.1 and beta: 0.006\n",
      "Finished in 0.10093379020690918 seconds\n",
      "Variables: c0: -0.9999999999999998, c1: 0.1 and beta: 0.008\n",
      "Finished in 0.09600067138671875 seconds\n",
      "Variables: c0: -0.9999999999999998, c1: 0.2 and beta: 0.002\n",
      "Finished in 0.09658288955688477 seconds\n",
      "Variables: c0: -0.9999999999999998, c1: 0.2 and beta: 0.004\n",
      "Finished in 0.09793663024902344 seconds\n",
      "Variables: c0: -0.9999999999999998, c1: 0.2 and beta: 0.006\n",
      "Finished in 0.09785795211791992 seconds\n",
      "Variables: c0: -0.9999999999999998, c1: 0.2 and beta: 0.008\n",
      "Finished in 0.09596610069274902 seconds\n",
      "Variables: c0: -0.9999999999999998, c1: 0.30000000000000004 and beta: 0.002\n",
      "Finished in 0.09707474708557129 seconds\n",
      "Variables: c0: -0.9999999999999998, c1: 0.30000000000000004 and beta: 0.004\n",
      "Finished in 0.09695267677307129 seconds\n",
      "Variables: c0: -0.9999999999999998, c1: 0.30000000000000004 and beta: 0.006\n",
      "Finished in 0.09993505477905273 seconds\n",
      "Variables: c0: -0.9999999999999998, c1: 0.30000000000000004 and beta: 0.008\n",
      "Finished in 0.09885716438293457 seconds\n",
      "Variables: c0: -0.9999999999999998, c1: 0.4 and beta: 0.002\n",
      "Finished in 0.09522795677185059 seconds\n",
      "Variables: c0: -0.9999999999999998, c1: 0.4 and beta: 0.004\n",
      "Finished in 0.09705924987792969 seconds\n",
      "Variables: c0: -0.9999999999999998, c1: 0.4 and beta: 0.006\n",
      "Finished in 0.09986162185668945 seconds\n",
      "Variables: c0: -0.9999999999999998, c1: 0.4 and beta: 0.008\n",
      "Finished in 0.09605979919433594 seconds\n",
      "Variables: c0: -0.9999999999999998, c1: 0.5 and beta: 0.002\n",
      "Finished in 0.09696745872497559 seconds\n",
      "Variables: c0: -0.9999999999999998, c1: 0.5 and beta: 0.004\n",
      "Finished in 0.0988311767578125 seconds\n",
      "Variables: c0: -0.9999999999999998, c1: 0.5 and beta: 0.006\n",
      "Finished in 0.0930624008178711 seconds\n",
      "Variables: c0: -0.9999999999999998, c1: 0.5 and beta: 0.008\n",
      "Finished in 0.0930166244506836 seconds\n",
      "Variables: c0: -0.8999999999999997, c1: 0.0 and beta: 0.002\n",
      "Finished in 0.09688425064086914 seconds\n",
      "Variables: c0: -0.8999999999999997, c1: 0.0 and beta: 0.004\n",
      "Finished in 0.09529948234558105 seconds\n",
      "Variables: c0: -0.8999999999999997, c1: 0.0 and beta: 0.006\n",
      "Finished in 0.09894919395446777 seconds\n",
      "Variables: c0: -0.8999999999999997, c1: 0.0 and beta: 0.008\n",
      "Finished in 0.0969703197479248 seconds\n",
      "Variables: c0: -0.8999999999999997, c1: 0.1 and beta: 0.002\n",
      "Finished in 0.09307456016540527 seconds\n",
      "Variables: c0: -0.8999999999999997, c1: 0.1 and beta: 0.004\n",
      "Finished in 0.09543704986572266 seconds\n",
      "Variables: c0: -0.8999999999999997, c1: 0.1 and beta: 0.006\n",
      "Finished in 0.09595966339111328 seconds\n",
      "Variables: c0: -0.8999999999999997, c1: 0.1 and beta: 0.008\n",
      "Finished in 0.09768557548522949 seconds\n",
      "Variables: c0: -0.8999999999999997, c1: 0.2 and beta: 0.002\n",
      "Finished in 0.09692931175231934 seconds\n",
      "Variables: c0: -0.8999999999999997, c1: 0.2 and beta: 0.004\n",
      "Finished in 0.09701848030090332 seconds\n",
      "Variables: c0: -0.8999999999999997, c1: 0.2 and beta: 0.006\n",
      "Finished in 0.09654688835144043 seconds\n",
      "Variables: c0: -0.8999999999999997, c1: 0.2 and beta: 0.008\n",
      "Finished in 0.09491562843322754 seconds\n",
      "Variables: c0: -0.8999999999999997, c1: 0.30000000000000004 and beta: 0.002\n",
      "Finished in 0.09603238105773926 seconds\n",
      "Variables: c0: -0.8999999999999997, c1: 0.30000000000000004 and beta: 0.004\n",
      "Finished in 0.09688663482666016 seconds\n",
      "Variables: c0: -0.8999999999999997, c1: 0.30000000000000004 and beta: 0.006\n",
      "Finished in 0.10201096534729004 seconds\n",
      "Variables: c0: -0.8999999999999997, c1: 0.30000000000000004 and beta: 0.008\n",
      "Finished in 0.09995317459106445 seconds\n",
      "Variables: c0: -0.8999999999999997, c1: 0.4 and beta: 0.002\n",
      "Finished in 0.09487318992614746 seconds\n",
      "Variables: c0: -0.8999999999999997, c1: 0.4 and beta: 0.004\n",
      "Finished in 0.09826469421386719 seconds\n",
      "Variables: c0: -0.8999999999999997, c1: 0.4 and beta: 0.006\n",
      "Finished in 0.10222697257995605 seconds\n",
      "Variables: c0: -0.8999999999999997, c1: 0.4 and beta: 0.008\n",
      "Finished in 0.0957033634185791 seconds\n",
      "Variables: c0: -0.8999999999999997, c1: 0.5 and beta: 0.002\n",
      "Finished in 0.09496140480041504 seconds\n",
      "Variables: c0: -0.8999999999999997, c1: 0.5 and beta: 0.004\n",
      "Finished in 0.09474396705627441 seconds\n",
      "Variables: c0: -0.8999999999999997, c1: 0.5 and beta: 0.006\n",
      "Finished in 0.09353780746459961 seconds\n",
      "Variables: c0: -0.8999999999999997, c1: 0.5 and beta: 0.008\n",
      "Finished in 0.10083961486816406 seconds\n",
      "Variables: c0: -0.7999999999999996, c1: 0.0 and beta: 0.002\n",
      "Finished in 0.10093927383422852 seconds\n",
      "Variables: c0: -0.7999999999999996, c1: 0.0 and beta: 0.004\n",
      "Finished in 0.1000359058380127 seconds\n",
      "Variables: c0: -0.7999999999999996, c1: 0.0 and beta: 0.006\n",
      "Finished in 0.10087370872497559 seconds\n",
      "Variables: c0: -0.7999999999999996, c1: 0.0 and beta: 0.008\n",
      "Finished in 0.09700322151184082 seconds\n",
      "Variables: c0: -0.7999999999999996, c1: 0.1 and beta: 0.002\n",
      "Finished in 0.09904146194458008 seconds\n",
      "Variables: c0: -0.7999999999999996, c1: 0.1 and beta: 0.004\n",
      "Finished in 0.09590673446655273 seconds\n",
      "Variables: c0: -0.7999999999999996, c1: 0.1 and beta: 0.006\n",
      "Finished in 0.09696459770202637 seconds\n",
      "Variables: c0: -0.7999999999999996, c1: 0.1 and beta: 0.008\n",
      "Finished in 0.09490561485290527 seconds\n",
      "Variables: c0: -0.7999999999999996, c1: 0.2 and beta: 0.002\n",
      "Finished in 0.09590530395507812 seconds\n",
      "Variables: c0: -0.7999999999999996, c1: 0.2 and beta: 0.004\n",
      "Finished in 0.0980064868927002 seconds\n",
      "Variables: c0: -0.7999999999999996, c1: 0.2 and beta: 0.006\n",
      "Finished in 0.09700822830200195 seconds\n",
      "Variables: c0: -0.7999999999999996, c1: 0.2 and beta: 0.008\n",
      "Finished in 0.10191655158996582 seconds\n",
      "Variables: c0: -0.7999999999999996, c1: 0.30000000000000004 and beta: 0.002\n",
      "Finished in 0.09696078300476074 seconds\n",
      "Variables: c0: -0.7999999999999996, c1: 0.30000000000000004 and beta: 0.004\n",
      "Finished in 0.0999596118927002 seconds\n",
      "Variables: c0: -0.7999999999999996, c1: 0.30000000000000004 and beta: 0.006\n",
      "Finished in 0.09590601921081543 seconds\n",
      "Variables: c0: -0.7999999999999996, c1: 0.30000000000000004 and beta: 0.008\n",
      "Finished in 0.09638047218322754 seconds\n",
      "Variables: c0: -0.7999999999999996, c1: 0.4 and beta: 0.002\n",
      "Finished in 0.0957951545715332 seconds\n",
      "Variables: c0: -0.7999999999999996, c1: 0.4 and beta: 0.004\n",
      "Finished in 0.09799671173095703 seconds\n",
      "Variables: c0: -0.7999999999999996, c1: 0.4 and beta: 0.006\n",
      "Finished in 0.09495401382446289 seconds\n",
      "Variables: c0: -0.7999999999999996, c1: 0.4 and beta: 0.008\n",
      "Finished in 0.09797120094299316 seconds\n",
      "Variables: c0: -0.7999999999999996, c1: 0.5 and beta: 0.002\n",
      "Finished in 0.09587693214416504 seconds\n",
      "Variables: c0: -0.7999999999999996, c1: 0.5 and beta: 0.004\n",
      "Finished in 0.09459328651428223 seconds\n",
      "Variables: c0: -0.7999999999999996, c1: 0.5 and beta: 0.006\n",
      "Finished in 0.10095334053039551 seconds\n",
      "Variables: c0: -0.7999999999999996, c1: 0.5 and beta: 0.008\n",
      "Finished in 0.09696197509765625 seconds\n",
      "Variables: c0: -0.6999999999999995, c1: 0.0 and beta: 0.002\n",
      "Finished in 0.09496426582336426 seconds\n",
      "Variables: c0: -0.6999999999999995, c1: 0.0 and beta: 0.004\n",
      "Finished in 0.09490585327148438 seconds\n",
      "Variables: c0: -0.6999999999999995, c1: 0.0 and beta: 0.006\n",
      "Finished in 0.0950162410736084 seconds\n",
      "Variables: c0: -0.6999999999999995, c1: 0.0 and beta: 0.008\n",
      "Finished in 0.0941305160522461 seconds\n",
      "Variables: c0: -0.6999999999999995, c1: 0.1 and beta: 0.002\n",
      "Finished in 0.10074424743652344 seconds\n",
      "Variables: c0: -0.6999999999999995, c1: 0.1 and beta: 0.004\n",
      "Finished in 0.09708428382873535 seconds\n",
      "Variables: c0: -0.6999999999999995, c1: 0.1 and beta: 0.006\n",
      "Finished in 0.10188746452331543 seconds\n",
      "Variables: c0: -0.6999999999999995, c1: 0.1 and beta: 0.008\n",
      "Finished in 0.09598660469055176 seconds\n",
      "Variables: c0: -0.6999999999999995, c1: 0.2 and beta: 0.002\n",
      "Finished in 0.09884428977966309 seconds\n",
      "Variables: c0: -0.6999999999999995, c1: 0.2 and beta: 0.004\n",
      "Finished in 0.09897947311401367 seconds\n",
      "Variables: c0: -0.6999999999999995, c1: 0.2 and beta: 0.006\n",
      "Finished in 0.0955953598022461 seconds\n",
      "Variables: c0: -0.6999999999999995, c1: 0.2 and beta: 0.008\n",
      "Finished in 0.09802770614624023 seconds\n",
      "Variables: c0: -0.6999999999999995, c1: 0.30000000000000004 and beta: 0.002\n",
      "Finished in 0.09494566917419434 seconds\n",
      "Variables: c0: -0.6999999999999995, c1: 0.30000000000000004 and beta: 0.004\n",
      "Finished in 0.09370541572570801 seconds\n",
      "Variables: c0: -0.6999999999999995, c1: 0.30000000000000004 and beta: 0.006\n",
      "Finished in 0.09621620178222656 seconds\n",
      "Variables: c0: -0.6999999999999995, c1: 0.30000000000000004 and beta: 0.008\n",
      "Finished in 0.09401750564575195 seconds\n",
      "Variables: c0: -0.6999999999999995, c1: 0.4 and beta: 0.002\n",
      "Finished in 0.09319424629211426 seconds\n",
      "Variables: c0: -0.6999999999999995, c1: 0.4 and beta: 0.004\n",
      "Finished in 0.09692001342773438 seconds\n",
      "Variables: c0: -0.6999999999999995, c1: 0.4 and beta: 0.006\n",
      "Finished in 0.0973050594329834 seconds\n",
      "Variables: c0: -0.6999999999999995, c1: 0.4 and beta: 0.008\n",
      "Finished in 0.09693503379821777 seconds\n",
      "Variables: c0: -0.6999999999999995, c1: 0.5 and beta: 0.002\n",
      "Finished in 0.09620285034179688 seconds\n",
      "Variables: c0: -0.6999999999999995, c1: 0.5 and beta: 0.004\n",
      "Finished in 0.09276103973388672 seconds\n",
      "Variables: c0: -0.6999999999999995, c1: 0.5 and beta: 0.006\n",
      "Finished in 0.0958852767944336 seconds\n",
      "Variables: c0: -0.6999999999999995, c1: 0.5 and beta: 0.008\n",
      "Finished in 0.09901952743530273 seconds\n",
      "Experiment finished in 14.021081686019897 seconds with 144 observations.\n",
      "Saving data with the all the forecasts added\n"
     ]
    },
    {
     "name": "stderr",
     "output_type": "stream",
     "text": [
      "1it [00:00,  7.40it/s]"
     ]
    },
    {
     "name": "stdout",
     "output_type": "stream",
     "text": [
      "('PostgreSQL 12.5, compiled by Visual C++ build 1914, 64-bit',)\n",
      "dfg_rating database exists. Loading database\n",
      "networks 1\n",
      "INSERT INTO networks(network_name,network_type,seasons,days_between_rounds,rounds) VALUES %s ON CONFLICT DO NOTHING\n",
      "matches 12\n",
      "INSERT INTO matches(network_name,node1,node2,season,round,day,winner,match_id) VALUES %s ON CONFLICT DO NOTHING\n",
      "forecasts 1752\n",
      "INSERT INTO forecasts(forecast_name,network_name,match_id,attributes) VALUES %s ON CONFLICT DO NOTHING\n",
      "odds 12\n",
      "INSERT INTO odds(network_name,bookmaker_name,match_id,attributes) VALUES %s ON CONFLICT DO NOTHING\n",
      "bets 12\n",
      "INSERT INTO bets(bettor_name,network_name,match_id,attributes) VALUES %s ON CONFLICT DO NOTHING\n",
      "metrics 84\n",
      "INSERT INTO metrics(metric_name,network_name,match_id,attributes) VALUES %s ON CONFLICT DO NOTHING\n",
      "ratings 60\n",
      "INSERT INTO ratings(rating_name,node_id,node_name,network_name,season,rating_number,value,trend,starting_point) VALUES %s ON CONFLICT DO NOTHING\n"
     ]
    },
    {
     "name": "stderr",
     "output_type": "stream",
     "text": [
      "\n"
     ]
    }
   ],
   "source": [
    "experiment_start_time = time.time()\n",
    "for c0 in np.arange(-1.20, -0.60, 0.1):\n",
    "    for c1 in np.arange(0.0, 0.60, 0.1):\n",
    "        for beta in np.arange(0.002, 0.010, 0.002):\n",
    "            print(f'Variables: c0: {c0}, c1: {c1} and beta: {beta}')\n",
    "            forecast_pointer = f\"player_forecast_{c0:.2f}_{c1:.2f}_{beta:.3f}\"\n",
    "            cell_start_time = time.time()\n",
    "            all_matches =  []\n",
    "            is_matches =  []\n",
    "            oos_matches =  []\n",
    "            \n",
    "            for network_number, network in enumerate(networks):\n",
    "                if config[\"create_data\"]:\n",
    "                    network.add_forecast(\n",
    "                        forecast=LogFunctionForecast(outcomes=['home', 'draw', 'away'], coefficients=[c0, c1], beta_parameter=beta, home_team_error=rating_error, away_team_error=rating_error),\n",
    "                        forecast_name=forecast_pointer,\n",
    "                        base_ranking='true_rating'\n",
    "                    )\n",
    "                network.add_bets(\n",
    "                    bettor_name='b',\n",
    "                    bookmaker='bm',\n",
    "                    betting=betting,\n",
    "                    base_forecast=forecast_pointer\n",
    "                )\n",
    "                \n",
    "                rps = RankProbabilityScore(outcomes=['home', 'draw', 'away'], forecast_name = forecast_pointer)\n",
    "                betting_returns = BettingReturnsEvaluator(outcomes=['home', 'draw', 'away'], player_name = 'b', true_model = 'true_forecast', bookmaker_name = 'bm')\n",
    "                betting_activity = BettingActivity(outcomes=['home', 'draw', 'away'], player_name = 'b')\n",
    "                likelihood = Likelihood(outcomes=['home', 'draw', 'away'], forecast_name = forecast_pointer)\n",
    "                difference = ProbabilityDifference(outcomes=['home', 'draw', 'away'], forecast_name = forecast_pointer)\n",
    "                draw_probability = ProbabilityPointer(outcomes=['home', 'draw', 'away'], forecast_name = forecast_pointer, probability_index=1)\n",
    "                fav_probability = FavouriteProbability(outcomes=['home', 'draw', 'away'], forecast_name = forecast_pointer)\n",
    "\n",
    "                network.add_evaluation([\n",
    "                    (rps, 'rps'),\n",
    "                    (betting_returns, 'betting_returns'),\n",
    "                    (betting_activity, 'betting_activity'),\n",
    "                    (likelihood, 'likelihood'),\n",
    "                    (difference, 'prob_diff'),\n",
    "                    (draw_probability, 'draw_prob'),\n",
    "                    (fav_probability, 'fav_prob')\n",
    "                ])\n",
    "                    \n",
    "                all_matches += [(a,h, match_id, match_attributes) for a,h, match_id, match_attributes in network.iterate_over_games()]\n",
    "                is_matches += [(a,h, match_id, match_attributes) for a,h, match_id, match_attributes in network.iterate_over_games() if match_attributes['season'] <= config[\"in_sample_maximum\"]]\n",
    "                oos_matches += [(a,h, match_id, match_attributes) for a,h, match_id, match_attributes in network.iterate_over_games() if match_attributes['season'] > config[\"in_sample_maximum\"]]\n",
    "            \n",
    "            cv_result += cross_validate_betting_returns(np.array(all_matches), config[\"number_of_splits\"], forecast_pointer)\n",
    "            result_all = aggregate_measures(all_matches, 'all')\n",
    "            result_is = aggregate_measures(is_matches, 'is')\n",
    "            result_oos = aggregate_measures(oos_matches, 'oos')\n",
    "            result = {\n",
    "                'c0' : c0, 'c1' : c1, 'beta' : beta, **result_is, **result_oos, **result_all, **entire_model_values\n",
    "            }\n",
    "            result_list.append(result)\n",
    "            print(f\"Finished in {float(time.time() - cell_start_time)} seconds\")\n",
    "\n",
    "print(f\"Experiment finished in {float(time.time() - experiment_start_time)} seconds with {len(result_list)} observations.\")\n",
    "\n",
    "df = pd.DataFrame(result_list)\n",
    "df.to_excel(f\"Results_{config['test_name']}.xlsx\")\n",
    "\n",
    "if config[\"create_data\"]:\n",
    "    print(\"Saving data with the all the forecasts added\")\n",
    "    for network_number, network in tqdm(enumerate(networks)):\n",
    "        main_controller.networks[f\"{config['test_name']}_network_{network_number}\"] = network\n",
    "        main_controller.save_network(f\"{config['test_name']}_network_{network_number}\")\n",
    "            "
   ]
  },
  {
   "cell_type": "markdown",
   "metadata": {},
   "source": [
    "### Process and store cross-validation results"
   ]
  },
  {
   "cell_type": "code",
   "execution_count": 156,
   "metadata": {
    "collapsed": false,
    "jupyter": {
     "outputs_hidden": false
    },
    "pycharm": {
     "name": "#%%\n"
    }
   },
   "outputs": [
    {
     "ename": "KeyError",
     "evalue": "\"Passing list-likes to .loc or [] with any missing labels is no longer supported. The following labels were missing: Float64Index([nan, nan, nan, nan, nan,\\n              ...\\n              nan, nan, nan, nan, nan],\\n             dtype='float64', length=152). See https://pandas.pydata.org/pandas-docs/stable/user_guide/indexing.html#deprecate-loc-reindex-listlike\"",
     "output_type": "error",
     "traceback": [
      "\u001b[1;31m---------------------------------------------------------------------------\u001b[0m",
      "\u001b[1;31mKeyError\u001b[0m                                  Traceback (most recent call last)",
      "\u001b[1;32m<ipython-input-156-d85ff81b8d6f>\u001b[0m in \u001b[0;36m<module>\u001b[1;34m\u001b[0m\n\u001b[0;32m      4\u001b[0m \u001b[1;33m\u001b[0m\u001b[0m\n\u001b[0;32m      5\u001b[0m \u001b[1;31m# Optimizing for RPS\u001b[0m\u001b[1;33m\u001b[0m\u001b[1;33m\u001b[0m\u001b[1;33m\u001b[0m\u001b[0m\n\u001b[1;32m----> 6\u001b[1;33m \u001b[0mby_rps_df\u001b[0m \u001b[1;33m=\u001b[0m \u001b[0mcv_df\u001b[0m\u001b[1;33m.\u001b[0m\u001b[0mloc\u001b[0m\u001b[1;33m[\u001b[0m\u001b[0mcv_df\u001b[0m\u001b[1;33m.\u001b[0m\u001b[0mgroupby\u001b[0m\u001b[1;33m(\u001b[0m\u001b[1;34m'permutation'\u001b[0m\u001b[1;33m)\u001b[0m\u001b[1;33m.\u001b[0m\u001b[0mis_rps\u001b[0m\u001b[1;33m.\u001b[0m\u001b[0midxmin\u001b[0m\u001b[1;33m(\u001b[0m\u001b[1;33m)\u001b[0m\u001b[1;33m,\u001b[0m \u001b[1;33m[\u001b[0m\u001b[1;34m'permutation'\u001b[0m\u001b[1;33m,\u001b[0m \u001b[1;34m'model_hint'\u001b[0m\u001b[1;33m,\u001b[0m \u001b[1;34m'oos_betting_returns'\u001b[0m\u001b[1;33m,\u001b[0m        \u001b[1;34m'oos_betting_returns_expected'\u001b[0m\u001b[1;33m]\u001b[0m\u001b[1;33m]\u001b[0m\u001b[1;33m.\u001b[0m\u001b[0mset_index\u001b[0m\u001b[1;33m(\u001b[0m\u001b[1;34m'permutation'\u001b[0m\u001b[1;33m)\u001b[0m\u001b[1;33m\u001b[0m\u001b[1;33m\u001b[0m\u001b[0m\n\u001b[0m\u001b[0;32m      7\u001b[0m \u001b[1;31m# Optimizing for likelihood\u001b[0m\u001b[1;33m\u001b[0m\u001b[1;33m\u001b[0m\u001b[1;33m\u001b[0m\u001b[0m\n\u001b[0;32m      8\u001b[0m \u001b[0mby_likelihood_df\u001b[0m \u001b[1;33m=\u001b[0m \u001b[0mcv_df\u001b[0m\u001b[1;33m.\u001b[0m\u001b[0mloc\u001b[0m\u001b[1;33m[\u001b[0m\u001b[0mcv_df\u001b[0m\u001b[1;33m.\u001b[0m\u001b[0mgroupby\u001b[0m\u001b[1;33m(\u001b[0m\u001b[1;34m'permutation'\u001b[0m\u001b[1;33m)\u001b[0m\u001b[1;33m.\u001b[0m\u001b[0mis_likelihood\u001b[0m\u001b[1;33m.\u001b[0m\u001b[0midxmax\u001b[0m\u001b[1;33m(\u001b[0m\u001b[1;33m)\u001b[0m\u001b[1;33m,\u001b[0m \u001b[1;33m[\u001b[0m\u001b[1;34m'permutation'\u001b[0m\u001b[1;33m,\u001b[0m \u001b[1;34m'model_hint'\u001b[0m\u001b[1;33m,\u001b[0m \u001b[1;34m'oos_betting_returns'\u001b[0m\u001b[1;33m,\u001b[0m  \u001b[1;34m'oos_betting_returns_expected'\u001b[0m\u001b[1;33m]\u001b[0m\u001b[1;33m]\u001b[0m\u001b[1;33m.\u001b[0m\u001b[0mset_index\u001b[0m\u001b[1;33m(\u001b[0m\u001b[1;34m'permutation'\u001b[0m\u001b[1;33m)\u001b[0m\u001b[1;33m\u001b[0m\u001b[1;33m\u001b[0m\u001b[0m\n",
      "\u001b[1;32m~\\Anaconda3\\envs\\dfg-rating\\lib\\site-packages\\pandas\\core\\indexing.py\u001b[0m in \u001b[0;36m__getitem__\u001b[1;34m(self, key)\u001b[0m\n\u001b[0;32m    871\u001b[0m                     \u001b[1;31m# AttributeError for IntervalTree get_value\u001b[0m\u001b[1;33m\u001b[0m\u001b[1;33m\u001b[0m\u001b[1;33m\u001b[0m\u001b[0m\n\u001b[0;32m    872\u001b[0m                     \u001b[1;32mpass\u001b[0m\u001b[1;33m\u001b[0m\u001b[1;33m\u001b[0m\u001b[0m\n\u001b[1;32m--> 873\u001b[1;33m             \u001b[1;32mreturn\u001b[0m \u001b[0mself\u001b[0m\u001b[1;33m.\u001b[0m\u001b[0m_getitem_tuple\u001b[0m\u001b[1;33m(\u001b[0m\u001b[0mkey\u001b[0m\u001b[1;33m)\u001b[0m\u001b[1;33m\u001b[0m\u001b[1;33m\u001b[0m\u001b[0m\n\u001b[0m\u001b[0;32m    874\u001b[0m         \u001b[1;32melse\u001b[0m\u001b[1;33m:\u001b[0m\u001b[1;33m\u001b[0m\u001b[1;33m\u001b[0m\u001b[0m\n\u001b[0;32m    875\u001b[0m             \u001b[1;31m# we by definition only have the 0th axis\u001b[0m\u001b[1;33m\u001b[0m\u001b[1;33m\u001b[0m\u001b[1;33m\u001b[0m\u001b[0m\n",
      "\u001b[1;32m~\\Anaconda3\\envs\\dfg-rating\\lib\\site-packages\\pandas\\core\\indexing.py\u001b[0m in \u001b[0;36m_getitem_tuple\u001b[1;34m(self, tup)\u001b[0m\n\u001b[0;32m   1051\u001b[0m         \u001b[1;31m# ugly hack for GH #836\u001b[0m\u001b[1;33m\u001b[0m\u001b[1;33m\u001b[0m\u001b[1;33m\u001b[0m\u001b[0m\n\u001b[0;32m   1052\u001b[0m         \u001b[1;32mif\u001b[0m \u001b[0mself\u001b[0m\u001b[1;33m.\u001b[0m\u001b[0m_multi_take_opportunity\u001b[0m\u001b[1;33m(\u001b[0m\u001b[0mtup\u001b[0m\u001b[1;33m)\u001b[0m\u001b[1;33m:\u001b[0m\u001b[1;33m\u001b[0m\u001b[1;33m\u001b[0m\u001b[0m\n\u001b[1;32m-> 1053\u001b[1;33m             \u001b[1;32mreturn\u001b[0m \u001b[0mself\u001b[0m\u001b[1;33m.\u001b[0m\u001b[0m_multi_take\u001b[0m\u001b[1;33m(\u001b[0m\u001b[0mtup\u001b[0m\u001b[1;33m)\u001b[0m\u001b[1;33m\u001b[0m\u001b[1;33m\u001b[0m\u001b[0m\n\u001b[0m\u001b[0;32m   1054\u001b[0m \u001b[1;33m\u001b[0m\u001b[0m\n\u001b[0;32m   1055\u001b[0m         \u001b[1;32mreturn\u001b[0m \u001b[0mself\u001b[0m\u001b[1;33m.\u001b[0m\u001b[0m_getitem_tuple_same_dim\u001b[0m\u001b[1;33m(\u001b[0m\u001b[0mtup\u001b[0m\u001b[1;33m)\u001b[0m\u001b[1;33m\u001b[0m\u001b[1;33m\u001b[0m\u001b[0m\n",
      "\u001b[1;32m~\\Anaconda3\\envs\\dfg-rating\\lib\\site-packages\\pandas\\core\\indexing.py\u001b[0m in \u001b[0;36m_multi_take\u001b[1;34m(self, tup)\u001b[0m\n\u001b[0;32m   1003\u001b[0m         d = {\n\u001b[0;32m   1004\u001b[0m             \u001b[0maxis\u001b[0m\u001b[1;33m:\u001b[0m \u001b[0mself\u001b[0m\u001b[1;33m.\u001b[0m\u001b[0m_get_listlike_indexer\u001b[0m\u001b[1;33m(\u001b[0m\u001b[0mkey\u001b[0m\u001b[1;33m,\u001b[0m \u001b[0maxis\u001b[0m\u001b[1;33m)\u001b[0m\u001b[1;33m\u001b[0m\u001b[1;33m\u001b[0m\u001b[0m\n\u001b[1;32m-> 1005\u001b[1;33m             \u001b[1;32mfor\u001b[0m \u001b[1;33m(\u001b[0m\u001b[0mkey\u001b[0m\u001b[1;33m,\u001b[0m \u001b[0maxis\u001b[0m\u001b[1;33m)\u001b[0m \u001b[1;32min\u001b[0m \u001b[0mzip\u001b[0m\u001b[1;33m(\u001b[0m\u001b[0mtup\u001b[0m\u001b[1;33m,\u001b[0m \u001b[0mself\u001b[0m\u001b[1;33m.\u001b[0m\u001b[0mobj\u001b[0m\u001b[1;33m.\u001b[0m\u001b[0m_AXIS_ORDERS\u001b[0m\u001b[1;33m)\u001b[0m\u001b[1;33m\u001b[0m\u001b[1;33m\u001b[0m\u001b[0m\n\u001b[0m\u001b[0;32m   1006\u001b[0m         }\n\u001b[0;32m   1007\u001b[0m         \u001b[1;32mreturn\u001b[0m \u001b[0mself\u001b[0m\u001b[1;33m.\u001b[0m\u001b[0mobj\u001b[0m\u001b[1;33m.\u001b[0m\u001b[0m_reindex_with_indexers\u001b[0m\u001b[1;33m(\u001b[0m\u001b[0md\u001b[0m\u001b[1;33m,\u001b[0m \u001b[0mcopy\u001b[0m\u001b[1;33m=\u001b[0m\u001b[1;32mTrue\u001b[0m\u001b[1;33m,\u001b[0m \u001b[0mallow_dups\u001b[0m\u001b[1;33m=\u001b[0m\u001b[1;32mTrue\u001b[0m\u001b[1;33m)\u001b[0m\u001b[1;33m\u001b[0m\u001b[1;33m\u001b[0m\u001b[0m\n",
      "\u001b[1;32m~\\Anaconda3\\envs\\dfg-rating\\lib\\site-packages\\pandas\\core\\indexing.py\u001b[0m in \u001b[0;36m<dictcomp>\u001b[1;34m(.0)\u001b[0m\n\u001b[0;32m   1003\u001b[0m         d = {\n\u001b[0;32m   1004\u001b[0m             \u001b[0maxis\u001b[0m\u001b[1;33m:\u001b[0m \u001b[0mself\u001b[0m\u001b[1;33m.\u001b[0m\u001b[0m_get_listlike_indexer\u001b[0m\u001b[1;33m(\u001b[0m\u001b[0mkey\u001b[0m\u001b[1;33m,\u001b[0m \u001b[0maxis\u001b[0m\u001b[1;33m)\u001b[0m\u001b[1;33m\u001b[0m\u001b[1;33m\u001b[0m\u001b[0m\n\u001b[1;32m-> 1005\u001b[1;33m             \u001b[1;32mfor\u001b[0m \u001b[1;33m(\u001b[0m\u001b[0mkey\u001b[0m\u001b[1;33m,\u001b[0m \u001b[0maxis\u001b[0m\u001b[1;33m)\u001b[0m \u001b[1;32min\u001b[0m \u001b[0mzip\u001b[0m\u001b[1;33m(\u001b[0m\u001b[0mtup\u001b[0m\u001b[1;33m,\u001b[0m \u001b[0mself\u001b[0m\u001b[1;33m.\u001b[0m\u001b[0mobj\u001b[0m\u001b[1;33m.\u001b[0m\u001b[0m_AXIS_ORDERS\u001b[0m\u001b[1;33m)\u001b[0m\u001b[1;33m\u001b[0m\u001b[1;33m\u001b[0m\u001b[0m\n\u001b[0m\u001b[0;32m   1006\u001b[0m         }\n\u001b[0;32m   1007\u001b[0m         \u001b[1;32mreturn\u001b[0m \u001b[0mself\u001b[0m\u001b[1;33m.\u001b[0m\u001b[0mobj\u001b[0m\u001b[1;33m.\u001b[0m\u001b[0m_reindex_with_indexers\u001b[0m\u001b[1;33m(\u001b[0m\u001b[0md\u001b[0m\u001b[1;33m,\u001b[0m \u001b[0mcopy\u001b[0m\u001b[1;33m=\u001b[0m\u001b[1;32mTrue\u001b[0m\u001b[1;33m,\u001b[0m \u001b[0mallow_dups\u001b[0m\u001b[1;33m=\u001b[0m\u001b[1;32mTrue\u001b[0m\u001b[1;33m)\u001b[0m\u001b[1;33m\u001b[0m\u001b[1;33m\u001b[0m\u001b[0m\n",
      "\u001b[1;32m~\\Anaconda3\\envs\\dfg-rating\\lib\\site-packages\\pandas\\core\\indexing.py\u001b[0m in \u001b[0;36m_get_listlike_indexer\u001b[1;34m(self, key, axis, raise_missing)\u001b[0m\n\u001b[0;32m   1252\u001b[0m             \u001b[0mkeyarr\u001b[0m\u001b[1;33m,\u001b[0m \u001b[0mindexer\u001b[0m\u001b[1;33m,\u001b[0m \u001b[0mnew_indexer\u001b[0m \u001b[1;33m=\u001b[0m \u001b[0max\u001b[0m\u001b[1;33m.\u001b[0m\u001b[0m_reindex_non_unique\u001b[0m\u001b[1;33m(\u001b[0m\u001b[0mkeyarr\u001b[0m\u001b[1;33m)\u001b[0m\u001b[1;33m\u001b[0m\u001b[1;33m\u001b[0m\u001b[0m\n\u001b[0;32m   1253\u001b[0m \u001b[1;33m\u001b[0m\u001b[0m\n\u001b[1;32m-> 1254\u001b[1;33m         \u001b[0mself\u001b[0m\u001b[1;33m.\u001b[0m\u001b[0m_validate_read_indexer\u001b[0m\u001b[1;33m(\u001b[0m\u001b[0mkeyarr\u001b[0m\u001b[1;33m,\u001b[0m \u001b[0mindexer\u001b[0m\u001b[1;33m,\u001b[0m \u001b[0maxis\u001b[0m\u001b[1;33m,\u001b[0m \u001b[0mraise_missing\u001b[0m\u001b[1;33m=\u001b[0m\u001b[0mraise_missing\u001b[0m\u001b[1;33m)\u001b[0m\u001b[1;33m\u001b[0m\u001b[1;33m\u001b[0m\u001b[0m\n\u001b[0m\u001b[0;32m   1255\u001b[0m         \u001b[1;32mreturn\u001b[0m \u001b[0mkeyarr\u001b[0m\u001b[1;33m,\u001b[0m \u001b[0mindexer\u001b[0m\u001b[1;33m\u001b[0m\u001b[1;33m\u001b[0m\u001b[0m\n\u001b[0;32m   1256\u001b[0m \u001b[1;33m\u001b[0m\u001b[0m\n",
      "\u001b[1;32m~\\Anaconda3\\envs\\dfg-rating\\lib\\site-packages\\pandas\\core\\indexing.py\u001b[0m in \u001b[0;36m_validate_read_indexer\u001b[1;34m(self, key, indexer, axis, raise_missing)\u001b[0m\n\u001b[0;32m   1314\u001b[0m                 \u001b[1;32mwith\u001b[0m \u001b[0moption_context\u001b[0m\u001b[1;33m(\u001b[0m\u001b[1;34m\"display.max_seq_items\"\u001b[0m\u001b[1;33m,\u001b[0m \u001b[1;36m10\u001b[0m\u001b[1;33m,\u001b[0m \u001b[1;34m\"display.width\"\u001b[0m\u001b[1;33m,\u001b[0m \u001b[1;36m80\u001b[0m\u001b[1;33m)\u001b[0m\u001b[1;33m:\u001b[0m\u001b[1;33m\u001b[0m\u001b[1;33m\u001b[0m\u001b[0m\n\u001b[0;32m   1315\u001b[0m                     raise KeyError(\n\u001b[1;32m-> 1316\u001b[1;33m                         \u001b[1;34m\"Passing list-likes to .loc or [] with any missing labels \"\u001b[0m\u001b[1;33m\u001b[0m\u001b[1;33m\u001b[0m\u001b[0m\n\u001b[0m\u001b[0;32m   1317\u001b[0m                         \u001b[1;34m\"is no longer supported. \"\u001b[0m\u001b[1;33m\u001b[0m\u001b[1;33m\u001b[0m\u001b[0m\n\u001b[0;32m   1318\u001b[0m                         \u001b[1;34mf\"The following labels were missing: {not_found}. \"\u001b[0m\u001b[1;33m\u001b[0m\u001b[1;33m\u001b[0m\u001b[0m\n",
      "\u001b[1;31mKeyError\u001b[0m: \"Passing list-likes to .loc or [] with any missing labels is no longer supported. The following labels were missing: Float64Index([nan, nan, nan, nan, nan,\\n              ...\\n              nan, nan, nan, nan, nan],\\n             dtype='float64', length=152). See https://pandas.pydata.org/pandas-docs/stable/user_guide/indexing.html#deprecate-loc-reindex-listlike\""
     ]
    }
   ],
   "source": [
    "cv_df = pd.DataFrame(cv_result)\n",
    "\n",
    "cv_df[cv_df['permutation'] == \"0 x 1\"].sort_values(by='is_rps').head(144)\n",
    "\n",
    "# Optimizing for RPS\n",
    "by_rps_df = cv_df.loc[cv_df.groupby('permutation').is_rps.idxmin(), ['permutation', 'model_hint', 'oos_betting_returns',\t'oos_betting_returns_expected']].set_index('permutation')\n",
    "# Optimizing for likelihood\n",
    "by_likelihood_df = cv_df.loc[cv_df.groupby('permutation').is_likelihood.idxmax(), ['permutation', 'model_hint', 'oos_betting_returns',\t'oos_betting_returns_expected']].set_index('permutation')\n",
    "# Optimizing for betting\n",
    "by_betting_df = cv_df.loc[cv_df.groupby('permutation').is_betting_returns.idxmax(), ['permutation', 'model_hint', 'oos_betting_returns',\t'oos_betting_returns_expected']].set_index('permutation')\n",
    "\n",
    "cv_study_df = by_rps_df.join(\n",
    "    by_likelihood_df.join(\n",
    "        by_betting_df,\n",
    "        lsuffix='',\n",
    "        rsuffix='_betting',\n",
    "    ),\n",
    "    lsuffix='_rps',\n",
    "    rsuffix='_likelihood',\n",
    ")\n",
    "\n",
    "cv_study_df.to_excel(f\"Permutations_{config['test_name']}.xlsx\")"
   ]
  },
  {
   "cell_type": "code",
   "execution_count": null,
   "metadata": {},
   "outputs": [],
   "source": []
  }
 ],
 "metadata": {
  "kernelspec": {
   "display_name": "Python 3",
   "language": "python",
   "name": "python3"
  },
  "language_info": {
   "codemirror_mode": {
    "name": "ipython",
    "version": 3
   },
   "file_extension": ".py",
   "mimetype": "text/x-python",
   "name": "python",
   "nbconvert_exporter": "python",
   "pygments_lexer": "ipython3",
   "version": "3.7.7"
  }
 },
 "nbformat": 4,
 "nbformat_minor": 5
}
