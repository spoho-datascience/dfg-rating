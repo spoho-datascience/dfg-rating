{
 "cells": [
  {
   "cell_type": "code",
   "execution_count": 1,
   "id": "3afccba3",
   "metadata": {},
   "outputs": [],
   "source": [
    "import os\n",
    "import pandas as pd\n",
    "\n",
    "from dfg_rating.model.rating.elo_rating import ELORating\n",
    "from dfg_rating.model.network.base_network import WhiteNetwork\n",
    "from dfg_rating.model.forecast.true_forecast import LogFunctionForecast\n",
    "from dfg_rating.model.rating.controlled_trend_rating import ControlledTrendRating, ControlledRandomFunction\n"
   ]
  },
  {
   "cell_type": "code",
   "execution_count": 2,
   "id": "3428a1a9",
   "metadata": {},
   "outputs": [],
   "source": [
    "data_football_national = pd.read_csv(os.path.join('..', '..', '..', 'data', 'real', 'Data_Football_National.csv'))\n",
    "#data_football_national = pd.read_csv(\"C:/Users/Dell-PC/Documents/Projekte/dfg-rating/data/real/Data_Football_National.csv\")"
   ]
  },
  {
   "cell_type": "code",
   "execution_count": 3,
   "id": "2babae37",
   "metadata": {
    "tags": []
   },
   "outputs": [
    {
     "name": "stdout",
     "output_type": "stream",
     "text": [
      "Network loaded correctly\n"
     ]
    }
   ],
   "source": [
    "football_network = WhiteNetwork(\n",
    "    data=data_football_national,\n",
    "    #node1 = away\n",
    "    mapping={\n",
    "        \"node1\": {\n",
    "            \"id\": \"AwayID\",\n",
    "            \"name\": \"AwayTeam\",\n",
    "        },\n",
    "        \"node2\": {\n",
    "            \"id\": \"HomeID\",\n",
    "            \"name\": \"HomeTeam\",\n",
    "        },\n",
    "        \"day\": \"Date\",\n",
    "        \"dayIsTimestamp\": True,\n",
    "        \"ts_format\": \"%d.%m.%Y\",\n",
    "        \"season\": \"Season\",\n",
    "        \"result\": \"ResultFT\",\n",
    "        \"round\": \"day\",\n",
    "        \"odds\": {\n",
    "            \"maximumodds\": {\n",
    "                \"home\": \"OddsHomeMax\",\n",
    "                \"draw\": \"OddsDrawMax\",\n",
    "                \"away\": \"OddsAwayMax\"\n",
    "            },\n",
    "            \"averageodds\": {\n",
    "                \"home\": \"OddsHomeAvg\",\n",
    "                \"draw\": \"OddsDrawAvg\",\n",
    "                \"away\": \"OddsAwayAvg\"\n",
    "            },       \n",
    "        },\n",
    "        \"bets\": {}\n",
    "    }\n",
    "    \n",
    ")"
   ]
  },
  {
   "cell_type": "code",
   "execution_count": 4,
   "id": "72250448",
   "metadata": {},
   "outputs": [
    {
     "name": "stdout",
     "output_type": "stream",
     "text": [
      "Network schedule\n",
      "(278 vs. 259 at season 2007/2008 round 0, day 0)\n",
      "(34 vs. 135 at season 2008/2009 round 1, day 1)\n",
      "(46 vs. 309 at season 2009/2010 round 1, day 1)\n",
      "---------------\n"
     ]
    }
   ],
   "source": [
    "#def first_season(edge):\n",
    "#    return (edge[2][\"season\"] == 2010)\n",
    "football_network.print_data(schedule=True)"
   ]
  },
  {
   "cell_type": "code",
   "execution_count": 5,
   "id": "27b9fb85",
   "metadata": {},
   "outputs": [],
   "source": [
    "football_network.add_rating(\n",
    "    rating=ControlledTrendRating(\n",
    "        starting_point=ControlledRandomFunction(distribution='normal', loc=1000, scale=100),\n",
    "        delta=ControlledRandomFunction(distribution='normal', loc=0, scale=3),\n",
    "        trend=ControlledRandomFunction(distribution='normal', loc=0, scale=20/365),\n",
    "        season_delta=ControlledRandomFunction(distribution='normal', loc=0, scale=10)),\n",
    "    rating_name='true_rating'\n",
    ")\n",
    "\n",
    "football_network.add_forecast(\n",
    "    forecast=LogFunctionForecast(outcomes=['home', 'draw', 'away'], coefficients=[-1.2, 0.0], beta_parameter=0.006),\n",
    "    forecast_name='bookmaker_forecast',\n",
    "    base_ranking='true_rating'\n",
    ")\n",
    "\n",
    "#football_network.add_rating(\n",
    "#    new_rating=ELORating(trained=True, **{'param.c' : 10,\n",
    "#                                           'param.d' : 400,\n",
    "#                                           'param.k' : 14,\n",
    "#                                           'param.w' : 50}),\n",
    "#                                            rating_name='player_rating'\n",
    "#    )\n",
    "#football_network.data.nodes[278]\n",
    "\n",
    "#football_network.export(ratings = ['player_rating'])\n",
    "\n",
    "#football_data = pd.read_excel(os.path.join('..', '..', 'data', 'real', 'nation_teams_competitions.xlsx'), engine='openpyxl')"
   ]
  },
  {
   "cell_type": "code",
   "execution_count": 13,
   "id": "d3a842df",
   "metadata": {},
   "outputs": [
    {
     "data": {
      "text/plain": [
       "[(259, 278, 0), (135, 34, 0), (309, 46, 0)]"
      ]
     },
     "execution_count": 13,
     "metadata": {},
     "output_type": "execute_result"
    }
   ],
   "source": [
    "list(football_network.data.edges)"
   ]
  },
  {
   "cell_type": "code",
   "execution_count": 14,
   "id": "3ba79592",
   "metadata": {},
   "outputs": [
    {
     "data": {
      "text/plain": [
       "' h: 0.74 - d: 0.16 - a: 0.10 '"
      ]
     },
     "execution_count": 14,
     "metadata": {},
     "output_type": "execute_result"
    }
   ],
   "source": [
    "football_network.data.edges[(135, 34, 0)]['forecasts']['bookmaker_forecast'].print()"
   ]
  },
  {
   "cell_type": "code",
   "execution_count": null,
   "id": "7fe902f4",
   "metadata": {},
   "outputs": [],
   "source": [
    "football_data.Season.unique()"
   ]
  },
  {
   "cell_type": "code",
   "execution_count": null,
   "id": "69222ea6",
   "metadata": {},
   "outputs": [],
   "source": [
    "football_network = WhiteNetwork(\n",
    "    data=football_data,\n",
    "    mapping={\n",
    "        \"node1\": {\n",
    "            \"id\": \"Team away\",\n",
    "            \"name\": \"Team away\"\n",
    "        },\n",
    "        \"node2\": {\n",
    "            \"id\": \"Team home\",\n",
    "            \"name\": \"Team home\"\n",
    "        },\n",
    "        \"day\": \"Date\",\n",
    "        \"dayIsTimestamp\": True,\n",
    "        \"round\": \"Round\",\n",
    "        \"season\": \"Season\",\n",
    "        \"forecasts\": {},\n",
    "        \"odds\": {},\n",
    "        \"bets\": {}\n",
    "    }\n",
    ")"
   ]
  },
  {
   "cell_type": "code",
   "execution_count": null,
   "id": "4e30f5c1",
   "metadata": {},
   "outputs": [],
   "source": [
    "def first_season(edge):\n",
    "    return (edge[2][\"season\"] == \"2019/2020\")\n",
    "football_network.print_data(schedule=True, edge_filter=first_season)"
   ]
  },
  {
   "cell_type": "code",
   "execution_count": null,
   "id": "ba07d4dc",
   "metadata": {},
   "outputs": [],
   "source": []
  },
  {
   "cell_type": "code",
   "execution_count": null,
   "id": "43bb9a70",
   "metadata": {},
   "outputs": [],
   "source": []
  }
 ],
 "metadata": {
  "kernelspec": {
   "display_name": "Python 3",
   "language": "python",
   "name": "python3"
  },
  "language_info": {
   "codemirror_mode": {
    "name": "ipython",
    "version": 3
   },
   "file_extension": ".py",
   "mimetype": "text/x-python",
   "name": "python",
   "nbconvert_exporter": "python",
   "pygments_lexer": "ipython3",
   "version": "3.6.10"
  }
 },
 "nbformat": 4,
 "nbformat_minor": 5
}
