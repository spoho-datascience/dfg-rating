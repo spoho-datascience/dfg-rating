{
 "cells": [
  {
   "cell_type": "markdown",
   "id": "00e6fefa",
   "metadata": {},
   "source": [
    "### Import"
   ]
  },
  {
   "cell_type": "code",
   "execution_count": 1,
   "id": "ce86e776",
   "metadata": {},
   "outputs": [],
   "source": [
    "import os\n",
    "import itertools\n",
    "import time\n",
    "import pandas as pd\n",
    "import numpy as np\n",
    "\n",
    "from dfg_rating.model import factory\n",
    "import dfg_rating.viz.jupyter_widgets as DFGViz\n",
    "\n",
    "from dfg_rating.model.rating.elo_rating import ELORating\n",
    "from dfg_rating.model.network.base_network import WhiteNetwork\n",
    "from dfg_rating.model.forecast.true_forecast import LogFunctionForecast\n",
    "from dfg_rating.model.rating.controlled_trend_rating import ControlledTrendRating, ControlledRandomFunction\n",
    "\n",
    "\n",
    "from dfg_rating.model.betting.betting import FixedBetting\n",
    "from dfg_rating.model.bookmaker.base_bookmaker import BaseBookmaker\n",
    "from dfg_rating.model.evaluators.accuracy import RankProbabilityScore, Likelihood, ProbabilityDifference, ProbabilityPointer, FavouriteProbability\n",
    "from dfg_rating.model.evaluators.profitability import BettingReturnsEvaluator\n",
    "from dfg_rating.model.evaluators.base_evaluators import BettingActivity\n",
    "\n",
    "pd.set_option('display.max_columns', None)\n",
    "pd.set_option('display.max_rows', None)\n",
    "pd.options.display.width = None\n",
    "pd.set_option('display.float_format', lambda x: '%.5f' % x)"
   ]
  },
  {
   "cell_type": "markdown",
   "id": "a5d608fd",
   "metadata": {},
   "source": [
    "### Loading real data"
   ]
  },
  {
   "cell_type": "code",
   "execution_count": 2,
   "id": "6c16a74f",
   "metadata": {},
   "outputs": [],
   "source": [
    "data_football_national = pd.read_csv(os.path.join('..', '..', '..', 'data', 'real', 'Data_Football_National.csv'),sep = \";\")\n",
    "#data_football_national = pd.read_csv(\"C:/Users/Dell-PC/Documents/Projekte/dfg-rating/data/real/Data_Football_National.csv\")"
   ]
  },
  {
   "cell_type": "markdown",
   "id": "b9d0eaff",
   "metadata": {},
   "source": [
    "New mapping available:\n",
    " - ts_format: Timestamp format\n",
    " - winner with result and translation to (home, draw, away)."
   ]
  },
  {
   "cell_type": "code",
   "execution_count": 3,
   "id": "70357f5d",
   "metadata": {
    "tags": []
   },
   "outputs": [
    {
     "name": "stdout",
     "output_type": "stream",
     "text": [
      "Network loaded correctly\n"
     ]
    }
   ],
   "source": [
    "football_network = WhiteNetwork(\n",
    "    data=data_football_national,\n",
    "    #node1 = away\n",
    "    mapping={\n",
    "        \"node1\": {\n",
    "            \"id\": \"AwayID\",\n",
    "            \"name\": \"AwayTeam\",\n",
    "        },\n",
    "        \"node2\": {\n",
    "            \"id\": \"HomeID\",\n",
    "            \"name\": \"HomeTeam\",\n",
    "        },\n",
    "        \"day\": \"Date\",\n",
    "        \"dayIsTimestamp\": True,\n",
    "        \"ts_format\": \"%d.%m.%Y\",\n",
    "        \"season\": \"Season\",\n",
    "        \"winner\": {\n",
    "            \"result\": \"ResultFT\",\n",
    "            \"translation\": {\n",
    "                \"H\": \"home\",\n",
    "                \"D\": \"draw\",\n",
    "                \"A\": \"away\"\n",
    "            }\n",
    "        },\n",
    "        \"round\": \"day\",\n",
    "        \"odds\": {\n",
    "            \"maximumodds\": {\n",
    "                \"home\": \"OddsHomeMax\",\n",
    "                \"draw\": \"OddsDrawMax\",\n",
    "                \"away\": \"OddsAwayMax\"\n",
    "            },\n",
    "            \"averageodds\": {\n",
    "                \"home\": \"OddsHomeAvg\",\n",
    "                \"draw\": \"OddsDrawAvg\",\n",
    "                \"away\": \"OddsAwayAvg\"\n",
    "            },\n",
    "        },\n",
    "        \"bets\": {}\n",
    "    }\n",
    ")"
   ]
  },
  {
   "cell_type": "markdown",
   "id": "d01c452f",
   "metadata": {},
   "source": [
    "### Adding ratings to the loaded network"
   ]
  },
  {
   "cell_type": "code",
   "execution_count": 4,
   "id": "b2515ccb",
   "metadata": {},
   "outputs": [],
   "source": [
    "football_network.add_rating(\n",
    "    rating=ELORating(\n",
    "        trained=True, \n",
    "        rating_name='player_rating',\n",
    "        **{\n",
    "            'param_c' : 10,\n",
    "            'param_d' : 400,\n",
    "            'param_k' : 14,\n",
    "            'param_w' : 50\n",
    "        }\n",
    "    ),\n",
    "    rating_name='player_rating'\n",
    ")"
   ]
  },
  {
   "cell_type": "markdown",
   "id": "c5699727",
   "metadata": {},
   "source": [
    "Rating explorer (Only useful the first chart, ignore the others)"
   ]
  },
  {
   "cell_type": "code",
   "execution_count": 5,
   "id": "ba15aec7",
   "metadata": {},
   "outputs": [],
   "source": [
    "app = DFGViz.RatingsExplorer(\n",
    "    network=football_network\n",
    ")"
   ]
  },
  {
   "cell_type": "code",
   "execution_count": 6,
   "id": "3b400673",
   "metadata": {},
   "outputs": [
    {
     "data": {
      "text/html": [
       "\n",
       "        <iframe\n",
       "            width=\"100%\"\n",
       "            height=\"650\"\n",
       "            src=\"http://127.0.0.1:8050/\"\n",
       "            frameborder=\"0\"\n",
       "            allowfullscreen\n",
       "        ></iframe>\n",
       "        "
      ],
      "text/plain": [
       "<IPython.lib.display.IFrame at 0x7f3e5cd89cf8>"
      ]
     },
     "metadata": {},
     "output_type": "display_data"
    }
   ],
   "source": [
    "app.run('inline')"
   ]
  },
  {
   "cell_type": "markdown",
   "id": "08bfd266",
   "metadata": {},
   "source": [
    "### Adding a forecast from the added rating"
   ]
  },
  {
   "cell_type": "code",
   "execution_count": null,
   "id": "6c1cc296",
   "metadata": {},
   "outputs": [],
   "source": [
    "football_network.add_forecast(\n",
    "    forecast=LogFunctionForecast(outcomes=['home', 'draw', 'away'], coefficients=[-1.2, 0.0], beta_parameter=0.006),\n",
    "    forecast_name='player_forecast',\n",
    "    base_ranking='player_rating'\n",
    ")\n",
    "football_network.add_forecast(\n",
    "    forecast=LogFunctionForecast(outcomes=['home', 'draw', 'away'], coefficients=[-0.9, 0.3], beta_parameter=0.006),\n",
    "    forecast_name='true_forecast',\n",
    "    base_ranking='player_rating'\n",
    ")"
   ]
  },
  {
   "cell_type": "markdown",
   "id": "25cfbf78",
   "metadata": {},
   "source": [
    "Exploring the forecasts manually"
   ]
  },
  {
   "cell_type": "code",
   "execution_count": null,
   "id": "f69698b5",
   "metadata": {},
   "outputs": [],
   "source": [
    "football_network.get_seasons()"
   ]
  },
  {
   "cell_type": "code",
   "execution_count": null,
   "id": "efb26936",
   "metadata": {},
   "outputs": [],
   "source": [
    "app_f = DFGViz.ForecastExplorer(\n",
    "    network=football_network,\n",
    "    ratings=[\"player_rating\"]\n",
    ")"
   ]
  },
  {
   "cell_type": "code",
   "execution_count": null,
   "id": "1fd450b4",
   "metadata": {},
   "outputs": [],
   "source": [
    "app_f.run('inline')"
   ]
  },
  {
   "cell_type": "markdown",
   "id": "9c04edc8",
   "metadata": {},
   "source": [
    "### Inside loop functions"
   ]
  },
  {
   "cell_type": "code",
   "execution_count": null,
   "id": "c9ecd5e8",
   "metadata": {},
   "outputs": [],
   "source": [
    "def add_elo_rating(k, n, name):\n",
    "    n.add_rating(\n",
    "    rating=ELORating(\n",
    "        trained=True, \n",
    "        rating_name=name,\n",
    "        **{\n",
    "            'param_c' : 10,\n",
    "            'param_d' : 400,\n",
    "            'param_k' : k,\n",
    "            'param_w' : 50\n",
    "        }\n",
    "    ),\n",
    "    rating_name=name\n",
    ")"
   ]
  },
  {
   "cell_type": "code",
   "execution_count": null,
   "id": "4ca7851e",
   "metadata": {},
   "outputs": [],
   "source": [
    "def aggregate_measures(list_of_matches, prefix='', addBettingMetrics=True):\n",
    "    if addBettingMetrics:\n",
    "        return {\n",
    "            prefix+'_rps': np.mean([m[3]['metrics']['rps'] for m in list_of_matches]),\n",
    "            prefix+'_likelihood': sum([m[3]['metrics']['likelihood'] for m in list_of_matches]),\n",
    "            prefix+'_prob_diff': np.mean([m[3]['metrics']['prob_diff'] for m in list_of_matches]),\n",
    "            prefix+'_draw_prob': np.mean([m[3]['metrics']['draw_prob'] for m in list_of_matches]),\n",
    "            prefix+'_fav_prob': np.mean([m[3]['metrics']['fav_prob'] for m in list_of_matches]),\n",
    "            prefix+'_betting_returns': sum([sum([b[0] for b in m[3]['metrics']['betting_returns']]) for m in list_of_matches]),\n",
    "            prefix+'_betting_returns_expected': sum([sum(b[1] for b in m[3]['metrics']['betting_returns']) for m in list_of_matches]),\n",
    "            prefix+'_betting_activity': sum([m[3]['metrics']['betting_activity']['qty'] for m in list_of_matches])\n",
    "        }\n",
    "    else:\n",
    "        return {\n",
    "            prefix+'_rps': np.mean([m[3]['metrics']['rps'] for m in list_of_matches]),\n",
    "            prefix+'_likelihood': sum([m[3]['metrics']['likelihood'] for m in list_of_matches]),\n",
    "            prefix+'_prob_diff': np.mean([m[3]['metrics']['prob_diff'] for m in list_of_matches]),\n",
    "            prefix+'_draw_prob': np.mean([m[3]['metrics']['draw_prob'] for m in list_of_matches]),\n",
    "            prefix+'_fav_prob': np.mean([m[3]['metrics']['fav_prob'] for m in list_of_matches])\n",
    "        }"
   ]
  },
  {
   "cell_type": "markdown",
   "id": "fe8ecfc5",
   "metadata": {
    "tags": []
   },
   "source": [
    "## Betting config"
   ]
  },
  {
   "cell_type": "markdown",
   "id": "df4d688a",
   "metadata": {},
   "source": [
    "We create a bookmaker and a betting strategy that are going to interact with the generated networks."
   ]
  },
  {
   "cell_type": "code",
   "execution_count": null,
   "id": "3c9be68a",
   "metadata": {
    "tags": []
   },
   "outputs": [],
   "source": [
    "bookmaker: BaseBookmaker = factory.new_bookmaker(\n",
    "    'simple',\n",
    "    error=factory.new_forecast_error(error_type='factor', error=0.0, scope='positive'),\n",
    "    margin=factory.new_bookmaker_margin('simple', margin=0.10)\n",
    ")"
   ]
  },
  {
   "cell_type": "code",
   "execution_count": null,
   "id": "9a13b5d8",
   "metadata": {
    "tags": []
   },
   "outputs": [],
   "source": [
    "betting = FixedBetting(100)"
   ]
  },
  {
   "cell_type": "markdown",
   "id": "74ecb74f",
   "metadata": {},
   "source": [
    "We also create an error rating that we are going to use for the calculated forecasts"
   ]
  },
  {
   "cell_type": "code",
   "execution_count": null,
   "id": "d37562c4",
   "metadata": {
    "tags": []
   },
   "outputs": [],
   "source": [
    "rating_error = RatingFunctionError(error='normal', loc=config[\"rating_error_loc\"], scale=config[\"rating_error_scale\"])\n",
    "rating_error_bookmaker = RatingFunctionError(error='normal', loc=config[\"bookmaker_rating_error_loc\"], scale=config[\"bookmaker_rating_error_scale\"])"
   ]
  },
  {
   "cell_type": "markdown",
   "id": "9ff4fdc5",
   "metadata": {},
   "source": [
    "### Small loops to test"
   ]
  },
  {
   "cell_type": "markdown",
   "id": "c0ec9b67",
   "metadata": {},
   "source": [
    "Full options"
   ]
  },
  {
   "cell_type": "code",
   "execution_count": null,
   "id": "b783bb23",
   "metadata": {},
   "outputs": [],
   "source": [
    "k_options = range(5,35,1)\n",
    "c0_options = np.arange(-1.20, -0.60, 0.1)\n",
    "c1_options = np.arange(0.0, 0.60, 0.1)\n",
    "beta_options = np.arange(0.002, 0.010, 0.002)"
   ]
  },
  {
   "cell_type": "markdown",
   "id": "75a7140d",
   "metadata": {},
   "source": [
    "Small options"
   ]
  },
  {
   "cell_type": "code",
   "execution_count": null,
   "id": "860dbd66",
   "metadata": {},
   "outputs": [],
   "source": [
    "k_options = range(15,16,1)\n",
    "c0_options = np.arange(-1.20, -1.00, 0.1)\n",
    "c1_options = np.arange(0.0, 0.2, 0.1)\n",
    "beta_options = np.arange(0.006, 0.008, 0.002)"
   ]
  },
  {
   "cell_type": "code",
   "execution_count": null,
   "id": "b42fc7d7",
   "metadata": {},
   "outputs": [],
   "source": [
    "experiment_start_time = time.time()\n",
    "result_list = []\n",
    "for k in k_options:\n",
    "    rating_name = f\"elo_rating_{k}\"\n",
    "    print(f\"Rating <{rating_name}>\")\n",
    "    add_elo_rating(k, football_network, rating_name)\n",
    "    for c0, c1, beta in itertools.product(c0_options, c1_options, beta_options):\n",
    "        print(f'Variables: c0: {c0}, c1: {c1} and beta: {beta}')\n",
    "        forecast_pointer = f\"player_{k}_forecast_{c0:.2f}_{c1:.2f}_{beta:.3f}\"\n",
    "        cell_start_time = time.time()\n",
    "        football_network.add_forecast(\n",
    "            forecast=LogFunctionForecast(\n",
    "                outcomes=['home', 'draw', 'away'], \n",
    "                coefficients=[c0, c1], \n",
    "                beta_parameter=beta\n",
    "            ),\n",
    "            forecast_name=forecast_pointer,\n",
    "            base_ranking=rating_name\n",
    "        )\n",
    "        football_network.add_bets(\n",
    "            bettor_name='b',\n",
    "            bookmaker='averageodds',\n",
    "            betting=betting,\n",
    "            base_forecast=forecast_pointer\n",
    "        )\n",
    "        rps = RankProbabilityScore(outcomes=['home', 'draw', 'away'], forecast_name=forecast_pointer)\n",
    "        betting_returns = BettingReturnsEvaluator(\n",
    "            outcomes=['home', 'draw', 'away'], \n",
    "            player_name='b', \n",
    "            true_model=forecast_pointer, \n",
    "            bookmaker_name='averageodds'\n",
    "        )\n",
    "        betting_activity = BettingActivity(outcomes=['home', 'draw', 'away'], player_name='b')\n",
    "        likelihood = Likelihood(outcomes=['home', 'draw', 'away'], forecast_name=forecast_pointer)\n",
    "        difference = ProbabilityDifference(outcomes=['home', 'draw', 'away'], forecast_name=forecast_pointer)\n",
    "        draw_probability = ProbabilityPointer(outcomes=['home', 'draw', 'away'], forecast_name=forecast_pointer, probability_index=1)\n",
    "        fav_probability = FavouriteProbability(outcomes=['home', 'draw', 'away'], forecast_name=forecast_pointer)\n",
    "\n",
    "        football_network.add_evaluation([\n",
    "            (rps, 'rps'),\n",
    "            (betting_returns, 'betting_returns'),\n",
    "            (betting_activity, 'betting_activity'),\n",
    "            (likelihood, 'likelihood'),\n",
    "            (difference, 'prob_diff'),\n",
    "            (draw_probability, 'draw_prob'),\n",
    "            (fav_probability, 'fav_prob')\n",
    "        ])\n",
    "        all_matches = [(a,h, match_id, match_attributes) for a,h, match_id, match_attributes in football_network.iterate_over_games()]\n",
    "        result_all = aggregate_measures(all_matches, 'all')\n",
    "        result_is = aggregate_measures([m for m in all_matches if m[3]['season'] <= 3], 'is')\n",
    "        result_oos = aggregate_measures([m for m in all_matches if m[3]['season'] > 3], 'oos')\n",
    "        result = {\n",
    "            'k': k, 'c0' : c0, 'c1' : c1, 'beta' : beta, **result_is, **result_oos, **result_all\n",
    "        }\n",
    "        result_list.append(result)\n",
    "        print(f\"Finished in {float(time.time() - cell_start_time)} seconds\")\n",
    "\n",
    "print(f\"Experiment finished in {float(time.time() - experiment_start_time)} seconds with {len(result_list)} observations.\")\n",
    "df = pd.DataFrame(result_list)"
   ]
  },
  {
   "cell_type": "code",
   "execution_count": null,
   "id": "4df42a83",
   "metadata": {},
   "outputs": [],
   "source": [
    "df"
   ]
  },
  {
   "cell_type": "code",
   "execution_count": null,
   "id": "2e8babdf",
   "metadata": {},
   "outputs": [],
   "source": []
  }
 ],
 "metadata": {
  "kernelspec": {
   "display_name": "Python 3",
   "language": "python",
   "name": "python3"
  },
  "language_info": {
   "codemirror_mode": {
    "name": "ipython",
    "version": 3
   },
   "file_extension": ".py",
   "mimetype": "text/x-python",
   "name": "python",
   "nbconvert_exporter": "python",
   "pygments_lexer": "ipython3",
   "version": "3.6.10"
  }
 },
 "nbformat": 4,
 "nbformat_minor": 5
}
