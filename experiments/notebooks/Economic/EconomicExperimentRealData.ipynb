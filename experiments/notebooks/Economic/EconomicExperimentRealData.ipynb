{
 "cells": [
  {
   "cell_type": "code",
   "execution_count": 6,
   "id": "3679d258",
   "metadata": {},
   "outputs": [],
   "source": [
    "import os\n",
    "import pandas as pd\n",
    "\n",
    "from dfg_rating.model.rating.elo_rating import ELORating\n",
    "from dfg_rating.model.network.base_network import WhiteNetwork\n",
    "from dfg_rating.model.forecast.true_forecast import LogFunctionForecast\n",
    "from dfg_rating.model.rating.controlled_trend_rating import ControlledTrendRating, ControlledRandomFunction\n"
   ]
  },
  {
   "cell_type": "code",
   "execution_count": 7,
   "id": "04b93cb9",
   "metadata": {},
   "outputs": [],
   "source": [
    "data_football_national = pd.read_csv(os.path.join('..', '..', '..', 'data', 'real', 'Data_Football_National.csv'))\n",
    "#data_football_national = pd.read_csv(\"C:/Users/Dell-PC/Documents/Projekte/dfg-rating/data/real/Data_Football_National.csv\")"
   ]
  },
  {
   "cell_type": "code",
   "execution_count": 8,
   "id": "26ac3185",
   "metadata": {
    "tags": []
   },
   "outputs": [
    {
     "name": "stdout",
     "output_type": "stream",
     "text": [
      "Network loaded correctly\n"
     ]
    }
   ],
   "source": [
    "football_network = WhiteNetwork(\n",
    "    data=data_football_national,\n",
    "    #node1 = away\n",
    "    mapping={\n",
    "        \"node1\": {\n",
    "            \"id\": \"AwayID\",\n",
    "            \"name\": \"AwayTeam\",\n",
    "        },\n",
    "        \"node2\": {\n",
    "            \"id\": \"HomeID\",\n",
    "            \"name\": \"HomeTeam\",\n",
    "        },\n",
    "        \"day\": \"Date\",\n",
    "        \"dayIsTimestamp\": True,\n",
    "        \"ts_format\": \"%d.%m.%Y\",\n",
    "        \"season\": \"Season\",\n",
    "        \"result\": \"ResultFT\",\n",
    "        \"round\": \"day\",\n",
    "        \"odds\": {\n",
    "            \"maximumodds\": {\n",
    "                \"home\": \"OddsHomeMax\",\n",
    "                \"draw\": \"OddsDrawMax\",\n",
    "                \"away\": \"OddsAwayMax\"\n",
    "            },\n",
    "            \"averageodds\": {\n",
    "                \"home\": \"OddsHomeAvg\",\n",
    "                \"draw\": \"OddsDrawAvg\",\n",
    "                \"away\": \"OddsAwayAvg\"\n",
    "            },       \n",
    "        },\n",
    "        \"bets\": {}\n",
    "    }\n",
    "    \n",
    ")"
   ]
  },
  {
   "cell_type": "code",
   "execution_count": 9,
   "id": "78e67920",
   "metadata": {},
   "outputs": [
    {
     "name": "stdout",
     "output_type": "stream",
     "text": [
      "Network schedule\n",
      "(278 vs. 259 at season 2007/2008 round 0, day 0)\n",
      "(34 vs. 135 at season 2008/2009 round 1, day 1)\n",
      "(46 vs. 309 at season 2009/2010 round 1, day 1)\n",
      "---------------\n"
     ]
    }
   ],
   "source": [
    "#def first_season(edge):\n",
    "#    return (edge[2][\"season\"] == 2010)\n",
    "football_network.print_data(schedule=True)"
   ]
  },
  {
   "cell_type": "code",
   "execution_count": 10,
   "id": "bd5f3b73",
   "metadata": {},
   "outputs": [
    {
     "ename": "IndexError",
     "evalue": "index 259 is out of bounds for axis 0 with size 6",
     "output_type": "error",
     "traceback": [
      "\u001b[0;31m---------------------------------------------------------------------------\u001b[0m",
      "\u001b[0;31mIndexError\u001b[0m                                Traceback (most recent call last)",
      "\u001b[0;32m<ipython-input-10-dc30cec2d3b9>\u001b[0m in \u001b[0;36m<module>\u001b[0;34m\u001b[0m\n\u001b[1;32m      5\u001b[0m         \u001b[0mtrend\u001b[0m\u001b[0;34m=\u001b[0m\u001b[0mControlledRandomFunction\u001b[0m\u001b[0;34m(\u001b[0m\u001b[0mdistribution\u001b[0m\u001b[0;34m=\u001b[0m\u001b[0;34m'normal'\u001b[0m\u001b[0;34m,\u001b[0m \u001b[0mloc\u001b[0m\u001b[0;34m=\u001b[0m\u001b[0;36m0\u001b[0m\u001b[0;34m,\u001b[0m \u001b[0mscale\u001b[0m\u001b[0;34m=\u001b[0m\u001b[0;36m20\u001b[0m\u001b[0;34m/\u001b[0m\u001b[0;36m365\u001b[0m\u001b[0;34m)\u001b[0m\u001b[0;34m,\u001b[0m\u001b[0;34m\u001b[0m\u001b[0;34m\u001b[0m\u001b[0m\n\u001b[1;32m      6\u001b[0m         season_delta=ControlledRandomFunction(distribution='normal', loc=0, scale=10)),\n\u001b[0;32m----> 7\u001b[0;31m     \u001b[0mrating_name\u001b[0m\u001b[0;34m=\u001b[0m\u001b[0;34m'true_rating'\u001b[0m\u001b[0;34m\u001b[0m\u001b[0;34m\u001b[0m\u001b[0m\n\u001b[0m\u001b[1;32m      8\u001b[0m )\n\u001b[1;32m      9\u001b[0m \u001b[0;34m\u001b[0m\u001b[0m\n",
      "\u001b[0;32m~/Development/dshs/dfg-rating/dfg_rating/model/network/base_network.py\u001b[0m in \u001b[0;36madd_rating\u001b[0;34m(self, rating, rating_name, team_id, season)\u001b[0m\n\u001b[1;32m    540\u001b[0m         \u001b[0;32melse\u001b[0m\u001b[0;34m:\u001b[0m\u001b[0;34m\u001b[0m\u001b[0;34m\u001b[0m\u001b[0m\n\u001b[1;32m    541\u001b[0m             \u001b[0;32mfor\u001b[0m \u001b[0ms\u001b[0m \u001b[0;32min\u001b[0m \u001b[0mlist\u001b[0m\u001b[0;34m(\u001b[0m\u001b[0mget_seasons\u001b[0m\u001b[0;34m(\u001b[0m\u001b[0mself\u001b[0m\u001b[0;34m.\u001b[0m\u001b[0miterate_over_games\u001b[0m\u001b[0;34m(\u001b[0m\u001b[0;34m)\u001b[0m\u001b[0;34m)\u001b[0m\u001b[0;34m)\u001b[0m\u001b[0;34m:\u001b[0m\u001b[0;34m\u001b[0m\u001b[0;34m\u001b[0m\u001b[0m\n\u001b[0;32m--> 542\u001b[0;31m                 \u001b[0mself\u001b[0m\u001b[0;34m.\u001b[0m\u001b[0madd_season_rating\u001b[0m\u001b[0;34m(\u001b[0m\u001b[0mrating\u001b[0m\u001b[0;34m,\u001b[0m \u001b[0mrating_name\u001b[0m\u001b[0;34m,\u001b[0m \u001b[0mteam_id\u001b[0m\u001b[0;34m,\u001b[0m \u001b[0ms\u001b[0m\u001b[0;34m)\u001b[0m\u001b[0;34m\u001b[0m\u001b[0;34m\u001b[0m\u001b[0m\n\u001b[0m\u001b[1;32m    543\u001b[0m \u001b[0;34m\u001b[0m\u001b[0m\n\u001b[1;32m    544\u001b[0m     \u001b[0;32mdef\u001b[0m \u001b[0madd_season_rating\u001b[0m\u001b[0;34m(\u001b[0m\u001b[0mself\u001b[0m\u001b[0;34m,\u001b[0m \u001b[0mrating\u001b[0m\u001b[0;34m,\u001b[0m \u001b[0mrating_name\u001b[0m\u001b[0;34m,\u001b[0m \u001b[0mteam_id\u001b[0m\u001b[0;34m,\u001b[0m \u001b[0mseason\u001b[0m\u001b[0;34m)\u001b[0m\u001b[0;34m:\u001b[0m\u001b[0;34m\u001b[0m\u001b[0;34m\u001b[0m\u001b[0m\n",
      "\u001b[0;32m~/Development/dshs/dfg-rating/dfg_rating/model/network/base_network.py\u001b[0m in \u001b[0;36madd_season_rating\u001b[0;34m(self, rating, rating_name, team_id, season)\u001b[0m\n\u001b[1;32m    555\u001b[0m             \u001b[0mself\u001b[0m\u001b[0;34m.\u001b[0m\u001b[0m_add_rating_to_team\u001b[0m\u001b[0;34m(\u001b[0m\u001b[0mteam_id\u001b[0m\u001b[0;34m,\u001b[0m \u001b[0mrating_values\u001b[0m\u001b[0;34m,\u001b[0m \u001b[0mrating_hp\u001b[0m\u001b[0;34m,\u001b[0m \u001b[0mrating_name\u001b[0m\u001b[0;34m,\u001b[0m \u001b[0mseason\u001b[0m\u001b[0;34m=\u001b[0m\u001b[0mseason\u001b[0m\u001b[0;34m)\u001b[0m\u001b[0;34m\u001b[0m\u001b[0;34m\u001b[0m\u001b[0m\n\u001b[1;32m    556\u001b[0m         \u001b[0;32melse\u001b[0m\u001b[0;34m:\u001b[0m\u001b[0;34m\u001b[0m\u001b[0;34m\u001b[0m\u001b[0m\n\u001b[0;32m--> 557\u001b[0;31m             \u001b[0mratings\u001b[0m\u001b[0;34m,\u001b[0m \u001b[0mrating_hp\u001b[0m \u001b[0;34m=\u001b[0m \u001b[0mrating\u001b[0m\u001b[0;34m.\u001b[0m\u001b[0mget_all_ratings\u001b[0m\u001b[0;34m(\u001b[0m\u001b[0mself\u001b[0m\u001b[0;34m,\u001b[0m \u001b[0medge_filter\u001b[0m\u001b[0;34m)\u001b[0m\u001b[0;34m\u001b[0m\u001b[0;34m\u001b[0m\u001b[0m\n\u001b[0m\u001b[1;32m    558\u001b[0m             \u001b[0;32mfor\u001b[0m \u001b[0mteam_i\u001b[0m\u001b[0;34m,\u001b[0m \u001b[0mteam\u001b[0m \u001b[0;32min\u001b[0m \u001b[0menumerate\u001b[0m\u001b[0;34m(\u001b[0m\u001b[0mself\u001b[0m\u001b[0;34m.\u001b[0m\u001b[0mdata\u001b[0m\u001b[0;34m.\u001b[0m\u001b[0mnodes\u001b[0m\u001b[0;34m)\u001b[0m\u001b[0;34m:\u001b[0m\u001b[0;34m\u001b[0m\u001b[0;34m\u001b[0m\u001b[0m\n\u001b[1;32m    559\u001b[0m                 \u001b[0mself\u001b[0m\u001b[0;34m.\u001b[0m\u001b[0m_add_rating_to_team\u001b[0m\u001b[0;34m(\u001b[0m\u001b[0mint\u001b[0m\u001b[0;34m(\u001b[0m\u001b[0mteam\u001b[0m\u001b[0;34m)\u001b[0m\u001b[0;34m,\u001b[0m \u001b[0mratings\u001b[0m\u001b[0;34m[\u001b[0m\u001b[0mteam_i\u001b[0m\u001b[0;34m]\u001b[0m\u001b[0;34m,\u001b[0m \u001b[0mrating_hp\u001b[0m\u001b[0;34m,\u001b[0m \u001b[0mrating_name\u001b[0m\u001b[0;34m,\u001b[0m \u001b[0mseason\u001b[0m\u001b[0;34m=\u001b[0m\u001b[0mseason\u001b[0m\u001b[0;34m)\u001b[0m\u001b[0;34m\u001b[0m\u001b[0;34m\u001b[0m\u001b[0m\n",
      "\u001b[0;32m~/Development/dshs/dfg-rating/dfg_rating/model/rating/controlled_trend_rating.py\u001b[0m in \u001b[0;36mget_all_ratings\u001b[0;34m(self, n, edge_filter)\u001b[0m\n\u001b[1;32m     61\u001b[0m                     \u001b[0mcurrent_position\u001b[0m \u001b[0;34m=\u001b[0m \u001b[0;34m(\u001b[0m\u001b[0mcurrent_season\u001b[0m \u001b[0;34m*\u001b[0m \u001b[0;34m(\u001b[0m\u001b[0mself\u001b[0m\u001b[0;34m.\u001b[0m\u001b[0mrounds_per_season\u001b[0m \u001b[0;34m+\u001b[0m \u001b[0;36m2\u001b[0m\u001b[0;34m)\u001b[0m\u001b[0;34m)\u001b[0m \u001b[0;34m+\u001b[0m \u001b[0;34m(\u001b[0m\u001b[0mcurrent_round\u001b[0m \u001b[0;34m+\u001b[0m \u001b[0;36m1\u001b[0m\u001b[0;34m)\u001b[0m\u001b[0;34m\u001b[0m\u001b[0;34m\u001b[0m\u001b[0m\n\u001b[1;32m     62\u001b[0m                     ratings[away_team, current_position] = ratings[\n\u001b[0;32m---> 63\u001b[0;31m                                                                \u001b[0maway_team\u001b[0m\u001b[0;34m,\u001b[0m \u001b[0mcurrent_position\u001b[0m \u001b[0;34m-\u001b[0m \u001b[0;36m1\u001b[0m\u001b[0;34m\u001b[0m\u001b[0;34m\u001b[0m\u001b[0m\n\u001b[0m\u001b[1;32m     64\u001b[0m                                                            ] + self.new_rating_value(away_team, match_data)\n\u001b[1;32m     65\u001b[0m                     \u001b[0mself\u001b[0m\u001b[0;34m.\u001b[0m\u001b[0magg\u001b[0m\u001b[0;34m[\u001b[0m\u001b[0maway_team\u001b[0m\u001b[0;34m]\u001b[0m\u001b[0;34m[\u001b[0m\u001b[0;34m'last_day'\u001b[0m\u001b[0;34m]\u001b[0m \u001b[0;34m=\u001b[0m \u001b[0mmatch_data\u001b[0m\u001b[0;34m[\u001b[0m\u001b[0;34m'day'\u001b[0m\u001b[0;34m]\u001b[0m\u001b[0;34m\u001b[0m\u001b[0;34m\u001b[0m\u001b[0m\n",
      "\u001b[0;31mIndexError\u001b[0m: index 259 is out of bounds for axis 0 with size 6"
     ]
    }
   ],
   "source": [
    "football_network.add_rating(\n",
    "    rating=ControlledTrendRating(\n",
    "        starting_point=ControlledRandomFunction(distribution='normal', loc=1000, scale=100),\n",
    "        delta=ControlledRandomFunction(distribution='normal', loc=0, scale=3),\n",
    "        trend=ControlledRandomFunction(distribution='normal', loc=0, scale=20/365),\n",
    "        season_delta=ControlledRandomFunction(distribution='normal', loc=0, scale=10)),\n",
    "    rating_name='true_rating'\n",
    ")\n",
    "\n",
    "football_network.add_forecast(\n",
    "    forecast=LogFunctionForecast(outcomes=['home', 'draw', 'away'], coefficients=[-1.2, 0.0], beta_parameter=0.006),\n",
    "    forecast_name='bookmaker_forecast',\n",
    "    base_ranking='true_rating'\n",
    ")\n",
    "\n",
    "#football_network.add_rating(\n",
    "#    new_rating=ELORating(trained=True, **{'param.c' : 10,\n",
    "#                                           'param.d' : 400,\n",
    "#                                           'param.k' : 14,\n",
    "#                                           'param.w' : 50}),\n",
    "#                                            rating_name='player_rating'\n",
    "#    )\n",
    "#football_network.data.nodes[278]\n",
    "\n",
    "#football_network.export(ratings = ['player_rating'])\n",
    "\n",
    "#football_data = pd.read_excel(os.path.join('..', '..', 'data', 'real', 'nation_teams_competitions.xlsx'), engine='openpyxl')"
   ]
  },
  {
   "cell_type": "code",
   "execution_count": null,
   "id": "6aff0358",
   "metadata": {},
   "outputs": [],
   "source": [
    "list(football_network.data.nodes)"
   ]
  },
  {
   "cell_type": "code",
   "execution_count": null,
   "id": "bd252360",
   "metadata": {},
   "outputs": [],
   "source": [
    "football_network.data.nodes[278]"
   ]
  },
  {
   "cell_type": "code",
   "execution_count": null,
   "id": "10bd7e8f",
   "metadata": {},
   "outputs": [],
   "source": [
    "football_data.Season.unique()"
   ]
  },
  {
   "cell_type": "code",
   "execution_count": null,
   "id": "0b1ad19f",
   "metadata": {},
   "outputs": [],
   "source": [
    "football_network = WhiteNetwork(\n",
    "    data=football_data,\n",
    "    mapping={\n",
    "        \"node1\": {\n",
    "            \"id\": \"Team away\",\n",
    "            \"name\": \"Team away\"\n",
    "        },\n",
    "        \"node2\": {\n",
    "            \"id\": \"Team home\",\n",
    "            \"name\": \"Team home\"\n",
    "        },\n",
    "        \"day\": \"Date\",\n",
    "        \"dayIsTimestamp\": True,\n",
    "        \"round\": \"Round\",\n",
    "        \"season\": \"Season\",\n",
    "        \"forecasts\": {},\n",
    "        \"odds\": {},\n",
    "        \"bets\": {}\n",
    "    }\n",
    ")"
   ]
  },
  {
   "cell_type": "code",
   "execution_count": null,
   "id": "1541b2e3",
   "metadata": {},
   "outputs": [],
   "source": [
    "def first_season(edge):\n",
    "    return (edge[2][\"season\"] == \"2019/2020\")\n",
    "football_network.print_data(schedule=True, edge_filter=first_season)"
   ]
  },
  {
   "cell_type": "code",
   "execution_count": null,
   "id": "214874a2",
   "metadata": {},
   "outputs": [],
   "source": []
  },
  {
   "cell_type": "code",
   "execution_count": null,
   "id": "bc49ce72",
   "metadata": {},
   "outputs": [],
   "source": []
  }
 ],
 "metadata": {
  "kernelspec": {
   "display_name": "Python 3",
   "language": "python",
   "name": "python3"
  },
  "language_info": {
   "codemirror_mode": {
    "name": "ipython",
    "version": 3
   },
   "file_extension": ".py",
   "mimetype": "text/x-python",
   "name": "python",
   "nbconvert_exporter": "python",
   "pygments_lexer": "ipython3",
   "version": "3.6.10"
  }
 },
 "nbformat": 4,
 "nbformat_minor": 5
}
