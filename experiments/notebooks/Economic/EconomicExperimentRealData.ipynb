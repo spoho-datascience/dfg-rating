{
 "cells": [
  {
   "cell_type": "markdown",
   "id": "f2977d2a",
   "metadata": {},
   "source": [
    "### Import"
   ]
  },
  {
   "cell_type": "code",
   "execution_count": 48,
   "id": "d845280e",
   "metadata": {},
   "outputs": [],
   "source": [
    "import os\n",
    "import itertools\n",
    "import time\n",
    "import pandas as pd\n",
    "import numpy as np\n",
    "\n",
    "from dfg_rating.model import factory\n",
    "import dfg_rating.viz.jupyter_widgets as DFGViz\n",
    "\n",
    "from dfg_rating.model.rating.elo_rating import ELORating\n",
    "from dfg_rating.model.network.base_network import WhiteNetwork\n",
    "from dfg_rating.model.forecast.true_forecast import LogFunctionForecast\n",
    "from dfg_rating.model.rating.controlled_trend_rating import ControlledTrendRating, ControlledRandomFunction\n",
    "\n",
    "\n",
    "from dfg_rating.model.betting.betting import FixedBetting\n",
    "from dfg_rating.model.bookmaker.base_bookmaker import BaseBookmaker\n",
    "from dfg_rating.model.evaluators.accuracy import RankProbabilityScore, Likelihood, ProbabilityDifference, ProbabilityPointer, FavouriteProbability\n",
    "from dfg_rating.model.evaluators.profitability import BettingReturnsEvaluator\n",
    "from dfg_rating.model.evaluators.base_evaluators import BettingActivity\n",
    "\n",
    "pd.set_option('display.max_columns', None)\n",
    "pd.set_option('display.max_rows', None)\n",
    "pd.options.display.width = None\n",
    "pd.set_option('display.float_format', lambda x: '%.5f' % x)"
   ]
  },
  {
   "cell_type": "markdown",
   "id": "e4605c87",
   "metadata": {},
   "source": [
    "### Loading real data"
   ]
  },
  {
   "cell_type": "code",
   "execution_count": 2,
   "id": "43a59d50",
   "metadata": {},
   "outputs": [],
   "source": [
    "data_football_national = pd.read_csv(os.path.join('..', '..', '..', 'data', 'real', 'Data_Football_National.csv'),sep = \";\")\n",
    "#data_football_national = pd.read_csv(\"C:/Users/Dell-PC/Documents/Projekte/dfg-rating/data/real/Data_Football_National.csv\")"
   ]
  },
  {
   "cell_type": "markdown",
   "id": "c8bc5b4f",
   "metadata": {},
   "source": [
    "New mapping available:\n",
    " - ts_format: Timestamp format\n",
    " - winner with result and translation to (home, draw, away)."
   ]
  },
  {
   "cell_type": "code",
   "execution_count": 3,
   "id": "c4569631",
   "metadata": {
    "tags": []
   },
   "outputs": [
    {
     "name": "stdout",
     "output_type": "stream",
     "text": [
      "Network loaded correctly\n"
     ]
    }
   ],
   "source": [
    "football_network = WhiteNetwork(\n",
    "    data=data_football_national,\n",
    "    #node1 = away\n",
    "    mapping={\n",
    "        \"node1\": {\n",
    "            \"id\": \"AwayID\",\n",
    "            \"name\": \"AwayTeam\",\n",
    "        },\n",
    "        \"node2\": {\n",
    "            \"id\": \"HomeID\",\n",
    "            \"name\": \"HomeTeam\",\n",
    "        },\n",
    "        \"day\": \"Date\",\n",
    "        \"dayIsTimestamp\": True,\n",
    "        \"ts_format\": \"%d.%m.%Y\",\n",
    "        \"season\": \"Season\",\n",
    "        \"winner\": {\n",
    "            \"result\": \"ResultFT\",\n",
    "            \"translation\": {\n",
    "                \"H\": \"home\",\n",
    "                \"D\": \"draw\",\n",
    "                \"A\": \"away\"\n",
    "            }\n",
    "        },\n",
    "        \"round\": \"day\",\n",
    "        \"odds\": {\n",
    "            \"maximumodds\": {\n",
    "                \"home\": \"OddsHomeMax\",\n",
    "                \"draw\": \"OddsDrawMax\",\n",
    "                \"away\": \"OddsAwayMax\"\n",
    "            },\n",
    "            \"averageodds\": {\n",
    "                \"home\": \"OddsHomeAvg\",\n",
    "                \"draw\": \"OddsDrawAvg\",\n",
    "                \"away\": \"OddsAwayAvg\"\n",
    "            },\n",
    "        },\n",
    "        \"bets\": {}\n",
    "    }\n",
    ")"
   ]
  },
  {
   "cell_type": "markdown",
   "id": "07011ca8",
   "metadata": {},
   "source": [
    "### Adding ratings to the loaded network"
   ]
  },
  {
   "cell_type": "code",
   "execution_count": 4,
   "id": "7f6e05af",
   "metadata": {},
   "outputs": [],
   "source": [
    "football_network.add_rating(\n",
    "    rating=ELORating(\n",
    "        trained=True, \n",
    "        rating_name='player_rating',\n",
    "        **{\n",
    "            'param_c' : 10,\n",
    "            'param_d' : 400,\n",
    "            'param_k' : 14,\n",
    "            'param_w' : 50\n",
    "        }\n",
    "    ),\n",
    "    rating_name='player_rating'\n",
    ")"
   ]
  },
  {
   "cell_type": "markdown",
   "id": "9dfeefbd",
   "metadata": {},
   "source": [
    "Rating explorer (Only useful the first chart, ignore the others)"
   ]
  },
  {
   "cell_type": "code",
   "execution_count": 10,
   "id": "d711dcc5",
   "metadata": {},
   "outputs": [],
   "source": [
    "app = DFGViz.RatingsExplorer(\n",
    "    network=football_network\n",
    ")"
   ]
  },
  {
   "cell_type": "code",
   "execution_count": 11,
   "id": "a9a9cd61",
   "metadata": {},
   "outputs": [
    {
     "data": {
      "text/html": [
       "\n",
       "        <iframe\n",
       "            width=\"100%\"\n",
       "            height=\"650\"\n",
       "            src=\"http://127.0.0.1:8050/\"\n",
       "            frameborder=\"0\"\n",
       "            allowfullscreen\n",
       "        ></iframe>\n",
       "        "
      ],
      "text/plain": [
       "<IPython.lib.display.IFrame at 0x7f7163f90a20>"
      ]
     },
     "metadata": {},
     "output_type": "display_data"
    }
   ],
   "source": [
    "app.run('inline')"
   ]
  },
  {
   "cell_type": "markdown",
   "id": "7584fb3f",
   "metadata": {},
   "source": [
    "### Adding a forecast from the added rating"
   ]
  },
  {
   "cell_type": "code",
   "execution_count": 5,
   "id": "d5ea9065",
   "metadata": {},
   "outputs": [],
   "source": [
    "football_network.add_forecast(\n",
    "    forecast=LogFunctionForecast(outcomes=['home', 'draw', 'away'], coefficients=[-1.2, 0.0], beta_parameter=0.006),\n",
    "    forecast_name='player_forecast',\n",
    "    base_ranking='player_rating'\n",
    ")\n",
    "football_network.add_forecast(\n",
    "    forecast=LogFunctionForecast(outcomes=['home', 'draw', 'away'], coefficients=[-0.9, 0.3], beta_parameter=0.006),\n",
    "    forecast_name='true_forecast',\n",
    "    base_ranking='player_rating'\n",
    ")"
   ]
  },
  {
   "cell_type": "markdown",
   "id": "09f51531",
   "metadata": {},
   "source": [
    "Exploring the forecasts manually"
   ]
  },
  {
   "cell_type": "code",
   "execution_count": 6,
   "id": "5530728d",
   "metadata": {},
   "outputs": [
    {
     "data": {
      "text/plain": [
       "[1, 2, 3, 4, 5, 6, 7, 8, 9, 10]"
      ]
     },
     "execution_count": 6,
     "metadata": {},
     "output_type": "execute_result"
    }
   ],
   "source": [
    "football_network.get_seasons()"
   ]
  },
  {
   "cell_type": "code",
   "execution_count": 13,
   "id": "c083c77a",
   "metadata": {},
   "outputs": [],
   "source": [
    "app_f = DFGViz.ForecastExplorer(\n",
    "    network=football_network,\n",
    "    ratings=[\"player_rating\"]\n",
    ")"
   ]
  },
  {
   "cell_type": "code",
   "execution_count": 14,
   "id": "7f78ec7a",
   "metadata": {},
   "outputs": [
    {
     "data": {
      "text/html": [
       "\n",
       "        <iframe\n",
       "            width=\"100%\"\n",
       "            height=\"650\"\n",
       "            src=\"http://127.0.0.1:8050/\"\n",
       "            frameborder=\"0\"\n",
       "            allowfullscreen\n",
       "        ></iframe>\n",
       "        "
      ],
      "text/plain": [
       "<IPython.lib.display.IFrame at 0x7f71603beeb8>"
      ]
     },
     "metadata": {},
     "output_type": "display_data"
    }
   ],
   "source": [
    "app_f.run('inline')"
   ]
  },
  {
   "cell_type": "markdown",
   "id": "4d113db3",
   "metadata": {},
   "source": [
    "### Inside loop functions"
   ]
  },
  {
   "cell_type": "code",
   "execution_count": 24,
   "id": "718ae990",
   "metadata": {},
   "outputs": [],
   "source": [
    "def add_elo_rating(k, n, name):\n",
    "    n.add_rating(\n",
    "    rating=ELORating(\n",
    "        trained=True, \n",
    "        rating_name=name,\n",
    "        **{\n",
    "            'param_c' : 10,\n",
    "            'param_d' : 400,\n",
    "            'param_k' : k,\n",
    "            'param_w' : 50\n",
    "        }\n",
    "    ),\n",
    "    rating_name=name\n",
    ")"
   ]
  },
  {
   "cell_type": "code",
   "execution_count": 39,
   "id": "8e6421e4",
   "metadata": {},
   "outputs": [],
   "source": [
    "def aggregate_measures(list_of_matches, prefix='', addBettingMetrics=True):\n",
    "    if addBettingMetrics:\n",
    "        return {\n",
    "            prefix+'_rps': np.mean([m[3]['metrics']['rps'] for m in list_of_matches]),\n",
    "            prefix+'_likelihood': sum([m[3]['metrics']['likelihood'] for m in list_of_matches]),\n",
    "            prefix+'_prob_diff': np.mean([m[3]['metrics']['prob_diff'] for m in list_of_matches]),\n",
    "            prefix+'_draw_prob': np.mean([m[3]['metrics']['draw_prob'] for m in list_of_matches]),\n",
    "            prefix+'_fav_prob': np.mean([m[3]['metrics']['fav_prob'] for m in list_of_matches]),\n",
    "            prefix+'_betting_returns': sum([sum([b[0] for b in m[3]['metrics']['betting_returns']]) for m in list_of_matches]),\n",
    "            prefix+'_betting_returns_expected': sum([sum(b[1] for b in m[3]['metrics']['betting_returns']) for m in list_of_matches]),\n",
    "            prefix+'_betting_activity': sum([m[3]['metrics']['betting_activity']['qty'] for m in list_of_matches])\n",
    "        }\n",
    "    else:\n",
    "        return {\n",
    "            prefix+'_rps': np.mean([m[3]['metrics']['rps'] for m in list_of_matches]),\n",
    "            prefix+'_likelihood': sum([m[3]['metrics']['likelihood'] for m in list_of_matches]),\n",
    "            prefix+'_prob_diff': np.mean([m[3]['metrics']['prob_diff'] for m in list_of_matches]),\n",
    "            prefix+'_draw_prob': np.mean([m[3]['metrics']['draw_prob'] for m in list_of_matches]),\n",
    "            prefix+'_fav_prob': np.mean([m[3]['metrics']['fav_prob'] for m in list_of_matches])\n",
    "        }"
   ]
  },
  {
   "cell_type": "markdown",
   "id": "f808a7f3",
   "metadata": {
    "tags": []
   },
   "source": [
    "## Betting config"
   ]
  },
  {
   "cell_type": "markdown",
   "id": "4b285d07",
   "metadata": {},
   "source": [
    "We create a bookmaker and a betting strategy that are going to interact with the generated networks."
   ]
  },
  {
   "cell_type": "code",
   "execution_count": 30,
   "id": "c1d440ce",
   "metadata": {
    "tags": []
   },
   "outputs": [],
   "source": [
    "bookmaker: BaseBookmaker = factory.new_bookmaker(\n",
    "    'simple',\n",
    "    error=factory.new_forecast_error(error_type='factor', error=0.0, scope='positive'),\n",
    "    margin=factory.new_bookmaker_margin('simple', margin=0.10)\n",
    ")"
   ]
  },
  {
   "cell_type": "code",
   "execution_count": 31,
   "id": "978a56a4",
   "metadata": {
    "tags": []
   },
   "outputs": [],
   "source": [
    "betting = FixedBetting(100)"
   ]
  },
  {
   "cell_type": "markdown",
   "id": "5cc108a5",
   "metadata": {},
   "source": [
    "We also create an error rating that we are going to use for the calculated forecasts"
   ]
  },
  {
   "cell_type": "code",
   "execution_count": 9,
   "id": "35beb874",
   "metadata": {
    "tags": []
   },
   "outputs": [],
   "source": [
    "rating_error = RatingFunctionError(error='normal', loc=config[\"rating_error_loc\"], scale=config[\"rating_error_scale\"])\n",
    "rating_error_bookmaker = RatingFunctionError(error='normal', loc=config[\"bookmaker_rating_error_loc\"], scale=config[\"bookmaker_rating_error_scale\"])"
   ]
  },
  {
   "cell_type": "markdown",
   "id": "66aa04c6",
   "metadata": {},
   "source": [
    "### Small loops to test"
   ]
  },
  {
   "cell_type": "markdown",
   "id": "4d608d38",
   "metadata": {},
   "source": [
    "Full options"
   ]
  },
  {
   "cell_type": "code",
   "execution_count": 17,
   "id": "01247f07",
   "metadata": {},
   "outputs": [],
   "source": [
    "k_options = range(5,35,1)\n",
    "c0_options = np.arange(-1.20, -0.60, 0.1)\n",
    "c1_options = np.arange(0.0, 0.60, 0.1)\n",
    "beta_options = np.arange(0.002, 0.010, 0.002)"
   ]
  },
  {
   "cell_type": "markdown",
   "id": "0d509faf",
   "metadata": {},
   "source": [
    "Small options"
   ]
  },
  {
   "cell_type": "code",
   "execution_count": 45,
   "id": "f3a2e4fc",
   "metadata": {},
   "outputs": [],
   "source": [
    "k_options = range(15,16,1)\n",
    "c0_options = np.arange(-1.20, -1.00, 0.1)\n",
    "c1_options = np.arange(0.0, 0.2, 0.1)\n",
    "beta_options = np.arange(0.006, 0.008, 0.002)"
   ]
  },
  {
   "cell_type": "code",
   "execution_count": 46,
   "id": "c00cdd65",
   "metadata": {},
   "outputs": [
    {
     "name": "stdout",
     "output_type": "stream",
     "text": [
      "Rating <elo_rating_15>\n",
      "Variables: c0: -1.2, c1: 0.0 and beta: 0.006\n",
      "Finished in 4.935105085372925 seconds\n",
      "Variables: c0: -1.2, c1: 0.1 and beta: 0.006\n",
      "Finished in 5.673072576522827 seconds\n",
      "Variables: c0: -1.0999999999999999, c1: 0.0 and beta: 0.006\n",
      "Finished in 4.944552898406982 seconds\n",
      "Variables: c0: -1.0999999999999999, c1: 0.1 and beta: 0.006\n",
      "Finished in 4.918301582336426 seconds\n",
      "Experiment finished in 21.47538113594055 seconds with 4 observations.\n"
     ]
    }
   ],
   "source": [
    "experiment_start_time = time.time()\n",
    "result_list = []\n",
    "for k in k_options:\n",
    "    rating_name = f\"elo_rating_{k}\"\n",
    "    print(f\"Rating <{rating_name}>\")\n",
    "    add_elo_rating(k, football_network, rating_name)\n",
    "    for c0, c1, beta in itertools.product(c0_options, c1_options, beta_options):\n",
    "        print(f'Variables: c0: {c0}, c1: {c1} and beta: {beta}')\n",
    "        forecast_pointer = f\"player_{k}_forecast_{c0:.2f}_{c1:.2f}_{beta:.3f}\"\n",
    "        cell_start_time = time.time()\n",
    "        football_network.add_forecast(\n",
    "            forecast=LogFunctionForecast(\n",
    "                outcomes=['home', 'draw', 'away'], \n",
    "                coefficients=[c0, c1], \n",
    "                beta_parameter=beta\n",
    "            ),\n",
    "            forecast_name=forecast_pointer,\n",
    "            base_ranking=rating_name\n",
    "        )\n",
    "        football_network.add_bets(\n",
    "            bettor_name='b',\n",
    "            bookmaker='averageodds',\n",
    "            betting=betting,\n",
    "            base_forecast=forecast_pointer\n",
    "        )\n",
    "        rps = RankProbabilityScore(outcomes=['home', 'draw', 'away'], forecast_name=forecast_pointer)\n",
    "        betting_returns = BettingReturnsEvaluator(\n",
    "            outcomes=['home', 'draw', 'away'], \n",
    "            player_name='b', \n",
    "            true_model=forecast_pointer, \n",
    "            bookmaker_name='averageodds'\n",
    "        )\n",
    "        betting_activity = BettingActivity(outcomes=['home', 'draw', 'away'], player_name='b')\n",
    "        likelihood = Likelihood(outcomes=['home', 'draw', 'away'], forecast_name=forecast_pointer)\n",
    "        difference = ProbabilityDifference(outcomes=['home', 'draw', 'away'], forecast_name=forecast_pointer)\n",
    "        draw_probability = ProbabilityPointer(outcomes=['home', 'draw', 'away'], forecast_name=forecast_pointer, probability_index=1)\n",
    "        fav_probability = FavouriteProbability(outcomes=['home', 'draw', 'away'], forecast_name=forecast_pointer)\n",
    "\n",
    "        football_network.add_evaluation([\n",
    "            (rps, 'rps'),\n",
    "            (betting_returns, 'betting_returns'),\n",
    "            (betting_activity, 'betting_activity'),\n",
    "            (likelihood, 'likelihood'),\n",
    "            (difference, 'prob_diff'),\n",
    "            (draw_probability, 'draw_prob'),\n",
    "            (fav_probability, 'fav_prob')\n",
    "        ])\n",
    "        all_matches = [(a,h, match_id, match_attributes) for a,h, match_id, match_attributes in football_network.iterate_over_games()]\n",
    "        result_all = aggregate_measures(all_matches, 'all')\n",
    "        result_is = aggregate_measures([m for m in all_matches if m[3]['season'] <= 3], 'is')\n",
    "        result_oos = aggregate_measures([m for m in all_matches if m[3]['season'] > 3], 'oos')\n",
    "        result = {\n",
    "            'k': k, 'c0' : c0, 'c1' : c1, 'beta' : beta, **result_is, **result_oos, **result_all\n",
    "        }\n",
    "        result_list.append(result)\n",
    "        print(f\"Finished in {float(time.time() - cell_start_time)} seconds\")\n",
    "\n",
    "print(f\"Experiment finished in {float(time.time() - experiment_start_time)} seconds with {len(result_list)} observations.\")\n",
    "df = pd.DataFrame(result_list)"
   ]
  },
  {
   "cell_type": "code",
   "execution_count": 49,
   "id": "444bd235",
   "metadata": {},
   "outputs": [
    {
     "data": {
      "text/html": [
       "<div>\n",
       "<style scoped>\n",
       "    .dataframe tbody tr th:only-of-type {\n",
       "        vertical-align: middle;\n",
       "    }\n",
       "\n",
       "    .dataframe tbody tr th {\n",
       "        vertical-align: top;\n",
       "    }\n",
       "\n",
       "    .dataframe thead th {\n",
       "        text-align: right;\n",
       "    }\n",
       "</style>\n",
       "<table border=\"1\" class=\"dataframe\">\n",
       "  <thead>\n",
       "    <tr style=\"text-align: right;\">\n",
       "      <th></th>\n",
       "      <th>k</th>\n",
       "      <th>c0</th>\n",
       "      <th>c1</th>\n",
       "      <th>beta</th>\n",
       "      <th>is_rps</th>\n",
       "      <th>is_likelihood</th>\n",
       "      <th>is_prob_diff</th>\n",
       "      <th>is_draw_prob</th>\n",
       "      <th>is_fav_prob</th>\n",
       "      <th>is_betting_returns</th>\n",
       "      <th>is_betting_returns_expected</th>\n",
       "      <th>is_betting_activity</th>\n",
       "      <th>oos_rps</th>\n",
       "      <th>oos_likelihood</th>\n",
       "      <th>oos_prob_diff</th>\n",
       "      <th>oos_draw_prob</th>\n",
       "      <th>oos_fav_prob</th>\n",
       "      <th>oos_betting_returns</th>\n",
       "      <th>oos_betting_returns_expected</th>\n",
       "      <th>oos_betting_activity</th>\n",
       "      <th>all_rps</th>\n",
       "      <th>all_likelihood</th>\n",
       "      <th>all_prob_diff</th>\n",
       "      <th>all_draw_prob</th>\n",
       "      <th>all_fav_prob</th>\n",
       "      <th>all_betting_returns</th>\n",
       "      <th>all_betting_returns_expected</th>\n",
       "      <th>all_betting_activity</th>\n",
       "    </tr>\n",
       "  </thead>\n",
       "  <tbody>\n",
       "    <tr>\n",
       "      <th>0</th>\n",
       "      <td>15</td>\n",
       "      <td>-1.20000</td>\n",
       "      <td>0.00000</td>\n",
       "      <td>0.00600</td>\n",
       "      <td>0.21482</td>\n",
       "      <td>-11733.22009</td>\n",
       "      <td>0.26001</td>\n",
       "      <td>0.26122</td>\n",
       "      <td>0.50721</td>\n",
       "      <td>-1189.41000</td>\n",
       "      <td>3041.24016</td>\n",
       "      <td>10885</td>\n",
       "      <td>0.20906</td>\n",
       "      <td>-27181.36481</td>\n",
       "      <td>0.25136</td>\n",
       "      <td>0.25226</td>\n",
       "      <td>0.52618</td>\n",
       "      <td>-2383.46000</td>\n",
       "      <td>5195.54264</td>\n",
       "      <td>26211</td>\n",
       "      <td>0.21078</td>\n",
       "      <td>-38914.58490</td>\n",
       "      <td>0.25394</td>\n",
       "      <td>0.25494</td>\n",
       "      <td>0.52052</td>\n",
       "      <td>-3572.87000</td>\n",
       "      <td>8236.78280</td>\n",
       "      <td>37096</td>\n",
       "    </tr>\n",
       "    <tr>\n",
       "      <th>1</th>\n",
       "      <td>15</td>\n",
       "      <td>-1.20000</td>\n",
       "      <td>0.10000</td>\n",
       "      <td>0.00600</td>\n",
       "      <td>0.21408</td>\n",
       "      <td>-11721.19384</td>\n",
       "      <td>0.23597</td>\n",
       "      <td>0.28527</td>\n",
       "      <td>0.48458</td>\n",
       "      <td>-1377.16000</td>\n",
       "      <td>2852.02802</td>\n",
       "      <td>12207</td>\n",
       "      <td>0.20804</td>\n",
       "      <td>-27101.80360</td>\n",
       "      <td>0.22834</td>\n",
       "      <td>0.27528</td>\n",
       "      <td>0.50564</td>\n",
       "      <td>-2317.30000</td>\n",
       "      <td>4717.19739</td>\n",
       "      <td>29275</td>\n",
       "      <td>0.20984</td>\n",
       "      <td>-38822.99744</td>\n",
       "      <td>0.23062</td>\n",
       "      <td>0.27826</td>\n",
       "      <td>0.49935</td>\n",
       "      <td>-3694.46000</td>\n",
       "      <td>7569.22541</td>\n",
       "      <td>41482</td>\n",
       "    </tr>\n",
       "    <tr>\n",
       "      <th>2</th>\n",
       "      <td>15</td>\n",
       "      <td>-1.10000</td>\n",
       "      <td>0.00000</td>\n",
       "      <td>0.00600</td>\n",
       "      <td>0.21420</td>\n",
       "      <td>-11719.44395</td>\n",
       "      <td>0.24191</td>\n",
       "      <td>0.24312</td>\n",
       "      <td>0.50887</td>\n",
       "      <td>-1122.35000</td>\n",
       "      <td>3242.99784</td>\n",
       "      <td>11127</td>\n",
       "      <td>0.20852</td>\n",
       "      <td>-27179.77948</td>\n",
       "      <td>0.23358</td>\n",
       "      <td>0.23448</td>\n",
       "      <td>0.52937</td>\n",
       "      <td>-2485.37000</td>\n",
       "      <td>5443.60995</td>\n",
       "      <td>26301</td>\n",
       "      <td>0.21022</td>\n",
       "      <td>-38899.22343</td>\n",
       "      <td>0.23607</td>\n",
       "      <td>0.23706</td>\n",
       "      <td>0.52325</td>\n",
       "      <td>-3607.72000</td>\n",
       "      <td>8686.60779</td>\n",
       "      <td>37428</td>\n",
       "    </tr>\n",
       "    <tr>\n",
       "      <th>3</th>\n",
       "      <td>15</td>\n",
       "      <td>-1.10000</td>\n",
       "      <td>0.10000</td>\n",
       "      <td>0.00600</td>\n",
       "      <td>0.21346</td>\n",
       "      <td>-11688.87230</td>\n",
       "      <td>0.21786</td>\n",
       "      <td>0.26717</td>\n",
       "      <td>0.48658</td>\n",
       "      <td>-1185.41000</td>\n",
       "      <td>2945.77177</td>\n",
       "      <td>10691</td>\n",
       "      <td>0.20750</td>\n",
       "      <td>-27055.72169</td>\n",
       "      <td>0.21056</td>\n",
       "      <td>0.25750</td>\n",
       "      <td>0.50921</td>\n",
       "      <td>-2527.99000</td>\n",
       "      <td>4662.04011</td>\n",
       "      <td>25827</td>\n",
       "      <td>0.20928</td>\n",
       "      <td>-38744.59399</td>\n",
       "      <td>0.21274</td>\n",
       "      <td>0.26038</td>\n",
       "      <td>0.50245</td>\n",
       "      <td>-3713.40000</td>\n",
       "      <td>7607.81188</td>\n",
       "      <td>36518</td>\n",
       "    </tr>\n",
       "  </tbody>\n",
       "</table>\n",
       "</div>"
      ],
      "text/plain": [
       "    k       c0      c1    beta  is_rps  is_likelihood  is_prob_diff  \\\n",
       "0  15 -1.20000 0.00000 0.00600 0.21482   -11733.22009       0.26001   \n",
       "1  15 -1.20000 0.10000 0.00600 0.21408   -11721.19384       0.23597   \n",
       "2  15 -1.10000 0.00000 0.00600 0.21420   -11719.44395       0.24191   \n",
       "3  15 -1.10000 0.10000 0.00600 0.21346   -11688.87230       0.21786   \n",
       "\n",
       "   is_draw_prob  is_fav_prob  is_betting_returns  is_betting_returns_expected  \\\n",
       "0       0.26122      0.50721         -1189.41000                   3041.24016   \n",
       "1       0.28527      0.48458         -1377.16000                   2852.02802   \n",
       "2       0.24312      0.50887         -1122.35000                   3242.99784   \n",
       "3       0.26717      0.48658         -1185.41000                   2945.77177   \n",
       "\n",
       "   is_betting_activity  oos_rps  oos_likelihood  oos_prob_diff  oos_draw_prob  \\\n",
       "0                10885  0.20906    -27181.36481        0.25136        0.25226   \n",
       "1                12207  0.20804    -27101.80360        0.22834        0.27528   \n",
       "2                11127  0.20852    -27179.77948        0.23358        0.23448   \n",
       "3                10691  0.20750    -27055.72169        0.21056        0.25750   \n",
       "\n",
       "   oos_fav_prob  oos_betting_returns  oos_betting_returns_expected  \\\n",
       "0       0.52618          -2383.46000                    5195.54264   \n",
       "1       0.50564          -2317.30000                    4717.19739   \n",
       "2       0.52937          -2485.37000                    5443.60995   \n",
       "3       0.50921          -2527.99000                    4662.04011   \n",
       "\n",
       "   oos_betting_activity  all_rps  all_likelihood  all_prob_diff  \\\n",
       "0                 26211  0.21078    -38914.58490        0.25394   \n",
       "1                 29275  0.20984    -38822.99744        0.23062   \n",
       "2                 26301  0.21022    -38899.22343        0.23607   \n",
       "3                 25827  0.20928    -38744.59399        0.21274   \n",
       "\n",
       "   all_draw_prob  all_fav_prob  all_betting_returns  \\\n",
       "0        0.25494       0.52052          -3572.87000   \n",
       "1        0.27826       0.49935          -3694.46000   \n",
       "2        0.23706       0.52325          -3607.72000   \n",
       "3        0.26038       0.50245          -3713.40000   \n",
       "\n",
       "   all_betting_returns_expected  all_betting_activity  \n",
       "0                    8236.78280                 37096  \n",
       "1                    7569.22541                 41482  \n",
       "2                    8686.60779                 37428  \n",
       "3                    7607.81188                 36518  "
      ]
     },
     "execution_count": 49,
     "metadata": {},
     "output_type": "execute_result"
    }
   ],
   "source": [
    "df"
   ]
  },
  {
   "cell_type": "code",
   "execution_count": null,
   "id": "29c1ffad",
   "metadata": {},
   "outputs": [],
   "source": []
  }
 ],
 "metadata": {
  "kernelspec": {
   "display_name": "Python 3",
   "language": "python",
   "name": "python3"
  },
  "language_info": {
   "codemirror_mode": {
    "name": "ipython",
    "version": 3
   },
   "file_extension": ".py",
   "mimetype": "text/x-python",
   "name": "python",
   "nbconvert_exporter": "python",
   "pygments_lexer": "ipython3",
   "version": "3.6.10"
  }
 },
 "nbformat": 4,
 "nbformat_minor": 5
}
