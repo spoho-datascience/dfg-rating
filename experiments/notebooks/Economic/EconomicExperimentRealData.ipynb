{
 "cells": [
  {
   "cell_type": "code",
   "execution_count": null,
   "metadata": {},
   "outputs": [],
   "source": [
    "import os\n",
    "import pandas as pd\n",
    "\n",
    "from dfg_rating.model.rating.elo_rating import ELORating\n",
    "from dfg_rating.model.network.base_network import WhiteNetwork\n",
    "from dfg_rating.model.forecast.true_forecast import LogFunctionForecast\n",
    "from dfg_rating.model.rating.controlled_trend_rating import ControlledTrendRating, ControlledRandomFunction\n"
   ]
  },
  {
   "cell_type": "code",
   "execution_count": null,
   "metadata": {},
   "outputs": [],
   "source": [
    "#data_football_national = pd.read_csv(os.path.join('..', '..', 'data', 'real', 'Data_Football_National.csv'))\n",
    "data_football_national = pd.read_csv(\"C:/Users/Dell-PC/Documents/Projekte/dfg-rating/data/real/Data_Football_National.csv\")"
   ]
  },
  {
   "cell_type": "code",
   "execution_count": null,
   "metadata": {},
   "outputs": [],
   "source": [
    "football_network = WhiteNetwork(\n",
    "    data=data_football_national,\n",
    "    #node1 = away\n",
    "    mapping={\n",
    "        \"node1\": {\n",
    "            \"id\": \"AwayID\",\n",
    "            \"name\": \"AwayTeam\",\n",
    "        },\n",
    "        \"node2\": {\n",
    "            \"id\": \"HomeID\",\n",
    "            \"name\": \"HomeTeam\",\n",
    "        },\n",
    "        \"day\": \"Date\",\n",
    "        \"dayIsTimestamp\": True,\n",
    "        \"season\": \"Season\",\n",
    "        \"result\": \"ResultFT\",\n",
    "        \"round\": \"Season\",\n",
    "        \"odds\": {\n",
    "            \"maximumodds\": {\n",
    "                \"home\": \"OddsHomeMax\",\n",
    "                \"draw\": \"OddsDrawMax\",\n",
    "                \"away\": \"OddsAwayMax\"\n",
    "            },\n",
    "            \"averageodds\": {\n",
    "                \"home\": \"OddsHomeAvg\",\n",
    "                \"draw\": \"OddsDrawAvg\",\n",
    "                \"away\": \"OddsAwayAvg\"\n",
    "            },       \n",
    "        },\n",
    "        \"bets\": {}\n",
    "    }\n",
    "    \n",
    ")"
   ]
  },
  {
   "cell_type": "code",
   "execution_count": null,
   "metadata": {},
   "outputs": [],
   "source": [
    "#def first_season(edge):\n",
    "#    return (edge[2][\"season\"] == 2010)\n",
    "football_network.print_data(schedule=True)"
   ]
  },
  {
   "cell_type": "code",
   "execution_count": null,
   "metadata": {},
   "outputs": [],
   "source": [
    "football_network.add_rating(\n",
    "    rating=ControlledTrendRating(starting_point=ControlledRandomFunction(distribution='normal', loc=1000, scale=100),\n",
    "                                     delta=ControlledRandomFunction(distribution='normal', loc=0, scale=3),\n",
    "                                     trend=ControlledRandomFunction(distribution='normal', loc=0, scale=20/365),\n",
    "                                     season_delta=ControlledRandomFunction(distribution='normal', loc=0, scale=10)),\n",
    "                                    rating_name='true_rating'\n",
    ")\n",
    "\n",
    "football_network.add_forecast(\n",
    "    forecast=LogFunctionForecast(outcomes=['home', 'draw', 'away'], coefficients=[-1.2, 0.0], beta_parameter=0.006),\n",
    "    forecast_name='bookmaker_forecast',\n",
    "    base_ranking='true_rating'\n",
    ")\n",
    "\n",
    "#football_network.add_rating(\n",
    "#    new_rating=ELORating(trained=True, **{'param.c' : 10,\n",
    "#                                           'param.d' : 400,\n",
    "#                                           'param.k' : 14,\n",
    "#                                           'param.w' : 50}),\n",
    "#                                            rating_name='player_rating'\n",
    "#    )\n",
    "#football_network.data.nodes[278]\n",
    "\n",
    "#football_network.export(ratings = ['player_rating'])\n",
    "\n",
    "#football_data = pd.read_excel(os.path.join('..', '..', 'data', 'real', 'nation_teams_competitions.xlsx'), engine='openpyxl')"
   ]
  },
  {
   "cell_type": "code",
   "execution_count": null,
   "metadata": {},
   "outputs": [],
   "source": [
    "football_network.data.nodes[278]"
   ]
  },
  {
   "cell_type": "code",
   "execution_count": null,
   "metadata": {},
   "outputs": [],
   "source": [
    "football_data.Season.unique()"
   ]
  },
  {
   "cell_type": "code",
   "execution_count": null,
   "metadata": {},
   "outputs": [],
   "source": [
    "football_network = WhiteNetwork(\n",
    "    data=football_data,\n",
    "    mapping={\n",
    "        \"node1\": {\n",
    "            \"id\": \"Team away\",\n",
    "            \"name\": \"Team away\"\n",
    "        },\n",
    "        \"node2\": {\n",
    "            \"id\": \"Team home\",\n",
    "            \"name\": \"Team home\"\n",
    "        },\n",
    "        \"day\": \"Date\",\n",
    "        \"dayIsTimestamp\": True,\n",
    "        \"round\": \"Round\",\n",
    "        \"season\": \"Season\",\n",
    "        \"forecasts\": {},\n",
    "        \"odds\": {},\n",
    "        \"bets\": {}\n",
    "    }\n",
    ")"
   ]
  },
  {
   "cell_type": "code",
   "execution_count": null,
   "metadata": {},
   "outputs": [],
   "source": [
    "def first_season(edge):\n",
    "    return (edge[2][\"season\"] == \"2019/2020\")\n",
    "football_network.print_data(schedule=True, edge_filter=first_season)"
   ]
  },
  {
   "cell_type": "code",
   "execution_count": null,
   "metadata": {},
   "outputs": [],
   "source": []
  },
  {
   "cell_type": "code",
   "execution_count": null,
   "metadata": {},
   "outputs": [],
   "source": []
  }
 ],
 "metadata": {
  "kernelspec": {
   "display_name": "Python 3",
   "language": "python",
   "name": "python3"
  },
  "language_info": {
   "codemirror_mode": {
    "name": "ipython",
    "version": 3
   },
   "file_extension": ".py",
   "mimetype": "text/x-python",
   "name": "python",
   "nbconvert_exporter": "python",
   "pygments_lexer": "ipython3",
   "version": "3.7.7"
  }
 },
 "nbformat": 4,
 "nbformat_minor": 5
}
