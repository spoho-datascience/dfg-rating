{
 "cells": [
  {
   "cell_type": "markdown",
   "metadata": {},
   "source": [
    "# Economic Experiment"
   ]
  },
  {
   "cell_type": "markdown",
   "metadata": {},
   "source": [
    "Add description of the experiment here"
   ]
  },
  {
   "cell_type": "markdown",
   "metadata": {},
   "source": [
    "## Import Statements"
   ]
  },
  {
   "cell_type": "code",
   "execution_count": 1,
   "metadata": {},
   "outputs": [],
   "source": [
    "from dfg_rating.model import factory\n",
    "from dfg_rating.model.betting.betting import FixedBetting\n",
    "from dfg_rating.model.bookmaker.base_bookmaker import BaseBookmaker\n",
    "from dfg_rating.model.evaluators.accuracy import RankProbabilityScore, Likelihood, ProbabilityDifference, ProbabilityPointer, FavouriteProbability\n",
    "from dfg_rating.model.evaluators.profitability import BettingReturnsEvaluator\n",
    "from dfg_rating.model.evaluators.base_evaluators import BettingActivity\n",
    "from dfg_rating.model.forecast.true_forecast import LogFunctionForecast\n",
    "from dfg_rating.model.network.base_network import BaseNetwork\n",
    "from dfg_rating.model.rating.controlled_trend_rating import ControlledTrendRating, ControlledRandomFunction\n",
    "\n",
    "#specify rating error\n",
    "from dfg_rating.model.rating.base_rating import RatingFunctionError\n",
    "\n",
    "from dfg_rating.logic.controller import Controller\n",
    "import pandas as pd\n",
    "import numpy as np\n",
    "import time\n",
    "from tqdm import tqdm\n",
    "import itertools as it\n",
    "\n",
    "pd.set_option('display.max_columns', None)\n",
    "pd.set_option('display.max_rows', None)\n",
    "pd.options.display.width = None\n",
    "pd.set_option('display.float_format', lambda x: '%.5f' % x)"
   ]
  },
  {
   "cell_type": "markdown",
   "metadata": {},
   "source": [
    "## Experiment configuration"
   ]
  },
  {
   "cell_type": "markdown",
   "metadata": {},
   "source": [
    "Two main things: The controller is the helper that includes the functions to load and save networks. A configuration object with the parameters of the experiment, more cells can be created with different configurations."
   ]
  },
  {
   "cell_type": "code",
   "execution_count": 2,
   "metadata": {
    "collapsed": false,
    "jupyter": {
     "outputs_hidden": false
    },
    "pycharm": {
     "name": "#%%\n"
    }
   },
   "outputs": [],
   "source": [
    "main_controller = Controller()"
   ]
  },
  {
   "cell_type": "code",
   "execution_count": 3,
   "metadata": {},
   "outputs": [],
   "source": [
    "experiment1 = dict(\n",
    "    test_name=\"Experiment1\", create_data=True,\n",
    "    bookmaker_error=0.0, bookmaker_margin=0.10,\n",
    "    betting_bankrole=100,\n",
    "    rating_error_loc=0, rating_error_scale=50,\n",
    "    bookmaker_rating_error_loc=0, bookmaker_rating_error_scale=25,\n",
    "    number_of_leagues=40,\n",
    "    number_of_teams=20, number_of_seasons=10,\n",
    "    true_forecast=dict(\n",
    "        coefficients=[-0.9,0.3],\n",
    "        beta=0.006\n",
    "    ),\n",
    "    bookmaker_forecast=dict(\n",
    "        coefficients=[-1.2, 0.0],\n",
    "        beta=0.006\n",
    "    ),\n",
    "    in_sample_maximum=5,\n",
    "    number_of_splits=20\n",
    ")"
   ]
  },
  {
   "cell_type": "code",
   "execution_count": 4,
   "metadata": {},
   "outputs": [],
   "source": [
    "experiment2 = dict(\n",
    "    test_name=\"Experiment2\", create_data=True,\n",
    "    bookmaker_error=0.0, bookmaker_margin=0.10,\n",
    "    betting_bankrole=100,\n",
    "    rating_error_loc=0, rating_error_scale=50,\n",
    "    bookmaker_rating_error_loc=0, bookmaker_rating_error_scale=25,\n",
    "    number_of_leagues=40,\n",
    "    number_of_teams=20, number_of_seasons=10,\n",
    "    true_forecast=dict(\n",
    "        coefficients=[-0.9,0.3],\n",
    "        beta=0.006\n",
    "    ),\n",
    "    bookmaker_forecast=dict(\n",
    "        coefficients=[-0.8, 0.2],\n",
    "        beta=0.006\n",
    "    ),\n",
    "    in_sample_maximum=5,\n",
    "    number_of_splits=20\n",
    ")"
   ]
  },
  {
   "cell_type": "code",
   "execution_count": 5,
   "metadata": {},
   "outputs": [],
   "source": [
    "experiment3 = dict(\n",
    "    test_name=\"Experiment3\", create_data=True,\n",
    "    bookmaker_error=0.0, bookmaker_margin=0.10,\n",
    "    betting_bankrole=100,\n",
    "    rating_error_loc=0, rating_error_scale=50,\n",
    "    bookmaker_rating_error_loc=0, bookmaker_rating_error_scale=25,\n",
    "    number_of_leagues=40,\n",
    "    number_of_teams=20, number_of_seasons=10,\n",
    "    true_forecast=dict(\n",
    "        coefficients=[-0.9,0.3],\n",
    "        beta=0.006\n",
    "    ),\n",
    "    bookmaker_forecast=dict(\n",
    "        coefficients=[-0.8, 0.4],\n",
    "        beta=0.004\n",
    "    ),\n",
    "    in_sample_maximum=5,\n",
    "    number_of_splits=20\n",
    ")"
   ]
  },
  {
   "cell_type": "markdown",
   "metadata": {},
   "source": [
    "### !!Select the right config"
   ]
  },
  {
   "cell_type": "code",
   "execution_count": 6,
   "metadata": {},
   "outputs": [],
   "source": [
    "# The desired config is stored at config\n",
    "config = add_config_name_here"
   ]
  },
  {
   "cell_type": "markdown",
   "metadata": {},
   "source": [
    "## External actors"
   ]
  },
  {
   "cell_type": "markdown",
   "metadata": {},
   "source": [
    "We create a bookmaker and a betting strategy that are going to interact with the generated networks."
   ]
  },
  {
   "cell_type": "code",
   "execution_count": 7,
   "metadata": {
    "tags": []
   },
   "outputs": [],
   "source": [
    "bookmaker: BaseBookmaker = factory.new_bookmaker(\n",
    "    'simple',\n",
    "    error=factory.new_forecast_error(error_type='factor', error=config[\"bookmaker_error\"], scope='positive'),\n",
    "    margin=factory.new_bookmaker_margin('simple', margin=config[\"bookmaker_margin\"])\n",
    ")"
   ]
  },
  {
   "cell_type": "code",
   "execution_count": 8,
   "metadata": {
    "tags": []
   },
   "outputs": [],
   "source": [
    "betting = FixedBetting(config[\"betting_bankrole\"])"
   ]
  },
  {
   "cell_type": "markdown",
   "metadata": {},
   "source": [
    "We also create an error rating that we are going to use for the calculated forecasts"
   ]
  },
  {
   "cell_type": "code",
   "execution_count": 9,
   "metadata": {
    "tags": []
   },
   "outputs": [],
   "source": [
    "rating_error = RatingFunctionError(error='normal', loc=config[\"rating_error_loc\"], scale=config[\"rating_error_scale\"])\n",
    "rating_error_bookmaker = RatingFunctionError(error='normal', loc=config[\"bookmaker_rating_error_loc\"], scale=config[\"bookmaker_rating_error_scale\"])"
   ]
  },
  {
   "cell_type": "markdown",
   "metadata": {},
   "source": [
    "## Generation of networks"
   ]
  },
  {
   "cell_type": "markdown",
   "metadata": {},
   "source": [
    "Configure the number of leagues for the experiment:"
   ]
  },
  {
   "cell_type": "code",
   "execution_count": 10,
   "metadata": {
    "tags": []
   },
   "outputs": [],
   "source": [
    "numberLeagues = config[\"number_of_leagues\"]"
   ]
  },
  {
   "cell_type": "markdown",
   "metadata": {},
   "source": [
    "For every league, we generate the schedule of matches and true dimensions and we add odds for each game."
   ]
  },
  {
   "cell_type": "code",
   "execution_count": 11,
   "metadata": {},
   "outputs": [],
   "source": [
    "networks = []"
   ]
  },
  {
   "cell_type": "code",
   "execution_count": 12,
   "metadata": {
    "tags": []
   },
   "outputs": [
    {
     "name": "stdout",
     "output_type": "stream",
     "text": [
      "40 leagues added in 41.50503420829773 seconds.\n"
     ]
    }
   ],
   "source": [
    "gen_start_time = time.time()\n",
    "for league in range(numberLeagues):\n",
    "    if config[\"create_data\"]:\n",
    "        network: BaseNetwork = factory.new_network(\n",
    "            'multiple-round-robin',\n",
    "            teams=config[\"number_of_teams\"],\n",
    "            days_between_rounds=7,\n",
    "            seasons=config[\"number_of_seasons\"],\n",
    "            league_teams=config[\"number_of_teams\"],\n",
    "            league_promotion=0,\n",
    "            create=True,\n",
    "            true_forecast=LogFunctionForecast(\n",
    "                outcomes=['home', 'draw', 'away'], \n",
    "                coefficients = config[\"true_forecast\"][\"coefficients\"], \n",
    "                beta_parameter=config[\"true_forecast\"][\"beta\"]\n",
    "            ),\n",
    "            true_rating=ControlledTrendRating(\n",
    "                starting_point=ControlledRandomFunction(distribution='normal', loc=1000, scale=100),\n",
    "                delta=ControlledRandomFunction(distribution='normal', loc=0, scale=3),\n",
    "                trend=ControlledRandomFunction(distribution='normal', loc=0, scale=20/365),\n",
    "                season_delta=ControlledRandomFunction(distribution='normal', loc=0, scale=10)\n",
    "            )\n",
    "        )\n",
    "        #adding biased bookmaker forecast to the network\n",
    "        network.add_forecast(\n",
    "            forecast=LogFunctionForecast(\n",
    "                outcomes=['home', 'draw', 'away'], \n",
    "                coefficients = config[\"bookmaker_forecast\"][\"coefficients\"], \n",
    "                beta_parameter=config[\"bookmaker_forecast\"][\"beta\"], \n",
    "                home_team_error=rating_error_bookmaker, \n",
    "                away_team_error=rating_error_bookmaker\n",
    "            ),\n",
    "            forecast_name='bookmaker_forecast',\n",
    "            base_ranking='true_rating'\n",
    "        )\n",
    "        #adding odds    \n",
    "        network.add_odds(\n",
    "            bookmaker_name=\"bm\",\n",
    "            bookmaker=bookmaker,\n",
    "            base_forecast='bookmaker_forecast'\n",
    "        )\n",
    "    else:\n",
    "        print(\"Loading network data\")\n",
    "        main_controller.load_network_from_sql(\n",
    "            network_name=f\"{config['test_name']}_network_{league}\",\n",
    "            new_network_name=f\"{config['test_name']}_network_{league}\"\n",
    "        )\n",
    "        network: BaseNetwork = main_controller.networks[f\"{config['test_name']}_network_{league}\"]\n",
    "    networks.append(network)\n",
    "print(f\"{numberLeagues} leagues added in {float(time.time() - gen_start_time)} seconds.\")"
   ]
  },
  {
   "cell_type": "markdown",
   "metadata": {},
   "source": [
    "# Run"
   ]
  },
  {
   "cell_type": "markdown",
   "metadata": {},
   "source": [
    "We iterate over the grid of possible parameters for the experiment and aggregate the final results."
   ]
  },
  {
   "cell_type": "markdown",
   "metadata": {},
   "source": [
    "### Functions"
   ]
  },
  {
   "cell_type": "code",
   "execution_count": 13,
   "metadata": {
    "tags": []
   },
   "outputs": [],
   "source": [
    "def aggregate_measures(list_of_matches, prefix='', addBettingMetrics=True):\n",
    "    if addBettingMetrics:\n",
    "        return {\n",
    "            prefix+'_rps': np.mean([m[3]['metrics']['rps'] for m in list_of_matches]),\n",
    "            prefix+'_likelihood': sum([m[3]['metrics']['likelihood'] for m in list_of_matches]),\n",
    "            prefix+'_prob_diff': np.mean([m[3]['metrics']['prob_diff'] for m in list_of_matches]),\n",
    "            prefix+'_draw_prob': np.mean([m[3]['metrics']['draw_prob'] for m in list_of_matches]),\n",
    "            prefix+'_fav_prob': np.mean([m[3]['metrics']['fav_prob'] for m in list_of_matches]),\n",
    "            prefix+'_betting_returns': sum([sum([b[0] for b in m[3]['metrics']['betting_returns']]) for m in list_of_matches]),\n",
    "            prefix+'_betting_returns_expected': sum([sum(b[1] for b in m[3]['metrics']['betting_returns']) for m in list_of_matches]),\n",
    "            prefix+'_betting_activity': sum([m[3]['metrics']['betting_activity']['qty'] for m in list_of_matches])\n",
    "        }\n",
    "    else:\n",
    "        return {\n",
    "            prefix+'_rps': np.mean([m[3]['metrics']['rps'] for m in list_of_matches]),\n",
    "            prefix+'_likelihood': sum([m[3]['metrics']['likelihood'] for m in list_of_matches]),\n",
    "            prefix+'_prob_diff': np.mean([m[3]['metrics']['prob_diff'] for m in list_of_matches]),\n",
    "            prefix+'_draw_prob': np.mean([m[3]['metrics']['draw_prob'] for m in list_of_matches]),\n",
    "            prefix+'_fav_prob': np.mean([m[3]['metrics']['fav_prob'] for m in list_of_matches])\n",
    "        }"
   ]
  },
  {
   "cell_type": "markdown",
   "metadata": {},
   "source": [
    "Getting first the values for the true model and the bookmaker model. Remove some of the if they are not needed and if the IS/OOS split is not required."
   ]
  },
  {
   "cell_type": "code",
   "execution_count": 14,
   "metadata": {
    "tags": []
   },
   "outputs": [
    {
     "name": "stderr",
     "output_type": "stream",
     "text": [
      "100%|██████████| 40/40 [00:04<00:00,  8.64it/s]\n",
      "100%|██████████| 40/40 [00:04<00:00,  8.32it/s]\n"
     ]
    }
   ],
   "source": [
    "entire_model_values = {}\n",
    "for forecast_pointer in ['true_forecast', 'bookmaker_forecast']:\n",
    "    all_matches =  []\n",
    "    is_matches =  []\n",
    "    oos_matches =  []\n",
    "    for network in tqdm(networks):\n",
    "        rps = RankProbabilityScore(outcomes=['home', 'draw', 'away'], forecast_name = forecast_pointer)\n",
    "        likelihood = Likelihood(outcomes=['home', 'draw', 'away'], forecast_name = forecast_pointer)\n",
    "        difference = ProbabilityDifference(outcomes=['home', 'draw', 'away'], forecast_name = forecast_pointer)\n",
    "        draw_probability = ProbabilityPointer(outcomes=['home', 'draw', 'away'], forecast_name = forecast_pointer, probability_index=1)\n",
    "        fav_probability = FavouriteProbability(outcomes=['home', 'draw', 'away'], forecast_name = forecast_pointer)\n",
    "        network.add_evaluation([\n",
    "            (rps, 'rps'),\n",
    "            (likelihood, 'likelihood'),\n",
    "            (difference, 'prob_diff'),\n",
    "            (draw_probability, 'draw_prob'),\n",
    "            (fav_probability, 'fav_prob')\n",
    "        ])\n",
    "        all_matches += [(a,h, match_id, match_attributes) for a,h, match_id, match_attributes in network.iterate_over_games()]\n",
    "        is_matches += [(a,h, match_id, match_attributes) for a,h, match_id, match_attributes in network.iterate_over_games() if match_attributes['season'] < 6]\n",
    "        oos_matches += [(a,h, match_id, match_attributes) for a,h, match_id, match_attributes in network.iterate_over_games() if match_attributes['season'] > 5]\n",
    "\n",
    "    result_all = aggregate_measures(all_matches, f'all_{forecast_pointer}', False)\n",
    "    result_is = aggregate_measures(is_matches, f'is_{forecast_pointer}', False)\n",
    "    result_oos = aggregate_measures(oos_matches, f'oos_{forecast_pointer}', False)\n",
    "    entire_model_values = {\n",
    "        **entire_model_values,\n",
    "        **result_is, **result_oos, **result_all\n",
    "    }"
   ]
  },
  {
   "cell_type": "markdown",
   "metadata": {},
   "source": [
    "Cross validation spits and results of each permutation"
   ]
  },
  {
   "cell_type": "code",
   "execution_count": 15,
   "metadata": {
    "pycharm": {
     "name": "#%%\n"
    },
    "tags": []
   },
   "outputs": [],
   "source": [
    "def cross_validate_betting_returns(matches_array, n_splits, model_hint):\n",
    "    kf = np.array_split(matches_array, n_splits)\n",
    "    combinations = [(in_s, out_s) for in_s, out_s in it.permutations(range(len(kf)), r=2)]\n",
    "    result = []\n",
    "    for in_sample_index, out_sample_index in combinations:\n",
    "        result_is = aggregate_measures(kf[in_sample_index], \"is\")\n",
    "        result_oos = aggregate_measures(kf[out_sample_index], \"oos\")\n",
    "        result.append({\n",
    "            \"permutation\": f\"{in_sample_index} x {out_sample_index}\",\n",
    "            \"model_hint\": model_hint,\n",
    "            **result_is,\n",
    "            **result_oos\n",
    "        })\n",
    "    return result"
   ]
  },
  {
   "cell_type": "markdown",
   "metadata": {},
   "source": [
    "### Initialization of results and cross validation output"
   ]
  },
  {
   "cell_type": "code",
   "execution_count": 16,
   "metadata": {},
   "outputs": [],
   "source": [
    "result_list = []\n",
    "cv_result = []"
   ]
  },
  {
   "cell_type": "markdown",
   "metadata": {},
   "source": [
    "### Main loop"
   ]
  },
  {
   "cell_type": "code",
   "execution_count": 17,
   "metadata": {},
   "outputs": [
    {
     "name": "stdout",
     "output_type": "stream",
     "text": [
      "Variables: c0: -1.2, c1: 0.0 and beta: 0.002\n",
      "Finished in 42.601314544677734 seconds\n",
      "Variables: c0: -1.2, c1: 0.0 and beta: 0.004\n",
      "Finished in 43.71205449104309 seconds\n",
      "Variables: c0: -1.2, c1: 0.0 and beta: 0.006\n",
      "Finished in 42.93880319595337 seconds\n",
      "Variables: c0: -1.2, c1: 0.0 and beta: 0.008\n",
      "Finished in 44.22097039222717 seconds\n",
      "Variables: c0: -1.2, c1: 0.1 and beta: 0.002\n",
      "Finished in 43.608847856521606 seconds\n",
      "Variables: c0: -1.2, c1: 0.1 and beta: 0.004\n",
      "Finished in 44.04694652557373 seconds\n",
      "Variables: c0: -1.2, c1: 0.1 and beta: 0.006\n",
      "Finished in 45.10042333602905 seconds\n",
      "Variables: c0: -1.2, c1: 0.1 and beta: 0.008\n",
      "Finished in 45.073723554611206 seconds\n",
      "Variables: c0: -1.2, c1: 0.2 and beta: 0.002\n",
      "Finished in 43.530656814575195 seconds\n",
      "Variables: c0: -1.2, c1: 0.2 and beta: 0.004\n",
      "Finished in 44.54267120361328 seconds\n",
      "Variables: c0: -1.2, c1: 0.2 and beta: 0.006\n",
      "Finished in 44.6839394569397 seconds\n",
      "Variables: c0: -1.2, c1: 0.2 and beta: 0.008\n",
      "Finished in 43.76976442337036 seconds\n",
      "Variables: c0: -1.2, c1: 0.30000000000000004 and beta: 0.002\n",
      "Finished in 45.13464570045471 seconds\n",
      "Variables: c0: -1.2, c1: 0.30000000000000004 and beta: 0.004\n",
      "Finished in 45.8265700340271 seconds\n",
      "Variables: c0: -1.2, c1: 0.30000000000000004 and beta: 0.006\n",
      "Finished in 43.253392696380615 seconds\n",
      "Variables: c0: -1.2, c1: 0.30000000000000004 and beta: 0.008\n",
      "Finished in 45.02735996246338 seconds\n",
      "Variables: c0: -1.2, c1: 0.4 and beta: 0.002\n",
      "Finished in 43.13280463218689 seconds\n",
      "Variables: c0: -1.2, c1: 0.4 and beta: 0.004\n",
      "Finished in 44.80092167854309 seconds\n",
      "Variables: c0: -1.2, c1: 0.4 and beta: 0.006\n",
      "Finished in 42.77196764945984 seconds\n",
      "Variables: c0: -1.2, c1: 0.4 and beta: 0.008\n",
      "Finished in 45.33739900588989 seconds\n",
      "Variables: c0: -1.2, c1: 0.5 and beta: 0.002\n",
      "Finished in 46.98934531211853 seconds\n",
      "Variables: c0: -1.2, c1: 0.5 and beta: 0.004\n",
      "Finished in 44.51794409751892 seconds\n",
      "Variables: c0: -1.2, c1: 0.5 and beta: 0.006\n",
      "Finished in 46.499995708465576 seconds\n",
      "Variables: c0: -1.2, c1: 0.5 and beta: 0.008\n",
      "Finished in 43.223549127578735 seconds\n",
      "Variables: c0: -1.0999999999999999, c1: 0.0 and beta: 0.002\n",
      "Finished in 43.027743101119995 seconds\n",
      "Variables: c0: -1.0999999999999999, c1: 0.0 and beta: 0.004\n",
      "Finished in 46.33310890197754 seconds\n",
      "Variables: c0: -1.0999999999999999, c1: 0.0 and beta: 0.006\n",
      "Finished in 44.01635503768921 seconds\n",
      "Variables: c0: -1.0999999999999999, c1: 0.0 and beta: 0.008\n",
      "Finished in 44.15302538871765 seconds\n",
      "Variables: c0: -1.0999999999999999, c1: 0.1 and beta: 0.002\n",
      "Finished in 43.916759967803955 seconds\n",
      "Variables: c0: -1.0999999999999999, c1: 0.1 and beta: 0.004\n",
      "Finished in 46.436501264572144 seconds\n",
      "Variables: c0: -1.0999999999999999, c1: 0.1 and beta: 0.006\n",
      "Finished in 44.01362061500549 seconds\n",
      "Variables: c0: -1.0999999999999999, c1: 0.1 and beta: 0.008\n",
      "Finished in 44.32664632797241 seconds\n",
      "Variables: c0: -1.0999999999999999, c1: 0.2 and beta: 0.002\n",
      "Finished in 47.95453476905823 seconds\n",
      "Variables: c0: -1.0999999999999999, c1: 0.2 and beta: 0.004\n",
      "Finished in 44.14141583442688 seconds\n",
      "Variables: c0: -1.0999999999999999, c1: 0.2 and beta: 0.006\n",
      "Finished in 45.45274543762207 seconds\n",
      "Variables: c0: -1.0999999999999999, c1: 0.2 and beta: 0.008\n",
      "Finished in 48.41961479187012 seconds\n",
      "Variables: c0: -1.0999999999999999, c1: 0.30000000000000004 and beta: 0.002\n",
      "Finished in 48.97064208984375 seconds\n",
      "Variables: c0: -1.0999999999999999, c1: 0.30000000000000004 and beta: 0.004\n",
      "Finished in 43.89805030822754 seconds\n",
      "Variables: c0: -1.0999999999999999, c1: 0.30000000000000004 and beta: 0.006\n",
      "Finished in 44.503552198410034 seconds\n",
      "Variables: c0: -1.0999999999999999, c1: 0.30000000000000004 and beta: 0.008\n",
      "Finished in 45.723074197769165 seconds\n",
      "Variables: c0: -1.0999999999999999, c1: 0.4 and beta: 0.002\n",
      "Finished in 45.00895929336548 seconds\n",
      "Variables: c0: -1.0999999999999999, c1: 0.4 and beta: 0.004\n",
      "Finished in 48.52928018569946 seconds\n",
      "Variables: c0: -1.0999999999999999, c1: 0.4 and beta: 0.006\n",
      "Finished in 45.228541135787964 seconds\n",
      "Variables: c0: -1.0999999999999999, c1: 0.4 and beta: 0.008\n",
      "Finished in 44.33236265182495 seconds\n",
      "Variables: c0: -1.0999999999999999, c1: 0.5 and beta: 0.002\n",
      "Finished in 44.535053968429565 seconds\n",
      "Variables: c0: -1.0999999999999999, c1: 0.5 and beta: 0.004\n",
      "Finished in 44.402435541152954 seconds\n",
      "Variables: c0: -1.0999999999999999, c1: 0.5 and beta: 0.006\n",
      "Finished in 48.96152377128601 seconds\n",
      "Variables: c0: -1.0999999999999999, c1: 0.5 and beta: 0.008\n",
      "Finished in 44.52673864364624 seconds\n",
      "Variables: c0: -0.9999999999999998, c1: 0.0 and beta: 0.002\n",
      "Finished in 44.4124915599823 seconds\n",
      "Variables: c0: -0.9999999999999998, c1: 0.0 and beta: 0.004\n",
      "Finished in 44.488723278045654 seconds\n",
      "Variables: c0: -0.9999999999999998, c1: 0.0 and beta: 0.006\n",
      "Finished in 44.394819021224976 seconds\n",
      "Variables: c0: -0.9999999999999998, c1: 0.0 and beta: 0.008\n",
      "Finished in 50.12729024887085 seconds\n",
      "Variables: c0: -0.9999999999999998, c1: 0.1 and beta: 0.002\n",
      "Finished in 44.40546011924744 seconds\n",
      "Variables: c0: -0.9999999999999998, c1: 0.1 and beta: 0.004\n",
      "Finished in 44.849910736083984 seconds\n",
      "Variables: c0: -0.9999999999999998, c1: 0.1 and beta: 0.006\n",
      "Finished in 45.17973971366882 seconds\n",
      "Variables: c0: -0.9999999999999998, c1: 0.1 and beta: 0.008\n",
      "Finished in 44.59273982048035 seconds\n",
      "Variables: c0: -0.9999999999999998, c1: 0.2 and beta: 0.002\n",
      "Finished in 44.68697476387024 seconds\n",
      "Variables: c0: -0.9999999999999998, c1: 0.2 and beta: 0.004\n",
      "Finished in 46.86454510688782 seconds\n",
      "Variables: c0: -0.9999999999999998, c1: 0.2 and beta: 0.006\n",
      "Finished in 51.340922832489014 seconds\n",
      "Variables: c0: -0.9999999999999998, c1: 0.2 and beta: 0.008\n",
      "Finished in 45.450823068618774 seconds\n",
      "Variables: c0: -0.9999999999999998, c1: 0.30000000000000004 and beta: 0.002\n",
      "Finished in 45.83034420013428 seconds\n",
      "Variables: c0: -0.9999999999999998, c1: 0.30000000000000004 and beta: 0.004\n",
      "Finished in 45.8224778175354 seconds\n",
      "Variables: c0: -0.9999999999999998, c1: 0.30000000000000004 and beta: 0.006\n",
      "Finished in 47.11007905006409 seconds\n",
      "Variables: c0: -0.9999999999999998, c1: 0.30000000000000004 and beta: 0.008\n",
      "Finished in 45.4532425403595 seconds\n",
      "Variables: c0: -0.9999999999999998, c1: 0.4 and beta: 0.002\n",
      "Finished in 52.587772369384766 seconds\n",
      "Variables: c0: -0.9999999999999998, c1: 0.4 and beta: 0.004\n",
      "Finished in 46.02833938598633 seconds\n",
      "Variables: c0: -0.9999999999999998, c1: 0.4 and beta: 0.006\n",
      "Finished in 46.19042158126831 seconds\n",
      "Variables: c0: -0.9999999999999998, c1: 0.4 and beta: 0.008\n",
      "Finished in 46.34436321258545 seconds\n",
      "Variables: c0: -0.9999999999999998, c1: 0.5 and beta: 0.002\n",
      "Finished in 45.61274218559265 seconds\n",
      "Variables: c0: -0.9999999999999998, c1: 0.5 and beta: 0.004\n",
      "Finished in 46.04307198524475 seconds\n",
      "Variables: c0: -0.9999999999999998, c1: 0.5 and beta: 0.006\n",
      "Finished in 46.838552474975586 seconds\n",
      "Variables: c0: -0.9999999999999998, c1: 0.5 and beta: 0.008\n",
      "Finished in 46.122682332992554 seconds\n",
      "Variables: c0: -0.8999999999999997, c1: 0.0 and beta: 0.002\n",
      "Finished in 53.55782461166382 seconds\n",
      "Variables: c0: -0.8999999999999997, c1: 0.0 and beta: 0.004\n",
      "Finished in 46.74875545501709 seconds\n",
      "Variables: c0: -0.8999999999999997, c1: 0.0 and beta: 0.006\n",
      "Finished in 47.11856985092163 seconds\n",
      "Variables: c0: -0.8999999999999997, c1: 0.0 and beta: 0.008\n",
      "Finished in 47.263978481292725 seconds\n",
      "Variables: c0: -0.8999999999999997, c1: 0.1 and beta: 0.002\n",
      "Finished in 46.342883348464966 seconds\n",
      "Variables: c0: -0.8999999999999997, c1: 0.1 and beta: 0.004\n",
      "Finished in 46.63674449920654 seconds\n",
      "Variables: c0: -0.8999999999999997, c1: 0.1 and beta: 0.006\n",
      "Finished in 46.9074501991272 seconds\n",
      "Variables: c0: -0.8999999999999997, c1: 0.1 and beta: 0.008\n",
      "Finished in 48.86977291107178 seconds\n",
      "Variables: c0: -0.8999999999999997, c1: 0.2 and beta: 0.002\n",
      "Finished in 47.039315938949585 seconds\n",
      "Variables: c0: -0.8999999999999997, c1: 0.2 and beta: 0.004\n",
      "Finished in 56.48150062561035 seconds\n",
      "Variables: c0: -0.8999999999999997, c1: 0.2 and beta: 0.006\n",
      "Finished in 47.40786075592041 seconds\n",
      "Variables: c0: -0.8999999999999997, c1: 0.2 and beta: 0.008\n",
      "Finished in 49.049885511398315 seconds\n",
      "Variables: c0: -0.8999999999999997, c1: 0.30000000000000004 and beta: 0.002\n",
      "Finished in 48.35200905799866 seconds\n",
      "Variables: c0: -0.8999999999999997, c1: 0.30000000000000004 and beta: 0.004\n",
      "Finished in 47.24038529396057 seconds\n",
      "Variables: c0: -0.8999999999999997, c1: 0.30000000000000004 and beta: 0.006\n",
      "Finished in 48.684643030166626 seconds\n",
      "Variables: c0: -0.8999999999999997, c1: 0.30000000000000004 and beta: 0.008\n",
      "Finished in 47.371281147003174 seconds\n",
      "Variables: c0: -0.8999999999999997, c1: 0.4 and beta: 0.002\n",
      "Finished in 47.41192698478699 seconds\n",
      "Variables: c0: -0.8999999999999997, c1: 0.4 and beta: 0.004\n",
      "Finished in 48.59104132652283 seconds\n",
      "Variables: c0: -0.8999999999999997, c1: 0.4 and beta: 0.006\n",
      "Finished in 108.51577425003052 seconds\n",
      "Variables: c0: -0.8999999999999997, c1: 0.4 and beta: 0.008\n",
      "Finished in 48.75050592422485 seconds\n",
      "Variables: c0: -0.8999999999999997, c1: 0.5 and beta: 0.002\n",
      "Finished in 48.31031274795532 seconds\n",
      "Variables: c0: -0.8999999999999997, c1: 0.5 and beta: 0.004\n",
      "Finished in 48.78903651237488 seconds\n",
      "Variables: c0: -0.8999999999999997, c1: 0.5 and beta: 0.006\n",
      "Finished in 48.249818563461304 seconds\n",
      "Variables: c0: -0.8999999999999997, c1: 0.5 and beta: 0.008\n",
      "Finished in 48.591718435287476 seconds\n",
      "Variables: c0: -0.7999999999999996, c1: 0.0 and beta: 0.002\n",
      "Finished in 48.72959232330322 seconds\n",
      "Variables: c0: -0.7999999999999996, c1: 0.0 and beta: 0.004\n",
      "Finished in 48.957953453063965 seconds\n",
      "Variables: c0: -0.7999999999999996, c1: 0.0 and beta: 0.006\n",
      "Finished in 51.585286140441895 seconds\n",
      "Variables: c0: -0.7999999999999996, c1: 0.0 and beta: 0.008\n",
      "Finished in 50.12871718406677 seconds\n",
      "Variables: c0: -0.7999999999999996, c1: 0.1 and beta: 0.002\n",
      "Finished in 148.40367937088013 seconds\n",
      "Variables: c0: -0.7999999999999996, c1: 0.1 and beta: 0.004\n",
      "Finished in 50.274943828582764 seconds\n",
      "Variables: c0: -0.7999999999999996, c1: 0.1 and beta: 0.006\n",
      "Finished in 48.940847873687744 seconds\n",
      "Variables: c0: -0.7999999999999996, c1: 0.1 and beta: 0.008\n",
      "Finished in 49.33628463745117 seconds\n",
      "Variables: c0: -0.7999999999999996, c1: 0.2 and beta: 0.002\n",
      "Finished in 49.509220123291016 seconds\n",
      "Variables: c0: -0.7999999999999996, c1: 0.2 and beta: 0.004\n",
      "Finished in 49.330570697784424 seconds\n",
      "Variables: c0: -0.7999999999999996, c1: 0.2 and beta: 0.006\n",
      "Finished in 49.46689462661743 seconds\n",
      "Variables: c0: -0.7999999999999996, c1: 0.2 and beta: 0.008\n",
      "Finished in 49.51722431182861 seconds\n",
      "Variables: c0: -0.7999999999999996, c1: 0.30000000000000004 and beta: 0.002\n",
      "Finished in 49.312501668930054 seconds\n",
      "Variables: c0: -0.7999999999999996, c1: 0.30000000000000004 and beta: 0.004\n",
      "Finished in 49.58424186706543 seconds\n",
      "Variables: c0: -0.7999999999999996, c1: 0.30000000000000004 and beta: 0.006\n",
      "Finished in 52.00489830970764 seconds\n",
      "Variables: c0: -0.7999999999999996, c1: 0.30000000000000004 and beta: 0.008\n",
      "Finished in 49.39717984199524 seconds\n",
      "Variables: c0: -0.7999999999999996, c1: 0.4 and beta: 0.002\n",
      "Finished in 224.85791730880737 seconds\n",
      "Variables: c0: -0.7999999999999996, c1: 0.4 and beta: 0.004\n",
      "Finished in 56.88021421432495 seconds\n",
      "Variables: c0: -0.7999999999999996, c1: 0.4 and beta: 0.006\n",
      "Finished in 50.7692506313324 seconds\n",
      "Variables: c0: -0.7999999999999996, c1: 0.4 and beta: 0.008\n",
      "Finished in 50.678348779678345 seconds\n",
      "Variables: c0: -0.7999999999999996, c1: 0.5 and beta: 0.002\n",
      "Finished in 50.48614025115967 seconds\n",
      "Variables: c0: -0.7999999999999996, c1: 0.5 and beta: 0.004\n",
      "Finished in 50.492133378982544 seconds\n",
      "Variables: c0: -0.7999999999999996, c1: 0.5 and beta: 0.006\n",
      "Finished in 51.23620319366455 seconds\n",
      "Variables: c0: -0.7999999999999996, c1: 0.5 and beta: 0.008\n",
      "Finished in 50.89401960372925 seconds\n",
      "Variables: c0: -0.6999999999999995, c1: 0.0 and beta: 0.002\n",
      "Finished in 50.568018674850464 seconds\n",
      "Variables: c0: -0.6999999999999995, c1: 0.0 and beta: 0.004\n",
      "Finished in 50.57684803009033 seconds\n",
      "Variables: c0: -0.6999999999999995, c1: 0.0 and beta: 0.006\n",
      "Finished in 50.89808106422424 seconds\n",
      "Variables: c0: -0.6999999999999995, c1: 0.0 and beta: 0.008\n",
      "Finished in 51.5045371055603 seconds\n",
      "Variables: c0: -0.6999999999999995, c1: 0.1 and beta: 0.002\n",
      "Finished in 52.87585210800171 seconds\n",
      "Variables: c0: -0.6999999999999995, c1: 0.1 and beta: 0.004\n",
      "Finished in 321.7695972919464 seconds\n",
      "Variables: c0: -0.6999999999999995, c1: 0.1 and beta: 0.006\n",
      "Finished in 53.955894947052 seconds\n",
      "Variables: c0: -0.6999999999999995, c1: 0.1 and beta: 0.008\n",
      "Finished in 51.447864055633545 seconds\n",
      "Variables: c0: -0.6999999999999995, c1: 0.2 and beta: 0.002\n",
      "Finished in 51.79207468032837 seconds\n",
      "Variables: c0: -0.6999999999999995, c1: 0.2 and beta: 0.004\n",
      "Finished in 51.96280336380005 seconds\n",
      "Variables: c0: -0.6999999999999995, c1: 0.2 and beta: 0.006\n",
      "Finished in 52.470442056655884 seconds\n",
      "Variables: c0: -0.6999999999999995, c1: 0.2 and beta: 0.008\n",
      "Finished in 52.351768255233765 seconds\n",
      "Variables: c0: -0.6999999999999995, c1: 0.30000000000000004 and beta: 0.002\n",
      "Finished in 52.15137314796448 seconds\n",
      "Variables: c0: -0.6999999999999995, c1: 0.30000000000000004 and beta: 0.004\n",
      "Finished in 52.30574417114258 seconds\n",
      "Variables: c0: -0.6999999999999995, c1: 0.30000000000000004 and beta: 0.006\n",
      "Finished in 52.03583335876465 seconds\n",
      "Variables: c0: -0.6999999999999995, c1: 0.30000000000000004 and beta: 0.008\n",
      "Finished in 52.2505943775177 seconds\n",
      "Variables: c0: -0.6999999999999995, c1: 0.4 and beta: 0.002\n",
      "Finished in 54.378761291503906 seconds\n",
      "Variables: c0: -0.6999999999999995, c1: 0.4 and beta: 0.004\n",
      "Finished in 54.25393033027649 seconds\n",
      "Variables: c0: -0.6999999999999995, c1: 0.4 and beta: 0.006\n",
      "Finished in 53.13241672515869 seconds\n",
      "Variables: c0: -0.6999999999999995, c1: 0.4 and beta: 0.008\n",
      "Finished in 508.19675874710083 seconds\n",
      "Variables: c0: -0.6999999999999995, c1: 0.5 and beta: 0.002\n",
      "Finished in 58.46952414512634 seconds\n",
      "Variables: c0: -0.6999999999999995, c1: 0.5 and beta: 0.004\n",
      "Finished in 53.49806785583496 seconds\n",
      "Variables: c0: -0.6999999999999995, c1: 0.5 and beta: 0.006\n",
      "Finished in 53.6460165977478 seconds\n",
      "Variables: c0: -0.6999999999999995, c1: 0.5 and beta: 0.008\n",
      "Finished in 53.43885326385498 seconds\n",
      "Experiment finished in 7959.169862747192 seconds with 144 observations.\n",
      "Saving data with the all the forecasts added\n"
     ]
    },
    {
     "name": "stderr",
     "output_type": "stream",
     "text": [
      "0it [00:00, ?it/s]"
     ]
    },
    {
     "name": "stdout",
     "output_type": "stream",
     "text": [
      "('PostgreSQL 12.5, compiled by Visual C++ build 1914, 64-bit',)\n",
      "dfg_rating database exists. Loading database\n",
      "networks 1\n",
      "INSERT INTO networks(network_name,network_type,seasons,days_between_rounds,rounds) VALUES %s ON CONFLICT DO NOTHING\n",
      "matches 3800\n",
      "INSERT INTO matches(network_name,node1,node2,season,round,day,winner,match_id) VALUES %s ON CONFLICT DO NOTHING\n",
      "forecasts 554800\n",
      "INSERT INTO forecasts(forecast_name,network_name,match_id,attributes) VALUES %s ON CONFLICT DO NOTHING\n",
      "odds 3800\n",
      "INSERT INTO odds(network_name,bookmaker_name,match_id,attributes) VALUES %s ON CONFLICT DO NOTHING\n",
      "bets 3800\n",
      "INSERT INTO bets(bettor_name,network_name,match_id,attributes) VALUES %s ON CONFLICT DO NOTHING\n",
      "metrics 26600\n",
      "INSERT INTO metrics(metric_name,network_name,match_id,attributes) VALUES %s ON CONFLICT DO NOTHING\n",
      "ratings 15800\n",
      "INSERT INTO ratings(rating_name,node_id,node_name,network_name,season,rating_number,value,trend,starting_point) VALUES %s ON CONFLICT DO NOTHING\n"
     ]
    },
    {
     "name": "stderr",
     "output_type": "stream",
     "text": [
      "1it [00:52, 52.63s/it]"
     ]
    },
    {
     "name": "stdout",
     "output_type": "stream",
     "text": [
      "networks 1\n",
      "INSERT INTO networks(network_name,network_type,seasons,days_between_rounds,rounds) VALUES %s ON CONFLICT DO NOTHING\n",
      "matches 3800\n",
      "INSERT INTO matches(network_name,node1,node2,season,round,day,winner,match_id) VALUES %s ON CONFLICT DO NOTHING\n",
      "forecasts 554800\n",
      "INSERT INTO forecasts(forecast_name,network_name,match_id,attributes) VALUES %s ON CONFLICT DO NOTHING\n",
      "odds 3800\n",
      "INSERT INTO odds(network_name,bookmaker_name,match_id,attributes) VALUES %s ON CONFLICT DO NOTHING\n",
      "bets 3800\n",
      "INSERT INTO bets(bettor_name,network_name,match_id,attributes) VALUES %s ON CONFLICT DO NOTHING\n",
      "metrics 26600\n",
      "INSERT INTO metrics(metric_name,network_name,match_id,attributes) VALUES %s ON CONFLICT DO NOTHING\n",
      "ratings 15800\n",
      "INSERT INTO ratings(rating_name,node_id,node_name,network_name,season,rating_number,value,trend,starting_point) VALUES %s ON CONFLICT DO NOTHING\n"
     ]
    },
    {
     "name": "stderr",
     "output_type": "stream",
     "text": [
      "2it [01:40, 50.11s/it]"
     ]
    },
    {
     "name": "stdout",
     "output_type": "stream",
     "text": [
      "networks 1\n",
      "INSERT INTO networks(network_name,network_type,seasons,days_between_rounds,rounds) VALUES %s ON CONFLICT DO NOTHING\n",
      "matches 3800\n",
      "INSERT INTO matches(network_name,node1,node2,season,round,day,winner,match_id) VALUES %s ON CONFLICT DO NOTHING\n",
      "forecasts 554800\n",
      "INSERT INTO forecasts(forecast_name,network_name,match_id,attributes) VALUES %s ON CONFLICT DO NOTHING\n",
      "odds 3800\n",
      "INSERT INTO odds(network_name,bookmaker_name,match_id,attributes) VALUES %s ON CONFLICT DO NOTHING\n",
      "bets 3800\n",
      "INSERT INTO bets(bettor_name,network_name,match_id,attributes) VALUES %s ON CONFLICT DO NOTHING\n",
      "metrics 26600\n",
      "INSERT INTO metrics(metric_name,network_name,match_id,attributes) VALUES %s ON CONFLICT DO NOTHING\n",
      "ratings 15800\n",
      "INSERT INTO ratings(rating_name,node_id,node_name,network_name,season,rating_number,value,trend,starting_point) VALUES %s ON CONFLICT DO NOTHING\n"
     ]
    },
    {
     "name": "stderr",
     "output_type": "stream",
     "text": [
      "3it [02:28, 48.82s/it]"
     ]
    },
    {
     "name": "stdout",
     "output_type": "stream",
     "text": [
      "networks 1\n",
      "INSERT INTO networks(network_name,network_type,seasons,days_between_rounds,rounds) VALUES %s ON CONFLICT DO NOTHING\n",
      "matches 3800\n",
      "INSERT INTO matches(network_name,node1,node2,season,round,day,winner,match_id) VALUES %s ON CONFLICT DO NOTHING\n",
      "forecasts 554800\n",
      "INSERT INTO forecasts(forecast_name,network_name,match_id,attributes) VALUES %s ON CONFLICT DO NOTHING\n",
      "odds 3800\n",
      "INSERT INTO odds(network_name,bookmaker_name,match_id,attributes) VALUES %s ON CONFLICT DO NOTHING\n",
      "bets 3800\n",
      "INSERT INTO bets(bettor_name,network_name,match_id,attributes) VALUES %s ON CONFLICT DO NOTHING\n",
      "metrics 26600\n",
      "INSERT INTO metrics(metric_name,network_name,match_id,attributes) VALUES %s ON CONFLICT DO NOTHING\n",
      "ratings 15800\n",
      "INSERT INTO ratings(rating_name,node_id,node_name,network_name,season,rating_number,value,trend,starting_point) VALUES %s ON CONFLICT DO NOTHING\n"
     ]
    },
    {
     "name": "stderr",
     "output_type": "stream",
     "text": [
      "4it [03:15, 48.23s/it]"
     ]
    },
    {
     "name": "stdout",
     "output_type": "stream",
     "text": [
      "networks 1\n",
      "INSERT INTO networks(network_name,network_type,seasons,days_between_rounds,rounds) VALUES %s ON CONFLICT DO NOTHING\n",
      "matches 3800\n",
      "INSERT INTO matches(network_name,node1,node2,season,round,day,winner,match_id) VALUES %s ON CONFLICT DO NOTHING\n",
      "forecasts 554800\n",
      "INSERT INTO forecasts(forecast_name,network_name,match_id,attributes) VALUES %s ON CONFLICT DO NOTHING\n",
      "odds 3800\n",
      "INSERT INTO odds(network_name,bookmaker_name,match_id,attributes) VALUES %s ON CONFLICT DO NOTHING\n",
      "bets 3800\n",
      "INSERT INTO bets(bettor_name,network_name,match_id,attributes) VALUES %s ON CONFLICT DO NOTHING\n",
      "metrics 26600\n",
      "INSERT INTO metrics(metric_name,network_name,match_id,attributes) VALUES %s ON CONFLICT DO NOTHING\n",
      "ratings 15800\n",
      "INSERT INTO ratings(rating_name,node_id,node_name,network_name,season,rating_number,value,trend,starting_point) VALUES %s ON CONFLICT DO NOTHING\n"
     ]
    },
    {
     "name": "stderr",
     "output_type": "stream",
     "text": [
      "5it [04:02, 47.92s/it]"
     ]
    },
    {
     "name": "stdout",
     "output_type": "stream",
     "text": [
      "networks 1\n",
      "INSERT INTO networks(network_name,network_type,seasons,days_between_rounds,rounds) VALUES %s ON CONFLICT DO NOTHING\n",
      "matches 3800\n",
      "INSERT INTO matches(network_name,node1,node2,season,round,day,winner,match_id) VALUES %s ON CONFLICT DO NOTHING\n",
      "forecasts 554800\n",
      "INSERT INTO forecasts(forecast_name,network_name,match_id,attributes) VALUES %s ON CONFLICT DO NOTHING\n",
      "odds 3800\n",
      "INSERT INTO odds(network_name,bookmaker_name,match_id,attributes) VALUES %s ON CONFLICT DO NOTHING\n",
      "bets 3800\n",
      "INSERT INTO bets(bettor_name,network_name,match_id,attributes) VALUES %s ON CONFLICT DO NOTHING\n",
      "metrics 26600\n",
      "INSERT INTO metrics(metric_name,network_name,match_id,attributes) VALUES %s ON CONFLICT DO NOTHING\n",
      "ratings 15800\n",
      "INSERT INTO ratings(rating_name,node_id,node_name,network_name,season,rating_number,value,trend,starting_point) VALUES %s ON CONFLICT DO NOTHING\n"
     ]
    },
    {
     "name": "stderr",
     "output_type": "stream",
     "text": [
      "6it [04:50, 47.75s/it]"
     ]
    },
    {
     "name": "stdout",
     "output_type": "stream",
     "text": [
      "networks 1\n",
      "INSERT INTO networks(network_name,network_type,seasons,days_between_rounds,rounds) VALUES %s ON CONFLICT DO NOTHING\n",
      "matches 3800\n",
      "INSERT INTO matches(network_name,node1,node2,season,round,day,winner,match_id) VALUES %s ON CONFLICT DO NOTHING\n",
      "forecasts 554800\n",
      "INSERT INTO forecasts(forecast_name,network_name,match_id,attributes) VALUES %s ON CONFLICT DO NOTHING\n",
      "odds 3800\n",
      "INSERT INTO odds(network_name,bookmaker_name,match_id,attributes) VALUES %s ON CONFLICT DO NOTHING\n",
      "bets 3800\n",
      "INSERT INTO bets(bettor_name,network_name,match_id,attributes) VALUES %s ON CONFLICT DO NOTHING\n",
      "metrics 26600\n",
      "INSERT INTO metrics(metric_name,network_name,match_id,attributes) VALUES %s ON CONFLICT DO NOTHING\n",
      "ratings 15800\n",
      "INSERT INTO ratings(rating_name,node_id,node_name,network_name,season,rating_number,value,trend,starting_point) VALUES %s ON CONFLICT DO NOTHING\n"
     ]
    },
    {
     "name": "stderr",
     "output_type": "stream",
     "text": [
      "7it [05:37, 47.40s/it]"
     ]
    },
    {
     "name": "stdout",
     "output_type": "stream",
     "text": [
      "networks 1\n",
      "INSERT INTO networks(network_name,network_type,seasons,days_between_rounds,rounds) VALUES %s ON CONFLICT DO NOTHING\n",
      "matches 3800\n",
      "INSERT INTO matches(network_name,node1,node2,season,round,day,winner,match_id) VALUES %s ON CONFLICT DO NOTHING\n",
      "forecasts 554800\n",
      "INSERT INTO forecasts(forecast_name,network_name,match_id,attributes) VALUES %s ON CONFLICT DO NOTHING\n",
      "odds 3800\n",
      "INSERT INTO odds(network_name,bookmaker_name,match_id,attributes) VALUES %s ON CONFLICT DO NOTHING\n",
      "bets 3800\n",
      "INSERT INTO bets(bettor_name,network_name,match_id,attributes) VALUES %s ON CONFLICT DO NOTHING\n",
      "metrics 26600\n",
      "INSERT INTO metrics(metric_name,network_name,match_id,attributes) VALUES %s ON CONFLICT DO NOTHING\n",
      "ratings 15800\n",
      "INSERT INTO ratings(rating_name,node_id,node_name,network_name,season,rating_number,value,trend,starting_point) VALUES %s ON CONFLICT DO NOTHING\n"
     ]
    },
    {
     "name": "stderr",
     "output_type": "stream",
     "text": [
      "8it [06:24, 47.48s/it]"
     ]
    },
    {
     "name": "stdout",
     "output_type": "stream",
     "text": [
      "networks 1\n",
      "INSERT INTO networks(network_name,network_type,seasons,days_between_rounds,rounds) VALUES %s ON CONFLICT DO NOTHING\n",
      "matches 3800\n",
      "INSERT INTO matches(network_name,node1,node2,season,round,day,winner,match_id) VALUES %s ON CONFLICT DO NOTHING\n",
      "forecasts 554800\n",
      "INSERT INTO forecasts(forecast_name,network_name,match_id,attributes) VALUES %s ON CONFLICT DO NOTHING\n",
      "odds 3800\n",
      "INSERT INTO odds(network_name,bookmaker_name,match_id,attributes) VALUES %s ON CONFLICT DO NOTHING\n",
      "bets 3800\n",
      "INSERT INTO bets(bettor_name,network_name,match_id,attributes) VALUES %s ON CONFLICT DO NOTHING\n",
      "metrics 26600\n",
      "INSERT INTO metrics(metric_name,network_name,match_id,attributes) VALUES %s ON CONFLICT DO NOTHING\n",
      "ratings 15800\n",
      "INSERT INTO ratings(rating_name,node_id,node_name,network_name,season,rating_number,value,trend,starting_point) VALUES %s ON CONFLICT DO NOTHING\n"
     ]
    },
    {
     "name": "stderr",
     "output_type": "stream",
     "text": [
      "9it [07:12, 47.42s/it]"
     ]
    },
    {
     "name": "stdout",
     "output_type": "stream",
     "text": [
      "networks 1\n",
      "INSERT INTO networks(network_name,network_type,seasons,days_between_rounds,rounds) VALUES %s ON CONFLICT DO NOTHING\n",
      "matches 3800\n",
      "INSERT INTO matches(network_name,node1,node2,season,round,day,winner,match_id) VALUES %s ON CONFLICT DO NOTHING\n",
      "forecasts 554800\n",
      "INSERT INTO forecasts(forecast_name,network_name,match_id,attributes) VALUES %s ON CONFLICT DO NOTHING\n",
      "odds 3800\n",
      "INSERT INTO odds(network_name,bookmaker_name,match_id,attributes) VALUES %s ON CONFLICT DO NOTHING\n",
      "bets 3800\n",
      "INSERT INTO bets(bettor_name,network_name,match_id,attributes) VALUES %s ON CONFLICT DO NOTHING\n",
      "metrics 26600\n",
      "INSERT INTO metrics(metric_name,network_name,match_id,attributes) VALUES %s ON CONFLICT DO NOTHING\n",
      "ratings 15800\n",
      "INSERT INTO ratings(rating_name,node_id,node_name,network_name,season,rating_number,value,trend,starting_point) VALUES %s ON CONFLICT DO NOTHING\n"
     ]
    },
    {
     "name": "stderr",
     "output_type": "stream",
     "text": [
      "10it [07:59, 47.41s/it]"
     ]
    },
    {
     "name": "stdout",
     "output_type": "stream",
     "text": [
      "networks 1\n",
      "INSERT INTO networks(network_name,network_type,seasons,days_between_rounds,rounds) VALUES %s ON CONFLICT DO NOTHING\n",
      "matches 3800\n",
      "INSERT INTO matches(network_name,node1,node2,season,round,day,winner,match_id) VALUES %s ON CONFLICT DO NOTHING\n",
      "forecasts 554800\n",
      "INSERT INTO forecasts(forecast_name,network_name,match_id,attributes) VALUES %s ON CONFLICT DO NOTHING\n",
      "odds 3800\n",
      "INSERT INTO odds(network_name,bookmaker_name,match_id,attributes) VALUES %s ON CONFLICT DO NOTHING\n",
      "bets 3800\n",
      "INSERT INTO bets(bettor_name,network_name,match_id,attributes) VALUES %s ON CONFLICT DO NOTHING\n",
      "metrics 26600\n",
      "INSERT INTO metrics(metric_name,network_name,match_id,attributes) VALUES %s ON CONFLICT DO NOTHING\n",
      "ratings 15800\n",
      "INSERT INTO ratings(rating_name,node_id,node_name,network_name,season,rating_number,value,trend,starting_point) VALUES %s ON CONFLICT DO NOTHING\n"
     ]
    },
    {
     "name": "stderr",
     "output_type": "stream",
     "text": [
      "11it [08:46, 47.42s/it]"
     ]
    },
    {
     "name": "stdout",
     "output_type": "stream",
     "text": [
      "networks 1\n",
      "INSERT INTO networks(network_name,network_type,seasons,days_between_rounds,rounds) VALUES %s ON CONFLICT DO NOTHING\n",
      "matches 3800\n",
      "INSERT INTO matches(network_name,node1,node2,season,round,day,winner,match_id) VALUES %s ON CONFLICT DO NOTHING\n",
      "forecasts 554800\n",
      "INSERT INTO forecasts(forecast_name,network_name,match_id,attributes) VALUES %s ON CONFLICT DO NOTHING\n",
      "odds 3800\n",
      "INSERT INTO odds(network_name,bookmaker_name,match_id,attributes) VALUES %s ON CONFLICT DO NOTHING\n",
      "bets 3800\n",
      "INSERT INTO bets(bettor_name,network_name,match_id,attributes) VALUES %s ON CONFLICT DO NOTHING\n",
      "metrics 26600\n",
      "INSERT INTO metrics(metric_name,network_name,match_id,attributes) VALUES %s ON CONFLICT DO NOTHING\n",
      "ratings 15800\n",
      "INSERT INTO ratings(rating_name,node_id,node_name,network_name,season,rating_number,value,trend,starting_point) VALUES %s ON CONFLICT DO NOTHING\n"
     ]
    },
    {
     "name": "stderr",
     "output_type": "stream",
     "text": [
      "12it [09:34, 47.44s/it]"
     ]
    },
    {
     "name": "stdout",
     "output_type": "stream",
     "text": [
      "networks 1\n",
      "INSERT INTO networks(network_name,network_type,seasons,days_between_rounds,rounds) VALUES %s ON CONFLICT DO NOTHING\n",
      "matches 3800\n",
      "INSERT INTO matches(network_name,node1,node2,season,round,day,winner,match_id) VALUES %s ON CONFLICT DO NOTHING\n",
      "forecasts 554800\n",
      "INSERT INTO forecasts(forecast_name,network_name,match_id,attributes) VALUES %s ON CONFLICT DO NOTHING\n",
      "odds 3800\n",
      "INSERT INTO odds(network_name,bookmaker_name,match_id,attributes) VALUES %s ON CONFLICT DO NOTHING\n",
      "bets 3800\n",
      "INSERT INTO bets(bettor_name,network_name,match_id,attributes) VALUES %s ON CONFLICT DO NOTHING\n",
      "metrics 26600\n",
      "INSERT INTO metrics(metric_name,network_name,match_id,attributes) VALUES %s ON CONFLICT DO NOTHING\n",
      "ratings 15800\n",
      "INSERT INTO ratings(rating_name,node_id,node_name,network_name,season,rating_number,value,trend,starting_point) VALUES %s ON CONFLICT DO NOTHING\n"
     ]
    },
    {
     "name": "stderr",
     "output_type": "stream",
     "text": [
      "13it [10:22, 47.65s/it]"
     ]
    },
    {
     "name": "stdout",
     "output_type": "stream",
     "text": [
      "networks 1\n",
      "INSERT INTO networks(network_name,network_type,seasons,days_between_rounds,rounds) VALUES %s ON CONFLICT DO NOTHING\n",
      "matches 3800\n",
      "INSERT INTO matches(network_name,node1,node2,season,round,day,winner,match_id) VALUES %s ON CONFLICT DO NOTHING\n",
      "forecasts 554800\n",
      "INSERT INTO forecasts(forecast_name,network_name,match_id,attributes) VALUES %s ON CONFLICT DO NOTHING\n",
      "odds 3800\n",
      "INSERT INTO odds(network_name,bookmaker_name,match_id,attributes) VALUES %s ON CONFLICT DO NOTHING\n",
      "bets 3800\n",
      "INSERT INTO bets(bettor_name,network_name,match_id,attributes) VALUES %s ON CONFLICT DO NOTHING\n",
      "metrics 26600\n",
      "INSERT INTO metrics(metric_name,network_name,match_id,attributes) VALUES %s ON CONFLICT DO NOTHING\n",
      "ratings 15800\n",
      "INSERT INTO ratings(rating_name,node_id,node_name,network_name,season,rating_number,value,trend,starting_point) VALUES %s ON CONFLICT DO NOTHING\n"
     ]
    },
    {
     "name": "stderr",
     "output_type": "stream",
     "text": [
      "14it [11:10, 47.72s/it]"
     ]
    },
    {
     "name": "stdout",
     "output_type": "stream",
     "text": [
      "networks 1\n",
      "INSERT INTO networks(network_name,network_type,seasons,days_between_rounds,rounds) VALUES %s ON CONFLICT DO NOTHING\n",
      "matches 3800\n",
      "INSERT INTO matches(network_name,node1,node2,season,round,day,winner,match_id) VALUES %s ON CONFLICT DO NOTHING\n",
      "forecasts 554800\n",
      "INSERT INTO forecasts(forecast_name,network_name,match_id,attributes) VALUES %s ON CONFLICT DO NOTHING\n",
      "odds 3800\n",
      "INSERT INTO odds(network_name,bookmaker_name,match_id,attributes) VALUES %s ON CONFLICT DO NOTHING\n",
      "bets 3800\n",
      "INSERT INTO bets(bettor_name,network_name,match_id,attributes) VALUES %s ON CONFLICT DO NOTHING\n",
      "metrics 26600\n",
      "INSERT INTO metrics(metric_name,network_name,match_id,attributes) VALUES %s ON CONFLICT DO NOTHING\n",
      "ratings 15800\n",
      "INSERT INTO ratings(rating_name,node_id,node_name,network_name,season,rating_number,value,trend,starting_point) VALUES %s ON CONFLICT DO NOTHING\n"
     ]
    },
    {
     "name": "stderr",
     "output_type": "stream",
     "text": [
      "15it [11:58, 47.92s/it]"
     ]
    },
    {
     "name": "stdout",
     "output_type": "stream",
     "text": [
      "networks 1\n",
      "INSERT INTO networks(network_name,network_type,seasons,days_between_rounds,rounds) VALUES %s ON CONFLICT DO NOTHING\n",
      "matches 3800\n",
      "INSERT INTO matches(network_name,node1,node2,season,round,day,winner,match_id) VALUES %s ON CONFLICT DO NOTHING\n",
      "forecasts 554800\n",
      "INSERT INTO forecasts(forecast_name,network_name,match_id,attributes) VALUES %s ON CONFLICT DO NOTHING\n",
      "odds 3800\n",
      "INSERT INTO odds(network_name,bookmaker_name,match_id,attributes) VALUES %s ON CONFLICT DO NOTHING\n",
      "bets 3800\n",
      "INSERT INTO bets(bettor_name,network_name,match_id,attributes) VALUES %s ON CONFLICT DO NOTHING\n",
      "metrics 26600\n",
      "INSERT INTO metrics(metric_name,network_name,match_id,attributes) VALUES %s ON CONFLICT DO NOTHING\n",
      "ratings 15800\n",
      "INSERT INTO ratings(rating_name,node_id,node_name,network_name,season,rating_number,value,trend,starting_point) VALUES %s ON CONFLICT DO NOTHING\n"
     ]
    },
    {
     "name": "stderr",
     "output_type": "stream",
     "text": [
      "16it [12:47, 48.12s/it]"
     ]
    },
    {
     "name": "stdout",
     "output_type": "stream",
     "text": [
      "networks 1\n",
      "INSERT INTO networks(network_name,network_type,seasons,days_between_rounds,rounds) VALUES %s ON CONFLICT DO NOTHING\n",
      "matches 3800\n",
      "INSERT INTO matches(network_name,node1,node2,season,round,day,winner,match_id) VALUES %s ON CONFLICT DO NOTHING\n",
      "forecasts 554800\n",
      "INSERT INTO forecasts(forecast_name,network_name,match_id,attributes) VALUES %s ON CONFLICT DO NOTHING\n",
      "odds 3800\n",
      "INSERT INTO odds(network_name,bookmaker_name,match_id,attributes) VALUES %s ON CONFLICT DO NOTHING\n",
      "bets 3800\n",
      "INSERT INTO bets(bettor_name,network_name,match_id,attributes) VALUES %s ON CONFLICT DO NOTHING\n",
      "metrics 26600\n",
      "INSERT INTO metrics(metric_name,network_name,match_id,attributes) VALUES %s ON CONFLICT DO NOTHING\n",
      "ratings 15800\n",
      "INSERT INTO ratings(rating_name,node_id,node_name,network_name,season,rating_number,value,trend,starting_point) VALUES %s ON CONFLICT DO NOTHING\n"
     ]
    },
    {
     "name": "stderr",
     "output_type": "stream",
     "text": [
      "17it [13:35, 48.18s/it]"
     ]
    },
    {
     "name": "stdout",
     "output_type": "stream",
     "text": [
      "networks 1\n",
      "INSERT INTO networks(network_name,network_type,seasons,days_between_rounds,rounds) VALUES %s ON CONFLICT DO NOTHING\n",
      "matches 3800\n",
      "INSERT INTO matches(network_name,node1,node2,season,round,day,winner,match_id) VALUES %s ON CONFLICT DO NOTHING\n",
      "forecasts 554800\n",
      "INSERT INTO forecasts(forecast_name,network_name,match_id,attributes) VALUES %s ON CONFLICT DO NOTHING\n",
      "odds 3800\n",
      "INSERT INTO odds(network_name,bookmaker_name,match_id,attributes) VALUES %s ON CONFLICT DO NOTHING\n",
      "bets 3800\n",
      "INSERT INTO bets(bettor_name,network_name,match_id,attributes) VALUES %s ON CONFLICT DO NOTHING\n",
      "metrics 26600\n",
      "INSERT INTO metrics(metric_name,network_name,match_id,attributes) VALUES %s ON CONFLICT DO NOTHING\n",
      "ratings 15800\n",
      "INSERT INTO ratings(rating_name,node_id,node_name,network_name,season,rating_number,value,trend,starting_point) VALUES %s ON CONFLICT DO NOTHING\n"
     ]
    },
    {
     "name": "stderr",
     "output_type": "stream",
     "text": [
      "18it [14:24, 48.49s/it]"
     ]
    },
    {
     "name": "stdout",
     "output_type": "stream",
     "text": [
      "networks 1\n",
      "INSERT INTO networks(network_name,network_type,seasons,days_between_rounds,rounds) VALUES %s ON CONFLICT DO NOTHING\n",
      "matches 3800\n",
      "INSERT INTO matches(network_name,node1,node2,season,round,day,winner,match_id) VALUES %s ON CONFLICT DO NOTHING\n",
      "forecasts 554800\n",
      "INSERT INTO forecasts(forecast_name,network_name,match_id,attributes) VALUES %s ON CONFLICT DO NOTHING\n",
      "odds 3800\n",
      "INSERT INTO odds(network_name,bookmaker_name,match_id,attributes) VALUES %s ON CONFLICT DO NOTHING\n",
      "bets 3800\n",
      "INSERT INTO bets(bettor_name,network_name,match_id,attributes) VALUES %s ON CONFLICT DO NOTHING\n",
      "metrics 26600\n",
      "INSERT INTO metrics(metric_name,network_name,match_id,attributes) VALUES %s ON CONFLICT DO NOTHING\n",
      "ratings 15800\n",
      "INSERT INTO ratings(rating_name,node_id,node_name,network_name,season,rating_number,value,trend,starting_point) VALUES %s ON CONFLICT DO NOTHING\n"
     ]
    },
    {
     "name": "stderr",
     "output_type": "stream",
     "text": [
      "19it [15:14, 48.95s/it]"
     ]
    },
    {
     "name": "stdout",
     "output_type": "stream",
     "text": [
      "networks 1\n",
      "INSERT INTO networks(network_name,network_type,seasons,days_between_rounds,rounds) VALUES %s ON CONFLICT DO NOTHING\n",
      "matches 3800\n",
      "INSERT INTO matches(network_name,node1,node2,season,round,day,winner,match_id) VALUES %s ON CONFLICT DO NOTHING\n",
      "forecasts 554800\n",
      "INSERT INTO forecasts(forecast_name,network_name,match_id,attributes) VALUES %s ON CONFLICT DO NOTHING\n",
      "odds 3800\n",
      "INSERT INTO odds(network_name,bookmaker_name,match_id,attributes) VALUES %s ON CONFLICT DO NOTHING\n",
      "bets 3800\n",
      "INSERT INTO bets(bettor_name,network_name,match_id,attributes) VALUES %s ON CONFLICT DO NOTHING\n",
      "metrics 26600\n",
      "INSERT INTO metrics(metric_name,network_name,match_id,attributes) VALUES %s ON CONFLICT DO NOTHING\n",
      "ratings 15800\n",
      "INSERT INTO ratings(rating_name,node_id,node_name,network_name,season,rating_number,value,trend,starting_point) VALUES %s ON CONFLICT DO NOTHING\n"
     ]
    },
    {
     "name": "stderr",
     "output_type": "stream",
     "text": [
      "20it [16:08, 50.28s/it]"
     ]
    },
    {
     "name": "stdout",
     "output_type": "stream",
     "text": [
      "networks 1\n",
      "INSERT INTO networks(network_name,network_type,seasons,days_between_rounds,rounds) VALUES %s ON CONFLICT DO NOTHING\n",
      "matches 3800\n",
      "INSERT INTO matches(network_name,node1,node2,season,round,day,winner,match_id) VALUES %s ON CONFLICT DO NOTHING\n",
      "forecasts 554800\n",
      "INSERT INTO forecasts(forecast_name,network_name,match_id,attributes) VALUES %s ON CONFLICT DO NOTHING\n",
      "odds 3800\n",
      "INSERT INTO odds(network_name,bookmaker_name,match_id,attributes) VALUES %s ON CONFLICT DO NOTHING\n",
      "bets 3800\n",
      "INSERT INTO bets(bettor_name,network_name,match_id,attributes) VALUES %s ON CONFLICT DO NOTHING\n",
      "metrics 26600\n",
      "INSERT INTO metrics(metric_name,network_name,match_id,attributes) VALUES %s ON CONFLICT DO NOTHING\n",
      "ratings 15800\n",
      "INSERT INTO ratings(rating_name,node_id,node_name,network_name,season,rating_number,value,trend,starting_point) VALUES %s ON CONFLICT DO NOTHING\n"
     ]
    },
    {
     "name": "stderr",
     "output_type": "stream",
     "text": [
      "21it [27:29, 239.54s/it]"
     ]
    },
    {
     "name": "stdout",
     "output_type": "stream",
     "text": [
      "networks 1\n",
      "INSERT INTO networks(network_name,network_type,seasons,days_between_rounds,rounds) VALUES %s ON CONFLICT DO NOTHING\n",
      "matches 3800\n",
      "INSERT INTO matches(network_name,node1,node2,season,round,day,winner,match_id) VALUES %s ON CONFLICT DO NOTHING\n",
      "forecasts 554800\n",
      "INSERT INTO forecasts(forecast_name,network_name,match_id,attributes) VALUES %s ON CONFLICT DO NOTHING\n",
      "odds 3800\n",
      "INSERT INTO odds(network_name,bookmaker_name,match_id,attributes) VALUES %s ON CONFLICT DO NOTHING\n",
      "bets 3800\n",
      "INSERT INTO bets(bettor_name,network_name,match_id,attributes) VALUES %s ON CONFLICT DO NOTHING\n",
      "metrics 26600\n",
      "INSERT INTO metrics(metric_name,network_name,match_id,attributes) VALUES %s ON CONFLICT DO NOTHING\n",
      "ratings 15800\n",
      "INSERT INTO ratings(rating_name,node_id,node_name,network_name,season,rating_number,value,trend,starting_point) VALUES %s ON CONFLICT DO NOTHING\n"
     ]
    },
    {
     "name": "stderr",
     "output_type": "stream",
     "text": [
      "22it [28:16, 182.02s/it]"
     ]
    },
    {
     "name": "stdout",
     "output_type": "stream",
     "text": [
      "networks 1\n",
      "INSERT INTO networks(network_name,network_type,seasons,days_between_rounds,rounds) VALUES %s ON CONFLICT DO NOTHING\n",
      "matches 3800\n",
      "INSERT INTO matches(network_name,node1,node2,season,round,day,winner,match_id) VALUES %s ON CONFLICT DO NOTHING\n",
      "forecasts 554800\n",
      "INSERT INTO forecasts(forecast_name,network_name,match_id,attributes) VALUES %s ON CONFLICT DO NOTHING\n",
      "odds 3800\n",
      "INSERT INTO odds(network_name,bookmaker_name,match_id,attributes) VALUES %s ON CONFLICT DO NOTHING\n",
      "bets 3800\n",
      "INSERT INTO bets(bettor_name,network_name,match_id,attributes) VALUES %s ON CONFLICT DO NOTHING\n",
      "metrics 26600\n",
      "INSERT INTO metrics(metric_name,network_name,match_id,attributes) VALUES %s ON CONFLICT DO NOTHING\n",
      "ratings 15800\n",
      "INSERT INTO ratings(rating_name,node_id,node_name,network_name,season,rating_number,value,trend,starting_point) VALUES %s ON CONFLICT DO NOTHING\n"
     ]
    },
    {
     "name": "stderr",
     "output_type": "stream",
     "text": [
      "23it [29:04, 141.75s/it]"
     ]
    },
    {
     "name": "stdout",
     "output_type": "stream",
     "text": [
      "networks 1\n",
      "INSERT INTO networks(network_name,network_type,seasons,days_between_rounds,rounds) VALUES %s ON CONFLICT DO NOTHING\n",
      "matches 3800\n",
      "INSERT INTO matches(network_name,node1,node2,season,round,day,winner,match_id) VALUES %s ON CONFLICT DO NOTHING\n",
      "forecasts 554800\n",
      "INSERT INTO forecasts(forecast_name,network_name,match_id,attributes) VALUES %s ON CONFLICT DO NOTHING\n",
      "odds 3800\n",
      "INSERT INTO odds(network_name,bookmaker_name,match_id,attributes) VALUES %s ON CONFLICT DO NOTHING\n",
      "bets 3800\n",
      "INSERT INTO bets(bettor_name,network_name,match_id,attributes) VALUES %s ON CONFLICT DO NOTHING\n",
      "metrics 26600\n",
      "INSERT INTO metrics(metric_name,network_name,match_id,attributes) VALUES %s ON CONFLICT DO NOTHING\n",
      "ratings 15800\n",
      "INSERT INTO ratings(rating_name,node_id,node_name,network_name,season,rating_number,value,trend,starting_point) VALUES %s ON CONFLICT DO NOTHING\n"
     ]
    },
    {
     "name": "stderr",
     "output_type": "stream",
     "text": [
      "24it [29:53, 113.80s/it]"
     ]
    },
    {
     "name": "stdout",
     "output_type": "stream",
     "text": [
      "networks 1\n",
      "INSERT INTO networks(network_name,network_type,seasons,days_between_rounds,rounds) VALUES %s ON CONFLICT DO NOTHING\n",
      "matches 3800\n",
      "INSERT INTO matches(network_name,node1,node2,season,round,day,winner,match_id) VALUES %s ON CONFLICT DO NOTHING\n",
      "forecasts 554800\n",
      "INSERT INTO forecasts(forecast_name,network_name,match_id,attributes) VALUES %s ON CONFLICT DO NOTHING\n",
      "odds 3800\n",
      "INSERT INTO odds(network_name,bookmaker_name,match_id,attributes) VALUES %s ON CONFLICT DO NOTHING\n",
      "bets 3800\n",
      "INSERT INTO bets(bettor_name,network_name,match_id,attributes) VALUES %s ON CONFLICT DO NOTHING\n",
      "metrics 26600\n",
      "INSERT INTO metrics(metric_name,network_name,match_id,attributes) VALUES %s ON CONFLICT DO NOTHING\n",
      "ratings 15800\n",
      "INSERT INTO ratings(rating_name,node_id,node_name,network_name,season,rating_number,value,trend,starting_point) VALUES %s ON CONFLICT DO NOTHING\n"
     ]
    },
    {
     "name": "stderr",
     "output_type": "stream",
     "text": [
      "25it [30:41, 94.21s/it] "
     ]
    },
    {
     "name": "stdout",
     "output_type": "stream",
     "text": [
      "networks 1\n",
      "INSERT INTO networks(network_name,network_type,seasons,days_between_rounds,rounds) VALUES %s ON CONFLICT DO NOTHING\n",
      "matches 3800\n",
      "INSERT INTO matches(network_name,node1,node2,season,round,day,winner,match_id) VALUES %s ON CONFLICT DO NOTHING\n",
      "forecasts 554800\n",
      "INSERT INTO forecasts(forecast_name,network_name,match_id,attributes) VALUES %s ON CONFLICT DO NOTHING\n",
      "odds 3800\n",
      "INSERT INTO odds(network_name,bookmaker_name,match_id,attributes) VALUES %s ON CONFLICT DO NOTHING\n",
      "bets 3800\n",
      "INSERT INTO bets(bettor_name,network_name,match_id,attributes) VALUES %s ON CONFLICT DO NOTHING\n",
      "metrics 26600\n",
      "INSERT INTO metrics(metric_name,network_name,match_id,attributes) VALUES %s ON CONFLICT DO NOTHING\n",
      "ratings 15800\n",
      "INSERT INTO ratings(rating_name,node_id,node_name,network_name,season,rating_number,value,trend,starting_point) VALUES %s ON CONFLICT DO NOTHING\n"
     ]
    },
    {
     "name": "stderr",
     "output_type": "stream",
     "text": [
      "26it [31:31, 80.73s/it]"
     ]
    },
    {
     "name": "stdout",
     "output_type": "stream",
     "text": [
      "networks 1\n",
      "INSERT INTO networks(network_name,network_type,seasons,days_between_rounds,rounds) VALUES %s ON CONFLICT DO NOTHING\n",
      "matches 3800\n",
      "INSERT INTO matches(network_name,node1,node2,season,round,day,winner,match_id) VALUES %s ON CONFLICT DO NOTHING\n",
      "forecasts 554800\n",
      "INSERT INTO forecasts(forecast_name,network_name,match_id,attributes) VALUES %s ON CONFLICT DO NOTHING\n",
      "odds 3800\n",
      "INSERT INTO odds(network_name,bookmaker_name,match_id,attributes) VALUES %s ON CONFLICT DO NOTHING\n",
      "bets 3800\n",
      "INSERT INTO bets(bettor_name,network_name,match_id,attributes) VALUES %s ON CONFLICT DO NOTHING\n",
      "metrics 26600\n",
      "INSERT INTO metrics(metric_name,network_name,match_id,attributes) VALUES %s ON CONFLICT DO NOTHING\n",
      "ratings 15800\n",
      "INSERT INTO ratings(rating_name,node_id,node_name,network_name,season,rating_number,value,trend,starting_point) VALUES %s ON CONFLICT DO NOTHING\n"
     ]
    },
    {
     "name": "stderr",
     "output_type": "stream",
     "text": [
      "27it [32:20, 71.27s/it]"
     ]
    },
    {
     "name": "stdout",
     "output_type": "stream",
     "text": [
      "networks 1\n",
      "INSERT INTO networks(network_name,network_type,seasons,days_between_rounds,rounds) VALUES %s ON CONFLICT DO NOTHING\n",
      "matches 3800\n",
      "INSERT INTO matches(network_name,node1,node2,season,round,day,winner,match_id) VALUES %s ON CONFLICT DO NOTHING\n",
      "forecasts 554800\n",
      "INSERT INTO forecasts(forecast_name,network_name,match_id,attributes) VALUES %s ON CONFLICT DO NOTHING\n",
      "odds 3800\n",
      "INSERT INTO odds(network_name,bookmaker_name,match_id,attributes) VALUES %s ON CONFLICT DO NOTHING\n",
      "bets 3800\n",
      "INSERT INTO bets(bettor_name,network_name,match_id,attributes) VALUES %s ON CONFLICT DO NOTHING\n",
      "metrics 26600\n",
      "INSERT INTO metrics(metric_name,network_name,match_id,attributes) VALUES %s ON CONFLICT DO NOTHING\n",
      "ratings 15800\n",
      "INSERT INTO ratings(rating_name,node_id,node_name,network_name,season,rating_number,value,trend,starting_point) VALUES %s ON CONFLICT DO NOTHING\n"
     ]
    },
    {
     "name": "stderr",
     "output_type": "stream",
     "text": [
      "28it [33:09, 64.73s/it]"
     ]
    },
    {
     "name": "stdout",
     "output_type": "stream",
     "text": [
      "networks 1\n",
      "INSERT INTO networks(network_name,network_type,seasons,days_between_rounds,rounds) VALUES %s ON CONFLICT DO NOTHING\n",
      "matches 3800\n",
      "INSERT INTO matches(network_name,node1,node2,season,round,day,winner,match_id) VALUES %s ON CONFLICT DO NOTHING\n",
      "forecasts 554800\n",
      "INSERT INTO forecasts(forecast_name,network_name,match_id,attributes) VALUES %s ON CONFLICT DO NOTHING\n",
      "odds 3800\n",
      "INSERT INTO odds(network_name,bookmaker_name,match_id,attributes) VALUES %s ON CONFLICT DO NOTHING\n",
      "bets 3800\n",
      "INSERT INTO bets(bettor_name,network_name,match_id,attributes) VALUES %s ON CONFLICT DO NOTHING\n",
      "metrics 26600\n",
      "INSERT INTO metrics(metric_name,network_name,match_id,attributes) VALUES %s ON CONFLICT DO NOTHING\n",
      "ratings 15800\n",
      "INSERT INTO ratings(rating_name,node_id,node_name,network_name,season,rating_number,value,trend,starting_point) VALUES %s ON CONFLICT DO NOTHING\n"
     ]
    },
    {
     "name": "stderr",
     "output_type": "stream",
     "text": [
      "29it [33:59, 60.29s/it]"
     ]
    },
    {
     "name": "stdout",
     "output_type": "stream",
     "text": [
      "networks 1\n",
      "INSERT INTO networks(network_name,network_type,seasons,days_between_rounds,rounds) VALUES %s ON CONFLICT DO NOTHING\n",
      "matches 3800\n",
      "INSERT INTO matches(network_name,node1,node2,season,round,day,winner,match_id) VALUES %s ON CONFLICT DO NOTHING\n",
      "forecasts 554800\n",
      "INSERT INTO forecasts(forecast_name,network_name,match_id,attributes) VALUES %s ON CONFLICT DO NOTHING\n",
      "odds 3800\n",
      "INSERT INTO odds(network_name,bookmaker_name,match_id,attributes) VALUES %s ON CONFLICT DO NOTHING\n",
      "bets 3800\n",
      "INSERT INTO bets(bettor_name,network_name,match_id,attributes) VALUES %s ON CONFLICT DO NOTHING\n",
      "metrics 26600\n",
      "INSERT INTO metrics(metric_name,network_name,match_id,attributes) VALUES %s ON CONFLICT DO NOTHING\n",
      "ratings 15800\n",
      "INSERT INTO ratings(rating_name,node_id,node_name,network_name,season,rating_number,value,trend,starting_point) VALUES %s ON CONFLICT DO NOTHING\n"
     ]
    },
    {
     "name": "stderr",
     "output_type": "stream",
     "text": [
      "30it [34:49, 57.13s/it]"
     ]
    },
    {
     "name": "stdout",
     "output_type": "stream",
     "text": [
      "networks 1\n",
      "INSERT INTO networks(network_name,network_type,seasons,days_between_rounds,rounds) VALUES %s ON CONFLICT DO NOTHING\n",
      "matches 3800\n",
      "INSERT INTO matches(network_name,node1,node2,season,round,day,winner,match_id) VALUES %s ON CONFLICT DO NOTHING\n",
      "forecasts 554800\n",
      "INSERT INTO forecasts(forecast_name,network_name,match_id,attributes) VALUES %s ON CONFLICT DO NOTHING\n",
      "odds 3800\n",
      "INSERT INTO odds(network_name,bookmaker_name,match_id,attributes) VALUES %s ON CONFLICT DO NOTHING\n",
      "bets 3800\n",
      "INSERT INTO bets(bettor_name,network_name,match_id,attributes) VALUES %s ON CONFLICT DO NOTHING\n",
      "metrics 26600\n",
      "INSERT INTO metrics(metric_name,network_name,match_id,attributes) VALUES %s ON CONFLICT DO NOTHING\n",
      "ratings 15800\n",
      "INSERT INTO ratings(rating_name,node_id,node_name,network_name,season,rating_number,value,trend,starting_point) VALUES %s ON CONFLICT DO NOTHING\n"
     ]
    },
    {
     "name": "stderr",
     "output_type": "stream",
     "text": [
      "31it [35:41, 55.64s/it]"
     ]
    },
    {
     "name": "stdout",
     "output_type": "stream",
     "text": [
      "networks 1\n",
      "INSERT INTO networks(network_name,network_type,seasons,days_between_rounds,rounds) VALUES %s ON CONFLICT DO NOTHING\n",
      "matches 3800\n",
      "INSERT INTO matches(network_name,node1,node2,season,round,day,winner,match_id) VALUES %s ON CONFLICT DO NOTHING\n",
      "forecasts 554800\n",
      "INSERT INTO forecasts(forecast_name,network_name,match_id,attributes) VALUES %s ON CONFLICT DO NOTHING\n",
      "odds 3800\n",
      "INSERT INTO odds(network_name,bookmaker_name,match_id,attributes) VALUES %s ON CONFLICT DO NOTHING\n",
      "bets 3800\n",
      "INSERT INTO bets(bettor_name,network_name,match_id,attributes) VALUES %s ON CONFLICT DO NOTHING\n",
      "metrics 26600\n",
      "INSERT INTO metrics(metric_name,network_name,match_id,attributes) VALUES %s ON CONFLICT DO NOTHING\n",
      "ratings 15800\n",
      "INSERT INTO ratings(rating_name,node_id,node_name,network_name,season,rating_number,value,trend,starting_point) VALUES %s ON CONFLICT DO NOTHING\n"
     ]
    },
    {
     "name": "stderr",
     "output_type": "stream",
     "text": [
      "32it [36:32, 54.18s/it]"
     ]
    },
    {
     "name": "stdout",
     "output_type": "stream",
     "text": [
      "networks 1\n",
      "INSERT INTO networks(network_name,network_type,seasons,days_between_rounds,rounds) VALUES %s ON CONFLICT DO NOTHING\n",
      "matches 3800\n",
      "INSERT INTO matches(network_name,node1,node2,season,round,day,winner,match_id) VALUES %s ON CONFLICT DO NOTHING\n",
      "forecasts 554800\n",
      "INSERT INTO forecasts(forecast_name,network_name,match_id,attributes) VALUES %s ON CONFLICT DO NOTHING\n",
      "odds 3800\n",
      "INSERT INTO odds(network_name,bookmaker_name,match_id,attributes) VALUES %s ON CONFLICT DO NOTHING\n",
      "bets 3800\n",
      "INSERT INTO bets(bettor_name,network_name,match_id,attributes) VALUES %s ON CONFLICT DO NOTHING\n",
      "metrics 26600\n",
      "INSERT INTO metrics(metric_name,network_name,match_id,attributes) VALUES %s ON CONFLICT DO NOTHING\n",
      "ratings 15800\n",
      "INSERT INTO ratings(rating_name,node_id,node_name,network_name,season,rating_number,value,trend,starting_point) VALUES %s ON CONFLICT DO NOTHING\n"
     ]
    },
    {
     "name": "stderr",
     "output_type": "stream",
     "text": [
      "33it [37:21, 52.65s/it]"
     ]
    },
    {
     "name": "stdout",
     "output_type": "stream",
     "text": [
      "networks 1\n",
      "INSERT INTO networks(network_name,network_type,seasons,days_between_rounds,rounds) VALUES %s ON CONFLICT DO NOTHING\n",
      "matches 3800\n",
      "INSERT INTO matches(network_name,node1,node2,season,round,day,winner,match_id) VALUES %s ON CONFLICT DO NOTHING\n",
      "forecasts 554800\n",
      "INSERT INTO forecasts(forecast_name,network_name,match_id,attributes) VALUES %s ON CONFLICT DO NOTHING\n",
      "odds 3800\n",
      "INSERT INTO odds(network_name,bookmaker_name,match_id,attributes) VALUES %s ON CONFLICT DO NOTHING\n",
      "bets 3800\n",
      "INSERT INTO bets(bettor_name,network_name,match_id,attributes) VALUES %s ON CONFLICT DO NOTHING\n",
      "metrics 26600\n",
      "INSERT INTO metrics(metric_name,network_name,match_id,attributes) VALUES %s ON CONFLICT DO NOTHING\n",
      "ratings 15800\n",
      "INSERT INTO ratings(rating_name,node_id,node_name,network_name,season,rating_number,value,trend,starting_point) VALUES %s ON CONFLICT DO NOTHING\n"
     ]
    },
    {
     "name": "stderr",
     "output_type": "stream",
     "text": [
      "34it [38:12, 52.15s/it]"
     ]
    },
    {
     "name": "stdout",
     "output_type": "stream",
     "text": [
      "networks 1\n",
      "INSERT INTO networks(network_name,network_type,seasons,days_between_rounds,rounds) VALUES %s ON CONFLICT DO NOTHING\n",
      "matches 3800\n",
      "INSERT INTO matches(network_name,node1,node2,season,round,day,winner,match_id) VALUES %s ON CONFLICT DO NOTHING\n",
      "forecasts 554800\n",
      "INSERT INTO forecasts(forecast_name,network_name,match_id,attributes) VALUES %s ON CONFLICT DO NOTHING\n",
      "odds 3800\n",
      "INSERT INTO odds(network_name,bookmaker_name,match_id,attributes) VALUES %s ON CONFLICT DO NOTHING\n",
      "bets 3800\n",
      "INSERT INTO bets(bettor_name,network_name,match_id,attributes) VALUES %s ON CONFLICT DO NOTHING\n",
      "metrics 26600\n",
      "INSERT INTO metrics(metric_name,network_name,match_id,attributes) VALUES %s ON CONFLICT DO NOTHING\n",
      "ratings 15800\n",
      "INSERT INTO ratings(rating_name,node_id,node_name,network_name,season,rating_number,value,trend,starting_point) VALUES %s ON CONFLICT DO NOTHING\n"
     ]
    },
    {
     "name": "stderr",
     "output_type": "stream",
     "text": [
      "35it [39:04, 52.16s/it]"
     ]
    },
    {
     "name": "stdout",
     "output_type": "stream",
     "text": [
      "networks 1\n",
      "INSERT INTO networks(network_name,network_type,seasons,days_between_rounds,rounds) VALUES %s ON CONFLICT DO NOTHING\n",
      "matches 3800\n",
      "INSERT INTO matches(network_name,node1,node2,season,round,day,winner,match_id) VALUES %s ON CONFLICT DO NOTHING\n",
      "forecasts 554800\n",
      "INSERT INTO forecasts(forecast_name,network_name,match_id,attributes) VALUES %s ON CONFLICT DO NOTHING\n",
      "odds 3800\n",
      "INSERT INTO odds(network_name,bookmaker_name,match_id,attributes) VALUES %s ON CONFLICT DO NOTHING\n",
      "bets 3800\n",
      "INSERT INTO bets(bettor_name,network_name,match_id,attributes) VALUES %s ON CONFLICT DO NOTHING\n",
      "metrics 26600\n",
      "INSERT INTO metrics(metric_name,network_name,match_id,attributes) VALUES %s ON CONFLICT DO NOTHING\n",
      "ratings 15800\n",
      "INSERT INTO ratings(rating_name,node_id,node_name,network_name,season,rating_number,value,trend,starting_point) VALUES %s ON CONFLICT DO NOTHING\n"
     ]
    },
    {
     "name": "stderr",
     "output_type": "stream",
     "text": [
      "36it [39:55, 51.80s/it]"
     ]
    },
    {
     "name": "stdout",
     "output_type": "stream",
     "text": [
      "networks 1\n",
      "INSERT INTO networks(network_name,network_type,seasons,days_between_rounds,rounds) VALUES %s ON CONFLICT DO NOTHING\n",
      "matches 3800\n",
      "INSERT INTO matches(network_name,node1,node2,season,round,day,winner,match_id) VALUES %s ON CONFLICT DO NOTHING\n",
      "forecasts 554800\n",
      "INSERT INTO forecasts(forecast_name,network_name,match_id,attributes) VALUES %s ON CONFLICT DO NOTHING\n",
      "odds 3800\n",
      "INSERT INTO odds(network_name,bookmaker_name,match_id,attributes) VALUES %s ON CONFLICT DO NOTHING\n",
      "bets 3800\n",
      "INSERT INTO bets(bettor_name,network_name,match_id,attributes) VALUES %s ON CONFLICT DO NOTHING\n",
      "metrics 26600\n",
      "INSERT INTO metrics(metric_name,network_name,match_id,attributes) VALUES %s ON CONFLICT DO NOTHING\n",
      "ratings 15800\n",
      "INSERT INTO ratings(rating_name,node_id,node_name,network_name,season,rating_number,value,trend,starting_point) VALUES %s ON CONFLICT DO NOTHING\n"
     ]
    },
    {
     "name": "stderr",
     "output_type": "stream",
     "text": [
      "37it [40:48, 52.24s/it]"
     ]
    },
    {
     "name": "stdout",
     "output_type": "stream",
     "text": [
      "networks 1\n",
      "INSERT INTO networks(network_name,network_type,seasons,days_between_rounds,rounds) VALUES %s ON CONFLICT DO NOTHING\n",
      "matches 3800\n",
      "INSERT INTO matches(network_name,node1,node2,season,round,day,winner,match_id) VALUES %s ON CONFLICT DO NOTHING\n",
      "forecasts 554800\n",
      "INSERT INTO forecasts(forecast_name,network_name,match_id,attributes) VALUES %s ON CONFLICT DO NOTHING\n",
      "odds 3800\n",
      "INSERT INTO odds(network_name,bookmaker_name,match_id,attributes) VALUES %s ON CONFLICT DO NOTHING\n",
      "bets 3800\n",
      "INSERT INTO bets(bettor_name,network_name,match_id,attributes) VALUES %s ON CONFLICT DO NOTHING\n",
      "metrics 26600\n",
      "INSERT INTO metrics(metric_name,network_name,match_id,attributes) VALUES %s ON CONFLICT DO NOTHING\n",
      "ratings 15800\n",
      "INSERT INTO ratings(rating_name,node_id,node_name,network_name,season,rating_number,value,trend,starting_point) VALUES %s ON CONFLICT DO NOTHING\n"
     ]
    },
    {
     "name": "stderr",
     "output_type": "stream",
     "text": [
      "38it [41:44, 53.19s/it]"
     ]
    },
    {
     "name": "stdout",
     "output_type": "stream",
     "text": [
      "networks 1\n",
      "INSERT INTO networks(network_name,network_type,seasons,days_between_rounds,rounds) VALUES %s ON CONFLICT DO NOTHING\n",
      "matches 3800\n",
      "INSERT INTO matches(network_name,node1,node2,season,round,day,winner,match_id) VALUES %s ON CONFLICT DO NOTHING\n",
      "forecasts 554800\n",
      "INSERT INTO forecasts(forecast_name,network_name,match_id,attributes) VALUES %s ON CONFLICT DO NOTHING\n",
      "odds 3800\n",
      "INSERT INTO odds(network_name,bookmaker_name,match_id,attributes) VALUES %s ON CONFLICT DO NOTHING\n",
      "bets 3800\n",
      "INSERT INTO bets(bettor_name,network_name,match_id,attributes) VALUES %s ON CONFLICT DO NOTHING\n",
      "metrics 26600\n",
      "INSERT INTO metrics(metric_name,network_name,match_id,attributes) VALUES %s ON CONFLICT DO NOTHING\n",
      "ratings 15800\n",
      "INSERT INTO ratings(rating_name,node_id,node_name,network_name,season,rating_number,value,trend,starting_point) VALUES %s ON CONFLICT DO NOTHING\n"
     ]
    },
    {
     "name": "stderr",
     "output_type": "stream",
     "text": [
      "39it [42:36, 52.78s/it]"
     ]
    },
    {
     "name": "stdout",
     "output_type": "stream",
     "text": [
      "networks 1\n",
      "INSERT INTO networks(network_name,network_type,seasons,days_between_rounds,rounds) VALUES %s ON CONFLICT DO NOTHING\n",
      "matches 3800\n",
      "INSERT INTO matches(network_name,node1,node2,season,round,day,winner,match_id) VALUES %s ON CONFLICT DO NOTHING\n",
      "forecasts 554800\n",
      "INSERT INTO forecasts(forecast_name,network_name,match_id,attributes) VALUES %s ON CONFLICT DO NOTHING\n",
      "odds 3800\n",
      "INSERT INTO odds(network_name,bookmaker_name,match_id,attributes) VALUES %s ON CONFLICT DO NOTHING\n",
      "bets 3800\n",
      "INSERT INTO bets(bettor_name,network_name,match_id,attributes) VALUES %s ON CONFLICT DO NOTHING\n",
      "metrics 26600\n",
      "INSERT INTO metrics(metric_name,network_name,match_id,attributes) VALUES %s ON CONFLICT DO NOTHING\n",
      "ratings 15800\n",
      "INSERT INTO ratings(rating_name,node_id,node_name,network_name,season,rating_number,value,trend,starting_point) VALUES %s ON CONFLICT DO NOTHING\n"
     ]
    },
    {
     "name": "stderr",
     "output_type": "stream",
     "text": [
      "40it [43:29, 65.24s/it]\n"
     ]
    }
   ],
   "source": [
    "experiment_start_time = time.time()\n",
    "for c0 in np.arange(-1.20, -0.60, 0.1):\n",
    "    for c1 in np.arange(0.0, 0.60, 0.1):\n",
    "        for beta in np.arange(0.002, 0.010, 0.002):\n",
    "            print(f'Variables: c0: {c0}, c1: {c1} and beta: {beta}')\n",
    "            forecast_pointer = f\"player_forecast_{c0:.2f}_{c1:.2f}_{beta:.3f}\"\n",
    "            cell_start_time = time.time()\n",
    "            all_matches =  []\n",
    "            is_matches =  []\n",
    "            oos_matches =  []\n",
    "            \n",
    "            for network_number, network in enumerate(networks):\n",
    "                if config[\"create_data\"]:\n",
    "                    network.add_forecast(\n",
    "                        forecast=LogFunctionForecast(outcomes=['home', 'draw', 'away'], coefficients=[c0, c1], beta_parameter=beta, home_team_error=rating_error, away_team_error=rating_error),\n",
    "                        forecast_name=forecast_pointer,\n",
    "                        base_ranking='true_rating'\n",
    "                    )\n",
    "                network.add_bets(\n",
    "                    bettor_name='b',\n",
    "                    bookmaker='bm',\n",
    "                    betting=betting,\n",
    "                    base_forecast=forecast_pointer\n",
    "                )\n",
    "                \n",
    "                rps = RankProbabilityScore(outcomes=['home', 'draw', 'away'], forecast_name = forecast_pointer)\n",
    "                betting_returns = BettingReturnsEvaluator(outcomes=['home', 'draw', 'away'], player_name = 'b', true_model = 'true_forecast', bookmaker_name = 'bm')\n",
    "                betting_activity = BettingActivity(outcomes=['home', 'draw', 'away'], player_name = 'b')\n",
    "                likelihood = Likelihood(outcomes=['home', 'draw', 'away'], forecast_name = forecast_pointer)\n",
    "                difference = ProbabilityDifference(outcomes=['home', 'draw', 'away'], forecast_name = forecast_pointer)\n",
    "                draw_probability = ProbabilityPointer(outcomes=['home', 'draw', 'away'], forecast_name = forecast_pointer, probability_index=1)\n",
    "                fav_probability = FavouriteProbability(outcomes=['home', 'draw', 'away'], forecast_name = forecast_pointer)\n",
    "\n",
    "                network.add_evaluation([\n",
    "                    (rps, 'rps'),\n",
    "                    (betting_returns, 'betting_returns'),\n",
    "                    (betting_activity, 'betting_activity'),\n",
    "                    (likelihood, 'likelihood'),\n",
    "                    (difference, 'prob_diff'),\n",
    "                    (draw_probability, 'draw_prob'),\n",
    "                    (fav_probability, 'fav_prob')\n",
    "                ])\n",
    "                    \n",
    "                all_matches += [(a,h, match_id, match_attributes) for a,h, match_id, match_attributes in network.iterate_over_games()]\n",
    "                is_matches += [(a,h, match_id, match_attributes) for a,h, match_id, match_attributes in network.iterate_over_games() if match_attributes['season'] <= config[\"in_sample_maximum\"]]\n",
    "                oos_matches += [(a,h, match_id, match_attributes) for a,h, match_id, match_attributes in network.iterate_over_games() if match_attributes['season'] > config[\"in_sample_maximum\"]]\n",
    "            \n",
    "            cv_result += cross_validate_betting_returns(np.array(all_matches), config[\"number_of_splits\"], forecast_pointer)\n",
    "            result_all = aggregate_measures(all_matches, 'all')\n",
    "            result_is = aggregate_measures(is_matches, 'is')\n",
    "            result_oos = aggregate_measures(oos_matches, 'oos')\n",
    "            result = {\n",
    "                'c0' : c0, 'c1' : c1, 'beta' : beta, **result_is, **result_oos, **result_all, **entire_model_values\n",
    "            }\n",
    "            result_list.append(result)\n",
    "            print(f\"Finished in {float(time.time() - cell_start_time)} seconds\")\n",
    "\n",
    "print(f\"Experiment finished in {float(time.time() - experiment_start_time)} seconds with {len(result_list)} observations.\")\n",
    "\n",
    "df = pd.DataFrame(result_list)\n",
    "df.to_excel(f\"Results_{config['test_name']}.xlsx\")\n",
    "\n",
    "if config[\"create_data\"]:\n",
    "    print(\"Saving data with the all the forecasts added\")\n",
    "    for network_number, network in tqdm(enumerate(networks)):\n",
    "        main_controller.networks[f\"{config['test_name']}_network_{network_number}\"] = network\n",
    "        main_controller.save_network(f\"{config['test_name']}_network_{network_number}\")\n",
    "            "
   ]
  },
  {
   "cell_type": "markdown",
   "metadata": {},
   "source": [
    "### Process and store cross-validation results"
   ]
  },
  {
   "cell_type": "code",
   "execution_count": 18,
   "metadata": {
    "collapsed": false,
    "jupyter": {
     "outputs_hidden": false
    },
    "pycharm": {
     "name": "#%%\n"
    }
   },
   "outputs": [],
   "source": [
    "cv_df = pd.DataFrame(cv_result)\n",
    "\n",
    "cv_df[cv_df['permutation'] == \"0 x 1\"].sort_values(by='is_rps').head(144)\n",
    "\n",
    "# Optimizing for RPS\n",
    "by_rps_df = cv_df.loc[cv_df.groupby('permutation').is_rps.idxmin(), ['permutation', 'model_hint', 'oos_betting_returns',\t'oos_betting_returns_expected']].set_index('permutation')\n",
    "# Optimizing for likelihood\n",
    "by_likelihood_df = cv_df.loc[cv_df.groupby('permutation').is_likelihood.idxmax(), ['permutation', 'model_hint', 'oos_betting_returns',\t'oos_betting_returns_expected']].set_index('permutation')\n",
    "# Optimizing for betting\n",
    "by_betting_df = cv_df.loc[cv_df.groupby('permutation').is_betting_returns.idxmax(), ['permutation', 'model_hint', 'oos_betting_returns',\t'oos_betting_returns_expected']].set_index('permutation')\n",
    "\n",
    "cv_study_df = by_rps_df.join(\n",
    "    by_likelihood_df.join(\n",
    "        by_betting_df,\n",
    "        lsuffix='',\n",
    "        rsuffix='_betting',\n",
    "    ),\n",
    "    lsuffix='_rps',\n",
    "    rsuffix='_likelihood',\n",
    ")\n",
    "\n",
    "cv_study_df.to_excel(f\"Permutations_{config['test_name']}.xlsx\")"
   ]
  },
  {
   "cell_type": "code",
   "execution_count": null,
   "metadata": {},
   "outputs": [],
   "source": []
  }
 ],
 "metadata": {
  "kernelspec": {
   "display_name": "Python 3",
   "language": "python",
   "name": "python3"
  },
  "language_info": {
   "codemirror_mode": {
    "name": "ipython",
    "version": 3
   },
   "file_extension": ".py",
   "mimetype": "text/x-python",
   "name": "python",
   "nbconvert_exporter": "python",
   "pygments_lexer": "ipython3",
   "version": "3.7.7"
  }
 },
 "nbformat": 4,
 "nbformat_minor": 5
}
