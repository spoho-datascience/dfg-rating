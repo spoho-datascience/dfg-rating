{
 "cells": [
  {
   "cell_type": "markdown",
   "id": "469dfb3f",
   "metadata": {},
   "source": [
    "# Economic Experiment"
   ]
  },
  {
   "cell_type": "markdown",
   "id": "00b4c183",
   "metadata": {},
   "source": [
    "Add description of the experiment here"
   ]
  },
  {
   "cell_type": "markdown",
   "id": "0ccb3f54",
   "metadata": {},
   "source": [
    "## Import Statements"
   ]
  },
  {
   "cell_type": "code",
   "execution_count": null,
   "id": "59886749",
   "metadata": {},
   "outputs": [],
   "source": [
    "from dfg_rating.model import factory\n",
    "from dfg_rating.model.betting.betting import FixedBetting\n",
    "from dfg_rating.model.bookmaker.base_bookmaker import BaseBookmaker\n",
    "from dfg_rating.model.evaluators.accuracy import RankProbabilityScore, Likelihood, ProbabilityDifference, ProbabilityPointer, FavouriteProbability\n",
    "from dfg_rating.model.evaluators.profitability import BettingReturnsEvaluator\n",
    "from dfg_rating.model.evaluators.base_evaluators import BettingActivity\n",
    "from dfg_rating.model.forecast.true_forecast import LogFunctionForecast\n",
    "from dfg_rating.model.network.base_network import BaseNetwork\n",
    "from dfg_rating.model.rating.controlled_trend_rating import ControlledTrendRating, ControlledRandomFunction\n",
    "\n",
    "#specify rating error\n",
    "from dfg_rating.model.rating.base_rating import RatingFunctionError\n",
    "\n",
    "import pandas as pd\n",
    "import numpy as np\n",
    "import time\n",
    "from tqdm import tqdm\n",
    "import itertools as it\n",
    "\n",
    "pd.set_option('display.max_columns', None)\n",
    "pd.set_option('display.max_rows', None)\n",
    "pd.options.display.width = None\n",
    "pd.set_option('display.float_format', lambda x: '%.5f' % x)"
   ]
  },
  {
   "cell_type": "markdown",
   "id": "5a507763",
   "metadata": {},
   "source": [
    "## External actors"
   ]
  },
  {
   "cell_type": "markdown",
   "id": "0a2127a6",
   "metadata": {},
   "source": [
    "We create a bookmaker and a betting strategy that are going to interact with the generated networks."
   ]
  },
  {
   "cell_type": "code",
   "execution_count": null,
   "id": "02fa4b18",
   "metadata": {},
   "outputs": [],
   "source": [
    "bookmaker: BaseBookmaker = factory.new_bookmaker(\n",
    "    'simple',\n",
    "    error=factory.new_forecast_error(error_type='factor', error=0.0, scope='positive'),\n",
    "    margin=factory.new_bookmaker_margin('simple', margin=0.10)\n",
    ")"
   ]
  },
  {
   "cell_type": "code",
   "execution_count": null,
   "id": "f6bf5a9b",
   "metadata": {},
   "outputs": [],
   "source": [
    "betting = FixedBetting(100)"
   ]
  },
  {
   "cell_type": "markdown",
   "id": "5ed1b040",
   "metadata": {},
   "source": [
    "We also create an error rating that we are going to use for the calculated forecasts"
   ]
  },
  {
   "cell_type": "code",
   "execution_count": null,
   "id": "06a850e9",
   "metadata": {},
   "outputs": [],
   "source": [
    "rating_error = RatingFunctionError(error='normal', loc=0, scale=50)\n",
    "rating_error_bookmaker = RatingFunctionError(error='normal', loc=0, scale=25)"
   ]
  },
  {
   "cell_type": "markdown",
   "id": "b9b5d5f6",
   "metadata": {},
   "source": [
    "## Generation of networks"
   ]
  },
  {
   "cell_type": "markdown",
   "id": "206c2406",
   "metadata": {},
   "source": [
    "Configure the number of leagues for the experiment:"
   ]
  },
  {
   "cell_type": "code",
   "execution_count": null,
   "id": "b5c18b3b",
   "metadata": {},
   "outputs": [],
   "source": [
    "numberLeagues = 40"
   ]
  },
  {
   "cell_type": "markdown",
   "id": "57cbe94b",
   "metadata": {},
   "source": [
    "For every league, we generate the schedule of matches and true dimensions and we add odds for each game."
   ]
  },
  {
   "cell_type": "code",
   "execution_count": null,
   "id": "211d128f",
   "metadata": {},
   "outputs": [],
   "source": [
    "networks = []\n",
    "gen_start_time = time.time()\n",
    "for league in range(numberLeagues):\n",
    "    print(f\"League : {league}\")\n",
    "    network: BaseNetwork = factory.new_network(\n",
    "        'multiple-round-robin',\n",
    "        teams=20,\n",
    "        days_between_rounds=7,\n",
    "        seasons=10,\n",
    "        league_teams=20,\n",
    "        league_promotion=0,\n",
    "        create=True,\n",
    "        true_forecast=LogFunctionForecast(\n",
    "            outcomes=['home', 'draw', 'away'], \n",
    "            coefficients = [-0.9,0.3], \n",
    "            beta_parameter=0.006\n",
    "        ),\n",
    "        true_rating=ControlledTrendRating(\n",
    "            starting_point=ControlledRandomFunction(distribution='normal', loc=1000, scale=100),\n",
    "            delta=ControlledRandomFunction(distribution='normal', loc=0, scale=3),\n",
    "            trend=ControlledRandomFunction(distribution='normal', loc=0, scale=20/365),\n",
    "            season_delta=ControlledRandomFunction(distribution='normal', loc=0, scale=10)\n",
    "        )\n",
    "    )\n",
    "    #adding biased bookmaker forecast to the network\n",
    "    network.add_forecast(\n",
    "        forecast=LogFunctionForecast(\n",
    "            outcomes=['home', 'draw', 'away'], \n",
    "            coefficients=[-0.8, 0.2], \n",
    "            beta_parameter=0.006, \n",
    "            home_team_error=rating_error_bookmaker, \n",
    "            away_team_error=rating_error_bookmaker\n",
    "        ),\n",
    "        forecast_name='bookmaker_forecast',\n",
    "        base_ranking='true_rating'\n",
    "    )\n",
    "    #adding odds    \n",
    "    network.add_odds(\n",
    "        bookmaker_name=\"bm\",\n",
    "        bookmaker=bookmaker,\n",
    "        base_forecast='bookmaker_forecast'\n",
    "    )\n",
    "\n",
    "    networks.append(network)\n",
    "print(f\"{numberLeagues} leagues added in {float(time.time() - gen_start_time)} seconds.\")"
   ]
  },
  {
   "cell_type": "markdown",
   "id": "5565d687",
   "metadata": {},
   "source": [
    "## Main loop"
   ]
  },
  {
   "cell_type": "markdown",
   "id": "b9653ca6",
   "metadata": {},
   "source": [
    "We iterate over the grid of possible parameters for the experiment and aggregate the final results."
   ]
  },
  {
   "cell_type": "code",
   "execution_count": null,
   "id": "5a524c38",
   "metadata": {},
   "outputs": [],
   "source": [
    "def aggregate_measures(list_of_matches, prefix='', addBettingMetrics=True):\n",
    "    if addBettingMetrics:\n",
    "        return {\n",
    "            prefix+'_rps': np.mean([m[3]['metrics']['rps'] for m in list_of_matches]),\n",
    "            prefix+'_likelihood': sum([m[3]['metrics']['likelihood'] for m in list_of_matches]),\n",
    "            prefix+'_prob_diff': np.mean([m[3]['metrics']['prob_diff'] for m in list_of_matches]),\n",
    "            prefix+'_draw_prob': np.mean([m[3]['metrics']['draw_prob'] for m in list_of_matches]),\n",
    "            prefix+'_fav_prob': np.mean([m[3]['metrics']['fav_prob'] for m in list_of_matches]),\n",
    "            prefix+'_betting_returns': sum([sum([b[0] for b in m[3]['metrics']['betting_returns']]) for m in list_of_matches]),\n",
    "            prefix+'_betting_returns_expected': sum([sum(b[1] for b in m[3]['metrics']['betting_returns']) for m in list_of_matches]),\n",
    "            prefix+'_betting_activity': sum([m[3]['metrics']['betting_activity']['qty'] for m in list_of_matches])\n",
    "        }\n",
    "    else:\n",
    "        return {\n",
    "            prefix+'_rps': np.mean([m[3]['metrics']['rps'] for m in list_of_matches]),\n",
    "            prefix+'_likelihood': sum([m[3]['metrics']['likelihood'] for m in list_of_matches]),\n",
    "            prefix+'_prob_diff': np.mean([m[3]['metrics']['prob_diff'] for m in list_of_matches]),\n",
    "            prefix+'_draw_prob': np.mean([m[3]['metrics']['draw_prob'] for m in list_of_matches]),\n",
    "            prefix+'_fav_prob': np.mean([m[3]['metrics']['fav_prob'] for m in list_of_matches])\n",
    "        }"
   ]
  },
  {
   "cell_type": "markdown",
   "id": "9ab1b5d3",
   "metadata": {},
   "source": [
    "Getting first the values for the true model and the bookmaker model. Remove some of the if they are not needed and if the IS/OOS split is not required."
   ]
  },
  {
   "cell_type": "code",
   "execution_count": null,
   "id": "00090ebe",
   "metadata": {},
   "outputs": [],
   "source": [
    "entire_model_values = {}\n",
    "for forecast_pointer in ['true_forecast', 'bookmaker_forecast']:\n",
    "    all_matches =  []\n",
    "    is_matches =  []\n",
    "    oos_matches =  []\n",
    "    for network in tqdm(networks):\n",
    "        rps = RankProbabilityScore(outcomes=['home', 'draw', 'away'], forecast_name = forecast_pointer)\n",
    "        likelihood = Likelihood(outcomes=['home', 'draw', 'away'], forecast_name = forecast_pointer)\n",
    "        difference = ProbabilityDifference(outcomes=['home', 'draw', 'away'], forecast_name = forecast_pointer)\n",
    "        draw_probability = ProbabilityPointer(outcomes=['home', 'draw', 'away'], forecast_name = forecast_pointer, probability_index=1)\n",
    "        fav_probability = FavouriteProbability(outcomes=['home', 'draw', 'away'], forecast_name = forecast_pointer)\n",
    "        network.add_evaluation([\n",
    "            (rps, 'rps'),\n",
    "            (likelihood, 'likelihood'),\n",
    "            (difference, 'prob_diff'),\n",
    "            (draw_probability, 'draw_prob'),\n",
    "            (fav_probability, 'fav_prob')\n",
    "        ])\n",
    "        all_matches += [(a,h, match_id, match_attributes) for a,h, match_id, match_attributes in network.iterate_over_games()]\n",
    "        is_matches += [(a,h, match_id, match_attributes) for a,h, match_id, match_attributes in network.iterate_over_games() if match_attributes['season'] < 6]\n",
    "        oos_matches += [(a,h, match_id, match_attributes) for a,h, match_id, match_attributes in network.iterate_over_games() if match_attributes['season'] > 5]\n",
    "\n",
    "    result_all = aggregate_measures(all_matches, f'all_{forecast_pointer}', False)\n",
    "    result_is = aggregate_measures(is_matches, f'is_{forecast_pointer}', False)\n",
    "    result_oos = aggregate_measures(oos_matches, f'oos_{forecast_pointer}', False)\n",
    "    entire_model_values = {\n",
    "        **entire_model_values,\n",
    "        **result_is, **result_oos, **result_all\n",
    "    }\n",
    "print(entire_model_values)"
   ]
  },
  {
   "cell_type": "markdown",
   "source": [
    "Configuration for splits:"
   ],
   "metadata": {
    "collapsed": false,
    "pycharm": {
     "name": "#%% md\n"
    }
   }
  },
  {
   "cell_type": "code",
   "execution_count": null,
   "outputs": [],
   "source": [
    "splits = 4"
   ],
   "metadata": {
    "collapsed": false,
    "pycharm": {
     "name": "#%%\n"
    }
   }
  },
  {
   "cell_type": "code",
   "execution_count": null,
   "outputs": [],
   "source": [
    "def cross_validate_betting_returns(matches_array, n_splits, model_hint):\n",
    "    kf = np.array_split(matches_array, n_splits)\n",
    "    combinations = [(in_s, out_s) for in_s, out_s in it.permutations(range(len(kf)), r=2)]\n",
    "    result = []\n",
    "    for in_sample_index, out_sample_index in combinations:\n",
    "        result_is = aggregate_measures(kf[in_sample_index], \"is\")\n",
    "        result_oos = aggregate_measures(kf[out_sample_index], \"oos\")\n",
    "        result.append({\n",
    "            \"permutation\": f\"{in_sample_index} x {out_sample_index}\",\n",
    "            \"model_hint\": model_hint,\n",
    "            **result_is,\n",
    "            **result_oos\n",
    "        })\n",
    "    return result"
   ],
   "metadata": {
    "collapsed": false,
    "pycharm": {
     "name": "#%%\n"
    }
   }
  },
  {
   "cell_type": "code",
   "execution_count": null,
   "id": "a27bd375",
   "metadata": {},
   "outputs": [],
   "source": [
    "result_list = []\n",
    "experiment_start_time = time.time()\n",
    "cv_result = []\n",
    "for c0 in np.arange(-1.20, -0.60, 0.1):\n",
    "    for c1 in np.arange(0.0, 0.60, 0.1):\n",
    "        for beta in np.arange(0.002, 0.010, 0.002):\n",
    "            print(f'Variables: c0: {c0}, c1: {c1} and beta: {beta}')\n",
    "            forecast_pointer = f\"player_forecast_{c0:.2f}_{c1:.2f}_{beta:.3f}\"\n",
    "            cell_start_time = time.time()\n",
    "            all_matches =  []\n",
    "            is_matches =  []\n",
    "            oos_matches =  []\n",
    "            \n",
    "            for network in networks:\n",
    "                rps = RankProbabilityScore(outcomes=['home', 'draw', 'away'], forecast_name = forecast_pointer)\n",
    "                betting_returns = BettingReturnsEvaluator(outcomes=['home', 'draw', 'away'], player_name = 'b', true_model = 'true_forecast', bookmaker_name = 'bm')\n",
    "                betting_activity = BettingActivity(outcomes=['home', 'draw', 'away'], player_name = 'b')\n",
    "                likelihood = Likelihood(outcomes=['home', 'draw', 'away'], forecast_name = forecast_pointer)\n",
    "                difference = ProbabilityDifference(outcomes=['home', 'draw', 'away'], forecast_name = forecast_pointer)\n",
    "                draw_probability = ProbabilityPointer(outcomes=['home', 'draw', 'away'], forecast_name = forecast_pointer, probability_index=1)\n",
    "                fav_probability = FavouriteProbability(outcomes=['home', 'draw', 'away'], forecast_name = forecast_pointer)\n",
    "            \n",
    "                network.add_forecast(\n",
    "                    forecast=LogFunctionForecast(outcomes=['home', 'draw', 'away'], coefficients=[c0, c1], beta_parameter=beta, home_team_error=rating_error, away_team_error=rating_error),\n",
    "                    forecast_name=forecast_pointer,\n",
    "                    base_ranking='true_rating'\n",
    "                )\n",
    "                network.add_bets(\n",
    "                    bettor_name='b',\n",
    "                    bookmaker='bm',\n",
    "                    betting=betting,\n",
    "                    base_forecast=forecast_pointer\n",
    "                )\n",
    "                network.add_evaluation([\n",
    "                    (rps, 'rps'),\n",
    "                    (betting_returns, 'betting_returns'),\n",
    "                    (betting_activity, 'betting_activity'),\n",
    "                    (likelihood, 'likelihood'),\n",
    "                    (difference, 'prob_diff'),\n",
    "                    (draw_probability, 'draw_prob'),\n",
    "                    (fav_probability, 'fav_prob')\n",
    "                ])\n",
    "                \n",
    "                all_matches += [(a,h, match_id, match_attributes) for a,h, match_id, match_attributes in network.iterate_over_games()]\n",
    "                is_matches += [(a,h, match_id, match_attributes) for a,h, match_id, match_attributes in network.iterate_over_games() if match_attributes['season'] < 6]\n",
    "                oos_matches += [(a,h, match_id, match_attributes) for a,h, match_id, match_attributes in network.iterate_over_games() if match_attributes['season'] > 5]\n",
    "            cv_result += cross_validate_betting_returns(np.array(all_matches), splits, forecast_pointer)\n",
    "            result_all = aggregate_measures(all_matches, 'all')\n",
    "            result_is = aggregate_measures(is_matches, 'is')\n",
    "            result_oos = aggregate_measures(oos_matches, 'oos')\n",
    "            result = {\n",
    "                'c0' : c0, 'c1' : c1, 'beta' : beta, **result_is, **result_oos, **result_all, **entire_model_values\n",
    "            }\n",
    "            result_list.append(result)\n",
    "            print(f\"Finished in {float(time.time() - cell_start_time)} seconds\")\n",
    "\n",
    "print(f\"Experiment finished in {float(time.time() - experiment_start_time)} seconds with {len(result_list)} observations.\")\n",
    "\n",
    "df = pd.DataFrame(result_list)\n",
    "df.to_excel(\"Results_Economics.xlsx\")\n",
    "            "
   ]
  },
  {
   "cell_type": "code",
   "execution_count": null,
   "id": "e0b9cea1",
   "metadata": {},
   "outputs": [],
   "source": [
    "cv_df = pd.DataFrame(cv_result)"
   ]
  },
  {
   "cell_type": "code",
   "execution_count": null,
   "outputs": [],
   "source": [
    "cv_df[cv_df['permutation'] == \"0 x 1\"].sort_values(by='is_rps').head(144)"
   ],
   "metadata": {
    "collapsed": false,
    "pycharm": {
     "name": "#%%\n"
    }
   }
  },
  {
   "cell_type": "code",
   "execution_count": null,
   "outputs": [],
   "source": [
    "# Optimizing for RPS\n",
    "by_rps_df = cv_df.loc[cv_df.groupby('permutation').is_rps.idxmin(), ['permutation', 'model_hint', 'oos_betting_returns',\t'oos_betting_returns_expected']].set_index('permutation')\n",
    "# Optimizing for likelihood\n",
    "by_likelihood_df = cv_df.loc[cv_df.groupby('permutation').is_likelihood.idxmax(), ['permutation', 'model_hint', 'oos_betting_returns',\t'oos_betting_returns_expected']].set_index('permutation')\n",
    "# Optimizing for betting\n",
    "by_betting_df = cv_df.loc[cv_df.groupby('permutation').is_betting_returns.idxmax(), ['permutation', 'model_hint', 'oos_betting_returns',\t'oos_betting_returns_expected']].set_index('permutation')"
   ],
   "metadata": {
    "collapsed": false,
    "pycharm": {
     "name": "#%%\n"
    }
   }
  },
  {
   "cell_type": "code",
   "execution_count": null,
   "outputs": [],
   "source": [
    "by_betting_df.dtypes"
   ],
   "metadata": {
    "collapsed": false,
    "pycharm": {
     "name": "#%%\n"
    }
   }
  },
  {
   "cell_type": "code",
   "execution_count": null,
   "outputs": [],
   "source": [
    "cv_study_df = by_rps_df.join(\n",
    "    by_likelihood_df.join(\n",
    "        by_betting_df,\n",
    "        lsuffix='',\n",
    "        rsuffix='_betting',\n",
    "    ),\n",
    "    lsuffix='_rps',\n",
    "    rsuffix='_likelihood',\n",
    ")"
   ],
   "metadata": {
    "collapsed": false,
    "pycharm": {
     "name": "#%% Joining\n"
    }
   }
  },
  {
   "cell_type": "code",
   "execution_count": 44,
   "outputs": [
    {
     "data": {
      "text/plain": "                               model_hint_rps  oos_betting_returns_rps  \\\npermutation                                                              \n0 x 1        player_forecast_-0.80_0.40_0.006                217.88908   \n0 x 2        player_forecast_-0.80_0.40_0.006                 29.20471   \n0 x 3        player_forecast_-0.80_0.40_0.006                270.30734   \n1 x 0        player_forecast_-0.80_0.40_0.006                 22.17866   \n1 x 2        player_forecast_-0.80_0.40_0.006                 29.20471   \n1 x 3        player_forecast_-0.80_0.40_0.006                270.30734   \n2 x 0        player_forecast_-0.80_0.30_0.006                -43.43703   \n2 x 1        player_forecast_-0.80_0.30_0.006                194.87611   \n2 x 3        player_forecast_-0.80_0.30_0.006                 75.61714   \n3 x 0        player_forecast_-0.80_0.40_0.006                 22.17866   \n3 x 1        player_forecast_-0.80_0.40_0.006                217.88908   \n3 x 2        player_forecast_-0.80_0.40_0.006                 29.20471   \n\n             oos_betting_returns_expected_rps  \\\npermutation                                     \n0 x 1                               148.31875   \n0 x 2                               144.66903   \n0 x 3                               144.76062   \n1 x 0                               147.89816   \n1 x 2                               144.66903   \n1 x 3                               144.76062   \n2 x 0                                66.12146   \n2 x 1                                66.14607   \n2 x 3                                61.83845   \n3 x 0                               147.89816   \n3 x 1                               148.31875   \n3 x 2                               144.66903   \n\n                        model_hint_likelihood  oos_betting_returns_likelihood  \\\npermutation                                                                     \n0 x 1        player_forecast_-0.80_0.40_0.006                       217.88908   \n0 x 2        player_forecast_-0.80_0.40_0.006                        29.20471   \n0 x 3        player_forecast_-0.80_0.40_0.006                       270.30734   \n1 x 0        player_forecast_-0.80_0.40_0.006                        22.17866   \n1 x 2        player_forecast_-0.80_0.40_0.006                        29.20471   \n1 x 3        player_forecast_-0.80_0.40_0.006                       270.30734   \n2 x 0        player_forecast_-0.80_0.30_0.006                       -43.43703   \n2 x 1        player_forecast_-0.80_0.30_0.006                       194.87611   \n2 x 3        player_forecast_-0.80_0.30_0.006                        75.61714   \n3 x 0        player_forecast_-0.80_0.40_0.006                        22.17866   \n3 x 1        player_forecast_-0.80_0.40_0.006                       217.88908   \n3 x 2        player_forecast_-0.80_0.40_0.006                        29.20471   \n\n             oos_betting_returns_expected_likelihood  \\\npermutation                                            \n0 x 1                                      148.31875   \n0 x 2                                      144.66903   \n0 x 3                                      144.76062   \n1 x 0                                      147.89816   \n1 x 2                                      144.66903   \n1 x 3                                      144.76062   \n2 x 0                                       66.12146   \n2 x 1                                       66.14607   \n2 x 3                                       61.83845   \n3 x 0                                      147.89816   \n3 x 1                                      148.31875   \n3 x 2                                      144.66903   \n\n                           model_hint_betting  oos_betting_returns_betting  \\\npermutation                                                                  \n0 x 1        player_forecast_-1.10_0.50_0.008                    106.78266   \n0 x 2        player_forecast_-1.10_0.50_0.008                     50.16522   \n0 x 3        player_forecast_-1.10_0.50_0.008                    133.22385   \n1 x 0        player_forecast_-1.00_0.20_0.006                     60.17866   \n1 x 2        player_forecast_-1.00_0.20_0.006                     30.36982   \n1 x 3        player_forecast_-1.00_0.20_0.006                    215.99303   \n2 x 0        player_forecast_-1.20_0.30_0.008                    128.55569   \n2 x 1        player_forecast_-1.20_0.30_0.008                     74.69295   \n2 x 3        player_forecast_-1.20_0.30_0.008                    133.08318   \n3 x 0        player_forecast_-0.80_0.40_0.006                     22.17866   \n3 x 1        player_forecast_-0.80_0.40_0.006                    217.88908   \n3 x 2        player_forecast_-0.80_0.40_0.006                     29.20471   \n\n             oos_betting_returns_expected_betting  \npermutation                                        \n0 x 1                                   102.52984  \n0 x 2                                   108.43502  \n0 x 3                                   105.88461  \n1 x 0                                   144.26993  \n1 x 2                                   140.23863  \n1 x 3                                   142.50920  \n2 x 0                                    93.69572  \n2 x 1                                    90.80741  \n2 x 3                                    92.93767  \n3 x 0                                   147.89816  \n3 x 1                                   148.31875  \n3 x 2                                   144.66903  ",
      "text/html": "<div>\n<style scoped>\n    .dataframe tbody tr th:only-of-type {\n        vertical-align: middle;\n    }\n\n    .dataframe tbody tr th {\n        vertical-align: top;\n    }\n\n    .dataframe thead th {\n        text-align: right;\n    }\n</style>\n<table border=\"1\" class=\"dataframe\">\n  <thead>\n    <tr style=\"text-align: right;\">\n      <th></th>\n      <th>model_hint_rps</th>\n      <th>oos_betting_returns_rps</th>\n      <th>oos_betting_returns_expected_rps</th>\n      <th>model_hint_likelihood</th>\n      <th>oos_betting_returns_likelihood</th>\n      <th>oos_betting_returns_expected_likelihood</th>\n      <th>model_hint_betting</th>\n      <th>oos_betting_returns_betting</th>\n      <th>oos_betting_returns_expected_betting</th>\n    </tr>\n    <tr>\n      <th>permutation</th>\n      <th></th>\n      <th></th>\n      <th></th>\n      <th></th>\n      <th></th>\n      <th></th>\n      <th></th>\n      <th></th>\n      <th></th>\n    </tr>\n  </thead>\n  <tbody>\n    <tr>\n      <th>0 x 1</th>\n      <td>player_forecast_-0.80_0.40_0.006</td>\n      <td>217.88908</td>\n      <td>148.31875</td>\n      <td>player_forecast_-0.80_0.40_0.006</td>\n      <td>217.88908</td>\n      <td>148.31875</td>\n      <td>player_forecast_-1.10_0.50_0.008</td>\n      <td>106.78266</td>\n      <td>102.52984</td>\n    </tr>\n    <tr>\n      <th>0 x 2</th>\n      <td>player_forecast_-0.80_0.40_0.006</td>\n      <td>29.20471</td>\n      <td>144.66903</td>\n      <td>player_forecast_-0.80_0.40_0.006</td>\n      <td>29.20471</td>\n      <td>144.66903</td>\n      <td>player_forecast_-1.10_0.50_0.008</td>\n      <td>50.16522</td>\n      <td>108.43502</td>\n    </tr>\n    <tr>\n      <th>0 x 3</th>\n      <td>player_forecast_-0.80_0.40_0.006</td>\n      <td>270.30734</td>\n      <td>144.76062</td>\n      <td>player_forecast_-0.80_0.40_0.006</td>\n      <td>270.30734</td>\n      <td>144.76062</td>\n      <td>player_forecast_-1.10_0.50_0.008</td>\n      <td>133.22385</td>\n      <td>105.88461</td>\n    </tr>\n    <tr>\n      <th>1 x 0</th>\n      <td>player_forecast_-0.80_0.40_0.006</td>\n      <td>22.17866</td>\n      <td>147.89816</td>\n      <td>player_forecast_-0.80_0.40_0.006</td>\n      <td>22.17866</td>\n      <td>147.89816</td>\n      <td>player_forecast_-1.00_0.20_0.006</td>\n      <td>60.17866</td>\n      <td>144.26993</td>\n    </tr>\n    <tr>\n      <th>1 x 2</th>\n      <td>player_forecast_-0.80_0.40_0.006</td>\n      <td>29.20471</td>\n      <td>144.66903</td>\n      <td>player_forecast_-0.80_0.40_0.006</td>\n      <td>29.20471</td>\n      <td>144.66903</td>\n      <td>player_forecast_-1.00_0.20_0.006</td>\n      <td>30.36982</td>\n      <td>140.23863</td>\n    </tr>\n    <tr>\n      <th>1 x 3</th>\n      <td>player_forecast_-0.80_0.40_0.006</td>\n      <td>270.30734</td>\n      <td>144.76062</td>\n      <td>player_forecast_-0.80_0.40_0.006</td>\n      <td>270.30734</td>\n      <td>144.76062</td>\n      <td>player_forecast_-1.00_0.20_0.006</td>\n      <td>215.99303</td>\n      <td>142.50920</td>\n    </tr>\n    <tr>\n      <th>2 x 0</th>\n      <td>player_forecast_-0.80_0.30_0.006</td>\n      <td>-43.43703</td>\n      <td>66.12146</td>\n      <td>player_forecast_-0.80_0.30_0.006</td>\n      <td>-43.43703</td>\n      <td>66.12146</td>\n      <td>player_forecast_-1.20_0.30_0.008</td>\n      <td>128.55569</td>\n      <td>93.69572</td>\n    </tr>\n    <tr>\n      <th>2 x 1</th>\n      <td>player_forecast_-0.80_0.30_0.006</td>\n      <td>194.87611</td>\n      <td>66.14607</td>\n      <td>player_forecast_-0.80_0.30_0.006</td>\n      <td>194.87611</td>\n      <td>66.14607</td>\n      <td>player_forecast_-1.20_0.30_0.008</td>\n      <td>74.69295</td>\n      <td>90.80741</td>\n    </tr>\n    <tr>\n      <th>2 x 3</th>\n      <td>player_forecast_-0.80_0.30_0.006</td>\n      <td>75.61714</td>\n      <td>61.83845</td>\n      <td>player_forecast_-0.80_0.30_0.006</td>\n      <td>75.61714</td>\n      <td>61.83845</td>\n      <td>player_forecast_-1.20_0.30_0.008</td>\n      <td>133.08318</td>\n      <td>92.93767</td>\n    </tr>\n    <tr>\n      <th>3 x 0</th>\n      <td>player_forecast_-0.80_0.40_0.006</td>\n      <td>22.17866</td>\n      <td>147.89816</td>\n      <td>player_forecast_-0.80_0.40_0.006</td>\n      <td>22.17866</td>\n      <td>147.89816</td>\n      <td>player_forecast_-0.80_0.40_0.006</td>\n      <td>22.17866</td>\n      <td>147.89816</td>\n    </tr>\n    <tr>\n      <th>3 x 1</th>\n      <td>player_forecast_-0.80_0.40_0.006</td>\n      <td>217.88908</td>\n      <td>148.31875</td>\n      <td>player_forecast_-0.80_0.40_0.006</td>\n      <td>217.88908</td>\n      <td>148.31875</td>\n      <td>player_forecast_-0.80_0.40_0.006</td>\n      <td>217.88908</td>\n      <td>148.31875</td>\n    </tr>\n    <tr>\n      <th>3 x 2</th>\n      <td>player_forecast_-0.80_0.40_0.006</td>\n      <td>29.20471</td>\n      <td>144.66903</td>\n      <td>player_forecast_-0.80_0.40_0.006</td>\n      <td>29.20471</td>\n      <td>144.66903</td>\n      <td>player_forecast_-0.80_0.40_0.006</td>\n      <td>29.20471</td>\n      <td>144.66903</td>\n    </tr>\n  </tbody>\n</table>\n</div>"
     },
     "execution_count": 44,
     "metadata": {},
     "output_type": "execute_result"
    }
   ],
   "source": [
    "cv_study_df.to_excel(\"Permutations.xlsx\")"
   ],
   "metadata": {
    "collapsed": false,
    "pycharm": {
     "name": "#%%\n"
    }
   }
  },
  {
   "cell_type": "code",
   "execution_count": null,
   "id": "2d0301be",
   "metadata": {},
   "outputs": [],
   "source": [
    "for a,h,m_id,attributes in network.iterate_over_games():\n",
    "    print([v for v in attributes['metrics']['betting_returns']])"
   ]
  },
  {
   "cell_type": "code",
   "execution_count": null,
   "id": "48dad026",
   "metadata": {},
   "outputs": [],
   "source": []
  },
  {
   "cell_type": "code",
   "execution_count": null,
   "id": "b4c3e5e2",
   "metadata": {},
   "outputs": [],
   "source": []
  }
 ],
 "metadata": {
  "kernelspec": {
   "display_name": "Python 3",
   "language": "python",
   "name": "python3"
  },
  "language_info": {
   "codemirror_mode": {
    "name": "ipython",
    "version": 3
   },
   "file_extension": ".py",
   "mimetype": "text/x-python",
   "name": "python",
   "nbconvert_exporter": "python",
   "pygments_lexer": "ipython3",
   "version": "3.6.10"
  }
 },
 "nbformat": 4,
 "nbformat_minor": 5
}