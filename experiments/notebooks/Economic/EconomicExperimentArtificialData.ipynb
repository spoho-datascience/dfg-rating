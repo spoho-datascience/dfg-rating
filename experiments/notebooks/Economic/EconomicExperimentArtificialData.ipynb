{
 "cells": [
  {
   "cell_type": "code",
   "execution_count": null,
   "metadata": {},
   "outputs": [],
   "source": [
    "from dfg_rating.model import factory\n",
    "from dfg_rating.model.betting.betting import FixedBetting, BaseBetting\n",
    "from dfg_rating.model.bookmaker.base_bookmaker import BaseBookmaker\n",
    "from dfg_rating.model.evaluators.accuracy import RankProbabilityScore\n",
    "from dfg_rating.model.evaluators.accuracy import Likelihood\n",
    "from dfg_rating.model.evaluators.profitability import BettingReturnsEvaluator\n",
    "from dfg_rating.model.forecast.base_forecast import SimpleForecast, BaseForecast\n",
    "from dfg_rating.model.forecast.true_forecast import LogFunctionForecast\n",
    "from dfg_rating.model.network.base_network import BaseNetwork\n",
    "from dfg_rating.model.rating.controlled_trend_rating import ControlledTrendRating, ControlledRandomFunction\n",
    "\n",
    "#specify rating error\n",
    "from dfg_rating.model.rating.base_rating import RatingFunctionError\n",
    "rating_error = RatingFunctionError(error='normal', loc=0, scale=50)\n",
    "\n",
    "import networkx as nx\n",
    "import pandas as pd\n",
    "import numpy as np\n",
    "\n",
    "from dfg_rating.model.network.simple_network import RoundRobinNetwork\n",
    "\n",
    "pd.set_option('display.max_columns', None)\n",
    "pd.options.display.width = None\n",
    "pd.set_option('display.float_format', lambda x: '%.5f' % x)"
   ]
  },
  {
   "cell_type": "code",
   "execution_count": null,
   "metadata": {},
   "outputs": [],
   "source": [
    "numberLeagues = 5\n",
    "networks = []\n",
    "#np.empty(numberLeagues, dtype=network) \n",
    "for league in range(numberLeagues):\n",
    "    print(league)\n",
    "    network: BaseNetwork = factory.new_network(\n",
    "        'multiple-round-robin',\n",
    "        teams=18,\n",
    "        days_between_rounds=7,\n",
    "        seasons=10,\n",
    "        league_teams=18,\n",
    "        league_promotion=0,\n",
    "        create=True,\n",
    "        true_forecast=LogFunctionForecast(outcomes=['home', 'draw', 'away'], coefficients = [-0.9,0.3], beta_parameter=0.006),\n",
    "        true_rating=ControlledTrendRating(starting_point=ControlledRandomFunction(distribution='normal', loc=1000, scale=100),\n",
    "                                     delta=ControlledRandomFunction(distribution='normal', loc=0, scale=3),\n",
    "                                     trend=ControlledRandomFunction(distribution='normal', loc=0, scale=20/365),\n",
    "                                     season_delta=ControlledRandomFunction(distribution='normal', loc=0, scale=10))\n",
    "    )\n",
    "\n",
    "networks.append(network)\n",
    "#network.create_data()"
   ]
  },
  {
   "cell_type": "code",
   "execution_count": null,
   "metadata": {},
   "outputs": [],
   "source": [
    "#network.print_data(schedule=True)"
   ]
  },
  {
   "cell_type": "code",
   "execution_count": null,
   "metadata": {},
   "outputs": [],
   "source": [
    "#adding biased bookmaker forecast\n",
    "network.add_forecast(\n",
    "    forecast=LogFunctionForecast(outcomes=['home', 'draw', 'away'], coefficients=[-1.2, 0.0], beta_parameter=0.006, home_team_error=rating_error, away_team_error=rating_error),\n",
    "    forecast_name='bookmaker_forecast',\n",
    "    base_ranking='true_rating'\n",
    ")"
   ]
  },
  {
   "cell_type": "code",
   "execution_count": null,
   "metadata": {},
   "outputs": [],
   "source": [
    "bookmaker: BaseBookmaker = factory.new_bookmaker(\n",
    "    'simple',\n",
    "    error=factory.new_forecast_error(error_type='factor', error=0.0, scope='positive'),\n",
    "    margin=factory.new_bookmaker_margin('simple', margin=0.10)\n",
    ")\n",
    "network.add_odds(\n",
    "    bookmaker_name=\"bm\",\n",
    "    bookmaker=bookmaker,\n",
    "    base_forecast='bookmaker_forecast'\n",
    ")"
   ]
  },
  {
   "cell_type": "code",
   "execution_count": null,
   "metadata": {},
   "outputs": [],
   "source": [
    "betting = FixedBetting(100)"
   ]
  },
  {
   "cell_type": "code",
   "execution_count": null,
   "metadata": {},
   "outputs": [],
   "source": [
    "def aggregate_measures(list_of_matches, prefix=''):\n",
    "    return {prefix+'_rps': np.mean([m[3]['metrics']['rps'] for m in list_of_matches]), \n",
    "           prefix+'_likelihood': sum([m[3]['metrics']['likelihood'] for m in list_of_matches]), \n",
    "           prefix+'_betting_returns': sum([sum([b[0] for b in m[3]['metrics']['betting_returns']]) for m in list_of_matches]),\n",
    "           prefix+'_betting_returns_expected': sum([sum(b[1] for b in m[3]['metrics']['betting_returns']) for m in list_of_matches])}"
   ]
  },
  {
   "cell_type": "code",
   "execution_count": null,
   "metadata": {},
   "outputs": [],
   "source": [
    "result_list = []\n",
    "#for c0 in np.arange(-1.0, 0.6, 0.1):\n",
    "#    for c1 in np.arange(c0+0.2, 0.8, 0.1):\n",
    "#        for beta in np.arange(0.004, 0.010, 0.002):\n",
    "for c0 in np.arange(-1.0, -0.6, 0.1):\n",
    "    for c1 in np.arange(c0+0.2, 0.0, 0.1):\n",
    "        for beta in np.arange(0.004, 0.010, 0.002):\n",
    "            \n",
    "            print(f'Variables {c0}, {c1} and {beta}')\n",
    "            all_matches =  []\n",
    "            is_matches =  []\n",
    "            oos_matches =  []\n",
    "            \n",
    "            for network in networks:\n",
    "                rps = RankProbabilityScore(outcomes=['home', 'draw', 'away'], forecast_name = 'player_forecast'+'_'+str(c0)+'_'+str(c1)+'_'+str(beta))\n",
    "                betting_returns = BettingReturnsEvaluator(outcomes=['home', 'draw', 'away'], player_name = 'b', true_model = 'true_forecast', bookmaker_name = 'bm')\n",
    "                likelihood = Likelihood(outcomes=['home', 'draw', 'away'], forecast_name = 'player_forecast'+'_'+str(c0)+'_'+str(c1)+'_'+str(beta))\n",
    "            \n",
    "                network.add_forecast(\n",
    "                forecast=LogFunctionForecast(outcomes=['home', 'draw', 'away'], coefficients=[c0, c1], beta_parameter=beta, home_team_error=rating_error, away_team_error=rating_error),\n",
    "                forecast_name='player_forecast'+'_'+str(c0)+'_'+str(c1)+'_'+str(beta),\n",
    "                base_ranking='true_rating'\n",
    "                )\n",
    "                \n",
    "                network.add_bets(\n",
    "                bettor_name='b',\n",
    "                bookmaker='bm',\n",
    "                betting=betting,\n",
    "                base_forecast='player_forecast'+'_'+str(c0)+'_'+str(c1)+'_'+str(beta)\n",
    "                )\n",
    "            \n",
    "                network.add_evaluation(rps, 'rps')\n",
    "                network.add_evaluation(betting_returns, 'betting_returns')\n",
    "                network.add_evaluation(likelihood, 'likelihood')\n",
    "                #network.serialize_network('economic_network')\n",
    "                \n",
    "                all_matches.append([(a,h, match_id, match_attributes) for a,h, match_id, match_attributes in network.iterate_over_games()])\n",
    "                is_matches.append([(a,h, match_id, match_attributes) for a,h, match_id, match_attributes in network.iterate_over_games() if match_attributes['season'] < 4])\n",
    "                oos_matches.append([(a,h, match_id, match_attributes) for a,h, match_id, match_attributes in network.iterate_over_games() if match_attributes['season'] > 3])\n",
    "                \n",
    "            result_all = aggregate_measures(all_matches, 'all')\n",
    "            result_is = aggregate_measures(is_matches, 'is')\n",
    "            result_oos = aggregate_measures(oos_matches, 'oos')\n",
    "            result = {\n",
    "                'c0' : c0, 'c1' : c1, 'beta' : beta, **result_is, **result_oos, **result_all\n",
    "            }\n",
    "            \n",
    "            result_list.append(result_all_leagues)\n",
    "            \n",
    "                 \n",
    "            \n",
    "#network.export(forecasts = ['bookmaker_forecast', 'true_forecast', 'player_forecast'+'_'+str(c0)+'_'+str(c1)+'_'+str(beta)],\n",
    "#                      metrics = ['rps', 'betting_returns', 'loglikelihood'],\n",
    "#                      odds=['bm'])\n",
    "            \n",
    "            \n",
    "\n",
    "            "
   ]
  },
  {
   "cell_type": "code",
   "execution_count": null,
   "metadata": {},
   "outputs": [],
   "source": [
    "df = pd.DataFrame(result_list)\n",
    "df.to_excel(\"Results_Economics.xlsx\")"
   ]
  },
  {
   "cell_type": "code",
   "execution_count": null,
   "metadata": {},
   "outputs": [],
   "source": [
    "for a,h,m_id,attributes in network.iterate_over_games():\n",
    "    print([v for v in attributes['metrics']['betting_returns']])"
   ]
  },
  {
   "cell_type": "code",
   "execution_count": null,
   "metadata": {},
   "outputs": [],
   "source": []
  },
  {
   "cell_type": "code",
   "execution_count": null,
   "metadata": {},
   "outputs": [],
   "source": []
  }
 ],
 "metadata": {
  "kernelspec": {
   "display_name": "Python 3",
   "language": "python",
   "name": "python3"
  },
  "language_info": {
   "codemirror_mode": {
    "name": "ipython",
    "version": 3
   },
   "file_extension": ".py",
   "mimetype": "text/x-python",
   "name": "python",
   "nbconvert_exporter": "python",
   "pygments_lexer": "ipython3",
   "version": "3.7.7"
  }
 },
 "nbformat": 4,
 "nbformat_minor": 5
}
