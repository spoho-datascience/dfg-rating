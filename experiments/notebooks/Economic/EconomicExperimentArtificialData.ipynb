{
 "cells": [
  {
   "cell_type": "markdown",
   "metadata": {},
   "source": [
    "# Economic Experiment"
   ]
  },
  {
   "cell_type": "markdown",
   "metadata": {},
   "source": [
    "Add description of the experiment here"
   ]
  },
  {
   "cell_type": "markdown",
   "metadata": {},
   "source": [
    "## Import Statements"
   ]
  },
  {
   "cell_type": "code",
   "execution_count": null,
   "metadata": {},
   "outputs": [],
   "source": [
    "from dfg_rating.model import factory\n",
    "from dfg_rating.model.betting.betting import FixedBetting\n",
    "from dfg_rating.model.bookmaker.base_bookmaker import BaseBookmaker\n",
    "from dfg_rating.model.evaluators.accuracy import RankProbabilityScore, Likelihood, ProbabilityDifference, ProbabilityPointer, FavouriteProbability\n",
    "from dfg_rating.model.evaluators.profitability import BettingReturnsEvaluator\n",
    "from dfg_rating.model.evaluators.base_evaluators import BettingActivity\n",
    "from dfg_rating.model.forecast.true_forecast import LogFunctionForecast\n",
    "from dfg_rating.model.network.base_network import BaseNetwork\n",
    "from dfg_rating.model.rating.controlled_trend_rating import ControlledTrendRating, ControlledRandomFunction\n",
    "\n",
    "#specify rating error\n",
    "from dfg_rating.model.rating.base_rating import RatingFunctionError\n",
    "\n",
    "import pandas as pd\n",
    "import numpy as np\n",
    "import time\n",
    "from tqdm import tqdm\n",
    "\n",
    "\n",
    "pd.set_option('display.max_columns', None)\n",
    "pd.options.display.width = None\n",
    "pd.set_option('display.float_format', lambda x: '%.5f' % x)"
   ]
  },
  {
   "cell_type": "markdown",
   "metadata": {},
   "source": [
    "## External actors"
   ]
  },
  {
   "cell_type": "markdown",
   "metadata": {},
   "source": [
    "We create a bookmaker and a betting strategy that are going to interact with the generated networks."
   ]
  },
  {
   "cell_type": "code",
   "execution_count": null,
   "metadata": {},
   "outputs": [],
   "source": [
    "bookmaker: BaseBookmaker = factory.new_bookmaker(\n",
    "    'simple',\n",
    "    error=factory.new_forecast_error(error_type='factor', error=0.0, scope='positive'),\n",
    "    margin=factory.new_bookmaker_margin('simple', margin=0.10)\n",
    ")"
   ]
  },
  {
   "cell_type": "code",
   "execution_count": null,
   "metadata": {},
   "outputs": [],
   "source": [
    "betting = FixedBetting(100)"
   ]
  },
  {
   "cell_type": "markdown",
   "metadata": {},
   "source": [
    "We also create an error rating that we are going to use for the calculated forecasts"
   ]
  },
  {
   "cell_type": "code",
   "execution_count": null,
   "metadata": {},
   "outputs": [],
   "source": [
    "rating_error = RatingFunctionError(error='normal', loc=0, scale=50)\n",
    "rating_error_bookmaker = RatingFunctionError(error='normal', loc=0, scale=25)"
   ]
  },
  {
   "cell_type": "markdown",
   "metadata": {},
   "source": [
    "## Generation of networks"
   ]
  },
  {
   "cell_type": "markdown",
   "metadata": {},
   "source": [
    "Configure the number of leagues for the experiment:"
   ]
  },
  {
   "cell_type": "code",
   "execution_count": null,
   "metadata": {},
   "outputs": [],
   "source": [
    "numberLeagues = 40"
   ]
  },
  {
   "cell_type": "markdown",
   "metadata": {},
   "source": [
    "For every league, we generate the schedule of matches and true dimensions and we add odds for each game."
   ]
  },
  {
   "cell_type": "code",
   "execution_count": null,
   "metadata": {},
   "outputs": [],
   "source": [
    "networks = []\n",
    "gen_start_time = time.time()\n",
    "for league in range(numberLeagues):\n",
    "    print(f\"League : {league}\")\n",
    "    network: BaseNetwork = factory.new_network(\n",
    "        'multiple-round-robin',\n",
    "        teams=20,\n",
    "        days_between_rounds=7,\n",
    "        seasons=10,\n",
    "        league_teams=20,\n",
    "        league_promotion=0,\n",
    "        create=True,\n",
    "        true_forecast=LogFunctionForecast(\n",
    "            outcomes=['home', 'draw', 'away'], \n",
    "            coefficients = [-0.9,0.3], \n",
    "            beta_parameter=0.006\n",
    "        ),\n",
    "        true_rating=ControlledTrendRating(\n",
    "            starting_point=ControlledRandomFunction(distribution='normal', loc=1000, scale=100),\n",
    "            delta=ControlledRandomFunction(distribution='normal', loc=0, scale=3),\n",
    "            trend=ControlledRandomFunction(distribution='normal', loc=0, scale=20/365),\n",
    "            season_delta=ControlledRandomFunction(distribution='normal', loc=0, scale=10)\n",
    "        )\n",
    "    )\n",
    "    #adding biased bookmaker forecast to the network\n",
    "    network.add_forecast(\n",
    "        forecast=LogFunctionForecast(\n",
    "            outcomes=['home', 'draw', 'away'], \n",
    "            coefficients=[-0.8, 0.2], \n",
    "            beta_parameter=0.006, \n",
    "            home_team_error=rating_error_bookmaker, \n",
    "            away_team_error=rating_error_bookmaker\n",
    "        ),\n",
    "        forecast_name='bookmaker_forecast',\n",
    "        base_ranking='true_rating'\n",
    "    )\n",
    "    #adding odds    \n",
    "    network.add_odds(\n",
    "        bookmaker_name=\"bm\",\n",
    "        bookmaker=bookmaker,\n",
    "        base_forecast='bookmaker_forecast'\n",
    "    )\n",
    "\n",
    "    networks.append(network)\n",
    "print(f\"{numberLeagues} leagues added in {float(time.time() - gen_start_time)} seconds.\")"
   ]
  },
  {
   "cell_type": "markdown",
   "metadata": {},
   "source": [
    "## Main loop"
   ]
  },
  {
   "cell_type": "markdown",
   "metadata": {},
   "source": [
    "We iterate over the grid of possible parameters for the experiment and aggregate the final results."
   ]
  },
  {
   "cell_type": "code",
   "execution_count": null,
   "metadata": {},
   "outputs": [],
   "source": [
    "def aggregate_measures(list_of_matches, prefix='', addBettingMetrics=True):\n",
    "    if addBettingMetrics:\n",
    "        return {\n",
    "            prefix+'_rps': np.mean([m[3]['metrics']['rps'] for m in list_of_matches]),\n",
    "            prefix+'_likelihood': sum([m[3]['metrics']['likelihood'] for m in list_of_matches]),\n",
    "            prefix+'_prob_diff': np.mean([m[3]['metrics']['prob_diff'] for m in list_of_matches]),\n",
    "            prefix+'_draw_prob': np.mean([m[3]['metrics']['draw_prob'] for m in list_of_matches]),\n",
    "            prefix+'_fav_prob': np.mean([m[3]['metrics']['fav_prob'] for m in list_of_matches]),\n",
    "            prefix+'_betting_returns': sum([sum([b[0] for b in m[3]['metrics']['betting_returns']]) for m in list_of_matches]),\n",
    "            prefix+'_betting_returns_expected': sum([sum(b[1] for b in m[3]['metrics']['betting_returns']) for m in list_of_matches]),\n",
    "            prefix+'_betting_activity': sum([m[3]['metrics']['betting_activity']['qty'] for m in list_of_matches])\n",
    "        }\n",
    "    else:\n",
    "        return {\n",
    "            prefix+'_rps': np.mean([m[3]['metrics']['rps'] for m in list_of_matches]),\n",
    "            prefix+'_likelihood': sum([m[3]['metrics']['likelihood'] for m in list_of_matches]),\n",
    "            prefix+'_prob_diff': np.mean([m[3]['metrics']['prob_diff'] for m in list_of_matches]),\n",
    "            prefix+'_draw_prob': np.mean([m[3]['metrics']['draw_prob'] for m in list_of_matches]),\n",
    "            prefix+'_fav_prob': np.mean([m[3]['metrics']['fav_prob'] for m in list_of_matches])\n",
    "        }"
   ]
  },
  {
   "cell_type": "markdown",
   "metadata": {},
   "source": [
    "Getting first the values for the true model and the bookmaker model. Remove some of the if they are not needed and if the IS/OOS split is not required."
   ]
  },
  {
   "cell_type": "code",
   "execution_count": null,
   "metadata": {},
   "outputs": [],
   "source": [
    "entire_model_values = {}\n",
    "for forecast_pointer in ['true_forecast', 'bookmaker_forecast']:\n",
    "    for network_index, network in tqdm(enumerate(networks)):\n",
    "        rps = RankProbabilityScore(outcomes=['home', 'draw', 'away'], forecast_name = forecast_pointer)\n",
    "        likelihood = Likelihood(outcomes=['home', 'draw', 'away'], forecast_name = forecast_pointer)\n",
    "        difference = ProbabilityDifference(outcomes=['home', 'draw', 'away'], forecast_name = forecast_pointer)\n",
    "        draw_probability = ProbabilityPointer(outcomes=['home', 'draw', 'away'], forecast_name = forecast_pointer, probability_index=1)\n",
    "        fav_probability = FavouriteProbability(outcomes=['home', 'draw', 'away'], forecast_name = forecast_pointer)\n",
    "        network.add_evaluation([\n",
    "            (rps, 'rps'),\n",
    "            (likelihood, 'likelihood'),\n",
    "            (difference, 'prob_diff'),\n",
    "            (draw_probability, 'draw_prob'),\n",
    "            (fav_probability, 'fav_prob')\n",
    "        ])\n",
    "        all_matches =  []\n",
    "        is_matches =  []\n",
    "        oos_matches =  []\n",
    "        all_matches += [(a,h, match_id, match_attributes) for a,h, match_id, match_attributes in network.iterate_over_games()]\n",
    "        is_matches += [(a,h, match_id, match_attributes) for a,h, match_id, match_attributes in network.iterate_over_games() if match_attributes['season'] < 6]\n",
    "        oos_matches += [(a,h, match_id, match_attributes) for a,h, match_id, match_attributes in network.iterate_over_games() if match_attributes['season'] > 5]\n",
    "\n",
    "        result_all = aggregate_measures(all_matches, f'all_{forecast_pointer}', False)\n",
    "        result_is = aggregate_measures(is_matches, f'is_{forecast_pointer}', False)\n",
    "        result_oos = aggregate_measures(oos_matches, f'oos_{forecast_pointer}', False)\n",
    "        entire_model_values[network_index] = {\n",
    "            **entire_model_values.get(network_index, {}),\n",
    "            **result_is, **result_oos, **result_all\n",
    "        }\n",
    "print(entire_model_values)\n",
    "    "
   ]
  },
  {
   "cell_type": "code",
   "execution_count": null,
   "metadata": {},
   "outputs": [],
   "source": [
    "result_list = []\n",
    "experiment_start_time = time.time()\n",
    "for c0 in np.arange(-1.20, -0.60, 0.10):\n",
    "    for c1 in np.arange(0.0, 0.60, 0.10):\n",
    "        for beta in np.arange(0.002, 0.010, 0.002):\n",
    "            \n",
    "            print(f'Variables: c0: {c0}, c1: {c1} and beta: {beta}')\n",
    "            forecast_pointer = 'player_forecast'+'_'+str(c0)+'_'+str(c1)+'_'+str(beta)\n",
    "            cell_start_time = time.time()\n",
    "            all_matches =  []\n",
    "            is_matches =  []\n",
    "            oos_matches =  []\n",
    "            \n",
    "            for network_index, network in enumerate(networks):\n",
    "                rps = RankProbabilityScore(outcomes=['home', 'draw', 'away'], forecast_name = forecast_pointer)\n",
    "                betting_returns = BettingReturnsEvaluator(outcomes=['home', 'draw', 'away'], player_name = 'b', true_model = 'true_forecast', bookmaker_name = 'bm')\n",
    "                betting_activity = BettingActivity(outcomes=['home', 'draw', 'away'], player_name = 'b')\n",
    "                likelihood = Likelihood(outcomes=['home', 'draw', 'away'], forecast_name = forecast_pointer)\n",
    "                difference = ProbabilityDifference(outcomes=['home', 'draw', 'away'], forecast_name = forecast_pointer)\n",
    "                draw_probability = ProbabilityPointer(outcomes=['home', 'draw', 'away'], forecast_name = forecast_pointer, probability_index=1)\n",
    "                fav_probability = FavouriteProbability(outcomes=['home', 'draw', 'away'], forecast_name = forecast_pointer)\n",
    "            \n",
    "                network.add_forecast(\n",
    "                forecast=LogFunctionForecast(outcomes=['home', 'draw', 'away'], coefficients=[c0, c1], beta_parameter=beta, home_team_error=rating_error, away_team_error=rating_error),\n",
    "                forecast_name=forecast_pointer,\n",
    "                base_ranking='true_rating'\n",
    "                )\n",
    "                \n",
    "                network.add_bets(\n",
    "                bettor_name='b',\n",
    "                bookmaker='bm',\n",
    "                betting=betting,\n",
    "                base_forecast=forecast_pointer\n",
    "                )\n",
    "            \n",
    "                network.add_evaluation([\n",
    "                    (rps, 'rps'),\n",
    "                    (betting_returns, 'betting_returns'),\n",
    "                    (betting_activity, 'betting_activity'),\n",
    "                    (likelihood, 'likelihood'),\n",
    "                    (difference, 'prob_diff'),\n",
    "                    (draw_probability, 'draw_prob'),\n",
    "                    (fav_probability, 'fav_prob')\n",
    "                ])\n",
    "                #network.serialize_network('economic_network')\n",
    "                \n",
    "                all_matches += [(a,h, match_id, match_attributes) for a,h, match_id, match_attributes in network.iterate_over_games()]\n",
    "                is_matches += [(a,h, match_id, match_attributes) for a,h, match_id, match_attributes in network.iterate_over_games() if match_attributes['season'] < 6]\n",
    "                oos_matches += [(a,h, match_id, match_attributes) for a,h, match_id, match_attributes in network.iterate_over_games() if match_attributes['season'] > 5]\n",
    "                \n",
    "            result_all = aggregate_measures(all_matches, 'all')\n",
    "            result_is = aggregate_measures(is_matches, 'is')\n",
    "            result_oos = aggregate_measures(oos_matches, 'oos')\n",
    "            network_values = entire_model_values[network_index]\n",
    "            result = {\n",
    "                'c0' : c0, 'c1' : c1, 'beta' : beta, **result_is, **result_oos, **result_all, **network_values\n",
    "            }\n",
    "            #print(len(all_matches))\n",
    "            result_list.append(result)\n",
    "            print(f\"Finished in {float(time.time() - cell_start_time)} seconds\")\n",
    "            \n",
    "                 \n",
    "            \n",
    "#network.export(forecasts = ['bookmaker_forecast', 'true_forecast', 'player_forecast'+'_'+str(c0)+'_'+str(c1)+'_'+str(beta)],\n",
    "#                      metrics = ['rps', 'betting_returns', 'loglikelihood'],\n",
    "#                      odds=['bm'])\n",
    "            \n",
    "            \n",
    "print(f\"Experiment finished in {float(time.time() - experiment_start_time)} seconds with {len(result_list)} observations.\")\n",
    "\n",
    "df = pd.DataFrame(result_list)\n",
    "df.to_excel(\"Results_Economics.xlsx\")\n",
    "            "
   ]
  },
  {
   "cell_type": "code",
   "execution_count": null,
   "metadata": {},
   "outputs": [],
   "source": []
  },
  {
   "cell_type": "code",
   "execution_count": null,
   "metadata": {},
   "outputs": [],
   "source": [
    "for a,h,m_id,attributes in network.iterate_over_games():\n",
    "    print([v for v in attributes['metrics']['betting_returns']])"
   ]
  },
  {
   "cell_type": "code",
   "execution_count": null,
   "metadata": {},
   "outputs": [],
   "source": []
  },
  {
   "cell_type": "code",
   "execution_count": null,
   "metadata": {},
   "outputs": [],
   "source": []
  }
 ],
 "metadata": {
  "kernelspec": {
   "display_name": "Python 3",
   "language": "python",
   "name": "python3"
  },
  "language_info": {
   "codemirror_mode": {
    "name": "ipython",
    "version": 3
   },
   "file_extension": ".py",
   "mimetype": "text/x-python",
   "name": "python",
   "nbconvert_exporter": "python",
   "pygments_lexer": "ipython3",
   "version": "3.7.7"
  }
 },
 "nbformat": 4,
 "nbformat_minor": 5
}