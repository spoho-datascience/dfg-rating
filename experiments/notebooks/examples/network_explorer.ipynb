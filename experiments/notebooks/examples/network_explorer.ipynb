{
 "cells": [
  {
   "cell_type": "code",
   "execution_count": 4,
   "id": "de785f00",
   "metadata": {},
   "outputs": [],
   "source": [
    "import os\n",
    "import pandas as pd\n",
    "\n",
    "from dfg_rating.model.network.multiple_network import LeagueNetwork\n",
    "from dfg_rating.model.network.simple_network import RoundRobinNetwork\n",
    "\n",
    "from dfg_rating.model.forecast.true_forecast import LogFunctionForecast\n",
    "from dfg_rating.model.rating.controlled_trend_rating import ControlledTrendRating, ControlledRandomFunction\n",
    "\n",
    "import dfg_rating.viz.jupyter_widgets as DFGWidgets"
   ]
  },
  {
   "cell_type": "code",
   "execution_count": null,
   "id": "275d5dc7",
   "metadata": {},
   "outputs": [],
   "source": [
    "multiple_network = LeagueNetwork(\n",
    "    teams=18,\n",
    "    seasons=7,\n",
    "    league_teams=18,\n",
    "    league_promotion=0,\n",
    "    days_between_rounds=3,\n",
    "    create=True\n",
    ")"
   ]
  },
  {
   "cell_type": "code",
   "execution_count": 21,
   "id": "7fa46077",
   "metadata": {},
   "outputs": [],
   "source": [
    "number_of_nodes=10"
   ]
  },
  {
   "cell_type": "code",
   "execution_count": 22,
   "id": "0b64b7ec",
   "metadata": {},
   "outputs": [],
   "source": [
    "rr_network = RoundRobinNetwork(\n",
    "    teams=number_of_nodes,\n",
    "    days_between_rounds=int(36000000 / (number_of_nodes * (number_of_nodes -1) * 2)),\n",
    "    true_forecast=LogFunctionForecast(\n",
    "        outcomes=['home', 'draw', 'away'],\n",
    "        coefficients=[-0.9, 0.3],\n",
    "        beta_parameter=0.006\n",
    "    ),\n",
    "    true_rating=ControlledTrendRating(\n",
    "        starting_point=ControlledRandomFunction(distribution='normal', loc=1000, scale=100),\n",
    "        delta=ControlledRandomFunction(distribution='normal', loc=0, scale=.1),\n",
    "        trend=ControlledRandomFunction(distribution='normal', loc=0, scale=0),\n",
    "        season_delta=ControlledRandomFunction(distribution='normal', loc=0, scale=0)\n",
    "    ),\n",
    ")"
   ]
  },
  {
   "cell_type": "code",
   "execution_count": null,
   "id": "f33fb8cd",
   "metadata": {},
   "outputs": [],
   "source": [
    "rr_network.get_rankings()"
   ]
  },
  {
   "cell_type": "code",
   "execution_count": 23,
   "id": "67c2f894",
   "metadata": {},
   "outputs": [],
   "source": [
    "ratings_app = DFGWidgets.RatingsExplorer(network=rr_network)"
   ]
  },
  {
   "cell_type": "code",
   "execution_count": 24,
   "id": "46dd75f7",
   "metadata": {},
   "outputs": [
    {
     "data": {
      "text/html": [
       "\n",
       "        <iframe\n",
       "            width=\"100%\"\n",
       "            height=\"650\"\n",
       "            src=\"http://127.0.0.1:8051/\"\n",
       "            frameborder=\"0\"\n",
       "            allowfullscreen\n",
       "        ></iframe>\n",
       "        "
      ],
      "text/plain": [
       "<IPython.lib.display.IFrame at 0x7f25d6568f60>"
      ]
     },
     "metadata": {},
     "output_type": "display_data"
    }
   ],
   "source": [
    "# inline or external\n",
    "ratings_app.run('inline', port=8051)"
   ]
  },
  {
   "cell_type": "code",
   "execution_count": null,
   "id": "57e1b2ef",
   "metadata": {},
   "outputs": [],
   "source": []
  }
 ],
 "metadata": {
  "kernelspec": {
   "display_name": "Python 3",
   "language": "python",
   "name": "python3"
  },
  "language_info": {
   "codemirror_mode": {
    "name": "ipython",
    "version": 3
   },
   "file_extension": ".py",
   "mimetype": "text/x-python",
   "name": "python",
   "nbconvert_exporter": "python",
   "pygments_lexer": "ipython3",
   "version": "3.6.10"
  }
 },
 "nbformat": 4,
 "nbformat_minor": 5
}
