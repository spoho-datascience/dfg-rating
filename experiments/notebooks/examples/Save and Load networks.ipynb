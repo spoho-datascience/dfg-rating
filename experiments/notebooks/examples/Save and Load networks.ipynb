{
 "cells": [
  {
   "cell_type": "markdown",
   "id": "a1a35799",
   "metadata": {},
   "source": [
    "# Save and Load networks"
   ]
  },
  {
   "cell_type": "markdown",
   "id": "030da964",
   "metadata": {},
   "source": [
    "Quick example on network creation, saving into database and loading it later"
   ]
  },
  {
   "cell_type": "markdown",
   "id": "2d5f2268",
   "metadata": {},
   "source": [
    "### Test data generation"
   ]
  },
  {
   "cell_type": "code",
   "execution_count": 1,
   "id": "e9a385f1",
   "metadata": {},
   "outputs": [],
   "source": [
    "import json\n",
    "from dfg_rating.db.postgres import PostgreSQLDriver\n",
    "from dfg_rating.logic.controller import Controller\n",
    "from dfg_rating.model import factory\n",
    "from dfg_rating.model.betting.betting import FixedBetting\n",
    "from dfg_rating.model.bookmaker.base_bookmaker import BaseBookmaker\n",
    "from dfg_rating.model.evaluators.accuracy import RankProbabilityScore\n",
    "from dfg_rating.model.evaluators.profitability import BettingReturnsEvaluator\n",
    "from dfg_rating.model.forecast.base_forecast import SimpleForecast\n",
    "from dfg_rating.model.network.base_network import BaseNetwork"
   ]
  },
  {
   "cell_type": "markdown",
   "id": "bb27f0f4",
   "metadata": {},
   "source": [
    "The main controller has functions for managing the db."
   ]
  },
  {
   "cell_type": "code",
   "execution_count": 2,
   "id": "cf650c94",
   "metadata": {},
   "outputs": [],
   "source": [
    "main_controller = Controller()"
   ]
  },
  {
   "cell_type": "markdown",
   "id": "404ad66c",
   "metadata": {},
   "source": [
    "Creating some test data"
   ]
  },
  {
   "cell_type": "code",
   "execution_count": null,
   "id": "bdae670f",
   "metadata": {},
   "outputs": [],
   "source": [
    "test_network: BaseNetwork = factory.new_network(\n",
    "    'multiple-round-robin', \n",
    "    teams=18, \n",
    "    days_between_rounds=3,\n",
    "    seasons=4,\n",
    "    league_teams=18,\n",
    "    league_promotion=0,\n",
    ")\n",
    "test_network.add_forecast(\n",
    "    forecast=SimpleForecast(outcomes=['home', 'draw', 'away'], probs=[0.4523, 0.2975, 0.2502]),\n",
    "    forecast_name='simple_forecast',\n",
    "    base_ranking='true_rating'\n",
    ")\n",
    "bookmaker: BaseBookmaker = factory.new_bookmaker(\n",
    "    'simple',\n",
    "    error=factory.new_forecast_error(error_type='factor', error=0.0, scope='positive'),\n",
    "    margin=factory.new_bookmaker_margin('simple', margin=-0.1)\n",
    ")\n",
    "test_network.add_odds(\"simple\", bookmaker, \"true_forecast\")\n",
    "betting = FixedBetting(1000)\n",
    "test_network.add_bets(\n",
    "    \"true_bettor\",\n",
    "    \"simple\",\n",
    "    betting,\n",
    "    \"simple_forecast\"\n",
    ")\n",
    "rps = RankProbabilityScore(outcomes=['home', 'draw', 'away'], forecast_name=\"simple_forecast\")\n",
    "betting_returns = BettingReturnsEvaluator(\n",
    "    outcomes=['home', 'draw', 'away'], bookmaker_name=\"simple\", player_name=\"true_bettor\", true_model=\"true_forecast\"\n",
    ")\n",
    "test_network.add_evaluation(\n",
    "    evaluators_list=[(rps, \"RPS_simple\"), (betting_returns, \"betting_returns_simple\")]\n",
    ")"
   ]
  },
  {
   "cell_type": "markdown",
   "id": "f25b9d90",
   "metadata": {},
   "source": [
    "Adding the network to the controller as *test_network*"
   ]
  },
  {
   "cell_type": "code",
   "execution_count": null,
   "id": "92e8ed97",
   "metadata": {},
   "outputs": [],
   "source": [
    "main_controller.networks[\"test\"] = test_network"
   ]
  },
  {
   "cell_type": "markdown",
   "id": "b4b32e7f",
   "metadata": {},
   "source": [
    "Saving network"
   ]
  },
  {
   "cell_type": "code",
   "execution_count": null,
   "id": "518b0b1e",
   "metadata": {},
   "outputs": [],
   "source": [
    "main_controller.save_network(\"test\")"
   ]
  },
  {
   "cell_type": "code",
   "execution_count": 3,
   "id": "17a269eb",
   "metadata": {},
   "outputs": [
    {
     "name": "stdout",
     "output_type": "stream",
     "text": [
      "('PostgreSQL 12.8 (Ubuntu 12.8-0ubuntu0.20.04.1) on x86_64-pc-linux-gnu, compiled by gcc (Ubuntu 9.3.0-17ubuntu1~20.04) 9.3.0, 64-bit',)\n",
      "dfg_rating database exists. Loading database\n",
      "Total of 1224 matches.\n",
      "Total of 2448 forecasts.\n",
      "Total of 1278 ratings.\n",
      "Total of 1224 odds.\n",
      "Total of 1224 bets.\n",
      "Total of 2448 metrics.\n",
      "Warning: Forecast probabilities should sum 1\n",
      "Warning: Forecast probabilities should sum 1\n",
      "Warning: Forecast probabilities should sum 1\n",
      "Warning: Forecast probabilities should sum 1\n",
      "Warning: Forecast probabilities should sum 1\n",
      "Warning: Forecast probabilities should sum 1\n",
      "Warning: Forecast probabilities should sum 1\n",
      "Warning: Forecast probabilities should sum 1\n",
      "Warning: Forecast probabilities should sum 1\n",
      "Warning: Forecast probabilities should sum 1\n",
      "Warning: Forecast probabilities should sum 1\n",
      "Warning: Forecast probabilities should sum 1\n",
      "Warning: Forecast probabilities should sum 1\n",
      "Warning: Forecast probabilities should sum 1\n",
      "Warning: Forecast probabilities should sum 1\n",
      "Warning: Forecast probabilities should sum 1\n",
      "Warning: Forecast probabilities should sum 1\n",
      "Warning: Forecast probabilities should sum 1\n",
      "Warning: Forecast probabilities should sum 1\n",
      "Warning: Forecast probabilities should sum 1\n",
      "Warning: Forecast probabilities should sum 1\n",
      "Warning: Forecast probabilities should sum 1\n",
      "Warning: Forecast probabilities should sum 1\n",
      "Warning: Forecast probabilities should sum 1\n",
      "Warning: Forecast probabilities should sum 1\n",
      "Warning: Forecast probabilities should sum 1\n",
      "Warning: Forecast probabilities should sum 1\n",
      "Warning: Forecast probabilities should sum 1\n",
      "Warning: Forecast probabilities should sum 1\n",
      "Warning: Forecast probabilities should sum 1\n",
      "Warning: Forecast probabilities should sum 1\n",
      "Warning: Forecast probabilities should sum 1\n",
      "Warning: Forecast probabilities should sum 1\n",
      "Warning: Forecast probabilities should sum 1\n",
      "Warning: Forecast probabilities should sum 1\n",
      "Warning: Forecast probabilities should sum 1\n",
      "Warning: Forecast probabilities should sum 1\n",
      "Warning: Forecast probabilities should sum 1\n",
      "Warning: Forecast probabilities should sum 1\n",
      "Warning: Forecast probabilities should sum 1\n",
      "Warning: Forecast probabilities should sum 1\n",
      "Warning: Forecast probabilities should sum 1\n",
      "Warning: Forecast probabilities should sum 1\n",
      "Warning: Forecast probabilities should sum 1\n",
      "Warning: Forecast probabilities should sum 1\n",
      "Warning: Forecast probabilities should sum 1\n",
      "Warning: Forecast probabilities should sum 1\n",
      "Warning: Forecast probabilities should sum 1\n",
      "Warning: Forecast probabilities should sum 1\n",
      "['0', '9', '1', '10', '2', '11', '3', '12', '4', '13', '5', '14', '6', '15', '7', '16', '8', '17']\n"
     ]
    },
    {
     "data": {
      "text/plain": [
       "(1, 'Network loaded correctly')"
      ]
     },
     "execution_count": 3,
     "metadata": {},
     "output_type": "execute_result"
    }
   ],
   "source": [
    "main_controller.load_network_from_sql(network_name=\"test\", new_network_name=\"read_test\")"
   ]
  },
  {
   "cell_type": "code",
   "execution_count": 5,
   "id": "11d8fa0f",
   "metadata": {},
   "outputs": [
    {
     "data": {
      "text/plain": [
       "dict_keys(['read_test'])"
      ]
     },
     "execution_count": 5,
     "metadata": {},
     "output_type": "execute_result"
    }
   ],
   "source": [
    "main_controller.networks.keys()"
   ]
  },
  {
   "cell_type": "code",
   "execution_count": 6,
   "id": "696c537b",
   "metadata": {},
   "outputs": [],
   "source": [
    "import dfg_rating.viz.jupyter_widgets as DFGWidgets"
   ]
  },
  {
   "cell_type": "code",
   "execution_count": 7,
   "id": "ea361f8c",
   "metadata": {},
   "outputs": [],
   "source": [
    "#test_app = DFGWidgets.NetworkExplorer(network=main_controller.networks['test'])\n",
    "read_app = DFGWidgets.NetworkExplorer(network=main_controller.networks['read_test'])"
   ]
  },
  {
   "cell_type": "code",
   "execution_count": 10,
   "id": "b11c7ef8",
   "metadata": {},
   "outputs": [
    {
     "data": {
      "text/html": [
       "\n",
       "        <iframe\n",
       "            width=\"100%\"\n",
       "            height=\"650\"\n",
       "            src=\"http://127.0.0.1:8051/\"\n",
       "            frameborder=\"0\"\n",
       "            allowfullscreen\n",
       "        ></iframe>\n",
       "        "
      ],
      "text/plain": [
       "<IPython.lib.display.IFrame at 0x7f5533d692e8>"
      ]
     },
     "metadata": {},
     "output_type": "display_data"
    }
   ],
   "source": [
    "read_app.run('inline', port=8051)"
   ]
  }
 ],
 "metadata": {
  "kernelspec": {
   "display_name": "Python 3",
   "language": "python",
   "name": "python3"
  },
  "language_info": {
   "codemirror_mode": {
    "name": "ipython",
    "version": 3
   },
   "file_extension": ".py",
   "mimetype": "text/x-python",
   "name": "python",
   "nbconvert_exporter": "python",
   "pygments_lexer": "ipython3",
   "version": "3.6.10"
  }
 },
 "nbformat": 4,
 "nbformat_minor": 5
}
