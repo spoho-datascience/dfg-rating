{
 "cells": [
  {
   "cell_type": "code",
   "execution_count": 1,
   "id": "fc47fab6",
   "metadata": {},
   "outputs": [],
   "source": [
    "import os\n",
    "import pandas as pd\n",
    "\n",
    "from dfg_rating.model.network.base_network import WhiteNetwork\n",
    "\n",
    "import dfg_rating.viz.jupyter_widgets as DFGWidgets"
   ]
  },
  {
   "cell_type": "code",
   "execution_count": 2,
   "id": "7f6f5836",
   "metadata": {},
   "outputs": [
    {
     "name": "stdout",
     "output_type": "stream",
     "text": [
      "Network loaded correctly\n"
     ]
    }
   ],
   "source": [
    "tennis_network = WhiteNetwork(\n",
    "    data=pd.read_csv(os.path.join('..', '..', 'data', 'real', 'ATP_Network_2010_2019.csv')),\n",
    "    mapping={\n",
    "        \"node1\": {\n",
    "            \"id\": \"WinnerID\",\n",
    "            \"name\": \"Winner\",\n",
    "            \"rankings\": {\n",
    "                \"rank\": \"WRank\",\n",
    "                \"Pts\": \"WPts\"\n",
    "            }\n",
    "        },\n",
    "        \"node2\": {\n",
    "            \"id\": \"LoserID\",\n",
    "            \"name\": \"Loser\",\n",
    "            \"rankings\": {\n",
    "                \"rank\": \"LRank\",\n",
    "                \"Pts\": \"LPts\"\n",
    "            }\n",
    "        },\n",
    "        \"day\": \"Date\",\n",
    "        \"dayIsTimestamp\": True,\n",
    "        \"round\": \"Round\",\n",
    "        \"season\": \"Year\",\n",
    "        \"forecasts\": {},\n",
    "        \"odds\": {\n",
    "            \"b365\": {\n",
    "                \"node1\": \"B365W\",\n",
    "                \"node2\": \"B365L\"\n",
    "            }\n",
    "        },\n",
    "        \"bets\": {}\n",
    "    }\n",
    ")"
   ]
  },
  {
   "cell_type": "code",
   "execution_count": 3,
   "id": "7b68c2d1",
   "metadata": {},
   "outputs": [],
   "source": [
    "ratings_app = DFGWidgets.RatingsExplorer(network=tennis_network)"
   ]
  },
  {
   "cell_type": "code",
   "execution_count": 6,
   "id": "3778d828",
   "metadata": {},
   "outputs": [
    {
     "name": "stdout",
     "output_type": "stream",
     "text": [
      "Dash app running on http://127.0.0.1:8050/\n"
     ]
    }
   ],
   "source": [
    "# inline or external\n",
    "ratings_app.run('external')"
   ]
  },
  {
   "cell_type": "code",
   "execution_count": 7,
   "id": "4d375120",
   "metadata": {},
   "outputs": [],
   "source": [
    "base_app = DFGWidgets.BaseWidget()\n",
    "base_app.run('jupyterlab')"
   ]
  },
  {
   "cell_type": "code",
   "execution_count": null,
   "id": "db016207",
   "metadata": {},
   "outputs": [],
   "source": []
  }
 ],
 "metadata": {
  "kernelspec": {
   "display_name": "Python 3",
   "language": "python",
   "name": "python3"
  },
  "language_info": {
   "codemirror_mode": {
    "name": "ipython",
    "version": 3
   },
   "file_extension": ".py",
   "mimetype": "text/x-python",
   "name": "python",
   "nbconvert_exporter": "python",
   "pygments_lexer": "ipython3",
   "version": "3.6.10"
  }
 },
 "nbformat": 4,
 "nbformat_minor": 5
}
