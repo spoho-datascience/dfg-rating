{
 "cells": [
  {
   "cell_type": "code",
   "execution_count": 1,
   "id": "b104a285",
   "metadata": {},
   "outputs": [],
   "source": [
    "import os\n",
    "import pandas as pd\n",
    "\n",
    "from dfg_rating.model.network.base_network import WhiteNetwork\n",
    "from dfg_rating.model.network.multiple_network import LeagueNetwork\n",
    "from dfg_rating.model.network.simple_network import RoundRobinNetwork\n",
    "\n",
    "import dfg_rating.viz.jupyter_widgets as DFGWidgets"
   ]
  },
  {
   "cell_type": "code",
   "execution_count": 2,
   "id": "355aa8ed",
   "metadata": {},
   "outputs": [
    {
     "name": "stdout",
     "output_type": "stream",
     "text": [
      "Network loaded correctly\n"
     ]
    }
   ],
   "source": [
    "tennis_real_network = WhiteNetwork(\n",
    "    data=pd.read_csv('/home/marc/Development/dshs/dfg-rating/data/real/ATP_Network_2010_2019.csv'),\n",
    "    mapping={\n",
    "        \"node1\": {\n",
    "            \"id\": \"WinnerID\",\n",
    "            \"name\": \"Winner\",\n",
    "            \"ratings\": {\n",
    "                \"rank\": \"WRank\",\n",
    "                \"Pts\": \"WPts\"\n",
    "            }\n",
    "        },\n",
    "        \"node2\": {\n",
    "            \"id\": \"LoserID\",\n",
    "            \"name\": \"Loser\",\n",
    "            \"ratings\": {\n",
    "                \"rank\": \"LRank\",\n",
    "                \"Pts\": \"LPts\"\n",
    "            }\n",
    "        },\n",
    "        \"day\": \"Date\",\n",
    "        \"dayIsTimestamp\": True,\n",
    "        \"round\": \"Round\",\n",
    "        \"season\": \"Year\",\n",
    "        \"forecasts\": {},\n",
    "        \"odds\": {\n",
    "            \"b365\": {\n",
    "                \"node1\": \"B365W\",\n",
    "                \"node2\": \"B365L\"\n",
    "            }\n",
    "        },\n",
    "        \"bets\": {}\n",
    "    }\n",
    ")"
   ]
  },
  {
   "cell_type": "code",
   "execution_count": 3,
   "id": "7b4091b1",
   "metadata": {},
   "outputs": [
    {
     "name": "stdout",
     "output_type": "stream",
     "text": [
      "Season 0\n",
      "0\n",
      "Relegation candidates {7: 3.0, 9: 8.0, 1: 12.0, 16: 13.0, 8: 16.0, 4: 17.0}\n",
      "Relegation teams []\n",
      "Season 1\n",
      "1\n",
      "Relegation candidates {16: 8.0, 7: 9.0, 4: 11.0, 17: 14.0, 1: 14.0, 12: 15.0}\n",
      "Relegation teams []\n",
      "Season 2\n",
      "2\n",
      "Relegation candidates {16: 5.0, 7: 9.0, 17: 14.0, 1: 16.0, 12: 16.0, 13: 16.0}\n",
      "Relegation teams []\n",
      "Season 3\n",
      "3\n",
      "Relegation candidates {9: 5.0, 1: 9.0, 7: 9.0, 12: 11.0, 16: 12.0, 17: 19.0}\n",
      "Relegation teams []\n",
      "Season 4\n",
      "4\n",
      "Relegation candidates {3: 7.0, 9: 11.0, 16: 11.0, 5: 14.0, 12: 16.0, 8: 17.0}\n",
      "Relegation teams []\n",
      "Season 5\n",
      "5\n",
      "Relegation candidates {9: 5.0, 1: 15.0, 7: 15.0, 8: 16.0, 0: 17.0, 12: 17.0}\n",
      "Relegation teams []\n",
      "Season 6\n",
      "6\n",
      "Relegation candidates {3: 12.0, 1: 13.0, 5: 13.0, 16: 14.0, 8: 15.0, 7: 16.0}\n",
      "Relegation teams []\n"
     ]
    }
   ],
   "source": [
    "multiple_network = LeagueNetwork(\n",
    "    teams=18,\n",
    "    seasons=7,\n",
    "    league_teams=18,\n",
    "    league_promotion=0,\n",
    "    days_between_rounds=3,\n",
    "    create=True\n",
    ")"
   ]
  },
  {
   "cell_type": "code",
   "execution_count": 4,
   "id": "a6ac7c74",
   "metadata": {},
   "outputs": [
    {
     "name": "stdout",
     "output_type": "stream",
     "text": [
      "None\n"
     ]
    },
    {
     "data": {
      "text/plain": [
       "True"
      ]
     },
     "execution_count": 4,
     "metadata": {},
     "output_type": "execute_result"
    }
   ],
   "source": [
    "rr_network = RoundRobinNetwork(\n",
    "    teams=6,\n",
    "    days_between_rounds=3\n",
    ")\n",
    "rr_network.create_data()"
   ]
  },
  {
   "cell_type": "code",
   "execution_count": 9,
   "id": "45ecbabd",
   "metadata": {},
   "outputs": [],
   "source": [
    "ratings_app = DFGWidgets.RatingsExplorer(network=multiple_network)"
   ]
  },
  {
   "cell_type": "code",
   "execution_count": 10,
   "id": "fc4131ac",
   "metadata": {},
   "outputs": [
    {
     "data": {
      "text/html": [
       "\n",
       "        <iframe\n",
       "            width=\"100%\"\n",
       "            height=\"650\"\n",
       "            src=\"http://127.0.0.1:8051/\"\n",
       "            frameborder=\"0\"\n",
       "            allowfullscreen\n",
       "        ></iframe>\n",
       "        "
      ],
      "text/plain": [
       "<IPython.lib.display.IFrame at 0x7f66ab9afb00>"
      ]
     },
     "metadata": {},
     "output_type": "display_data"
    }
   ],
   "source": [
    "# inline or external\n",
    "ratings_app.run('inline', port=8051)"
   ]
  },
  {
   "cell_type": "code",
   "execution_count": null,
   "id": "b65a0ee9",
   "metadata": {},
   "outputs": [],
   "source": []
  }
 ],
 "metadata": {
  "kernelspec": {
   "display_name": "Python 3",
   "language": "python",
   "name": "python3"
  },
  "language_info": {
   "codemirror_mode": {
    "name": "ipython",
    "version": 3
   },
   "file_extension": ".py",
   "mimetype": "text/x-python",
   "name": "python",
   "nbconvert_exporter": "python",
   "pygments_lexer": "ipython3",
   "version": "3.6.10"
  }
 },
 "nbformat": 4,
 "nbformat_minor": 5
}
