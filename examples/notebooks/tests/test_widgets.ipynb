{
 "cells": [
  {
   "cell_type": "code",
   "execution_count": 1,
   "id": "ead91a71",
   "metadata": {},
   "outputs": [],
   "source": [
    "import os\n",
    "import pandas as pd\n",
    "\n",
    "from dfg_rating.model.network.base_network import WhiteNetwork\n",
    "from dfg_rating.model.network.multiple_network import LeagueNetwork\n",
    "from dfg_rating.model.network.simple_network import RoundRobinNetwork\n",
    "\n",
    "import dfg_rating.viz.jupyter_widgets as DFGWidgets"
   ]
  },
  {
   "cell_type": "code",
   "execution_count": 2,
   "id": "180c7142",
   "metadata": {},
   "outputs": [
    {
     "name": "stdout",
     "output_type": "stream",
     "text": [
      "Network loaded correctly\n"
     ]
    }
   ],
   "source": [
    "tennis_real_network = WhiteNetwork(\n",
    "    data=pd.read_csv('/home/marc/Development/dshs/dfg-rating/data/real/ATP_Network_2010_2019.csv'),\n",
    "    mapping={\n",
    "        \"node1\": {\n",
    "            \"id\": \"WinnerID\",\n",
    "            \"name\": \"Winner\",\n",
    "            \"ratings\": {\n",
    "                \"rank\": \"WRank\",\n",
    "                \"Pts\": \"WPts\"\n",
    "            }\n",
    "        },\n",
    "        \"node2\": {\n",
    "            \"id\": \"LoserID\",\n",
    "            \"name\": \"Loser\",\n",
    "            \"ratings\": {\n",
    "                \"rank\": \"LRank\",\n",
    "                \"Pts\": \"LPts\"\n",
    "            }\n",
    "        },\n",
    "        \"day\": \"Date\",\n",
    "        \"dayIsTimestamp\": True,\n",
    "        \"round\": \"Round\",\n",
    "        \"season\": \"Year\",\n",
    "        \"forecasts\": {},\n",
    "        \"odds\": {\n",
    "            \"b365\": {\n",
    "                \"node1\": \"B365W\",\n",
    "                \"node2\": \"B365L\"\n",
    "            }\n",
    "        },\n",
    "        \"bets\": {}\n",
    "    }\n",
    ")"
   ]
  },
  {
   "cell_type": "code",
   "execution_count": 3,
   "id": "233c22a7",
   "metadata": {},
   "outputs": [
    {
     "name": "stdout",
     "output_type": "stream",
     "text": [
      "Season 0\n",
      "0\n",
      "Relegation candidates {2: 6.0, 11: 7.0, 6: 11.0, 16: 13.0, 8: 15.0, 5: 16.0}\n",
      "Relegation teams []\n",
      "Season 1\n",
      "1\n",
      "Relegation candidates {6: 6.0, 2: 6.0, 5: 12.0, 16: 14.0, 11: 16.0, 13: 17.0}\n",
      "Relegation teams []\n",
      "Season 2\n",
      "2\n",
      "Relegation candidates {2: 7.0, 6: 8.0, 5: 11.0, 10: 14.0, 11: 17.0, 3: 21.0}\n",
      "Relegation teams []\n",
      "Season 3\n",
      "3\n",
      "Relegation candidates {2: 3.0, 6: 10.0, 10: 13.0, 12: 13.0, 11: 14.0, 8: 15.0}\n",
      "Relegation teams []\n",
      "Season 4\n",
      "4\n",
      "Relegation candidates {6: 8.0, 2: 9.0, 5: 11.0, 11: 13.0, 10: 16.0, 12: 17.0}\n",
      "Relegation teams []\n",
      "Season 5\n",
      "5\n",
      "Relegation candidates {2: 3.0, 6: 6.0, 8: 14.0, 10: 15.0, 11: 15.0, 3: 15.0}\n",
      "Relegation teams []\n",
      "Season 6\n",
      "6\n",
      "Relegation candidates {6: 1.0, 13: 8.0, 2: 10.0, 8: 11.0, 11: 13.0, 5: 15.0}\n",
      "Relegation teams []\n"
     ]
    }
   ],
   "source": [
    "multiple_network = LeagueNetwork(\n",
    "    teams=18,\n",
    "    seasons=7,\n",
    "    league_teams=18,\n",
    "    league_promotion=0,\n",
    "    days_between_rounds=3,\n",
    "    create=True\n",
    ")"
   ]
  },
  {
   "cell_type": "code",
   "execution_count": 4,
   "id": "af214b1e",
   "metadata": {},
   "outputs": [
    {
     "name": "stdout",
     "output_type": "stream",
     "text": [
      "None\n"
     ]
    },
    {
     "data": {
      "text/plain": [
       "True"
      ]
     },
     "execution_count": 4,
     "metadata": {},
     "output_type": "execute_result"
    }
   ],
   "source": [
    "rr_network = RoundRobinNetwork(\n",
    "    teams=6,\n",
    "    days_between_rounds=3\n",
    ")\n",
    "rr_network.create_data()"
   ]
  },
  {
   "cell_type": "code",
   "execution_count": 5,
   "id": "ee1d30a2",
   "metadata": {},
   "outputs": [],
   "source": [
    "ratings_app = DFGWidgets.RatingsExplorer(network=multiple_network)"
   ]
  },
  {
   "cell_type": "code",
   "execution_count": 7,
   "id": "ffcc9d5a",
   "metadata": {},
   "outputs": [],
   "source": [
    "network_explorer = DFGWidgets.NetworkExplorer(network=tennis_real_network)"
   ]
  },
  {
   "cell_type": "code",
   "execution_count": 10,
   "id": "f7d8750d",
   "metadata": {},
   "outputs": [
    {
     "data": {
      "text/html": [
       "\n",
       "        <iframe\n",
       "            width=\"100%\"\n",
       "            height=\"650\"\n",
       "            src=\"http://127.0.0.1:8051/\"\n",
       "            frameborder=\"0\"\n",
       "            allowfullscreen\n",
       "        ></iframe>\n",
       "        "
      ],
      "text/plain": [
       "<IPython.lib.display.IFrame at 0x7f1d7dc32550>"
      ]
     },
     "metadata": {},
     "output_type": "display_data"
    }
   ],
   "source": [
    "# inline or external\n",
    "ratings_app.run('inline', port=8051)"
   ]
  },
  {
   "cell_type": "code",
   "execution_count": 9,
   "id": "5971994b",
   "metadata": {},
   "outputs": [
    {
     "data": {
      "text/html": [
       "\n",
       "        <iframe\n",
       "            width=\"100%\"\n",
       "            height=\"650\"\n",
       "            src=\"http://127.0.0.1:8050/\"\n",
       "            frameborder=\"0\"\n",
       "            allowfullscreen\n",
       "        ></iframe>\n",
       "        "
      ],
      "text/plain": [
       "<IPython.lib.display.IFrame at 0x7f1d7dca5748>"
      ]
     },
     "metadata": {},
     "output_type": "display_data"
    }
   ],
   "source": [
    "network_explorer.run('inline')"
   ]
  },
  {
   "cell_type": "code",
   "execution_count": null,
   "id": "744a1c3a",
   "metadata": {},
   "outputs": [],
   "source": []
  }
 ],
 "metadata": {
  "kernelspec": {
   "display_name": "Python 3",
   "language": "python",
   "name": "python3"
  },
  "language_info": {
   "codemirror_mode": {
    "name": "ipython",
    "version": 3
   },
   "file_extension": ".py",
   "mimetype": "text/x-python",
   "name": "python",
   "nbconvert_exporter": "python",
   "pygments_lexer": "ipython3",
   "version": "3.6.10"
  }
 },
 "nbformat": 4,
 "nbformat_minor": 5
}
